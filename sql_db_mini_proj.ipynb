{
 "cells": [
  {
   "cell_type": "markdown",
   "metadata": {
    "id": "GqRHYruYMnzt"
   },
   "source": [
    "Drake Wagner - dbw2tn"
   ]
  },
  {
   "cell_type": "code",
   "execution_count": 2,
   "metadata": {
    "id": "UrLZCl4f77OW"
   },
   "outputs": [],
   "source": [
    "import sqlite3"
   ]
  },
  {
   "cell_type": "markdown",
   "metadata": {
    "id": "20JRLgI177Oe"
   },
   "source": [
    "## Creating the Database Structure\n",
    "\n",
    "### Tables:\n",
    "**team**(<u>teamID</u>, name, city)\n",
    "\n",
    "**player**(<u>name, team, number</u>, position)\n",
    "\n",
    "**coach**(<u>team</u>, name, nationality)\n",
    "\n",
    "**stadium**(<u>home_team</u>, name, city, surface_type, capacity)\n",
    "\n",
    "**match**(<u>date, home_team, away_team</u>, stadium, home_team_score, away_team_score)"
   ]
  },
  {
   "cell_type": "code",
   "execution_count": 3,
   "metadata": {
    "id": "8pwO4ihB77Of"
   },
   "outputs": [],
   "source": [
    "conn = sqlite3.connect('soccer.db')\n",
    "cursor = conn.cursor()"
   ]
  },
  {
   "cell_type": "code",
   "execution_count": 4,
   "metadata": {
    "colab": {
     "base_uri": "https://localhost:8080/"
    },
    "id": "PPSWCnI877Og",
    "outputId": "dc0d79e2-0851-4a22-8416-0ef91616c08c"
   },
   "outputs": [
    {
     "data": {
      "text/plain": [
       "<sqlite3.Cursor at 0x186510e4730>"
      ]
     },
     "execution_count": 4,
     "metadata": {},
     "output_type": "execute_result"
    }
   ],
   "source": [
    "# create team table\n",
    "cursor.execute('''create table team(\n",
    "                teamID text,\n",
    "                name text,\n",
    "                city text,\n",
    "                primary key (teamID))''')"
   ]
  },
  {
   "cell_type": "code",
   "execution_count": 5,
   "metadata": {
    "colab": {
     "base_uri": "https://localhost:8080/"
    },
    "id": "ZskNyE-a77Oh",
    "outputId": "fcac7712-c772-49bb-cdaa-931de0409b0c"
   },
   "outputs": [
    {
     "data": {
      "text/plain": [
       "<sqlite3.Cursor at 0x186510e4730>"
      ]
     },
     "execution_count": 5,
     "metadata": {},
     "output_type": "execute_result"
    }
   ],
   "source": [
    "# create player table\n",
    "cursor.execute('''create table player(\n",
    "                name text,\n",
    "                team text,\n",
    "                number int,\n",
    "                position text,\n",
    "                primary key (name, team, number),\n",
    "                foreign key (team) references team(teamID))''')"
   ]
  },
  {
   "cell_type": "code",
   "execution_count": 6,
   "metadata": {
    "colab": {
     "base_uri": "https://localhost:8080/"
    },
    "id": "oLNLaK1G77Oh",
    "outputId": "ba11a095-00b0-4939-bdc2-6bff1b62845f"
   },
   "outputs": [
    {
     "data": {
      "text/plain": [
       "<sqlite3.Cursor at 0x186510e4730>"
      ]
     },
     "execution_count": 6,
     "metadata": {},
     "output_type": "execute_result"
    }
   ],
   "source": [
    "# create coach table\n",
    "cursor.execute('''create table coach(\n",
    "                name text,\n",
    "                team text,\n",
    "                nationality text,\n",
    "                primary key (team),\n",
    "                foreign key (team) references team(teamID))''')"
   ]
  },
  {
   "cell_type": "code",
   "execution_count": 7,
   "metadata": {
    "colab": {
     "base_uri": "https://localhost:8080/"
    },
    "id": "pfA8JILc77Oi",
    "outputId": "7b665c61-5518-441d-bdfc-1ceb3d0c4555"
   },
   "outputs": [
    {
     "data": {
      "text/plain": [
       "<sqlite3.Cursor at 0x186510e4730>"
      ]
     },
     "execution_count": 7,
     "metadata": {},
     "output_type": "execute_result"
    }
   ],
   "source": [
    "# create stadium table\n",
    "cursor.execute('''create table stadium(\n",
    "                name text,\n",
    "                city text,\n",
    "                home_team text,\n",
    "                surface_type text,\n",
    "                capacity int,\n",
    "                primary key (home_team),\n",
    "                foreign key (home_team) references team(teamID))''')"
   ]
  },
  {
   "cell_type": "code",
   "execution_count": 8,
   "metadata": {
    "colab": {
     "base_uri": "https://localhost:8080/"
    },
    "id": "ltjMlwIN77Oj",
    "outputId": "38433069-4ba5-4678-a8e2-9522d4856ace"
   },
   "outputs": [
    {
     "data": {
      "text/plain": [
       "<sqlite3.Cursor at 0x186510e4730>"
      ]
     },
     "execution_count": 8,
     "metadata": {},
     "output_type": "execute_result"
    }
   ],
   "source": [
    "# create match table\n",
    "cursor.execute('''create table match(\n",
    "                home_team text,\n",
    "                away_team text,\n",
    "                date date,\n",
    "                home_team_score int,\n",
    "                away_team_score int,\n",
    "                attendance int,\n",
    "                primary key (date, home_team, away_team),\n",
    "                foreign key (home_team) references stadium(home_team),\n",
    "                foreign key (away_team) references team(teamID))''')"
   ]
  },
  {
   "cell_type": "code",
   "execution_count": 9,
   "metadata": {
    "colab": {
     "base_uri": "https://localhost:8080/"
    },
    "id": "6ucEa3sh77Oj",
    "outputId": "7c65e5e0-a7cf-4794-d271-dc14c5c9de90"
   },
   "outputs": [
    {
     "data": {
      "text/plain": [
       "<sqlite3.Cursor at 0x186510e4730>"
      ]
     },
     "execution_count": 9,
     "metadata": {},
     "output_type": "execute_result"
    }
   ],
   "source": [
    "# create commits_foul relation table\n",
    "cursor.execute('''create table commits_foul(\n",
    "                player text,\n",
    "                number int,\n",
    "                team text,\n",
    "                match_date date,\n",
    "                home_team text,\n",
    "                away_team text,\n",
    "                time int,\n",
    "                card text,\n",
    "                primary key (time, match_date, home_team, away_team),\n",
    "                foreign key (player, number, team) references player(name, number, team),\n",
    "                foreign key (match_date, home_team, away_team) references match(date, home_team, away_team))''')"
   ]
  },
  {
   "cell_type": "code",
   "execution_count": 10,
   "metadata": {
    "colab": {
     "base_uri": "https://localhost:8080/"
    },
    "id": "ZJpta0yV77Ok",
    "outputId": "b33c2a86-9e86-4b9b-d7cc-9af17db59737"
   },
   "outputs": [
    {
     "data": {
      "text/plain": [
       "<sqlite3.Cursor at 0x186510e4730>"
      ]
     },
     "execution_count": 10,
     "metadata": {},
     "output_type": "execute_result"
    }
   ],
   "source": [
    "# create scores_goal relation table\n",
    "cursor.execute('''create table scores_goal(\n",
    "                player text,\n",
    "                number int,\n",
    "                team text,\n",
    "                match_date date,\n",
    "                home_team text,\n",
    "                away_team text,\n",
    "                time int,\n",
    "                primary key (time, match_date, home_team, away_team),\n",
    "                foreign key (player, number, team) references player(name, number, team),\n",
    "                foreign key (match_date, home_team, away_team) references match(date, home_team, away_team))''')"
   ]
  },
  {
   "cell_type": "markdown",
   "metadata": {
    "id": "nnPx9bNz77Ok"
   },
   "source": [
    "## Input data into database\n",
    "### Web scraping"
   ]
  },
  {
   "cell_type": "code",
   "execution_count": 12,
   "metadata": {
    "id": "whyag_jT77Ol"
   },
   "outputs": [],
   "source": [
    "# scrape list of teams from MLS website, with links to rosters and team info\n",
    "\n",
    "import requests\n",
    "from bs4 import BeautifulSoup\n",
    "import pandas as pd\n",
    "\n",
    "clublist_url = \"https://www.mlssoccer.com/clubs/\"\n",
    "clublist = requests.get(clublist_url)\n",
    "clublist_soup = BeautifulSoup(clublist.content, 'html.parser')"
   ]
  },
  {
   "cell_type": "code",
   "execution_count": 14,
   "metadata": {
    "id": "pRxK23jR77Ol"
   },
   "outputs": [],
   "source": [
    "# collect data for players in a dataframe\n",
    "\n",
    "playerdata = pd.DataFrame(columns = [\"Name\", \"Team\", \"Number\", \"Position\"])\n",
    "club_names = []\n",
    "club_ids = []\n",
    "import json\n",
    "\n",
    "for element in clublist_soup.find_all('div', {'class': 'mls-o-clubs-hub-clubs-list__club-name'}):\n",
    "    club_names.append(element.contents[1].contents[0])\n",
    "\n",
    "for element in clublist_soup.find_all('div', {'class': 'mls-o-clubs-hub-clubs-list__club-links'}):\n",
    "    roster_url = \"https://www.mlssoccer.com\" + element.contents[1].attrs['href'] + \"roster/\"\n",
    "    roster = requests.get(roster_url)\n",
    "    roster_soup = BeautifulSoup(roster.content, 'html.parser')\n",
    "    \n",
    "    for element in roster_soup.find_all('section', {'class': \"mls-l-module mls-l-module--active-roster\"}):\n",
    "        club_info = json.loads(element[\"data-options\"])\n",
    "        for player in club_info[\"playersData\"]:\n",
    "            name = player[\"fullName\"]\n",
    "            team = club_info[\"clubAbbreviation\"]\n",
    "            number = player[\"jerseyNumber\"]\n",
    "            position = player[\"position\"]\n",
    "            playerdata = playerdata.append(pd.DataFrame([[name, team, number, position]], columns = [\"Name\", \"Team\", \"Number\", \"Position\"]))\n",
    "            \n",
    "    club_ids.append(club_info[\"clubAbbreviation\"])\n",
    "        \n",
    "playerdata.reset_index(inplace=True)"
   ]
  },
  {
   "cell_type": "code",
   "execution_count": 15,
   "metadata": {
    "id": "Kp7fR8bV77Om"
   },
   "outputs": [],
   "source": [
    "# use dataframe to populate database\n",
    "\n",
    "for i in range(len(playerdata)):\n",
    "    if i == 510: # there is a duplicate value in this row\n",
    "        continue\n",
    "    sql = '''insert into player\n",
    "             (name, team, number, position)\n",
    "             values\n",
    "             (:name, :team, :number, :position)'''\n",
    "    cursor.execute(sql, {'name':playerdata[\"Name\"][i], 'team':playerdata[\"Team\"][i], 'number':playerdata[\"Number\"][i], 'position':playerdata[\"Position\"][i]})\n",
    "    \n",
    "    conn.commit()"
   ]
  },
  {
   "cell_type": "code",
   "execution_count": 16,
   "metadata": {
    "id": "fE3469yi77On"
   },
   "outputs": [],
   "source": [
    "# manually create list of home cities (not easily accessible on MLS website)\n",
    "\n",
    "cities = [\"Atlanta\", \"Austin\", \"Chicago\", \"Cincinnati\", \"Denver\", \"Columbus\", \"Washington\", \"Dallas\", \"Houston\", \"Kansas City\", \"Los Angeles\", \"Los Angeles\", \"Miami\", \"Saint Paul\", \"Montreal\", \"Nashville\", \"Boston\", \"New York\", \"New York\", \"Orlando\", \"Philadelphia\", \"Portland\", \"Salt Lake City\", \"San Jose\", \"Seattle\", \"Toronto\", \"Vancouver\"]"
   ]
  },
  {
   "cell_type": "code",
   "execution_count": 17,
   "metadata": {
    "id": "7JBbizVu77On"
   },
   "outputs": [],
   "source": [
    "# create dataframe of team data using data collected during last step\n",
    "\n",
    "teamdata = pd.DataFrame()\n",
    "teamdata[\"TeamID\"] = club_ids\n",
    "teamdata[\"Name\"] = club_names\n",
    "teamdata[\"City\"] = cities"
   ]
  },
  {
   "cell_type": "code",
   "execution_count": 18,
   "metadata": {
    "id": "xwygnPC577On"
   },
   "outputs": [],
   "source": [
    "# use dataframe to populate database\n",
    "\n",
    "for i in range(len(teamdata)):\n",
    "    sql = '''insert into team\n",
    "             (teamID, name, city)\n",
    "             values\n",
    "             (:teamID, :name, :city)'''\n",
    "    cursor.execute(sql, {'teamID':teamdata[\"TeamID\"][i], 'name':teamdata[\"Name\"][i], 'city':teamdata[\"City\"][i]})\n",
    "    \n",
    "    conn.commit()"
   ]
  },
  {
   "cell_type": "code",
   "execution_count": 21,
   "metadata": {
    "id": "lO9YiDe977Oo"
   },
   "outputs": [],
   "source": [
    "# scrape list of stadiums from Wikipedia\n",
    "\n",
    "stadium_url = \"https://en.wikipedia.org/wiki/List_of_Major_League_Soccer_stadiums\"\n",
    "stadium = requests.get(stadium_url)\n",
    "stadium_soup = BeautifulSoup(stadium.content, 'html.parser')"
   ]
  },
  {
   "cell_type": "code",
   "execution_count": 31,
   "metadata": {
    "id": "QH-W7QIJ77Oo"
   },
   "outputs": [],
   "source": [
    "# Collect stadium data in a dataframe\n",
    "\n",
    "stadiumdata = pd.DataFrame(columns = [\"name\", \"home_team\", \"city\", \"surface_type\", \"capacity\"])\n",
    "\n",
    "tr_list = stadium_soup.find_all('table')[1].find_all('tr')\n",
    "for i in range(1,len(tr_list)):\n",
    "    name = tr_list[i].contents[3].contents[0].contents[0]\n",
    "    home_team = tr_list[i].contents[5].contents[0].string\n",
    "    city = tr_list[i].contents[7].contents[0].contents[0].split(\",\")[0]\n",
    "    surface_type = tr_list[i].contents[15].contents[0].string\n",
    "    capacity = tr_list[i].contents[11].contents[0]\n",
    "    \n",
    "    stadiumdata = stadiumdata.append(pd.DataFrame([[name, home_team, city, surface_type, capacity]], columns = [\"name\", \"home_team\", \"city\", \"surface_type\", \"capacity\"]))\n",
    "    \n",
    "stadiumdata.reset_index(inplace=True, drop=True)  "
   ]
  },
  {
   "cell_type": "code",
   "execution_count": null,
   "metadata": {
    "id": "y59e32nb77Oo"
   },
   "outputs": [],
   "source": [
    "# Create a dictionary to convert full team name to team ID \n",
    "# (this teamID is abbreviation used as primary key in post tables)\n",
    "\n",
    "teamname_abbrev = {}\n",
    "for i in range(len(teamdata)):\n",
    "    teamname_abbrev[teamdata[\"Name\"][i]] = teamdata[\"TeamID\"][i]\n",
    "# some team name styles differ; add manually\n",
    "teamname_abbrev[\"Minnesota United FC\"] = \"MIN\"\n",
    "teamname_abbrev[\"Los Angeles FC\"] = \"LAFC\"\n",
    "teamname_abbrev[\"Orlando City SC\"] = \"ORL\"\n",
    "teamname_abbrev[\"Atlanta United FC\"] = \"ATL\"\n",
    "teamname_abbrev[\"CF Montréal\"] = \"MTL\"\n",
    "\n",
    "# Use dataframe and dictionary to populate dataframe\n",
    "\n",
    "for i in range(len(stadiumdata)):\n",
    "    sql = '''insert into stadium\n",
    "             (name, home_team, city, surface_type, capacity)\n",
    "             values\n",
    "             (:name, :home_team, :city, :surface_type, :capacity)'''\n",
    "    cursor.execute(sql, {'name':stadiumdata[\"name\"][i], 'home_team':teamname_abbrev[stadiumdata[\"home_team\"][i]], 'city':stadiumdata[\"city\"][i], 'surface_type':stadiumdata[\"surface_type\"][i], 'capacity':stadiumdata[\"capacity\"][i]})\n",
    "    \n",
    "    conn.commit()"
   ]
  },
  {
   "cell_type": "code",
   "execution_count": null,
   "metadata": {
    "id": "JzenF5ZY77Op"
   },
   "outputs": [],
   "source": [
    "# Scrape coach data from Wikipedia\n",
    "\n",
    "coaches_url = \"https://en.wikipedia.org/wiki/List_of_Major_League_Soccer_coaches\"\n",
    "coaches = requests.get(coaches_url)\n",
    "coaches_soup = BeautifulSoup(coaches.content, 'html5lib')"
   ]
  },
  {
   "cell_type": "code",
   "execution_count": 34,
   "metadata": {
    "id": "qRTscERA77Op"
   },
   "outputs": [
    {
     "ename": "NameError",
     "evalue": "name 'coaches_soup' is not defined",
     "output_type": "error",
     "traceback": [
      "\u001b[1;31m---------------------------------------------------------------------------\u001b[0m",
      "\u001b[1;31mNameError\u001b[0m                                 Traceback (most recent call last)",
      "\u001b[1;32m<ipython-input-34-7818b0176a4b>\u001b[0m in \u001b[0;36m<module>\u001b[1;34m\u001b[0m\n\u001b[0;32m      1\u001b[0m \u001b[1;31m# Collect coach data in a dataframe\u001b[0m\u001b[1;33m\u001b[0m\u001b[1;33m\u001b[0m\u001b[1;33m\u001b[0m\u001b[0m\n\u001b[0;32m      2\u001b[0m \u001b[1;33m\u001b[0m\u001b[0m\n\u001b[1;32m----> 3\u001b[1;33m \u001b[0mcoachlist\u001b[0m \u001b[1;33m=\u001b[0m \u001b[0mcoaches_soup\u001b[0m\u001b[1;33m.\u001b[0m\u001b[0mfind_all\u001b[0m\u001b[1;33m(\u001b[0m\u001b[1;34m'table'\u001b[0m\u001b[1;33m)\u001b[0m\u001b[1;33m[\u001b[0m\u001b[1;36m0\u001b[0m\u001b[1;33m]\u001b[0m\u001b[1;33m.\u001b[0m\u001b[0mfind_all\u001b[0m\u001b[1;33m(\u001b[0m\u001b[1;34m'tr'\u001b[0m\u001b[1;33m)\u001b[0m\u001b[1;33m\u001b[0m\u001b[1;33m\u001b[0m\u001b[0m\n\u001b[0m\u001b[0;32m      4\u001b[0m \u001b[1;33m\u001b[0m\u001b[0m\n\u001b[0;32m      5\u001b[0m \u001b[0mcoachdata\u001b[0m \u001b[1;33m=\u001b[0m \u001b[0mpd\u001b[0m\u001b[1;33m.\u001b[0m\u001b[0mDataFrame\u001b[0m\u001b[1;33m(\u001b[0m\u001b[0mcolumns\u001b[0m \u001b[1;33m=\u001b[0m \u001b[1;33m[\u001b[0m\u001b[1;34m\"name\"\u001b[0m\u001b[1;33m,\u001b[0m \u001b[1;34m\"team\"\u001b[0m\u001b[1;33m,\u001b[0m \u001b[1;34m\"nationality\"\u001b[0m\u001b[1;33m]\u001b[0m\u001b[1;33m)\u001b[0m\u001b[1;33m\u001b[0m\u001b[1;33m\u001b[0m\u001b[0m\n",
      "\u001b[1;31mNameError\u001b[0m: name 'coaches_soup' is not defined"
     ]
    }
   ],
   "source": [
    "# Collect coach data in a dataframe\n",
    "\n",
    "coachlist = coaches_soup.find_all('table')[0].find_all('tr')\n",
    "\n",
    "coachdata = pd.DataFrame(columns = [\"name\", \"team\", \"nationality\"])\n",
    "\n",
    "for i in range(1,len(coachlist)):\n",
    "    name = coachlist[i].contents[1].string\n",
    "    nationality = coachlist[i].contents[3].contents[1].string\n",
    "    team = coachlist[i].contents[7].string\n",
    "    \n",
    "    coachdata = coachdata.append(pd.DataFrame([[name, team, nationality]], columns = [\"name\", \"team\", \"nationality\"]))\n",
    "\n",
    "coachdata.reset_index(inplace=True, drop=True)   "
   ]
  },
  {
   "cell_type": "code",
   "execution_count": null,
   "metadata": {
    "id": "_Lu0Td_j77Op"
   },
   "outputs": [
    {
     "ename": "NameError",
     "evalue": "name 'coachdata' is not defined",
     "output_type": "error",
     "traceback": [
      "\u001b[1;31m---------------------------------------------------------------------------\u001b[0m",
      "\u001b[1;31mNameError\u001b[0m                                 Traceback (most recent call last)",
      "\u001b[1;32m<ipython-input-35-be7adf83416d>\u001b[0m in \u001b[0;36m<module>\u001b[1;34m\u001b[0m\n\u001b[0;32m      1\u001b[0m \u001b[1;31m# Use dataframe and dictionary to populate database\u001b[0m\u001b[1;33m\u001b[0m\u001b[1;33m\u001b[0m\u001b[1;33m\u001b[0m\u001b[0m\n\u001b[0;32m      2\u001b[0m \u001b[1;33m\u001b[0m\u001b[0m\n\u001b[1;32m----> 3\u001b[1;33m \u001b[1;32mfor\u001b[0m \u001b[0mi\u001b[0m \u001b[1;32min\u001b[0m \u001b[0mrange\u001b[0m\u001b[1;33m(\u001b[0m\u001b[0mlen\u001b[0m\u001b[1;33m(\u001b[0m\u001b[0mcoachdata\u001b[0m\u001b[1;33m)\u001b[0m\u001b[1;33m)\u001b[0m\u001b[1;33m:\u001b[0m\u001b[1;33m\u001b[0m\u001b[1;33m\u001b[0m\u001b[0m\n\u001b[0m\u001b[0;32m      4\u001b[0m     sql = '''insert into coach\n\u001b[0;32m      5\u001b[0m              \u001b[1;33m(\u001b[0m\u001b[0mname\u001b[0m\u001b[1;33m,\u001b[0m \u001b[0mteam\u001b[0m\u001b[1;33m,\u001b[0m \u001b[0mnationality\u001b[0m\u001b[1;33m)\u001b[0m\u001b[1;33m\u001b[0m\u001b[1;33m\u001b[0m\u001b[0m\n",
      "\u001b[1;31mNameError\u001b[0m: name 'coachdata' is not defined"
     ]
    }
   ],
   "source": [
    "# Use dataframe and dictionary to populate database\n",
    "\n",
    "for i in range(len(coachdata)):\n",
    "    sql = '''insert into coach\n",
    "             (name, team, nationality)\n",
    "             values\n",
    "             (:name, :team, :nationality)'''\n",
    "    cursor.execute(sql, {'name':coachdata[\"name\"][i], 'team':teamname_abbrev[coachdata[\"team\"][i]], 'nationality':coachdata[\"nationality\"][i]})\n",
    "    \n",
    "    conn.commit()"
   ]
  },
  {
   "cell_type": "markdown",
   "metadata": {
    "id": "O2DRnXe777Oq"
   },
   "source": [
    "### Manual Entry\n",
    "\n",
    "We have been unable to find an adequate source from which to scrape data about individual matches, so this data will be input manually using DB Browser."
   ]
  },
  {
   "cell_type": "markdown",
   "metadata": {
    "id": "SF-WSRVd77Oq"
   },
   "source": [
    "## Queries\n",
    "\n",
    "Question ideas:\n",
    "team records\n"
   ]
  },
  {
   "cell_type": "code",
   "execution_count": null,
   "metadata": {
    "id": "G4ye4TNo77Oq"
   },
   "outputs": [],
   "source": [
    "import sqlite3\n",
    "import pandas as pd\n",
    "import matplotlib.pyplot as plt\n",
    "%matplotlib inline"
   ]
  },
  {
   "cell_type": "code",
   "execution_count": null,
   "metadata": {
    "colab": {
     "base_uri": "https://localhost:8080/",
     "height": 265
    },
    "id": "yd08_HZjZ_jc",
    "outputId": "9d3cf6aa-b7d6-4198-ea37-076b515d47cd"
   },
   "outputs": [
    {
     "ename": "NameError",
     "evalue": "ignored",
     "output_type": "error",
     "traceback": [
      "\u001b[0;31m---------------------------------------------------------------------------\u001b[0m",
      "\u001b[0;31mNameError\u001b[0m                                 Traceback (most recent call last)",
      "\u001b[0;32m<ipython-input-1-8f03ccf8f8b1>\u001b[0m in \u001b[0;36m<module>\u001b[0;34m()\u001b[0m\n\u001b[0;32m----> 1\u001b[0;31m \u001b[0mconn\u001b[0m \u001b[0;34m=\u001b[0m \u001b[0msqlite3\u001b[0m\u001b[0;34m.\u001b[0m\u001b[0mconnect\u001b[0m\u001b[0;34m(\u001b[0m\u001b[0;34m'soccer.db'\u001b[0m\u001b[0;34m)\u001b[0m\u001b[0;34m\u001b[0m\u001b[0;34m\u001b[0m\u001b[0m\n\u001b[0m\u001b[1;32m      2\u001b[0m \u001b[0mcursor\u001b[0m \u001b[0;34m=\u001b[0m \u001b[0mconn\u001b[0m\u001b[0;34m.\u001b[0m\u001b[0mcursor\u001b[0m\u001b[0;34m(\u001b[0m\u001b[0;34m)\u001b[0m\u001b[0;34m\u001b[0m\u001b[0;34m\u001b[0m\u001b[0m\n\u001b[1;32m      3\u001b[0m \u001b[0;34m\u001b[0m\u001b[0m\n\u001b[1;32m      4\u001b[0m \u001b[0;34m\u001b[0m\u001b[0m\n\u001b[1;32m      5\u001b[0m \u001b[0msql1\u001b[0m \u001b[0;34m=\u001b[0m \u001b[0;34m'SELECT stadium.capacity, stadium.city, stadium.home_team, stadium.name, stadium.surface_type, team.name FROM stadium INNER JOIN team ON stadium.home_team = team.teamID ORDER BY stadium.capacity DESC LIMIT 6'\u001b[0m\u001b[0;34m\u001b[0m\u001b[0;34m\u001b[0m\u001b[0m\n",
      "\u001b[0;31mNameError\u001b[0m: name 'sqlite3' is not defined"
     ]
    }
   ],
   "source": [
    "conn = sqlite3.connect('soccer.db')\n",
    "cursor = conn.cursor()\n",
    "\n",
    "\n",
    "sql1 = 'SELECT stadium.capacity, stadium.city, stadium.home_team, stadium.name, \\\n",
    "stadium.surface_type, team.name FROM stadium INNER JOIN team ON stadium.home_team = team.teamID ORDER BY stadium.capacity DESC LIMIT 6'\n",
    "\n",
    "result = cursor.execute(sql1)\n",
    "all_stads = result.fetchall()\n",
    "\n",
    "stad_df = pd.DataFrame(all_stads, columns = ['capacity', 'city', 'home_team', 'stadium_name', 'surface_type', 'team_name'])\n",
    "print(stad_df)\n",
    "\n",
    "\n",
    "sql2 = 'SELECT coach.name AS coach_name, coach.team, player.name AS player_name, player.number \\\n",
    "FROM coach \\\n",
    "INNER JOIN player ON player.team = coach.team \\\n",
    "WHERE coach.nationality = \"United States\"'\n",
    "result = cursor.execute(sql2)\n",
    "all_usa_coach = result.fetchall()\n",
    "\n",
    "usa_coach_df = pd.DataFrame(all_usa_coach)\n",
    "print(usa_coach_df)\n",
    "\n",
    "# Only matches of teams starting with A and on february 29th, 2020\n",
    "sql3 = 'SELECT * \\\n",
    "FROM team, match \\\n",
    "WHERE date LIKE '2020-02-29' AND teamID like 'A%' \\\n",
    "ORDER BY attendance DESC'\n",
    "\n",
    "result = cursor.execute(sql3)\n",
    "select_matches = result.fetchall()\n",
    "\n",
    "sel_mat_df = pd.DataFrame(select_matches)\n",
    "print(sel_mat_df)\n",
    "\n",
    "    \n",
    "# Use the cursor to close the connection to the database, now that we're done.\n",
    "cursor.close()"
   ]
  },
  {
   "cell_type": "code",
   "execution_count": null,
   "metadata": {
    "colab": {
     "base_uri": "https://localhost:8080/",
     "height": 312
    },
    "id": "ksL1GbxFv4qh",
    "outputId": "aa0ed432-41f9-43ce-b36b-c3be3c435758"
   },
   "outputs": [
    {
     "data": {
      "text/plain": [
       "Text(0.5, 1.0, 'Stadium Capacity by City')"
      ]
     },
     "execution_count": 38,
     "metadata": {
      "tags": []
     },
     "output_type": "execute_result"
    },
    {
     "data": {
      "image/png": "[encoded data removed]",
      "text/plain": [
       "<Figure size 432x288 with 1 Axes>"
      ]
     },
     "metadata": {
      "needs_background": "light",
      "tags": []
     },
     "output_type": "display_data"
    }
   ],
   "source": [
    "# matplot\n",
    "import matplotlib.pyplot as plt\n",
    "list(stad_df.columns)\n",
    "pd.DataFrame.head(stad_df)\n",
    "cities = ['Atlanta', 'Seattle', 'Cincinatti', 'Bronx', 'Toronto']\n",
    "values = [42500, 37722, 32250, 30321, 30000]\n",
    "# stad_df = stad_df.iloc[1:]\n",
    "# stad_df['capacity'] = pd.to_numeric(stad_df['capacity'])\n",
    "plt.bar(cities, values, color='red')\n",
    "plt.xlabel('City')\n",
    "plt.ylabel('Stadium Capacity')\n",
    "plt.title('Stadium Capacity by City')"
   ]
  },
  {
   "cell_type": "code",
   "execution_count": null,
   "metadata": {
    "id": "xCZ5C9ty77Or"
   },
   "outputs": [],
   "source": [
    "# # Attendance\n",
    "# SELECT *\n",
    "# FROM team, match\n",
    "# WHERE date BETWEEN 2020-02-29 AND 2020-02-30\n",
    "# ORDER BY attendance DESC\n",
    "\n",
    "# # American coachs' players\n",
    "# SELECT coach.name AS coach_name, coach.team, player.name AS player_name, player.number\n",
    "# FROM coach\n",
    "# INNER JOIN player ON player.team = coach.team\n",
    "# WHERE coach.nationality = 'United States'\n",
    "\n",
    "# # Top 3 largest stadiums\n",
    "# SELECT stadium.capacity, stadium.city, stadium.home_team, stadium.name, stadium.surface_type, team.name\n",
    "# FROM stadium\n",
    "# INNER JOIN team ON stadium.home_team = team.teamID\n",
    "# ORDER BY stadium.capacity DESC\n",
    "# LIMIT 3\n",
    "\n",
    "# # best players' coaches?\n",
    "\n",
    "\n",
    "# # best home team scores by turf type?\n",
    "\n",
    "\n",
    "\n",
    "\n",
    "\n"
   ]
  }
 ],
 "metadata": {
  "colab": {
   "collapsed_sections": [],
   "name": "drake_Mini_Project.ipynb",
   "provenance": []
  },
  "kernelspec": {
   "display_name": "Python 3",
   "language": "python",
   "name": "python3"
  },
  "language_info": {
   "codemirror_mode": {
    "name": "ipython",
    "version": 3
   },
   "file_extension": ".py",
   "mimetype": "text/x-python",
   "name": "python",
   "nbconvert_exporter": "python",
   "pygments_lexer": "ipython3",
   "version": "3.9.5"
  }
 },
 "nbformat": 4,
 "nbformat_minor": 4
}
