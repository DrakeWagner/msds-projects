{
 "cells": [
  {
   "cell_type": "markdown",
   "id": "7173e4d1-3da7-4126-bfe7-e1fc9d4cfd55",
   "metadata": {},
   "source": [
    "IN progress\n",
    "\n",
    "input (or scrape) band members active dates (like to be down to the day of year, or at least month) and record releases\n",
    "plot like wikipedia does, but interactive\n",
    "    - select time frame\n",
    "    - note instrument changes (bassist leaves on X day, new bassist comes in at y day, for example)\n",
    "not every band has a graph, this could be an alternative\n",
    "\n",
    "Spotify API seems best way to obtain album release dates that include month and day\n",
    "    - combine with scraping for band members?"
   ]
  },
  {
   "cell_type": "code",
   "execution_count": 1174,
   "id": "2397ad25-1aea-49f0-a221-9aa2c14ab15d",
   "metadata": {},
   "outputs": [
    {
     "name": "stdout",
     "output_type": "stream",
     "text": [
      "Successfully accessed API\n"
     ]
    }
   ],
   "source": [
    "import requests\n",
    "import pandas as pd\n",
    "import matplotlib.pyplot as plt\n",
    "# %matplotlib inline\n",
    "import matplotlib.dates as mdates\n",
    "import seaborn as sns\n",
    "import dotenv\n",
    "# from dotenv import load_dotenv\n",
    "import os\n",
    "import numpy as np\n",
    "\n",
    "\n",
    "### Load in Spotify API credentials here \n",
    "os.chdir('C:\\\\Users\\\\dwagn\\\\Desktop')\n",
    "dotenv.load_dotenv()\n",
    "CLIENT_ID = os.getenv('spotify-client-id')\n",
    "CLIENT_SECRET = os.getenv('spotify-client-secret')\n",
    "os.chdir('C:\\\\Users\\\\dwagn\\\\git\\\\projects')\n",
    "\n",
    "\n",
    "### Setup \n",
    "AUTH_URL = 'https://accounts.spotify.com/api/token'\n",
    "\n",
    "auth_response = requests.post(AUTH_URL, {\n",
    "    'grant_type': 'client_credentials',\n",
    "    'client_id': CLIENT_ID,\n",
    "    'client_secret': CLIENT_SECRET\n",
    "})\n",
    "\n",
    "auth_response_data = auth_response.json()\n",
    "access_token = auth_response_data['access_token']\n",
    "\n",
    "try:\n",
    "    auth_response.status_code == 200\n",
    "    print('Successfully accessed API')\n",
    "except:\n",
    "    raise Exception('API credentials rejected.')"
   ]
  },
  {
   "cell_type": "code",
   "execution_count": 817,
   "id": "475226b8-795a-46fa-8617-685abcaa3a7a",
   "metadata": {
    "tags": []
   },
   "outputs": [],
   "source": [
    "### Uncomment below for manual entry\n",
    "# artist_share_url = input('Paste artist spotify share link: ')\n",
    "# artist_id = artist_share_url.split('/')[4].split('?')[0]\n",
    "artist_id = '2hl0xAkS2AIRAu23TVMBG1'\n",
    "\n",
    "headers = {'Authorization': 'Bearer {}'.format(access_token)}\n",
    "url = 'https://api.spotify.com/v1/'\n",
    "\n",
    "artist_name = requests.get(url + 'artists/' + artist_id, headers=headers).json()['name']\n",
    "    \n",
    "albums = requests.get(url + 'artists/' + artist_id + '/albums', \n",
    "                 headers=headers, \n",
    "                 params={'include_groups': 'album', 'limit': 50}).json()\n",
    "\n",
    "album_names_dates = {}\n",
    "for album in albums['items']:\n",
    "    album_names_dates[album['name']] = album['release_date']"
   ]
  },
  {
   "cell_type": "code",
   "execution_count": 818,
   "id": "3e9966cd-606b-4625-bc72-df6e5910668e",
   "metadata": {
    "tags": []
   },
   "outputs": [],
   "source": [
    "albums_df = pd.DataFrame.from_dict(album_names_dates, orient = 'index').reset_index()\n",
    "albums_df.columns = ['album', 'release_date']"
   ]
  },
  {
   "cell_type": "code",
   "execution_count": 819,
   "id": "6ff42241-d328-4b10-a299-08aa7ca61f1b",
   "metadata": {
    "collapsed": true,
    "jupyter": {
     "outputs_hidden": true
    },
    "tags": []
   },
   "outputs": [
    {
     "data": {
      "text/html": [
       "<div>\n",
       "<style scoped>\n",
       "    .dataframe tbody tr th:only-of-type {\n",
       "        vertical-align: middle;\n",
       "    }\n",
       "\n",
       "    .dataframe tbody tr th {\n",
       "        vertical-align: top;\n",
       "    }\n",
       "\n",
       "    .dataframe thead th {\n",
       "        text-align: right;\n",
       "    }\n",
       "</style>\n",
       "<table border=\"1\" class=\"dataframe\">\n",
       "  <thead>\n",
       "    <tr style=\"text-align: right;\">\n",
       "      <th></th>\n",
       "      <th>album</th>\n",
       "      <th>release_date</th>\n",
       "    </tr>\n",
       "  </thead>\n",
       "  <tbody>\n",
       "    <tr>\n",
       "      <th>0</th>\n",
       "      <td>Nothing To Lose (Live 1984)</td>\n",
       "      <td>2021-11-03</td>\n",
       "    </tr>\n",
       "    <tr>\n",
       "      <th>1</th>\n",
       "      <td>Point Of Know Return Live &amp; Beyond</td>\n",
       "      <td>2021-05-28</td>\n",
       "    </tr>\n",
       "    <tr>\n",
       "      <th>2</th>\n",
       "      <td>Talk To The Wind (Live In Chicago '76)</td>\n",
       "      <td>2020-12-04</td>\n",
       "    </tr>\n",
       "    <tr>\n",
       "      <th>3</th>\n",
       "      <td>Beyond The Illusion (The 1980 New York Broadca...</td>\n",
       "      <td>2020-07-31</td>\n",
       "    </tr>\n",
       "    <tr>\n",
       "      <th>4</th>\n",
       "      <td>The Absence Of Presence</td>\n",
       "      <td>2020-07-17</td>\n",
       "    </tr>\n",
       "    <tr>\n",
       "      <th>5</th>\n",
       "      <td>The Absence of Presence</td>\n",
       "      <td>2020-07-17</td>\n",
       "    </tr>\n",
       "    <tr>\n",
       "      <th>6</th>\n",
       "      <td>Wheels and Other Rarities</td>\n",
       "      <td>2018-11-30</td>\n",
       "    </tr>\n",
       "    <tr>\n",
       "      <th>7</th>\n",
       "      <td>Leftoverture Live &amp; Beyond</td>\n",
       "      <td>2017-11-03</td>\n",
       "    </tr>\n",
       "    <tr>\n",
       "      <th>8</th>\n",
       "      <td>The Prelude Implicit</td>\n",
       "      <td>2016-09-23</td>\n",
       "    </tr>\n",
       "    <tr>\n",
       "      <th>9</th>\n",
       "      <td>The Prelude Implicit (Deluxe Edition)</td>\n",
       "      <td>2016-09-23</td>\n",
       "    </tr>\n",
       "    <tr>\n",
       "      <th>10</th>\n",
       "      <td>Freaks of Nature</td>\n",
       "      <td>2012-07-17</td>\n",
       "    </tr>\n",
       "    <tr>\n",
       "      <th>11</th>\n",
       "      <td>There's Know Place Like Home</td>\n",
       "      <td>2009-10-13</td>\n",
       "    </tr>\n",
       "    <tr>\n",
       "      <th>12</th>\n",
       "      <td>Somewhere To Elsewhere</td>\n",
       "      <td>2000-01-01</td>\n",
       "    </tr>\n",
       "    <tr>\n",
       "      <th>13</th>\n",
       "      <td>Always Never The Same</td>\n",
       "      <td>1998-01-01</td>\n",
       "    </tr>\n",
       "    <tr>\n",
       "      <th>14</th>\n",
       "      <td>Live at the Whisky</td>\n",
       "      <td>1993-01-01</td>\n",
       "    </tr>\n",
       "    <tr>\n",
       "      <th>15</th>\n",
       "      <td>In The Spirit Of Things</td>\n",
       "      <td>1988-01-01</td>\n",
       "    </tr>\n",
       "    <tr>\n",
       "      <th>16</th>\n",
       "      <td>Power</td>\n",
       "      <td>1986-01-01</td>\n",
       "    </tr>\n",
       "    <tr>\n",
       "      <th>17</th>\n",
       "      <td>Drastic Measures</td>\n",
       "      <td>1983-07-01</td>\n",
       "    </tr>\n",
       "    <tr>\n",
       "      <th>18</th>\n",
       "      <td>Vinyl Confessions</td>\n",
       "      <td>1982-06-01</td>\n",
       "    </tr>\n",
       "    <tr>\n",
       "      <th>19</th>\n",
       "      <td>Audio-Visions</td>\n",
       "      <td>1980-09-01</td>\n",
       "    </tr>\n",
       "    <tr>\n",
       "      <th>20</th>\n",
       "      <td>Monolith</td>\n",
       "      <td>1979-05-01</td>\n",
       "    </tr>\n",
       "    <tr>\n",
       "      <th>21</th>\n",
       "      <td>Two For The Show (30th Anniversary Edition)</td>\n",
       "      <td>1978-10-01</td>\n",
       "    </tr>\n",
       "    <tr>\n",
       "      <th>22</th>\n",
       "      <td>Point Of Know Return (Expanded Edition)</td>\n",
       "      <td>1977-01-01</td>\n",
       "    </tr>\n",
       "    <tr>\n",
       "      <th>23</th>\n",
       "      <td>Leftoverture (Expanded Edition)</td>\n",
       "      <td>1976-01-01</td>\n",
       "    </tr>\n",
       "    <tr>\n",
       "      <th>24</th>\n",
       "      <td>Masque (Expanded Edition)</td>\n",
       "      <td>1975-01-01</td>\n",
       "    </tr>\n",
       "    <tr>\n",
       "      <th>25</th>\n",
       "      <td>Song For America (Expanded Edition)</td>\n",
       "      <td>1975-01-01</td>\n",
       "    </tr>\n",
       "    <tr>\n",
       "      <th>26</th>\n",
       "      <td>Kansas (Expanded Edition)</td>\n",
       "      <td>1974-01-01</td>\n",
       "    </tr>\n",
       "  </tbody>\n",
       "</table>\n",
       "</div>"
      ],
      "text/plain": [
       "                                                album release_date\n",
       "0                         Nothing To Lose (Live 1984)   2021-11-03\n",
       "1                  Point Of Know Return Live & Beyond   2021-05-28\n",
       "2              Talk To The Wind (Live In Chicago '76)   2020-12-04\n",
       "3   Beyond The Illusion (The 1980 New York Broadca...   2020-07-31\n",
       "4                             The Absence Of Presence   2020-07-17\n",
       "5                             The Absence of Presence   2020-07-17\n",
       "6                           Wheels and Other Rarities   2018-11-30\n",
       "7                          Leftoverture Live & Beyond   2017-11-03\n",
       "8                                The Prelude Implicit   2016-09-23\n",
       "9               The Prelude Implicit (Deluxe Edition)   2016-09-23\n",
       "10                                   Freaks of Nature   2012-07-17\n",
       "11                       There's Know Place Like Home   2009-10-13\n",
       "12                             Somewhere To Elsewhere   2000-01-01\n",
       "13                              Always Never The Same   1998-01-01\n",
       "14                                 Live at the Whisky   1993-01-01\n",
       "15                            In The Spirit Of Things   1988-01-01\n",
       "16                                              Power   1986-01-01\n",
       "17                                   Drastic Measures   1983-07-01\n",
       "18                                  Vinyl Confessions   1982-06-01\n",
       "19                                      Audio-Visions   1980-09-01\n",
       "20                                           Monolith   1979-05-01\n",
       "21        Two For The Show (30th Anniversary Edition)   1978-10-01\n",
       "22            Point Of Know Return (Expanded Edition)   1977-01-01\n",
       "23                    Leftoverture (Expanded Edition)   1976-01-01\n",
       "24                          Masque (Expanded Edition)   1975-01-01\n",
       "25                Song For America (Expanded Edition)   1975-01-01\n",
       "26                          Kansas (Expanded Edition)   1974-01-01"
      ]
     },
     "execution_count": 819,
     "metadata": {},
     "output_type": "execute_result"
    }
   ],
   "source": [
    "albums_df.release_date = pd.to_datetime(albums_df.release_date)\n",
    "albums_df"
   ]
  },
  {
   "cell_type": "code",
   "execution_count": 820,
   "id": "317b58e1-1ca0-4cdb-9f33-f13949671d18",
   "metadata": {
    "collapsed": true,
    "jupyter": {
     "outputs_hidden": true
    },
    "tags": []
   },
   "outputs": [
    {
     "data": {
      "image/png": "[encoded data removed]",
      "text/plain": [
       "<Figure size 1440x576 with 1 Axes>"
      ]
     },
     "metadata": {
      "needs_background": "light"
     },
     "output_type": "display_data"
    }
   ],
   "source": [
    "# stem([locs,] heads, linefmt=None, markerfmt=None, basefmt=None)\n",
    "dates = albums_df.release_date\n",
    "names = albums_df.album\n",
    "levels = np.tile([-9, 9, -7, 7, -5, 5, -3, 3, -1, 1],\n",
    "                 int(np.ceil(len(dates)/6)))[:len(dates)]\n",
    "\n",
    "fig, ax = plt.subplots(figsize=(20, 8), constrained_layout=True)\n",
    "ax.set(title='Stem plot test')\n",
    "ax.vlines(dates, 0, levels, color='tab:red')\n",
    "ax.plot(dates, np.zeros_like(dates), '-o',\n",
    "        color='k', markerfacecolor='w')\n",
    "\n",
    "for d, l, r in zip(dates, levels, names):\n",
    "    ax.annotate(r, xy=(d, l),\n",
    "                xytext=(-3, np.sign(l)*3), textcoords=\"offset points\",\n",
    "                horizontalalignment=\"right\",\n",
    "                verticalalignment=\"bottom\" if l > 0 else \"top\")\n",
    "    \n",
    "ax.xaxis.set_major_locator(mdates.MonthLocator(interval=12)) # by year\n",
    "ax.xaxis.set_major_formatter(mdates.DateFormatter(\"%b %Y\"))\n",
    "plt.setp(ax.get_xticklabels(), rotation=90, ha=\"right\"); # semicolon stopping label output\n",
    "\n",
    "ax.margins(y=0.1, x=0.1)\n",
    "ax.get_yaxis().set_visible(False)\n",
    "plt.show()"
   ]
  },
  {
   "cell_type": "code",
   "execution_count": 1176,
   "id": "54b3fe5a-62fe-4edf-820c-956f9efcf28a",
   "metadata": {},
   "outputs": [
    {
     "name": "stdout",
     "output_type": "stream",
     "text": [
      "Successfully accessed Gwar webpage\n"
     ]
    }
   ],
   "source": [
    "# Scrape Wikipedia Band Members Dates\n",
    "\n",
    "import requests\n",
    "import csv\n",
    "from bs4 import BeautifulSoup\n",
    "import datetime\n",
    "\n",
    "\n",
    "headers = {'user-agent': 'Contact: dbw2tn@virginia.edu (Language=Python 3.8.2; Platform=Linux(MX-19.4 / 31))'} \n",
    "\n",
    "\n",
    "url_band_name = 'Gwar'\n",
    "url = 'https://en.wikipedia.org/wiki/{}'.format(url_band_name)\n",
    "result = requests.get(url, headers = headers)\n",
    "\n",
    "\n",
    "try:\n",
    "    result.status_code == 200\n",
    "    print('Successfully accessed {} webpage'.format(url_band_name))\n",
    "except:\n",
    "    raise Exception('Error accessing {} webpage'.format(url_band_name))\n",
    "\n",
    "src = result.content \n",
    "soup = BeautifulSoup(src, 'html.parser') "
   ]
  },
  {
   "cell_type": "code",
   "execution_count": 1179,
   "id": "64bbe2f1-70e7-4cd1-a058-14cff38e5d80",
   "metadata": {},
   "outputs": [
    {
     "name": "stdout",
     "output_type": "stream",
     "text": [
      "Found current members\n",
      "Found former members\n"
     ]
    }
   ],
   "source": [
    "# Check if tables are on main band page\n",
    "try:\n",
    "    current_members = soup.find(text=lambda s: \"current members\" in s.lower()) \\\n",
    "                  .findNext('ul').get_text().split('\\n')\n",
    "    print('Found current members')\n",
    "except:\n",
    "    print('No current members listed')\n",
    "try:\n",
    "    former_members_main_page = soup.find(text = lambda s: 'former members' in s.lower()) \\\n",
    "                           .findNext('ul').get_text().split('\\n')\n",
    "    print('Found former members')\n",
    "except:\n",
    "    print('No former members listed on this page')"
   ]
  },
  {
   "cell_type": "code",
   "execution_count": 1181,
   "id": "122c33ae-1cd7-41bc-be98-40639f1bafd0",
   "metadata": {},
   "outputs": [
    {
     "name": "stdout",
     "output_type": "stream",
     "text": [
      "Full members in link: /wiki/List_of_Gwar_members\n"
     ]
    }
   ],
   "source": [
    "# If applicable, get link to full members page\n",
    "\n",
    "if 'members' not in str(soup.find(id=\"toc\").get_text().lower()):\n",
    "    print('Warning: Band Members section not found on this page')\n",
    "if all(x in soup.get_text() for x in ['Main article: List of', 'band members']):\n",
    "    members_link = soup.find(text=lambda s: \"main article:\" in s.lower()) \\\n",
    "                  .findNextSibling('a', href=True).get('href') # get link for full members\n",
    "    print('Full members in link: {}'.format(members_link))"
   ]
  },
  {
   "cell_type": "code",
   "execution_count": 1184,
   "id": "44c8878e-a872-4ae7-b6ba-ecfd424ff597",
   "metadata": {},
   "outputs": [],
   "source": [
    "# mems = soup.find(id='Members')\n",
    "# mems.next_sibling()"
   ]
  },
  {
   "cell_type": "code",
   "execution_count": 1185,
   "id": "b881b678-c541-44d1-a162-42be101f0cb5",
   "metadata": {},
   "outputs": [
    {
     "name": "stdout",
     "output_type": "stream",
     "text": [
      "Successfully accessed /wiki/List_of_Gwar_members webpage\n"
     ]
    }
   ],
   "source": [
    "url = 'https://en.wikipedia.org{}'.format(members_link)\n",
    "result = requests.get(url, headers = headers)\n",
    "\n",
    "try:\n",
    "    result.status_code == 200\n",
    "    print('Successfully accessed {} webpage'.format(members_link))\n",
    "except:\n",
    "    raise Exception('Error accessing {} webpage'.format(members_link))\n",
    "\n",
    "src = result.content \n",
    "member_soup = BeautifulSoup(src, 'html.parser') "
   ]
  },
  {
   "cell_type": "code",
   "execution_count": 1186,
   "id": "8e58b97d-355e-4c4c-abf0-22aa1c1c90a3",
   "metadata": {},
   "outputs": [],
   "source": [
    "split_names = [mem.split(' – ') for mem in current_members]\n",
    "split_names = [item for sublist in split_names for item in sublist] # back to single list\n",
    "split_dates = [d.split('(') for d in split_names[1::2]]\n",
    "split_dates = [item for sublist in split_dates for item in sublist]\n",
    "instr = split_dates[::2]\n",
    "dates = split_dates[1::2]\n",
    "names = split_names[::2]"
   ]
  },
  {
   "cell_type": "code",
   "execution_count": 1189,
   "id": "6e7a31a5-94e1-4031-af5e-08c531435537",
   "metadata": {},
   "outputs": [],
   "source": [
    "# pd.DataFrame({'names' : names,\n",
    "#              'instruments' : instr,\n",
    "#              'dates' : dates})"
   ]
  },
  {
   "cell_type": "code",
   "execution_count": 1194,
   "id": "bf2b3aa1-8f76-410f-bcd0-c0214e9f692d",
   "metadata": {},
   "outputs": [],
   "source": [
    "try:\n",
    "    tbl1 = member_soup.find('table', attrs={'class' : 'wikitable'}) # current members\n",
    "    tbl1_title = tbl1.previous_sibling.previous_sibling.get_text().strip('[edit]')\n",
    "except:\n",
    "    print('No first table')\n",
    "\n",
    "try:\n",
    "    tbl2 = tbl1.findNext('table', attrs={'class' : 'wikitable'}) # former members\n",
    "    tbl2_title = tbl2.previous_sibling.previous_sibling.get_text().strip('[edit]')\n",
    "except:\n",
    "    print('No second table')"
   ]
  },
  {
   "cell_type": "code",
   "execution_count": 1234,
   "id": "73dbebf0-7ec7-4b81-952b-f8dd424b96cf",
   "metadata": {},
   "outputs": [],
   "source": [
    "curr_df = pd.read_html(tbl1.prettify())[0]\n",
    "curr_df['Activity'] = 'Current'\n",
    "retire_df = pd.read_html(tbl2.prettify())[0]\n",
    "retire_df['Activity'] = 'Former'\n",
    "full_df = curr_df.append(retire_df).reset_index().drop(['Image', 'index'], axis=1)"
   ]
  },
  {
   "cell_type": "code",
   "execution_count": 1235,
   "id": "ec15e9d0-bdbb-4d7e-bd6a-fab2bf027a6b",
   "metadata": {},
   "outputs": [
    {
     "data": {
      "text/html": [
       "<div>\n",
       "<style scoped>\n",
       "    .dataframe tbody tr th:only-of-type {\n",
       "        vertical-align: middle;\n",
       "    }\n",
       "\n",
       "    .dataframe tbody tr th {\n",
       "        vertical-align: top;\n",
       "    }\n",
       "\n",
       "    .dataframe thead th {\n",
       "        text-align: right;\n",
       "    }\n",
       "</style>\n",
       "<table border=\"1\" class=\"dataframe\">\n",
       "  <thead>\n",
       "    <tr style=\"text-align: right;\">\n",
       "      <th></th>\n",
       "      <th>Name</th>\n",
       "      <th>Years active</th>\n",
       "      <th>Character(s)</th>\n",
       "      <th>Instruments</th>\n",
       "      <th>Release contributions</th>\n",
       "      <th>Activity</th>\n",
       "    </tr>\n",
       "  </thead>\n",
       "  <tbody>\n",
       "    <tr>\n",
       "      <th>0</th>\n",
       "      <td>Mike Bishop</td>\n",
       "      <td>1987–1993  1998–1999  2014–present</td>\n",
       "      <td>Blöthar the Berserker  (since 2014)  Beefcake ...</td>\n",
       "      <td>lead vocals, occasional bass  (since 2014)  ba...</td>\n",
       "      <td>all  Gwar releases  from  Hell-O  (1988) to  T...</td>\n",
       "      <td>Current</td>\n",
       "    </tr>\n",
       "    <tr>\n",
       "      <th>1</th>\n",
       "      <td>Mike Derks</td>\n",
       "      <td>1988–present</td>\n",
       "      <td>Balsac the Jaws of Death</td>\n",
       "      <td>rhythm guitar  backing vocals</td>\n",
       "      <td>all Gwar releases from  The Next Mutation  (19...</td>\n",
       "      <td>Current</td>\n",
       "    </tr>\n",
       "    <tr>\n",
       "      <th>2</th>\n",
       "      <td>Brad Roberts</td>\n",
       "      <td>1989–present</td>\n",
       "      <td>Jizmak da Gusha</td>\n",
       "      <td>drums  percussion</td>\n",
       "      <td>all Gwar releases from  The Next Mutation  (19...</td>\n",
       "      <td>Current</td>\n",
       "    </tr>\n",
       "    <tr>\n",
       "      <th>3</th>\n",
       "      <td>Casey Orr</td>\n",
       "      <td>1994–1997  1999–2002  2008–2011  2019–present</td>\n",
       "      <td>Beefcake the Mighty</td>\n",
       "      <td>bass  backing and occasional lead vocals</td>\n",
       "      <td>all Gwar releases from \"S.F.W.\" (1995) to  The...</td>\n",
       "      <td>Current</td>\n",
       "    </tr>\n",
       "    <tr>\n",
       "      <th>4</th>\n",
       "      <td>Brent Purgason</td>\n",
       "      <td>2012–present</td>\n",
       "      <td>Pustulus Maximus</td>\n",
       "      <td>lead guitar  backing vocals</td>\n",
       "      <td>all Gwar releases from  The 3rd Annual Gwar-B-...</td>\n",
       "      <td>Current</td>\n",
       "    </tr>\n",
       "    <tr>\n",
       "      <th>5</th>\n",
       "      <td>Dave Brockie</td>\n",
       "      <td>1985–2014  (until his death)</td>\n",
       "      <td>Oderus Urungus</td>\n",
       "      <td>lead vocals  (from 1986)  guitar, backing voca...</td>\n",
       "      <td>all Gwar releases from  Hell-O  (1988) to  The...</td>\n",
       "      <td>Former</td>\n",
       "    </tr>\n",
       "    <tr>\n",
       "      <th>6</th>\n",
       "      <td>Chris Bopst</td>\n",
       "      <td>1985–1987</td>\n",
       "      <td>Balsac</td>\n",
       "      <td>bass  backing vocals</td>\n",
       "      <td>Let There Be Gwar  (2004)</td>\n",
       "      <td>Former</td>\n",
       "    </tr>\n",
       "    <tr>\n",
       "      <th>7</th>\n",
       "      <td>Steve Douglas</td>\n",
       "      <td>1985  1987–1988</td>\n",
       "      <td>Jaws of Death  (1985)  Balsac the Jaws of Deat...</td>\n",
       "      <td>guitar  backing vocals</td>\n",
       "      <td>Hell-O  (1988)</td>\n",
       "      <td>Former</td>\n",
       "    </tr>\n",
       "    <tr>\n",
       "      <th>8</th>\n",
       "      <td>Ben Eubanks</td>\n",
       "      <td>1985</td>\n",
       "      <td>Johnny Slutman</td>\n",
       "      <td>lead vocals</td>\n",
       "      <td>none  – two live performances only</td>\n",
       "      <td>Former</td>\n",
       "    </tr>\n",
       "    <tr>\n",
       "      <th>9</th>\n",
       "      <td>Russ Bahorsky</td>\n",
       "      <td>1985</td>\n",
       "      <td>Mr. Magico</td>\n",
       "      <td>guitar  backing vocals</td>\n",
       "      <td>none  – two live performances only</td>\n",
       "      <td>Former</td>\n",
       "    </tr>\n",
       "  </tbody>\n",
       "</table>\n",
       "</div>"
      ],
      "text/plain": [
       "             Name                                   Years active  \\\n",
       "0     Mike Bishop             1987–1993  1998–1999  2014–present   \n",
       "1      Mike Derks                                   1988–present   \n",
       "2    Brad Roberts                                   1989–present   \n",
       "3       Casey Orr  1994–1997  1999–2002  2008–2011  2019–present   \n",
       "4  Brent Purgason                                   2012–present   \n",
       "5    Dave Brockie                   1985–2014  (until his death)   \n",
       "6     Chris Bopst                                      1985–1987   \n",
       "7   Steve Douglas                                1985  1987–1988   \n",
       "8     Ben Eubanks                                           1985   \n",
       "9   Russ Bahorsky                                           1985   \n",
       "\n",
       "                                        Character(s)  \\\n",
       "0  Blöthar the Berserker  (since 2014)  Beefcake ...   \n",
       "1                           Balsac the Jaws of Death   \n",
       "2                                    Jizmak da Gusha   \n",
       "3                                Beefcake the Mighty   \n",
       "4                                   Pustulus Maximus   \n",
       "5                                     Oderus Urungus   \n",
       "6                                             Balsac   \n",
       "7  Jaws of Death  (1985)  Balsac the Jaws of Deat...   \n",
       "8                                     Johnny Slutman   \n",
       "9                                         Mr. Magico   \n",
       "\n",
       "                                         Instruments  \\\n",
       "0  lead vocals, occasional bass  (since 2014)  ba...   \n",
       "1                      rhythm guitar  backing vocals   \n",
       "2                                  drums  percussion   \n",
       "3           bass  backing and occasional lead vocals   \n",
       "4                        lead guitar  backing vocals   \n",
       "5  lead vocals  (from 1986)  guitar, backing voca...   \n",
       "6                               bass  backing vocals   \n",
       "7                             guitar  backing vocals   \n",
       "8                                        lead vocals   \n",
       "9                             guitar  backing vocals   \n",
       "\n",
       "                               Release contributions Activity  \n",
       "0  all  Gwar releases  from  Hell-O  (1988) to  T...  Current  \n",
       "1  all Gwar releases from  The Next Mutation  (19...  Current  \n",
       "2  all Gwar releases from  The Next Mutation  (19...  Current  \n",
       "3  all Gwar releases from \"S.F.W.\" (1995) to  The...  Current  \n",
       "4  all Gwar releases from  The 3rd Annual Gwar-B-...  Current  \n",
       "5  all Gwar releases from  Hell-O  (1988) to  The...   Former  \n",
       "6                          Let There Be Gwar  (2004)   Former  \n",
       "7                                     Hell-O  (1988)   Former  \n",
       "8                 none  – two live performances only   Former  \n",
       "9                 none  – two live performances only   Former  "
      ]
     },
     "execution_count": 1235,
     "metadata": {},
     "output_type": "execute_result"
    }
   ],
   "source": [
    "full_df.head(10)"
   ]
  },
  {
   "cell_type": "code",
   "execution_count": 1430,
   "id": "7ee4269c-c5c6-4240-adf1-ac6e311fb52f",
   "metadata": {},
   "outputs": [
    {
     "data": {
      "text/html": [
       "<div>\n",
       "<style scoped>\n",
       "    .dataframe tbody tr th:only-of-type {\n",
       "        vertical-align: middle;\n",
       "    }\n",
       "\n",
       "    .dataframe tbody tr th {\n",
       "        vertical-align: top;\n",
       "    }\n",
       "\n",
       "    .dataframe thead th {\n",
       "        text-align: right;\n",
       "    }\n",
       "</style>\n",
       "<table border=\"1\" class=\"dataframe\">\n",
       "  <thead>\n",
       "    <tr style=\"text-align: right;\">\n",
       "      <th></th>\n",
       "      <th>Name</th>\n",
       "      <th>Years active</th>\n",
       "      <th>Instruments</th>\n",
       "      <th>Activity</th>\n",
       "      <th>dates_list</th>\n",
       "    </tr>\n",
       "  </thead>\n",
       "  <tbody>\n",
       "    <tr>\n",
       "      <th>0</th>\n",
       "      <td>Mike Bishop</td>\n",
       "      <td>1987–1993, 1998–1999, 2014–present</td>\n",
       "      <td>lead vocals, occasional bass, (since 2014), ba...</td>\n",
       "      <td>Current</td>\n",
       "      <td>[1987–1993, 1998–1999, 2014–present]</td>\n",
       "    </tr>\n",
       "    <tr>\n",
       "      <th>1</th>\n",
       "      <td>Mike Derks</td>\n",
       "      <td>1988–present</td>\n",
       "      <td>rhythm guitar, backing vocals</td>\n",
       "      <td>Current</td>\n",
       "      <td>[1988–present]</td>\n",
       "    </tr>\n",
       "    <tr>\n",
       "      <th>2</th>\n",
       "      <td>Brad Roberts</td>\n",
       "      <td>1989–present</td>\n",
       "      <td>drums, percussion</td>\n",
       "      <td>Current</td>\n",
       "      <td>[1989–present]</td>\n",
       "    </tr>\n",
       "    <tr>\n",
       "      <th>3</th>\n",
       "      <td>Casey Orr</td>\n",
       "      <td>1994–1997, 1999–2002, 2008–2011, 2019–present</td>\n",
       "      <td>bass, backing and occasional lead vocals</td>\n",
       "      <td>Current</td>\n",
       "      <td>[1994–1997, 1999–2002, 2008–2011, 2019–present]</td>\n",
       "    </tr>\n",
       "    <tr>\n",
       "      <th>4</th>\n",
       "      <td>Brent Purgason</td>\n",
       "      <td>2012–present</td>\n",
       "      <td>lead guitar, backing vocals</td>\n",
       "      <td>Current</td>\n",
       "      <td>[2012–present]</td>\n",
       "    </tr>\n",
       "  </tbody>\n",
       "</table>\n",
       "</div>"
      ],
      "text/plain": [
       "             Name                                   Years active  \\\n",
       "0     Mike Bishop             1987–1993, 1998–1999, 2014–present   \n",
       "1      Mike Derks                                   1988–present   \n",
       "2    Brad Roberts                                   1989–present   \n",
       "3       Casey Orr  1994–1997, 1999–2002, 2008–2011, 2019–present   \n",
       "4  Brent Purgason                                   2012–present   \n",
       "\n",
       "                                         Instruments Activity  \\\n",
       "0  lead vocals, occasional bass, (since 2014), ba...  Current   \n",
       "1                      rhythm guitar, backing vocals  Current   \n",
       "2                                  drums, percussion  Current   \n",
       "3           bass, backing and occasional lead vocals  Current   \n",
       "4                        lead guitar, backing vocals  Current   \n",
       "\n",
       "                                        dates_list  \n",
       "0             [1987–1993, 1998–1999, 2014–present]  \n",
       "1                                   [1988–present]  \n",
       "2                                   [1989–present]  \n",
       "3  [1994–1997, 1999–2002, 2008–2011, 2019–present]  \n",
       "4                                   [2012–present]  "
      ]
     },
     "execution_count": 1430,
     "metadata": {},
     "output_type": "execute_result"
    }
   ],
   "source": [
    "# Keep only universal columns\n",
    "\n",
    "df = full_df[['Name', 'Years active', 'Instruments', 'Activity']] \\\n",
    "            .applymap(lambda x: x.replace('  ', ', '))\n",
    "df['dates_list'] = [x.split(', ') for x in df['Years active']]\n",
    "\n",
    "# remove extra garbage\n",
    "df['dates_list'] =  df['dates_list'].apply(lambda x: list \\\n",
    "                                           (map \\\n",
    "                                            (lambda x: '' if str(x)[0:1] == \"(\" else x, x)))\n",
    "\n",
    "df.head(5)"
   ]
  },
  {
   "cell_type": "code",
   "execution_count": null,
   "id": "42921339-212a-46a1-bab0-a6672b5bf315",
   "metadata": {},
   "outputs": [],
   "source": []
  },
  {
   "cell_type": "code",
   "execution_count": null,
   "id": "b73d2d9e-379c-448b-a93b-8c8569fe5a72",
   "metadata": {},
   "outputs": [],
   "source": []
  },
  {
   "cell_type": "code",
   "execution_count": null,
   "id": "4a3d2ec9-9468-4890-be53-2f132893829e",
   "metadata": {},
   "outputs": [],
   "source": []
  },
  {
   "cell_type": "code",
   "execution_count": 1431,
   "id": "a8175108-4667-41f6-8909-aa623e68b054",
   "metadata": {},
   "outputs": [
    {
     "data": {
      "text/plain": [
       "''"
      ]
     },
     "execution_count": 1431,
     "metadata": {},
     "output_type": "execute_result"
    }
   ],
   "source": [
    "df.dates_list[22][-1]"
   ]
  },
  {
   "cell_type": "code",
   "execution_count": 1432,
   "id": "466a617c-99d7-4a95-8cd5-9f78c1903459",
   "metadata": {},
   "outputs": [
    {
     "data": {
      "text/plain": [
       "''"
      ]
     },
     "execution_count": 1432,
     "metadata": {},
     "output_type": "execute_result"
    }
   ],
   "source": [
    "df.dates_list[22][-1]"
   ]
  },
  {
   "cell_type": "code",
   "execution_count": 1433,
   "id": "1b367772-c837-4d3f-8447-a7e868fbf175",
   "metadata": {},
   "outputs": [],
   "source": [
    "from datetime import datetime\n",
    "# for yr in df['Years active'][0].split(' ')[::2]: #separate\n",
    "#     datetime.strptime(yr, '%Y-%Y')\n",
    "# a = df['Years active'][0].split(' ')[::2][0]\n",
    "# datetime.strptime(a, '%Y')"
   ]
  },
  {
   "cell_type": "code",
   "execution_count": 1434,
   "id": "86e4de39-d092-4c47-b72f-ff8f0f8b4b65",
   "metadata": {},
   "outputs": [
    {
     "data": {
      "text/plain": [
       "['2014–present',\n",
       " '1988–present',\n",
       " '1989–present',\n",
       " '2019–present',\n",
       " '2012–present',\n",
       " '',\n",
       " '1985–1987',\n",
       " '1987–1988',\n",
       " '1985',\n",
       " '1985',\n",
       " '',\n",
       " '1989',\n",
       " '1985–1987',\n",
       " '1985–1987',\n",
       " '1985–1986',\n",
       " '1998–1999',\n",
       " '1987–1991',\n",
       " '1987–1989',\n",
       " '1989',\n",
       " '1992–1998',\n",
       " '',\n",
       " '',\n",
       " '',\n",
       " '2011–2019',\n",
       " '2014–2015']"
      ]
     },
     "execution_count": 1434,
     "metadata": {},
     "output_type": "execute_result"
    }
   ],
   "source": [
    "[x[-1] for x in df.dates_list]"
   ]
  },
  {
   "cell_type": "code",
   "execution_count": 1435,
   "id": "790a3a65-3c42-4db4-9044-228e20c9b08b",
   "metadata": {},
   "outputs": [
    {
     "data": {
      "image/png": "[encoded data removed]",
      "text/plain": [
       "<Figure size 640x480 with 1 Axes>"
      ]
     },
     "metadata": {},
     "output_type": "display_data"
    }
   ],
   "source": [
    "import pylab\n",
    "import numpy as np\n",
    "import datetime\n",
    "from matplotlib.dates import YearLocator, MonthLocator, DateFormatter\n",
    "\n",
    "plt.rcdefaults()\n",
    "fig, ax = plt.subplots()\n",
    "\n",
    "ax.barh(df['Name'][0], df['Years active'][0], align='center')\n",
    "\n",
    "years = YearLocator()   # every year\n",
    "ax = plt.gca()\n",
    "\n",
    "plt.setp(ax.get_xticklabels(), rotation=45)\n",
    "plt.show()"
   ]
  },
  {
   "cell_type": "code",
   "execution_count": 1436,
   "id": "52ff72bf-0ee9-4ed1-9207-15d5982e7a27",
   "metadata": {},
   "outputs": [
    {
     "data": {
      "image/png": "[encoded data removed]",
      "text/plain": [
       "<Figure size 640x480 with 1 Axes>"
      ]
     },
     "metadata": {},
     "output_type": "display_data"
    }
   ],
   "source": [
    "import pylab\n",
    "import numpy as np\n",
    "import datetime\n",
    "from matplotlib.dates import YearLocator, MonthLocator, DateFormatter\n",
    "\n",
    "plt.rcdefaults()\n",
    "fig, ax = plt.subplots()\n",
    "\n",
    "ax.barh(df['Name'], df['Years active'], align='center')\n",
    "\n",
    "years = YearLocator()   # every year\n",
    "ax = plt.gca()\n",
    "ax.xaxis.set_major_locator(years)\n",
    "\n",
    "plt.setp(ax.get_xticklabels(), rotation=45)\n",
    "plt.show()"
   ]
  },
  {
   "cell_type": "code",
   "execution_count": null,
   "id": "650f73b6-35c7-4692-991f-e3cee0b9de76",
   "metadata": {},
   "outputs": [],
   "source": []
  },
  {
   "cell_type": "code",
   "execution_count": null,
   "id": "fb0972b8-4fab-489a-98bc-222a025c1cf8",
   "metadata": {},
   "outputs": [],
   "source": []
  },
  {
   "cell_type": "code",
   "execution_count": null,
   "id": "7257402c-9aa9-4e86-b8d4-b3b511e9d907",
   "metadata": {},
   "outputs": [],
   "source": []
  },
  {
   "cell_type": "code",
   "execution_count": null,
   "id": "b0b3e54f-bdfd-47ec-a826-7a44f288dd26",
   "metadata": {},
   "outputs": [],
   "source": []
  },
  {
   "cell_type": "code",
   "execution_count": null,
   "id": "a41c6bcf-594f-48e8-9f8f-cfdb4fb6a8b0",
   "metadata": {},
   "outputs": [],
   "source": []
  },
  {
   "cell_type": "code",
   "execution_count": null,
   "id": "3f060cd1-03c7-451e-8659-49b4eb2d9390",
   "metadata": {},
   "outputs": [],
   "source": []
  },
  {
   "cell_type": "code",
   "execution_count": null,
   "id": "8ba27d69-cc02-4fc9-89d0-707553f452fe",
   "metadata": {},
   "outputs": [],
   "source": []
  },
  {
   "cell_type": "code",
   "execution_count": 1143,
   "id": "090bb4b8-91c6-4d1e-b2f9-06e10b5607fc",
   "metadata": {
    "tags": []
   },
   "outputs": [],
   "source": [
    "# df_memspage = pd.DataFrame({'names' : names,\n",
    "#               'dates' : dts,\n",
    "#               'instruments' : inst})\n"
   ]
  },
  {
   "cell_type": "code",
   "execution_count": null,
   "id": "07990a97-c805-478a-ac17-5a920bbf42eb",
   "metadata": {},
   "outputs": [],
   "source": []
  },
  {
   "cell_type": "code",
   "execution_count": null,
   "id": "a09cca97-0840-41ae-a0cd-7994686721b3",
   "metadata": {},
   "outputs": [],
   "source": []
  },
  {
   "cell_type": "code",
   "execution_count": 1201,
   "id": "ae83e3ed-33bd-4ec6-953c-1a1b53d60c3f",
   "metadata": {},
   "outputs": [],
   "source": [
    "# Retired Function (using prettify now)\n",
    "\n",
    "names, dts, inst, act = [], [], [], [] # init lists before function\n",
    "def memsTableScrape(table, activity):\n",
    "    \n",
    "    for row in table.find_all('tr')[1:]:\n",
    "        name = row.find_all('td')[1].get_text()\n",
    "        dates = row.find_all('td')[2]\n",
    "        instruments = row.find_all('td')[3]\n",
    "        \n",
    "        try:\n",
    "            dts2 = []\n",
    "            for i in dates.find('ul'):\n",
    "                dts2.append(i.get_text())\n",
    "        except:\n",
    "            pass\n",
    "        try:\n",
    "            inst2 = []\n",
    "            for i in instruments.find('ul'):\n",
    "                inst2.append(i.get_text())\n",
    "        except:\n",
    "            pass\n",
    "        \n",
    "        names.append(name)\n",
    "        if len(dts2) > 0:\n",
    "            dts.append(dts2)\n",
    "        else:\n",
    "            dts.append(dates.get_text())\n",
    "        if len(inst2) > 0:\n",
    "            inst.append(inst2)\n",
    "        else:\n",
    "            inst.append(instruments)\n",
    "        act.append(activity)\n"
   ]
  },
  {
   "cell_type": "code",
   "execution_count": 1202,
   "id": "fc6c343e-b84a-4786-9bcc-f1b85f234a78",
   "metadata": {},
   "outputs": [],
   "source": [
    "# memsTableScrape(tbl1, 'current')\n",
    "\n",
    "# # df_memspage = df_memspage.style.set_properties(subset=['instruments'], **{'width': '300px'})\n",
    "\n",
    "# # Cast lists to strings\n",
    "# df_memspage['dates'] = df_memspage.dates.apply(lambda row: ', '.join(row) if type(row) is list else row)\n",
    "# df_memspage['instruments'] = df_memspage.instruments.apply(lambda row: ', '.join(row) if type(row) is list else row)\n",
    "\n",
    "# df_memspage['names'] = df_memspage['names'].map(lambda x: x.rstrip('\\n'))\n",
    "# df_memspage['dates'] = df_memspage['dates'].map(lambda x: x.rstrip('\\n'))\n",
    "# df_memspage['instruments'] = df_memspage['instruments'].map(lambda x: x.strip('\\n'))\n",
    "# df_memspage['activity'] = act"
   ]
  },
  {
   "cell_type": "code",
   "execution_count": 1203,
   "id": "68d4e73c-748d-4d73-840b-f44b8adf4174",
   "metadata": {},
   "outputs": [],
   "source": [
    "### Retired function, after scraping into lists directly\n",
    "\n",
    "def formatDates(row):\n",
    "    dl = df_memspage['dates'][row]\n",
    "    if '–' in dl:\n",
    "        dl = dl.split('–')\n",
    "    elif '-' in dl:\n",
    "        dl = dl.split('-')\n",
    "    print(dl)\n",
    "    date_list = []\n",
    "    date_list.append(dl[0]) # add first date\n",
    "    if len(dl) > 2:\n",
    "        for d in dl[1:-1]:\n",
    "        # splits the middle dates in half. Assumes each is even number of ints\n",
    "            h1 = d[:len(d)//2]\n",
    "            h2 = i[len(d)//2:]\n",
    "            date_list.append(h1)\n",
    "            date_list.append(h2)\n",
    "    date_list.append(dl[-1]) # add last date\n",
    "    zipped_dl = list(zip(date_list[0::2], date_list[1::2])) # pairs \n",
    "    df_memspage['dates'][row] = zipped_dl\n",
    "    return zipped_dl"
   ]
  }
 ],
 "metadata": {
  "kernelspec": {
   "display_name": "Python 3",
   "language": "python",
   "name": "python3"
  },
  "language_info": {
   "codemirror_mode": {
    "name": "ipython",
    "version": 3
   },
   "file_extension": ".py",
   "mimetype": "text/x-python",
   "name": "python",
   "nbconvert_exporter": "python",
   "pygments_lexer": "ipython3",
   "version": "3.9.5"
  }
 },
 "nbformat": 4,
 "nbformat_minor": 5
}
