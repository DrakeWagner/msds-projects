{
 "cells": [
  {
   "cell_type": "markdown",
   "metadata": {},
   "source": [
    "## Exploring GraphX"
   ]
  },
  {
   "cell_type": "code",
   "execution_count": 31,
   "metadata": {},
   "outputs": [],
   "source": [
    "from pyspark.sql import SparkSession\n",
    "spark = SparkSession.builder.getOrCreate()\n",
    "from graphframes import *"
   ]
  },
  {
   "cell_type": "code",
   "execution_count": 32,
   "metadata": {},
   "outputs": [],
   "source": [
    "# Vertex DataFrame; contains identifier field \"id\"\n",
    "v = spark.createDataFrame([\n",
    "  (\"1\", \"Adam\", \"koala\"),\n",
    "  (\"2\", \"Callie\", \"flamingo\"),\n",
    "  (\"3\", \"Elle\", \"panda\"),\n",
    "  (\"4\", \"Jacqui\", \"fox\")\n",
    "], [\"id\", \"name\", \"favorite_animal\"])\n",
    "\n",
    "# Edge DataFrame; contains source field \"src\" and destination field \"dst\"\n",
    "e = spark.createDataFrame([\n",
    "  (\"1\", \"2\", \"dad\"),\n",
    "  (\"1\", \"3\", \"husband\"),\n",
    "  (\"1\", \"4\", \"son_in_law\"),\n",
    "  (\"2\", \"1\", \"daughter\"),\n",
    "  (\"2\", \"3\", \"daughter\"),\n",
    "  (\"2\", \"4\", \"granddaughter\"),\n",
    "  (\"3\", \"1\", \"wife\"),\n",
    "  (\"3\", \"2\", \"mom\"),\n",
    "  (\"3\", \"4\", \"daughter\"),\n",
    "  (\"4\", \"1\", \"mother_in_law\"),\n",
    "  (\"4\", \"2\", \"grandmother\"),\n",
    "  (\"4\", \"3\", \"mom\")\n",
    "], [\"src\", \"dst\", \"relationship\"])"
   ]
  },
  {
   "cell_type": "code",
   "execution_count": 33,
   "metadata": {},
   "outputs": [],
   "source": [
    "g = GraphFrame(v, e)"
   ]
  },
  {
   "cell_type": "code",
   "execution_count": 34,
   "metadata": {},
   "outputs": [
    {
     "name": "stdout",
     "output_type": "stream",
     "text": [
      "+---+------+---------------+\n",
      "| id|  name|favorite_animal|\n",
      "+---+------+---------------+\n",
      "|  1|  Adam|          koala|\n",
      "|  2|Callie|       flamingo|\n",
      "|  3|  Elle|          panda|\n",
      "|  4|Jacqui|            fox|\n",
      "+---+------+---------------+\n",
      "\n"
     ]
    }
   ],
   "source": [
    "g.vertices.show()"
   ]
  },
  {
   "cell_type": "code",
   "execution_count": 35,
   "metadata": {},
   "outputs": [
    {
     "name": "stdout",
     "output_type": "stream",
     "text": [
      "1\n"
     ]
    }
   ],
   "source": [
    "# number of grandmother relationships in the graph\n",
    "numGmother = g.edges.filter(\"relationship = 'grandmother'\").count()\n",
    "print(numGmother)"
   ]
  },
  {
   "cell_type": "code",
   "execution_count": 36,
   "metadata": {},
   "outputs": [],
   "source": [
    "results = g.pageRank(resetProbability=0.25, maxIter=20)\n",
    "vertices = results.vertices"
   ]
  },
  {
   "cell_type": "code",
   "execution_count": 37,
   "metadata": {},
   "outputs": [
    {
     "name": "stdout",
     "output_type": "stream",
     "text": [
      "+---+------+---------------+--------+\n",
      "| id|  name|favorite_animal|pagerank|\n",
      "+---+------+---------------+--------+\n",
      "|  1|  Adam|          koala|     1.0|\n",
      "|  3|  Elle|          panda|     1.0|\n",
      "|  2|Callie|       flamingo|     1.0|\n",
      "|  4|Jacqui|            fox|     1.0|\n",
      "+---+------+---------------+--------+\n",
      "\n"
     ]
    }
   ],
   "source": [
    "vertices.show()"
   ]
  },
  {
   "cell_type": "code",
   "execution_count": 38,
   "metadata": {},
   "outputs": [],
   "source": [
    "# building a new graph from the original dataframes to produce pagerank values\n",
    "# that are not all the same, shown in the `results.pagerank` field\n",
    "\n",
    "# vertex/edge data\n",
    "# identifier field: \"id\"\n",
    "v = spark.createDataFrame([\n",
    "  (\"1\", \"Adam\", \"koala\"),\n",
    "  (\"2\", \"Callie\", \"flamingo\"),\n",
    "  (\"3\", \"Elle\", \"panda\"),\n",
    "  (\"4\", \"Jacqui\", \"fox\")\n",
    "], [\"id\", \"name\", \"favorite_animal\"])\n",
    "\n",
    "# source field: \"src\"\n",
    "# destination field: \"dst\"\n",
    "e = spark.createDataFrame([\n",
    "  (\"1\", \"2\", \"dad\"),\n",
    "  (\"1\", \"2\", \"husband\"),\n",
    "  (\"1\", \"2\", \"son_in_law\"),\n",
    "  (\"2\", \"1\", \"daughter\"),\n",
    "  (\"2\", \"1\", \"daughter\"),\n",
    "  (\"2\", \"1\", \"granddaughter\"),\n",
    "  (\"3\", \"3\", \"wife\"),\n",
    "  (\"3\", \"2\", \"mom\"),\n",
    "  (\"3\", \"2\", \"mom\"),\n",
    "  (\"4\", \"1\", \"mother_in_law\"),\n",
    "  (\"4\", \"2\", \"mom\"),\n",
    "  (\"4\", \"2\", \"mom\")\n",
    "], [\"src\", \"dst\", \"relationship\"])\n",
    "\n",
    "g = GraphFrame(v, e)"
   ]
  },
  {
   "cell_type": "code",
   "execution_count": 39,
   "metadata": {},
   "outputs": [],
   "source": [
    "results = g.pageRank(resetProbability=0.25, maxIter=20)\n",
    "vertices = results.vertices"
   ]
  },
  {
   "cell_type": "code",
   "execution_count": 40,
   "metadata": {},
   "outputs": [
    {
     "name": "stdout",
     "output_type": "stream",
     "text": [
      "+---+------+---------------+-------------------+\n",
      "| id|  name|favorite_animal|           pagerank|\n",
      "+---+------+---------------+-------------------+\n",
      "|  1|  Adam|          koala| 1.6439897185491648|\n",
      "|  3|  Elle|          panda| 0.3333333333339397|\n",
      "|  2|Callie|       flamingo| 1.7726769481168958|\n",
      "|  4|Jacqui|            fox|0.25000000000000006|\n",
      "+---+------+---------------+-------------------+\n",
      "\n"
     ]
    }
   ],
   "source": [
    "vertices.show()"
   ]
  },
  {
   "cell_type": "markdown",
   "metadata": {},
   "source": [
    "Yes, these results do make sense. I intentionally made verticies 1 and 2 important by attaching many different edges to them, while barely attaching any followers to 3 and 4. Therefore, the pageranks are higher for the first two vertices, and lower for the latter two."
   ]
  },
  {
   "cell_type": "code",
   "execution_count": null,
   "metadata": {},
   "outputs": [],
   "source": [
    "By attaching many different edges to vertices 1 and 2, I made them more important. By attaching hardly any to "
   ]
  }
 ],
 "metadata": {
  "anaconda-cloud": {},
  "kernelspec": {
   "display_name": "DS 5110",
   "language": "python",
   "name": "ds5110"
  },
  "language_info": {
   "codemirror_mode": {
    "name": "ipython",
    "version": 3
   },
   "file_extension": ".py",
   "mimetype": "text/x-python",
   "name": "python",
   "nbconvert_exporter": "python",
   "pygments_lexer": "ipython3",
   "version": "3.7.10"
  }
 },
 "nbformat": 4,
 "nbformat_minor": 4
}
