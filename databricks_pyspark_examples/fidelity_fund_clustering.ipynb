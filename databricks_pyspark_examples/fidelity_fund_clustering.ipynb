{
 "cells": [
  {
   "cell_type": "markdown",
   "metadata": {},
   "source": [
    "\n",
    "### K-Means Cluster Analysis of Fidelity Fund Returns \n",
    "\n",
    "In this project, I conduct a k-means cluster analysis on a set of Fidelity mutual funds. This helps group similar funds based on their performance."
   ]
  },
  {
   "cell_type": "markdown",
   "metadata": {},
   "source": [
    "##### Preprocessing"
   ]
  },
  {
   "cell_type": "code",
   "execution_count": 1,
   "metadata": {},
   "outputs": [],
   "source": [
    "import pandas as pd\n",
    "import numpy as np"
   ]
  },
  {
   "cell_type": "code",
   "execution_count": 2,
   "metadata": {},
   "outputs": [],
   "source": [
    "df0 = pd.read_csv('fido_returns.csv')"
   ]
  },
  {
   "cell_type": "code",
   "execution_count": 3,
   "metadata": {},
   "outputs": [
    {
     "data": {
      "text/html": [
       "<div>\n",
       "<style scoped>\n",
       "    .dataframe tbody tr th:only-of-type {\n",
       "        vertical-align: middle;\n",
       "    }\n",
       "\n",
       "    .dataframe tbody tr th {\n",
       "        vertical-align: top;\n",
       "    }\n",
       "\n",
       "    .dataframe thead th {\n",
       "        text-align: right;\n",
       "    }\n",
       "</style>\n",
       "<table border=\"1\" class=\"dataframe\">\n",
       "  <thead>\n",
       "    <tr style=\"text-align: right;\">\n",
       "      <th></th>\n",
       "      <th>Index</th>\n",
       "      <th>FSCEX</th>\n",
       "      <th>FSCBX</th>\n",
       "      <th>FSCIX</th>\n",
       "      <th>FDGIX</th>\n",
       "      <th>FADBX</th>\n",
       "      <th>FADAX</th>\n",
       "      <th>FDGTX</th>\n",
       "      <th>FSFCX</th>\n",
       "      <th>FAMUX</th>\n",
       "      <th>...</th>\n",
       "      <th>FVDKX</th>\n",
       "      <th>FDVLX</th>\n",
       "      <th>FVLKX</th>\n",
       "      <th>FSLSX</th>\n",
       "      <th>FASBX</th>\n",
       "      <th>FVSKX</th>\n",
       "      <th>FWWFX</th>\n",
       "      <th>FBVFX</th>\n",
       "      <th>FCFFX</th>\n",
       "      <th>FTFFX</th>\n",
       "    </tr>\n",
       "  </thead>\n",
       "  <tbody>\n",
       "    <tr>\n",
       "      <th>0</th>\n",
       "      <td>2007-01-03</td>\n",
       "      <td>0.000000</td>\n",
       "      <td>0.000000</td>\n",
       "      <td>0.000000</td>\n",
       "      <td>0.000000</td>\n",
       "      <td>0.000000</td>\n",
       "      <td>0.000000</td>\n",
       "      <td>0.000000</td>\n",
       "      <td>0.000000</td>\n",
       "      <td>0.000</td>\n",
       "      <td>...</td>\n",
       "      <td>0.0</td>\n",
       "      <td>0.000000</td>\n",
       "      <td>0.0</td>\n",
       "      <td>0.000000</td>\n",
       "      <td>0.000000</td>\n",
       "      <td>0.0</td>\n",
       "      <td>0.000000</td>\n",
       "      <td>0.000000</td>\n",
       "      <td>0.000000</td>\n",
       "      <td>0.000000</td>\n",
       "    </tr>\n",
       "    <tr>\n",
       "      <th>1</th>\n",
       "      <td>2007-01-04</td>\n",
       "      <td>0.000000</td>\n",
       "      <td>0.000000</td>\n",
       "      <td>0.000000</td>\n",
       "      <td>0.000826</td>\n",
       "      <td>0.000828</td>\n",
       "      <td>0.000840</td>\n",
       "      <td>0.001663</td>\n",
       "      <td>0.001165</td>\n",
       "      <td>0.001</td>\n",
       "      <td>...</td>\n",
       "      <td>0.0</td>\n",
       "      <td>0.000718</td>\n",
       "      <td>0.0</td>\n",
       "      <td>0.000377</td>\n",
       "      <td>0.000857</td>\n",
       "      <td>0.0</td>\n",
       "      <td>-0.004638</td>\n",
       "      <td>0.000726</td>\n",
       "      <td>0.000000</td>\n",
       "      <td>0.000000</td>\n",
       "    </tr>\n",
       "    <tr>\n",
       "      <th>2</th>\n",
       "      <td>2007-01-05</td>\n",
       "      <td>-0.010407</td>\n",
       "      <td>-0.010517</td>\n",
       "      <td>-0.010764</td>\n",
       "      <td>-0.004967</td>\n",
       "      <td>-0.004979</td>\n",
       "      <td>-0.005051</td>\n",
       "      <td>-0.005831</td>\n",
       "      <td>-0.001165</td>\n",
       "      <td>0.000</td>\n",
       "      <td>...</td>\n",
       "      <td>0.0</td>\n",
       "      <td>-0.008943</td>\n",
       "      <td>0.0</td>\n",
       "      <td>-0.011749</td>\n",
       "      <td>-0.012069</td>\n",
       "      <td>0.0</td>\n",
       "      <td>-0.009927</td>\n",
       "      <td>-0.008746</td>\n",
       "      <td>-0.006826</td>\n",
       "      <td>-0.006957</td>\n",
       "    </tr>\n",
       "  </tbody>\n",
       "</table>\n",
       "<p>3 rows × 928 columns</p>\n",
       "</div>"
      ],
      "text/plain": [
       "        Index     FSCEX     FSCBX     FSCIX     FDGIX     FADBX     FADAX  \\\n",
       "0  2007-01-03  0.000000  0.000000  0.000000  0.000000  0.000000  0.000000   \n",
       "1  2007-01-04  0.000000  0.000000  0.000000  0.000826  0.000828  0.000840   \n",
       "2  2007-01-05 -0.010407 -0.010517 -0.010764 -0.004967 -0.004979 -0.005051   \n",
       "\n",
       "      FDGTX     FSFCX  FAMUX  ...  FVDKX     FDVLX  FVLKX     FSLSX     FASBX  \\\n",
       "0  0.000000  0.000000  0.000  ...    0.0  0.000000    0.0  0.000000  0.000000   \n",
       "1  0.001663  0.001165  0.001  ...    0.0  0.000718    0.0  0.000377  0.000857   \n",
       "2 -0.005831 -0.001165  0.000  ...    0.0 -0.008943    0.0 -0.011749 -0.012069   \n",
       "\n",
       "   FVSKX     FWWFX     FBVFX     FCFFX     FTFFX  \n",
       "0    0.0  0.000000  0.000000  0.000000  0.000000  \n",
       "1    0.0 -0.004638  0.000726  0.000000  0.000000  \n",
       "2    0.0 -0.009927 -0.008746 -0.006826 -0.006957  \n",
       "\n",
       "[3 rows x 928 columns]"
      ]
     },
     "execution_count": 3,
     "metadata": {},
     "output_type": "execute_result"
    }
   ],
   "source": [
    "df0.head(3)"
   ]
  },
  {
   "cell_type": "code",
   "execution_count": 4,
   "metadata": {},
   "outputs": [
    {
     "data": {
      "text/plain": [
       "['FSCEX', 'FSCBX', 'FSCIX', 'FDGIX', 'FADBX']"
      ]
     },
     "execution_count": 4,
     "metadata": {},
     "output_type": "execute_result"
    }
   ],
   "source": [
    "# store the tickers in a list called tickers\n",
    "tickers = list(df0.columns[1:])\n",
    "tickers[:5]"
   ]
  },
  {
   "cell_type": "code",
   "execution_count": 5,
   "metadata": {},
   "outputs": [
    {
     "data": {
      "text/plain": [
       "array(['2007-01-03', '2007-01-04', '2007-01-05', '2007-01-08',\n",
       "       '2007-01-09'], dtype=object)"
      ]
     },
     "execution_count": 5,
     "metadata": {},
     "output_type": "execute_result"
    }
   ],
   "source": [
    "# store the dates\n",
    "dates = df0.Index.values\n",
    "dates[:5]"
   ]
  },
  {
   "cell_type": "code",
   "execution_count": 6,
   "metadata": {},
   "outputs": [],
   "source": [
    "# drop the index column\n",
    "del df0['Index']"
   ]
  },
  {
   "cell_type": "code",
   "execution_count": 7,
   "metadata": {},
   "outputs": [],
   "source": [
    "# store the dataframe values\n",
    "vals = df0.values"
   ]
  },
  {
   "cell_type": "code",
   "execution_count": 8,
   "metadata": {},
   "outputs": [],
   "source": [
    "# transpose the data, putting funds on rows and timepoints on columns\n",
    "vals_t = vals.transpose()"
   ]
  },
  {
   "cell_type": "code",
   "execution_count": 9,
   "metadata": {},
   "outputs": [
    {
     "data": {
      "text/plain": [
       "array([[ 0.        ,  0.        , -0.0104072 , ..., -0.00193986,\n",
       "        -0.01368545,  0.01329703],\n",
       "       [ 0.        ,  0.        , -0.01051664, ..., -0.00157109,\n",
       "        -0.01385338,  0.01346022],\n",
       "       [ 0.        ,  0.        , -0.01076437, ..., -0.00158806,\n",
       "        -0.01376242,  0.0134445 ],\n",
       "       ...,\n",
       "       [ 0.        ,  0.00072595, -0.00874641, ...,  0.00109709,\n",
       "        -0.01380094,  0.01105594],\n",
       "       [ 0.        ,  0.        , -0.00682597, ...,  0.00284698,\n",
       "        -0.01071822,  0.00715823],\n",
       "       [ 0.        ,  0.        , -0.00695655, ...,  0.00280899,\n",
       "        -0.01128362,  0.00777114]])"
      ]
     },
     "execution_count": 9,
     "metadata": {},
     "output_type": "execute_result"
    }
   ],
   "source": [
    "vals_t"
   ]
  },
  {
   "cell_type": "code",
   "execution_count": 10,
   "metadata": {},
   "outputs": [
    {
     "data": {
      "text/plain": [
       "(927, 1731)"
      ]
     },
     "execution_count": 10,
     "metadata": {},
     "output_type": "execute_result"
    }
   ],
   "source": [
    "vals_t.shape"
   ]
  },
  {
   "cell_type": "code",
   "execution_count": 11,
   "metadata": {},
   "outputs": [],
   "source": [
    "# build the dataframe with transposed data, calling it dft.\n",
    "dft = pd.DataFrame(data=vals_t, index=df0.columns, columns=dates)"
   ]
  },
  {
   "cell_type": "code",
   "execution_count": 12,
   "metadata": {},
   "outputs": [
    {
     "data": {
      "text/html": [
       "<div>\n",
       "<style scoped>\n",
       "    .dataframe tbody tr th:only-of-type {\n",
       "        vertical-align: middle;\n",
       "    }\n",
       "\n",
       "    .dataframe tbody tr th {\n",
       "        vertical-align: top;\n",
       "    }\n",
       "\n",
       "    .dataframe thead th {\n",
       "        text-align: right;\n",
       "    }\n",
       "</style>\n",
       "<table border=\"1\" class=\"dataframe\">\n",
       "  <thead>\n",
       "    <tr style=\"text-align: right;\">\n",
       "      <th></th>\n",
       "      <th>2007-01-03</th>\n",
       "      <th>2007-01-04</th>\n",
       "      <th>2007-01-05</th>\n",
       "      <th>2007-01-08</th>\n",
       "      <th>2007-01-09</th>\n",
       "      <th>2007-01-10</th>\n",
       "      <th>2007-01-11</th>\n",
       "      <th>2007-01-12</th>\n",
       "      <th>2007-01-16</th>\n",
       "      <th>2007-01-17</th>\n",
       "      <th>...</th>\n",
       "      <th>2013-10-28</th>\n",
       "      <th>2013-10-29</th>\n",
       "      <th>2013-10-30</th>\n",
       "      <th>2013-10-31</th>\n",
       "      <th>2013-11-01</th>\n",
       "      <th>2013-11-04</th>\n",
       "      <th>2013-11-05</th>\n",
       "      <th>2013-11-06</th>\n",
       "      <th>2013-11-07</th>\n",
       "      <th>2013-11-08</th>\n",
       "    </tr>\n",
       "  </thead>\n",
       "  <tbody>\n",
       "    <tr>\n",
       "      <th>FSCEX</th>\n",
       "      <td>0.0</td>\n",
       "      <td>0.000000</td>\n",
       "      <td>-0.010407</td>\n",
       "      <td>0.003686</td>\n",
       "      <td>-0.001841</td>\n",
       "      <td>-0.000614</td>\n",
       "      <td>0.008568</td>\n",
       "      <td>0.004863</td>\n",
       "      <td>0.000000</td>\n",
       "      <td>-0.003645</td>\n",
       "      <td>...</td>\n",
       "      <td>-0.000386</td>\n",
       "      <td>0.003470</td>\n",
       "      <td>-0.006178</td>\n",
       "      <td>-0.001163</td>\n",
       "      <td>-0.003885</td>\n",
       "      <td>0.010070</td>\n",
       "      <td>-0.005797</td>\n",
       "      <td>-0.001940</td>\n",
       "      <td>-0.013685</td>\n",
       "      <td>0.013297</td>\n",
       "    </tr>\n",
       "    <tr>\n",
       "      <th>FSCBX</th>\n",
       "      <td>0.0</td>\n",
       "      <td>0.000000</td>\n",
       "      <td>-0.010517</td>\n",
       "      <td>0.003724</td>\n",
       "      <td>-0.001240</td>\n",
       "      <td>-0.001241</td>\n",
       "      <td>0.008658</td>\n",
       "      <td>0.004914</td>\n",
       "      <td>-0.000613</td>\n",
       "      <td>-0.003070</td>\n",
       "      <td>...</td>\n",
       "      <td>-0.000391</td>\n",
       "      <td>0.003512</td>\n",
       "      <td>-0.006252</td>\n",
       "      <td>-0.001177</td>\n",
       "      <td>-0.003932</td>\n",
       "      <td>0.009802</td>\n",
       "      <td>-0.005870</td>\n",
       "      <td>-0.001571</td>\n",
       "      <td>-0.013853</td>\n",
       "      <td>0.013460</td>\n",
       "    </tr>\n",
       "    <tr>\n",
       "      <th>FSCIX</th>\n",
       "      <td>0.0</td>\n",
       "      <td>0.000000</td>\n",
       "      <td>-0.010764</td>\n",
       "      <td>0.003781</td>\n",
       "      <td>-0.001619</td>\n",
       "      <td>0.000000</td>\n",
       "      <td>0.008602</td>\n",
       "      <td>0.004274</td>\n",
       "      <td>0.000000</td>\n",
       "      <td>-0.003203</td>\n",
       "      <td>...</td>\n",
       "      <td>-0.000633</td>\n",
       "      <td>0.003789</td>\n",
       "      <td>-0.006323</td>\n",
       "      <td>-0.000952</td>\n",
       "      <td>-0.003817</td>\n",
       "      <td>0.009830</td>\n",
       "      <td>-0.005696</td>\n",
       "      <td>-0.001588</td>\n",
       "      <td>-0.013762</td>\n",
       "      <td>0.013445</td>\n",
       "    </tr>\n",
       "    <tr>\n",
       "      <th>FDGIX</th>\n",
       "      <td>0.0</td>\n",
       "      <td>0.000826</td>\n",
       "      <td>-0.004967</td>\n",
       "      <td>0.002487</td>\n",
       "      <td>-0.000828</td>\n",
       "      <td>0.000828</td>\n",
       "      <td>0.004955</td>\n",
       "      <td>0.005750</td>\n",
       "      <td>-0.000819</td>\n",
       "      <td>0.001638</td>\n",
       "      <td>...</td>\n",
       "      <td>0.000000</td>\n",
       "      <td>0.004001</td>\n",
       "      <td>-0.005147</td>\n",
       "      <td>-0.004598</td>\n",
       "      <td>0.001727</td>\n",
       "      <td>0.003444</td>\n",
       "      <td>-0.003444</td>\n",
       "      <td>0.002871</td>\n",
       "      <td>-0.014439</td>\n",
       "      <td>0.014439</td>\n",
       "    </tr>\n",
       "    <tr>\n",
       "      <th>FADBX</th>\n",
       "      <td>0.0</td>\n",
       "      <td>0.000828</td>\n",
       "      <td>-0.004979</td>\n",
       "      <td>0.002493</td>\n",
       "      <td>-0.000830</td>\n",
       "      <td>0.000830</td>\n",
       "      <td>0.004967</td>\n",
       "      <td>0.004942</td>\n",
       "      <td>0.000000</td>\n",
       "      <td>0.000821</td>\n",
       "      <td>...</td>\n",
       "      <td>0.000000</td>\n",
       "      <td>0.003704</td>\n",
       "      <td>-0.004941</td>\n",
       "      <td>-0.004344</td>\n",
       "      <td>0.001864</td>\n",
       "      <td>0.003099</td>\n",
       "      <td>-0.003099</td>\n",
       "      <td>0.002480</td>\n",
       "      <td>-0.014972</td>\n",
       "      <td>0.014972</td>\n",
       "    </tr>\n",
       "  </tbody>\n",
       "</table>\n",
       "<p>5 rows × 1731 columns</p>\n",
       "</div>"
      ],
      "text/plain": [
       "       2007-01-03  2007-01-04  2007-01-05  2007-01-08  2007-01-09  2007-01-10  \\\n",
       "FSCEX         0.0    0.000000   -0.010407    0.003686   -0.001841   -0.000614   \n",
       "FSCBX         0.0    0.000000   -0.010517    0.003724   -0.001240   -0.001241   \n",
       "FSCIX         0.0    0.000000   -0.010764    0.003781   -0.001619    0.000000   \n",
       "FDGIX         0.0    0.000826   -0.004967    0.002487   -0.000828    0.000828   \n",
       "FADBX         0.0    0.000828   -0.004979    0.002493   -0.000830    0.000830   \n",
       "\n",
       "       2007-01-11  2007-01-12  2007-01-16  2007-01-17  ...  2013-10-28  \\\n",
       "FSCEX    0.008568    0.004863    0.000000   -0.003645  ...   -0.000386   \n",
       "FSCBX    0.008658    0.004914   -0.000613   -0.003070  ...   -0.000391   \n",
       "FSCIX    0.008602    0.004274    0.000000   -0.003203  ...   -0.000633   \n",
       "FDGIX    0.004955    0.005750   -0.000819    0.001638  ...    0.000000   \n",
       "FADBX    0.004967    0.004942    0.000000    0.000821  ...    0.000000   \n",
       "\n",
       "       2013-10-29  2013-10-30  2013-10-31  2013-11-01  2013-11-04  2013-11-05  \\\n",
       "FSCEX    0.003470   -0.006178   -0.001163   -0.003885    0.010070   -0.005797   \n",
       "FSCBX    0.003512   -0.006252   -0.001177   -0.003932    0.009802   -0.005870   \n",
       "FSCIX    0.003789   -0.006323   -0.000952   -0.003817    0.009830   -0.005696   \n",
       "FDGIX    0.004001   -0.005147   -0.004598    0.001727    0.003444   -0.003444   \n",
       "FADBX    0.003704   -0.004941   -0.004344    0.001864    0.003099   -0.003099   \n",
       "\n",
       "       2013-11-06  2013-11-07  2013-11-08  \n",
       "FSCEX   -0.001940   -0.013685    0.013297  \n",
       "FSCBX   -0.001571   -0.013853    0.013460  \n",
       "FSCIX   -0.001588   -0.013762    0.013445  \n",
       "FDGIX    0.002871   -0.014439    0.014439  \n",
       "FADBX    0.002480   -0.014972    0.014972  \n",
       "\n",
       "[5 rows x 1731 columns]"
      ]
     },
     "execution_count": 12,
     "metadata": {},
     "output_type": "execute_result"
    }
   ],
   "source": [
    "dft.head()"
   ]
  },
  {
   "cell_type": "markdown",
   "metadata": {},
   "source": [
    "##### Read Data into Spark DataFrame"
   ]
  },
  {
   "cell_type": "code",
   "execution_count": 13,
   "metadata": {},
   "outputs": [],
   "source": [
    "from pyspark.ml.clustering import KMeans\n",
    "from pyspark.ml.evaluation import ClusteringEvaluator\n",
    "from pyspark.ml.feature import VectorAssembler\n",
    "\n",
    "from pyspark.sql import SparkSession\n",
    "spark = SparkSession.builder.getOrCreate()\n",
    "\n",
    "filename = 'fido_returns_funds_on_rows.csv'\n",
    "df = spark.read.csv(filename,  inferSchema=True, header = True)"
   ]
  },
  {
   "cell_type": "markdown",
   "metadata": {},
   "source": [
    "Assemble the Features"
   ]
  },
  {
   "cell_type": "code",
   "execution_count": 14,
   "metadata": {},
   "outputs": [],
   "source": [
    "feats = []\n",
    "for i in df.schema.names:\n",
    "    feats.append(i)   \n",
    "\n",
    "assembler = VectorAssembler(inputCols=feats, outputCol=\"features\")\n",
    "dataset=assembler.transform(df)\n",
    "# dataset.select(\"*\").show(truncate=False)"
   ]
  },
  {
   "cell_type": "code",
   "execution_count": 15,
   "metadata": {},
   "outputs": [
    {
     "name": "stdout",
     "output_type": "stream",
     "text": [
      "+--------------------+\n",
      "|            features|\n",
      "+--------------------+\n",
      "|[0.0,0.0,-0.01040...|\n",
      "|[0.0,0.0,-0.01051...|\n",
      "|[0.0,0.0,-0.01076...|\n",
      "|[0.0,8.26105E-4,-...|\n",
      "|[0.0,8.2815740000...|\n",
      "+--------------------+\n",
      "only showing top 5 rows\n",
      "\n"
     ]
    }
   ],
   "source": [
    "dataset.select(dataset.features).show(5)"
   ]
  },
  {
   "cell_type": "code",
   "execution_count": 16,
   "metadata": {},
   "outputs": [
    {
     "name": "stdout",
     "output_type": "stream",
     "text": [
      "   2007-01-03  2007-01-04  2007-01-05  2007-01-08  2007-01-09  2007-01-10  \\\n",
      "2         0.0    0.000000   -0.010764    0.003781   -0.001619    0.000000   \n",
      "3         0.0    0.000826   -0.004967    0.002487   -0.000828    0.000828   \n",
      "4         0.0    0.000828   -0.004979    0.002493   -0.000830    0.000830   \n",
      "\n",
      "   2007-01-11  2007-01-12  2007-01-16  2007-01-17  ...  2013-10-29  \\\n",
      "2    0.008602    0.004274    0.000000   -0.003203  ...    0.003789   \n",
      "3    0.004955    0.005750   -0.000819    0.001638  ...    0.004001   \n",
      "4    0.004967    0.004942    0.000000    0.000821  ...    0.003704   \n",
      "\n",
      "   2013-10-30  2013-10-31  2013-11-01  2013-11-04  2013-11-05  2013-11-06  \\\n",
      "2   -0.006323   -0.000952   -0.003817    0.009830   -0.005696   -0.001588   \n",
      "3   -0.005147   -0.004598    0.001727    0.003444   -0.003444    0.002871   \n",
      "4   -0.004941   -0.004344    0.001864    0.003099   -0.003099    0.002480   \n",
      "\n",
      "   2013-11-07  2013-11-08                                           features  \n",
      "2   -0.013762    0.013445  [0.0, 0.0, -0.010764366599999999, 0.0037807228...  \n",
      "3   -0.014439    0.014439  [0.0, 0.000826105, -0.0049668976, 0.0024865326...  \n",
      "4   -0.014972    0.014972  [0.0, 0.0008281574000000001, -0.0049792634, 0....  \n",
      "\n",
      "[3 rows x 1732 columns]\n"
     ]
    }
   ],
   "source": [
    "pandasDF = dataset.toPandas()\n",
    "print(pandasDF[2:5])"
   ]
  },
  {
   "cell_type": "markdown",
   "metadata": {},
   "source": [
    "##### Set up."
   ]
  },
  {
   "cell_type": "code",
   "execution_count": 17,
   "metadata": {},
   "outputs": [],
   "source": [
    "kmeans = KMeans().setK(3).setSeed(314).setMaxIter(10)\n",
    "model = kmeans.fit(dataset)\n",
    "\n",
    "predictions = model.transform(dataset)"
   ]
  },
  {
   "cell_type": "code",
   "execution_count": 18,
   "metadata": {},
   "outputs": [
    {
     "name": "stdout",
     "output_type": "stream",
     "text": [
      "Silhouette with squared euclidean distance = 0.4948749854024883\n"
     ]
    }
   ],
   "source": [
    "evaluator = ClusteringEvaluator()\n",
    "\n",
    "silhouette = evaluator.evaluate(predictions)\n",
    "print(\"Silhouette with squared euclidean distance = \" + str(silhouette))"
   ]
  },
  {
   "cell_type": "code",
   "execution_count": 24,
   "metadata": {},
   "outputs": [],
   "source": [
    "'''\n",
    "  Here I define a function that:\n",
    "  - takes integers for lower and upper bounds, and a df\n",
    "  - fits K-means with k within this range\n",
    "  - compute the silhouette score for each k\n",
    "  - returns a pandas df with cols containing k and scores\n",
    "'''\n",
    "\n",
    "def kmeans_range(lower_bound, upper_bound, spark_df):\n",
    "\n",
    "    feats = []\n",
    "    for i in spark_df.schema.names:\n",
    "        feats.append(i)   \n",
    "    assembler = VectorAssembler(inputCols=feats, outputCol=\"features\")\n",
    "    dataset=assembler.transform(spark_df)\n",
    "    \n",
    "    \n",
    "    kvalues = []\n",
    "    sil_scores = []\n",
    "    for k in range(lower_bound, upper_bound):\n",
    "        kvalues.append(k)\n",
    "        kmeans = KMeans().setK(k).setSeed(314).setMaxIter(10)\n",
    "        model = kmeans.fit(dataset)\n",
    "        \n",
    "        # Silhouette Score\n",
    "        predictions = model.transform(dataset)\n",
    "        evaluator = ClusteringEvaluator()\n",
    "        silhouette = evaluator.evaluate(predictions)\n",
    "        print(\"Silhouette with squared euclidean distance = \" + str(silhouette))\n",
    "        sil_scores.append(silhouette)\n",
    "        \n",
    "    # create df\n",
    "    global kmeans_range_df\n",
    "    \n",
    "    data = {'k':kvalues,\n",
    "           'silhouette score':sil_scores}\n",
    "    kmeans_range_df = pd.DataFrame(data=data)\n",
    "    return kmeans_range_df\n",
    "\n",
    "        "
   ]
  },
  {
   "cell_type": "code",
   "execution_count": 25,
   "metadata": {},
   "outputs": [
    {
     "name": "stdout",
     "output_type": "stream",
     "text": [
      "Silhouette with squared euclidean distance = 0.6023964908433326\n",
      "Silhouette with squared euclidean distance = 0.4948749854024883\n",
      "Silhouette with squared euclidean distance = 0.5007957244197214\n",
      "Silhouette with squared euclidean distance = 0.45942626092737193\n",
      "Silhouette with squared euclidean distance = 0.4197571586160717\n",
      "Silhouette with squared euclidean distance = 0.46285078633569376\n",
      "Silhouette with squared euclidean distance = 0.30461359447002734\n",
      "Silhouette with squared euclidean distance = 0.37118713118241875\n",
      "Silhouette with squared euclidean distance = 0.4032173113386648\n"
     ]
    },
    {
     "data": {
      "text/html": [
       "<div>\n",
       "<style scoped>\n",
       "    .dataframe tbody tr th:only-of-type {\n",
       "        vertical-align: middle;\n",
       "    }\n",
       "\n",
       "    .dataframe tbody tr th {\n",
       "        vertical-align: top;\n",
       "    }\n",
       "\n",
       "    .dataframe thead th {\n",
       "        text-align: right;\n",
       "    }\n",
       "</style>\n",
       "<table border=\"1\" class=\"dataframe\">\n",
       "  <thead>\n",
       "    <tr style=\"text-align: right;\">\n",
       "      <th></th>\n",
       "      <th>k</th>\n",
       "      <th>silhouette score</th>\n",
       "    </tr>\n",
       "  </thead>\n",
       "  <tbody>\n",
       "    <tr>\n",
       "      <th>0</th>\n",
       "      <td>2</td>\n",
       "      <td>0.602396</td>\n",
       "    </tr>\n",
       "    <tr>\n",
       "      <th>1</th>\n",
       "      <td>3</td>\n",
       "      <td>0.494875</td>\n",
       "    </tr>\n",
       "    <tr>\n",
       "      <th>2</th>\n",
       "      <td>4</td>\n",
       "      <td>0.500796</td>\n",
       "    </tr>\n",
       "    <tr>\n",
       "      <th>3</th>\n",
       "      <td>5</td>\n",
       "      <td>0.459426</td>\n",
       "    </tr>\n",
       "    <tr>\n",
       "      <th>4</th>\n",
       "      <td>6</td>\n",
       "      <td>0.419757</td>\n",
       "    </tr>\n",
       "    <tr>\n",
       "      <th>5</th>\n",
       "      <td>7</td>\n",
       "      <td>0.462851</td>\n",
       "    </tr>\n",
       "    <tr>\n",
       "      <th>6</th>\n",
       "      <td>8</td>\n",
       "      <td>0.304614</td>\n",
       "    </tr>\n",
       "    <tr>\n",
       "      <th>7</th>\n",
       "      <td>9</td>\n",
       "      <td>0.371187</td>\n",
       "    </tr>\n",
       "    <tr>\n",
       "      <th>8</th>\n",
       "      <td>10</td>\n",
       "      <td>0.403217</td>\n",
       "    </tr>\n",
       "  </tbody>\n",
       "</table>\n",
       "</div>"
      ],
      "text/plain": [
       "    k  silhouette score\n",
       "0   2          0.602396\n",
       "1   3          0.494875\n",
       "2   4          0.500796\n",
       "3   5          0.459426\n",
       "4   6          0.419757\n",
       "5   7          0.462851\n",
       "6   8          0.304614\n",
       "7   9          0.371187\n",
       "8  10          0.403217"
      ]
     },
     "execution_count": 25,
     "metadata": {},
     "output_type": "execute_result"
    }
   ],
   "source": [
    "kmeans_210 = kmeans_range(2,11,df)\n",
    "kmeans_210"
   ]
  },
  {
   "cell_type": "code",
   "execution_count": 32,
   "metadata": {},
   "outputs": [],
   "source": [
    "%matplotlib inline\n",
    "import matplotlib.pyplot as plt"
   ]
  },
  {
   "cell_type": "code",
   "execution_count": 34,
   "metadata": {},
   "outputs": [
    {
     "data": {
      "text/plain": [
       "[<matplotlib.lines.Line2D at 0x7f77ac42d390>]"
      ]
     },
     "execution_count": 34,
     "metadata": {},
     "output_type": "execute_result"
    },
    {
     "data": {
      "image/png": "[encoded data removed]",
      "text/plain": [
       "<Figure size 432x288 with 1 Axes>"
      ]
     },
     "metadata": {
      "needs_background": "light"
     },
     "output_type": "display_data"
    }
   ],
   "source": [
    "plt.plot(kmeans_range_df['k'], kmeans_range_df['silhouette score'])"
   ]
  },
  {
   "cell_type": "code",
   "execution_count": 36,
   "metadata": {},
   "outputs": [
    {
     "name": "stdout",
     "output_type": "stream",
     "text": [
      "[NbConvertApp] Converting notebook /sfs/qumulo/qhome/dbw2tn/ds5110/assignments/M5_8_clustering/fidelity_fund_clustering.ipynb to pdf\n",
      "[NbConvertApp] Support files will be in fidelity_fund_clustering_files/\n",
      "[NbConvertApp] Making directory ./fidelity_fund_clustering_files\n",
      "[NbConvertApp] Writing 44421 bytes to notebook.tex\n",
      "[NbConvertApp] Building PDF\n",
      "[NbConvertApp] Running xelatex 3 times: ['xelatex', 'notebook.tex', '-quiet']\n",
      "[NbConvertApp] Running bibtex 1 time: ['bibtex', 'notebook']\n",
      "[NbConvertApp] WARNING | bibtex had problems, most likely because there were no citations\n",
      "[NbConvertApp] PDF successfully created\n",
      "[NbConvertApp] Writing 71786 bytes to /sfs/qumulo/qhome/dbw2tn/ds5110/assignments/M5_8_clustering/fidelity_fund_clustering.pdf\n"
     ]
    }
   ],
   "source": [
    "#!export PATH=/Library/TeX/texbin:$PATH\n",
    "!jupyter nbconvert --to pdf `pwd`/*.ipynb"
   ]
  }
 ],
 "metadata": {
  "kernelspec": {
   "display_name": "DS 5110",
   "language": "python",
   "name": "ds5110"
  },
  "language_info": {
   "codemirror_mode": {
    "name": "ipython",
    "version": 3
   },
   "file_extension": ".py",
   "mimetype": "text/x-python",
   "name": "python",
   "nbconvert_exporter": "python",
   "pygments_lexer": "ipython3",
   "version": "3.7.10"
  }
 },
 "nbformat": 4,
 "nbformat_minor": 4
}
