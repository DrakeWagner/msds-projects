{
 "cells": [
  {
   "cell_type": "markdown",
   "metadata": {},
   "source": [
    "## Coding functions to support several supervised learning tasks.  "
   ]
  },
  {
   "cell_type": "markdown",
   "metadata": {},
   "source": [
    "### MODULES"
   ]
  },
  {
   "cell_type": "code",
   "execution_count": 1,
   "metadata": {},
   "outputs": [],
   "source": [
    "import os"
   ]
  },
  {
   "cell_type": "code",
   "execution_count": 2,
   "metadata": {},
   "outputs": [],
   "source": [
    "from pyspark.sql import SparkSession\n",
    "\n",
    "spark = SparkSession \\\n",
    "    .builder \\\n",
    "    .master(\"local\") \\\n",
    "    .appName(\"data preprocessing\") \\\n",
    "    .config(\"spark.executor.memory\", '8g') \\\n",
    "    .config('spark.executor.cores', '4') \\\n",
    "    .config('spark.cores.max', '4') \\\n",
    "    .config(\"spark.driver.memory\",'8g') \\\n",
    "    .getOrCreate()\n",
    "\n",
    "sc = spark.sparkContext"
   ]
  },
  {
   "cell_type": "markdown",
   "metadata": {},
   "source": [
    "### PARAMETERS"
   ]
  },
  {
   "cell_type": "code",
   "execution_count": 3,
   "metadata": {},
   "outputs": [],
   "source": [
    "# class = 2 for benign (negative class), 4 for malignant (positive class)\n",
    "target = 'class'\n",
    "positive_label = 4\n",
    "negative_label = 2\n",
    "\n",
    "SEED = 314"
   ]
  },
  {
   "cell_type": "code",
   "execution_count": 4,
   "metadata": {},
   "outputs": [],
   "source": [
    "brca = spark.read.csv('breast_cancer_wisconsin.csv', header=True, inferSchema=True)"
   ]
  },
  {
   "cell_type": "code",
   "execution_count": 6,
   "metadata": {},
   "outputs": [
    {
     "data": {
      "text/plain": [
       "699"
      ]
     },
     "execution_count": 6,
     "metadata": {},
     "output_type": "execute_result"
    }
   ],
   "source": [
    "brca.count()"
   ]
  },
  {
   "cell_type": "code",
   "execution_count": 7,
   "metadata": {},
   "outputs": [
    {
     "name": "stdout",
     "output_type": "stream",
     "text": [
      "+-----+-----+\n",
      "|class|count|\n",
      "+-----+-----+\n",
      "|    4|  241|\n",
      "|    2|  458|\n",
      "+-----+-----+\n",
      "\n"
     ]
    }
   ],
   "source": [
    "# compute distribution of target variable\n",
    "brca.groupBy(target).count().show()"
   ]
  },
  {
   "cell_type": "code",
   "execution_count": 8,
   "metadata": {},
   "outputs": [],
   "source": [
    "poscount = brca.groupBy(target).count().filter(brca['class'] == 4)\n",
    "negcount = brca.groupBy(target).count().filter(brca['class'] == 2)"
   ]
  },
  {
   "cell_type": "code",
   "execution_count": 9,
   "metadata": {},
   "outputs": [
    {
     "data": {
      "text/plain": [
       "458"
      ]
     },
     "execution_count": 9,
     "metadata": {},
     "output_type": "execute_result"
    }
   ],
   "source": [
    "negcount.collect()[0][1]"
   ]
  },
  {
   "cell_type": "markdown",
   "metadata": {},
   "source": [
    "### Function to implement downsampling:"
   ]
  },
  {
   "cell_type": "code",
   "execution_count": 10,
   "metadata": {},
   "outputs": [
    {
     "data": {
      "text/plain": [
       "DataFrame[id: int, clump_thickness: int, uniformity_cell_size: int, uniformity_cell_shape: int, marginal_adhesion: int, single_epithelial_cell_size: int, bare_nuclei: string, bland_chromatin: int, normal_nucleoli: int, mitoses: int, class: int]"
      ]
     },
     "execution_count": 10,
     "metadata": {},
     "output_type": "execute_result"
    }
   ],
   "source": [
    "brca.filter(brca['class'] == 4).sample(.25, SEED)"
   ]
  },
  {
   "cell_type": "code",
   "execution_count": 11,
   "metadata": {},
   "outputs": [],
   "source": [
    "def downsample(df, target, positive_label, negative_label):\n",
    "    \"\"\"\n",
    "    df              spark dataframe\n",
    "    target          str, target variable\n",
    "    positive_label  int, value of positive label\n",
    "    negative_label  int, value of negative label\n",
    "    \n",
    "    \"\"\"\n",
    "\n",
    "    seed=311\n",
    "    \n",
    "    # find larger value\n",
    "    poscount = df.groupBy(target).count().filter(df[target] == 4).collect()[0][1]\n",
    "    negcount = df.groupBy(target).count().filter(df[target] == 2).collect()[0][1]\n",
    "    \n",
    "    if poscount > negcount:\n",
    "        larger_value = poscount\n",
    "        lower_value = negcount\n",
    "        sampler = 4\n",
    "        not_sample = 2\n",
    "    elif poscount < negcount:\n",
    "        larger_value = negcount\n",
    "        lower_value = poscount\n",
    "        sampler = 2\n",
    "        not_sample = 4\n",
    "    \n",
    "    percent_to_sample = lower_value/larger_value\n",
    "    print(percent_to_sample)\n",
    "    print(larger_value)\n",
    "    \n",
    "    \n",
    "    new_sample = df.filter(df[target] == sampler).sample(percent_to_sample, seed)\n",
    "    \n",
    "    old_sample = df.filter(df[target] == not_sample)\n",
    "    df_b = new_sample.union(old_sample)\n",
    "\n",
    "    return df_b"
   ]
  },
  {
   "cell_type": "code",
   "execution_count": 12,
   "metadata": {},
   "outputs": [
    {
     "name": "stdout",
     "output_type": "stream",
     "text": [
      "0.5262008733624454\n",
      "458\n",
      "+-----+-----+\n",
      "|class|count|\n",
      "+-----+-----+\n",
      "|    4|  241|\n",
      "|    2|  253|\n",
      "+-----+-----+\n",
      "\n"
     ]
    }
   ],
   "source": [
    "# because Spark uses Bernouilli Sampling, each row is assigned a probability of being included\n",
    "# that's why the fraction is not exactly how I call it as above\n",
    "downsample(brca, target, positive_label, negative_label).groupBy(target).count().show()"
   ]
  },
  {
   "cell_type": "markdown",
   "metadata": {},
   "source": [
    "### Univariate AUC Measurement (of select features):"
   ]
  },
  {
   "cell_type": "code",
   "execution_count": 13,
   "metadata": {},
   "outputs": [],
   "source": [
    "# load modules\n",
    "import pandas as pd\n",
    "import pyspark.sql.functions as F\n",
    "import pyspark.mllib.regression as reg\n",
    "from pyspark.mllib.classification import LogisticRegressionWithLBFGS\n",
    "from pyspark.mllib.evaluation import BinaryClassificationMetrics\n"
   ]
  },
  {
   "cell_type": "code",
   "execution_count": 14,
   "metadata": {},
   "outputs": [],
   "source": [
    "# parameters\n",
    "training_fraction = .6\n",
    "ITERS = 10"
   ]
  },
  {
   "cell_type": "code",
   "execution_count": 15,
   "metadata": {},
   "outputs": [],
   "source": [
    "# narrow the list of features for modeling\n",
    "vars_to_keep = ['clump_thickness', 'uniformity_cell_size', \n",
    "                'uniformity_cell_shape', 'marginal_adhesion', 'single_epithelial_cell_size']"
   ]
  },
  {
   "cell_type": "code",
   "execution_count": 16,
   "metadata": {},
   "outputs": [],
   "source": [
    "brca_f = brca.select([target]+vars_to_keep)"
   ]
  },
  {
   "cell_type": "code",
   "execution_count": 17,
   "metadata": {},
   "outputs": [
    {
     "name": "stdout",
     "output_type": "stream",
     "text": [
      "+-----+---------------+--------------------+---------------------+-----------------+---------------------------+\n",
      "|class|clump_thickness|uniformity_cell_size|uniformity_cell_shape|marginal_adhesion|single_epithelial_cell_size|\n",
      "+-----+---------------+--------------------+---------------------+-----------------+---------------------------+\n",
      "|    2|              5|                   1|                    1|                1|                          2|\n",
      "|    2|              5|                   4|                    4|                5|                          7|\n",
      "|    2|              3|                   1|                    1|                1|                          2|\n",
      "|    2|              6|                   8|                    8|                1|                          3|\n",
      "|    2|              4|                   1|                    1|                3|                          2|\n",
      "|    4|              8|                  10|                   10|                8|                          7|\n",
      "|    2|              1|                   1|                    1|                1|                          2|\n",
      "|    2|              2|                   1|                    2|                1|                          2|\n",
      "|    2|              2|                   1|                    1|                1|                          2|\n",
      "|    2|              4|                   2|                    1|                1|                          2|\n",
      "+-----+---------------+--------------------+---------------------+-----------------+---------------------------+\n",
      "only showing top 10 rows\n",
      "\n"
     ]
    }
   ],
   "source": [
    "# Show some rows to be sure things look ok.\n",
    "brca_f.show(10)"
   ]
  },
  {
   "cell_type": "code",
   "execution_count": 18,
   "metadata": {},
   "outputs": [],
   "source": [
    "# map target labels to 0/1\n",
    "brca_f = brca_f.withColumn(target, F.when(brca_f[target] == positive_label, 1).otherwise(0))"
   ]
  },
  {
   "cell_type": "code",
   "execution_count": 19,
   "metadata": {},
   "outputs": [
    {
     "name": "stdout",
     "output_type": "stream",
     "text": [
      "+-----+-----+\n",
      "|class|count|\n",
      "+-----+-----+\n",
      "|    1|  241|\n",
      "|    0|  458|\n",
      "+-----+-----+\n",
      "\n"
     ]
    }
   ],
   "source": [
    "brca_f.groupBy(target).count().show()\n"
   ]
  },
  {
   "cell_type": "code",
   "execution_count": 20,
   "metadata": {},
   "outputs": [
    {
     "data": {
      "text/plain": [
       "[('class', 'int'),\n",
       " ('clump_thickness', 'int'),\n",
       " ('uniformity_cell_size', 'int'),\n",
       " ('uniformity_cell_shape', 'int'),\n",
       " ('marginal_adhesion', 'int'),\n",
       " ('single_epithelial_cell_size', 'int')]"
      ]
     },
     "execution_count": 20,
     "metadata": {},
     "output_type": "execute_result"
    }
   ],
   "source": [
    "brca_f.dtypes"
   ]
  },
  {
   "cell_type": "code",
   "execution_count": 21,
   "metadata": {},
   "outputs": [
    {
     "name": "stdout",
     "output_type": "stream",
     "text": [
      "+-----+---------------+--------------------+---------------------+-----------------+---------------------------+\n",
      "|class|clump_thickness|uniformity_cell_size|uniformity_cell_shape|marginal_adhesion|single_epithelial_cell_size|\n",
      "+-----+---------------+--------------------+---------------------+-----------------+---------------------------+\n",
      "|    0|              1|                   1|                    1|                1|                          1|\n",
      "|    0|              1|                   1|                    1|                1|                          1|\n",
      "|    0|              1|                   1|                    1|                1|                          1|\n",
      "|    0|              1|                   1|                    1|                1|                          1|\n",
      "|    0|              1|                   1|                    1|                1|                          1|\n",
      "+-----+---------------+--------------------+---------------------+-----------------+---------------------------+\n",
      "only showing top 5 rows\n",
      "\n"
     ]
    }
   ],
   "source": [
    "### TEST ###\n",
    "data_train, data_test = brca_f.randomSplit([.6,.4], 311)\n",
    "data_train.show(5)"
   ]
  },
  {
   "cell_type": "code",
   "execution_count": 22,
   "metadata": {},
   "outputs": [
    {
     "name": "stdout",
     "output_type": "stream",
     "text": [
      "+-----+---------------+\n",
      "|class|clump_thickness|\n",
      "+-----+---------------+\n",
      "|    0|              1|\n",
      "|    0|              1|\n",
      "|    0|              1|\n",
      "|    0|              1|\n",
      "|    0|              1|\n",
      "+-----+---------------+\n",
      "only showing top 5 rows\n",
      "\n"
     ]
    }
   ],
   "source": [
    "data_train.select('class', 'clump_thickness').show(5)"
   ]
  },
  {
   "cell_type": "code",
   "execution_count": 23,
   "metadata": {},
   "outputs": [],
   "source": [
    "def compute_univariate_aucs(df, target, training_fraction, iters, seed):\n",
    "\n",
    "    # train/test data\n",
    "    train_test = [training_fraction, 1-training_fraction]\n",
    "    data_train, data_test = df.randomSplit(train_test, seed)\n",
    "    \n",
    "    # predictor variables\n",
    "    vars = ['clump_thickness', 'uniformity_cell_size', \n",
    "            'uniformity_cell_shape', 'marginal_adhesion', 'single_epithelial_cell_size']\n",
    "    \n",
    "    # results storage\n",
    "    df_auc = pd.DataFrame(index=vars, columns=['weight','auroc'])    \n",
    "\n",
    "    for v in vars:    \n",
    "        print('=== analysis of variable: {}'.format(v))\n",
    "\n",
    "        # create train and test dataframes with columns: target, v\n",
    "        datai_tr = data_train.select(target, v)\n",
    "        datai_te = data_test.select(target, v)\n",
    "\n",
    "        # cast to LabeledPoint\n",
    "        # train\n",
    "        datai_tr_lp = datai_tr \\\n",
    "                     .rdd \\\n",
    "                     .map(lambda row: reg.LabeledPoint(row[0], row[1:]))\n",
    "        \n",
    "        # test\n",
    "        datai_te_lp = datai_te \\\n",
    "                     .rdd \\\n",
    "                     .map(lambda row: reg.LabeledPoint(row[0], row[1:]))\n",
    "\n",
    "        \n",
    "        # train logistic regression\n",
    "        LR_Model = LogisticRegressionWithLBFGS.train(datai_tr_lp, iterations=iters, intercept=True)\n",
    "\n",
    "        #zip labels with predicted labels and cast to float\n",
    "        act_pred_test_set = datai_te_lp.map(lambda p: float(p.label)) \\\n",
    "                             .zip(LR_Model.predict(datai_te_lp \\\n",
    "                             .map(lambda p: p.features))) \\\n",
    "                             .map(lambda row: (row[0], row[1] * 1.0))\n",
    "        \n",
    "        metrics = BinaryClassificationMetrics(act_pred_test_set)\n",
    "        \n",
    "        df_auc['weight'].loc[v] = LR_Model.weights # store the weights\n",
    "        df_auc['auroc'].loc[v] = metrics.areaUnderROC # extract AUROC\n",
    "        print('=== completed analysis of variable: {}'.format(v))\n",
    "        \n",
    "    df_auc.sort_values(by='auroc', ascending=False, inplace=True)\n",
    "    \n",
    "    return df_auc"
   ]
  },
  {
   "cell_type": "code",
   "execution_count": 24,
   "metadata": {},
   "outputs": [
    {
     "name": "stdout",
     "output_type": "stream",
     "text": [
      "=== analysis of variable: clump_thickness\n",
      "=== completed analysis of variable: clump_thickness\n",
      "=== analysis of variable: uniformity_cell_size\n",
      "=== completed analysis of variable: uniformity_cell_size\n",
      "=== analysis of variable: uniformity_cell_shape\n",
      "=== completed analysis of variable: uniformity_cell_shape\n",
      "=== analysis of variable: marginal_adhesion\n",
      "=== completed analysis of variable: marginal_adhesion\n",
      "=== analysis of variable: single_epithelial_cell_size\n",
      "=== completed analysis of variable: single_epithelial_cell_size\n"
     ]
    },
    {
     "data": {
      "text/html": [
       "<div>\n",
       "<style scoped>\n",
       "    .dataframe tbody tr th:only-of-type {\n",
       "        vertical-align: middle;\n",
       "    }\n",
       "\n",
       "    .dataframe tbody tr th {\n",
       "        vertical-align: top;\n",
       "    }\n",
       "\n",
       "    .dataframe thead th {\n",
       "        text-align: right;\n",
       "    }\n",
       "</style>\n",
       "<table border=\"1\" class=\"dataframe\">\n",
       "  <thead>\n",
       "    <tr style=\"text-align: right;\">\n",
       "      <th></th>\n",
       "      <th>weight</th>\n",
       "      <th>auroc</th>\n",
       "    </tr>\n",
       "  </thead>\n",
       "  <tbody>\n",
       "    <tr>\n",
       "      <th>uniformity_cell_size</th>\n",
       "      <td>[1.5840136875706783]</td>\n",
       "      <td>0.916057</td>\n",
       "    </tr>\n",
       "    <tr>\n",
       "      <th>uniformity_cell_shape</th>\n",
       "      <td>[1.4606620376397053]</td>\n",
       "      <td>0.91489</td>\n",
       "    </tr>\n",
       "    <tr>\n",
       "      <th>clump_thickness</th>\n",
       "      <td>[0.9759376678175061]</td>\n",
       "      <td>0.88742</td>\n",
       "    </tr>\n",
       "    <tr>\n",
       "      <th>marginal_adhesion</th>\n",
       "      <td>[1.0115025322990916]</td>\n",
       "      <td>0.871945</td>\n",
       "    </tr>\n",
       "    <tr>\n",
       "      <th>single_epithelial_cell_size</th>\n",
       "      <td>[1.3059294130781745]</td>\n",
       "      <td>0.866864</td>\n",
       "    </tr>\n",
       "  </tbody>\n",
       "</table>\n",
       "</div>"
      ],
      "text/plain": [
       "                                           weight     auroc\n",
       "uniformity_cell_size         [1.5840136875706783]  0.916057\n",
       "uniformity_cell_shape        [1.4606620376397053]   0.91489\n",
       "clump_thickness              [0.9759376678175061]   0.88742\n",
       "marginal_adhesion            [1.0115025322990916]  0.871945\n",
       "single_epithelial_cell_size  [1.3059294130781745]  0.866864"
      ]
     },
     "execution_count": 24,
     "metadata": {},
     "output_type": "execute_result"
    }
   ],
   "source": [
    "compute_univariate_aucs(brca_f, target, training_fraction, ITERS, SEED)"
   ]
  },
  {
   "cell_type": "code",
   "execution_count": null,
   "metadata": {},
   "outputs": [],
   "source": [
    "# !jupyter nbconvert --to pdf`pwd`/*.ipynb"
   ]
  }
 ],
 "metadata": {
  "kernelspec": {
   "display_name": "DS 5110",
   "language": "python",
   "name": "ds5110"
  },
  "language_info": {
   "codemirror_mode": {
    "name": "ipython",
    "version": 3
   },
   "file_extension": ".py",
   "mimetype": "text/x-python",
   "name": "python",
   "nbconvert_exporter": "python",
   "pygments_lexer": "ipython3",
   "version": "3.7.10"
  }
 },
 "nbformat": 4,
 "nbformat_minor": 4
}
