{
 "cells": [
  {
   "cell_type": "markdown",
   "id": "700c0c00-9bea-494d-91c4-dc1e01f91dca",
   "metadata": {},
   "source": [
    "IN PROGRESS<p>\n",
    "using tensorflow to classify images via Tensorflow.org tutorial\n",
    "using techniques from class in combination with tutorial<p>\n",
    "Pulling photos from Stanford's dogs dataset"
   ]
  },
  {
   "cell_type": "code",
   "execution_count": 3,
   "id": "473244a6-c288-48b4-8e38-ba54d45ad79f",
   "metadata": {},
   "outputs": [],
   "source": [
    "import os\n",
    "import pandas as pd\n",
    "import numpy as np\n",
    "import matplotlib.pyplot as plt\n",
    "import seaborn as sns\n",
    "import PIL\n",
    "import pathlib\n",
    "\n",
    "import tensorflow as tf\n",
    "from tensorflow import keras\n",
    "from tensorflow.keras import layers\n",
    "from tensorflow.keras.models import Sequential"
   ]
  },
  {
   "cell_type": "code",
   "execution_count": 21,
   "id": "1b271f03-4a77-470f-b4b7-7231d05f286c",
   "metadata": {},
   "outputs": [
    {
     "name": "stdout",
     "output_type": "stream",
     "text": [
      "Downloading data from http://vision.stanford.edu/aditya86/ImageNetDogs/images.tar\n",
      "793583616/793579520 [==============================] - 72s 0us/step\n",
      "793591808/793579520 [==============================] - 72s 0us/step\n"
     ]
    }
   ],
   "source": [
    "dataset_url = \"http://vision.stanford.edu/aditya86/ImageNetDogs/images.tar\"\n",
    "data_dir = tf.keras.utils.get_file('Images', origin=dataset_url, untar=True)\n",
    "data_dir = pathlib.Path(data_dir)"
   ]
  },
  {
   "cell_type": "code",
   "execution_count": 22,
   "id": "15ea030a-537d-4517-b1d7-806435489e3f",
   "metadata": {},
   "outputs": [
    {
     "data": {
      "text/plain": [
       "WindowsPath('C:/Users/dwagn/.keras/datasets/Images')"
      ]
     },
     "execution_count": 22,
     "metadata": {},
     "output_type": "execute_result"
    }
   ],
   "source": [
    "data_dir"
   ]
  },
  {
   "cell_type": "code",
   "execution_count": 44,
   "id": "5c3c397c-9064-4cf7-ace1-858843c48ad2",
   "metadata": {},
   "outputs": [
    {
     "data": {
      "text/plain": [
       "20580"
      ]
     },
     "execution_count": 44,
     "metadata": {},
     "output_type": "execute_result"
    }
   ],
   "source": [
    "len(list(data_dir.glob('*/*.jpg')))"
   ]
  },
  {
   "cell_type": "code",
   "execution_count": 45,
   "id": "c944cefa-55a6-4569-9609-0c94b1f3674f",
   "metadata": {},
   "outputs": [
    {
     "name": "stdout",
     "output_type": "stream",
     "text": [
      "n02112018-Pomeranian/*.jpg\n"
     ]
    }
   ],
   "source": [
    "name = 'n02112018-Pomeranian'\n",
    "print(name+'/*.jpg')"
   ]
  },
  {
   "cell_type": "code",
   "execution_count": 56,
   "id": "27257c36-0b5b-4c04-9980-e3f5e15e2d22",
   "metadata": {},
   "outputs": [],
   "source": [
    "chi = list(data_dir.glob('n02085620-Chihuahua/*.jpg'))\n",
    "bas = list(data_dir.glob('n02110806-basenji/*.jpg'))\n",
    "grp = list(data_dir.glob('n02111500-Great_Pyrenees/*.jpg'))\n",
    "pom = list(data_dir.glob('n02112018-Pomeranian/*.jpg'))"
   ]
  },
  {
   "cell_type": "code",
   "execution_count": 57,
   "id": "979a73bb-cbb7-4bbb-b7f5-3add55c72246",
   "metadata": {},
   "outputs": [],
   "source": [
    "batch_size = 32\n",
    "img_height = 180\n",
    "img_width = 180"
   ]
  },
  {
   "cell_type": "code",
   "execution_count": 58,
   "id": "2d542533-e06f-41ca-bcee-7789b307e19d",
   "metadata": {},
   "outputs": [
    {
     "name": "stdout",
     "output_type": "stream",
     "text": [
      "Found 20580 files belonging to 120 classes.\n",
      "Using 16464 files for training.\n"
     ]
    }
   ],
   "source": [
    "train_ds = tf.keras.utils.image_dataset_from_directory(\n",
    "  data_dir,\n",
    "  validation_split=0.2, # 80-20 split\n",
    "  subset=\"training\",\n",
    "  seed=123,\n",
    "  image_size=(img_height, img_width),\n",
    "  batch_size=batch_size)"
   ]
  },
  {
   "cell_type": "code",
   "execution_count": null,
   "id": "cc6811f8-e15d-4afe-83e2-d132c69cab59",
   "metadata": {},
   "outputs": [],
   "source": []
  }
 ],
 "metadata": {
  "kernelspec": {
   "display_name": "Python 3",
   "language": "python",
   "name": "python3"
  },
  "language_info": {
   "codemirror_mode": {
    "name": "ipython",
    "version": 3
   },
   "file_extension": ".py",
   "mimetype": "text/x-python",
   "name": "python",
   "nbconvert_exporter": "python",
   "pygments_lexer": "ipython3",
   "version": "3.9.5"
  }
 },
 "nbformat": 4,
 "nbformat_minor": 5
}
