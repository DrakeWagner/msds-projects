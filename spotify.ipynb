{
 "cells": [
  {
   "cell_type": "code",
   "execution_count": null,
   "id": "d49eff3e-0505-4105-b81b-83098dffebfb",
   "metadata": {},
   "outputs": [],
   "source": []
  },
  {
   "cell_type": "code",
   "execution_count": 61,
   "id": "9ce77e60-dfba-488e-b195-330b614c1f0a",
   "metadata": {},
   "outputs": [],
   "source": [
    "import requests\n",
    "import pandas as pd\n",
    "import matplotlib.pyplot as plt\n",
    "%matplotlib inline\n",
    "import seaborn as sns\n",
    "import dotenv\n",
    "import os"
   ]
  },
  {
   "cell_type": "code",
   "execution_count": 62,
   "id": "56b361e3-7da2-4ccd-b8b9-bbca0e8d5e46",
   "metadata": {},
   "outputs": [
    {
     "data": {
      "text/plain": [
       "'C:\\\\Users\\\\dwagn\\\\git'"
      ]
     },
     "execution_count": 62,
     "metadata": {},
     "output_type": "execute_result"
    }
   ],
   "source": [
    "os.getcwd()"
   ]
  },
  {
   "cell_type": "code",
   "execution_count": 63,
   "id": "8a95f525-7ebf-4cf5-bf4d-abcda967e679",
   "metadata": {},
   "outputs": [],
   "source": [
    "os.chdir('C:\\\\Users\\\\dwagn\\\\Desktop')\n",
    "dotenv.load_dotenv()\n",
    "CLIENT_ID = os.getenv('spotify-client-id')\n",
    "CLIENT_SECRET = os.getenv('spotify-client-secret')\n",
    "os.chdir('C:\\\\Users\\\\dwagn\\\\git')"
   ]
  },
  {
   "cell_type": "code",
   "execution_count": null,
   "id": "8b305437-4489-4a06-844f-ac962fa82eb2",
   "metadata": {},
   "outputs": [],
   "source": []
  },
  {
   "cell_type": "code",
   "execution_count": 64,
   "id": "5e455d8f-bd82-432c-a35c-d380068e1fda",
   "metadata": {},
   "outputs": [
    {
     "data": {
      "text/plain": [
       "True"
      ]
     },
     "execution_count": 64,
     "metadata": {},
     "output_type": "execute_result"
    }
   ],
   "source": [
    "dotenv.load_dotenv()"
   ]
  },
  {
   "cell_type": "code",
   "execution_count": 65,
   "id": "c143fe4d-f639-4f98-be1d-35efe41c0e33",
   "metadata": {},
   "outputs": [
    {
     "name": "stdout",
     "output_type": "stream",
     "text": [
      "Success!\n"
     ]
    }
   ],
   "source": [
    "AUTH_URL = 'https://accounts.spotify.com/api/token'\n",
    "\n",
    "\n",
    "auth_response = requests.post(AUTH_URL, {\n",
    "    'grant_type': 'client_credentials',\n",
    "    'client_id': CLIENT_ID,\n",
    "    'client_secret': CLIENT_SECRET\n",
    "})\n",
    "\n",
    "auth_response_data = auth_response.json()\n",
    "access_token = auth_response_data['access_token']\n",
    "\n",
    "if auth_response.status_code == 200:\n",
    "    print ('Success!')\n",
    "else:\n",
    "    print ('API access rejected')"
   ]
  },
  {
   "cell_type": "code",
   "execution_count": 66,
   "id": "ee765a49-77f9-4a9b-904a-5906f88bdee9",
   "metadata": {},
   "outputs": [],
   "source": [
    "headers = {'Authorization': 'Bearer {}'.format(access_token)}\n",
    "\n",
    "url = 'https://api.spotify.com/v1/'\n",
    "\n",
    "# Track ID from the URI\n",
    "track_id = '3mfJT8Ae3pME7OmluGNMYF'\n",
    "\n",
    "r = requests.get(url + 'audio-features/' + track_id, headers=headers)"
   ]
  },
  {
   "cell_type": "code",
   "execution_count": 67,
   "id": "212eb409-5d49-41ae-82a5-fad6a36ba49b",
   "metadata": {},
   "outputs": [
    {
     "data": {
      "text/plain": [
       "{'danceability': 0.725,\n",
       " 'energy': 0.385,\n",
       " 'key': 6,\n",
       " 'loudness': -14.283,\n",
       " 'mode': 0,\n",
       " 'speechiness': 0.0384,\n",
       " 'acousticness': 0.471,\n",
       " 'instrumentalness': 0,\n",
       " 'liveness': 0.124,\n",
       " 'valence': 0.809,\n",
       " 'tempo': 125.138,\n",
       " 'type': 'audio_features',\n",
       " 'id': '3mfJT8Ae3pME7OmluGNMYF',\n",
       " 'uri': 'spotify:track:3mfJT8Ae3pME7OmluGNMYF',\n",
       " 'track_href': 'https://api.spotify.com/v1/tracks/3mfJT8Ae3pME7OmluGNMYF',\n",
       " 'analysis_url': 'https://api.spotify.com/v1/audio-analysis/3mfJT8Ae3pME7OmluGNMYF',\n",
       " 'duration_ms': 169867,\n",
       " 'time_signature': 4}"
      ]
     },
     "execution_count": 67,
     "metadata": {},
     "output_type": "execute_result"
    }
   ],
   "source": [
    "r = r.json()\n",
    "r"
   ]
  },
  {
   "cell_type": "code",
   "execution_count": 107,
   "id": "19212323-604c-46a9-a15e-11286cbc21be",
   "metadata": {},
   "outputs": [
    {
     "name": "stdin",
     "output_type": "stream",
     "text": [
      "Paste artist spotify share link:  https://open.spotify.com/artist/3nJWBJvK7uGvfp4iZh9CkN?si=p09Bd1QiTVigO2qxJVKfxQ\n"
     ]
    },
    {
     "name": "stdout",
     "output_type": "stream",
     "text": [
      "3nJWBJvK7uGvfp4iZh9CkN\n"
     ]
    }
   ],
   "source": [
    "# Paste artist's share link to get the artist_id\n",
    "# 'https://open.spotify.com/artist/6py4uFIC7T6RdrZnH6hFYJ?si=EJXirCwjR-2y8iw8oBwYjQ'\n",
    "artist_share_url = input('Paste artist spotify share link: ')\n",
    "artist_id = artist_share_url.split('/')[4].split('?')[0]\n",
    "print(artist_id)"
   ]
  },
  {
   "cell_type": "code",
   "execution_count": 108,
   "id": "df0ed81d-acf1-44d4-b6df-cda7605bc334",
   "metadata": {},
   "outputs": [],
   "source": [
    "# artist_id = '6py4uFIC7T6RdrZnH6hFYJ' # Ballyhoo!\n",
    "# artist_id = '41Q0HrwWBtuUkJc7C1Rp6K' # 311\n",
    "\n",
    "# pull albums\n",
    "albums = requests.get(url + 'artists/' + artist_id + '/albums', \n",
    "                 headers=headers, \n",
    "                 params={'include_groups': 'album', 'limit': 50}).json()"
   ]
  },
  {
   "cell_type": "code",
   "execution_count": 109,
   "id": "b9a33ba1-82c0-4052-a8c2-e5f047b92bd0",
   "metadata": {},
   "outputs": [],
   "source": [
    "album_names_dates = {}\n",
    "for album in albums['items']:\n",
    "    album_names_dates[album['name']] = album['release_date']"
   ]
  },
  {
   "cell_type": "code",
   "execution_count": 110,
   "id": "0a4debef-d224-482d-b5d7-814f12f25a74",
   "metadata": {},
   "outputs": [
    {
     "data": {
      "text/plain": [
       "'Relient K'"
      ]
     },
     "execution_count": 110,
     "metadata": {},
     "output_type": "execute_result"
    }
   ],
   "source": [
    "# albums['items'][0] # Pull artist name\n",
    "artist_name = requests.get(url + 'artists/' + artist_id, headers=headers).json()['name']\n",
    "artist_name"
   ]
  },
  {
   "cell_type": "code",
   "execution_count": 111,
   "id": "e7a23d39-7961-403d-9c26-ade6078861f7",
   "metadata": {},
   "outputs": [
    {
     "name": "stdout",
     "output_type": "stream",
     "text": [
      "Live added...\n",
      "Air for Free added...\n",
      "Mmhmm10 added...\n",
      "Collapsible Lung added...\n",
      "Is for Karaoke added...\n",
      "Forget And Not Slow Down added...\n",
      "Forget And Not Slow Down added...\n",
      "The Bird and the Bee Sides added...\n",
      "Let It Snow Baby...Let It Reindeer added...\n",
      "Five Score and Seven Years Ago added...\n",
      "Mmhmm added...\n",
      "Two Lefts Don't Make a Right...But Three Do (Gold Edition) added...\n",
      "The Anatomy of the Tongue in Cheek added...\n",
      "Relient K added...\n",
      "Wall time: 33.5 s\n"
     ]
    }
   ],
   "source": [
    "%%time\n",
    "track_info = []\n",
    "repeat_detection = []\n",
    "\n",
    "for i in albums['items']:\n",
    "\n",
    "    r = requests.get(url + 'albums/' + i['id'] + '/tracks', \n",
    "        headers=headers)\n",
    "    tracks = r.json()['items']\n",
    "    \n",
    "    for track in tracks:\n",
    "        detailsr = requests.get(url + 'audio-features/' + track['id'], headers=headers).json()\n",
    "        \n",
    "        # combine with album info\n",
    "        detailsr.update({\n",
    "            'track_name': track['name'],\n",
    "            'album_name': i['name'],\n",
    "            'album_id': i['id'],\n",
    "            'release_date': i['release_date']\n",
    "        })\n",
    "        \n",
    "        track_info.append(detailsr)\n",
    "        \n",
    "    print('{} added...'.format(i['name']))\n"
   ]
  },
  {
   "cell_type": "code",
   "execution_count": 115,
   "id": "1c2d4ea1-f967-4fd2-81f9-b26872329d42",
   "metadata": {},
   "outputs": [],
   "source": [
    "df = pd.DataFrame(track_info)\n",
    "# df"
   ]
  },
  {
   "cell_type": "code",
   "execution_count": 116,
   "id": "eaee517b-ac38-45f2-ada2-2707f75a582c",
   "metadata": {},
   "outputs": [],
   "source": [
    "df['release_date'] = pd.to_datetime(df['release_date'])\n",
    "# df = df.sort_values(by='release_date')\n",
    "\n",
    "# sloppily move last couple columns to the front\n",
    "cols = df.columns.tolist()\n",
    "cols = cols[-4:] + cols[:-4]\n",
    "df = df[cols]"
   ]
  },
  {
   "cell_type": "code",
   "execution_count": 117,
   "id": "33c1b290-5dd7-4114-810c-a0837a170d9e",
   "metadata": {},
   "outputs": [],
   "source": [
    "# Shorten long album names\n",
    "for name in df['album_name']:\n",
    "    if len(name) > 25:\n",
    "        short_name = name[0:25]\n",
    "        df = df.replace(name, short_name)"
   ]
  },
  {
   "cell_type": "code",
   "execution_count": 178,
   "id": "737eb99f-21d5-43dc-84e1-95fdd74215bd",
   "metadata": {},
   "outputs": [
    {
     "name": "stdout",
     "output_type": "stream",
     "text": [
      "Crayons Can Melt on Us for All I Care\n"
     ]
    },
    {
     "data": {
      "text/plain": [
       "['Crayons Can Melt on Us for All I Care']"
      ]
     },
     "execution_count": 178,
     "metadata": {},
     "output_type": "execute_result"
    }
   ],
   "source": [
    "# remove tracks with na values, if any\n",
    "# can't simply dropna(), since there is an error column >:(\n",
    "na_tracks = []\n",
    "if 'error' in df.columns:\n",
    "    for track in df[~df['error'].isna()]['track_name']:\n",
    "        \n",
    "        na_tracks.append(track)\n",
    "na_tracks"
   ]
  },
  {
   "cell_type": "code",
   "execution_count": 195,
   "id": "fcebe158-d3ce-4b84-97f1-b773650404d4",
   "metadata": {},
   "outputs": [
    {
     "data": {
      "text/plain": [
       "[{'status': 404, 'message': 'analysis not found'}]"
      ]
     },
     "execution_count": 195,
     "metadata": {},
     "output_type": "execute_result"
    }
   ],
   "source": [
    "[x for x in df['error'] if str(x) != 'nan']\n",
    "    "
   ]
  },
  {
   "cell_type": "code",
   "execution_count": null,
   "id": "d5878483-6ad1-4dcc-9f97-5e89d228e3ea",
   "metadata": {},
   "outputs": [],
   "source": []
  },
  {
   "cell_type": "code",
   "execution_count": 145,
   "id": "ccc4d415-3b7f-4508-b308-e2f62192ac70",
   "metadata": {},
   "outputs": [
    {
     "data": {
      "text/html": [
       "<div>\n",
       "<style scoped>\n",
       "    .dataframe tbody tr th:only-of-type {\n",
       "        vertical-align: middle;\n",
       "    }\n",
       "\n",
       "    .dataframe tbody tr th {\n",
       "        vertical-align: top;\n",
       "    }\n",
       "\n",
       "    .dataframe thead th {\n",
       "        text-align: right;\n",
       "    }\n",
       "</style>\n",
       "<table border=\"1\" class=\"dataframe\">\n",
       "  <thead>\n",
       "    <tr style=\"text-align: right;\">\n",
       "      <th></th>\n",
       "      <th>album_name</th>\n",
       "      <th>album_id</th>\n",
       "      <th>release_date</th>\n",
       "      <th>error</th>\n",
       "      <th>danceability</th>\n",
       "      <th>energy</th>\n",
       "      <th>key</th>\n",
       "      <th>loudness</th>\n",
       "      <th>mode</th>\n",
       "      <th>speechiness</th>\n",
       "      <th>...</th>\n",
       "      <th>valence</th>\n",
       "      <th>tempo</th>\n",
       "      <th>type</th>\n",
       "      <th>id</th>\n",
       "      <th>uri</th>\n",
       "      <th>track_href</th>\n",
       "      <th>analysis_url</th>\n",
       "      <th>duration_ms</th>\n",
       "      <th>time_signature</th>\n",
       "      <th>track_name</th>\n",
       "    </tr>\n",
       "  </thead>\n",
       "  <tbody>\n",
       "    <tr>\n",
       "      <th>0</th>\n",
       "      <td>Live</td>\n",
       "      <td>7KR1nrIbMe8HeKvlIKsj9h</td>\n",
       "      <td>2020-04-24</td>\n",
       "      <td>NaN</td>\n",
       "      <td>0.358</td>\n",
       "      <td>0.855</td>\n",
       "      <td>8.0</td>\n",
       "      <td>-6.156</td>\n",
       "      <td>1.0</td>\n",
       "      <td>0.0469</td>\n",
       "      <td>...</td>\n",
       "      <td>0.506</td>\n",
       "      <td>83.976</td>\n",
       "      <td>audio_features</td>\n",
       "      <td>7pTcBKuWHDjo0PjC08xWA7</td>\n",
       "      <td>spotify:track:7pTcBKuWHDjo0PjC08xWA7</td>\n",
       "      <td>https://api.spotify.com/v1/tracks/7pTcBKuWHDjo...</td>\n",
       "      <td>https://api.spotify.com/v1/audio-analysis/7pTc...</td>\n",
       "      <td>240969.0</td>\n",
       "      <td>4.0</td>\n",
       "      <td>Forget and Not Slow Down - Live at Rocketown, ...</td>\n",
       "    </tr>\n",
       "  </tbody>\n",
       "</table>\n",
       "<p>1 rows × 23 columns</p>\n",
       "</div>"
      ],
      "text/plain": [
       "  album_name                album_id release_date error  danceability  energy  \\\n",
       "0       Live  7KR1nrIbMe8HeKvlIKsj9h   2020-04-24   NaN         0.358   0.855   \n",
       "\n",
       "   key  loudness  mode  speechiness  ...  valence   tempo            type  \\\n",
       "0  8.0    -6.156   1.0       0.0469  ...    0.506  83.976  audio_features   \n",
       "\n",
       "                       id                                   uri  \\\n",
       "0  7pTcBKuWHDjo0PjC08xWA7  spotify:track:7pTcBKuWHDjo0PjC08xWA7   \n",
       "\n",
       "                                          track_href  \\\n",
       "0  https://api.spotify.com/v1/tracks/7pTcBKuWHDjo...   \n",
       "\n",
       "                                        analysis_url duration_ms  \\\n",
       "0  https://api.spotify.com/v1/audio-analysis/7pTc...    240969.0   \n",
       "\n",
       "  time_signature                                         track_name  \n",
       "0            4.0  Forget and Not Slow Down - Live at Rocketown, ...  \n",
       "\n",
       "[1 rows x 23 columns]"
      ]
     },
     "execution_count": 145,
     "metadata": {},
     "output_type": "execute_result"
    }
   ],
   "source": [
    "df.head(1)"
   ]
  },
  {
   "cell_type": "code",
   "execution_count": null,
   "id": "a569dc32-26ae-40cf-a6a4-47e7d4b68c8f",
   "metadata": {},
   "outputs": [],
   "source": []
  },
  {
   "cell_type": "code",
   "execution_count": 85,
   "id": "369d757f-b594-45d5-b81f-6070b2f49887",
   "metadata": {},
   "outputs": [
    {
     "data": {
      "text/html": [
       "<div>\n",
       "<style scoped>\n",
       "    .dataframe tbody tr th:only-of-type {\n",
       "        vertical-align: middle;\n",
       "    }\n",
       "\n",
       "    .dataframe tbody tr th {\n",
       "        vertical-align: top;\n",
       "    }\n",
       "\n",
       "    .dataframe thead th {\n",
       "        text-align: right;\n",
       "    }\n",
       "</style>\n",
       "<table border=\"1\" class=\"dataframe\">\n",
       "  <thead>\n",
       "    <tr style=\"text-align: right;\">\n",
       "      <th></th>\n",
       "      <th>track_name</th>\n",
       "      <th>album_name</th>\n",
       "      <th>album_id</th>\n",
       "      <th>release_date</th>\n",
       "      <th>danceability</th>\n",
       "      <th>energy</th>\n",
       "      <th>key</th>\n",
       "      <th>loudness</th>\n",
       "      <th>mode</th>\n",
       "      <th>speechiness</th>\n",
       "      <th>...</th>\n",
       "      <th>tempo</th>\n",
       "      <th>type</th>\n",
       "      <th>id</th>\n",
       "      <th>uri</th>\n",
       "      <th>track_href</th>\n",
       "      <th>analysis_url</th>\n",
       "      <th>duration_ms</th>\n",
       "      <th>time_signature</th>\n",
       "      <th>duration_mins</th>\n",
       "      <th>duration_full</th>\n",
       "    </tr>\n",
       "  </thead>\n",
       "  <tbody>\n",
       "    <tr>\n",
       "      <th>0</th>\n",
       "      <td>Beautiful Disaster - Live</td>\n",
       "      <td>Mardi Gras 2020 (Live)</td>\n",
       "      <td>6rHYji8tiB2Jfo3P1Uegvv</td>\n",
       "      <td>2021-01-15</td>\n",
       "      <td>0.343</td>\n",
       "      <td>0.806</td>\n",
       "      <td>1</td>\n",
       "      <td>-11.353</td>\n",
       "      <td>0</td>\n",
       "      <td>0.0936</td>\n",
       "      <td>...</td>\n",
       "      <td>169.943</td>\n",
       "      <td>audio_features</td>\n",
       "      <td>38znMaMurMhYmgYvMDQotf</td>\n",
       "      <td>spotify:track:38znMaMurMhYmgYvMDQotf</td>\n",
       "      <td>https://api.spotify.com/v1/tracks/38znMaMurMhY...</td>\n",
       "      <td>https://api.spotify.com/v1/audio-analysis/38zn...</td>\n",
       "      <td>248000</td>\n",
       "      <td>4</td>\n",
       "      <td>4.13</td>\n",
       "      <td>4:07</td>\n",
       "    </tr>\n",
       "    <tr>\n",
       "      <th>1</th>\n",
       "      <td>All Mixed Up - Live</td>\n",
       "      <td>Mardi Gras 2020 (Live)</td>\n",
       "      <td>6rHYji8tiB2Jfo3P1Uegvv</td>\n",
       "      <td>2021-01-15</td>\n",
       "      <td>0.466</td>\n",
       "      <td>0.765</td>\n",
       "      <td>1</td>\n",
       "      <td>-11.978</td>\n",
       "      <td>1</td>\n",
       "      <td>0.1050</td>\n",
       "      <td>...</td>\n",
       "      <td>183.889</td>\n",
       "      <td>audio_features</td>\n",
       "      <td>6P7geqcpl7VcD3eFmKTAIR</td>\n",
       "      <td>spotify:track:6P7geqcpl7VcD3eFmKTAIR</td>\n",
       "      <td>https://api.spotify.com/v1/tracks/6P7geqcpl7Vc...</td>\n",
       "      <td>https://api.spotify.com/v1/audio-analysis/6P7g...</td>\n",
       "      <td>232750</td>\n",
       "      <td>4</td>\n",
       "      <td>3.88</td>\n",
       "      <td>3:52</td>\n",
       "    </tr>\n",
       "    <tr>\n",
       "      <th>2</th>\n",
       "      <td>Silver - Live</td>\n",
       "      <td>Mardi Gras 2020 (Live)</td>\n",
       "      <td>6rHYji8tiB2Jfo3P1Uegvv</td>\n",
       "      <td>2021-01-15</td>\n",
       "      <td>0.544</td>\n",
       "      <td>0.881</td>\n",
       "      <td>1</td>\n",
       "      <td>-9.936</td>\n",
       "      <td>1</td>\n",
       "      <td>0.0782</td>\n",
       "      <td>...</td>\n",
       "      <td>96.965</td>\n",
       "      <td>audio_features</td>\n",
       "      <td>3T8PmznIDAnGTzd3PltUUP</td>\n",
       "      <td>spotify:track:3T8PmznIDAnGTzd3PltUUP</td>\n",
       "      <td>https://api.spotify.com/v1/tracks/3T8PmznIDAnG...</td>\n",
       "      <td>https://api.spotify.com/v1/audio-analysis/3T8P...</td>\n",
       "      <td>168084</td>\n",
       "      <td>4</td>\n",
       "      <td>2.80</td>\n",
       "      <td>2:47</td>\n",
       "    </tr>\n",
       "    <tr>\n",
       "      <th>3</th>\n",
       "      <td>Come Original - Live</td>\n",
       "      <td>Mardi Gras 2020 (Live)</td>\n",
       "      <td>6rHYji8tiB2Jfo3P1Uegvv</td>\n",
       "      <td>2021-01-15</td>\n",
       "      <td>0.432</td>\n",
       "      <td>0.857</td>\n",
       "      <td>7</td>\n",
       "      <td>-11.565</td>\n",
       "      <td>1</td>\n",
       "      <td>0.0676</td>\n",
       "      <td>...</td>\n",
       "      <td>187.884</td>\n",
       "      <td>audio_features</td>\n",
       "      <td>3V07MqrFuz5dJm6baCWz8m</td>\n",
       "      <td>spotify:track:3V07MqrFuz5dJm6baCWz8m</td>\n",
       "      <td>https://api.spotify.com/v1/tracks/3V07MqrFuz5d...</td>\n",
       "      <td>https://api.spotify.com/v1/audio-analysis/3V07...</td>\n",
       "      <td>228000</td>\n",
       "      <td>4</td>\n",
       "      <td>3.80</td>\n",
       "      <td>3:47</td>\n",
       "    </tr>\n",
       "    <tr>\n",
       "      <th>4</th>\n",
       "      <td>Gap - Live</td>\n",
       "      <td>Mardi Gras 2020 (Live)</td>\n",
       "      <td>6rHYji8tiB2Jfo3P1Uegvv</td>\n",
       "      <td>2021-01-15</td>\n",
       "      <td>0.575</td>\n",
       "      <td>0.854</td>\n",
       "      <td>7</td>\n",
       "      <td>-11.271</td>\n",
       "      <td>1</td>\n",
       "      <td>0.0515</td>\n",
       "      <td>...</td>\n",
       "      <td>106.998</td>\n",
       "      <td>audio_features</td>\n",
       "      <td>50qMMcQDAukXhh07xBKCh7</td>\n",
       "      <td>spotify:track:50qMMcQDAukXhh07xBKCh7</td>\n",
       "      <td>https://api.spotify.com/v1/tracks/50qMMcQDAukX...</td>\n",
       "      <td>https://api.spotify.com/v1/audio-analysis/50qM...</td>\n",
       "      <td>138500</td>\n",
       "      <td>4</td>\n",
       "      <td>2.31</td>\n",
       "      <td>2:18</td>\n",
       "    </tr>\n",
       "  </tbody>\n",
       "</table>\n",
       "<p>5 rows × 24 columns</p>\n",
       "</div>"
      ],
      "text/plain": [
       "                  track_name              album_name                album_id  \\\n",
       "0  Beautiful Disaster - Live  Mardi Gras 2020 (Live)  6rHYji8tiB2Jfo3P1Uegvv   \n",
       "1        All Mixed Up - Live  Mardi Gras 2020 (Live)  6rHYji8tiB2Jfo3P1Uegvv   \n",
       "2              Silver - Live  Mardi Gras 2020 (Live)  6rHYji8tiB2Jfo3P1Uegvv   \n",
       "3       Come Original - Live  Mardi Gras 2020 (Live)  6rHYji8tiB2Jfo3P1Uegvv   \n",
       "4                 Gap - Live  Mardi Gras 2020 (Live)  6rHYji8tiB2Jfo3P1Uegvv   \n",
       "\n",
       "  release_date  danceability  energy  key  loudness  mode  speechiness  ...  \\\n",
       "0   2021-01-15         0.343   0.806    1   -11.353     0       0.0936  ...   \n",
       "1   2021-01-15         0.466   0.765    1   -11.978     1       0.1050  ...   \n",
       "2   2021-01-15         0.544   0.881    1    -9.936     1       0.0782  ...   \n",
       "3   2021-01-15         0.432   0.857    7   -11.565     1       0.0676  ...   \n",
       "4   2021-01-15         0.575   0.854    7   -11.271     1       0.0515  ...   \n",
       "\n",
       "     tempo            type                      id  \\\n",
       "0  169.943  audio_features  38znMaMurMhYmgYvMDQotf   \n",
       "1  183.889  audio_features  6P7geqcpl7VcD3eFmKTAIR   \n",
       "2   96.965  audio_features  3T8PmznIDAnGTzd3PltUUP   \n",
       "3  187.884  audio_features  3V07MqrFuz5dJm6baCWz8m   \n",
       "4  106.998  audio_features  50qMMcQDAukXhh07xBKCh7   \n",
       "\n",
       "                                    uri  \\\n",
       "0  spotify:track:38znMaMurMhYmgYvMDQotf   \n",
       "1  spotify:track:6P7geqcpl7VcD3eFmKTAIR   \n",
       "2  spotify:track:3T8PmznIDAnGTzd3PltUUP   \n",
       "3  spotify:track:3V07MqrFuz5dJm6baCWz8m   \n",
       "4  spotify:track:50qMMcQDAukXhh07xBKCh7   \n",
       "\n",
       "                                          track_href  \\\n",
       "0  https://api.spotify.com/v1/tracks/38znMaMurMhY...   \n",
       "1  https://api.spotify.com/v1/tracks/6P7geqcpl7Vc...   \n",
       "2  https://api.spotify.com/v1/tracks/3T8PmznIDAnG...   \n",
       "3  https://api.spotify.com/v1/tracks/3V07MqrFuz5d...   \n",
       "4  https://api.spotify.com/v1/tracks/50qMMcQDAukX...   \n",
       "\n",
       "                                        analysis_url duration_ms  \\\n",
       "0  https://api.spotify.com/v1/audio-analysis/38zn...      248000   \n",
       "1  https://api.spotify.com/v1/audio-analysis/6P7g...      232750   \n",
       "2  https://api.spotify.com/v1/audio-analysis/3T8P...      168084   \n",
       "3  https://api.spotify.com/v1/audio-analysis/3V07...      228000   \n",
       "4  https://api.spotify.com/v1/audio-analysis/50qM...      138500   \n",
       "\n",
       "  time_signature duration_mins duration_full  \n",
       "0              4          4.13          4:07  \n",
       "1              4          3.88          3:52  \n",
       "2              4          2.80          2:47  \n",
       "3              4          3.80          3:47  \n",
       "4              4          2.31          2:18  \n",
       "\n",
       "[5 rows x 24 columns]"
      ]
     },
     "execution_count": 85,
     "metadata": {},
     "output_type": "execute_result"
    }
   ],
   "source": [
    "df['duration_mins'] = (df['duration_ms']/60000).round(2)\n",
    "\n",
    "def toMinsSecs(time):\n",
    "    minutes = int(time)\n",
    "    seconds = int((time - minutes) * 60)\n",
    "    if seconds < 10:\n",
    "        seconds = str(seconds).zfill(2) # adds zeros before single seconds\n",
    "    full = '{}:{}'.format(minutes, seconds)\n",
    "    return full\n",
    "df['duration_full'] = df['duration_mins'].map(lambda x: toMinsSecs(x))\n",
    "df.head(5)"
   ]
  },
  {
   "cell_type": "code",
   "execution_count": 30,
   "id": "844d2742-c75b-47a3-b738-a2422660c133",
   "metadata": {},
   "outputs": [
    {
     "data": {
      "text/html": [
       "<div>\n",
       "<style scoped>\n",
       "    .dataframe tbody tr th:only-of-type {\n",
       "        vertical-align: middle;\n",
       "    }\n",
       "\n",
       "    .dataframe tbody tr th {\n",
       "        vertical-align: top;\n",
       "    }\n",
       "\n",
       "    .dataframe thead th {\n",
       "        text-align: right;\n",
       "    }\n",
       "</style>\n",
       "<table border=\"1\" class=\"dataframe\">\n",
       "  <thead>\n",
       "    <tr style=\"text-align: right;\">\n",
       "      <th></th>\n",
       "      <th>album_name</th>\n",
       "      <th>danceability</th>\n",
       "      <th>energy</th>\n",
       "      <th>loudness</th>\n",
       "      <th>speechiness</th>\n",
       "      <th>acousticness</th>\n",
       "      <th>instrumentalness</th>\n",
       "      <th>liveness</th>\n",
       "      <th>valence</th>\n",
       "      <th>tempo</th>\n",
       "      <th>time_signature</th>\n",
       "      <th>duration_ms</th>\n",
       "      <th>duration_mins</th>\n",
       "    </tr>\n",
       "  </thead>\n",
       "  <tbody>\n",
       "    <tr>\n",
       "      <th>0</th>\n",
       "      <td>Air for Free</td>\n",
       "      <td>0.445</td>\n",
       "      <td>0.744</td>\n",
       "      <td>-7.292</td>\n",
       "      <td>0.043</td>\n",
       "      <td>0.125</td>\n",
       "      <td>0.058</td>\n",
       "      <td>0.224</td>\n",
       "      <td>0.525</td>\n",
       "      <td>127.653</td>\n",
       "      <td>3.938</td>\n",
       "      <td>3566228.0</td>\n",
       "      <td>59.44</td>\n",
       "    </tr>\n",
       "    <tr>\n",
       "      <th>1</th>\n",
       "      <td>Collapsible Lung</td>\n",
       "      <td>0.670</td>\n",
       "      <td>0.681</td>\n",
       "      <td>-6.878</td>\n",
       "      <td>0.046</td>\n",
       "      <td>0.035</td>\n",
       "      <td>0.004</td>\n",
       "      <td>0.179</td>\n",
       "      <td>0.666</td>\n",
       "      <td>117.169</td>\n",
       "      <td>4.000</td>\n",
       "      <td>2138287.0</td>\n",
       "      <td>35.63</td>\n",
       "    </tr>\n",
       "    <tr>\n",
       "      <th>2</th>\n",
       "      <td>Five Score and Seven Year</td>\n",
       "      <td>0.443</td>\n",
       "      <td>0.832</td>\n",
       "      <td>-4.413</td>\n",
       "      <td>0.048</td>\n",
       "      <td>0.100</td>\n",
       "      <td>0.000</td>\n",
       "      <td>0.146</td>\n",
       "      <td>0.397</td>\n",
       "      <td>152.487</td>\n",
       "      <td>3.692</td>\n",
       "      <td>3067414.0</td>\n",
       "      <td>51.13</td>\n",
       "    </tr>\n",
       "    <tr>\n",
       "      <th>3</th>\n",
       "      <td>Forget And Not Slow Down</td>\n",
       "      <td>0.479</td>\n",
       "      <td>0.733</td>\n",
       "      <td>-6.825</td>\n",
       "      <td>0.061</td>\n",
       "      <td>0.184</td>\n",
       "      <td>0.070</td>\n",
       "      <td>0.198</td>\n",
       "      <td>0.440</td>\n",
       "      <td>134.348</td>\n",
       "      <td>4.000</td>\n",
       "      <td>5475720.0</td>\n",
       "      <td>91.22</td>\n",
       "    </tr>\n",
       "    <tr>\n",
       "      <th>4</th>\n",
       "      <td>Is for Karaoke</td>\n",
       "      <td>0.559</td>\n",
       "      <td>0.731</td>\n",
       "      <td>-6.182</td>\n",
       "      <td>0.041</td>\n",
       "      <td>0.006</td>\n",
       "      <td>0.004</td>\n",
       "      <td>0.155</td>\n",
       "      <td>0.437</td>\n",
       "      <td>128.156</td>\n",
       "      <td>4.000</td>\n",
       "      <td>3027402.0</td>\n",
       "      <td>50.47</td>\n",
       "    </tr>\n",
       "    <tr>\n",
       "      <th>5</th>\n",
       "      <td>Let It Snow Baby...Let It</td>\n",
       "      <td>0.451</td>\n",
       "      <td>0.584</td>\n",
       "      <td>-7.747</td>\n",
       "      <td>0.037</td>\n",
       "      <td>0.358</td>\n",
       "      <td>0.001</td>\n",
       "      <td>0.160</td>\n",
       "      <td>0.453</td>\n",
       "      <td>128.671</td>\n",
       "      <td>3.941</td>\n",
       "      <td>2875600.0</td>\n",
       "      <td>47.93</td>\n",
       "    </tr>\n",
       "    <tr>\n",
       "      <th>6</th>\n",
       "      <td>Live</td>\n",
       "      <td>0.447</td>\n",
       "      <td>0.820</td>\n",
       "      <td>-7.025</td>\n",
       "      <td>0.068</td>\n",
       "      <td>0.027</td>\n",
       "      <td>0.000</td>\n",
       "      <td>0.745</td>\n",
       "      <td>0.474</td>\n",
       "      <td>121.665</td>\n",
       "      <td>3.933</td>\n",
       "      <td>3663409.0</td>\n",
       "      <td>61.07</td>\n",
       "    </tr>\n",
       "    <tr>\n",
       "      <th>7</th>\n",
       "      <td>Mmhmm</td>\n",
       "      <td>0.449</td>\n",
       "      <td>0.828</td>\n",
       "      <td>-4.811</td>\n",
       "      <td>0.055</td>\n",
       "      <td>0.070</td>\n",
       "      <td>0.000</td>\n",
       "      <td>0.167</td>\n",
       "      <td>0.405</td>\n",
       "      <td>138.424</td>\n",
       "      <td>3.929</td>\n",
       "      <td>3027652.0</td>\n",
       "      <td>50.46</td>\n",
       "    </tr>\n",
       "    <tr>\n",
       "      <th>8</th>\n",
       "      <td>Mmhmm10</td>\n",
       "      <td>0.454</td>\n",
       "      <td>0.756</td>\n",
       "      <td>-5.708</td>\n",
       "      <td>0.053</td>\n",
       "      <td>0.165</td>\n",
       "      <td>0.048</td>\n",
       "      <td>0.158</td>\n",
       "      <td>0.385</td>\n",
       "      <td>134.655</td>\n",
       "      <td>3.950</td>\n",
       "      <td>4132687.0</td>\n",
       "      <td>68.88</td>\n",
       "    </tr>\n",
       "    <tr>\n",
       "      <th>9</th>\n",
       "      <td>Relient K</td>\n",
       "      <td>0.449</td>\n",
       "      <td>0.694</td>\n",
       "      <td>-6.028</td>\n",
       "      <td>0.049</td>\n",
       "      <td>0.008</td>\n",
       "      <td>0.127</td>\n",
       "      <td>0.247</td>\n",
       "      <td>0.584</td>\n",
       "      <td>114.000</td>\n",
       "      <td>3.929</td>\n",
       "      <td>2777561.0</td>\n",
       "      <td>46.30</td>\n",
       "    </tr>\n",
       "    <tr>\n",
       "      <th>10</th>\n",
       "      <td>The Anatomy of the Tongue</td>\n",
       "      <td>0.448</td>\n",
       "      <td>0.699</td>\n",
       "      <td>-5.853</td>\n",
       "      <td>0.082</td>\n",
       "      <td>0.168</td>\n",
       "      <td>0.000</td>\n",
       "      <td>0.337</td>\n",
       "      <td>0.593</td>\n",
       "      <td>136.832</td>\n",
       "      <td>4.118</td>\n",
       "      <td>3287120.0</td>\n",
       "      <td>54.79</td>\n",
       "    </tr>\n",
       "    <tr>\n",
       "      <th>11</th>\n",
       "      <td>The Bird and the Bee Side</td>\n",
       "      <td>0.523</td>\n",
       "      <td>0.808</td>\n",
       "      <td>-4.329</td>\n",
       "      <td>0.072</td>\n",
       "      <td>0.066</td>\n",
       "      <td>0.000</td>\n",
       "      <td>0.254</td>\n",
       "      <td>0.528</td>\n",
       "      <td>109.641</td>\n",
       "      <td>3.900</td>\n",
       "      <td>3278854.0</td>\n",
       "      <td>54.67</td>\n",
       "    </tr>\n",
       "    <tr>\n",
       "      <th>12</th>\n",
       "      <td>Two Lefts Don't Make a Ri</td>\n",
       "      <td>0.503</td>\n",
       "      <td>0.736</td>\n",
       "      <td>-5.661</td>\n",
       "      <td>0.109</td>\n",
       "      <td>0.142</td>\n",
       "      <td>0.033</td>\n",
       "      <td>0.280</td>\n",
       "      <td>0.599</td>\n",
       "      <td>146.558</td>\n",
       "      <td>3.800</td>\n",
       "      <td>3427973.0</td>\n",
       "      <td>57.13</td>\n",
       "    </tr>\n",
       "  </tbody>\n",
       "</table>\n",
       "</div>"
      ],
      "text/plain": [
       "                   album_name  danceability  energy  loudness  speechiness  \\\n",
       "0                Air for Free         0.445   0.744    -7.292        0.043   \n",
       "1            Collapsible Lung         0.670   0.681    -6.878        0.046   \n",
       "2   Five Score and Seven Year         0.443   0.832    -4.413        0.048   \n",
       "3    Forget And Not Slow Down         0.479   0.733    -6.825        0.061   \n",
       "4              Is for Karaoke         0.559   0.731    -6.182        0.041   \n",
       "5   Let It Snow Baby...Let It         0.451   0.584    -7.747        0.037   \n",
       "6                        Live         0.447   0.820    -7.025        0.068   \n",
       "7                       Mmhmm         0.449   0.828    -4.811        0.055   \n",
       "8                     Mmhmm10         0.454   0.756    -5.708        0.053   \n",
       "9                   Relient K         0.449   0.694    -6.028        0.049   \n",
       "10  The Anatomy of the Tongue         0.448   0.699    -5.853        0.082   \n",
       "11  The Bird and the Bee Side         0.523   0.808    -4.329        0.072   \n",
       "12  Two Lefts Don't Make a Ri         0.503   0.736    -5.661        0.109   \n",
       "\n",
       "    acousticness  instrumentalness  liveness  valence    tempo  \\\n",
       "0          0.125             0.058     0.224    0.525  127.653   \n",
       "1          0.035             0.004     0.179    0.666  117.169   \n",
       "2          0.100             0.000     0.146    0.397  152.487   \n",
       "3          0.184             0.070     0.198    0.440  134.348   \n",
       "4          0.006             0.004     0.155    0.437  128.156   \n",
       "5          0.358             0.001     0.160    0.453  128.671   \n",
       "6          0.027             0.000     0.745    0.474  121.665   \n",
       "7          0.070             0.000     0.167    0.405  138.424   \n",
       "8          0.165             0.048     0.158    0.385  134.655   \n",
       "9          0.008             0.127     0.247    0.584  114.000   \n",
       "10         0.168             0.000     0.337    0.593  136.832   \n",
       "11         0.066             0.000     0.254    0.528  109.641   \n",
       "12         0.142             0.033     0.280    0.599  146.558   \n",
       "\n",
       "    time_signature  duration_ms  duration_mins  \n",
       "0            3.938    3566228.0          59.44  \n",
       "1            4.000    2138287.0          35.63  \n",
       "2            3.692    3067414.0          51.13  \n",
       "3            4.000    5475720.0          91.22  \n",
       "4            4.000    3027402.0          50.47  \n",
       "5            3.941    2875600.0          47.93  \n",
       "6            3.933    3663409.0          61.07  \n",
       "7            3.929    3027652.0          50.46  \n",
       "8            3.950    4132687.0          68.88  \n",
       "9            3.929    2777561.0          46.30  \n",
       "10           4.118    3287120.0          54.79  \n",
       "11           3.900    3278854.0          54.67  \n",
       "12           3.800    3427973.0          57.13  "
      ]
     },
     "execution_count": 30,
     "metadata": {},
     "output_type": "execute_result"
    }
   ],
   "source": [
    "# subset by album\n",
    "by_album = df.groupby('album_name').agg({'danceability':'mean',\n",
    "                                         'energy':'mean',\n",
    "                                         'loudness':'mean',\n",
    "                                         'speechiness':'mean',\n",
    "                                         'acousticness':'mean',\n",
    "                                         'instrumentalness':'mean',\n",
    "                                         'liveness':'mean',\n",
    "                                         'valence':'mean',\n",
    "                                         'tempo':'mean',\n",
    "                                         'time_signature':'mean',\n",
    "                                         'duration_ms':'sum',\n",
    "                                         'duration_mins':'sum'}).round(3).reset_index()\n",
    "by_album"
   ]
  },
  {
   "cell_type": "code",
   "execution_count": 31,
   "id": "7488de5a-981e-4509-83df-5626f7441eb6",
   "metadata": {},
   "outputs": [
    {
     "name": "stdout",
     "output_type": "stream",
     "text": [
      "Air for Free : 16\n",
      "Collapsible Lung : 11\n",
      "Five Score and Seven Year : 14\n",
      "Forget And Not Slow Down : 32\n",
      "Is for Karaoke : 14\n",
      "Let It Snow Baby...Let It : 17\n",
      "Live : 15\n",
      "Mmhmm : 14\n",
      "Mmhmm10 : 20\n",
      "Relient K : 14\n",
      "The Anatomy of the Tongue : 17\n",
      "The Bird and the Bee Side : 20\n",
      "Two Lefts Don't Make a Ri : 15\n"
     ]
    }
   ],
   "source": [
    "# remove extra/repeated albums\n",
    "# for repeat albums, go through and pick shortest album\n",
    "\n",
    "albs_to_keep = {}\n",
    "for name in by_album['album_name']:\n",
    "    trim_name = name.split('(')[0].strip()\n",
    "    alb_len = len(df[df['album_name'] == '{}'.format(name)])\n",
    "    print(trim_name,':',alb_len)\n",
    "#     if trim_name.upper() in albs_to_keep and :\n",
    "        # compare with one in detector. If longer, then swap\n",
    "    for i in albs_to_keep.keys():\n",
    "        if (name[0:5] in i) & (alb_len <= albs_to_keep[i]):\n",
    "            albs_to_keep[i] = 0\n",
    "    albs_to_keep[name] = alb_len\n",
    "albs_to_keep = {x:y for x,y in albs_to_keep.items() if y != 0}\n",
    "\n",
    "by_album = by_album[by_album['album_name'].isin(albs_to_keep)].reset_index(drop=True)"
   ]
  },
  {
   "cell_type": "code",
   "execution_count": 32,
   "id": "19075692-93d3-4fc2-a1f8-dc9042f77736",
   "metadata": {},
   "outputs": [
    {
     "data": {
      "text/plain": [
       "[Text(0, 0, 'Collapsible Lung'),\n",
       " Text(1, 0, 'Relient K'),\n",
       " Text(2, 0, 'Let It Snow Baby...Let It'),\n",
       " Text(3, 0, 'Mmhmm'),\n",
       " Text(4, 0, 'Is for Karaoke'),\n",
       " Text(5, 0, 'Five Score and Seven Year'),\n",
       " Text(6, 0, 'The Bird and the Bee Side'),\n",
       " Text(7, 0, 'The Anatomy of the Tongue'),\n",
       " Text(8, 0, \"Two Lefts Don't Make a Ri\"),\n",
       " Text(9, 0, 'Air for Free'),\n",
       " Text(10, 0, 'Live'),\n",
       " Text(11, 0, 'Mmhmm10'),\n",
       " Text(12, 0, 'Forget And Not Slow Down')]"
      ]
     },
     "execution_count": 32,
     "metadata": {},
     "output_type": "execute_result"
    },
    {
     "data": {
      "image/png": "[encoded data removed]",
      "text/plain": [
       "<Figure size 720x720 with 1 Axes>"
      ]
     },
     "metadata": {
      "needs_background": "light"
     },
     "output_type": "display_data"
    }
   ],
   "source": [
    "plt.figure(figsize=(10,10))\n",
    "ax = sns.barplot(data=by_album, \n",
    "                 x='album_name', \n",
    "                 y='duration_mins',\n",
    "                order = by_album.sort_values('duration_mins').album_name)\n",
    "plt.xlabel(\"Album\", size=15)\n",
    "plt.ylabel(\"Duration in Minutes\", size=15)\n",
    "plt.title(\"Album Lengths for {artist}\".format(artist = artist_name), size=18)\n",
    "ax.set_xticklabels(ax.get_xticklabels(),rotation = 30)"
   ]
  },
  {
   "cell_type": "code",
   "execution_count": 33,
   "id": "a09690c7-c722-489e-ae9b-689d7cf9ad2d",
   "metadata": {},
   "outputs": [
    {
     "name": "stdout",
     "output_type": "stream",
     "text": [
      "Top 5 positive correlations:\n",
      "loudness      energy          0.67\n",
      "valence       danceability    0.50\n",
      "liveness      speechiness     0.39\n",
      "valence       speechiness     0.37\n",
      "acousticness  tempo           0.34\n",
      "dtype: float64\n",
      "\n",
      "Top 5 negative correlations:\n",
      "duration_mins   valence    -0.43\n",
      "duration_ms     valence    -0.43\n",
      "time_signature  energy     -0.44\n",
      "                loudness   -0.45\n",
      "acousticness    energy     -0.55\n",
      "dtype: float64\n"
     ]
    }
   ],
   "source": [
    "corr_mat = by_album.corr(method='pearson').round(2)\n",
    "sorted_mat = corr_mat.unstack().sort_values() \\\n",
    "             [:-(len(by_album.columns))-1] \\\n",
    "             [::2]\n",
    "sorted_mat = sorted_mat.sort_values(ascending=False)\n",
    "top_5_corr = sorted_mat.head(5)\n",
    "bottom_5_corr = sorted_mat.tail(5)\n",
    "print('Top 5 positive correlations:\\n{}\\n\\nTop 5 negative correlations:\\n{}' \\\n",
    "      .format(top_5_corr, bottom_5_corr))"
   ]
  },
  {
   "cell_type": "code",
   "execution_count": null,
   "id": "18ceeaf3-c0c4-47be-9d8e-841725bfb863",
   "metadata": {},
   "outputs": [],
   "source": []
  },
  {
   "cell_type": "code",
   "execution_count": 44,
   "id": "e1c68baf-700f-4a9c-b83c-68d24fd30efe",
   "metadata": {},
   "outputs": [
    {
     "data": {
      "text/plain": [
       "<matplotlib.legend.Legend at 0x17f5eca8af0>"
      ]
     },
     "execution_count": 44,
     "metadata": {},
     "output_type": "execute_result"
    },
    {
     "data": {
      "image/png": "[encoded data removed]",
      "text/plain": [
       "<Figure size 720x720 with 1 Axes>"
      ]
     },
     "metadata": {},
     "output_type": "display_data"
    }
   ],
   "source": [
    "# The largest negative correlation for this artist\n",
    "var1 = str(bottom_5_corr[0:1]).split()[0]\n",
    "var2 = str(bottom_5_corr[0:1]).split()[1]\n",
    "\n",
    "plt.figure(figsize=(10, 10))\n",
    "plt.title(\"{var1} vs. {var2} for {artist} (by album)\".format(var1 = var1,\n",
    "                                                  var2 = var2,\n",
    "                                                  artist = artist_name), size=18)\n",
    "plt.tight_layout()\n",
    "ax = sns.scatterplot(data=by_album, \n",
    "                 x=var1, \n",
    "                 y=var2,\n",
    "                 s=1000,\n",
    "                 marker='o',\n",
    "                 hue='album_name',\n",
    "                 palette='Set1')\n",
    "sns.set_style(\"ticks\")\n",
    "plt.xlabel(var1, size=15)\n",
    "plt.ylabel(var2, size=15)\n",
    "\n",
    "ax.legend(h[1:len(album_names_dates)+1], \n",
    "          labs[1:int(len(album_names_dates))+1], loc='best', title='Albums')"
   ]
  },
  {
   "cell_type": "code",
   "execution_count": 42,
   "id": "40b966d0-59a1-4c4a-b541-8b2422a925a6",
   "metadata": {},
   "outputs": [
    {
     "data": {
      "text/plain": [
       "<matplotlib.legend.Legend at 0x17f5ea46550>"
      ]
     },
     "execution_count": 42,
     "metadata": {},
     "output_type": "execute_result"
    },
    {
     "data": {
      "image/png": "[encoded data removed]",
      "text/plain": [
       "<Figure size 720x720 with 1 Axes>"
      ]
     },
     "metadata": {},
     "output_type": "display_data"
    }
   ],
   "source": [
    "# The largest positive correlation for this artist\n",
    "var1 = str(top_5_corr[0:1]).split()[0]\n",
    "var2 = str(top_5_corr[0:1]).split()[1]\n",
    "\n",
    "plt.figure(figsize=(10, 10))\n",
    "plt.title(\"{var1} vs. {var2} for {artist} (by album)\".format(var1 = var1,\n",
    "                                                  var2 = var2,\n",
    "                                                  artist = artist_name), size=18)\n",
    "plt.tight_layout()\n",
    "ax = sns.scatterplot(data=by_album, \n",
    "                 x=var1, \n",
    "                 y=var2,\n",
    "                 s=1000,\n",
    "                 hue='album_name',\n",
    "                 palette='Set1')\n",
    "\n",
    "ax.legend(h[1:len(album_names_dates)+1], \n",
    "          labs[1:int(len(album_names_dates))+1], loc='best', title=None)"
   ]
  },
  {
   "cell_type": "code",
   "execution_count": null,
   "id": "8921b114-4b83-4f59-99fc-4918c5741a6f",
   "metadata": {},
   "outputs": [],
   "source": []
  },
  {
   "cell_type": "code",
   "execution_count": 38,
   "id": "9c1273eb-cd0b-4b64-82fa-7715b1645481",
   "metadata": {},
   "outputs": [
    {
     "data": {
      "text/plain": [
       "<matplotlib.legend.Legend at 0x17f5eccafa0>"
      ]
     },
     "execution_count": 38,
     "metadata": {},
     "output_type": "execute_result"
    },
    {
     "data": {
      "image/png": "[encoded data removed]",
      "text/plain": [
       "<Figure size 720x720 with 1 Axes>"
      ]
     },
     "metadata": {},
     "output_type": "display_data"
    }
   ],
   "source": [
    "plt.figure(figsize=(10,10))\n",
    "\n",
    "ax = sns.scatterplot(data=by_album, \n",
    "                     x='loudness', y='energy', \n",
    "                     hue='album_name', \n",
    "                     palette='Set1', \n",
    "#                      size='duration_ms',\n",
    "                     s=1000,\n",
    "                     sizes=(50,1000), \n",
    "                     alpha=0.7)\n",
    "# plt.xlabel(\"Average Song Energy\", size=15)\n",
    "# plt.ylabel(\"Average Song Tempo\", size=15)\n",
    "# plt.title(\"Album Energy and Tempo for {artist}\".format(artist = 'None'), size=18)\n",
    "plt.tight_layout()\n",
    "# display legend without `size` attribute\n",
    "h,labs = ax.get_legend_handles_labels()\n",
    "ax.legend(h[1:len(album_names_dates)+1], \n",
    "          labs[1:int(len(album_names_dates))+1], loc='best', title=None)"
   ]
  },
  {
   "cell_type": "code",
   "execution_count": null,
   "id": "f8bdc072-a4a6-4d30-9572-3aaa6d99929a",
   "metadata": {},
   "outputs": [],
   "source": []
  },
  {
   "cell_type": "code",
   "execution_count": null,
   "id": "d2540f3f-2a30-45e8-a9b4-4bcee923d80f",
   "metadata": {},
   "outputs": [],
   "source": []
  }
 ],
 "metadata": {
  "kernelspec": {
   "display_name": "Python 3",
   "language": "python",
   "name": "python3"
  },
  "language_info": {
   "codemirror_mode": {
    "name": "ipython",
    "version": 3
   },
   "file_extension": ".py",
   "mimetype": "text/x-python",
   "name": "python",
   "nbconvert_exporter": "python",
   "pygments_lexer": "ipython3",
   "version": "3.9.5"
  }
 },
 "nbformat": 4,
 "nbformat_minor": 5
}
