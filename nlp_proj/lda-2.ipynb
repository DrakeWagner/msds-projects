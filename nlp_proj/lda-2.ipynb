{
 "cells": [
  {
   "cell_type": "markdown",
   "source": [
    "# Module 8: LDA with SciKit Learn\r\n",
    "\r\n",
    "* DS 5001\r\n",
    "* PUT YOUR NAME HERE"
   ],
   "metadata": {}
  },
  {
   "cell_type": "markdown",
   "source": [
    "# Set Up"
   ],
   "metadata": {}
  },
  {
   "cell_type": "markdown",
   "source": [
    "## Configs"
   ],
   "metadata": {}
  },
  {
   "cell_type": "code",
   "execution_count": 1,
   "source": [
    "n_terms = 4000\r\n",
    "n_topics = 30\r\n",
    "max_iter = 5\r\n",
    "OHCO = ['book_id', 'chap_num', 'para_num']\r\n",
    "\r\n",
    "import os\r\n",
    "os.chdir('C:\\\\Users\\\\dwagn\\\\Downloads\\\\Project\\\\Project')"
   ],
   "outputs": [],
   "metadata": {}
  },
  {
   "cell_type": "markdown",
   "source": [
    "## Imports"
   ],
   "metadata": {}
  },
  {
   "cell_type": "code",
   "execution_count": 2,
   "source": [
    "import pandas as pd\r\n",
    "from sklearn.feature_extraction.text import CountVectorizer\r\n",
    "from sklearn.decomposition import LatentDirichletAllocation as LDA"
   ],
   "outputs": [],
   "metadata": {}
  },
  {
   "cell_type": "code",
   "execution_count": 3,
   "source": [
    "%matplotlib inline"
   ],
   "outputs": [],
   "metadata": {}
  },
  {
   "cell_type": "markdown",
   "source": [
    "# Prepare Data"
   ],
   "metadata": {
    "toc-hr-collapsed": true
   }
  },
  {
   "cell_type": "markdown",
   "source": [
    "## Convert TOKENS to table of paragraphs\n",
    "\n",
    "Scikit Learn wants an F1 style corpus. We create onefrom our annotated TOKEN table, keeping only regular nouns."
   ],
   "metadata": {}
  },
  {
   "cell_type": "code",
   "execution_count": 4,
   "source": [
    "TOKENS = pd.read_csv('TOKEN2.csv')\r\n",
    "PARAS = TOKENS[TOKENS.pos.str.match(r'^NNS?$')]\\\r\n",
    "    .groupby(OHCO).term_str\\\r\n",
    "    .apply(lambda x: ' '.join(x))\\\r\n",
    "    .to_frame()\\\r\n",
    "    .rename(columns={'term_str':'para_str'})"
   ],
   "outputs": [],
   "metadata": {}
  },
  {
   "cell_type": "code",
   "execution_count": 5,
   "source": [
    "PARAS.head()"
   ],
   "outputs": [
    {
     "output_type": "execute_result",
     "data": {
      "text/plain": [
       "                                                                    para_str\n",
       "book_id chap_num para_num                                                   \n",
       "121     31       0                                                      note\n",
       "                 1                                             advertisement\n",
       "                 2         work year publication bookseller business fart...\n",
       "        32       1         one infancy born heroine situation character f...\n",
       "                 2         ten appearances hair balls complexion improved..."
      ],
      "text/html": [
       "<div>\n",
       "<style scoped>\n",
       "    .dataframe tbody tr th:only-of-type {\n",
       "        vertical-align: middle;\n",
       "    }\n",
       "\n",
       "    .dataframe tbody tr th {\n",
       "        vertical-align: top;\n",
       "    }\n",
       "\n",
       "    .dataframe thead th {\n",
       "        text-align: right;\n",
       "    }\n",
       "</style>\n",
       "<table border=\"1\" class=\"dataframe\">\n",
       "  <thead>\n",
       "    <tr style=\"text-align: right;\">\n",
       "      <th></th>\n",
       "      <th></th>\n",
       "      <th></th>\n",
       "      <th>para_str</th>\n",
       "    </tr>\n",
       "    <tr>\n",
       "      <th>book_id</th>\n",
       "      <th>chap_num</th>\n",
       "      <th>para_num</th>\n",
       "      <th></th>\n",
       "    </tr>\n",
       "  </thead>\n",
       "  <tbody>\n",
       "    <tr>\n",
       "      <th rowspan=\"5\" valign=\"top\">121</th>\n",
       "      <th rowspan=\"3\" valign=\"top\">31</th>\n",
       "      <th>0</th>\n",
       "      <td>note</td>\n",
       "    </tr>\n",
       "    <tr>\n",
       "      <th>1</th>\n",
       "      <td>advertisement</td>\n",
       "    </tr>\n",
       "    <tr>\n",
       "      <th>2</th>\n",
       "      <td>work year publication bookseller business fart...</td>\n",
       "    </tr>\n",
       "    <tr>\n",
       "      <th rowspan=\"2\" valign=\"top\">32</th>\n",
       "      <th>1</th>\n",
       "      <td>one infancy born heroine situation character f...</td>\n",
       "    </tr>\n",
       "    <tr>\n",
       "      <th>2</th>\n",
       "      <td>ten appearances hair balls complexion improved...</td>\n",
       "    </tr>\n",
       "  </tbody>\n",
       "</table>\n",
       "</div>"
      ]
     },
     "metadata": {},
     "execution_count": 5
    }
   ],
   "metadata": {}
  },
  {
   "cell_type": "markdown",
   "source": [
    "## Create Vector Space\n",
    "\n",
    "We use Scikit Learn's CountVectorizer to convert our F1 corpus of paragraphs into a document-term vector space of word counts."
   ],
   "metadata": {}
  },
  {
   "cell_type": "code",
   "execution_count": 10,
   "source": [
    "tfv = CountVectorizer(max_features=n_terms, stop_words='english')\r\n",
    "tf = tfv.fit_transform(PARAS.para_str)\r\n",
    "TERMS = tfv.get_feature_names()"
   ],
   "outputs": [],
   "metadata": {}
  },
  {
   "cell_type": "markdown",
   "source": [
    "# Generate Model\n",
    "\n",
    "We run Scikit Learn's [LatentDirichletAllocation algorithm](https://scikit-learn.org/stable/modules/generated/sklearn.decomposition.LatentDirichletAllocation.html#sklearn.decomposition.LatentDirichletAllocation) and extract the THETA and PHI tables."
   ],
   "metadata": {
    "toc-hr-collapsed": false
   }
  },
  {
   "cell_type": "code",
   "execution_count": 11,
   "source": [
    "lda = LDA(n_components=n_topics, max_iter=max_iter, learning_offset=50., random_state=0)"
   ],
   "outputs": [],
   "metadata": {}
  },
  {
   "cell_type": "markdown",
   "source": [
    "## THETA"
   ],
   "metadata": {}
  },
  {
   "cell_type": "code",
   "execution_count": 12,
   "source": [
    "THETA = pd.DataFrame(lda.fit_transform(tf), index=PARAS.index)\r\n",
    "THETA.columns.name = 'topic_id'"
   ],
   "outputs": [],
   "metadata": {}
  },
  {
   "cell_type": "code",
   "execution_count": 13,
   "source": [
    "THETA.sample(20).style.background_gradient()"
   ],
   "outputs": [
    {
     "output_type": "execute_result",
     "data": {
      "text/plain": [
       "<pandas.io.formats.style.Styler at 0x21f9d695040>"
      ],
      "text/html": [
       "<style  type=\"text/css\" >\n",
       "#T_cc1f7_row0_col0,#T_cc1f7_row0_col5,#T_cc1f7_row0_col9,#T_cc1f7_row0_col10,#T_cc1f7_row0_col12,#T_cc1f7_row0_col14,#T_cc1f7_row0_col17,#T_cc1f7_row0_col20,#T_cc1f7_row0_col21,#T_cc1f7_row0_col22,#T_cc1f7_row0_col24,#T_cc1f7_row0_col26,#T_cc1f7_row0_col27,#T_cc1f7_row6_col0,#T_cc1f7_row6_col5,#T_cc1f7_row6_col9,#T_cc1f7_row6_col10,#T_cc1f7_row6_col12,#T_cc1f7_row6_col14,#T_cc1f7_row6_col17,#T_cc1f7_row6_col20,#T_cc1f7_row6_col21,#T_cc1f7_row6_col22,#T_cc1f7_row6_col24,#T_cc1f7_row6_col26,#T_cc1f7_row6_col27,#T_cc1f7_row7_col0,#T_cc1f7_row7_col5,#T_cc1f7_row7_col9,#T_cc1f7_row7_col10,#T_cc1f7_row7_col12,#T_cc1f7_row7_col14,#T_cc1f7_row7_col17,#T_cc1f7_row7_col20,#T_cc1f7_row7_col21,#T_cc1f7_row7_col22,#T_cc1f7_row7_col24,#T_cc1f7_row7_col26,#T_cc1f7_row7_col27,#T_cc1f7_row13_col6,#T_cc1f7_row16_col3,#T_cc1f7_row16_col7,#T_cc1f7_row17_col6,#T_cc1f7_row19_col3,#T_cc1f7_row19_col7{\n",
       "            background-color:  #f8f1f8;\n",
       "            color:  #000000;\n",
       "        }#T_cc1f7_row0_col1,#T_cc1f7_row0_col2,#T_cc1f7_row0_col3,#T_cc1f7_row0_col4,#T_cc1f7_row0_col7,#T_cc1f7_row0_col8,#T_cc1f7_row0_col13,#T_cc1f7_row0_col15,#T_cc1f7_row0_col18,#T_cc1f7_row0_col19,#T_cc1f7_row0_col23,#T_cc1f7_row0_col25,#T_cc1f7_row0_col28,#T_cc1f7_row0_col29,#T_cc1f7_row1_col1,#T_cc1f7_row1_col2,#T_cc1f7_row1_col3,#T_cc1f7_row1_col4,#T_cc1f7_row1_col7,#T_cc1f7_row1_col13,#T_cc1f7_row1_col15,#T_cc1f7_row1_col16,#T_cc1f7_row1_col18,#T_cc1f7_row1_col19,#T_cc1f7_row1_col23,#T_cc1f7_row1_col29,#T_cc1f7_row2_col1,#T_cc1f7_row2_col2,#T_cc1f7_row2_col3,#T_cc1f7_row2_col4,#T_cc1f7_row2_col6,#T_cc1f7_row2_col7,#T_cc1f7_row2_col8,#T_cc1f7_row2_col13,#T_cc1f7_row2_col15,#T_cc1f7_row2_col16,#T_cc1f7_row2_col18,#T_cc1f7_row2_col19,#T_cc1f7_row2_col23,#T_cc1f7_row2_col25,#T_cc1f7_row2_col28,#T_cc1f7_row3_col1,#T_cc1f7_row3_col2,#T_cc1f7_row3_col3,#T_cc1f7_row3_col4,#T_cc1f7_row3_col6,#T_cc1f7_row3_col7,#T_cc1f7_row3_col8,#T_cc1f7_row3_col11,#T_cc1f7_row3_col15,#T_cc1f7_row3_col16,#T_cc1f7_row3_col18,#T_cc1f7_row3_col19,#T_cc1f7_row3_col23,#T_cc1f7_row3_col25,#T_cc1f7_row3_col28,#T_cc1f7_row3_col29,#T_cc1f7_row5_col1,#T_cc1f7_row5_col3,#T_cc1f7_row5_col4,#T_cc1f7_row5_col6,#T_cc1f7_row5_col7,#T_cc1f7_row5_col8,#T_cc1f7_row5_col13,#T_cc1f7_row5_col15,#T_cc1f7_row5_col16,#T_cc1f7_row5_col18,#T_cc1f7_row5_col19,#T_cc1f7_row5_col23,#T_cc1f7_row5_col25,#T_cc1f7_row5_col28,#T_cc1f7_row5_col29,#T_cc1f7_row6_col1,#T_cc1f7_row6_col2,#T_cc1f7_row6_col3,#T_cc1f7_row6_col4,#T_cc1f7_row6_col7,#T_cc1f7_row6_col8,#T_cc1f7_row6_col13,#T_cc1f7_row6_col15,#T_cc1f7_row6_col16,#T_cc1f7_row6_col18,#T_cc1f7_row6_col19,#T_cc1f7_row6_col25,#T_cc1f7_row6_col28,#T_cc1f7_row6_col29,#T_cc1f7_row7_col1,#T_cc1f7_row7_col2,#T_cc1f7_row7_col3,#T_cc1f7_row7_col4,#T_cc1f7_row7_col7,#T_cc1f7_row7_col8,#T_cc1f7_row7_col13,#T_cc1f7_row7_col15,#T_cc1f7_row7_col16,#T_cc1f7_row7_col18,#T_cc1f7_row7_col23,#T_cc1f7_row7_col25,#T_cc1f7_row7_col28,#T_cc1f7_row7_col29,#T_cc1f7_row8_col0,#T_cc1f7_row8_col1,#T_cc1f7_row8_col2,#T_cc1f7_row8_col3,#T_cc1f7_row8_col4,#T_cc1f7_row8_col5,#T_cc1f7_row8_col6,#T_cc1f7_row8_col7,#T_cc1f7_row8_col8,#T_cc1f7_row8_col9,#T_cc1f7_row8_col10,#T_cc1f7_row8_col11,#T_cc1f7_row8_col12,#T_cc1f7_row8_col13,#T_cc1f7_row8_col14,#T_cc1f7_row8_col15,#T_cc1f7_row8_col16,#T_cc1f7_row8_col17,#T_cc1f7_row8_col18,#T_cc1f7_row8_col19,#T_cc1f7_row8_col20,#T_cc1f7_row8_col21,#T_cc1f7_row8_col22,#T_cc1f7_row8_col24,#T_cc1f7_row8_col25,#T_cc1f7_row8_col26,#T_cc1f7_row8_col27,#T_cc1f7_row8_col28,#T_cc1f7_row8_col29,#T_cc1f7_row9_col1,#T_cc1f7_row9_col2,#T_cc1f7_row9_col3,#T_cc1f7_row9_col4,#T_cc1f7_row9_col6,#T_cc1f7_row9_col7,#T_cc1f7_row9_col8,#T_cc1f7_row9_col11,#T_cc1f7_row9_col13,#T_cc1f7_row9_col15,#T_cc1f7_row9_col16,#T_cc1f7_row9_col19,#T_cc1f7_row9_col23,#T_cc1f7_row9_col25,#T_cc1f7_row9_col28,#T_cc1f7_row9_col29,#T_cc1f7_row10_col1,#T_cc1f7_row10_col2,#T_cc1f7_row10_col3,#T_cc1f7_row10_col4,#T_cc1f7_row10_col6,#T_cc1f7_row10_col7,#T_cc1f7_row10_col8,#T_cc1f7_row10_col13,#T_cc1f7_row10_col15,#T_cc1f7_row10_col16,#T_cc1f7_row10_col18,#T_cc1f7_row10_col19,#T_cc1f7_row10_col23,#T_cc1f7_row10_col25,#T_cc1f7_row10_col28,#T_cc1f7_row11_col0,#T_cc1f7_row11_col1,#T_cc1f7_row11_col2,#T_cc1f7_row11_col3,#T_cc1f7_row11_col5,#T_cc1f7_row11_col6,#T_cc1f7_row11_col7,#T_cc1f7_row11_col8,#T_cc1f7_row11_col9,#T_cc1f7_row11_col10,#T_cc1f7_row11_col11,#T_cc1f7_row11_col12,#T_cc1f7_row11_col13,#T_cc1f7_row11_col14,#T_cc1f7_row11_col15,#T_cc1f7_row11_col16,#T_cc1f7_row11_col17,#T_cc1f7_row11_col18,#T_cc1f7_row11_col19,#T_cc1f7_row11_col20,#T_cc1f7_row11_col21,#T_cc1f7_row11_col22,#T_cc1f7_row11_col23,#T_cc1f7_row11_col24,#T_cc1f7_row11_col25,#T_cc1f7_row11_col26,#T_cc1f7_row11_col27,#T_cc1f7_row11_col28,#T_cc1f7_row11_col29,#T_cc1f7_row12_col2,#T_cc1f7_row12_col3,#T_cc1f7_row12_col4,#T_cc1f7_row12_col8,#T_cc1f7_row12_col13,#T_cc1f7_row12_col15,#T_cc1f7_row12_col16,#T_cc1f7_row12_col18,#T_cc1f7_row12_col19,#T_cc1f7_row12_col23,#T_cc1f7_row12_col25,#T_cc1f7_row12_col28,#T_cc1f7_row12_col29,#T_cc1f7_row15_col1,#T_cc1f7_row15_col2,#T_cc1f7_row15_col3,#T_cc1f7_row15_col4,#T_cc1f7_row15_col6,#T_cc1f7_row15_col7,#T_cc1f7_row15_col8,#T_cc1f7_row15_col13,#T_cc1f7_row15_col16,#T_cc1f7_row15_col18,#T_cc1f7_row15_col19,#T_cc1f7_row15_col23,#T_cc1f7_row15_col25,#T_cc1f7_row15_col28,#T_cc1f7_row15_col29{\n",
       "            background-color:  #fff7fb;\n",
       "            color:  #000000;\n",
       "        }#T_cc1f7_row0_col6,#T_cc1f7_row1_col6,#T_cc1f7_row1_col8,#T_cc1f7_row1_col25,#T_cc1f7_row2_col11,#T_cc1f7_row3_col0,#T_cc1f7_row3_col5,#T_cc1f7_row3_col9,#T_cc1f7_row3_col10,#T_cc1f7_row3_col12,#T_cc1f7_row3_col14,#T_cc1f7_row3_col17,#T_cc1f7_row3_col20,#T_cc1f7_row3_col21,#T_cc1f7_row3_col22,#T_cc1f7_row3_col24,#T_cc1f7_row3_col26,#T_cc1f7_row3_col27,#T_cc1f7_row5_col11,#T_cc1f7_row7_col6,#T_cc1f7_row12_col6,#T_cc1f7_row15_col11,#T_cc1f7_row18_col2,#T_cc1f7_row18_col4,#T_cc1f7_row18_col13,#T_cc1f7_row18_col15,#T_cc1f7_row18_col16,#T_cc1f7_row18_col18,#T_cc1f7_row18_col19,#T_cc1f7_row18_col23,#T_cc1f7_row18_col28,#T_cc1f7_row18_col29{\n",
       "            background-color:  #fef6fb;\n",
       "            color:  #000000;\n",
       "        }#T_cc1f7_row0_col11,#T_cc1f7_row4_col2,#T_cc1f7_row4_col4,#T_cc1f7_row4_col13,#T_cc1f7_row4_col15,#T_cc1f7_row4_col16,#T_cc1f7_row4_col18,#T_cc1f7_row4_col19,#T_cc1f7_row4_col23,#T_cc1f7_row4_col29,#T_cc1f7_row6_col11,#T_cc1f7_row7_col11,#T_cc1f7_row10_col11,#T_cc1f7_row14_col2,#T_cc1f7_row14_col4,#T_cc1f7_row14_col13,#T_cc1f7_row14_col15,#T_cc1f7_row14_col16,#T_cc1f7_row14_col18,#T_cc1f7_row14_col19,#T_cc1f7_row14_col23,#T_cc1f7_row14_col29,#T_cc1f7_row18_col3,#T_cc1f7_row18_col7,#T_cc1f7_row18_col8,#T_cc1f7_row18_col25{\n",
       "            background-color:  #fef6fa;\n",
       "            color:  #000000;\n",
       "        }#T_cc1f7_row0_col16,#T_cc1f7_row1_col11,#T_cc1f7_row1_col28,#T_cc1f7_row2_col29,#T_cc1f7_row3_col13,#T_cc1f7_row4_col3,#T_cc1f7_row5_col2,#T_cc1f7_row6_col6,#T_cc1f7_row7_col19,#T_cc1f7_row8_col23,#T_cc1f7_row9_col18,#T_cc1f7_row11_col4,#T_cc1f7_row12_col7,#T_cc1f7_row13_col8,#T_cc1f7_row15_col15,#T_cc1f7_row16_col0,#T_cc1f7_row16_col5,#T_cc1f7_row16_col9,#T_cc1f7_row16_col10,#T_cc1f7_row16_col12,#T_cc1f7_row16_col14,#T_cc1f7_row16_col17,#T_cc1f7_row16_col20,#T_cc1f7_row16_col21,#T_cc1f7_row16_col22,#T_cc1f7_row16_col24,#T_cc1f7_row16_col26,#T_cc1f7_row16_col27,#T_cc1f7_row17_col25,#T_cc1f7_row18_col1,#T_cc1f7_row19_col0,#T_cc1f7_row19_col5,#T_cc1f7_row19_col9,#T_cc1f7_row19_col10,#T_cc1f7_row19_col12,#T_cc1f7_row19_col14,#T_cc1f7_row19_col17,#T_cc1f7_row19_col20,#T_cc1f7_row19_col21,#T_cc1f7_row19_col22,#T_cc1f7_row19_col24,#T_cc1f7_row19_col26,#T_cc1f7_row19_col27{\n",
       "            background-color:  #023858;\n",
       "            color:  #f1f1f1;\n",
       "        }#T_cc1f7_row1_col0,#T_cc1f7_row1_col5,#T_cc1f7_row1_col9,#T_cc1f7_row1_col10,#T_cc1f7_row1_col12,#T_cc1f7_row1_col14,#T_cc1f7_row1_col17,#T_cc1f7_row1_col20,#T_cc1f7_row1_col21,#T_cc1f7_row1_col22,#T_cc1f7_row1_col24,#T_cc1f7_row1_col26,#T_cc1f7_row1_col27,#T_cc1f7_row4_col11,#T_cc1f7_row14_col11{\n",
       "            background-color:  #f5eef6;\n",
       "            color:  #000000;\n",
       "        }#T_cc1f7_row2_col0,#T_cc1f7_row2_col5,#T_cc1f7_row2_col9,#T_cc1f7_row2_col10,#T_cc1f7_row2_col12,#T_cc1f7_row2_col14,#T_cc1f7_row2_col17,#T_cc1f7_row2_col20,#T_cc1f7_row2_col21,#T_cc1f7_row2_col22,#T_cc1f7_row2_col24,#T_cc1f7_row2_col26,#T_cc1f7_row2_col27,#T_cc1f7_row4_col6,#T_cc1f7_row13_col25,#T_cc1f7_row14_col6,#T_cc1f7_row15_col0,#T_cc1f7_row15_col5,#T_cc1f7_row15_col9,#T_cc1f7_row15_col10,#T_cc1f7_row15_col12,#T_cc1f7_row15_col14,#T_cc1f7_row15_col17,#T_cc1f7_row15_col20,#T_cc1f7_row15_col21,#T_cc1f7_row15_col22,#T_cc1f7_row15_col24,#T_cc1f7_row15_col26,#T_cc1f7_row15_col27,#T_cc1f7_row17_col8{\n",
       "            background-color:  #fbf3f9;\n",
       "            color:  #000000;\n",
       "        }#T_cc1f7_row4_col0,#T_cc1f7_row4_col5,#T_cc1f7_row4_col9,#T_cc1f7_row4_col10,#T_cc1f7_row4_col12,#T_cc1f7_row4_col14,#T_cc1f7_row4_col17,#T_cc1f7_row4_col20,#T_cc1f7_row4_col21,#T_cc1f7_row4_col22,#T_cc1f7_row4_col24,#T_cc1f7_row4_col26,#T_cc1f7_row4_col27,#T_cc1f7_row14_col0,#T_cc1f7_row14_col5,#T_cc1f7_row14_col9,#T_cc1f7_row14_col10,#T_cc1f7_row14_col12,#T_cc1f7_row14_col14,#T_cc1f7_row14_col17,#T_cc1f7_row14_col20,#T_cc1f7_row14_col21,#T_cc1f7_row14_col22,#T_cc1f7_row14_col24,#T_cc1f7_row14_col26,#T_cc1f7_row14_col27{\n",
       "            background-color:  #b9c6e0;\n",
       "            color:  #000000;\n",
       "        }#T_cc1f7_row4_col1,#T_cc1f7_row4_col7,#T_cc1f7_row4_col28,#T_cc1f7_row9_col0,#T_cc1f7_row9_col5,#T_cc1f7_row9_col9,#T_cc1f7_row9_col10,#T_cc1f7_row9_col12,#T_cc1f7_row9_col14,#T_cc1f7_row9_col17,#T_cc1f7_row9_col20,#T_cc1f7_row9_col21,#T_cc1f7_row9_col22,#T_cc1f7_row9_col24,#T_cc1f7_row9_col26,#T_cc1f7_row9_col27,#T_cc1f7_row12_col11,#T_cc1f7_row13_col2,#T_cc1f7_row13_col4,#T_cc1f7_row13_col13,#T_cc1f7_row13_col15,#T_cc1f7_row13_col16,#T_cc1f7_row13_col18,#T_cc1f7_row13_col19,#T_cc1f7_row13_col23,#T_cc1f7_row13_col29,#T_cc1f7_row14_col1,#T_cc1f7_row14_col3,#T_cc1f7_row14_col28,#T_cc1f7_row17_col2,#T_cc1f7_row17_col4,#T_cc1f7_row17_col13,#T_cc1f7_row17_col15,#T_cc1f7_row17_col16,#T_cc1f7_row17_col18,#T_cc1f7_row17_col19,#T_cc1f7_row17_col23,#T_cc1f7_row17_col29,#T_cc1f7_row18_col6{\n",
       "            background-color:  #fdf5fa;\n",
       "            color:  #000000;\n",
       "        }#T_cc1f7_row4_col8,#T_cc1f7_row4_col25,#T_cc1f7_row13_col1,#T_cc1f7_row13_col7,#T_cc1f7_row13_col28,#T_cc1f7_row14_col8,#T_cc1f7_row14_col25,#T_cc1f7_row17_col1,#T_cc1f7_row17_col7,#T_cc1f7_row17_col28{\n",
       "            background-color:  #fcf4fa;\n",
       "            color:  #000000;\n",
       "        }#T_cc1f7_row5_col0,#T_cc1f7_row5_col5,#T_cc1f7_row5_col9,#T_cc1f7_row5_col10,#T_cc1f7_row5_col12,#T_cc1f7_row5_col14,#T_cc1f7_row5_col17,#T_cc1f7_row5_col20,#T_cc1f7_row5_col21,#T_cc1f7_row5_col22,#T_cc1f7_row5_col24,#T_cc1f7_row5_col26,#T_cc1f7_row5_col27,#T_cc1f7_row16_col2,#T_cc1f7_row16_col4,#T_cc1f7_row16_col13,#T_cc1f7_row16_col15,#T_cc1f7_row16_col16,#T_cc1f7_row16_col18,#T_cc1f7_row16_col19,#T_cc1f7_row16_col23,#T_cc1f7_row16_col29,#T_cc1f7_row19_col2,#T_cc1f7_row19_col4,#T_cc1f7_row19_col13,#T_cc1f7_row19_col15,#T_cc1f7_row19_col16,#T_cc1f7_row19_col18,#T_cc1f7_row19_col19,#T_cc1f7_row19_col23,#T_cc1f7_row19_col29{\n",
       "            background-color:  #faf3f9;\n",
       "            color:  #000000;\n",
       "        }#T_cc1f7_row6_col23{\n",
       "            background-color:  #3d93c2;\n",
       "            color:  #000000;\n",
       "        }#T_cc1f7_row10_col0,#T_cc1f7_row10_col5,#T_cc1f7_row10_col9,#T_cc1f7_row10_col10,#T_cc1f7_row10_col12,#T_cc1f7_row10_col14,#T_cc1f7_row10_col17,#T_cc1f7_row10_col20,#T_cc1f7_row10_col21,#T_cc1f7_row10_col22,#T_cc1f7_row10_col24,#T_cc1f7_row10_col26,#T_cc1f7_row10_col27{\n",
       "            background-color:  #faf2f8;\n",
       "            color:  #000000;\n",
       "        }#T_cc1f7_row10_col29{\n",
       "            background-color:  #02395a;\n",
       "            color:  #f1f1f1;\n",
       "        }#T_cc1f7_row12_col0,#T_cc1f7_row12_col5,#T_cc1f7_row12_col9,#T_cc1f7_row12_col10,#T_cc1f7_row12_col12,#T_cc1f7_row12_col14,#T_cc1f7_row12_col17,#T_cc1f7_row12_col20,#T_cc1f7_row12_col21,#T_cc1f7_row12_col22,#T_cc1f7_row12_col24,#T_cc1f7_row12_col26,#T_cc1f7_row12_col27{\n",
       "            background-color:  #f7f0f7;\n",
       "            color:  #000000;\n",
       "        }#T_cc1f7_row12_col1{\n",
       "            background-color:  #cacee5;\n",
       "            color:  #000000;\n",
       "        }#T_cc1f7_row13_col0,#T_cc1f7_row13_col5,#T_cc1f7_row13_col9,#T_cc1f7_row13_col10,#T_cc1f7_row13_col12,#T_cc1f7_row13_col14,#T_cc1f7_row13_col17,#T_cc1f7_row13_col20,#T_cc1f7_row13_col21,#T_cc1f7_row13_col22,#T_cc1f7_row13_col24,#T_cc1f7_row13_col26,#T_cc1f7_row13_col27,#T_cc1f7_row17_col0,#T_cc1f7_row17_col5,#T_cc1f7_row17_col9,#T_cc1f7_row17_col10,#T_cc1f7_row17_col12,#T_cc1f7_row17_col14,#T_cc1f7_row17_col17,#T_cc1f7_row17_col20,#T_cc1f7_row17_col21,#T_cc1f7_row17_col22,#T_cc1f7_row17_col24,#T_cc1f7_row17_col26,#T_cc1f7_row17_col27{\n",
       "            background-color:  #78abd0;\n",
       "            color:  #000000;\n",
       "        }#T_cc1f7_row13_col3,#T_cc1f7_row17_col3{\n",
       "            background-color:  #fbf4f9;\n",
       "            color:  #000000;\n",
       "        }#T_cc1f7_row13_col11,#T_cc1f7_row17_col11{\n",
       "            background-color:  #efe9f3;\n",
       "            color:  #000000;\n",
       "        }#T_cc1f7_row14_col7{\n",
       "            background-color:  #03456c;\n",
       "            color:  #f1f1f1;\n",
       "        }#T_cc1f7_row16_col1,#T_cc1f7_row16_col28,#T_cc1f7_row18_col11,#T_cc1f7_row19_col1,#T_cc1f7_row19_col28{\n",
       "            background-color:  #f9f2f8;\n",
       "            color:  #000000;\n",
       "        }#T_cc1f7_row16_col6,#T_cc1f7_row19_col6{\n",
       "            background-color:  #f1ebf4;\n",
       "            color:  #000000;\n",
       "        }#T_cc1f7_row16_col8,#T_cc1f7_row16_col25,#T_cc1f7_row19_col8,#T_cc1f7_row19_col25{\n",
       "            background-color:  #f5eff6;\n",
       "            color:  #000000;\n",
       "        }#T_cc1f7_row16_col11,#T_cc1f7_row19_col11{\n",
       "            background-color:  #d7d6e9;\n",
       "            color:  #000000;\n",
       "        }#T_cc1f7_row18_col0,#T_cc1f7_row18_col5,#T_cc1f7_row18_col9,#T_cc1f7_row18_col10,#T_cc1f7_row18_col12,#T_cc1f7_row18_col14,#T_cc1f7_row18_col17,#T_cc1f7_row18_col20,#T_cc1f7_row18_col21,#T_cc1f7_row18_col22,#T_cc1f7_row18_col24,#T_cc1f7_row18_col26,#T_cc1f7_row18_col27{\n",
       "            background-color:  #e0dded;\n",
       "            color:  #000000;\n",
       "        }</style><table id=\"T_cc1f7_\" ><thead>    <tr>        <th class=\"blank\" ></th>        <th class=\"blank\" ></th>        <th class=\"index_name level0\" >topic_id</th>        <th class=\"col_heading level0 col0\" >0</th>        <th class=\"col_heading level0 col1\" >1</th>        <th class=\"col_heading level0 col2\" >2</th>        <th class=\"col_heading level0 col3\" >3</th>        <th class=\"col_heading level0 col4\" >4</th>        <th class=\"col_heading level0 col5\" >5</th>        <th class=\"col_heading level0 col6\" >6</th>        <th class=\"col_heading level0 col7\" >7</th>        <th class=\"col_heading level0 col8\" >8</th>        <th class=\"col_heading level0 col9\" >9</th>        <th class=\"col_heading level0 col10\" >10</th>        <th class=\"col_heading level0 col11\" >11</th>        <th class=\"col_heading level0 col12\" >12</th>        <th class=\"col_heading level0 col13\" >13</th>        <th class=\"col_heading level0 col14\" >14</th>        <th class=\"col_heading level0 col15\" >15</th>        <th class=\"col_heading level0 col16\" >16</th>        <th class=\"col_heading level0 col17\" >17</th>        <th class=\"col_heading level0 col18\" >18</th>        <th class=\"col_heading level0 col19\" >19</th>        <th class=\"col_heading level0 col20\" >20</th>        <th class=\"col_heading level0 col21\" >21</th>        <th class=\"col_heading level0 col22\" >22</th>        <th class=\"col_heading level0 col23\" >23</th>        <th class=\"col_heading level0 col24\" >24</th>        <th class=\"col_heading level0 col25\" >25</th>        <th class=\"col_heading level0 col26\" >26</th>        <th class=\"col_heading level0 col27\" >27</th>        <th class=\"col_heading level0 col28\" >28</th>        <th class=\"col_heading level0 col29\" >29</th>    </tr>    <tr>        <th class=\"index_name level0\" >book_id</th>        <th class=\"index_name level1\" >chap_num</th>        <th class=\"index_name level2\" >para_num</th>        <th class=\"blank\" ></th>        <th class=\"blank\" ></th>        <th class=\"blank\" ></th>        <th class=\"blank\" ></th>        <th class=\"blank\" ></th>        <th class=\"blank\" ></th>        <th class=\"blank\" ></th>        <th class=\"blank\" ></th>        <th class=\"blank\" ></th>        <th class=\"blank\" ></th>        <th class=\"blank\" ></th>        <th class=\"blank\" ></th>        <th class=\"blank\" ></th>        <th class=\"blank\" ></th>        <th class=\"blank\" ></th>        <th class=\"blank\" ></th>        <th class=\"blank\" ></th>        <th class=\"blank\" ></th>        <th class=\"blank\" ></th>        <th class=\"blank\" ></th>        <th class=\"blank\" ></th>        <th class=\"blank\" ></th>        <th class=\"blank\" ></th>        <th class=\"blank\" ></th>        <th class=\"blank\" ></th>        <th class=\"blank\" ></th>        <th class=\"blank\" ></th>        <th class=\"blank\" ></th>        <th class=\"blank\" ></th>        <th class=\"blank\" ></th>    </tr></thead><tbody>\n",
       "                <tr>\n",
       "                        <th id=\"T_cc1f7_level0_row0\" class=\"row_heading level0 row0\" rowspan=\"2\">141</th>\n",
       "                        <th id=\"T_cc1f7_level1_row0\" class=\"row_heading level1 row0\" >77</th>\n",
       "                        <th id=\"T_cc1f7_level2_row0\" class=\"row_heading level2 row0\" >9</th>\n",
       "                        <td id=\"T_cc1f7_row0_col0\" class=\"data row0 col0\" >0.002222</td>\n",
       "                        <td id=\"T_cc1f7_row0_col1\" class=\"data row0 col1\" >0.002222</td>\n",
       "                        <td id=\"T_cc1f7_row0_col2\" class=\"data row0 col2\" >0.002222</td>\n",
       "                        <td id=\"T_cc1f7_row0_col3\" class=\"data row0 col3\" >0.002222</td>\n",
       "                        <td id=\"T_cc1f7_row0_col4\" class=\"data row0 col4\" >0.002222</td>\n",
       "                        <td id=\"T_cc1f7_row0_col5\" class=\"data row0 col5\" >0.002222</td>\n",
       "                        <td id=\"T_cc1f7_row0_col6\" class=\"data row0 col6\" >0.002222</td>\n",
       "                        <td id=\"T_cc1f7_row0_col7\" class=\"data row0 col7\" >0.002222</td>\n",
       "                        <td id=\"T_cc1f7_row0_col8\" class=\"data row0 col8\" >0.002222</td>\n",
       "                        <td id=\"T_cc1f7_row0_col9\" class=\"data row0 col9\" >0.002222</td>\n",
       "                        <td id=\"T_cc1f7_row0_col10\" class=\"data row0 col10\" >0.002222</td>\n",
       "                        <td id=\"T_cc1f7_row0_col11\" class=\"data row0 col11\" >0.002222</td>\n",
       "                        <td id=\"T_cc1f7_row0_col12\" class=\"data row0 col12\" >0.002222</td>\n",
       "                        <td id=\"T_cc1f7_row0_col13\" class=\"data row0 col13\" >0.002222</td>\n",
       "                        <td id=\"T_cc1f7_row0_col14\" class=\"data row0 col14\" >0.002222</td>\n",
       "                        <td id=\"T_cc1f7_row0_col15\" class=\"data row0 col15\" >0.002222</td>\n",
       "                        <td id=\"T_cc1f7_row0_col16\" class=\"data row0 col16\" >0.935556</td>\n",
       "                        <td id=\"T_cc1f7_row0_col17\" class=\"data row0 col17\" >0.002222</td>\n",
       "                        <td id=\"T_cc1f7_row0_col18\" class=\"data row0 col18\" >0.002222</td>\n",
       "                        <td id=\"T_cc1f7_row0_col19\" class=\"data row0 col19\" >0.002222</td>\n",
       "                        <td id=\"T_cc1f7_row0_col20\" class=\"data row0 col20\" >0.002222</td>\n",
       "                        <td id=\"T_cc1f7_row0_col21\" class=\"data row0 col21\" >0.002222</td>\n",
       "                        <td id=\"T_cc1f7_row0_col22\" class=\"data row0 col22\" >0.002222</td>\n",
       "                        <td id=\"T_cc1f7_row0_col23\" class=\"data row0 col23\" >0.002222</td>\n",
       "                        <td id=\"T_cc1f7_row0_col24\" class=\"data row0 col24\" >0.002222</td>\n",
       "                        <td id=\"T_cc1f7_row0_col25\" class=\"data row0 col25\" >0.002222</td>\n",
       "                        <td id=\"T_cc1f7_row0_col26\" class=\"data row0 col26\" >0.002222</td>\n",
       "                        <td id=\"T_cc1f7_row0_col27\" class=\"data row0 col27\" >0.002222</td>\n",
       "                        <td id=\"T_cc1f7_row0_col28\" class=\"data row0 col28\" >0.002222</td>\n",
       "                        <td id=\"T_cc1f7_row0_col29\" class=\"data row0 col29\" >0.002222</td>\n",
       "            </tr>\n",
       "            <tr>\n",
       "                                <th id=\"T_cc1f7_level1_row1\" class=\"row_heading level1 row1\" >73</th>\n",
       "                        <th id=\"T_cc1f7_level2_row1\" class=\"row_heading level2 row1\" >30</th>\n",
       "                        <td id=\"T_cc1f7_row1_col0\" class=\"data row1 col0\" >0.003030</td>\n",
       "                        <td id=\"T_cc1f7_row1_col1\" class=\"data row1 col1\" >0.003030</td>\n",
       "                        <td id=\"T_cc1f7_row1_col2\" class=\"data row1 col2\" >0.003030</td>\n",
       "                        <td id=\"T_cc1f7_row1_col3\" class=\"data row1 col3\" >0.003030</td>\n",
       "                        <td id=\"T_cc1f7_row1_col4\" class=\"data row1 col4\" >0.003030</td>\n",
       "                        <td id=\"T_cc1f7_row1_col5\" class=\"data row1 col5\" >0.003030</td>\n",
       "                        <td id=\"T_cc1f7_row1_col6\" class=\"data row1 col6\" >0.003030</td>\n",
       "                        <td id=\"T_cc1f7_row1_col7\" class=\"data row1 col7\" >0.003030</td>\n",
       "                        <td id=\"T_cc1f7_row1_col8\" class=\"data row1 col8\" >0.003030</td>\n",
       "                        <td id=\"T_cc1f7_row1_col9\" class=\"data row1 col9\" >0.003030</td>\n",
       "                        <td id=\"T_cc1f7_row1_col10\" class=\"data row1 col10\" >0.003030</td>\n",
       "                        <td id=\"T_cc1f7_row1_col11\" class=\"data row1 col11\" >0.149511</td>\n",
       "                        <td id=\"T_cc1f7_row1_col12\" class=\"data row1 col12\" >0.003030</td>\n",
       "                        <td id=\"T_cc1f7_row1_col13\" class=\"data row1 col13\" >0.003030</td>\n",
       "                        <td id=\"T_cc1f7_row1_col14\" class=\"data row1 col14\" >0.003030</td>\n",
       "                        <td id=\"T_cc1f7_row1_col15\" class=\"data row1 col15\" >0.003030</td>\n",
       "                        <td id=\"T_cc1f7_row1_col16\" class=\"data row1 col16\" >0.003030</td>\n",
       "                        <td id=\"T_cc1f7_row1_col17\" class=\"data row1 col17\" >0.003030</td>\n",
       "                        <td id=\"T_cc1f7_row1_col18\" class=\"data row1 col18\" >0.003030</td>\n",
       "                        <td id=\"T_cc1f7_row1_col19\" class=\"data row1 col19\" >0.003030</td>\n",
       "                        <td id=\"T_cc1f7_row1_col20\" class=\"data row1 col20\" >0.003030</td>\n",
       "                        <td id=\"T_cc1f7_row1_col21\" class=\"data row1 col21\" >0.003030</td>\n",
       "                        <td id=\"T_cc1f7_row1_col22\" class=\"data row1 col22\" >0.003030</td>\n",
       "                        <td id=\"T_cc1f7_row1_col23\" class=\"data row1 col23\" >0.003030</td>\n",
       "                        <td id=\"T_cc1f7_row1_col24\" class=\"data row1 col24\" >0.003030</td>\n",
       "                        <td id=\"T_cc1f7_row1_col25\" class=\"data row1 col25\" >0.003030</td>\n",
       "                        <td id=\"T_cc1f7_row1_col26\" class=\"data row1 col26\" >0.003030</td>\n",
       "                        <td id=\"T_cc1f7_row1_col27\" class=\"data row1 col27\" >0.003030</td>\n",
       "                        <td id=\"T_cc1f7_row1_col28\" class=\"data row1 col28\" >0.765640</td>\n",
       "                        <td id=\"T_cc1f7_row1_col29\" class=\"data row1 col29\" >0.003030</td>\n",
       "            </tr>\n",
       "            <tr>\n",
       "                        <th id=\"T_cc1f7_level0_row2\" class=\"row_heading level0 row2\" >42671</th>\n",
       "                        <th id=\"T_cc1f7_level1_row2\" class=\"row_heading level1 row2\" >53</th>\n",
       "                        <th id=\"T_cc1f7_level2_row2\" class=\"row_heading level2 row2\" >13</th>\n",
       "                        <td id=\"T_cc1f7_row2_col0\" class=\"data row2 col0\" >0.001754</td>\n",
       "                        <td id=\"T_cc1f7_row2_col1\" class=\"data row2 col1\" >0.001754</td>\n",
       "                        <td id=\"T_cc1f7_row2_col2\" class=\"data row2 col2\" >0.001754</td>\n",
       "                        <td id=\"T_cc1f7_row2_col3\" class=\"data row2 col3\" >0.001754</td>\n",
       "                        <td id=\"T_cc1f7_row2_col4\" class=\"data row2 col4\" >0.001754</td>\n",
       "                        <td id=\"T_cc1f7_row2_col5\" class=\"data row2 col5\" >0.001754</td>\n",
       "                        <td id=\"T_cc1f7_row2_col6\" class=\"data row2 col6\" >0.001754</td>\n",
       "                        <td id=\"T_cc1f7_row2_col7\" class=\"data row2 col7\" >0.001754</td>\n",
       "                        <td id=\"T_cc1f7_row2_col8\" class=\"data row2 col8\" >0.001754</td>\n",
       "                        <td id=\"T_cc1f7_row2_col9\" class=\"data row2 col9\" >0.001754</td>\n",
       "                        <td id=\"T_cc1f7_row2_col10\" class=\"data row2 col10\" >0.001754</td>\n",
       "                        <td id=\"T_cc1f7_row2_col11\" class=\"data row2 col11\" >0.001754</td>\n",
       "                        <td id=\"T_cc1f7_row2_col12\" class=\"data row2 col12\" >0.001754</td>\n",
       "                        <td id=\"T_cc1f7_row2_col13\" class=\"data row2 col13\" >0.001754</td>\n",
       "                        <td id=\"T_cc1f7_row2_col14\" class=\"data row2 col14\" >0.001754</td>\n",
       "                        <td id=\"T_cc1f7_row2_col15\" class=\"data row2 col15\" >0.001754</td>\n",
       "                        <td id=\"T_cc1f7_row2_col16\" class=\"data row2 col16\" >0.001754</td>\n",
       "                        <td id=\"T_cc1f7_row2_col17\" class=\"data row2 col17\" >0.001754</td>\n",
       "                        <td id=\"T_cc1f7_row2_col18\" class=\"data row2 col18\" >0.001754</td>\n",
       "                        <td id=\"T_cc1f7_row2_col19\" class=\"data row2 col19\" >0.001754</td>\n",
       "                        <td id=\"T_cc1f7_row2_col20\" class=\"data row2 col20\" >0.001754</td>\n",
       "                        <td id=\"T_cc1f7_row2_col21\" class=\"data row2 col21\" >0.001754</td>\n",
       "                        <td id=\"T_cc1f7_row2_col22\" class=\"data row2 col22\" >0.001754</td>\n",
       "                        <td id=\"T_cc1f7_row2_col23\" class=\"data row2 col23\" >0.001754</td>\n",
       "                        <td id=\"T_cc1f7_row2_col24\" class=\"data row2 col24\" >0.001754</td>\n",
       "                        <td id=\"T_cc1f7_row2_col25\" class=\"data row2 col25\" >0.001754</td>\n",
       "                        <td id=\"T_cc1f7_row2_col26\" class=\"data row2 col26\" >0.001754</td>\n",
       "                        <td id=\"T_cc1f7_row2_col27\" class=\"data row2 col27\" >0.001754</td>\n",
       "                        <td id=\"T_cc1f7_row2_col28\" class=\"data row2 col28\" >0.001754</td>\n",
       "                        <td id=\"T_cc1f7_row2_col29\" class=\"data row2 col29\" >0.949123</td>\n",
       "            </tr>\n",
       "            <tr>\n",
       "                        <th id=\"T_cc1f7_level0_row3\" class=\"row_heading level0 row3\" >141</th>\n",
       "                        <th id=\"T_cc1f7_level1_row3\" class=\"row_heading level1 row3\" >69</th>\n",
       "                        <th id=\"T_cc1f7_level2_row3\" class=\"row_heading level2 row3\" >23</th>\n",
       "                        <td id=\"T_cc1f7_row3_col0\" class=\"data row3 col0\" >0.000901</td>\n",
       "                        <td id=\"T_cc1f7_row3_col1\" class=\"data row3 col1\" >0.000901</td>\n",
       "                        <td id=\"T_cc1f7_row3_col2\" class=\"data row3 col2\" >0.000901</td>\n",
       "                        <td id=\"T_cc1f7_row3_col3\" class=\"data row3 col3\" >0.000901</td>\n",
       "                        <td id=\"T_cc1f7_row3_col4\" class=\"data row3 col4\" >0.000901</td>\n",
       "                        <td id=\"T_cc1f7_row3_col5\" class=\"data row3 col5\" >0.000901</td>\n",
       "                        <td id=\"T_cc1f7_row3_col6\" class=\"data row3 col6\" >0.000901</td>\n",
       "                        <td id=\"T_cc1f7_row3_col7\" class=\"data row3 col7\" >0.000901</td>\n",
       "                        <td id=\"T_cc1f7_row3_col8\" class=\"data row3 col8\" >0.000901</td>\n",
       "                        <td id=\"T_cc1f7_row3_col9\" class=\"data row3 col9\" >0.000901</td>\n",
       "                        <td id=\"T_cc1f7_row3_col10\" class=\"data row3 col10\" >0.000901</td>\n",
       "                        <td id=\"T_cc1f7_row3_col11\" class=\"data row3 col11\" >0.000901</td>\n",
       "                        <td id=\"T_cc1f7_row3_col12\" class=\"data row3 col12\" >0.000901</td>\n",
       "                        <td id=\"T_cc1f7_row3_col13\" class=\"data row3 col13\" >0.973874</td>\n",
       "                        <td id=\"T_cc1f7_row3_col14\" class=\"data row3 col14\" >0.000901</td>\n",
       "                        <td id=\"T_cc1f7_row3_col15\" class=\"data row3 col15\" >0.000901</td>\n",
       "                        <td id=\"T_cc1f7_row3_col16\" class=\"data row3 col16\" >0.000901</td>\n",
       "                        <td id=\"T_cc1f7_row3_col17\" class=\"data row3 col17\" >0.000901</td>\n",
       "                        <td id=\"T_cc1f7_row3_col18\" class=\"data row3 col18\" >0.000901</td>\n",
       "                        <td id=\"T_cc1f7_row3_col19\" class=\"data row3 col19\" >0.000901</td>\n",
       "                        <td id=\"T_cc1f7_row3_col20\" class=\"data row3 col20\" >0.000901</td>\n",
       "                        <td id=\"T_cc1f7_row3_col21\" class=\"data row3 col21\" >0.000901</td>\n",
       "                        <td id=\"T_cc1f7_row3_col22\" class=\"data row3 col22\" >0.000901</td>\n",
       "                        <td id=\"T_cc1f7_row3_col23\" class=\"data row3 col23\" >0.000901</td>\n",
       "                        <td id=\"T_cc1f7_row3_col24\" class=\"data row3 col24\" >0.000901</td>\n",
       "                        <td id=\"T_cc1f7_row3_col25\" class=\"data row3 col25\" >0.000901</td>\n",
       "                        <td id=\"T_cc1f7_row3_col26\" class=\"data row3 col26\" >0.000901</td>\n",
       "                        <td id=\"T_cc1f7_row3_col27\" class=\"data row3 col27\" >0.000901</td>\n",
       "                        <td id=\"T_cc1f7_row3_col28\" class=\"data row3 col28\" >0.000901</td>\n",
       "                        <td id=\"T_cc1f7_row3_col29\" class=\"data row3 col29\" >0.000901</td>\n",
       "            </tr>\n",
       "            <tr>\n",
       "                        <th id=\"T_cc1f7_level0_row4\" class=\"row_heading level0 row4\" >42671</th>\n",
       "                        <th id=\"T_cc1f7_level1_row4\" class=\"row_heading level1 row4\" >60</th>\n",
       "                        <th id=\"T_cc1f7_level2_row4\" class=\"row_heading level2 row4\" >4</th>\n",
       "                        <td id=\"T_cc1f7_row4_col0\" class=\"data row4 col0\" >0.011111</td>\n",
       "                        <td id=\"T_cc1f7_row4_col1\" class=\"data row4 col1\" >0.011111</td>\n",
       "                        <td id=\"T_cc1f7_row4_col2\" class=\"data row4 col2\" >0.011111</td>\n",
       "                        <td id=\"T_cc1f7_row4_col3\" class=\"data row4 col3\" >0.677778</td>\n",
       "                        <td id=\"T_cc1f7_row4_col4\" class=\"data row4 col4\" >0.011111</td>\n",
       "                        <td id=\"T_cc1f7_row4_col5\" class=\"data row4 col5\" >0.011111</td>\n",
       "                        <td id=\"T_cc1f7_row4_col6\" class=\"data row4 col6\" >0.011111</td>\n",
       "                        <td id=\"T_cc1f7_row4_col7\" class=\"data row4 col7\" >0.011111</td>\n",
       "                        <td id=\"T_cc1f7_row4_col8\" class=\"data row4 col8\" >0.011111</td>\n",
       "                        <td id=\"T_cc1f7_row4_col9\" class=\"data row4 col9\" >0.011111</td>\n",
       "                        <td id=\"T_cc1f7_row4_col10\" class=\"data row4 col10\" >0.011111</td>\n",
       "                        <td id=\"T_cc1f7_row4_col11\" class=\"data row4 col11\" >0.011111</td>\n",
       "                        <td id=\"T_cc1f7_row4_col12\" class=\"data row4 col12\" >0.011111</td>\n",
       "                        <td id=\"T_cc1f7_row4_col13\" class=\"data row4 col13\" >0.011111</td>\n",
       "                        <td id=\"T_cc1f7_row4_col14\" class=\"data row4 col14\" >0.011111</td>\n",
       "                        <td id=\"T_cc1f7_row4_col15\" class=\"data row4 col15\" >0.011111</td>\n",
       "                        <td id=\"T_cc1f7_row4_col16\" class=\"data row4 col16\" >0.011111</td>\n",
       "                        <td id=\"T_cc1f7_row4_col17\" class=\"data row4 col17\" >0.011111</td>\n",
       "                        <td id=\"T_cc1f7_row4_col18\" class=\"data row4 col18\" >0.011111</td>\n",
       "                        <td id=\"T_cc1f7_row4_col19\" class=\"data row4 col19\" >0.011111</td>\n",
       "                        <td id=\"T_cc1f7_row4_col20\" class=\"data row4 col20\" >0.011111</td>\n",
       "                        <td id=\"T_cc1f7_row4_col21\" class=\"data row4 col21\" >0.011111</td>\n",
       "                        <td id=\"T_cc1f7_row4_col22\" class=\"data row4 col22\" >0.011111</td>\n",
       "                        <td id=\"T_cc1f7_row4_col23\" class=\"data row4 col23\" >0.011111</td>\n",
       "                        <td id=\"T_cc1f7_row4_col24\" class=\"data row4 col24\" >0.011111</td>\n",
       "                        <td id=\"T_cc1f7_row4_col25\" class=\"data row4 col25\" >0.011111</td>\n",
       "                        <td id=\"T_cc1f7_row4_col26\" class=\"data row4 col26\" >0.011111</td>\n",
       "                        <td id=\"T_cc1f7_row4_col27\" class=\"data row4 col27\" >0.011111</td>\n",
       "                        <td id=\"T_cc1f7_row4_col28\" class=\"data row4 col28\" >0.011111</td>\n",
       "                        <td id=\"T_cc1f7_row4_col29\" class=\"data row4 col29\" >0.011111</td>\n",
       "            </tr>\n",
       "            <tr>\n",
       "                        <th id=\"T_cc1f7_level0_row5\" class=\"row_heading level0 row5\" >141</th>\n",
       "                        <th id=\"T_cc1f7_level1_row5\" class=\"row_heading level1 row5\" >83</th>\n",
       "                        <th id=\"T_cc1f7_level2_row5\" class=\"row_heading level2 row5\" >25</th>\n",
       "                        <td id=\"T_cc1f7_row5_col0\" class=\"data row5 col0\" >0.001852</td>\n",
       "                        <td id=\"T_cc1f7_row5_col1\" class=\"data row5 col1\" >0.001852</td>\n",
       "                        <td id=\"T_cc1f7_row5_col2\" class=\"data row5 col2\" >0.946296</td>\n",
       "                        <td id=\"T_cc1f7_row5_col3\" class=\"data row5 col3\" >0.001852</td>\n",
       "                        <td id=\"T_cc1f7_row5_col4\" class=\"data row5 col4\" >0.001852</td>\n",
       "                        <td id=\"T_cc1f7_row5_col5\" class=\"data row5 col5\" >0.001852</td>\n",
       "                        <td id=\"T_cc1f7_row5_col6\" class=\"data row5 col6\" >0.001852</td>\n",
       "                        <td id=\"T_cc1f7_row5_col7\" class=\"data row5 col7\" >0.001852</td>\n",
       "                        <td id=\"T_cc1f7_row5_col8\" class=\"data row5 col8\" >0.001852</td>\n",
       "                        <td id=\"T_cc1f7_row5_col9\" class=\"data row5 col9\" >0.001852</td>\n",
       "                        <td id=\"T_cc1f7_row5_col10\" class=\"data row5 col10\" >0.001852</td>\n",
       "                        <td id=\"T_cc1f7_row5_col11\" class=\"data row5 col11\" >0.001852</td>\n",
       "                        <td id=\"T_cc1f7_row5_col12\" class=\"data row5 col12\" >0.001852</td>\n",
       "                        <td id=\"T_cc1f7_row5_col13\" class=\"data row5 col13\" >0.001852</td>\n",
       "                        <td id=\"T_cc1f7_row5_col14\" class=\"data row5 col14\" >0.001852</td>\n",
       "                        <td id=\"T_cc1f7_row5_col15\" class=\"data row5 col15\" >0.001852</td>\n",
       "                        <td id=\"T_cc1f7_row5_col16\" class=\"data row5 col16\" >0.001852</td>\n",
       "                        <td id=\"T_cc1f7_row5_col17\" class=\"data row5 col17\" >0.001852</td>\n",
       "                        <td id=\"T_cc1f7_row5_col18\" class=\"data row5 col18\" >0.001852</td>\n",
       "                        <td id=\"T_cc1f7_row5_col19\" class=\"data row5 col19\" >0.001852</td>\n",
       "                        <td id=\"T_cc1f7_row5_col20\" class=\"data row5 col20\" >0.001852</td>\n",
       "                        <td id=\"T_cc1f7_row5_col21\" class=\"data row5 col21\" >0.001852</td>\n",
       "                        <td id=\"T_cc1f7_row5_col22\" class=\"data row5 col22\" >0.001852</td>\n",
       "                        <td id=\"T_cc1f7_row5_col23\" class=\"data row5 col23\" >0.001852</td>\n",
       "                        <td id=\"T_cc1f7_row5_col24\" class=\"data row5 col24\" >0.001852</td>\n",
       "                        <td id=\"T_cc1f7_row5_col25\" class=\"data row5 col25\" >0.001852</td>\n",
       "                        <td id=\"T_cc1f7_row5_col26\" class=\"data row5 col26\" >0.001852</td>\n",
       "                        <td id=\"T_cc1f7_row5_col27\" class=\"data row5 col27\" >0.001852</td>\n",
       "                        <td id=\"T_cc1f7_row5_col28\" class=\"data row5 col28\" >0.001852</td>\n",
       "                        <td id=\"T_cc1f7_row5_col29\" class=\"data row5 col29\" >0.001852</td>\n",
       "            </tr>\n",
       "            <tr>\n",
       "                        <th id=\"T_cc1f7_level0_row6\" class=\"row_heading level0 row6\" >42671</th>\n",
       "                        <th id=\"T_cc1f7_level1_row6\" class=\"row_heading level1 row6\" >42</th>\n",
       "                        <th id=\"T_cc1f7_level2_row6\" class=\"row_heading level2 row6\" >4</th>\n",
       "                        <td id=\"T_cc1f7_row6_col0\" class=\"data row6 col0\" >0.002222</td>\n",
       "                        <td id=\"T_cc1f7_row6_col1\" class=\"data row6 col1\" >0.002222</td>\n",
       "                        <td id=\"T_cc1f7_row6_col2\" class=\"data row6 col2\" >0.002222</td>\n",
       "                        <td id=\"T_cc1f7_row6_col3\" class=\"data row6 col3\" >0.002222</td>\n",
       "                        <td id=\"T_cc1f7_row6_col4\" class=\"data row6 col4\" >0.002222</td>\n",
       "                        <td id=\"T_cc1f7_row6_col5\" class=\"data row6 col5\" >0.002222</td>\n",
       "                        <td id=\"T_cc1f7_row6_col6\" class=\"data row6 col6\" >0.341561</td>\n",
       "                        <td id=\"T_cc1f7_row6_col7\" class=\"data row6 col7\" >0.002222</td>\n",
       "                        <td id=\"T_cc1f7_row6_col8\" class=\"data row6 col8\" >0.002222</td>\n",
       "                        <td id=\"T_cc1f7_row6_col9\" class=\"data row6 col9\" >0.002222</td>\n",
       "                        <td id=\"T_cc1f7_row6_col10\" class=\"data row6 col10\" >0.002222</td>\n",
       "                        <td id=\"T_cc1f7_row6_col11\" class=\"data row6 col11\" >0.002222</td>\n",
       "                        <td id=\"T_cc1f7_row6_col12\" class=\"data row6 col12\" >0.002222</td>\n",
       "                        <td id=\"T_cc1f7_row6_col13\" class=\"data row6 col13\" >0.002222</td>\n",
       "                        <td id=\"T_cc1f7_row6_col14\" class=\"data row6 col14\" >0.002222</td>\n",
       "                        <td id=\"T_cc1f7_row6_col15\" class=\"data row6 col15\" >0.002222</td>\n",
       "                        <td id=\"T_cc1f7_row6_col16\" class=\"data row6 col16\" >0.002222</td>\n",
       "                        <td id=\"T_cc1f7_row6_col17\" class=\"data row6 col17\" >0.002222</td>\n",
       "                        <td id=\"T_cc1f7_row6_col18\" class=\"data row6 col18\" >0.002222</td>\n",
       "                        <td id=\"T_cc1f7_row6_col19\" class=\"data row6 col19\" >0.002222</td>\n",
       "                        <td id=\"T_cc1f7_row6_col20\" class=\"data row6 col20\" >0.002222</td>\n",
       "                        <td id=\"T_cc1f7_row6_col21\" class=\"data row6 col21\" >0.002222</td>\n",
       "                        <td id=\"T_cc1f7_row6_col22\" class=\"data row6 col22\" >0.002222</td>\n",
       "                        <td id=\"T_cc1f7_row6_col23\" class=\"data row6 col23\" >0.596216</td>\n",
       "                        <td id=\"T_cc1f7_row6_col24\" class=\"data row6 col24\" >0.002222</td>\n",
       "                        <td id=\"T_cc1f7_row6_col25\" class=\"data row6 col25\" >0.002222</td>\n",
       "                        <td id=\"T_cc1f7_row6_col26\" class=\"data row6 col26\" >0.002222</td>\n",
       "                        <td id=\"T_cc1f7_row6_col27\" class=\"data row6 col27\" >0.002222</td>\n",
       "                        <td id=\"T_cc1f7_row6_col28\" class=\"data row6 col28\" >0.002222</td>\n",
       "                        <td id=\"T_cc1f7_row6_col29\" class=\"data row6 col29\" >0.002222</td>\n",
       "            </tr>\n",
       "            <tr>\n",
       "                        <th id=\"T_cc1f7_level0_row7\" class=\"row_heading level0 row7\" >121</th>\n",
       "                        <th id=\"T_cc1f7_level1_row7\" class=\"row_heading level1 row7\" >32</th>\n",
       "                        <th id=\"T_cc1f7_level2_row7\" class=\"row_heading level2 row7\" >18</th>\n",
       "                        <td id=\"T_cc1f7_row7_col0\" class=\"data row7 col0\" >0.002222</td>\n",
       "                        <td id=\"T_cc1f7_row7_col1\" class=\"data row7 col1\" >0.002222</td>\n",
       "                        <td id=\"T_cc1f7_row7_col2\" class=\"data row7 col2\" >0.002222</td>\n",
       "                        <td id=\"T_cc1f7_row7_col3\" class=\"data row7 col3\" >0.002222</td>\n",
       "                        <td id=\"T_cc1f7_row7_col4\" class=\"data row7 col4\" >0.002222</td>\n",
       "                        <td id=\"T_cc1f7_row7_col5\" class=\"data row7 col5\" >0.002222</td>\n",
       "                        <td id=\"T_cc1f7_row7_col6\" class=\"data row7 col6\" >0.002222</td>\n",
       "                        <td id=\"T_cc1f7_row7_col7\" class=\"data row7 col7\" >0.002222</td>\n",
       "                        <td id=\"T_cc1f7_row7_col8\" class=\"data row7 col8\" >0.002222</td>\n",
       "                        <td id=\"T_cc1f7_row7_col9\" class=\"data row7 col9\" >0.002222</td>\n",
       "                        <td id=\"T_cc1f7_row7_col10\" class=\"data row7 col10\" >0.002222</td>\n",
       "                        <td id=\"T_cc1f7_row7_col11\" class=\"data row7 col11\" >0.002222</td>\n",
       "                        <td id=\"T_cc1f7_row7_col12\" class=\"data row7 col12\" >0.002222</td>\n",
       "                        <td id=\"T_cc1f7_row7_col13\" class=\"data row7 col13\" >0.002222</td>\n",
       "                        <td id=\"T_cc1f7_row7_col14\" class=\"data row7 col14\" >0.002222</td>\n",
       "                        <td id=\"T_cc1f7_row7_col15\" class=\"data row7 col15\" >0.002222</td>\n",
       "                        <td id=\"T_cc1f7_row7_col16\" class=\"data row7 col16\" >0.002222</td>\n",
       "                        <td id=\"T_cc1f7_row7_col17\" class=\"data row7 col17\" >0.002222</td>\n",
       "                        <td id=\"T_cc1f7_row7_col18\" class=\"data row7 col18\" >0.002222</td>\n",
       "                        <td id=\"T_cc1f7_row7_col19\" class=\"data row7 col19\" >0.935556</td>\n",
       "                        <td id=\"T_cc1f7_row7_col20\" class=\"data row7 col20\" >0.002222</td>\n",
       "                        <td id=\"T_cc1f7_row7_col21\" class=\"data row7 col21\" >0.002222</td>\n",
       "                        <td id=\"T_cc1f7_row7_col22\" class=\"data row7 col22\" >0.002222</td>\n",
       "                        <td id=\"T_cc1f7_row7_col23\" class=\"data row7 col23\" >0.002222</td>\n",
       "                        <td id=\"T_cc1f7_row7_col24\" class=\"data row7 col24\" >0.002222</td>\n",
       "                        <td id=\"T_cc1f7_row7_col25\" class=\"data row7 col25\" >0.002222</td>\n",
       "                        <td id=\"T_cc1f7_row7_col26\" class=\"data row7 col26\" >0.002222</td>\n",
       "                        <td id=\"T_cc1f7_row7_col27\" class=\"data row7 col27\" >0.002222</td>\n",
       "                        <td id=\"T_cc1f7_row7_col28\" class=\"data row7 col28\" >0.002222</td>\n",
       "                        <td id=\"T_cc1f7_row7_col29\" class=\"data row7 col29\" >0.002222</td>\n",
       "            </tr>\n",
       "            <tr>\n",
       "                        <th id=\"T_cc1f7_level0_row8\" class=\"row_heading level0 row8\" >42671</th>\n",
       "                        <th id=\"T_cc1f7_level1_row8\" class=\"row_heading level1 row8\" >43</th>\n",
       "                        <th id=\"T_cc1f7_level2_row8\" class=\"row_heading level2 row8\" >5</th>\n",
       "                        <td id=\"T_cc1f7_row8_col0\" class=\"data row8 col0\" >0.000855</td>\n",
       "                        <td id=\"T_cc1f7_row8_col1\" class=\"data row8 col1\" >0.000855</td>\n",
       "                        <td id=\"T_cc1f7_row8_col2\" class=\"data row8 col2\" >0.000855</td>\n",
       "                        <td id=\"T_cc1f7_row8_col3\" class=\"data row8 col3\" >0.000855</td>\n",
       "                        <td id=\"T_cc1f7_row8_col4\" class=\"data row8 col4\" >0.000855</td>\n",
       "                        <td id=\"T_cc1f7_row8_col5\" class=\"data row8 col5\" >0.000855</td>\n",
       "                        <td id=\"T_cc1f7_row8_col6\" class=\"data row8 col6\" >0.000855</td>\n",
       "                        <td id=\"T_cc1f7_row8_col7\" class=\"data row8 col7\" >0.000855</td>\n",
       "                        <td id=\"T_cc1f7_row8_col8\" class=\"data row8 col8\" >0.000855</td>\n",
       "                        <td id=\"T_cc1f7_row8_col9\" class=\"data row8 col9\" >0.000855</td>\n",
       "                        <td id=\"T_cc1f7_row8_col10\" class=\"data row8 col10\" >0.000855</td>\n",
       "                        <td id=\"T_cc1f7_row8_col11\" class=\"data row8 col11\" >0.000855</td>\n",
       "                        <td id=\"T_cc1f7_row8_col12\" class=\"data row8 col12\" >0.000855</td>\n",
       "                        <td id=\"T_cc1f7_row8_col13\" class=\"data row8 col13\" >0.000855</td>\n",
       "                        <td id=\"T_cc1f7_row8_col14\" class=\"data row8 col14\" >0.000855</td>\n",
       "                        <td id=\"T_cc1f7_row8_col15\" class=\"data row8 col15\" >0.000855</td>\n",
       "                        <td id=\"T_cc1f7_row8_col16\" class=\"data row8 col16\" >0.000855</td>\n",
       "                        <td id=\"T_cc1f7_row8_col17\" class=\"data row8 col17\" >0.000855</td>\n",
       "                        <td id=\"T_cc1f7_row8_col18\" class=\"data row8 col18\" >0.000855</td>\n",
       "                        <td id=\"T_cc1f7_row8_col19\" class=\"data row8 col19\" >0.000855</td>\n",
       "                        <td id=\"T_cc1f7_row8_col20\" class=\"data row8 col20\" >0.000855</td>\n",
       "                        <td id=\"T_cc1f7_row8_col21\" class=\"data row8 col21\" >0.000855</td>\n",
       "                        <td id=\"T_cc1f7_row8_col22\" class=\"data row8 col22\" >0.000855</td>\n",
       "                        <td id=\"T_cc1f7_row8_col23\" class=\"data row8 col23\" >0.975214</td>\n",
       "                        <td id=\"T_cc1f7_row8_col24\" class=\"data row8 col24\" >0.000855</td>\n",
       "                        <td id=\"T_cc1f7_row8_col25\" class=\"data row8 col25\" >0.000855</td>\n",
       "                        <td id=\"T_cc1f7_row8_col26\" class=\"data row8 col26\" >0.000855</td>\n",
       "                        <td id=\"T_cc1f7_row8_col27\" class=\"data row8 col27\" >0.000855</td>\n",
       "                        <td id=\"T_cc1f7_row8_col28\" class=\"data row8 col28\" >0.000855</td>\n",
       "                        <td id=\"T_cc1f7_row8_col29\" class=\"data row8 col29\" >0.000855</td>\n",
       "            </tr>\n",
       "            <tr>\n",
       "                        <th id=\"T_cc1f7_level0_row9\" class=\"row_heading level0 row9\" >141</th>\n",
       "                        <th id=\"T_cc1f7_level1_row9\" class=\"row_heading level1 row9\" >62</th>\n",
       "                        <th id=\"T_cc1f7_level2_row9\" class=\"row_heading level2 row9\" >1</th>\n",
       "                        <td id=\"T_cc1f7_row9_col0\" class=\"data row9 col0\" >0.001190</td>\n",
       "                        <td id=\"T_cc1f7_row9_col1\" class=\"data row9 col1\" >0.001190</td>\n",
       "                        <td id=\"T_cc1f7_row9_col2\" class=\"data row9 col2\" >0.001190</td>\n",
       "                        <td id=\"T_cc1f7_row9_col3\" class=\"data row9 col3\" >0.001190</td>\n",
       "                        <td id=\"T_cc1f7_row9_col4\" class=\"data row9 col4\" >0.001190</td>\n",
       "                        <td id=\"T_cc1f7_row9_col5\" class=\"data row9 col5\" >0.001190</td>\n",
       "                        <td id=\"T_cc1f7_row9_col6\" class=\"data row9 col6\" >0.001190</td>\n",
       "                        <td id=\"T_cc1f7_row9_col7\" class=\"data row9 col7\" >0.001190</td>\n",
       "                        <td id=\"T_cc1f7_row9_col8\" class=\"data row9 col8\" >0.001190</td>\n",
       "                        <td id=\"T_cc1f7_row9_col9\" class=\"data row9 col9\" >0.001190</td>\n",
       "                        <td id=\"T_cc1f7_row9_col10\" class=\"data row9 col10\" >0.001190</td>\n",
       "                        <td id=\"T_cc1f7_row9_col11\" class=\"data row9 col11\" >0.001190</td>\n",
       "                        <td id=\"T_cc1f7_row9_col12\" class=\"data row9 col12\" >0.001190</td>\n",
       "                        <td id=\"T_cc1f7_row9_col13\" class=\"data row9 col13\" >0.001190</td>\n",
       "                        <td id=\"T_cc1f7_row9_col14\" class=\"data row9 col14\" >0.001190</td>\n",
       "                        <td id=\"T_cc1f7_row9_col15\" class=\"data row9 col15\" >0.001190</td>\n",
       "                        <td id=\"T_cc1f7_row9_col16\" class=\"data row9 col16\" >0.001190</td>\n",
       "                        <td id=\"T_cc1f7_row9_col17\" class=\"data row9 col17\" >0.001190</td>\n",
       "                        <td id=\"T_cc1f7_row9_col18\" class=\"data row9 col18\" >0.965476</td>\n",
       "                        <td id=\"T_cc1f7_row9_col19\" class=\"data row9 col19\" >0.001190</td>\n",
       "                        <td id=\"T_cc1f7_row9_col20\" class=\"data row9 col20\" >0.001190</td>\n",
       "                        <td id=\"T_cc1f7_row9_col21\" class=\"data row9 col21\" >0.001190</td>\n",
       "                        <td id=\"T_cc1f7_row9_col22\" class=\"data row9 col22\" >0.001190</td>\n",
       "                        <td id=\"T_cc1f7_row9_col23\" class=\"data row9 col23\" >0.001190</td>\n",
       "                        <td id=\"T_cc1f7_row9_col24\" class=\"data row9 col24\" >0.001190</td>\n",
       "                        <td id=\"T_cc1f7_row9_col25\" class=\"data row9 col25\" >0.001190</td>\n",
       "                        <td id=\"T_cc1f7_row9_col26\" class=\"data row9 col26\" >0.001190</td>\n",
       "                        <td id=\"T_cc1f7_row9_col27\" class=\"data row9 col27\" >0.001190</td>\n",
       "                        <td id=\"T_cc1f7_row9_col28\" class=\"data row9 col28\" >0.001190</td>\n",
       "                        <td id=\"T_cc1f7_row9_col29\" class=\"data row9 col29\" >0.001190</td>\n",
       "            </tr>\n",
       "            <tr>\n",
       "                        <th id=\"T_cc1f7_level0_row10\" class=\"row_heading level0 row10\" >121</th>\n",
       "                        <th id=\"T_cc1f7_level1_row10\" class=\"row_heading level1 row10\" >60</th>\n",
       "                        <th id=\"T_cc1f7_level2_row10\" class=\"row_heading level2 row10\" >3</th>\n",
       "                        <td id=\"T_cc1f7_row10_col0\" class=\"data row10 col0\" >0.001961</td>\n",
       "                        <td id=\"T_cc1f7_row10_col1\" class=\"data row10 col1\" >0.001961</td>\n",
       "                        <td id=\"T_cc1f7_row10_col2\" class=\"data row10 col2\" >0.001961</td>\n",
       "                        <td id=\"T_cc1f7_row10_col3\" class=\"data row10 col3\" >0.001961</td>\n",
       "                        <td id=\"T_cc1f7_row10_col4\" class=\"data row10 col4\" >0.001961</td>\n",
       "                        <td id=\"T_cc1f7_row10_col5\" class=\"data row10 col5\" >0.001961</td>\n",
       "                        <td id=\"T_cc1f7_row10_col6\" class=\"data row10 col6\" >0.001961</td>\n",
       "                        <td id=\"T_cc1f7_row10_col7\" class=\"data row10 col7\" >0.001961</td>\n",
       "                        <td id=\"T_cc1f7_row10_col8\" class=\"data row10 col8\" >0.001961</td>\n",
       "                        <td id=\"T_cc1f7_row10_col9\" class=\"data row10 col9\" >0.001961</td>\n",
       "                        <td id=\"T_cc1f7_row10_col10\" class=\"data row10 col10\" >0.001961</td>\n",
       "                        <td id=\"T_cc1f7_row10_col11\" class=\"data row10 col11\" >0.001961</td>\n",
       "                        <td id=\"T_cc1f7_row10_col12\" class=\"data row10 col12\" >0.001961</td>\n",
       "                        <td id=\"T_cc1f7_row10_col13\" class=\"data row10 col13\" >0.001961</td>\n",
       "                        <td id=\"T_cc1f7_row10_col14\" class=\"data row10 col14\" >0.001961</td>\n",
       "                        <td id=\"T_cc1f7_row10_col15\" class=\"data row10 col15\" >0.001961</td>\n",
       "                        <td id=\"T_cc1f7_row10_col16\" class=\"data row10 col16\" >0.001961</td>\n",
       "                        <td id=\"T_cc1f7_row10_col17\" class=\"data row10 col17\" >0.001961</td>\n",
       "                        <td id=\"T_cc1f7_row10_col18\" class=\"data row10 col18\" >0.001961</td>\n",
       "                        <td id=\"T_cc1f7_row10_col19\" class=\"data row10 col19\" >0.001961</td>\n",
       "                        <td id=\"T_cc1f7_row10_col20\" class=\"data row10 col20\" >0.001961</td>\n",
       "                        <td id=\"T_cc1f7_row10_col21\" class=\"data row10 col21\" >0.001961</td>\n",
       "                        <td id=\"T_cc1f7_row10_col22\" class=\"data row10 col22\" >0.001961</td>\n",
       "                        <td id=\"T_cc1f7_row10_col23\" class=\"data row10 col23\" >0.001961</td>\n",
       "                        <td id=\"T_cc1f7_row10_col24\" class=\"data row10 col24\" >0.001961</td>\n",
       "                        <td id=\"T_cc1f7_row10_col25\" class=\"data row10 col25\" >0.001961</td>\n",
       "                        <td id=\"T_cc1f7_row10_col26\" class=\"data row10 col26\" >0.001961</td>\n",
       "                        <td id=\"T_cc1f7_row10_col27\" class=\"data row10 col27\" >0.001961</td>\n",
       "                        <td id=\"T_cc1f7_row10_col28\" class=\"data row10 col28\" >0.001961</td>\n",
       "                        <td id=\"T_cc1f7_row10_col29\" class=\"data row10 col29\" >0.943137</td>\n",
       "            </tr>\n",
       "            <tr>\n",
       "                        <th id=\"T_cc1f7_level0_row11\" class=\"row_heading level0 row11\" rowspan=\"2\">141</th>\n",
       "                        <th id=\"T_cc1f7_level1_row11\" class=\"row_heading level1 row11\" >93</th>\n",
       "                        <th id=\"T_cc1f7_level2_row11\" class=\"row_heading level2 row11\" >15</th>\n",
       "                        <td id=\"T_cc1f7_row11_col0\" class=\"data row11 col0\" >0.000741</td>\n",
       "                        <td id=\"T_cc1f7_row11_col1\" class=\"data row11 col1\" >0.000741</td>\n",
       "                        <td id=\"T_cc1f7_row11_col2\" class=\"data row11 col2\" >0.000741</td>\n",
       "                        <td id=\"T_cc1f7_row11_col3\" class=\"data row11 col3\" >0.000741</td>\n",
       "                        <td id=\"T_cc1f7_row11_col4\" class=\"data row11 col4\" >0.978519</td>\n",
       "                        <td id=\"T_cc1f7_row11_col5\" class=\"data row11 col5\" >0.000741</td>\n",
       "                        <td id=\"T_cc1f7_row11_col6\" class=\"data row11 col6\" >0.000741</td>\n",
       "                        <td id=\"T_cc1f7_row11_col7\" class=\"data row11 col7\" >0.000741</td>\n",
       "                        <td id=\"T_cc1f7_row11_col8\" class=\"data row11 col8\" >0.000741</td>\n",
       "                        <td id=\"T_cc1f7_row11_col9\" class=\"data row11 col9\" >0.000741</td>\n",
       "                        <td id=\"T_cc1f7_row11_col10\" class=\"data row11 col10\" >0.000741</td>\n",
       "                        <td id=\"T_cc1f7_row11_col11\" class=\"data row11 col11\" >0.000741</td>\n",
       "                        <td id=\"T_cc1f7_row11_col12\" class=\"data row11 col12\" >0.000741</td>\n",
       "                        <td id=\"T_cc1f7_row11_col13\" class=\"data row11 col13\" >0.000741</td>\n",
       "                        <td id=\"T_cc1f7_row11_col14\" class=\"data row11 col14\" >0.000741</td>\n",
       "                        <td id=\"T_cc1f7_row11_col15\" class=\"data row11 col15\" >0.000741</td>\n",
       "                        <td id=\"T_cc1f7_row11_col16\" class=\"data row11 col16\" >0.000741</td>\n",
       "                        <td id=\"T_cc1f7_row11_col17\" class=\"data row11 col17\" >0.000741</td>\n",
       "                        <td id=\"T_cc1f7_row11_col18\" class=\"data row11 col18\" >0.000741</td>\n",
       "                        <td id=\"T_cc1f7_row11_col19\" class=\"data row11 col19\" >0.000741</td>\n",
       "                        <td id=\"T_cc1f7_row11_col20\" class=\"data row11 col20\" >0.000741</td>\n",
       "                        <td id=\"T_cc1f7_row11_col21\" class=\"data row11 col21\" >0.000741</td>\n",
       "                        <td id=\"T_cc1f7_row11_col22\" class=\"data row11 col22\" >0.000741</td>\n",
       "                        <td id=\"T_cc1f7_row11_col23\" class=\"data row11 col23\" >0.000741</td>\n",
       "                        <td id=\"T_cc1f7_row11_col24\" class=\"data row11 col24\" >0.000741</td>\n",
       "                        <td id=\"T_cc1f7_row11_col25\" class=\"data row11 col25\" >0.000741</td>\n",
       "                        <td id=\"T_cc1f7_row11_col26\" class=\"data row11 col26\" >0.000741</td>\n",
       "                        <td id=\"T_cc1f7_row11_col27\" class=\"data row11 col27\" >0.000741</td>\n",
       "                        <td id=\"T_cc1f7_row11_col28\" class=\"data row11 col28\" >0.000741</td>\n",
       "                        <td id=\"T_cc1f7_row11_col29\" class=\"data row11 col29\" >0.000741</td>\n",
       "            </tr>\n",
       "            <tr>\n",
       "                                <th id=\"T_cc1f7_level1_row12\" class=\"row_heading level1 row12\" >53</th>\n",
       "                        <th id=\"T_cc1f7_level2_row12\" class=\"row_heading level2 row12\" >29</th>\n",
       "                        <td id=\"T_cc1f7_row12_col0\" class=\"data row12 col0\" >0.002564</td>\n",
       "                        <td id=\"T_cc1f7_row12_col1\" class=\"data row12 col1\" >0.215467</td>\n",
       "                        <td id=\"T_cc1f7_row12_col2\" class=\"data row12 col2\" >0.002564</td>\n",
       "                        <td id=\"T_cc1f7_row12_col3\" class=\"data row12 col3\" >0.002564</td>\n",
       "                        <td id=\"T_cc1f7_row12_col4\" class=\"data row12 col4\" >0.002564</td>\n",
       "                        <td id=\"T_cc1f7_row12_col5\" class=\"data row12 col5\" >0.002564</td>\n",
       "                        <td id=\"T_cc1f7_row12_col6\" class=\"data row12 col6\" >0.002564</td>\n",
       "                        <td id=\"T_cc1f7_row12_col7\" class=\"data row12 col7\" >0.712738</td>\n",
       "                        <td id=\"T_cc1f7_row12_col8\" class=\"data row12 col8\" >0.002564</td>\n",
       "                        <td id=\"T_cc1f7_row12_col9\" class=\"data row12 col9\" >0.002564</td>\n",
       "                        <td id=\"T_cc1f7_row12_col10\" class=\"data row12 col10\" >0.002564</td>\n",
       "                        <td id=\"T_cc1f7_row12_col11\" class=\"data row12 col11\" >0.002564</td>\n",
       "                        <td id=\"T_cc1f7_row12_col12\" class=\"data row12 col12\" >0.002564</td>\n",
       "                        <td id=\"T_cc1f7_row12_col13\" class=\"data row12 col13\" >0.002564</td>\n",
       "                        <td id=\"T_cc1f7_row12_col14\" class=\"data row12 col14\" >0.002564</td>\n",
       "                        <td id=\"T_cc1f7_row12_col15\" class=\"data row12 col15\" >0.002564</td>\n",
       "                        <td id=\"T_cc1f7_row12_col16\" class=\"data row12 col16\" >0.002564</td>\n",
       "                        <td id=\"T_cc1f7_row12_col17\" class=\"data row12 col17\" >0.002564</td>\n",
       "                        <td id=\"T_cc1f7_row12_col18\" class=\"data row12 col18\" >0.002564</td>\n",
       "                        <td id=\"T_cc1f7_row12_col19\" class=\"data row12 col19\" >0.002564</td>\n",
       "                        <td id=\"T_cc1f7_row12_col20\" class=\"data row12 col20\" >0.002564</td>\n",
       "                        <td id=\"T_cc1f7_row12_col21\" class=\"data row12 col21\" >0.002564</td>\n",
       "                        <td id=\"T_cc1f7_row12_col22\" class=\"data row12 col22\" >0.002564</td>\n",
       "                        <td id=\"T_cc1f7_row12_col23\" class=\"data row12 col23\" >0.002564</td>\n",
       "                        <td id=\"T_cc1f7_row12_col24\" class=\"data row12 col24\" >0.002564</td>\n",
       "                        <td id=\"T_cc1f7_row12_col25\" class=\"data row12 col25\" >0.002564</td>\n",
       "                        <td id=\"T_cc1f7_row12_col26\" class=\"data row12 col26\" >0.002564</td>\n",
       "                        <td id=\"T_cc1f7_row12_col27\" class=\"data row12 col27\" >0.002564</td>\n",
       "                        <td id=\"T_cc1f7_row12_col28\" class=\"data row12 col28\" >0.002564</td>\n",
       "                        <td id=\"T_cc1f7_row12_col29\" class=\"data row12 col29\" >0.002564</td>\n",
       "            </tr>\n",
       "            <tr>\n",
       "                        <th id=\"T_cc1f7_level0_row13\" class=\"row_heading level0 row13\" rowspan=\"2\">42671</th>\n",
       "                        <th id=\"T_cc1f7_level1_row13\" class=\"row_heading level1 row13\" >60</th>\n",
       "                        <th id=\"T_cc1f7_level2_row13\" class=\"row_heading level2 row13\" >8</th>\n",
       "                        <td id=\"T_cc1f7_row13_col0\" class=\"data row13 col0\" >0.016667</td>\n",
       "                        <td id=\"T_cc1f7_row13_col1\" class=\"data row13 col1\" >0.016667</td>\n",
       "                        <td id=\"T_cc1f7_row13_col2\" class=\"data row13 col2\" >0.016667</td>\n",
       "                        <td id=\"T_cc1f7_row13_col3\" class=\"data row13 col3\" >0.016667</td>\n",
       "                        <td id=\"T_cc1f7_row13_col4\" class=\"data row13 col4\" >0.016667</td>\n",
       "                        <td id=\"T_cc1f7_row13_col5\" class=\"data row13 col5\" >0.016667</td>\n",
       "                        <td id=\"T_cc1f7_row13_col6\" class=\"data row13 col6\" >0.016667</td>\n",
       "                        <td id=\"T_cc1f7_row13_col7\" class=\"data row13 col7\" >0.016667</td>\n",
       "                        <td id=\"T_cc1f7_row13_col8\" class=\"data row13 col8\" >0.516667</td>\n",
       "                        <td id=\"T_cc1f7_row13_col9\" class=\"data row13 col9\" >0.016667</td>\n",
       "                        <td id=\"T_cc1f7_row13_col10\" class=\"data row13 col10\" >0.016667</td>\n",
       "                        <td id=\"T_cc1f7_row13_col11\" class=\"data row13 col11\" >0.016667</td>\n",
       "                        <td id=\"T_cc1f7_row13_col12\" class=\"data row13 col12\" >0.016667</td>\n",
       "                        <td id=\"T_cc1f7_row13_col13\" class=\"data row13 col13\" >0.016667</td>\n",
       "                        <td id=\"T_cc1f7_row13_col14\" class=\"data row13 col14\" >0.016667</td>\n",
       "                        <td id=\"T_cc1f7_row13_col15\" class=\"data row13 col15\" >0.016667</td>\n",
       "                        <td id=\"T_cc1f7_row13_col16\" class=\"data row13 col16\" >0.016667</td>\n",
       "                        <td id=\"T_cc1f7_row13_col17\" class=\"data row13 col17\" >0.016667</td>\n",
       "                        <td id=\"T_cc1f7_row13_col18\" class=\"data row13 col18\" >0.016667</td>\n",
       "                        <td id=\"T_cc1f7_row13_col19\" class=\"data row13 col19\" >0.016667</td>\n",
       "                        <td id=\"T_cc1f7_row13_col20\" class=\"data row13 col20\" >0.016667</td>\n",
       "                        <td id=\"T_cc1f7_row13_col21\" class=\"data row13 col21\" >0.016667</td>\n",
       "                        <td id=\"T_cc1f7_row13_col22\" class=\"data row13 col22\" >0.016667</td>\n",
       "                        <td id=\"T_cc1f7_row13_col23\" class=\"data row13 col23\" >0.016667</td>\n",
       "                        <td id=\"T_cc1f7_row13_col24\" class=\"data row13 col24\" >0.016667</td>\n",
       "                        <td id=\"T_cc1f7_row13_col25\" class=\"data row13 col25\" >0.016667</td>\n",
       "                        <td id=\"T_cc1f7_row13_col26\" class=\"data row13 col26\" >0.016667</td>\n",
       "                        <td id=\"T_cc1f7_row13_col27\" class=\"data row13 col27\" >0.016667</td>\n",
       "                        <td id=\"T_cc1f7_row13_col28\" class=\"data row13 col28\" >0.016667</td>\n",
       "                        <td id=\"T_cc1f7_row13_col29\" class=\"data row13 col29\" >0.016667</td>\n",
       "            </tr>\n",
       "            <tr>\n",
       "                                <th id=\"T_cc1f7_level1_row14\" class=\"row_heading level1 row14\" >28</th>\n",
       "                        <th id=\"T_cc1f7_level2_row14\" class=\"row_heading level2 row14\" >16</th>\n",
       "                        <td id=\"T_cc1f7_row14_col0\" class=\"data row14 col0\" >0.011111</td>\n",
       "                        <td id=\"T_cc1f7_row14_col1\" class=\"data row14 col1\" >0.011111</td>\n",
       "                        <td id=\"T_cc1f7_row14_col2\" class=\"data row14 col2\" >0.011111</td>\n",
       "                        <td id=\"T_cc1f7_row14_col3\" class=\"data row14 col3\" >0.011111</td>\n",
       "                        <td id=\"T_cc1f7_row14_col4\" class=\"data row14 col4\" >0.011111</td>\n",
       "                        <td id=\"T_cc1f7_row14_col5\" class=\"data row14 col5\" >0.011111</td>\n",
       "                        <td id=\"T_cc1f7_row14_col6\" class=\"data row14 col6\" >0.011111</td>\n",
       "                        <td id=\"T_cc1f7_row14_col7\" class=\"data row14 col7\" >0.677778</td>\n",
       "                        <td id=\"T_cc1f7_row14_col8\" class=\"data row14 col8\" >0.011111</td>\n",
       "                        <td id=\"T_cc1f7_row14_col9\" class=\"data row14 col9\" >0.011111</td>\n",
       "                        <td id=\"T_cc1f7_row14_col10\" class=\"data row14 col10\" >0.011111</td>\n",
       "                        <td id=\"T_cc1f7_row14_col11\" class=\"data row14 col11\" >0.011111</td>\n",
       "                        <td id=\"T_cc1f7_row14_col12\" class=\"data row14 col12\" >0.011111</td>\n",
       "                        <td id=\"T_cc1f7_row14_col13\" class=\"data row14 col13\" >0.011111</td>\n",
       "                        <td id=\"T_cc1f7_row14_col14\" class=\"data row14 col14\" >0.011111</td>\n",
       "                        <td id=\"T_cc1f7_row14_col15\" class=\"data row14 col15\" >0.011111</td>\n",
       "                        <td id=\"T_cc1f7_row14_col16\" class=\"data row14 col16\" >0.011111</td>\n",
       "                        <td id=\"T_cc1f7_row14_col17\" class=\"data row14 col17\" >0.011111</td>\n",
       "                        <td id=\"T_cc1f7_row14_col18\" class=\"data row14 col18\" >0.011111</td>\n",
       "                        <td id=\"T_cc1f7_row14_col19\" class=\"data row14 col19\" >0.011111</td>\n",
       "                        <td id=\"T_cc1f7_row14_col20\" class=\"data row14 col20\" >0.011111</td>\n",
       "                        <td id=\"T_cc1f7_row14_col21\" class=\"data row14 col21\" >0.011111</td>\n",
       "                        <td id=\"T_cc1f7_row14_col22\" class=\"data row14 col22\" >0.011111</td>\n",
       "                        <td id=\"T_cc1f7_row14_col23\" class=\"data row14 col23\" >0.011111</td>\n",
       "                        <td id=\"T_cc1f7_row14_col24\" class=\"data row14 col24\" >0.011111</td>\n",
       "                        <td id=\"T_cc1f7_row14_col25\" class=\"data row14 col25\" >0.011111</td>\n",
       "                        <td id=\"T_cc1f7_row14_col26\" class=\"data row14 col26\" >0.011111</td>\n",
       "                        <td id=\"T_cc1f7_row14_col27\" class=\"data row14 col27\" >0.011111</td>\n",
       "                        <td id=\"T_cc1f7_row14_col28\" class=\"data row14 col28\" >0.011111</td>\n",
       "                        <td id=\"T_cc1f7_row14_col29\" class=\"data row14 col29\" >0.011111</td>\n",
       "            </tr>\n",
       "            <tr>\n",
       "                        <th id=\"T_cc1f7_level0_row15\" class=\"row_heading level0 row15\" rowspan=\"2\">141</th>\n",
       "                        <th id=\"T_cc1f7_level1_row15\" class=\"row_heading level1 row15\" >68</th>\n",
       "                        <th id=\"T_cc1f7_level2_row15\" class=\"row_heading level2 row15\" >1</th>\n",
       "                        <td id=\"T_cc1f7_row15_col0\" class=\"data row15 col0\" >0.001667</td>\n",
       "                        <td id=\"T_cc1f7_row15_col1\" class=\"data row15 col1\" >0.001667</td>\n",
       "                        <td id=\"T_cc1f7_row15_col2\" class=\"data row15 col2\" >0.001667</td>\n",
       "                        <td id=\"T_cc1f7_row15_col3\" class=\"data row15 col3\" >0.001667</td>\n",
       "                        <td id=\"T_cc1f7_row15_col4\" class=\"data row15 col4\" >0.001667</td>\n",
       "                        <td id=\"T_cc1f7_row15_col5\" class=\"data row15 col5\" >0.001667</td>\n",
       "                        <td id=\"T_cc1f7_row15_col6\" class=\"data row15 col6\" >0.001667</td>\n",
       "                        <td id=\"T_cc1f7_row15_col7\" class=\"data row15 col7\" >0.001667</td>\n",
       "                        <td id=\"T_cc1f7_row15_col8\" class=\"data row15 col8\" >0.001667</td>\n",
       "                        <td id=\"T_cc1f7_row15_col9\" class=\"data row15 col9\" >0.001667</td>\n",
       "                        <td id=\"T_cc1f7_row15_col10\" class=\"data row15 col10\" >0.001667</td>\n",
       "                        <td id=\"T_cc1f7_row15_col11\" class=\"data row15 col11\" >0.001667</td>\n",
       "                        <td id=\"T_cc1f7_row15_col12\" class=\"data row15 col12\" >0.001667</td>\n",
       "                        <td id=\"T_cc1f7_row15_col13\" class=\"data row15 col13\" >0.001667</td>\n",
       "                        <td id=\"T_cc1f7_row15_col14\" class=\"data row15 col14\" >0.001667</td>\n",
       "                        <td id=\"T_cc1f7_row15_col15\" class=\"data row15 col15\" >0.951667</td>\n",
       "                        <td id=\"T_cc1f7_row15_col16\" class=\"data row15 col16\" >0.001667</td>\n",
       "                        <td id=\"T_cc1f7_row15_col17\" class=\"data row15 col17\" >0.001667</td>\n",
       "                        <td id=\"T_cc1f7_row15_col18\" class=\"data row15 col18\" >0.001667</td>\n",
       "                        <td id=\"T_cc1f7_row15_col19\" class=\"data row15 col19\" >0.001667</td>\n",
       "                        <td id=\"T_cc1f7_row15_col20\" class=\"data row15 col20\" >0.001667</td>\n",
       "                        <td id=\"T_cc1f7_row15_col21\" class=\"data row15 col21\" >0.001667</td>\n",
       "                        <td id=\"T_cc1f7_row15_col22\" class=\"data row15 col22\" >0.001667</td>\n",
       "                        <td id=\"T_cc1f7_row15_col23\" class=\"data row15 col23\" >0.001667</td>\n",
       "                        <td id=\"T_cc1f7_row15_col24\" class=\"data row15 col24\" >0.001667</td>\n",
       "                        <td id=\"T_cc1f7_row15_col25\" class=\"data row15 col25\" >0.001667</td>\n",
       "                        <td id=\"T_cc1f7_row15_col26\" class=\"data row15 col26\" >0.001667</td>\n",
       "                        <td id=\"T_cc1f7_row15_col27\" class=\"data row15 col27\" >0.001667</td>\n",
       "                        <td id=\"T_cc1f7_row15_col28\" class=\"data row15 col28\" >0.001667</td>\n",
       "                        <td id=\"T_cc1f7_row15_col29\" class=\"data row15 col29\" >0.001667</td>\n",
       "            </tr>\n",
       "            <tr>\n",
       "                                <th id=\"T_cc1f7_level1_row16\" class=\"row_heading level1 row16\" >65</th>\n",
       "                        <th id=\"T_cc1f7_level2_row16\" class=\"row_heading level2 row16\" >4</th>\n",
       "                        <td id=\"T_cc1f7_row16_col0\" class=\"data row16 col0\" >0.033333</td>\n",
       "                        <td id=\"T_cc1f7_row16_col1\" class=\"data row16 col1\" >0.033333</td>\n",
       "                        <td id=\"T_cc1f7_row16_col2\" class=\"data row16 col2\" >0.033333</td>\n",
       "                        <td id=\"T_cc1f7_row16_col3\" class=\"data row16 col3\" >0.033333</td>\n",
       "                        <td id=\"T_cc1f7_row16_col4\" class=\"data row16 col4\" >0.033333</td>\n",
       "                        <td id=\"T_cc1f7_row16_col5\" class=\"data row16 col5\" >0.033333</td>\n",
       "                        <td id=\"T_cc1f7_row16_col6\" class=\"data row16 col6\" >0.033333</td>\n",
       "                        <td id=\"T_cc1f7_row16_col7\" class=\"data row16 col7\" >0.033333</td>\n",
       "                        <td id=\"T_cc1f7_row16_col8\" class=\"data row16 col8\" >0.033333</td>\n",
       "                        <td id=\"T_cc1f7_row16_col9\" class=\"data row16 col9\" >0.033333</td>\n",
       "                        <td id=\"T_cc1f7_row16_col10\" class=\"data row16 col10\" >0.033333</td>\n",
       "                        <td id=\"T_cc1f7_row16_col11\" class=\"data row16 col11\" >0.033333</td>\n",
       "                        <td id=\"T_cc1f7_row16_col12\" class=\"data row16 col12\" >0.033333</td>\n",
       "                        <td id=\"T_cc1f7_row16_col13\" class=\"data row16 col13\" >0.033333</td>\n",
       "                        <td id=\"T_cc1f7_row16_col14\" class=\"data row16 col14\" >0.033333</td>\n",
       "                        <td id=\"T_cc1f7_row16_col15\" class=\"data row16 col15\" >0.033333</td>\n",
       "                        <td id=\"T_cc1f7_row16_col16\" class=\"data row16 col16\" >0.033333</td>\n",
       "                        <td id=\"T_cc1f7_row16_col17\" class=\"data row16 col17\" >0.033333</td>\n",
       "                        <td id=\"T_cc1f7_row16_col18\" class=\"data row16 col18\" >0.033333</td>\n",
       "                        <td id=\"T_cc1f7_row16_col19\" class=\"data row16 col19\" >0.033333</td>\n",
       "                        <td id=\"T_cc1f7_row16_col20\" class=\"data row16 col20\" >0.033333</td>\n",
       "                        <td id=\"T_cc1f7_row16_col21\" class=\"data row16 col21\" >0.033333</td>\n",
       "                        <td id=\"T_cc1f7_row16_col22\" class=\"data row16 col22\" >0.033333</td>\n",
       "                        <td id=\"T_cc1f7_row16_col23\" class=\"data row16 col23\" >0.033333</td>\n",
       "                        <td id=\"T_cc1f7_row16_col24\" class=\"data row16 col24\" >0.033333</td>\n",
       "                        <td id=\"T_cc1f7_row16_col25\" class=\"data row16 col25\" >0.033333</td>\n",
       "                        <td id=\"T_cc1f7_row16_col26\" class=\"data row16 col26\" >0.033333</td>\n",
       "                        <td id=\"T_cc1f7_row16_col27\" class=\"data row16 col27\" >0.033333</td>\n",
       "                        <td id=\"T_cc1f7_row16_col28\" class=\"data row16 col28\" >0.033333</td>\n",
       "                        <td id=\"T_cc1f7_row16_col29\" class=\"data row16 col29\" >0.033333</td>\n",
       "            </tr>\n",
       "            <tr>\n",
       "                        <th id=\"T_cc1f7_level0_row17\" class=\"row_heading level0 row17\" rowspan=\"3\">42671</th>\n",
       "                        <th id=\"T_cc1f7_level1_row17\" class=\"row_heading level1 row17\" >43</th>\n",
       "                        <th id=\"T_cc1f7_level2_row17\" class=\"row_heading level2 row17\" >34</th>\n",
       "                        <td id=\"T_cc1f7_row17_col0\" class=\"data row17 col0\" >0.016667</td>\n",
       "                        <td id=\"T_cc1f7_row17_col1\" class=\"data row17 col1\" >0.016667</td>\n",
       "                        <td id=\"T_cc1f7_row17_col2\" class=\"data row17 col2\" >0.016667</td>\n",
       "                        <td id=\"T_cc1f7_row17_col3\" class=\"data row17 col3\" >0.016667</td>\n",
       "                        <td id=\"T_cc1f7_row17_col4\" class=\"data row17 col4\" >0.016667</td>\n",
       "                        <td id=\"T_cc1f7_row17_col5\" class=\"data row17 col5\" >0.016667</td>\n",
       "                        <td id=\"T_cc1f7_row17_col6\" class=\"data row17 col6\" >0.016667</td>\n",
       "                        <td id=\"T_cc1f7_row17_col7\" class=\"data row17 col7\" >0.016667</td>\n",
       "                        <td id=\"T_cc1f7_row17_col8\" class=\"data row17 col8\" >0.016667</td>\n",
       "                        <td id=\"T_cc1f7_row17_col9\" class=\"data row17 col9\" >0.016667</td>\n",
       "                        <td id=\"T_cc1f7_row17_col10\" class=\"data row17 col10\" >0.016667</td>\n",
       "                        <td id=\"T_cc1f7_row17_col11\" class=\"data row17 col11\" >0.016667</td>\n",
       "                        <td id=\"T_cc1f7_row17_col12\" class=\"data row17 col12\" >0.016667</td>\n",
       "                        <td id=\"T_cc1f7_row17_col13\" class=\"data row17 col13\" >0.016667</td>\n",
       "                        <td id=\"T_cc1f7_row17_col14\" class=\"data row17 col14\" >0.016667</td>\n",
       "                        <td id=\"T_cc1f7_row17_col15\" class=\"data row17 col15\" >0.016667</td>\n",
       "                        <td id=\"T_cc1f7_row17_col16\" class=\"data row17 col16\" >0.016667</td>\n",
       "                        <td id=\"T_cc1f7_row17_col17\" class=\"data row17 col17\" >0.016667</td>\n",
       "                        <td id=\"T_cc1f7_row17_col18\" class=\"data row17 col18\" >0.016667</td>\n",
       "                        <td id=\"T_cc1f7_row17_col19\" class=\"data row17 col19\" >0.016667</td>\n",
       "                        <td id=\"T_cc1f7_row17_col20\" class=\"data row17 col20\" >0.016667</td>\n",
       "                        <td id=\"T_cc1f7_row17_col21\" class=\"data row17 col21\" >0.016667</td>\n",
       "                        <td id=\"T_cc1f7_row17_col22\" class=\"data row17 col22\" >0.016667</td>\n",
       "                        <td id=\"T_cc1f7_row17_col23\" class=\"data row17 col23\" >0.016667</td>\n",
       "                        <td id=\"T_cc1f7_row17_col24\" class=\"data row17 col24\" >0.016667</td>\n",
       "                        <td id=\"T_cc1f7_row17_col25\" class=\"data row17 col25\" >0.516667</td>\n",
       "                        <td id=\"T_cc1f7_row17_col26\" class=\"data row17 col26\" >0.016667</td>\n",
       "                        <td id=\"T_cc1f7_row17_col27\" class=\"data row17 col27\" >0.016667</td>\n",
       "                        <td id=\"T_cc1f7_row17_col28\" class=\"data row17 col28\" >0.016667</td>\n",
       "                        <td id=\"T_cc1f7_row17_col29\" class=\"data row17 col29\" >0.016667</td>\n",
       "            </tr>\n",
       "            <tr>\n",
       "                                <th id=\"T_cc1f7_level1_row18\" class=\"row_heading level1 row18\" >58</th>\n",
       "                        <th id=\"T_cc1f7_level2_row18\" class=\"row_heading level2 row18\" >27</th>\n",
       "                        <td id=\"T_cc1f7_row18_col0\" class=\"data row18 col0\" >0.006667</td>\n",
       "                        <td id=\"T_cc1f7_row18_col1\" class=\"data row18 col1\" >0.806667</td>\n",
       "                        <td id=\"T_cc1f7_row18_col2\" class=\"data row18 col2\" >0.006667</td>\n",
       "                        <td id=\"T_cc1f7_row18_col3\" class=\"data row18 col3\" >0.006667</td>\n",
       "                        <td id=\"T_cc1f7_row18_col4\" class=\"data row18 col4\" >0.006667</td>\n",
       "                        <td id=\"T_cc1f7_row18_col5\" class=\"data row18 col5\" >0.006667</td>\n",
       "                        <td id=\"T_cc1f7_row18_col6\" class=\"data row18 col6\" >0.006667</td>\n",
       "                        <td id=\"T_cc1f7_row18_col7\" class=\"data row18 col7\" >0.006667</td>\n",
       "                        <td id=\"T_cc1f7_row18_col8\" class=\"data row18 col8\" >0.006667</td>\n",
       "                        <td id=\"T_cc1f7_row18_col9\" class=\"data row18 col9\" >0.006667</td>\n",
       "                        <td id=\"T_cc1f7_row18_col10\" class=\"data row18 col10\" >0.006667</td>\n",
       "                        <td id=\"T_cc1f7_row18_col11\" class=\"data row18 col11\" >0.006667</td>\n",
       "                        <td id=\"T_cc1f7_row18_col12\" class=\"data row18 col12\" >0.006667</td>\n",
       "                        <td id=\"T_cc1f7_row18_col13\" class=\"data row18 col13\" >0.006667</td>\n",
       "                        <td id=\"T_cc1f7_row18_col14\" class=\"data row18 col14\" >0.006667</td>\n",
       "                        <td id=\"T_cc1f7_row18_col15\" class=\"data row18 col15\" >0.006667</td>\n",
       "                        <td id=\"T_cc1f7_row18_col16\" class=\"data row18 col16\" >0.006667</td>\n",
       "                        <td id=\"T_cc1f7_row18_col17\" class=\"data row18 col17\" >0.006667</td>\n",
       "                        <td id=\"T_cc1f7_row18_col18\" class=\"data row18 col18\" >0.006667</td>\n",
       "                        <td id=\"T_cc1f7_row18_col19\" class=\"data row18 col19\" >0.006667</td>\n",
       "                        <td id=\"T_cc1f7_row18_col20\" class=\"data row18 col20\" >0.006667</td>\n",
       "                        <td id=\"T_cc1f7_row18_col21\" class=\"data row18 col21\" >0.006667</td>\n",
       "                        <td id=\"T_cc1f7_row18_col22\" class=\"data row18 col22\" >0.006667</td>\n",
       "                        <td id=\"T_cc1f7_row18_col23\" class=\"data row18 col23\" >0.006667</td>\n",
       "                        <td id=\"T_cc1f7_row18_col24\" class=\"data row18 col24\" >0.006667</td>\n",
       "                        <td id=\"T_cc1f7_row18_col25\" class=\"data row18 col25\" >0.006667</td>\n",
       "                        <td id=\"T_cc1f7_row18_col26\" class=\"data row18 col26\" >0.006667</td>\n",
       "                        <td id=\"T_cc1f7_row18_col27\" class=\"data row18 col27\" >0.006667</td>\n",
       "                        <td id=\"T_cc1f7_row18_col28\" class=\"data row18 col28\" >0.006667</td>\n",
       "                        <td id=\"T_cc1f7_row18_col29\" class=\"data row18 col29\" >0.006667</td>\n",
       "            </tr>\n",
       "            <tr>\n",
       "                                <th id=\"T_cc1f7_level1_row19\" class=\"row_heading level1 row19\" >48</th>\n",
       "                        <th id=\"T_cc1f7_level2_row19\" class=\"row_heading level2 row19\" >24</th>\n",
       "                        <td id=\"T_cc1f7_row19_col0\" class=\"data row19 col0\" >0.033333</td>\n",
       "                        <td id=\"T_cc1f7_row19_col1\" class=\"data row19 col1\" >0.033333</td>\n",
       "                        <td id=\"T_cc1f7_row19_col2\" class=\"data row19 col2\" >0.033333</td>\n",
       "                        <td id=\"T_cc1f7_row19_col3\" class=\"data row19 col3\" >0.033333</td>\n",
       "                        <td id=\"T_cc1f7_row19_col4\" class=\"data row19 col4\" >0.033333</td>\n",
       "                        <td id=\"T_cc1f7_row19_col5\" class=\"data row19 col5\" >0.033333</td>\n",
       "                        <td id=\"T_cc1f7_row19_col6\" class=\"data row19 col6\" >0.033333</td>\n",
       "                        <td id=\"T_cc1f7_row19_col7\" class=\"data row19 col7\" >0.033333</td>\n",
       "                        <td id=\"T_cc1f7_row19_col8\" class=\"data row19 col8\" >0.033333</td>\n",
       "                        <td id=\"T_cc1f7_row19_col9\" class=\"data row19 col9\" >0.033333</td>\n",
       "                        <td id=\"T_cc1f7_row19_col10\" class=\"data row19 col10\" >0.033333</td>\n",
       "                        <td id=\"T_cc1f7_row19_col11\" class=\"data row19 col11\" >0.033333</td>\n",
       "                        <td id=\"T_cc1f7_row19_col12\" class=\"data row19 col12\" >0.033333</td>\n",
       "                        <td id=\"T_cc1f7_row19_col13\" class=\"data row19 col13\" >0.033333</td>\n",
       "                        <td id=\"T_cc1f7_row19_col14\" class=\"data row19 col14\" >0.033333</td>\n",
       "                        <td id=\"T_cc1f7_row19_col15\" class=\"data row19 col15\" >0.033333</td>\n",
       "                        <td id=\"T_cc1f7_row19_col16\" class=\"data row19 col16\" >0.033333</td>\n",
       "                        <td id=\"T_cc1f7_row19_col17\" class=\"data row19 col17\" >0.033333</td>\n",
       "                        <td id=\"T_cc1f7_row19_col18\" class=\"data row19 col18\" >0.033333</td>\n",
       "                        <td id=\"T_cc1f7_row19_col19\" class=\"data row19 col19\" >0.033333</td>\n",
       "                        <td id=\"T_cc1f7_row19_col20\" class=\"data row19 col20\" >0.033333</td>\n",
       "                        <td id=\"T_cc1f7_row19_col21\" class=\"data row19 col21\" >0.033333</td>\n",
       "                        <td id=\"T_cc1f7_row19_col22\" class=\"data row19 col22\" >0.033333</td>\n",
       "                        <td id=\"T_cc1f7_row19_col23\" class=\"data row19 col23\" >0.033333</td>\n",
       "                        <td id=\"T_cc1f7_row19_col24\" class=\"data row19 col24\" >0.033333</td>\n",
       "                        <td id=\"T_cc1f7_row19_col25\" class=\"data row19 col25\" >0.033333</td>\n",
       "                        <td id=\"T_cc1f7_row19_col26\" class=\"data row19 col26\" >0.033333</td>\n",
       "                        <td id=\"T_cc1f7_row19_col27\" class=\"data row19 col27\" >0.033333</td>\n",
       "                        <td id=\"T_cc1f7_row19_col28\" class=\"data row19 col28\" >0.033333</td>\n",
       "                        <td id=\"T_cc1f7_row19_col29\" class=\"data row19 col29\" >0.033333</td>\n",
       "            </tr>\n",
       "    </tbody></table>"
      ]
     },
     "metadata": {},
     "execution_count": 13
    }
   ],
   "metadata": {}
  },
  {
   "cell_type": "markdown",
   "source": [
    "## PHI"
   ],
   "metadata": {}
  },
  {
   "cell_type": "code",
   "execution_count": 14,
   "source": [
    "PHI = pd.DataFrame(lda.components_, columns=TERMS)\r\n",
    "PHI.index.name = 'topic_id'\r\n",
    "PHI.columns.name  = 'term_str'"
   ],
   "outputs": [],
   "metadata": {}
  },
  {
   "cell_type": "code",
   "execution_count": 15,
   "source": [
    "PHI.T.head().style.background_gradient()"
   ],
   "outputs": [
    {
     "output_type": "execute_result",
     "data": {
      "text/plain": [
       "<pandas.io.formats.style.Styler at 0x21f9d8f68b0>"
      ],
      "text/html": [
       "<style  type=\"text/css\" >\n",
       "#T_35aa4_row0_col0,#T_35aa4_row0_col1,#T_35aa4_row0_col2,#T_35aa4_row0_col4,#T_35aa4_row0_col5,#T_35aa4_row0_col6,#T_35aa4_row0_col7,#T_35aa4_row0_col8,#T_35aa4_row0_col9,#T_35aa4_row0_col11,#T_35aa4_row0_col12,#T_35aa4_row0_col13,#T_35aa4_row0_col14,#T_35aa4_row0_col15,#T_35aa4_row0_col17,#T_35aa4_row0_col18,#T_35aa4_row0_col19,#T_35aa4_row0_col20,#T_35aa4_row0_col21,#T_35aa4_row0_col22,#T_35aa4_row0_col23,#T_35aa4_row0_col24,#T_35aa4_row0_col25,#T_35aa4_row0_col26,#T_35aa4_row0_col27,#T_35aa4_row0_col28,#T_35aa4_row0_col29,#T_35aa4_row1_col1,#T_35aa4_row1_col2,#T_35aa4_row1_col3,#T_35aa4_row1_col7,#T_35aa4_row1_col9,#T_35aa4_row1_col13,#T_35aa4_row1_col17,#T_35aa4_row1_col22,#T_35aa4_row1_col26,#T_35aa4_row1_col28,#T_35aa4_row1_col29,#T_35aa4_row2_col1,#T_35aa4_row2_col2,#T_35aa4_row2_col3,#T_35aa4_row2_col4,#T_35aa4_row2_col5,#T_35aa4_row2_col6,#T_35aa4_row2_col7,#T_35aa4_row2_col8,#T_35aa4_row2_col9,#T_35aa4_row2_col10,#T_35aa4_row2_col11,#T_35aa4_row2_col12,#T_35aa4_row2_col13,#T_35aa4_row2_col14,#T_35aa4_row2_col15,#T_35aa4_row2_col16,#T_35aa4_row2_col17,#T_35aa4_row2_col18,#T_35aa4_row2_col19,#T_35aa4_row2_col20,#T_35aa4_row2_col21,#T_35aa4_row2_col22,#T_35aa4_row2_col23,#T_35aa4_row2_col24,#T_35aa4_row2_col25,#T_35aa4_row2_col26,#T_35aa4_row2_col27,#T_35aa4_row2_col28,#T_35aa4_row2_col29,#T_35aa4_row3_col0,#T_35aa4_row3_col1,#T_35aa4_row3_col2,#T_35aa4_row3_col3,#T_35aa4_row3_col5,#T_35aa4_row3_col6,#T_35aa4_row3_col7,#T_35aa4_row3_col8,#T_35aa4_row3_col9,#T_35aa4_row3_col10,#T_35aa4_row3_col12,#T_35aa4_row3_col13,#T_35aa4_row3_col16,#T_35aa4_row3_col17,#T_35aa4_row3_col18,#T_35aa4_row3_col19,#T_35aa4_row3_col20,#T_35aa4_row3_col22,#T_35aa4_row3_col23,#T_35aa4_row3_col24,#T_35aa4_row3_col26,#T_35aa4_row3_col27,#T_35aa4_row3_col28,#T_35aa4_row4_col1,#T_35aa4_row4_col3,#T_35aa4_row4_col4,#T_35aa4_row4_col5,#T_35aa4_row4_col6,#T_35aa4_row4_col8,#T_35aa4_row4_col9,#T_35aa4_row4_col10,#T_35aa4_row4_col12,#T_35aa4_row4_col14,#T_35aa4_row4_col16,#T_35aa4_row4_col17,#T_35aa4_row4_col20,#T_35aa4_row4_col21,#T_35aa4_row4_col22,#T_35aa4_row4_col23,#T_35aa4_row4_col24,#T_35aa4_row4_col27{\n",
       "            background-color:  #fff7fb;\n",
       "            color:  #000000;\n",
       "        }#T_35aa4_row0_col3,#T_35aa4_row0_col16,#T_35aa4_row1_col0,#T_35aa4_row1_col4,#T_35aa4_row1_col5,#T_35aa4_row1_col6,#T_35aa4_row1_col8,#T_35aa4_row1_col10,#T_35aa4_row1_col11,#T_35aa4_row1_col12,#T_35aa4_row1_col14,#T_35aa4_row1_col15,#T_35aa4_row1_col18,#T_35aa4_row1_col19,#T_35aa4_row1_col20,#T_35aa4_row1_col21,#T_35aa4_row1_col23,#T_35aa4_row1_col24,#T_35aa4_row1_col27,#T_35aa4_row3_col11,#T_35aa4_row3_col25,#T_35aa4_row4_col2,#T_35aa4_row4_col7,#T_35aa4_row4_col11,#T_35aa4_row4_col13,#T_35aa4_row4_col25,#T_35aa4_row4_col26,#T_35aa4_row4_col28,#T_35aa4_row4_col29{\n",
       "            background-color:  #023858;\n",
       "            color:  #f1f1f1;\n",
       "        }#T_35aa4_row0_col10{\n",
       "            background-color:  #84b0d3;\n",
       "            color:  #000000;\n",
       "        }#T_35aa4_row1_col16{\n",
       "            background-color:  #4c99c5;\n",
       "            color:  #000000;\n",
       "        }#T_35aa4_row1_col25{\n",
       "            background-color:  #03456c;\n",
       "            color:  #f1f1f1;\n",
       "        }#T_35aa4_row2_col0{\n",
       "            background-color:  #045382;\n",
       "            color:  #f1f1f1;\n",
       "        }#T_35aa4_row3_col4{\n",
       "            background-color:  #3991c1;\n",
       "            color:  #000000;\n",
       "        }#T_35aa4_row3_col14{\n",
       "            background-color:  #b5c4df;\n",
       "            color:  #000000;\n",
       "        }#T_35aa4_row3_col15,#T_35aa4_row4_col15{\n",
       "            background-color:  #99b8d8;\n",
       "            color:  #000000;\n",
       "        }#T_35aa4_row3_col21{\n",
       "            background-color:  #04588a;\n",
       "            color:  #f1f1f1;\n",
       "        }#T_35aa4_row3_col29{\n",
       "            background-color:  #5a9ec9;\n",
       "            color:  #000000;\n",
       "        }#T_35aa4_row4_col0{\n",
       "            background-color:  #88b1d4;\n",
       "            color:  #000000;\n",
       "        }#T_35aa4_row4_col18{\n",
       "            background-color:  #a8bedc;\n",
       "            color:  #000000;\n",
       "        }#T_35aa4_row4_col19{\n",
       "            background-color:  #bcc7e1;\n",
       "            color:  #000000;\n",
       "        }</style><table id=\"T_35aa4_\" ><thead>    <tr>        <th class=\"index_name level0\" >topic_id</th>        <th class=\"col_heading level0 col0\" >0</th>        <th class=\"col_heading level0 col1\" >1</th>        <th class=\"col_heading level0 col2\" >2</th>        <th class=\"col_heading level0 col3\" >3</th>        <th class=\"col_heading level0 col4\" >4</th>        <th class=\"col_heading level0 col5\" >5</th>        <th class=\"col_heading level0 col6\" >6</th>        <th class=\"col_heading level0 col7\" >7</th>        <th class=\"col_heading level0 col8\" >8</th>        <th class=\"col_heading level0 col9\" >9</th>        <th class=\"col_heading level0 col10\" >10</th>        <th class=\"col_heading level0 col11\" >11</th>        <th class=\"col_heading level0 col12\" >12</th>        <th class=\"col_heading level0 col13\" >13</th>        <th class=\"col_heading level0 col14\" >14</th>        <th class=\"col_heading level0 col15\" >15</th>        <th class=\"col_heading level0 col16\" >16</th>        <th class=\"col_heading level0 col17\" >17</th>        <th class=\"col_heading level0 col18\" >18</th>        <th class=\"col_heading level0 col19\" >19</th>        <th class=\"col_heading level0 col20\" >20</th>        <th class=\"col_heading level0 col21\" >21</th>        <th class=\"col_heading level0 col22\" >22</th>        <th class=\"col_heading level0 col23\" >23</th>        <th class=\"col_heading level0 col24\" >24</th>        <th class=\"col_heading level0 col25\" >25</th>        <th class=\"col_heading level0 col26\" >26</th>        <th class=\"col_heading level0 col27\" >27</th>        <th class=\"col_heading level0 col28\" >28</th>        <th class=\"col_heading level0 col29\" >29</th>    </tr>    <tr>        <th class=\"index_name level0\" >term_str</th>        <th class=\"blank\" ></th>        <th class=\"blank\" ></th>        <th class=\"blank\" ></th>        <th class=\"blank\" ></th>        <th class=\"blank\" ></th>        <th class=\"blank\" ></th>        <th class=\"blank\" ></th>        <th class=\"blank\" ></th>        <th class=\"blank\" ></th>        <th class=\"blank\" ></th>        <th class=\"blank\" ></th>        <th class=\"blank\" ></th>        <th class=\"blank\" ></th>        <th class=\"blank\" ></th>        <th class=\"blank\" ></th>        <th class=\"blank\" ></th>        <th class=\"blank\" ></th>        <th class=\"blank\" ></th>        <th class=\"blank\" ></th>        <th class=\"blank\" ></th>        <th class=\"blank\" ></th>        <th class=\"blank\" ></th>        <th class=\"blank\" ></th>        <th class=\"blank\" ></th>        <th class=\"blank\" ></th>        <th class=\"blank\" ></th>        <th class=\"blank\" ></th>        <th class=\"blank\" ></th>        <th class=\"blank\" ></th>        <th class=\"blank\" ></th>    </tr></thead><tbody>\n",
       "                <tr>\n",
       "                        <th id=\"T_35aa4_level0_row0\" class=\"row_heading level0 row0\" >abatement</th>\n",
       "                        <td id=\"T_35aa4_row0_col0\" class=\"data row0 col0\" >0.033333</td>\n",
       "                        <td id=\"T_35aa4_row0_col1\" class=\"data row0 col1\" >0.033333</td>\n",
       "                        <td id=\"T_35aa4_row0_col2\" class=\"data row0 col2\" >0.033333</td>\n",
       "                        <td id=\"T_35aa4_row0_col3\" class=\"data row0 col3\" >1.033333</td>\n",
       "                        <td id=\"T_35aa4_row0_col4\" class=\"data row0 col4\" >0.033333</td>\n",
       "                        <td id=\"T_35aa4_row0_col5\" class=\"data row0 col5\" >0.033333</td>\n",
       "                        <td id=\"T_35aa4_row0_col6\" class=\"data row0 col6\" >0.033333</td>\n",
       "                        <td id=\"T_35aa4_row0_col7\" class=\"data row0 col7\" >0.033333</td>\n",
       "                        <td id=\"T_35aa4_row0_col8\" class=\"data row0 col8\" >0.033333</td>\n",
       "                        <td id=\"T_35aa4_row0_col9\" class=\"data row0 col9\" >0.033333</td>\n",
       "                        <td id=\"T_35aa4_row0_col10\" class=\"data row0 col10\" >1.033333</td>\n",
       "                        <td id=\"T_35aa4_row0_col11\" class=\"data row0 col11\" >0.033333</td>\n",
       "                        <td id=\"T_35aa4_row0_col12\" class=\"data row0 col12\" >0.033333</td>\n",
       "                        <td id=\"T_35aa4_row0_col13\" class=\"data row0 col13\" >0.033333</td>\n",
       "                        <td id=\"T_35aa4_row0_col14\" class=\"data row0 col14\" >0.033333</td>\n",
       "                        <td id=\"T_35aa4_row0_col15\" class=\"data row0 col15\" >0.033333</td>\n",
       "                        <td id=\"T_35aa4_row0_col16\" class=\"data row0 col16\" >1.033333</td>\n",
       "                        <td id=\"T_35aa4_row0_col17\" class=\"data row0 col17\" >0.033333</td>\n",
       "                        <td id=\"T_35aa4_row0_col18\" class=\"data row0 col18\" >0.033333</td>\n",
       "                        <td id=\"T_35aa4_row0_col19\" class=\"data row0 col19\" >0.033333</td>\n",
       "                        <td id=\"T_35aa4_row0_col20\" class=\"data row0 col20\" >0.033333</td>\n",
       "                        <td id=\"T_35aa4_row0_col21\" class=\"data row0 col21\" >0.033333</td>\n",
       "                        <td id=\"T_35aa4_row0_col22\" class=\"data row0 col22\" >0.033333</td>\n",
       "                        <td id=\"T_35aa4_row0_col23\" class=\"data row0 col23\" >0.033333</td>\n",
       "                        <td id=\"T_35aa4_row0_col24\" class=\"data row0 col24\" >0.033333</td>\n",
       "                        <td id=\"T_35aa4_row0_col25\" class=\"data row0 col25\" >0.033333</td>\n",
       "                        <td id=\"T_35aa4_row0_col26\" class=\"data row0 col26\" >0.033333</td>\n",
       "                        <td id=\"T_35aa4_row0_col27\" class=\"data row0 col27\" >0.033333</td>\n",
       "                        <td id=\"T_35aa4_row0_col28\" class=\"data row0 col28\" >0.033333</td>\n",
       "                        <td id=\"T_35aa4_row0_col29\" class=\"data row0 col29\" >0.033333</td>\n",
       "            </tr>\n",
       "            <tr>\n",
       "                        <th id=\"T_35aa4_level0_row1\" class=\"row_heading level0 row1\" >abbey</th>\n",
       "                        <td id=\"T_35aa4_row1_col0\" class=\"data row1 col0\" >2.254763</td>\n",
       "                        <td id=\"T_35aa4_row1_col1\" class=\"data row1 col1\" >0.033333</td>\n",
       "                        <td id=\"T_35aa4_row1_col2\" class=\"data row1 col2\" >0.033333</td>\n",
       "                        <td id=\"T_35aa4_row1_col3\" class=\"data row1 col3\" >0.033333</td>\n",
       "                        <td id=\"T_35aa4_row1_col4\" class=\"data row1 col4\" >2.368230</td>\n",
       "                        <td id=\"T_35aa4_row1_col5\" class=\"data row1 col5\" >3.007307</td>\n",
       "                        <td id=\"T_35aa4_row1_col6\" class=\"data row1 col6\" >0.033333</td>\n",
       "                        <td id=\"T_35aa4_row1_col7\" class=\"data row1 col7\" >0.033333</td>\n",
       "                        <td id=\"T_35aa4_row1_col8\" class=\"data row1 col8\" >0.033333</td>\n",
       "                        <td id=\"T_35aa4_row1_col9\" class=\"data row1 col9\" >0.033333</td>\n",
       "                        <td id=\"T_35aa4_row1_col10\" class=\"data row1 col10\" >2.215456</td>\n",
       "                        <td id=\"T_35aa4_row1_col11\" class=\"data row1 col11\" >1.033333</td>\n",
       "                        <td id=\"T_35aa4_row1_col12\" class=\"data row1 col12\" >0.033333</td>\n",
       "                        <td id=\"T_35aa4_row1_col13\" class=\"data row1 col13\" >0.033333</td>\n",
       "                        <td id=\"T_35aa4_row1_col14\" class=\"data row1 col14\" >3.067315</td>\n",
       "                        <td id=\"T_35aa4_row1_col15\" class=\"data row1 col15\" >2.478092</td>\n",
       "                        <td id=\"T_35aa4_row1_col16\" class=\"data row1 col16\" >0.614601</td>\n",
       "                        <td id=\"T_35aa4_row1_col17\" class=\"data row1 col17\" >0.033333</td>\n",
       "                        <td id=\"T_35aa4_row1_col18\" class=\"data row1 col18\" >0.033333</td>\n",
       "                        <td id=\"T_35aa4_row1_col19\" class=\"data row1 col19\" >3.250129</td>\n",
       "                        <td id=\"T_35aa4_row1_col20\" class=\"data row1 col20\" >1.698437</td>\n",
       "                        <td id=\"T_35aa4_row1_col21\" class=\"data row1 col21\" >1.168513</td>\n",
       "                        <td id=\"T_35aa4_row1_col22\" class=\"data row1 col22\" >0.033333</td>\n",
       "                        <td id=\"T_35aa4_row1_col23\" class=\"data row1 col23\" >3.418664</td>\n",
       "                        <td id=\"T_35aa4_row1_col24\" class=\"data row1 col24\" >1.033333</td>\n",
       "                        <td id=\"T_35aa4_row1_col25\" class=\"data row1 col25\" >0.984504</td>\n",
       "                        <td id=\"T_35aa4_row1_col26\" class=\"data row1 col26\" >0.033333</td>\n",
       "                        <td id=\"T_35aa4_row1_col27\" class=\"data row1 col27\" >1.907323</td>\n",
       "                        <td id=\"T_35aa4_row1_col28\" class=\"data row1 col28\" >0.033333</td>\n",
       "                        <td id=\"T_35aa4_row1_col29\" class=\"data row1 col29\" >0.033333</td>\n",
       "            </tr>\n",
       "            <tr>\n",
       "                        <th id=\"T_35aa4_level0_row2\" class=\"row_heading level0 row2\" >abbeys</th>\n",
       "                        <td id=\"T_35aa4_row2_col0\" class=\"data row2 col0\" >2.033333</td>\n",
       "                        <td id=\"T_35aa4_row2_col1\" class=\"data row2 col1\" >0.033333</td>\n",
       "                        <td id=\"T_35aa4_row2_col2\" class=\"data row2 col2\" >0.033333</td>\n",
       "                        <td id=\"T_35aa4_row2_col3\" class=\"data row2 col3\" >0.033333</td>\n",
       "                        <td id=\"T_35aa4_row2_col4\" class=\"data row2 col4\" >0.033333</td>\n",
       "                        <td id=\"T_35aa4_row2_col5\" class=\"data row2 col5\" >0.033333</td>\n",
       "                        <td id=\"T_35aa4_row2_col6\" class=\"data row2 col6\" >0.033333</td>\n",
       "                        <td id=\"T_35aa4_row2_col7\" class=\"data row2 col7\" >0.033333</td>\n",
       "                        <td id=\"T_35aa4_row2_col8\" class=\"data row2 col8\" >0.033333</td>\n",
       "                        <td id=\"T_35aa4_row2_col9\" class=\"data row2 col9\" >0.033333</td>\n",
       "                        <td id=\"T_35aa4_row2_col10\" class=\"data row2 col10\" >0.033333</td>\n",
       "                        <td id=\"T_35aa4_row2_col11\" class=\"data row2 col11\" >0.033333</td>\n",
       "                        <td id=\"T_35aa4_row2_col12\" class=\"data row2 col12\" >0.033333</td>\n",
       "                        <td id=\"T_35aa4_row2_col13\" class=\"data row2 col13\" >0.033333</td>\n",
       "                        <td id=\"T_35aa4_row2_col14\" class=\"data row2 col14\" >0.033333</td>\n",
       "                        <td id=\"T_35aa4_row2_col15\" class=\"data row2 col15\" >0.033333</td>\n",
       "                        <td id=\"T_35aa4_row2_col16\" class=\"data row2 col16\" >0.033333</td>\n",
       "                        <td id=\"T_35aa4_row2_col17\" class=\"data row2 col17\" >0.033333</td>\n",
       "                        <td id=\"T_35aa4_row2_col18\" class=\"data row2 col18\" >0.033333</td>\n",
       "                        <td id=\"T_35aa4_row2_col19\" class=\"data row2 col19\" >0.033333</td>\n",
       "                        <td id=\"T_35aa4_row2_col20\" class=\"data row2 col20\" >0.033333</td>\n",
       "                        <td id=\"T_35aa4_row2_col21\" class=\"data row2 col21\" >0.033333</td>\n",
       "                        <td id=\"T_35aa4_row2_col22\" class=\"data row2 col22\" >0.033333</td>\n",
       "                        <td id=\"T_35aa4_row2_col23\" class=\"data row2 col23\" >0.033333</td>\n",
       "                        <td id=\"T_35aa4_row2_col24\" class=\"data row2 col24\" >0.033333</td>\n",
       "                        <td id=\"T_35aa4_row2_col25\" class=\"data row2 col25\" >0.033333</td>\n",
       "                        <td id=\"T_35aa4_row2_col26\" class=\"data row2 col26\" >0.033333</td>\n",
       "                        <td id=\"T_35aa4_row2_col27\" class=\"data row2 col27\" >0.033333</td>\n",
       "                        <td id=\"T_35aa4_row2_col28\" class=\"data row2 col28\" >0.033333</td>\n",
       "                        <td id=\"T_35aa4_row2_col29\" class=\"data row2 col29\" >0.033333</td>\n",
       "            </tr>\n",
       "            <tr>\n",
       "                        <th id=\"T_35aa4_level0_row3\" class=\"row_heading level0 row3\" >abhorrence</th>\n",
       "                        <td id=\"T_35aa4_row3_col0\" class=\"data row3 col0\" >0.033333</td>\n",
       "                        <td id=\"T_35aa4_row3_col1\" class=\"data row3 col1\" >0.033333</td>\n",
       "                        <td id=\"T_35aa4_row3_col2\" class=\"data row3 col2\" >0.033333</td>\n",
       "                        <td id=\"T_35aa4_row3_col3\" class=\"data row3 col3\" >0.033333</td>\n",
       "                        <td id=\"T_35aa4_row3_col4\" class=\"data row3 col4\" >1.480584</td>\n",
       "                        <td id=\"T_35aa4_row3_col5\" class=\"data row3 col5\" >0.033333</td>\n",
       "                        <td id=\"T_35aa4_row3_col6\" class=\"data row3 col6\" >0.033333</td>\n",
       "                        <td id=\"T_35aa4_row3_col7\" class=\"data row3 col7\" >0.033333</td>\n",
       "                        <td id=\"T_35aa4_row3_col8\" class=\"data row3 col8\" >0.033333</td>\n",
       "                        <td id=\"T_35aa4_row3_col9\" class=\"data row3 col9\" >0.033333</td>\n",
       "                        <td id=\"T_35aa4_row3_col10\" class=\"data row3 col10\" >0.033333</td>\n",
       "                        <td id=\"T_35aa4_row3_col11\" class=\"data row3 col11\" >1.033333</td>\n",
       "                        <td id=\"T_35aa4_row3_col12\" class=\"data row3 col12\" >0.033333</td>\n",
       "                        <td id=\"T_35aa4_row3_col13\" class=\"data row3 col13\" >0.033333</td>\n",
       "                        <td id=\"T_35aa4_row3_col14\" class=\"data row3 col14\" >1.033333</td>\n",
       "                        <td id=\"T_35aa4_row3_col15\" class=\"data row3 col15\" >1.033333</td>\n",
       "                        <td id=\"T_35aa4_row3_col16\" class=\"data row3 col16\" >0.033333</td>\n",
       "                        <td id=\"T_35aa4_row3_col17\" class=\"data row3 col17\" >0.033333</td>\n",
       "                        <td id=\"T_35aa4_row3_col18\" class=\"data row3 col18\" >0.033333</td>\n",
       "                        <td id=\"T_35aa4_row3_col19\" class=\"data row3 col19\" >0.033333</td>\n",
       "                        <td id=\"T_35aa4_row3_col20\" class=\"data row3 col20\" >0.033333</td>\n",
       "                        <td id=\"T_35aa4_row3_col21\" class=\"data row3 col21\" >1.033333</td>\n",
       "                        <td id=\"T_35aa4_row3_col22\" class=\"data row3 col22\" >0.033333</td>\n",
       "                        <td id=\"T_35aa4_row3_col23\" class=\"data row3 col23\" >0.033333</td>\n",
       "                        <td id=\"T_35aa4_row3_col24\" class=\"data row3 col24\" >0.033333</td>\n",
       "                        <td id=\"T_35aa4_row3_col25\" class=\"data row3 col25\" >1.033333</td>\n",
       "                        <td id=\"T_35aa4_row3_col26\" class=\"data row3 col26\" >0.033333</td>\n",
       "                        <td id=\"T_35aa4_row3_col27\" class=\"data row3 col27\" >0.033333</td>\n",
       "                        <td id=\"T_35aa4_row3_col28\" class=\"data row3 col28\" >0.033333</td>\n",
       "                        <td id=\"T_35aa4_row3_col29\" class=\"data row3 col29\" >0.586083</td>\n",
       "            </tr>\n",
       "            <tr>\n",
       "                        <th id=\"T_35aa4_level0_row4\" class=\"row_heading level0 row4\" >abilities</th>\n",
       "                        <td id=\"T_35aa4_row4_col0\" class=\"data row4 col0\" >1.033333</td>\n",
       "                        <td id=\"T_35aa4_row4_col1\" class=\"data row4 col1\" >0.033333</td>\n",
       "                        <td id=\"T_35aa4_row4_col2\" class=\"data row4 col2\" >3.033333</td>\n",
       "                        <td id=\"T_35aa4_row4_col3\" class=\"data row4 col3\" >0.033333</td>\n",
       "                        <td id=\"T_35aa4_row4_col4\" class=\"data row4 col4\" >0.033333</td>\n",
       "                        <td id=\"T_35aa4_row4_col5\" class=\"data row4 col5\" >0.033333</td>\n",
       "                        <td id=\"T_35aa4_row4_col6\" class=\"data row4 col6\" >0.033333</td>\n",
       "                        <td id=\"T_35aa4_row4_col7\" class=\"data row4 col7\" >0.033333</td>\n",
       "                        <td id=\"T_35aa4_row4_col8\" class=\"data row4 col8\" >0.033333</td>\n",
       "                        <td id=\"T_35aa4_row4_col9\" class=\"data row4 col9\" >0.033333</td>\n",
       "                        <td id=\"T_35aa4_row4_col10\" class=\"data row4 col10\" >0.033333</td>\n",
       "                        <td id=\"T_35aa4_row4_col11\" class=\"data row4 col11\" >1.033333</td>\n",
       "                        <td id=\"T_35aa4_row4_col12\" class=\"data row4 col12\" >0.033333</td>\n",
       "                        <td id=\"T_35aa4_row4_col13\" class=\"data row4 col13\" >1.033333</td>\n",
       "                        <td id=\"T_35aa4_row4_col14\" class=\"data row4 col14\" >0.033333</td>\n",
       "                        <td id=\"T_35aa4_row4_col15\" class=\"data row4 col15\" >1.033333</td>\n",
       "                        <td id=\"T_35aa4_row4_col16\" class=\"data row4 col16\" >0.033333</td>\n",
       "                        <td id=\"T_35aa4_row4_col17\" class=\"data row4 col17\" >0.033333</td>\n",
       "                        <td id=\"T_35aa4_row4_col18\" class=\"data row4 col18\" >0.033333</td>\n",
       "                        <td id=\"T_35aa4_row4_col19\" class=\"data row4 col19\" >1.033333</td>\n",
       "                        <td id=\"T_35aa4_row4_col20\" class=\"data row4 col20\" >0.033333</td>\n",
       "                        <td id=\"T_35aa4_row4_col21\" class=\"data row4 col21\" >0.033333</td>\n",
       "                        <td id=\"T_35aa4_row4_col22\" class=\"data row4 col22\" >0.033333</td>\n",
       "                        <td id=\"T_35aa4_row4_col23\" class=\"data row4 col23\" >0.033333</td>\n",
       "                        <td id=\"T_35aa4_row4_col24\" class=\"data row4 col24\" >0.033333</td>\n",
       "                        <td id=\"T_35aa4_row4_col25\" class=\"data row4 col25\" >1.033333</td>\n",
       "                        <td id=\"T_35aa4_row4_col26\" class=\"data row4 col26\" >3.033333</td>\n",
       "                        <td id=\"T_35aa4_row4_col27\" class=\"data row4 col27\" >0.033333</td>\n",
       "                        <td id=\"T_35aa4_row4_col28\" class=\"data row4 col28\" >1.033333</td>\n",
       "                        <td id=\"T_35aa4_row4_col29\" class=\"data row4 col29\" >1.033333</td>\n",
       "            </tr>\n",
       "    </tbody></table>"
      ]
     },
     "metadata": {},
     "execution_count": 15
    }
   ],
   "metadata": {}
  },
  {
   "cell_type": "markdown",
   "source": [
    "# Inspect Results"
   ],
   "metadata": {
    "toc-hr-collapsed": false
   }
  },
  {
   "cell_type": "markdown",
   "source": [
    "## Get Top Terms per Topic"
   ],
   "metadata": {}
  },
  {
   "cell_type": "code",
   "execution_count": 16,
   "source": [
    "TOPICS = PHI.stack().to_frame().rename(columns={0:'weight'})\\\r\n",
    "    .groupby('topic_id')\\\r\n",
    "    .apply(lambda x: \r\n",
    "           x.weight.sort_values(ascending=False)\\\r\n",
    "               .head(10)\\\r\n",
    "               .reset_index()\\\r\n",
    "               .drop('topic_id',1)\\\r\n",
    "               .term_str)"
   ],
   "outputs": [],
   "metadata": {}
  },
  {
   "cell_type": "code",
   "execution_count": 17,
   "source": [
    "TOPICS"
   ],
   "outputs": [
    {
     "output_type": "execute_result",
     "data": {
      "text/plain": [
       "term_str             0         1            2          3          4  \\\n",
       "topic_id                                                              \n",
       "0              opinion  feelings         time     nature    subject   \n",
       "1                 time       day        party   pleasure      house   \n",
       "2               family   country    character       mind      world   \n",
       "3                  man    choice      comfort    husband      thing   \n",
       "4                  man      time       family     sister   feelings   \n",
       "5         acquaintance   friends       friend       home     family   \n",
       "6                 room      time  countenance     moment        man   \n",
       "7             distance    things         room     people      night   \n",
       "8                 time      home         rest     sister      heart   \n",
       "9                place      time       family    sisters       plan   \n",
       "10                time    friend         days   pleasure    spirits   \n",
       "11                  oh      time        house     moment       room   \n",
       "12                 yes     thing       sister       good       time   \n",
       "13                look       man        woman     ladies       word   \n",
       "14               madam     table      morning      house   servants   \n",
       "15              answer      time          day   pleasure   feelings   \n",
       "16                 sir   sisters         care         oh     sister   \n",
       "17                love      girl         sort     moment       dear   \n",
       "18                 man     thing        horse  companion       play   \n",
       "19                time      eyes         room   feelings      thing   \n",
       "20                walk     smile         half       time        end   \n",
       "21              letter     reply    affection    brother   feelings   \n",
       "22                dear      ball        place    evening     manner   \n",
       "23                aunt     uncle       sister   pleasure     better   \n",
       "24              friend      time         hope     father        day   \n",
       "25                room     uncle       moment       mind       door   \n",
       "26                time    friend          day     letter     sister   \n",
       "27                 way     house         time    evening     sister   \n",
       "28                time       day        heart   surprise       word   \n",
       "29              father    family         mind      house  attention   \n",
       "\n",
       "term_str          5          6             7          8          9  \n",
       "topic_id                                                            \n",
       "0          pleasure      state          mind      heart    cousins  \n",
       "1          question     family          hour     dinner    morning  \n",
       "2              idea    fortune         house   marriage     sister  \n",
       "3              time   daughter        father  gentleman       life  \n",
       "4         happiness       home       opinion        day       life  \n",
       "5             pause       wish          kind    opinion      years  \n",
       "6            mother     letter           day     beauty        way  \n",
       "7             thing      miles         world       time       kind  \n",
       "8             truth   necklace          room     people      sorry  \n",
       "9              year      house          wife     people     ladies  \n",
       "10            visit        day        reason        way     family  \n",
       "11          theatre       door        sister        man       turn  \n",
       "12           months         oh       moments   pleasure       away  \n",
       "13        character         oh        sister       kind     family  \n",
       "14             said       time        change       hour    subject  \n",
       "15              way     mother            oh       mind       word  \n",
       "16             town      power           men     wonder     cousin  \n",
       "17            world       deal         thing       time       eyes  \n",
       "18           friend  elizabeth  conversation        day      world  \n",
       "19           object     mother  satisfaction       mind      heart  \n",
       "20            house  attention         place  behaviour       eyes  \n",
       "21           reason       head       trouble         oh    morning  \n",
       "22             room        day          aunt       time       hour  \n",
       "23             time        way        moment       room        did  \n",
       "24             home    morning       subject     sister      heart  \n",
       "25          brother     sister         house       time     friend  \n",
       "26            uncle     father       brother    morning  character  \n",
       "27             news       days       minutes   pleasure       till  \n",
       "28           letter       home        family    subject     sister  \n",
       "29          fathers  gentlemen        mother       time    subject  "
      ],
      "text/html": [
       "<div>\n",
       "<style scoped>\n",
       "    .dataframe tbody tr th:only-of-type {\n",
       "        vertical-align: middle;\n",
       "    }\n",
       "\n",
       "    .dataframe tbody tr th {\n",
       "        vertical-align: top;\n",
       "    }\n",
       "\n",
       "    .dataframe thead th {\n",
       "        text-align: right;\n",
       "    }\n",
       "</style>\n",
       "<table border=\"1\" class=\"dataframe\">\n",
       "  <thead>\n",
       "    <tr style=\"text-align: right;\">\n",
       "      <th>term_str</th>\n",
       "      <th>0</th>\n",
       "      <th>1</th>\n",
       "      <th>2</th>\n",
       "      <th>3</th>\n",
       "      <th>4</th>\n",
       "      <th>5</th>\n",
       "      <th>6</th>\n",
       "      <th>7</th>\n",
       "      <th>8</th>\n",
       "      <th>9</th>\n",
       "    </tr>\n",
       "    <tr>\n",
       "      <th>topic_id</th>\n",
       "      <th></th>\n",
       "      <th></th>\n",
       "      <th></th>\n",
       "      <th></th>\n",
       "      <th></th>\n",
       "      <th></th>\n",
       "      <th></th>\n",
       "      <th></th>\n",
       "      <th></th>\n",
       "      <th></th>\n",
       "    </tr>\n",
       "  </thead>\n",
       "  <tbody>\n",
       "    <tr>\n",
       "      <th>0</th>\n",
       "      <td>opinion</td>\n",
       "      <td>feelings</td>\n",
       "      <td>time</td>\n",
       "      <td>nature</td>\n",
       "      <td>subject</td>\n",
       "      <td>pleasure</td>\n",
       "      <td>state</td>\n",
       "      <td>mind</td>\n",
       "      <td>heart</td>\n",
       "      <td>cousins</td>\n",
       "    </tr>\n",
       "    <tr>\n",
       "      <th>1</th>\n",
       "      <td>time</td>\n",
       "      <td>day</td>\n",
       "      <td>party</td>\n",
       "      <td>pleasure</td>\n",
       "      <td>house</td>\n",
       "      <td>question</td>\n",
       "      <td>family</td>\n",
       "      <td>hour</td>\n",
       "      <td>dinner</td>\n",
       "      <td>morning</td>\n",
       "    </tr>\n",
       "    <tr>\n",
       "      <th>2</th>\n",
       "      <td>family</td>\n",
       "      <td>country</td>\n",
       "      <td>character</td>\n",
       "      <td>mind</td>\n",
       "      <td>world</td>\n",
       "      <td>idea</td>\n",
       "      <td>fortune</td>\n",
       "      <td>house</td>\n",
       "      <td>marriage</td>\n",
       "      <td>sister</td>\n",
       "    </tr>\n",
       "    <tr>\n",
       "      <th>3</th>\n",
       "      <td>man</td>\n",
       "      <td>choice</td>\n",
       "      <td>comfort</td>\n",
       "      <td>husband</td>\n",
       "      <td>thing</td>\n",
       "      <td>time</td>\n",
       "      <td>daughter</td>\n",
       "      <td>father</td>\n",
       "      <td>gentleman</td>\n",
       "      <td>life</td>\n",
       "    </tr>\n",
       "    <tr>\n",
       "      <th>4</th>\n",
       "      <td>man</td>\n",
       "      <td>time</td>\n",
       "      <td>family</td>\n",
       "      <td>sister</td>\n",
       "      <td>feelings</td>\n",
       "      <td>happiness</td>\n",
       "      <td>home</td>\n",
       "      <td>opinion</td>\n",
       "      <td>day</td>\n",
       "      <td>life</td>\n",
       "    </tr>\n",
       "    <tr>\n",
       "      <th>5</th>\n",
       "      <td>acquaintance</td>\n",
       "      <td>friends</td>\n",
       "      <td>friend</td>\n",
       "      <td>home</td>\n",
       "      <td>family</td>\n",
       "      <td>pause</td>\n",
       "      <td>wish</td>\n",
       "      <td>kind</td>\n",
       "      <td>opinion</td>\n",
       "      <td>years</td>\n",
       "    </tr>\n",
       "    <tr>\n",
       "      <th>6</th>\n",
       "      <td>room</td>\n",
       "      <td>time</td>\n",
       "      <td>countenance</td>\n",
       "      <td>moment</td>\n",
       "      <td>man</td>\n",
       "      <td>mother</td>\n",
       "      <td>letter</td>\n",
       "      <td>day</td>\n",
       "      <td>beauty</td>\n",
       "      <td>way</td>\n",
       "    </tr>\n",
       "    <tr>\n",
       "      <th>7</th>\n",
       "      <td>distance</td>\n",
       "      <td>things</td>\n",
       "      <td>room</td>\n",
       "      <td>people</td>\n",
       "      <td>night</td>\n",
       "      <td>thing</td>\n",
       "      <td>miles</td>\n",
       "      <td>world</td>\n",
       "      <td>time</td>\n",
       "      <td>kind</td>\n",
       "    </tr>\n",
       "    <tr>\n",
       "      <th>8</th>\n",
       "      <td>time</td>\n",
       "      <td>home</td>\n",
       "      <td>rest</td>\n",
       "      <td>sister</td>\n",
       "      <td>heart</td>\n",
       "      <td>truth</td>\n",
       "      <td>necklace</td>\n",
       "      <td>room</td>\n",
       "      <td>people</td>\n",
       "      <td>sorry</td>\n",
       "    </tr>\n",
       "    <tr>\n",
       "      <th>9</th>\n",
       "      <td>place</td>\n",
       "      <td>time</td>\n",
       "      <td>family</td>\n",
       "      <td>sisters</td>\n",
       "      <td>plan</td>\n",
       "      <td>year</td>\n",
       "      <td>house</td>\n",
       "      <td>wife</td>\n",
       "      <td>people</td>\n",
       "      <td>ladies</td>\n",
       "    </tr>\n",
       "    <tr>\n",
       "      <th>10</th>\n",
       "      <td>time</td>\n",
       "      <td>friend</td>\n",
       "      <td>days</td>\n",
       "      <td>pleasure</td>\n",
       "      <td>spirits</td>\n",
       "      <td>visit</td>\n",
       "      <td>day</td>\n",
       "      <td>reason</td>\n",
       "      <td>way</td>\n",
       "      <td>family</td>\n",
       "    </tr>\n",
       "    <tr>\n",
       "      <th>11</th>\n",
       "      <td>oh</td>\n",
       "      <td>time</td>\n",
       "      <td>house</td>\n",
       "      <td>moment</td>\n",
       "      <td>room</td>\n",
       "      <td>theatre</td>\n",
       "      <td>door</td>\n",
       "      <td>sister</td>\n",
       "      <td>man</td>\n",
       "      <td>turn</td>\n",
       "    </tr>\n",
       "    <tr>\n",
       "      <th>12</th>\n",
       "      <td>yes</td>\n",
       "      <td>thing</td>\n",
       "      <td>sister</td>\n",
       "      <td>good</td>\n",
       "      <td>time</td>\n",
       "      <td>months</td>\n",
       "      <td>oh</td>\n",
       "      <td>moments</td>\n",
       "      <td>pleasure</td>\n",
       "      <td>away</td>\n",
       "    </tr>\n",
       "    <tr>\n",
       "      <th>13</th>\n",
       "      <td>look</td>\n",
       "      <td>man</td>\n",
       "      <td>woman</td>\n",
       "      <td>ladies</td>\n",
       "      <td>word</td>\n",
       "      <td>character</td>\n",
       "      <td>oh</td>\n",
       "      <td>sister</td>\n",
       "      <td>kind</td>\n",
       "      <td>family</td>\n",
       "    </tr>\n",
       "    <tr>\n",
       "      <th>14</th>\n",
       "      <td>madam</td>\n",
       "      <td>table</td>\n",
       "      <td>morning</td>\n",
       "      <td>house</td>\n",
       "      <td>servants</td>\n",
       "      <td>said</td>\n",
       "      <td>time</td>\n",
       "      <td>change</td>\n",
       "      <td>hour</td>\n",
       "      <td>subject</td>\n",
       "    </tr>\n",
       "    <tr>\n",
       "      <th>15</th>\n",
       "      <td>answer</td>\n",
       "      <td>time</td>\n",
       "      <td>day</td>\n",
       "      <td>pleasure</td>\n",
       "      <td>feelings</td>\n",
       "      <td>way</td>\n",
       "      <td>mother</td>\n",
       "      <td>oh</td>\n",
       "      <td>mind</td>\n",
       "      <td>word</td>\n",
       "    </tr>\n",
       "    <tr>\n",
       "      <th>16</th>\n",
       "      <td>sir</td>\n",
       "      <td>sisters</td>\n",
       "      <td>care</td>\n",
       "      <td>oh</td>\n",
       "      <td>sister</td>\n",
       "      <td>town</td>\n",
       "      <td>power</td>\n",
       "      <td>men</td>\n",
       "      <td>wonder</td>\n",
       "      <td>cousin</td>\n",
       "    </tr>\n",
       "    <tr>\n",
       "      <th>17</th>\n",
       "      <td>love</td>\n",
       "      <td>girl</td>\n",
       "      <td>sort</td>\n",
       "      <td>moment</td>\n",
       "      <td>dear</td>\n",
       "      <td>world</td>\n",
       "      <td>deal</td>\n",
       "      <td>thing</td>\n",
       "      <td>time</td>\n",
       "      <td>eyes</td>\n",
       "    </tr>\n",
       "    <tr>\n",
       "      <th>18</th>\n",
       "      <td>man</td>\n",
       "      <td>thing</td>\n",
       "      <td>horse</td>\n",
       "      <td>companion</td>\n",
       "      <td>play</td>\n",
       "      <td>friend</td>\n",
       "      <td>elizabeth</td>\n",
       "      <td>conversation</td>\n",
       "      <td>day</td>\n",
       "      <td>world</td>\n",
       "    </tr>\n",
       "    <tr>\n",
       "      <th>19</th>\n",
       "      <td>time</td>\n",
       "      <td>eyes</td>\n",
       "      <td>room</td>\n",
       "      <td>feelings</td>\n",
       "      <td>thing</td>\n",
       "      <td>object</td>\n",
       "      <td>mother</td>\n",
       "      <td>satisfaction</td>\n",
       "      <td>mind</td>\n",
       "      <td>heart</td>\n",
       "    </tr>\n",
       "    <tr>\n",
       "      <th>20</th>\n",
       "      <td>walk</td>\n",
       "      <td>smile</td>\n",
       "      <td>half</td>\n",
       "      <td>time</td>\n",
       "      <td>end</td>\n",
       "      <td>house</td>\n",
       "      <td>attention</td>\n",
       "      <td>place</td>\n",
       "      <td>behaviour</td>\n",
       "      <td>eyes</td>\n",
       "    </tr>\n",
       "    <tr>\n",
       "      <th>21</th>\n",
       "      <td>letter</td>\n",
       "      <td>reply</td>\n",
       "      <td>affection</td>\n",
       "      <td>brother</td>\n",
       "      <td>feelings</td>\n",
       "      <td>reason</td>\n",
       "      <td>head</td>\n",
       "      <td>trouble</td>\n",
       "      <td>oh</td>\n",
       "      <td>morning</td>\n",
       "    </tr>\n",
       "    <tr>\n",
       "      <th>22</th>\n",
       "      <td>dear</td>\n",
       "      <td>ball</td>\n",
       "      <td>place</td>\n",
       "      <td>evening</td>\n",
       "      <td>manner</td>\n",
       "      <td>room</td>\n",
       "      <td>day</td>\n",
       "      <td>aunt</td>\n",
       "      <td>time</td>\n",
       "      <td>hour</td>\n",
       "    </tr>\n",
       "    <tr>\n",
       "      <th>23</th>\n",
       "      <td>aunt</td>\n",
       "      <td>uncle</td>\n",
       "      <td>sister</td>\n",
       "      <td>pleasure</td>\n",
       "      <td>better</td>\n",
       "      <td>time</td>\n",
       "      <td>way</td>\n",
       "      <td>moment</td>\n",
       "      <td>room</td>\n",
       "      <td>did</td>\n",
       "    </tr>\n",
       "    <tr>\n",
       "      <th>24</th>\n",
       "      <td>friend</td>\n",
       "      <td>time</td>\n",
       "      <td>hope</td>\n",
       "      <td>father</td>\n",
       "      <td>day</td>\n",
       "      <td>home</td>\n",
       "      <td>morning</td>\n",
       "      <td>subject</td>\n",
       "      <td>sister</td>\n",
       "      <td>heart</td>\n",
       "    </tr>\n",
       "    <tr>\n",
       "      <th>25</th>\n",
       "      <td>room</td>\n",
       "      <td>uncle</td>\n",
       "      <td>moment</td>\n",
       "      <td>mind</td>\n",
       "      <td>door</td>\n",
       "      <td>brother</td>\n",
       "      <td>sister</td>\n",
       "      <td>house</td>\n",
       "      <td>time</td>\n",
       "      <td>friend</td>\n",
       "    </tr>\n",
       "    <tr>\n",
       "      <th>26</th>\n",
       "      <td>time</td>\n",
       "      <td>friend</td>\n",
       "      <td>day</td>\n",
       "      <td>letter</td>\n",
       "      <td>sister</td>\n",
       "      <td>uncle</td>\n",
       "      <td>father</td>\n",
       "      <td>brother</td>\n",
       "      <td>morning</td>\n",
       "      <td>character</td>\n",
       "    </tr>\n",
       "    <tr>\n",
       "      <th>27</th>\n",
       "      <td>way</td>\n",
       "      <td>house</td>\n",
       "      <td>time</td>\n",
       "      <td>evening</td>\n",
       "      <td>sister</td>\n",
       "      <td>news</td>\n",
       "      <td>days</td>\n",
       "      <td>minutes</td>\n",
       "      <td>pleasure</td>\n",
       "      <td>till</td>\n",
       "    </tr>\n",
       "    <tr>\n",
       "      <th>28</th>\n",
       "      <td>time</td>\n",
       "      <td>day</td>\n",
       "      <td>heart</td>\n",
       "      <td>surprise</td>\n",
       "      <td>word</td>\n",
       "      <td>letter</td>\n",
       "      <td>home</td>\n",
       "      <td>family</td>\n",
       "      <td>subject</td>\n",
       "      <td>sister</td>\n",
       "    </tr>\n",
       "    <tr>\n",
       "      <th>29</th>\n",
       "      <td>father</td>\n",
       "      <td>family</td>\n",
       "      <td>mind</td>\n",
       "      <td>house</td>\n",
       "      <td>attention</td>\n",
       "      <td>fathers</td>\n",
       "      <td>gentlemen</td>\n",
       "      <td>mother</td>\n",
       "      <td>time</td>\n",
       "      <td>subject</td>\n",
       "    </tr>\n",
       "  </tbody>\n",
       "</table>\n",
       "</div>"
      ]
     },
     "metadata": {},
     "execution_count": 17
    }
   ],
   "metadata": {}
  },
  {
   "cell_type": "code",
   "execution_count": 18,
   "source": [
    "TOPICS['label'] = TOPICS.apply(lambda x: str(x.name) + ' ' + ' '.join(x), 1)"
   ],
   "outputs": [],
   "metadata": {}
  },
  {
   "cell_type": "markdown",
   "source": [
    "## Sort Topics by Doc Weight"
   ],
   "metadata": {}
  },
  {
   "cell_type": "code",
   "execution_count": 19,
   "source": [
    "TOPICS['doc_weight_sum'] = THETA.sum()"
   ],
   "outputs": [],
   "metadata": {}
  },
  {
   "cell_type": "code",
   "execution_count": 20,
   "source": [
    "TOPICS.sort_values('doc_weight_sum', ascending=True).plot.barh(y='doc_weight_sum', x='label', figsize=(5,10)) "
   ],
   "outputs": [
    {
     "output_type": "execute_result",
     "data": {
      "text/plain": [
       "<AxesSubplot:ylabel='label'>"
      ]
     },
     "metadata": {},
     "execution_count": 20
    },
    {
     "output_type": "display_data",
     "data": {
      "text/plain": [
       "<Figure size 360x720 with 1 Axes>"
      ],
      "image/svg+xml": "<?xml version=\"1.0\" encoding=\"utf-8\" standalone=\"no\"?>\r\n<!DOCTYPE svg PUBLIC \"-//W3C//DTD SVG 1.1//EN\"\r\n  \"http://www.w3.org/Graphics/SVG/1.1/DTD/svg11.dtd\">\r\n<svg height=\"574.678125pt\" version=\"1.1\" viewBox=\"0 0 707.928803 574.678125\" width=\"707.928803pt\" xmlns=\"http://www.w3.org/2000/svg\" xmlns:xlink=\"http://www.w3.org/1999/xlink\">\r\n <metadata>\r\n  <rdf:RDF xmlns:cc=\"http://creativecommons.org/ns#\" xmlns:dc=\"http://purl.org/dc/elements/1.1/\" xmlns:rdf=\"http://www.w3.org/1999/02/22-rdf-syntax-ns#\">\r\n   <cc:Work>\r\n    <dc:type rdf:resource=\"http://purl.org/dc/dcmitype/StillImage\"/>\r\n    <dc:date>2021-08-12T22:38:35.011040</dc:date>\r\n    <dc:format>image/svg+xml</dc:format>\r\n    <dc:creator>\r\n     <cc:Agent>\r\n      <dc:title>Matplotlib v3.4.2, https://matplotlib.org/</dc:title>\r\n     </cc:Agent>\r\n    </dc:creator>\r\n   </cc:Work>\r\n  </rdf:RDF>\r\n </metadata>\r\n <defs>\r\n  <style type=\"text/css\">*{stroke-linecap:butt;stroke-linejoin:round;}</style>\r\n </defs>\r\n <g id=\"figure_1\">\r\n  <g id=\"patch_1\">\r\n   <path d=\"M 0 574.678125 \r\nL 707.928803 574.678125 \r\nL 707.928803 0 \r\nL 0 0 \r\nz\r\n\" style=\"fill:none;\"/>\r\n  </g>\r\n  <g id=\"axes_1\">\r\n   <g id=\"patch_2\">\r\n    <path d=\"M 418.914063 550.8 \r\nL 697.914062 550.8 \r\nL 697.914062 7.2 \r\nL 418.914063 7.2 \r\nz\r\n\" style=\"fill:#ffffff;\"/>\r\n   </g>\r\n   <g id=\"patch_3\">\r\n    <path clip-path=\"url(#p8cf4f69bcc)\" d=\"M 418.914063 546.27 \r\nL 591.401373 546.27 \r\nL 591.401373 537.21 \r\nL 418.914063 537.21 \r\nz\r\n\" style=\"fill:#1f77b4;\"/>\r\n   </g>\r\n   <g id=\"patch_4\">\r\n    <path clip-path=\"url(#p8cf4f69bcc)\" d=\"M 418.914063 528.15 \r\nL 604.910052 528.15 \r\nL 604.910052 519.09 \r\nL 418.914063 519.09 \r\nz\r\n\" style=\"fill:#1f77b4;\"/>\r\n   </g>\r\n   <g id=\"patch_5\">\r\n    <path clip-path=\"url(#p8cf4f69bcc)\" d=\"M 418.914063 510.03 \r\nL 605.929358 510.03 \r\nL 605.929358 500.97 \r\nL 418.914063 500.97 \r\nz\r\n\" style=\"fill:#1f77b4;\"/>\r\n   </g>\r\n   <g id=\"patch_6\">\r\n    <path clip-path=\"url(#p8cf4f69bcc)\" d=\"M 418.914063 491.91 \r\nL 616.380501 491.91 \r\nL 616.380501 482.85 \r\nL 418.914063 482.85 \r\nz\r\n\" style=\"fill:#1f77b4;\"/>\r\n   </g>\r\n   <g id=\"patch_7\">\r\n    <path clip-path=\"url(#p8cf4f69bcc)\" d=\"M 418.914063 473.79 \r\nL 617.240023 473.79 \r\nL 617.240023 464.73 \r\nL 418.914063 464.73 \r\nz\r\n\" style=\"fill:#1f77b4;\"/>\r\n   </g>\r\n   <g id=\"patch_8\">\r\n    <path clip-path=\"url(#p8cf4f69bcc)\" d=\"M 418.914063 455.67 \r\nL 617.592966 455.67 \r\nL 617.592966 446.61 \r\nL 418.914063 446.61 \r\nz\r\n\" style=\"fill:#1f77b4;\"/>\r\n   </g>\r\n   <g id=\"patch_9\">\r\n    <path clip-path=\"url(#p8cf4f69bcc)\" d=\"M 418.914063 437.55 \r\nL 618.978251 437.55 \r\nL 618.978251 428.49 \r\nL 418.914063 428.49 \r\nz\r\n\" style=\"fill:#1f77b4;\"/>\r\n   </g>\r\n   <g id=\"patch_10\">\r\n    <path clip-path=\"url(#p8cf4f69bcc)\" d=\"M 418.914063 419.43 \r\nL 622.186128 419.43 \r\nL 622.186128 410.37 \r\nL 418.914063 410.37 \r\nz\r\n\" style=\"fill:#1f77b4;\"/>\r\n   </g>\r\n   <g id=\"patch_11\">\r\n    <path clip-path=\"url(#p8cf4f69bcc)\" d=\"M 418.914063 401.31 \r\nL 622.617625 401.31 \r\nL 622.617625 392.25 \r\nL 418.914063 392.25 \r\nz\r\n\" style=\"fill:#1f77b4;\"/>\r\n   </g>\r\n   <g id=\"patch_12\">\r\n    <path clip-path=\"url(#p8cf4f69bcc)\" d=\"M 418.914063 383.19 \r\nL 623.514441 383.19 \r\nL 623.514441 374.13 \r\nL 418.914063 374.13 \r\nz\r\n\" style=\"fill:#1f77b4;\"/>\r\n   </g>\r\n   <g id=\"patch_13\">\r\n    <path clip-path=\"url(#p8cf4f69bcc)\" d=\"M 418.914063 365.07 \r\nL 624.407972 365.07 \r\nL 624.407972 356.01 \r\nL 418.914063 356.01 \r\nz\r\n\" style=\"fill:#1f77b4;\"/>\r\n   </g>\r\n   <g id=\"patch_14\">\r\n    <path clip-path=\"url(#p8cf4f69bcc)\" d=\"M 418.914063 346.95 \r\nL 624.789583 346.95 \r\nL 624.789583 337.89 \r\nL 418.914063 337.89 \r\nz\r\n\" style=\"fill:#1f77b4;\"/>\r\n   </g>\r\n   <g id=\"patch_15\">\r\n    <path clip-path=\"url(#p8cf4f69bcc)\" d=\"M 418.914063 328.83 \r\nL 633.39762 328.83 \r\nL 633.39762 319.77 \r\nL 418.914063 319.77 \r\nz\r\n\" style=\"fill:#1f77b4;\"/>\r\n   </g>\r\n   <g id=\"patch_16\">\r\n    <path clip-path=\"url(#p8cf4f69bcc)\" d=\"M 418.914063 310.71 \r\nL 634.917856 310.71 \r\nL 634.917856 301.65 \r\nL 418.914063 301.65 \r\nz\r\n\" style=\"fill:#1f77b4;\"/>\r\n   </g>\r\n   <g id=\"patch_17\">\r\n    <path clip-path=\"url(#p8cf4f69bcc)\" d=\"M 418.914063 292.59 \r\nL 635.098129 292.59 \r\nL 635.098129 283.53 \r\nL 418.914063 283.53 \r\nz\r\n\" style=\"fill:#1f77b4;\"/>\r\n   </g>\r\n   <g id=\"patch_18\">\r\n    <path clip-path=\"url(#p8cf4f69bcc)\" d=\"M 418.914063 274.47 \r\nL 637.815372 274.47 \r\nL 637.815372 265.41 \r\nL 418.914063 265.41 \r\nz\r\n\" style=\"fill:#1f77b4;\"/>\r\n   </g>\r\n   <g id=\"patch_19\">\r\n    <path clip-path=\"url(#p8cf4f69bcc)\" d=\"M 418.914063 256.35 \r\nL 638.283533 256.35 \r\nL 638.283533 247.29 \r\nL 418.914063 247.29 \r\nz\r\n\" style=\"fill:#1f77b4;\"/>\r\n   </g>\r\n   <g id=\"patch_20\">\r\n    <path clip-path=\"url(#p8cf4f69bcc)\" d=\"M 418.914063 238.23 \r\nL 639.947564 238.23 \r\nL 639.947564 229.17 \r\nL 418.914063 229.17 \r\nz\r\n\" style=\"fill:#1f77b4;\"/>\r\n   </g>\r\n   <g id=\"patch_21\">\r\n    <path clip-path=\"url(#p8cf4f69bcc)\" d=\"M 418.914063 220.11 \r\nL 640.981931 220.11 \r\nL 640.981931 211.05 \r\nL 418.914063 211.05 \r\nz\r\n\" style=\"fill:#1f77b4;\"/>\r\n   </g>\r\n   <g id=\"patch_22\">\r\n    <path clip-path=\"url(#p8cf4f69bcc)\" d=\"M 418.914063 201.99 \r\nL 644.750816 201.99 \r\nL 644.750816 192.93 \r\nL 418.914063 192.93 \r\nz\r\n\" style=\"fill:#1f77b4;\"/>\r\n   </g>\r\n   <g id=\"patch_23\">\r\n    <path clip-path=\"url(#p8cf4f69bcc)\" d=\"M 418.914063 183.87 \r\nL 646.966535 183.87 \r\nL 646.966535 174.81 \r\nL 418.914063 174.81 \r\nz\r\n\" style=\"fill:#1f77b4;\"/>\r\n   </g>\r\n   <g id=\"patch_24\">\r\n    <path clip-path=\"url(#p8cf4f69bcc)\" d=\"M 418.914063 165.75 \r\nL 647.731771 165.75 \r\nL 647.731771 156.69 \r\nL 418.914063 156.69 \r\nz\r\n\" style=\"fill:#1f77b4;\"/>\r\n   </g>\r\n   <g id=\"patch_25\">\r\n    <path clip-path=\"url(#p8cf4f69bcc)\" d=\"M 418.914063 147.63 \r\nL 648.574477 147.63 \r\nL 648.574477 138.57 \r\nL 418.914063 138.57 \r\nz\r\n\" style=\"fill:#1f77b4;\"/>\r\n   </g>\r\n   <g id=\"patch_26\">\r\n    <path clip-path=\"url(#p8cf4f69bcc)\" d=\"M 418.914063 129.51 \r\nL 650.169488 129.51 \r\nL 650.169488 120.45 \r\nL 418.914063 120.45 \r\nz\r\n\" style=\"fill:#1f77b4;\"/>\r\n   </g>\r\n   <g id=\"patch_27\">\r\n    <path clip-path=\"url(#p8cf4f69bcc)\" d=\"M 418.914063 111.39 \r\nL 659.321837 111.39 \r\nL 659.321837 102.33 \r\nL 418.914063 102.33 \r\nz\r\n\" style=\"fill:#1f77b4;\"/>\r\n   </g>\r\n   <g id=\"patch_28\">\r\n    <path clip-path=\"url(#p8cf4f69bcc)\" d=\"M 418.914063 93.27 \r\nL 661.093667 93.27 \r\nL 661.093667 84.21 \r\nL 418.914063 84.21 \r\nz\r\n\" style=\"fill:#1f77b4;\"/>\r\n   </g>\r\n   <g id=\"patch_29\">\r\n    <path clip-path=\"url(#p8cf4f69bcc)\" d=\"M 418.914063 75.15 \r\nL 664.149358 75.15 \r\nL 664.149358 66.09 \r\nL 418.914063 66.09 \r\nz\r\n\" style=\"fill:#1f77b4;\"/>\r\n   </g>\r\n   <g id=\"patch_30\">\r\n    <path clip-path=\"url(#p8cf4f69bcc)\" d=\"M 418.914063 57.03 \r\nL 669.0658 57.03 \r\nL 669.0658 47.97 \r\nL 418.914063 47.97 \r\nz\r\n\" style=\"fill:#1f77b4;\"/>\r\n   </g>\r\n   <g id=\"patch_31\">\r\n    <path clip-path=\"url(#p8cf4f69bcc)\" d=\"M 418.914063 38.91 \r\nL 676.444625 38.91 \r\nL 676.444625 29.85 \r\nL 418.914063 29.85 \r\nz\r\n\" style=\"fill:#1f77b4;\"/>\r\n   </g>\r\n   <g id=\"patch_32\">\r\n    <path clip-path=\"url(#p8cf4f69bcc)\" d=\"M 418.914063 20.79 \r\nL 684.628348 20.79 \r\nL 684.628348 11.73 \r\nL 418.914063 11.73 \r\nz\r\n\" style=\"fill:#1f77b4;\"/>\r\n   </g>\r\n   <g id=\"matplotlib.axis_1\">\r\n    <g id=\"xtick_1\">\r\n     <g id=\"line2d_1\">\r\n      <defs>\r\n       <path d=\"M 0 0 \r\nL 0 3.5 \r\n\" id=\"mecd6a66126\" style=\"stroke:#000000;stroke-width:0.8;\"/>\r\n      </defs>\r\n      <g>\r\n       <use style=\"stroke:#000000;stroke-width:0.8;\" x=\"418.914063\" xlink:href=\"#mecd6a66126\" y=\"550.8\"/>\r\n      </g>\r\n     </g>\r\n     <g id=\"text_1\">\r\n      <!-- 0 -->\r\n      <g transform=\"translate(415.732813 565.398438)scale(0.1 -0.1)\">\r\n       <defs>\r\n        <path d=\"M 2034 4250 \r\nQ 1547 4250 1301 3770 \r\nQ 1056 3291 1056 2328 \r\nQ 1056 1369 1301 889 \r\nQ 1547 409 2034 409 \r\nQ 2525 409 2770 889 \r\nQ 3016 1369 3016 2328 \r\nQ 3016 3291 2770 3770 \r\nQ 2525 4250 2034 4250 \r\nz\r\nM 2034 4750 \r\nQ 2819 4750 3233 4129 \r\nQ 3647 3509 3647 2328 \r\nQ 3647 1150 3233 529 \r\nQ 2819 -91 2034 -91 \r\nQ 1250 -91 836 529 \r\nQ 422 1150 422 2328 \r\nQ 422 3509 836 4129 \r\nQ 1250 4750 2034 4750 \r\nz\r\n\" id=\"DejaVuSans-30\" transform=\"scale(0.015625)\"/>\r\n       </defs>\r\n       <use xlink:href=\"#DejaVuSans-30\"/>\r\n      </g>\r\n     </g>\r\n    </g>\r\n    <g id=\"xtick_2\">\r\n     <g id=\"line2d_2\">\r\n      <g>\r\n       <use style=\"stroke:#000000;stroke-width:0.8;\" x=\"452.947936\" xlink:href=\"#mecd6a66126\" y=\"550.8\"/>\r\n      </g>\r\n     </g>\r\n     <g id=\"text_2\">\r\n      <!-- 25 -->\r\n      <g transform=\"translate(446.585436 565.398438)scale(0.1 -0.1)\">\r\n       <defs>\r\n        <path d=\"M 1228 531 \r\nL 3431 531 \r\nL 3431 0 \r\nL 469 0 \r\nL 469 531 \r\nQ 828 903 1448 1529 \r\nQ 2069 2156 2228 2338 \r\nQ 2531 2678 2651 2914 \r\nQ 2772 3150 2772 3378 \r\nQ 2772 3750 2511 3984 \r\nQ 2250 4219 1831 4219 \r\nQ 1534 4219 1204 4116 \r\nQ 875 4013 500 3803 \r\nL 500 4441 \r\nQ 881 4594 1212 4672 \r\nQ 1544 4750 1819 4750 \r\nQ 2544 4750 2975 4387 \r\nQ 3406 4025 3406 3419 \r\nQ 3406 3131 3298 2873 \r\nQ 3191 2616 2906 2266 \r\nQ 2828 2175 2409 1742 \r\nQ 1991 1309 1228 531 \r\nz\r\n\" id=\"DejaVuSans-32\" transform=\"scale(0.015625)\"/>\r\n        <path d=\"M 691 4666 \r\nL 3169 4666 \r\nL 3169 4134 \r\nL 1269 4134 \r\nL 1269 2991 \r\nQ 1406 3038 1543 3061 \r\nQ 1681 3084 1819 3084 \r\nQ 2600 3084 3056 2656 \r\nQ 3513 2228 3513 1497 \r\nQ 3513 744 3044 326 \r\nQ 2575 -91 1722 -91 \r\nQ 1428 -91 1123 -41 \r\nQ 819 9 494 109 \r\nL 494 744 \r\nQ 775 591 1075 516 \r\nQ 1375 441 1709 441 \r\nQ 2250 441 2565 725 \r\nQ 2881 1009 2881 1497 \r\nQ 2881 1984 2565 2268 \r\nQ 2250 2553 1709 2553 \r\nQ 1456 2553 1204 2497 \r\nQ 953 2441 691 2322 \r\nL 691 4666 \r\nz\r\n\" id=\"DejaVuSans-35\" transform=\"scale(0.015625)\"/>\r\n       </defs>\r\n       <use xlink:href=\"#DejaVuSans-32\"/>\r\n       <use x=\"63.623047\" xlink:href=\"#DejaVuSans-35\"/>\r\n      </g>\r\n     </g>\r\n    </g>\r\n    <g id=\"xtick_3\">\r\n     <g id=\"line2d_3\">\r\n      <g>\r\n       <use style=\"stroke:#000000;stroke-width:0.8;\" x=\"486.98181\" xlink:href=\"#mecd6a66126\" y=\"550.8\"/>\r\n      </g>\r\n     </g>\r\n     <g id=\"text_3\">\r\n      <!-- 50 -->\r\n      <g transform=\"translate(480.61931 565.398438)scale(0.1 -0.1)\">\r\n       <use xlink:href=\"#DejaVuSans-35\"/>\r\n       <use x=\"63.623047\" xlink:href=\"#DejaVuSans-30\"/>\r\n      </g>\r\n     </g>\r\n    </g>\r\n    <g id=\"xtick_4\">\r\n     <g id=\"line2d_4\">\r\n      <g>\r\n       <use style=\"stroke:#000000;stroke-width:0.8;\" x=\"521.015684\" xlink:href=\"#mecd6a66126\" y=\"550.8\"/>\r\n      </g>\r\n     </g>\r\n     <g id=\"text_4\">\r\n      <!-- 75 -->\r\n      <g transform=\"translate(514.653184 565.398438)scale(0.1 -0.1)\">\r\n       <defs>\r\n        <path d=\"M 525 4666 \r\nL 3525 4666 \r\nL 3525 4397 \r\nL 1831 0 \r\nL 1172 0 \r\nL 2766 4134 \r\nL 525 4134 \r\nL 525 4666 \r\nz\r\n\" id=\"DejaVuSans-37\" transform=\"scale(0.015625)\"/>\r\n       </defs>\r\n       <use xlink:href=\"#DejaVuSans-37\"/>\r\n       <use x=\"63.623047\" xlink:href=\"#DejaVuSans-35\"/>\r\n      </g>\r\n     </g>\r\n    </g>\r\n    <g id=\"xtick_5\">\r\n     <g id=\"line2d_5\">\r\n      <g>\r\n       <use style=\"stroke:#000000;stroke-width:0.8;\" x=\"555.049558\" xlink:href=\"#mecd6a66126\" y=\"550.8\"/>\r\n      </g>\r\n     </g>\r\n     <g id=\"text_5\">\r\n      <!-- 100 -->\r\n      <g transform=\"translate(545.505808 565.398438)scale(0.1 -0.1)\">\r\n       <defs>\r\n        <path d=\"M 794 531 \r\nL 1825 531 \r\nL 1825 4091 \r\nL 703 3866 \r\nL 703 4441 \r\nL 1819 4666 \r\nL 2450 4666 \r\nL 2450 531 \r\nL 3481 531 \r\nL 3481 0 \r\nL 794 0 \r\nL 794 531 \r\nz\r\n\" id=\"DejaVuSans-31\" transform=\"scale(0.015625)\"/>\r\n       </defs>\r\n       <use xlink:href=\"#DejaVuSans-31\"/>\r\n       <use x=\"63.623047\" xlink:href=\"#DejaVuSans-30\"/>\r\n       <use x=\"127.246094\" xlink:href=\"#DejaVuSans-30\"/>\r\n      </g>\r\n     </g>\r\n    </g>\r\n    <g id=\"xtick_6\">\r\n     <g id=\"line2d_6\">\r\n      <g>\r\n       <use style=\"stroke:#000000;stroke-width:0.8;\" x=\"589.083432\" xlink:href=\"#mecd6a66126\" y=\"550.8\"/>\r\n      </g>\r\n     </g>\r\n     <g id=\"text_6\">\r\n      <!-- 125 -->\r\n      <g transform=\"translate(579.539682 565.398438)scale(0.1 -0.1)\">\r\n       <use xlink:href=\"#DejaVuSans-31\"/>\r\n       <use x=\"63.623047\" xlink:href=\"#DejaVuSans-32\"/>\r\n       <use x=\"127.246094\" xlink:href=\"#DejaVuSans-35\"/>\r\n      </g>\r\n     </g>\r\n    </g>\r\n    <g id=\"xtick_7\">\r\n     <g id=\"line2d_7\">\r\n      <g>\r\n       <use style=\"stroke:#000000;stroke-width:0.8;\" x=\"623.117305\" xlink:href=\"#mecd6a66126\" y=\"550.8\"/>\r\n      </g>\r\n     </g>\r\n     <g id=\"text_7\">\r\n      <!-- 150 -->\r\n      <g transform=\"translate(613.573555 565.398438)scale(0.1 -0.1)\">\r\n       <use xlink:href=\"#DejaVuSans-31\"/>\r\n       <use x=\"63.623047\" xlink:href=\"#DejaVuSans-35\"/>\r\n       <use x=\"127.246094\" xlink:href=\"#DejaVuSans-30\"/>\r\n      </g>\r\n     </g>\r\n    </g>\r\n    <g id=\"xtick_8\">\r\n     <g id=\"line2d_8\">\r\n      <g>\r\n       <use style=\"stroke:#000000;stroke-width:0.8;\" x=\"657.151179\" xlink:href=\"#mecd6a66126\" y=\"550.8\"/>\r\n      </g>\r\n     </g>\r\n     <g id=\"text_8\">\r\n      <!-- 175 -->\r\n      <g transform=\"translate(647.607429 565.398438)scale(0.1 -0.1)\">\r\n       <use xlink:href=\"#DejaVuSans-31\"/>\r\n       <use x=\"63.623047\" xlink:href=\"#DejaVuSans-37\"/>\r\n       <use x=\"127.246094\" xlink:href=\"#DejaVuSans-35\"/>\r\n      </g>\r\n     </g>\r\n    </g>\r\n    <g id=\"xtick_9\">\r\n     <g id=\"line2d_9\">\r\n      <g>\r\n       <use style=\"stroke:#000000;stroke-width:0.8;\" x=\"691.185053\" xlink:href=\"#mecd6a66126\" y=\"550.8\"/>\r\n      </g>\r\n     </g>\r\n     <g id=\"text_9\">\r\n      <!-- 200 -->\r\n      <g transform=\"translate(681.641303 565.398438)scale(0.1 -0.1)\">\r\n       <use xlink:href=\"#DejaVuSans-32\"/>\r\n       <use x=\"63.623047\" xlink:href=\"#DejaVuSans-30\"/>\r\n       <use x=\"127.246094\" xlink:href=\"#DejaVuSans-30\"/>\r\n      </g>\r\n     </g>\r\n    </g>\r\n   </g>\r\n   <g id=\"matplotlib.axis_2\">\r\n    <g id=\"ytick_1\">\r\n     <g id=\"line2d_10\">\r\n      <defs>\r\n       <path d=\"M 0 0 \r\nL -3.5 0 \r\n\" id=\"m8630bec162\" style=\"stroke:#000000;stroke-width:0.8;\"/>\r\n      </defs>\r\n      <g>\r\n       <use style=\"stroke:#000000;stroke-width:0.8;\" x=\"418.914063\" xlink:href=\"#m8630bec162\" y=\"541.74\"/>\r\n      </g>\r\n     </g>\r\n     <g id=\"text_10\">\r\n      <!-- 17 love girl sort moment dear world deal thing time eyes -->\r\n      <g transform=\"translate(125.621875 545.539219)scale(0.1 -0.1)\">\r\n       <defs>\r\n        <path id=\"DejaVuSans-20\" transform=\"scale(0.015625)\"/>\r\n        <path d=\"M 603 4863 \r\nL 1178 4863 \r\nL 1178 0 \r\nL 603 0 \r\nL 603 4863 \r\nz\r\n\" id=\"DejaVuSans-6c\" transform=\"scale(0.015625)\"/>\r\n        <path d=\"M 1959 3097 \r\nQ 1497 3097 1228 2736 \r\nQ 959 2375 959 1747 \r\nQ 959 1119 1226 758 \r\nQ 1494 397 1959 397 \r\nQ 2419 397 2687 759 \r\nQ 2956 1122 2956 1747 \r\nQ 2956 2369 2687 2733 \r\nQ 2419 3097 1959 3097 \r\nz\r\nM 1959 3584 \r\nQ 2709 3584 3137 3096 \r\nQ 3566 2609 3566 1747 \r\nQ 3566 888 3137 398 \r\nQ 2709 -91 1959 -91 \r\nQ 1206 -91 779 398 \r\nQ 353 888 353 1747 \r\nQ 353 2609 779 3096 \r\nQ 1206 3584 1959 3584 \r\nz\r\n\" id=\"DejaVuSans-6f\" transform=\"scale(0.015625)\"/>\r\n        <path d=\"M 191 3500 \r\nL 800 3500 \r\nL 1894 563 \r\nL 2988 3500 \r\nL 3597 3500 \r\nL 2284 0 \r\nL 1503 0 \r\nL 191 3500 \r\nz\r\n\" id=\"DejaVuSans-76\" transform=\"scale(0.015625)\"/>\r\n        <path d=\"M 3597 1894 \r\nL 3597 1613 \r\nL 953 1613 \r\nQ 991 1019 1311 708 \r\nQ 1631 397 2203 397 \r\nQ 2534 397 2845 478 \r\nQ 3156 559 3463 722 \r\nL 3463 178 \r\nQ 3153 47 2828 -22 \r\nQ 2503 -91 2169 -91 \r\nQ 1331 -91 842 396 \r\nQ 353 884 353 1716 \r\nQ 353 2575 817 3079 \r\nQ 1281 3584 2069 3584 \r\nQ 2775 3584 3186 3129 \r\nQ 3597 2675 3597 1894 \r\nz\r\nM 3022 2063 \r\nQ 3016 2534 2758 2815 \r\nQ 2500 3097 2075 3097 \r\nQ 1594 3097 1305 2825 \r\nQ 1016 2553 972 2059 \r\nL 3022 2063 \r\nz\r\n\" id=\"DejaVuSans-65\" transform=\"scale(0.015625)\"/>\r\n        <path d=\"M 2906 1791 \r\nQ 2906 2416 2648 2759 \r\nQ 2391 3103 1925 3103 \r\nQ 1463 3103 1205 2759 \r\nQ 947 2416 947 1791 \r\nQ 947 1169 1205 825 \r\nQ 1463 481 1925 481 \r\nQ 2391 481 2648 825 \r\nQ 2906 1169 2906 1791 \r\nz\r\nM 3481 434 \r\nQ 3481 -459 3084 -895 \r\nQ 2688 -1331 1869 -1331 \r\nQ 1566 -1331 1297 -1286 \r\nQ 1028 -1241 775 -1147 \r\nL 775 -588 \r\nQ 1028 -725 1275 -790 \r\nQ 1522 -856 1778 -856 \r\nQ 2344 -856 2625 -561 \r\nQ 2906 -266 2906 331 \r\nL 2906 616 \r\nQ 2728 306 2450 153 \r\nQ 2172 0 1784 0 \r\nQ 1141 0 747 490 \r\nQ 353 981 353 1791 \r\nQ 353 2603 747 3093 \r\nQ 1141 3584 1784 3584 \r\nQ 2172 3584 2450 3431 \r\nQ 2728 3278 2906 2969 \r\nL 2906 3500 \r\nL 3481 3500 \r\nL 3481 434 \r\nz\r\n\" id=\"DejaVuSans-67\" transform=\"scale(0.015625)\"/>\r\n        <path d=\"M 603 3500 \r\nL 1178 3500 \r\nL 1178 0 \r\nL 603 0 \r\nL 603 3500 \r\nz\r\nM 603 4863 \r\nL 1178 4863 \r\nL 1178 4134 \r\nL 603 4134 \r\nL 603 4863 \r\nz\r\n\" id=\"DejaVuSans-69\" transform=\"scale(0.015625)\"/>\r\n        <path d=\"M 2631 2963 \r\nQ 2534 3019 2420 3045 \r\nQ 2306 3072 2169 3072 \r\nQ 1681 3072 1420 2755 \r\nQ 1159 2438 1159 1844 \r\nL 1159 0 \r\nL 581 0 \r\nL 581 3500 \r\nL 1159 3500 \r\nL 1159 2956 \r\nQ 1341 3275 1631 3429 \r\nQ 1922 3584 2338 3584 \r\nQ 2397 3584 2469 3576 \r\nQ 2541 3569 2628 3553 \r\nL 2631 2963 \r\nz\r\n\" id=\"DejaVuSans-72\" transform=\"scale(0.015625)\"/>\r\n        <path d=\"M 2834 3397 \r\nL 2834 2853 \r\nQ 2591 2978 2328 3040 \r\nQ 2066 3103 1784 3103 \r\nQ 1356 3103 1142 2972 \r\nQ 928 2841 928 2578 \r\nQ 928 2378 1081 2264 \r\nQ 1234 2150 1697 2047 \r\nL 1894 2003 \r\nQ 2506 1872 2764 1633 \r\nQ 3022 1394 3022 966 \r\nQ 3022 478 2636 193 \r\nQ 2250 -91 1575 -91 \r\nQ 1294 -91 989 -36 \r\nQ 684 19 347 128 \r\nL 347 722 \r\nQ 666 556 975 473 \r\nQ 1284 391 1588 391 \r\nQ 1994 391 2212 530 \r\nQ 2431 669 2431 922 \r\nQ 2431 1156 2273 1281 \r\nQ 2116 1406 1581 1522 \r\nL 1381 1569 \r\nQ 847 1681 609 1914 \r\nQ 372 2147 372 2553 \r\nQ 372 3047 722 3315 \r\nQ 1072 3584 1716 3584 \r\nQ 2034 3584 2315 3537 \r\nQ 2597 3491 2834 3397 \r\nz\r\n\" id=\"DejaVuSans-73\" transform=\"scale(0.015625)\"/>\r\n        <path d=\"M 1172 4494 \r\nL 1172 3500 \r\nL 2356 3500 \r\nL 2356 3053 \r\nL 1172 3053 \r\nL 1172 1153 \r\nQ 1172 725 1289 603 \r\nQ 1406 481 1766 481 \r\nL 2356 481 \r\nL 2356 0 \r\nL 1766 0 \r\nQ 1100 0 847 248 \r\nQ 594 497 594 1153 \r\nL 594 3053 \r\nL 172 3053 \r\nL 172 3500 \r\nL 594 3500 \r\nL 594 4494 \r\nL 1172 4494 \r\nz\r\n\" id=\"DejaVuSans-74\" transform=\"scale(0.015625)\"/>\r\n        <path d=\"M 3328 2828 \r\nQ 3544 3216 3844 3400 \r\nQ 4144 3584 4550 3584 \r\nQ 5097 3584 5394 3201 \r\nQ 5691 2819 5691 2113 \r\nL 5691 0 \r\nL 5113 0 \r\nL 5113 2094 \r\nQ 5113 2597 4934 2840 \r\nQ 4756 3084 4391 3084 \r\nQ 3944 3084 3684 2787 \r\nQ 3425 2491 3425 1978 \r\nL 3425 0 \r\nL 2847 0 \r\nL 2847 2094 \r\nQ 2847 2600 2669 2842 \r\nQ 2491 3084 2119 3084 \r\nQ 1678 3084 1418 2786 \r\nQ 1159 2488 1159 1978 \r\nL 1159 0 \r\nL 581 0 \r\nL 581 3500 \r\nL 1159 3500 \r\nL 1159 2956 \r\nQ 1356 3278 1631 3431 \r\nQ 1906 3584 2284 3584 \r\nQ 2666 3584 2933 3390 \r\nQ 3200 3197 3328 2828 \r\nz\r\n\" id=\"DejaVuSans-6d\" transform=\"scale(0.015625)\"/>\r\n        <path d=\"M 3513 2113 \r\nL 3513 0 \r\nL 2938 0 \r\nL 2938 2094 \r\nQ 2938 2591 2744 2837 \r\nQ 2550 3084 2163 3084 \r\nQ 1697 3084 1428 2787 \r\nQ 1159 2491 1159 1978 \r\nL 1159 0 \r\nL 581 0 \r\nL 581 3500 \r\nL 1159 3500 \r\nL 1159 2956 \r\nQ 1366 3272 1645 3428 \r\nQ 1925 3584 2291 3584 \r\nQ 2894 3584 3203 3211 \r\nQ 3513 2838 3513 2113 \r\nz\r\n\" id=\"DejaVuSans-6e\" transform=\"scale(0.015625)\"/>\r\n        <path d=\"M 2906 2969 \r\nL 2906 4863 \r\nL 3481 4863 \r\nL 3481 0 \r\nL 2906 0 \r\nL 2906 525 \r\nQ 2725 213 2448 61 \r\nQ 2172 -91 1784 -91 \r\nQ 1150 -91 751 415 \r\nQ 353 922 353 1747 \r\nQ 353 2572 751 3078 \r\nQ 1150 3584 1784 3584 \r\nQ 2172 3584 2448 3432 \r\nQ 2725 3281 2906 2969 \r\nz\r\nM 947 1747 \r\nQ 947 1113 1208 752 \r\nQ 1469 391 1925 391 \r\nQ 2381 391 2643 752 \r\nQ 2906 1113 2906 1747 \r\nQ 2906 2381 2643 2742 \r\nQ 2381 3103 1925 3103 \r\nQ 1469 3103 1208 2742 \r\nQ 947 2381 947 1747 \r\nz\r\n\" id=\"DejaVuSans-64\" transform=\"scale(0.015625)\"/>\r\n        <path d=\"M 2194 1759 \r\nQ 1497 1759 1228 1600 \r\nQ 959 1441 959 1056 \r\nQ 959 750 1161 570 \r\nQ 1363 391 1709 391 \r\nQ 2188 391 2477 730 \r\nQ 2766 1069 2766 1631 \r\nL 2766 1759 \r\nL 2194 1759 \r\nz\r\nM 3341 1997 \r\nL 3341 0 \r\nL 2766 0 \r\nL 2766 531 \r\nQ 2569 213 2275 61 \r\nQ 1981 -91 1556 -91 \r\nQ 1019 -91 701 211 \r\nQ 384 513 384 1019 \r\nQ 384 1609 779 1909 \r\nQ 1175 2209 1959 2209 \r\nL 2766 2209 \r\nL 2766 2266 \r\nQ 2766 2663 2505 2880 \r\nQ 2244 3097 1772 3097 \r\nQ 1472 3097 1187 3025 \r\nQ 903 2953 641 2809 \r\nL 641 3341 \r\nQ 956 3463 1253 3523 \r\nQ 1550 3584 1831 3584 \r\nQ 2591 3584 2966 3190 \r\nQ 3341 2797 3341 1997 \r\nz\r\n\" id=\"DejaVuSans-61\" transform=\"scale(0.015625)\"/>\r\n        <path d=\"M 269 3500 \r\nL 844 3500 \r\nL 1563 769 \r\nL 2278 3500 \r\nL 2956 3500 \r\nL 3675 769 \r\nL 4391 3500 \r\nL 4966 3500 \r\nL 4050 0 \r\nL 3372 0 \r\nL 2619 2869 \r\nL 1863 0 \r\nL 1184 0 \r\nL 269 3500 \r\nz\r\n\" id=\"DejaVuSans-77\" transform=\"scale(0.015625)\"/>\r\n        <path d=\"M 3513 2113 \r\nL 3513 0 \r\nL 2938 0 \r\nL 2938 2094 \r\nQ 2938 2591 2744 2837 \r\nQ 2550 3084 2163 3084 \r\nQ 1697 3084 1428 2787 \r\nQ 1159 2491 1159 1978 \r\nL 1159 0 \r\nL 581 0 \r\nL 581 4863 \r\nL 1159 4863 \r\nL 1159 2956 \r\nQ 1366 3272 1645 3428 \r\nQ 1925 3584 2291 3584 \r\nQ 2894 3584 3203 3211 \r\nQ 3513 2838 3513 2113 \r\nz\r\n\" id=\"DejaVuSans-68\" transform=\"scale(0.015625)\"/>\r\n        <path d=\"M 2059 -325 \r\nQ 1816 -950 1584 -1140 \r\nQ 1353 -1331 966 -1331 \r\nL 506 -1331 \r\nL 506 -850 \r\nL 844 -850 \r\nQ 1081 -850 1212 -737 \r\nQ 1344 -625 1503 -206 \r\nL 1606 56 \r\nL 191 3500 \r\nL 800 3500 \r\nL 1894 763 \r\nL 2988 3500 \r\nL 3597 3500 \r\nL 2059 -325 \r\nz\r\n\" id=\"DejaVuSans-79\" transform=\"scale(0.015625)\"/>\r\n       </defs>\r\n       <use xlink:href=\"#DejaVuSans-31\"/>\r\n       <use x=\"63.623047\" xlink:href=\"#DejaVuSans-37\"/>\r\n       <use x=\"127.246094\" xlink:href=\"#DejaVuSans-20\"/>\r\n       <use x=\"159.033203\" xlink:href=\"#DejaVuSans-6c\"/>\r\n       <use x=\"186.816406\" xlink:href=\"#DejaVuSans-6f\"/>\r\n       <use x=\"247.998047\" xlink:href=\"#DejaVuSans-76\"/>\r\n       <use x=\"307.177734\" xlink:href=\"#DejaVuSans-65\"/>\r\n       <use x=\"368.701172\" xlink:href=\"#DejaVuSans-20\"/>\r\n       <use x=\"400.488281\" xlink:href=\"#DejaVuSans-67\"/>\r\n       <use x=\"463.964844\" xlink:href=\"#DejaVuSans-69\"/>\r\n       <use x=\"491.748047\" xlink:href=\"#DejaVuSans-72\"/>\r\n       <use x=\"532.861328\" xlink:href=\"#DejaVuSans-6c\"/>\r\n       <use x=\"560.644531\" xlink:href=\"#DejaVuSans-20\"/>\r\n       <use x=\"592.431641\" xlink:href=\"#DejaVuSans-73\"/>\r\n       <use x=\"644.53125\" xlink:href=\"#DejaVuSans-6f\"/>\r\n       <use x=\"705.712891\" xlink:href=\"#DejaVuSans-72\"/>\r\n       <use x=\"746.826172\" xlink:href=\"#DejaVuSans-74\"/>\r\n       <use x=\"786.035156\" xlink:href=\"#DejaVuSans-20\"/>\r\n       <use x=\"817.822266\" xlink:href=\"#DejaVuSans-6d\"/>\r\n       <use x=\"915.234375\" xlink:href=\"#DejaVuSans-6f\"/>\r\n       <use x=\"976.416016\" xlink:href=\"#DejaVuSans-6d\"/>\r\n       <use x=\"1073.828125\" xlink:href=\"#DejaVuSans-65\"/>\r\n       <use x=\"1135.351562\" xlink:href=\"#DejaVuSans-6e\"/>\r\n       <use x=\"1198.730469\" xlink:href=\"#DejaVuSans-74\"/>\r\n       <use x=\"1237.939453\" xlink:href=\"#DejaVuSans-20\"/>\r\n       <use x=\"1269.726562\" xlink:href=\"#DejaVuSans-64\"/>\r\n       <use x=\"1333.203125\" xlink:href=\"#DejaVuSans-65\"/>\r\n       <use x=\"1394.726562\" xlink:href=\"#DejaVuSans-61\"/>\r\n       <use x=\"1456.005859\" xlink:href=\"#DejaVuSans-72\"/>\r\n       <use x=\"1497.119141\" xlink:href=\"#DejaVuSans-20\"/>\r\n       <use x=\"1528.90625\" xlink:href=\"#DejaVuSans-77\"/>\r\n       <use x=\"1610.693359\" xlink:href=\"#DejaVuSans-6f\"/>\r\n       <use x=\"1671.875\" xlink:href=\"#DejaVuSans-72\"/>\r\n       <use x=\"1712.988281\" xlink:href=\"#DejaVuSans-6c\"/>\r\n       <use x=\"1740.771484\" xlink:href=\"#DejaVuSans-64\"/>\r\n       <use x=\"1804.248047\" xlink:href=\"#DejaVuSans-20\"/>\r\n       <use x=\"1836.035156\" xlink:href=\"#DejaVuSans-64\"/>\r\n       <use x=\"1899.511719\" xlink:href=\"#DejaVuSans-65\"/>\r\n       <use x=\"1961.035156\" xlink:href=\"#DejaVuSans-61\"/>\r\n       <use x=\"2022.314453\" xlink:href=\"#DejaVuSans-6c\"/>\r\n       <use x=\"2050.097656\" xlink:href=\"#DejaVuSans-20\"/>\r\n       <use x=\"2081.884766\" xlink:href=\"#DejaVuSans-74\"/>\r\n       <use x=\"2121.09375\" xlink:href=\"#DejaVuSans-68\"/>\r\n       <use x=\"2184.472656\" xlink:href=\"#DejaVuSans-69\"/>\r\n       <use x=\"2212.255859\" xlink:href=\"#DejaVuSans-6e\"/>\r\n       <use x=\"2275.634766\" xlink:href=\"#DejaVuSans-67\"/>\r\n       <use x=\"2339.111328\" xlink:href=\"#DejaVuSans-20\"/>\r\n       <use x=\"2370.898438\" xlink:href=\"#DejaVuSans-74\"/>\r\n       <use x=\"2410.107422\" xlink:href=\"#DejaVuSans-69\"/>\r\n       <use x=\"2437.890625\" xlink:href=\"#DejaVuSans-6d\"/>\r\n       <use x=\"2535.302734\" xlink:href=\"#DejaVuSans-65\"/>\r\n       <use x=\"2596.826172\" xlink:href=\"#DejaVuSans-20\"/>\r\n       <use x=\"2628.613281\" xlink:href=\"#DejaVuSans-65\"/>\r\n       <use x=\"2690.136719\" xlink:href=\"#DejaVuSans-79\"/>\r\n       <use x=\"2749.316406\" xlink:href=\"#DejaVuSans-65\"/>\r\n       <use x=\"2810.839844\" xlink:href=\"#DejaVuSans-73\"/>\r\n      </g>\r\n     </g>\r\n    </g>\r\n    <g id=\"ytick_2\">\r\n     <g id=\"line2d_11\">\r\n      <g>\r\n       <use style=\"stroke:#000000;stroke-width:0.8;\" x=\"418.914063\" xlink:href=\"#m8630bec162\" y=\"523.62\"/>\r\n      </g>\r\n     </g>\r\n     <g id=\"text_11\">\r\n      <!-- 8 time home rest sister heart truth necklace room people sorry -->\r\n      <g transform=\"translate(95.60625 527.419219)scale(0.1 -0.1)\">\r\n       <defs>\r\n        <path d=\"M 2034 2216 \r\nQ 1584 2216 1326 1975 \r\nQ 1069 1734 1069 1313 \r\nQ 1069 891 1326 650 \r\nQ 1584 409 2034 409 \r\nQ 2484 409 2743 651 \r\nQ 3003 894 3003 1313 \r\nQ 3003 1734 2745 1975 \r\nQ 2488 2216 2034 2216 \r\nz\r\nM 1403 2484 \r\nQ 997 2584 770 2862 \r\nQ 544 3141 544 3541 \r\nQ 544 4100 942 4425 \r\nQ 1341 4750 2034 4750 \r\nQ 2731 4750 3128 4425 \r\nQ 3525 4100 3525 3541 \r\nQ 3525 3141 3298 2862 \r\nQ 3072 2584 2669 2484 \r\nQ 3125 2378 3379 2068 \r\nQ 3634 1759 3634 1313 \r\nQ 3634 634 3220 271 \r\nQ 2806 -91 2034 -91 \r\nQ 1263 -91 848 271 \r\nQ 434 634 434 1313 \r\nQ 434 1759 690 2068 \r\nQ 947 2378 1403 2484 \r\nz\r\nM 1172 3481 \r\nQ 1172 3119 1398 2916 \r\nQ 1625 2713 2034 2713 \r\nQ 2441 2713 2670 2916 \r\nQ 2900 3119 2900 3481 \r\nQ 2900 3844 2670 4047 \r\nQ 2441 4250 2034 4250 \r\nQ 1625 4250 1398 4047 \r\nQ 1172 3844 1172 3481 \r\nz\r\n\" id=\"DejaVuSans-38\" transform=\"scale(0.015625)\"/>\r\n        <path d=\"M 544 1381 \r\nL 544 3500 \r\nL 1119 3500 \r\nL 1119 1403 \r\nQ 1119 906 1312 657 \r\nQ 1506 409 1894 409 \r\nQ 2359 409 2629 706 \r\nQ 2900 1003 2900 1516 \r\nL 2900 3500 \r\nL 3475 3500 \r\nL 3475 0 \r\nL 2900 0 \r\nL 2900 538 \r\nQ 2691 219 2414 64 \r\nQ 2138 -91 1772 -91 \r\nQ 1169 -91 856 284 \r\nQ 544 659 544 1381 \r\nz\r\nM 1991 3584 \r\nL 1991 3584 \r\nz\r\n\" id=\"DejaVuSans-75\" transform=\"scale(0.015625)\"/>\r\n        <path d=\"M 3122 3366 \r\nL 3122 2828 \r\nQ 2878 2963 2633 3030 \r\nQ 2388 3097 2138 3097 \r\nQ 1578 3097 1268 2742 \r\nQ 959 2388 959 1747 \r\nQ 959 1106 1268 751 \r\nQ 1578 397 2138 397 \r\nQ 2388 397 2633 464 \r\nQ 2878 531 3122 666 \r\nL 3122 134 \r\nQ 2881 22 2623 -34 \r\nQ 2366 -91 2075 -91 \r\nQ 1284 -91 818 406 \r\nQ 353 903 353 1747 \r\nQ 353 2603 823 3093 \r\nQ 1294 3584 2113 3584 \r\nQ 2378 3584 2631 3529 \r\nQ 2884 3475 3122 3366 \r\nz\r\n\" id=\"DejaVuSans-63\" transform=\"scale(0.015625)\"/>\r\n        <path d=\"M 581 4863 \r\nL 1159 4863 \r\nL 1159 1991 \r\nL 2875 3500 \r\nL 3609 3500 \r\nL 1753 1863 \r\nL 3688 0 \r\nL 2938 0 \r\nL 1159 1709 \r\nL 1159 0 \r\nL 581 0 \r\nL 581 4863 \r\nz\r\n\" id=\"DejaVuSans-6b\" transform=\"scale(0.015625)\"/>\r\n        <path d=\"M 1159 525 \r\nL 1159 -1331 \r\nL 581 -1331 \r\nL 581 3500 \r\nL 1159 3500 \r\nL 1159 2969 \r\nQ 1341 3281 1617 3432 \r\nQ 1894 3584 2278 3584 \r\nQ 2916 3584 3314 3078 \r\nQ 3713 2572 3713 1747 \r\nQ 3713 922 3314 415 \r\nQ 2916 -91 2278 -91 \r\nQ 1894 -91 1617 61 \r\nQ 1341 213 1159 525 \r\nz\r\nM 3116 1747 \r\nQ 3116 2381 2855 2742 \r\nQ 2594 3103 2138 3103 \r\nQ 1681 3103 1420 2742 \r\nQ 1159 2381 1159 1747 \r\nQ 1159 1113 1420 752 \r\nQ 1681 391 2138 391 \r\nQ 2594 391 2855 752 \r\nQ 3116 1113 3116 1747 \r\nz\r\n\" id=\"DejaVuSans-70\" transform=\"scale(0.015625)\"/>\r\n       </defs>\r\n       <use xlink:href=\"#DejaVuSans-38\"/>\r\n       <use x=\"63.623047\" xlink:href=\"#DejaVuSans-20\"/>\r\n       <use x=\"95.410156\" xlink:href=\"#DejaVuSans-74\"/>\r\n       <use x=\"134.619141\" xlink:href=\"#DejaVuSans-69\"/>\r\n       <use x=\"162.402344\" xlink:href=\"#DejaVuSans-6d\"/>\r\n       <use x=\"259.814453\" xlink:href=\"#DejaVuSans-65\"/>\r\n       <use x=\"321.337891\" xlink:href=\"#DejaVuSans-20\"/>\r\n       <use x=\"353.125\" xlink:href=\"#DejaVuSans-68\"/>\r\n       <use x=\"416.503906\" xlink:href=\"#DejaVuSans-6f\"/>\r\n       <use x=\"477.685547\" xlink:href=\"#DejaVuSans-6d\"/>\r\n       <use x=\"575.097656\" xlink:href=\"#DejaVuSans-65\"/>\r\n       <use x=\"636.621094\" xlink:href=\"#DejaVuSans-20\"/>\r\n       <use x=\"668.408203\" xlink:href=\"#DejaVuSans-72\"/>\r\n       <use x=\"707.271484\" xlink:href=\"#DejaVuSans-65\"/>\r\n       <use x=\"768.794922\" xlink:href=\"#DejaVuSans-73\"/>\r\n       <use x=\"820.894531\" xlink:href=\"#DejaVuSans-74\"/>\r\n       <use x=\"860.103516\" xlink:href=\"#DejaVuSans-20\"/>\r\n       <use x=\"891.890625\" xlink:href=\"#DejaVuSans-73\"/>\r\n       <use x=\"943.990234\" xlink:href=\"#DejaVuSans-69\"/>\r\n       <use x=\"971.773438\" xlink:href=\"#DejaVuSans-73\"/>\r\n       <use x=\"1023.873047\" xlink:href=\"#DejaVuSans-74\"/>\r\n       <use x=\"1063.082031\" xlink:href=\"#DejaVuSans-65\"/>\r\n       <use x=\"1124.605469\" xlink:href=\"#DejaVuSans-72\"/>\r\n       <use x=\"1165.71875\" xlink:href=\"#DejaVuSans-20\"/>\r\n       <use x=\"1197.505859\" xlink:href=\"#DejaVuSans-68\"/>\r\n       <use x=\"1260.884766\" xlink:href=\"#DejaVuSans-65\"/>\r\n       <use x=\"1322.408203\" xlink:href=\"#DejaVuSans-61\"/>\r\n       <use x=\"1383.6875\" xlink:href=\"#DejaVuSans-72\"/>\r\n       <use x=\"1424.800781\" xlink:href=\"#DejaVuSans-74\"/>\r\n       <use x=\"1464.009766\" xlink:href=\"#DejaVuSans-20\"/>\r\n       <use x=\"1495.796875\" xlink:href=\"#DejaVuSans-74\"/>\r\n       <use x=\"1535.005859\" xlink:href=\"#DejaVuSans-72\"/>\r\n       <use x=\"1576.119141\" xlink:href=\"#DejaVuSans-75\"/>\r\n       <use x=\"1639.498047\" xlink:href=\"#DejaVuSans-74\"/>\r\n       <use x=\"1678.707031\" xlink:href=\"#DejaVuSans-68\"/>\r\n       <use x=\"1742.085938\" xlink:href=\"#DejaVuSans-20\"/>\r\n       <use x=\"1773.873047\" xlink:href=\"#DejaVuSans-6e\"/>\r\n       <use x=\"1837.251953\" xlink:href=\"#DejaVuSans-65\"/>\r\n       <use x=\"1898.775391\" xlink:href=\"#DejaVuSans-63\"/>\r\n       <use x=\"1953.755859\" xlink:href=\"#DejaVuSans-6b\"/>\r\n       <use x=\"2011.666016\" xlink:href=\"#DejaVuSans-6c\"/>\r\n       <use x=\"2039.449219\" xlink:href=\"#DejaVuSans-61\"/>\r\n       <use x=\"2100.728516\" xlink:href=\"#DejaVuSans-63\"/>\r\n       <use x=\"2155.708984\" xlink:href=\"#DejaVuSans-65\"/>\r\n       <use x=\"2217.232422\" xlink:href=\"#DejaVuSans-20\"/>\r\n       <use x=\"2249.019531\" xlink:href=\"#DejaVuSans-72\"/>\r\n       <use x=\"2287.882812\" xlink:href=\"#DejaVuSans-6f\"/>\r\n       <use x=\"2349.064453\" xlink:href=\"#DejaVuSans-6f\"/>\r\n       <use x=\"2410.246094\" xlink:href=\"#DejaVuSans-6d\"/>\r\n       <use x=\"2507.658203\" xlink:href=\"#DejaVuSans-20\"/>\r\n       <use x=\"2539.445312\" xlink:href=\"#DejaVuSans-70\"/>\r\n       <use x=\"2602.921875\" xlink:href=\"#DejaVuSans-65\"/>\r\n       <use x=\"2664.445312\" xlink:href=\"#DejaVuSans-6f\"/>\r\n       <use x=\"2725.626953\" xlink:href=\"#DejaVuSans-70\"/>\r\n       <use x=\"2789.103516\" xlink:href=\"#DejaVuSans-6c\"/>\r\n       <use x=\"2816.886719\" xlink:href=\"#DejaVuSans-65\"/>\r\n       <use x=\"2878.410156\" xlink:href=\"#DejaVuSans-20\"/>\r\n       <use x=\"2910.197266\" xlink:href=\"#DejaVuSans-73\"/>\r\n       <use x=\"2962.296875\" xlink:href=\"#DejaVuSans-6f\"/>\r\n       <use x=\"3023.478516\" xlink:href=\"#DejaVuSans-72\"/>\r\n       <use x=\"3062.841797\" xlink:href=\"#DejaVuSans-72\"/>\r\n       <use x=\"3103.955078\" xlink:href=\"#DejaVuSans-79\"/>\r\n      </g>\r\n     </g>\r\n    </g>\r\n    <g id=\"ytick_3\">\r\n     <g id=\"line2d_12\">\r\n      <g>\r\n       <use style=\"stroke:#000000;stroke-width:0.8;\" x=\"418.914063\" xlink:href=\"#m8630bec162\" y=\"505.5\"/>\r\n      </g>\r\n     </g>\r\n     <g id=\"text_12\">\r\n      <!-- 14 madam table morning house servants said time change hour subject -->\r\n      <g transform=\"translate(50.24375 509.299219)scale(0.1 -0.1)\">\r\n       <defs>\r\n        <path d=\"M 2419 4116 \r\nL 825 1625 \r\nL 2419 1625 \r\nL 2419 4116 \r\nz\r\nM 2253 4666 \r\nL 3047 4666 \r\nL 3047 1625 \r\nL 3713 1625 \r\nL 3713 1100 \r\nL 3047 1100 \r\nL 3047 0 \r\nL 2419 0 \r\nL 2419 1100 \r\nL 313 1100 \r\nL 313 1709 \r\nL 2253 4666 \r\nz\r\n\" id=\"DejaVuSans-34\" transform=\"scale(0.015625)\"/>\r\n        <path d=\"M 3116 1747 \r\nQ 3116 2381 2855 2742 \r\nQ 2594 3103 2138 3103 \r\nQ 1681 3103 1420 2742 \r\nQ 1159 2381 1159 1747 \r\nQ 1159 1113 1420 752 \r\nQ 1681 391 2138 391 \r\nQ 2594 391 2855 752 \r\nQ 3116 1113 3116 1747 \r\nz\r\nM 1159 2969 \r\nQ 1341 3281 1617 3432 \r\nQ 1894 3584 2278 3584 \r\nQ 2916 3584 3314 3078 \r\nQ 3713 2572 3713 1747 \r\nQ 3713 922 3314 415 \r\nQ 2916 -91 2278 -91 \r\nQ 1894 -91 1617 61 \r\nQ 1341 213 1159 525 \r\nL 1159 0 \r\nL 581 0 \r\nL 581 4863 \r\nL 1159 4863 \r\nL 1159 2969 \r\nz\r\n\" id=\"DejaVuSans-62\" transform=\"scale(0.015625)\"/>\r\n        <path d=\"M 603 3500 \r\nL 1178 3500 \r\nL 1178 -63 \r\nQ 1178 -731 923 -1031 \r\nQ 669 -1331 103 -1331 \r\nL -116 -1331 \r\nL -116 -844 \r\nL 38 -844 \r\nQ 366 -844 484 -692 \r\nQ 603 -541 603 -63 \r\nL 603 3500 \r\nz\r\nM 603 4863 \r\nL 1178 4863 \r\nL 1178 4134 \r\nL 603 4134 \r\nL 603 4863 \r\nz\r\n\" id=\"DejaVuSans-6a\" transform=\"scale(0.015625)\"/>\r\n       </defs>\r\n       <use xlink:href=\"#DejaVuSans-31\"/>\r\n       <use x=\"63.623047\" xlink:href=\"#DejaVuSans-34\"/>\r\n       <use x=\"127.246094\" xlink:href=\"#DejaVuSans-20\"/>\r\n       <use x=\"159.033203\" xlink:href=\"#DejaVuSans-6d\"/>\r\n       <use x=\"256.445312\" xlink:href=\"#DejaVuSans-61\"/>\r\n       <use x=\"317.724609\" xlink:href=\"#DejaVuSans-64\"/>\r\n       <use x=\"381.201172\" xlink:href=\"#DejaVuSans-61\"/>\r\n       <use x=\"442.480469\" xlink:href=\"#DejaVuSans-6d\"/>\r\n       <use x=\"539.892578\" xlink:href=\"#DejaVuSans-20\"/>\r\n       <use x=\"571.679688\" xlink:href=\"#DejaVuSans-74\"/>\r\n       <use x=\"610.888672\" xlink:href=\"#DejaVuSans-61\"/>\r\n       <use x=\"672.167969\" xlink:href=\"#DejaVuSans-62\"/>\r\n       <use x=\"735.644531\" xlink:href=\"#DejaVuSans-6c\"/>\r\n       <use x=\"763.427734\" xlink:href=\"#DejaVuSans-65\"/>\r\n       <use x=\"824.951172\" xlink:href=\"#DejaVuSans-20\"/>\r\n       <use x=\"856.738281\" xlink:href=\"#DejaVuSans-6d\"/>\r\n       <use x=\"954.150391\" xlink:href=\"#DejaVuSans-6f\"/>\r\n       <use x=\"1015.332031\" xlink:href=\"#DejaVuSans-72\"/>\r\n       <use x=\"1054.695312\" xlink:href=\"#DejaVuSans-6e\"/>\r\n       <use x=\"1118.074219\" xlink:href=\"#DejaVuSans-69\"/>\r\n       <use x=\"1145.857422\" xlink:href=\"#DejaVuSans-6e\"/>\r\n       <use x=\"1209.236328\" xlink:href=\"#DejaVuSans-67\"/>\r\n       <use x=\"1272.712891\" xlink:href=\"#DejaVuSans-20\"/>\r\n       <use x=\"1304.5\" xlink:href=\"#DejaVuSans-68\"/>\r\n       <use x=\"1367.878906\" xlink:href=\"#DejaVuSans-6f\"/>\r\n       <use x=\"1429.060547\" xlink:href=\"#DejaVuSans-75\"/>\r\n       <use x=\"1492.439453\" xlink:href=\"#DejaVuSans-73\"/>\r\n       <use x=\"1544.539062\" xlink:href=\"#DejaVuSans-65\"/>\r\n       <use x=\"1606.0625\" xlink:href=\"#DejaVuSans-20\"/>\r\n       <use x=\"1637.849609\" xlink:href=\"#DejaVuSans-73\"/>\r\n       <use x=\"1689.949219\" xlink:href=\"#DejaVuSans-65\"/>\r\n       <use x=\"1751.472656\" xlink:href=\"#DejaVuSans-72\"/>\r\n       <use x=\"1792.585938\" xlink:href=\"#DejaVuSans-76\"/>\r\n       <use x=\"1851.765625\" xlink:href=\"#DejaVuSans-61\"/>\r\n       <use x=\"1913.044922\" xlink:href=\"#DejaVuSans-6e\"/>\r\n       <use x=\"1976.423828\" xlink:href=\"#DejaVuSans-74\"/>\r\n       <use x=\"2015.632812\" xlink:href=\"#DejaVuSans-73\"/>\r\n       <use x=\"2067.732422\" xlink:href=\"#DejaVuSans-20\"/>\r\n       <use x=\"2099.519531\" xlink:href=\"#DejaVuSans-73\"/>\r\n       <use x=\"2151.619141\" xlink:href=\"#DejaVuSans-61\"/>\r\n       <use x=\"2212.898438\" xlink:href=\"#DejaVuSans-69\"/>\r\n       <use x=\"2240.681641\" xlink:href=\"#DejaVuSans-64\"/>\r\n       <use x=\"2304.158203\" xlink:href=\"#DejaVuSans-20\"/>\r\n       <use x=\"2335.945312\" xlink:href=\"#DejaVuSans-74\"/>\r\n       <use x=\"2375.154297\" xlink:href=\"#DejaVuSans-69\"/>\r\n       <use x=\"2402.9375\" xlink:href=\"#DejaVuSans-6d\"/>\r\n       <use x=\"2500.349609\" xlink:href=\"#DejaVuSans-65\"/>\r\n       <use x=\"2561.873047\" xlink:href=\"#DejaVuSans-20\"/>\r\n       <use x=\"2593.660156\" xlink:href=\"#DejaVuSans-63\"/>\r\n       <use x=\"2648.640625\" xlink:href=\"#DejaVuSans-68\"/>\r\n       <use x=\"2712.019531\" xlink:href=\"#DejaVuSans-61\"/>\r\n       <use x=\"2773.298828\" xlink:href=\"#DejaVuSans-6e\"/>\r\n       <use x=\"2836.677734\" xlink:href=\"#DejaVuSans-67\"/>\r\n       <use x=\"2900.154297\" xlink:href=\"#DejaVuSans-65\"/>\r\n       <use x=\"2961.677734\" xlink:href=\"#DejaVuSans-20\"/>\r\n       <use x=\"2993.464844\" xlink:href=\"#DejaVuSans-68\"/>\r\n       <use x=\"3056.84375\" xlink:href=\"#DejaVuSans-6f\"/>\r\n       <use x=\"3118.025391\" xlink:href=\"#DejaVuSans-75\"/>\r\n       <use x=\"3181.404297\" xlink:href=\"#DejaVuSans-72\"/>\r\n       <use x=\"3222.517578\" xlink:href=\"#DejaVuSans-20\"/>\r\n       <use x=\"3254.304688\" xlink:href=\"#DejaVuSans-73\"/>\r\n       <use x=\"3306.404297\" xlink:href=\"#DejaVuSans-75\"/>\r\n       <use x=\"3369.783203\" xlink:href=\"#DejaVuSans-62\"/>\r\n       <use x=\"3433.259766\" xlink:href=\"#DejaVuSans-6a\"/>\r\n       <use x=\"3461.042969\" xlink:href=\"#DejaVuSans-65\"/>\r\n       <use x=\"3522.566406\" xlink:href=\"#DejaVuSans-63\"/>\r\n       <use x=\"3577.546875\" xlink:href=\"#DejaVuSans-74\"/>\r\n      </g>\r\n     </g>\r\n    </g>\r\n    <g id=\"ytick_4\">\r\n     <g id=\"line2d_13\">\r\n      <g>\r\n       <use style=\"stroke:#000000;stroke-width:0.8;\" x=\"418.914063\" xlink:href=\"#m8630bec162\" y=\"487.38\"/>\r\n      </g>\r\n     </g>\r\n     <g id=\"text_13\">\r\n      <!-- 13 look man woman ladies word character oh sister kind family -->\r\n      <g transform=\"translate(94.073438 491.179219)scale(0.1 -0.1)\">\r\n       <defs>\r\n        <path d=\"M 2597 2516 \r\nQ 3050 2419 3304 2112 \r\nQ 3559 1806 3559 1356 \r\nQ 3559 666 3084 287 \r\nQ 2609 -91 1734 -91 \r\nQ 1441 -91 1130 -33 \r\nQ 819 25 488 141 \r\nL 488 750 \r\nQ 750 597 1062 519 \r\nQ 1375 441 1716 441 \r\nQ 2309 441 2620 675 \r\nQ 2931 909 2931 1356 \r\nQ 2931 1769 2642 2001 \r\nQ 2353 2234 1838 2234 \r\nL 1294 2234 \r\nL 1294 2753 \r\nL 1863 2753 \r\nQ 2328 2753 2575 2939 \r\nQ 2822 3125 2822 3475 \r\nQ 2822 3834 2567 4026 \r\nQ 2313 4219 1838 4219 \r\nQ 1578 4219 1281 4162 \r\nQ 984 4106 628 3988 \r\nL 628 4550 \r\nQ 988 4650 1302 4700 \r\nQ 1616 4750 1894 4750 \r\nQ 2613 4750 3031 4423 \r\nQ 3450 4097 3450 3541 \r\nQ 3450 3153 3228 2886 \r\nQ 3006 2619 2597 2516 \r\nz\r\n\" id=\"DejaVuSans-33\" transform=\"scale(0.015625)\"/>\r\n        <path d=\"M 2375 4863 \r\nL 2375 4384 \r\nL 1825 4384 \r\nQ 1516 4384 1395 4259 \r\nQ 1275 4134 1275 3809 \r\nL 1275 3500 \r\nL 2222 3500 \r\nL 2222 3053 \r\nL 1275 3053 \r\nL 1275 0 \r\nL 697 0 \r\nL 697 3053 \r\nL 147 3053 \r\nL 147 3500 \r\nL 697 3500 \r\nL 697 3744 \r\nQ 697 4328 969 4595 \r\nQ 1241 4863 1831 4863 \r\nL 2375 4863 \r\nz\r\n\" id=\"DejaVuSans-66\" transform=\"scale(0.015625)\"/>\r\n       </defs>\r\n       <use xlink:href=\"#DejaVuSans-31\"/>\r\n       <use x=\"63.623047\" xlink:href=\"#DejaVuSans-33\"/>\r\n       <use x=\"127.246094\" xlink:href=\"#DejaVuSans-20\"/>\r\n       <use x=\"159.033203\" xlink:href=\"#DejaVuSans-6c\"/>\r\n       <use x=\"186.816406\" xlink:href=\"#DejaVuSans-6f\"/>\r\n       <use x=\"247.998047\" xlink:href=\"#DejaVuSans-6f\"/>\r\n       <use x=\"309.179688\" xlink:href=\"#DejaVuSans-6b\"/>\r\n       <use x=\"367.089844\" xlink:href=\"#DejaVuSans-20\"/>\r\n       <use x=\"398.876953\" xlink:href=\"#DejaVuSans-6d\"/>\r\n       <use x=\"496.289062\" xlink:href=\"#DejaVuSans-61\"/>\r\n       <use x=\"557.568359\" xlink:href=\"#DejaVuSans-6e\"/>\r\n       <use x=\"620.947266\" xlink:href=\"#DejaVuSans-20\"/>\r\n       <use x=\"652.734375\" xlink:href=\"#DejaVuSans-77\"/>\r\n       <use x=\"734.521484\" xlink:href=\"#DejaVuSans-6f\"/>\r\n       <use x=\"795.703125\" xlink:href=\"#DejaVuSans-6d\"/>\r\n       <use x=\"893.115234\" xlink:href=\"#DejaVuSans-61\"/>\r\n       <use x=\"954.394531\" xlink:href=\"#DejaVuSans-6e\"/>\r\n       <use x=\"1017.773438\" xlink:href=\"#DejaVuSans-20\"/>\r\n       <use x=\"1049.560547\" xlink:href=\"#DejaVuSans-6c\"/>\r\n       <use x=\"1077.34375\" xlink:href=\"#DejaVuSans-61\"/>\r\n       <use x=\"1138.623047\" xlink:href=\"#DejaVuSans-64\"/>\r\n       <use x=\"1202.099609\" xlink:href=\"#DejaVuSans-69\"/>\r\n       <use x=\"1229.882812\" xlink:href=\"#DejaVuSans-65\"/>\r\n       <use x=\"1291.40625\" xlink:href=\"#DejaVuSans-73\"/>\r\n       <use x=\"1343.505859\" xlink:href=\"#DejaVuSans-20\"/>\r\n       <use x=\"1375.292969\" xlink:href=\"#DejaVuSans-77\"/>\r\n       <use x=\"1457.080078\" xlink:href=\"#DejaVuSans-6f\"/>\r\n       <use x=\"1518.261719\" xlink:href=\"#DejaVuSans-72\"/>\r\n       <use x=\"1557.625\" xlink:href=\"#DejaVuSans-64\"/>\r\n       <use x=\"1621.101562\" xlink:href=\"#DejaVuSans-20\"/>\r\n       <use x=\"1652.888672\" xlink:href=\"#DejaVuSans-63\"/>\r\n       <use x=\"1707.869141\" xlink:href=\"#DejaVuSans-68\"/>\r\n       <use x=\"1771.248047\" xlink:href=\"#DejaVuSans-61\"/>\r\n       <use x=\"1832.527344\" xlink:href=\"#DejaVuSans-72\"/>\r\n       <use x=\"1873.640625\" xlink:href=\"#DejaVuSans-61\"/>\r\n       <use x=\"1934.919922\" xlink:href=\"#DejaVuSans-63\"/>\r\n       <use x=\"1989.900391\" xlink:href=\"#DejaVuSans-74\"/>\r\n       <use x=\"2029.109375\" xlink:href=\"#DejaVuSans-65\"/>\r\n       <use x=\"2090.632812\" xlink:href=\"#DejaVuSans-72\"/>\r\n       <use x=\"2131.746094\" xlink:href=\"#DejaVuSans-20\"/>\r\n       <use x=\"2163.533203\" xlink:href=\"#DejaVuSans-6f\"/>\r\n       <use x=\"2224.714844\" xlink:href=\"#DejaVuSans-68\"/>\r\n       <use x=\"2288.09375\" xlink:href=\"#DejaVuSans-20\"/>\r\n       <use x=\"2319.880859\" xlink:href=\"#DejaVuSans-73\"/>\r\n       <use x=\"2371.980469\" xlink:href=\"#DejaVuSans-69\"/>\r\n       <use x=\"2399.763672\" xlink:href=\"#DejaVuSans-73\"/>\r\n       <use x=\"2451.863281\" xlink:href=\"#DejaVuSans-74\"/>\r\n       <use x=\"2491.072266\" xlink:href=\"#DejaVuSans-65\"/>\r\n       <use x=\"2552.595703\" xlink:href=\"#DejaVuSans-72\"/>\r\n       <use x=\"2593.708984\" xlink:href=\"#DejaVuSans-20\"/>\r\n       <use x=\"2625.496094\" xlink:href=\"#DejaVuSans-6b\"/>\r\n       <use x=\"2683.40625\" xlink:href=\"#DejaVuSans-69\"/>\r\n       <use x=\"2711.189453\" xlink:href=\"#DejaVuSans-6e\"/>\r\n       <use x=\"2774.568359\" xlink:href=\"#DejaVuSans-64\"/>\r\n       <use x=\"2838.044922\" xlink:href=\"#DejaVuSans-20\"/>\r\n       <use x=\"2869.832031\" xlink:href=\"#DejaVuSans-66\"/>\r\n       <use x=\"2905.037109\" xlink:href=\"#DejaVuSans-61\"/>\r\n       <use x=\"2966.316406\" xlink:href=\"#DejaVuSans-6d\"/>\r\n       <use x=\"3063.728516\" xlink:href=\"#DejaVuSans-69\"/>\r\n       <use x=\"3091.511719\" xlink:href=\"#DejaVuSans-6c\"/>\r\n       <use x=\"3119.294922\" xlink:href=\"#DejaVuSans-79\"/>\r\n      </g>\r\n     </g>\r\n    </g>\r\n    <g id=\"ytick_5\">\r\n     <g id=\"line2d_14\">\r\n      <g>\r\n       <use style=\"stroke:#000000;stroke-width:0.8;\" x=\"418.914063\" xlink:href=\"#m8630bec162\" y=\"469.26\"/>\r\n      </g>\r\n     </g>\r\n     <g id=\"text_14\">\r\n      <!-- 27 way house time evening sister news days minutes pleasure till -->\r\n      <g transform=\"translate(81.81875 473.059219)scale(0.1 -0.1)\">\r\n       <use xlink:href=\"#DejaVuSans-32\"/>\r\n       <use x=\"63.623047\" xlink:href=\"#DejaVuSans-37\"/>\r\n       <use x=\"127.246094\" xlink:href=\"#DejaVuSans-20\"/>\r\n       <use x=\"159.033203\" xlink:href=\"#DejaVuSans-77\"/>\r\n       <use x=\"240.820312\" xlink:href=\"#DejaVuSans-61\"/>\r\n       <use x=\"302.099609\" xlink:href=\"#DejaVuSans-79\"/>\r\n       <use x=\"361.279297\" xlink:href=\"#DejaVuSans-20\"/>\r\n       <use x=\"393.066406\" xlink:href=\"#DejaVuSans-68\"/>\r\n       <use x=\"456.445312\" xlink:href=\"#DejaVuSans-6f\"/>\r\n       <use x=\"517.626953\" xlink:href=\"#DejaVuSans-75\"/>\r\n       <use x=\"581.005859\" xlink:href=\"#DejaVuSans-73\"/>\r\n       <use x=\"633.105469\" xlink:href=\"#DejaVuSans-65\"/>\r\n       <use x=\"694.628906\" xlink:href=\"#DejaVuSans-20\"/>\r\n       <use x=\"726.416016\" xlink:href=\"#DejaVuSans-74\"/>\r\n       <use x=\"765.625\" xlink:href=\"#DejaVuSans-69\"/>\r\n       <use x=\"793.408203\" xlink:href=\"#DejaVuSans-6d\"/>\r\n       <use x=\"890.820312\" xlink:href=\"#DejaVuSans-65\"/>\r\n       <use x=\"952.34375\" xlink:href=\"#DejaVuSans-20\"/>\r\n       <use x=\"984.130859\" xlink:href=\"#DejaVuSans-65\"/>\r\n       <use x=\"1045.654297\" xlink:href=\"#DejaVuSans-76\"/>\r\n       <use x=\"1104.833984\" xlink:href=\"#DejaVuSans-65\"/>\r\n       <use x=\"1166.357422\" xlink:href=\"#DejaVuSans-6e\"/>\r\n       <use x=\"1229.736328\" xlink:href=\"#DejaVuSans-69\"/>\r\n       <use x=\"1257.519531\" xlink:href=\"#DejaVuSans-6e\"/>\r\n       <use x=\"1320.898438\" xlink:href=\"#DejaVuSans-67\"/>\r\n       <use x=\"1384.375\" xlink:href=\"#DejaVuSans-20\"/>\r\n       <use x=\"1416.162109\" xlink:href=\"#DejaVuSans-73\"/>\r\n       <use x=\"1468.261719\" xlink:href=\"#DejaVuSans-69\"/>\r\n       <use x=\"1496.044922\" xlink:href=\"#DejaVuSans-73\"/>\r\n       <use x=\"1548.144531\" xlink:href=\"#DejaVuSans-74\"/>\r\n       <use x=\"1587.353516\" xlink:href=\"#DejaVuSans-65\"/>\r\n       <use x=\"1648.876953\" xlink:href=\"#DejaVuSans-72\"/>\r\n       <use x=\"1689.990234\" xlink:href=\"#DejaVuSans-20\"/>\r\n       <use x=\"1721.777344\" xlink:href=\"#DejaVuSans-6e\"/>\r\n       <use x=\"1785.15625\" xlink:href=\"#DejaVuSans-65\"/>\r\n       <use x=\"1846.679688\" xlink:href=\"#DejaVuSans-77\"/>\r\n       <use x=\"1928.466797\" xlink:href=\"#DejaVuSans-73\"/>\r\n       <use x=\"1980.566406\" xlink:href=\"#DejaVuSans-20\"/>\r\n       <use x=\"2012.353516\" xlink:href=\"#DejaVuSans-64\"/>\r\n       <use x=\"2075.830078\" xlink:href=\"#DejaVuSans-61\"/>\r\n       <use x=\"2137.109375\" xlink:href=\"#DejaVuSans-79\"/>\r\n       <use x=\"2196.289062\" xlink:href=\"#DejaVuSans-73\"/>\r\n       <use x=\"2248.388672\" xlink:href=\"#DejaVuSans-20\"/>\r\n       <use x=\"2280.175781\" xlink:href=\"#DejaVuSans-6d\"/>\r\n       <use x=\"2377.587891\" xlink:href=\"#DejaVuSans-69\"/>\r\n       <use x=\"2405.371094\" xlink:href=\"#DejaVuSans-6e\"/>\r\n       <use x=\"2468.75\" xlink:href=\"#DejaVuSans-75\"/>\r\n       <use x=\"2532.128906\" xlink:href=\"#DejaVuSans-74\"/>\r\n       <use x=\"2571.337891\" xlink:href=\"#DejaVuSans-65\"/>\r\n       <use x=\"2632.861328\" xlink:href=\"#DejaVuSans-73\"/>\r\n       <use x=\"2684.960938\" xlink:href=\"#DejaVuSans-20\"/>\r\n       <use x=\"2716.748047\" xlink:href=\"#DejaVuSans-70\"/>\r\n       <use x=\"2780.224609\" xlink:href=\"#DejaVuSans-6c\"/>\r\n       <use x=\"2808.007812\" xlink:href=\"#DejaVuSans-65\"/>\r\n       <use x=\"2869.53125\" xlink:href=\"#DejaVuSans-61\"/>\r\n       <use x=\"2930.810547\" xlink:href=\"#DejaVuSans-73\"/>\r\n       <use x=\"2982.910156\" xlink:href=\"#DejaVuSans-75\"/>\r\n       <use x=\"3046.289062\" xlink:href=\"#DejaVuSans-72\"/>\r\n       <use x=\"3085.152344\" xlink:href=\"#DejaVuSans-65\"/>\r\n       <use x=\"3146.675781\" xlink:href=\"#DejaVuSans-20\"/>\r\n       <use x=\"3178.462891\" xlink:href=\"#DejaVuSans-74\"/>\r\n       <use x=\"3217.671875\" xlink:href=\"#DejaVuSans-69\"/>\r\n       <use x=\"3245.455078\" xlink:href=\"#DejaVuSans-6c\"/>\r\n       <use x=\"3273.238281\" xlink:href=\"#DejaVuSans-6c\"/>\r\n      </g>\r\n     </g>\r\n    </g>\r\n    <g id=\"ytick_6\">\r\n     <g id=\"line2d_15\">\r\n      <g>\r\n       <use style=\"stroke:#000000;stroke-width:0.8;\" x=\"418.914063\" xlink:href=\"#m8630bec162\" y=\"451.14\"/>\r\n      </g>\r\n     </g>\r\n     <g id=\"text_15\">\r\n      <!-- 24 friend time hope father day home morning subject sister heart -->\r\n      <g transform=\"translate(81.820313 454.939219)scale(0.1 -0.1)\">\r\n       <use xlink:href=\"#DejaVuSans-32\"/>\r\n       <use x=\"63.623047\" xlink:href=\"#DejaVuSans-34\"/>\r\n       <use x=\"127.246094\" xlink:href=\"#DejaVuSans-20\"/>\r\n       <use x=\"159.033203\" xlink:href=\"#DejaVuSans-66\"/>\r\n       <use x=\"194.238281\" xlink:href=\"#DejaVuSans-72\"/>\r\n       <use x=\"235.351562\" xlink:href=\"#DejaVuSans-69\"/>\r\n       <use x=\"263.134766\" xlink:href=\"#DejaVuSans-65\"/>\r\n       <use x=\"324.658203\" xlink:href=\"#DejaVuSans-6e\"/>\r\n       <use x=\"388.037109\" xlink:href=\"#DejaVuSans-64\"/>\r\n       <use x=\"451.513672\" xlink:href=\"#DejaVuSans-20\"/>\r\n       <use x=\"483.300781\" xlink:href=\"#DejaVuSans-74\"/>\r\n       <use x=\"522.509766\" xlink:href=\"#DejaVuSans-69\"/>\r\n       <use x=\"550.292969\" xlink:href=\"#DejaVuSans-6d\"/>\r\n       <use x=\"647.705078\" xlink:href=\"#DejaVuSans-65\"/>\r\n       <use x=\"709.228516\" xlink:href=\"#DejaVuSans-20\"/>\r\n       <use x=\"741.015625\" xlink:href=\"#DejaVuSans-68\"/>\r\n       <use x=\"804.394531\" xlink:href=\"#DejaVuSans-6f\"/>\r\n       <use x=\"865.576172\" xlink:href=\"#DejaVuSans-70\"/>\r\n       <use x=\"929.052734\" xlink:href=\"#DejaVuSans-65\"/>\r\n       <use x=\"990.576172\" xlink:href=\"#DejaVuSans-20\"/>\r\n       <use x=\"1022.363281\" xlink:href=\"#DejaVuSans-66\"/>\r\n       <use x=\"1057.568359\" xlink:href=\"#DejaVuSans-61\"/>\r\n       <use x=\"1118.847656\" xlink:href=\"#DejaVuSans-74\"/>\r\n       <use x=\"1158.056641\" xlink:href=\"#DejaVuSans-68\"/>\r\n       <use x=\"1221.435547\" xlink:href=\"#DejaVuSans-65\"/>\r\n       <use x=\"1282.958984\" xlink:href=\"#DejaVuSans-72\"/>\r\n       <use x=\"1324.072266\" xlink:href=\"#DejaVuSans-20\"/>\r\n       <use x=\"1355.859375\" xlink:href=\"#DejaVuSans-64\"/>\r\n       <use x=\"1419.335938\" xlink:href=\"#DejaVuSans-61\"/>\r\n       <use x=\"1480.615234\" xlink:href=\"#DejaVuSans-79\"/>\r\n       <use x=\"1539.794922\" xlink:href=\"#DejaVuSans-20\"/>\r\n       <use x=\"1571.582031\" xlink:href=\"#DejaVuSans-68\"/>\r\n       <use x=\"1634.960938\" xlink:href=\"#DejaVuSans-6f\"/>\r\n       <use x=\"1696.142578\" xlink:href=\"#DejaVuSans-6d\"/>\r\n       <use x=\"1793.554688\" xlink:href=\"#DejaVuSans-65\"/>\r\n       <use x=\"1855.078125\" xlink:href=\"#DejaVuSans-20\"/>\r\n       <use x=\"1886.865234\" xlink:href=\"#DejaVuSans-6d\"/>\r\n       <use x=\"1984.277344\" xlink:href=\"#DejaVuSans-6f\"/>\r\n       <use x=\"2045.458984\" xlink:href=\"#DejaVuSans-72\"/>\r\n       <use x=\"2084.822266\" xlink:href=\"#DejaVuSans-6e\"/>\r\n       <use x=\"2148.201172\" xlink:href=\"#DejaVuSans-69\"/>\r\n       <use x=\"2175.984375\" xlink:href=\"#DejaVuSans-6e\"/>\r\n       <use x=\"2239.363281\" xlink:href=\"#DejaVuSans-67\"/>\r\n       <use x=\"2302.839844\" xlink:href=\"#DejaVuSans-20\"/>\r\n       <use x=\"2334.626953\" xlink:href=\"#DejaVuSans-73\"/>\r\n       <use x=\"2386.726562\" xlink:href=\"#DejaVuSans-75\"/>\r\n       <use x=\"2450.105469\" xlink:href=\"#DejaVuSans-62\"/>\r\n       <use x=\"2513.582031\" xlink:href=\"#DejaVuSans-6a\"/>\r\n       <use x=\"2541.365234\" xlink:href=\"#DejaVuSans-65\"/>\r\n       <use x=\"2602.888672\" xlink:href=\"#DejaVuSans-63\"/>\r\n       <use x=\"2657.869141\" xlink:href=\"#DejaVuSans-74\"/>\r\n       <use x=\"2697.078125\" xlink:href=\"#DejaVuSans-20\"/>\r\n       <use x=\"2728.865234\" xlink:href=\"#DejaVuSans-73\"/>\r\n       <use x=\"2780.964844\" xlink:href=\"#DejaVuSans-69\"/>\r\n       <use x=\"2808.748047\" xlink:href=\"#DejaVuSans-73\"/>\r\n       <use x=\"2860.847656\" xlink:href=\"#DejaVuSans-74\"/>\r\n       <use x=\"2900.056641\" xlink:href=\"#DejaVuSans-65\"/>\r\n       <use x=\"2961.580078\" xlink:href=\"#DejaVuSans-72\"/>\r\n       <use x=\"3002.693359\" xlink:href=\"#DejaVuSans-20\"/>\r\n       <use x=\"3034.480469\" xlink:href=\"#DejaVuSans-68\"/>\r\n       <use x=\"3097.859375\" xlink:href=\"#DejaVuSans-65\"/>\r\n       <use x=\"3159.382812\" xlink:href=\"#DejaVuSans-61\"/>\r\n       <use x=\"3220.662109\" xlink:href=\"#DejaVuSans-72\"/>\r\n       <use x=\"3261.775391\" xlink:href=\"#DejaVuSans-74\"/>\r\n      </g>\r\n     </g>\r\n    </g>\r\n    <g id=\"ytick_7\">\r\n     <g id=\"line2d_16\">\r\n      <g>\r\n       <use style=\"stroke:#000000;stroke-width:0.8;\" x=\"418.914063\" xlink:href=\"#m8630bec162\" y=\"433.02\"/>\r\n      </g>\r\n     </g>\r\n     <g id=\"text_16\">\r\n      <!-- 3 man choice comfort husband thing time daughter father gentleman life -->\r\n      <g transform=\"translate(43.809375 436.819219)scale(0.1 -0.1)\">\r\n       <use xlink:href=\"#DejaVuSans-33\"/>\r\n       <use x=\"63.623047\" xlink:href=\"#DejaVuSans-20\"/>\r\n       <use x=\"95.410156\" xlink:href=\"#DejaVuSans-6d\"/>\r\n       <use x=\"192.822266\" xlink:href=\"#DejaVuSans-61\"/>\r\n       <use x=\"254.101562\" xlink:href=\"#DejaVuSans-6e\"/>\r\n       <use x=\"317.480469\" xlink:href=\"#DejaVuSans-20\"/>\r\n       <use x=\"349.267578\" xlink:href=\"#DejaVuSans-63\"/>\r\n       <use x=\"404.248047\" xlink:href=\"#DejaVuSans-68\"/>\r\n       <use x=\"467.626953\" xlink:href=\"#DejaVuSans-6f\"/>\r\n       <use x=\"528.808594\" xlink:href=\"#DejaVuSans-69\"/>\r\n       <use x=\"556.591797\" xlink:href=\"#DejaVuSans-63\"/>\r\n       <use x=\"611.572266\" xlink:href=\"#DejaVuSans-65\"/>\r\n       <use x=\"673.095703\" xlink:href=\"#DejaVuSans-20\"/>\r\n       <use x=\"704.882812\" xlink:href=\"#DejaVuSans-63\"/>\r\n       <use x=\"759.863281\" xlink:href=\"#DejaVuSans-6f\"/>\r\n       <use x=\"821.044922\" xlink:href=\"#DejaVuSans-6d\"/>\r\n       <use x=\"918.457031\" xlink:href=\"#DejaVuSans-66\"/>\r\n       <use x=\"953.662109\" xlink:href=\"#DejaVuSans-6f\"/>\r\n       <use x=\"1014.84375\" xlink:href=\"#DejaVuSans-72\"/>\r\n       <use x=\"1055.957031\" xlink:href=\"#DejaVuSans-74\"/>\r\n       <use x=\"1095.166016\" xlink:href=\"#DejaVuSans-20\"/>\r\n       <use x=\"1126.953125\" xlink:href=\"#DejaVuSans-68\"/>\r\n       <use x=\"1190.332031\" xlink:href=\"#DejaVuSans-75\"/>\r\n       <use x=\"1253.710938\" xlink:href=\"#DejaVuSans-73\"/>\r\n       <use x=\"1305.810547\" xlink:href=\"#DejaVuSans-62\"/>\r\n       <use x=\"1369.287109\" xlink:href=\"#DejaVuSans-61\"/>\r\n       <use x=\"1430.566406\" xlink:href=\"#DejaVuSans-6e\"/>\r\n       <use x=\"1493.945312\" xlink:href=\"#DejaVuSans-64\"/>\r\n       <use x=\"1557.421875\" xlink:href=\"#DejaVuSans-20\"/>\r\n       <use x=\"1589.208984\" xlink:href=\"#DejaVuSans-74\"/>\r\n       <use x=\"1628.417969\" xlink:href=\"#DejaVuSans-68\"/>\r\n       <use x=\"1691.796875\" xlink:href=\"#DejaVuSans-69\"/>\r\n       <use x=\"1719.580078\" xlink:href=\"#DejaVuSans-6e\"/>\r\n       <use x=\"1782.958984\" xlink:href=\"#DejaVuSans-67\"/>\r\n       <use x=\"1846.435547\" xlink:href=\"#DejaVuSans-20\"/>\r\n       <use x=\"1878.222656\" xlink:href=\"#DejaVuSans-74\"/>\r\n       <use x=\"1917.431641\" xlink:href=\"#DejaVuSans-69\"/>\r\n       <use x=\"1945.214844\" xlink:href=\"#DejaVuSans-6d\"/>\r\n       <use x=\"2042.626953\" xlink:href=\"#DejaVuSans-65\"/>\r\n       <use x=\"2104.150391\" xlink:href=\"#DejaVuSans-20\"/>\r\n       <use x=\"2135.9375\" xlink:href=\"#DejaVuSans-64\"/>\r\n       <use x=\"2199.414062\" xlink:href=\"#DejaVuSans-61\"/>\r\n       <use x=\"2260.693359\" xlink:href=\"#DejaVuSans-75\"/>\r\n       <use x=\"2324.072266\" xlink:href=\"#DejaVuSans-67\"/>\r\n       <use x=\"2387.548828\" xlink:href=\"#DejaVuSans-68\"/>\r\n       <use x=\"2450.927734\" xlink:href=\"#DejaVuSans-74\"/>\r\n       <use x=\"2490.136719\" xlink:href=\"#DejaVuSans-65\"/>\r\n       <use x=\"2551.660156\" xlink:href=\"#DejaVuSans-72\"/>\r\n       <use x=\"2592.773438\" xlink:href=\"#DejaVuSans-20\"/>\r\n       <use x=\"2624.560547\" xlink:href=\"#DejaVuSans-66\"/>\r\n       <use x=\"2659.765625\" xlink:href=\"#DejaVuSans-61\"/>\r\n       <use x=\"2721.044922\" xlink:href=\"#DejaVuSans-74\"/>\r\n       <use x=\"2760.253906\" xlink:href=\"#DejaVuSans-68\"/>\r\n       <use x=\"2823.632812\" xlink:href=\"#DejaVuSans-65\"/>\r\n       <use x=\"2885.15625\" xlink:href=\"#DejaVuSans-72\"/>\r\n       <use x=\"2926.269531\" xlink:href=\"#DejaVuSans-20\"/>\r\n       <use x=\"2958.056641\" xlink:href=\"#DejaVuSans-67\"/>\r\n       <use x=\"3021.533203\" xlink:href=\"#DejaVuSans-65\"/>\r\n       <use x=\"3083.056641\" xlink:href=\"#DejaVuSans-6e\"/>\r\n       <use x=\"3146.435547\" xlink:href=\"#DejaVuSans-74\"/>\r\n       <use x=\"3185.644531\" xlink:href=\"#DejaVuSans-6c\"/>\r\n       <use x=\"3213.427734\" xlink:href=\"#DejaVuSans-65\"/>\r\n       <use x=\"3274.951172\" xlink:href=\"#DejaVuSans-6d\"/>\r\n       <use x=\"3372.363281\" xlink:href=\"#DejaVuSans-61\"/>\r\n       <use x=\"3433.642578\" xlink:href=\"#DejaVuSans-6e\"/>\r\n       <use x=\"3497.021484\" xlink:href=\"#DejaVuSans-20\"/>\r\n       <use x=\"3528.808594\" xlink:href=\"#DejaVuSans-6c\"/>\r\n       <use x=\"3556.591797\" xlink:href=\"#DejaVuSans-69\"/>\r\n       <use x=\"3584.375\" xlink:href=\"#DejaVuSans-66\"/>\r\n       <use x=\"3619.580078\" xlink:href=\"#DejaVuSans-65\"/>\r\n      </g>\r\n     </g>\r\n    </g>\r\n    <g id=\"ytick_8\">\r\n     <g id=\"line2d_17\">\r\n      <g>\r\n       <use style=\"stroke:#000000;stroke-width:0.8;\" x=\"418.914063\" xlink:href=\"#m8630bec162\" y=\"414.9\"/>\r\n      </g>\r\n     </g>\r\n     <g id=\"text_17\">\r\n      <!-- 18 man thing horse companion play friend elizabeth conversation day world -->\r\n      <g transform=\"translate(29.317188 418.699219)scale(0.1 -0.1)\">\r\n       <defs>\r\n        <path d=\"M 353 3500 \r\nL 3084 3500 \r\nL 3084 2975 \r\nL 922 459 \r\nL 3084 459 \r\nL 3084 0 \r\nL 275 0 \r\nL 275 525 \r\nL 2438 3041 \r\nL 353 3041 \r\nL 353 3500 \r\nz\r\n\" id=\"DejaVuSans-7a\" transform=\"scale(0.015625)\"/>\r\n       </defs>\r\n       <use xlink:href=\"#DejaVuSans-31\"/>\r\n       <use x=\"63.623047\" xlink:href=\"#DejaVuSans-38\"/>\r\n       <use x=\"127.246094\" xlink:href=\"#DejaVuSans-20\"/>\r\n       <use x=\"159.033203\" xlink:href=\"#DejaVuSans-6d\"/>\r\n       <use x=\"256.445312\" xlink:href=\"#DejaVuSans-61\"/>\r\n       <use x=\"317.724609\" xlink:href=\"#DejaVuSans-6e\"/>\r\n       <use x=\"381.103516\" xlink:href=\"#DejaVuSans-20\"/>\r\n       <use x=\"412.890625\" xlink:href=\"#DejaVuSans-74\"/>\r\n       <use x=\"452.099609\" xlink:href=\"#DejaVuSans-68\"/>\r\n       <use x=\"515.478516\" xlink:href=\"#DejaVuSans-69\"/>\r\n       <use x=\"543.261719\" xlink:href=\"#DejaVuSans-6e\"/>\r\n       <use x=\"606.640625\" xlink:href=\"#DejaVuSans-67\"/>\r\n       <use x=\"670.117188\" xlink:href=\"#DejaVuSans-20\"/>\r\n       <use x=\"701.904297\" xlink:href=\"#DejaVuSans-68\"/>\r\n       <use x=\"765.283203\" xlink:href=\"#DejaVuSans-6f\"/>\r\n       <use x=\"826.464844\" xlink:href=\"#DejaVuSans-72\"/>\r\n       <use x=\"867.578125\" xlink:href=\"#DejaVuSans-73\"/>\r\n       <use x=\"919.677734\" xlink:href=\"#DejaVuSans-65\"/>\r\n       <use x=\"981.201172\" xlink:href=\"#DejaVuSans-20\"/>\r\n       <use x=\"1012.988281\" xlink:href=\"#DejaVuSans-63\"/>\r\n       <use x=\"1067.96875\" xlink:href=\"#DejaVuSans-6f\"/>\r\n       <use x=\"1129.150391\" xlink:href=\"#DejaVuSans-6d\"/>\r\n       <use x=\"1226.5625\" xlink:href=\"#DejaVuSans-70\"/>\r\n       <use x=\"1290.039062\" xlink:href=\"#DejaVuSans-61\"/>\r\n       <use x=\"1351.318359\" xlink:href=\"#DejaVuSans-6e\"/>\r\n       <use x=\"1414.697266\" xlink:href=\"#DejaVuSans-69\"/>\r\n       <use x=\"1442.480469\" xlink:href=\"#DejaVuSans-6f\"/>\r\n       <use x=\"1503.662109\" xlink:href=\"#DejaVuSans-6e\"/>\r\n       <use x=\"1567.041016\" xlink:href=\"#DejaVuSans-20\"/>\r\n       <use x=\"1598.828125\" xlink:href=\"#DejaVuSans-70\"/>\r\n       <use x=\"1662.304688\" xlink:href=\"#DejaVuSans-6c\"/>\r\n       <use x=\"1690.087891\" xlink:href=\"#DejaVuSans-61\"/>\r\n       <use x=\"1751.367188\" xlink:href=\"#DejaVuSans-79\"/>\r\n       <use x=\"1810.546875\" xlink:href=\"#DejaVuSans-20\"/>\r\n       <use x=\"1842.333984\" xlink:href=\"#DejaVuSans-66\"/>\r\n       <use x=\"1877.539062\" xlink:href=\"#DejaVuSans-72\"/>\r\n       <use x=\"1918.652344\" xlink:href=\"#DejaVuSans-69\"/>\r\n       <use x=\"1946.435547\" xlink:href=\"#DejaVuSans-65\"/>\r\n       <use x=\"2007.958984\" xlink:href=\"#DejaVuSans-6e\"/>\r\n       <use x=\"2071.337891\" xlink:href=\"#DejaVuSans-64\"/>\r\n       <use x=\"2134.814453\" xlink:href=\"#DejaVuSans-20\"/>\r\n       <use x=\"2166.601562\" xlink:href=\"#DejaVuSans-65\"/>\r\n       <use x=\"2228.125\" xlink:href=\"#DejaVuSans-6c\"/>\r\n       <use x=\"2255.908203\" xlink:href=\"#DejaVuSans-69\"/>\r\n       <use x=\"2283.691406\" xlink:href=\"#DejaVuSans-7a\"/>\r\n       <use x=\"2336.181641\" xlink:href=\"#DejaVuSans-61\"/>\r\n       <use x=\"2397.460938\" xlink:href=\"#DejaVuSans-62\"/>\r\n       <use x=\"2460.9375\" xlink:href=\"#DejaVuSans-65\"/>\r\n       <use x=\"2522.460938\" xlink:href=\"#DejaVuSans-74\"/>\r\n       <use x=\"2561.669922\" xlink:href=\"#DejaVuSans-68\"/>\r\n       <use x=\"2625.048828\" xlink:href=\"#DejaVuSans-20\"/>\r\n       <use x=\"2656.835938\" xlink:href=\"#DejaVuSans-63\"/>\r\n       <use x=\"2711.816406\" xlink:href=\"#DejaVuSans-6f\"/>\r\n       <use x=\"2772.998047\" xlink:href=\"#DejaVuSans-6e\"/>\r\n       <use x=\"2836.376953\" xlink:href=\"#DejaVuSans-76\"/>\r\n       <use x=\"2895.556641\" xlink:href=\"#DejaVuSans-65\"/>\r\n       <use x=\"2957.080078\" xlink:href=\"#DejaVuSans-72\"/>\r\n       <use x=\"2998.193359\" xlink:href=\"#DejaVuSans-73\"/>\r\n       <use x=\"3050.292969\" xlink:href=\"#DejaVuSans-61\"/>\r\n       <use x=\"3111.572266\" xlink:href=\"#DejaVuSans-74\"/>\r\n       <use x=\"3150.78125\" xlink:href=\"#DejaVuSans-69\"/>\r\n       <use x=\"3178.564453\" xlink:href=\"#DejaVuSans-6f\"/>\r\n       <use x=\"3239.746094\" xlink:href=\"#DejaVuSans-6e\"/>\r\n       <use x=\"3303.125\" xlink:href=\"#DejaVuSans-20\"/>\r\n       <use x=\"3334.912109\" xlink:href=\"#DejaVuSans-64\"/>\r\n       <use x=\"3398.388672\" xlink:href=\"#DejaVuSans-61\"/>\r\n       <use x=\"3459.667969\" xlink:href=\"#DejaVuSans-79\"/>\r\n       <use x=\"3518.847656\" xlink:href=\"#DejaVuSans-20\"/>\r\n       <use x=\"3550.634766\" xlink:href=\"#DejaVuSans-77\"/>\r\n       <use x=\"3632.421875\" xlink:href=\"#DejaVuSans-6f\"/>\r\n       <use x=\"3693.603516\" xlink:href=\"#DejaVuSans-72\"/>\r\n       <use x=\"3734.716797\" xlink:href=\"#DejaVuSans-6c\"/>\r\n       <use x=\"3762.5\" xlink:href=\"#DejaVuSans-64\"/>\r\n      </g>\r\n     </g>\r\n    </g>\r\n    <g id=\"ytick_9\">\r\n     <g id=\"line2d_18\">\r\n      <g>\r\n       <use style=\"stroke:#000000;stroke-width:0.8;\" x=\"418.914063\" xlink:href=\"#m8630bec162\" y=\"396.78\"/>\r\n      </g>\r\n     </g>\r\n     <g id=\"text_18\">\r\n      <!-- 1 time day party pleasure house question family hour dinner morning -->\r\n      <g transform=\"translate(62.571875 400.579219)scale(0.1 -0.1)\">\r\n       <defs>\r\n        <path d=\"M 947 1747 \r\nQ 947 1113 1208 752 \r\nQ 1469 391 1925 391 \r\nQ 2381 391 2643 752 \r\nQ 2906 1113 2906 1747 \r\nQ 2906 2381 2643 2742 \r\nQ 2381 3103 1925 3103 \r\nQ 1469 3103 1208 2742 \r\nQ 947 2381 947 1747 \r\nz\r\nM 2906 525 \r\nQ 2725 213 2448 61 \r\nQ 2172 -91 1784 -91 \r\nQ 1150 -91 751 415 \r\nQ 353 922 353 1747 \r\nQ 353 2572 751 3078 \r\nQ 1150 3584 1784 3584 \r\nQ 2172 3584 2448 3432 \r\nQ 2725 3281 2906 2969 \r\nL 2906 3500 \r\nL 3481 3500 \r\nL 3481 -1331 \r\nL 2906 -1331 \r\nL 2906 525 \r\nz\r\n\" id=\"DejaVuSans-71\" transform=\"scale(0.015625)\"/>\r\n       </defs>\r\n       <use xlink:href=\"#DejaVuSans-31\"/>\r\n       <use x=\"63.623047\" xlink:href=\"#DejaVuSans-20\"/>\r\n       <use x=\"95.410156\" xlink:href=\"#DejaVuSans-74\"/>\r\n       <use x=\"134.619141\" xlink:href=\"#DejaVuSans-69\"/>\r\n       <use x=\"162.402344\" xlink:href=\"#DejaVuSans-6d\"/>\r\n       <use x=\"259.814453\" xlink:href=\"#DejaVuSans-65\"/>\r\n       <use x=\"321.337891\" xlink:href=\"#DejaVuSans-20\"/>\r\n       <use x=\"353.125\" xlink:href=\"#DejaVuSans-64\"/>\r\n       <use x=\"416.601562\" xlink:href=\"#DejaVuSans-61\"/>\r\n       <use x=\"477.880859\" xlink:href=\"#DejaVuSans-79\"/>\r\n       <use x=\"537.060547\" xlink:href=\"#DejaVuSans-20\"/>\r\n       <use x=\"568.847656\" xlink:href=\"#DejaVuSans-70\"/>\r\n       <use x=\"632.324219\" xlink:href=\"#DejaVuSans-61\"/>\r\n       <use x=\"693.603516\" xlink:href=\"#DejaVuSans-72\"/>\r\n       <use x=\"734.716797\" xlink:href=\"#DejaVuSans-74\"/>\r\n       <use x=\"773.925781\" xlink:href=\"#DejaVuSans-79\"/>\r\n       <use x=\"833.105469\" xlink:href=\"#DejaVuSans-20\"/>\r\n       <use x=\"864.892578\" xlink:href=\"#DejaVuSans-70\"/>\r\n       <use x=\"928.369141\" xlink:href=\"#DejaVuSans-6c\"/>\r\n       <use x=\"956.152344\" xlink:href=\"#DejaVuSans-65\"/>\r\n       <use x=\"1017.675781\" xlink:href=\"#DejaVuSans-61\"/>\r\n       <use x=\"1078.955078\" xlink:href=\"#DejaVuSans-73\"/>\r\n       <use x=\"1131.054688\" xlink:href=\"#DejaVuSans-75\"/>\r\n       <use x=\"1194.433594\" xlink:href=\"#DejaVuSans-72\"/>\r\n       <use x=\"1233.296875\" xlink:href=\"#DejaVuSans-65\"/>\r\n       <use x=\"1294.820312\" xlink:href=\"#DejaVuSans-20\"/>\r\n       <use x=\"1326.607422\" xlink:href=\"#DejaVuSans-68\"/>\r\n       <use x=\"1389.986328\" xlink:href=\"#DejaVuSans-6f\"/>\r\n       <use x=\"1451.167969\" xlink:href=\"#DejaVuSans-75\"/>\r\n       <use x=\"1514.546875\" xlink:href=\"#DejaVuSans-73\"/>\r\n       <use x=\"1566.646484\" xlink:href=\"#DejaVuSans-65\"/>\r\n       <use x=\"1628.169922\" xlink:href=\"#DejaVuSans-20\"/>\r\n       <use x=\"1659.957031\" xlink:href=\"#DejaVuSans-71\"/>\r\n       <use x=\"1723.433594\" xlink:href=\"#DejaVuSans-75\"/>\r\n       <use x=\"1786.8125\" xlink:href=\"#DejaVuSans-65\"/>\r\n       <use x=\"1848.335938\" xlink:href=\"#DejaVuSans-73\"/>\r\n       <use x=\"1900.435547\" xlink:href=\"#DejaVuSans-74\"/>\r\n       <use x=\"1939.644531\" xlink:href=\"#DejaVuSans-69\"/>\r\n       <use x=\"1967.427734\" xlink:href=\"#DejaVuSans-6f\"/>\r\n       <use x=\"2028.609375\" xlink:href=\"#DejaVuSans-6e\"/>\r\n       <use x=\"2091.988281\" xlink:href=\"#DejaVuSans-20\"/>\r\n       <use x=\"2123.775391\" xlink:href=\"#DejaVuSans-66\"/>\r\n       <use x=\"2158.980469\" xlink:href=\"#DejaVuSans-61\"/>\r\n       <use x=\"2220.259766\" xlink:href=\"#DejaVuSans-6d\"/>\r\n       <use x=\"2317.671875\" xlink:href=\"#DejaVuSans-69\"/>\r\n       <use x=\"2345.455078\" xlink:href=\"#DejaVuSans-6c\"/>\r\n       <use x=\"2373.238281\" xlink:href=\"#DejaVuSans-79\"/>\r\n       <use x=\"2432.417969\" xlink:href=\"#DejaVuSans-20\"/>\r\n       <use x=\"2464.205078\" xlink:href=\"#DejaVuSans-68\"/>\r\n       <use x=\"2527.583984\" xlink:href=\"#DejaVuSans-6f\"/>\r\n       <use x=\"2588.765625\" xlink:href=\"#DejaVuSans-75\"/>\r\n       <use x=\"2652.144531\" xlink:href=\"#DejaVuSans-72\"/>\r\n       <use x=\"2693.257812\" xlink:href=\"#DejaVuSans-20\"/>\r\n       <use x=\"2725.044922\" xlink:href=\"#DejaVuSans-64\"/>\r\n       <use x=\"2788.521484\" xlink:href=\"#DejaVuSans-69\"/>\r\n       <use x=\"2816.304688\" xlink:href=\"#DejaVuSans-6e\"/>\r\n       <use x=\"2879.683594\" xlink:href=\"#DejaVuSans-6e\"/>\r\n       <use x=\"2943.0625\" xlink:href=\"#DejaVuSans-65\"/>\r\n       <use x=\"3004.585938\" xlink:href=\"#DejaVuSans-72\"/>\r\n       <use x=\"3045.699219\" xlink:href=\"#DejaVuSans-20\"/>\r\n       <use x=\"3077.486328\" xlink:href=\"#DejaVuSans-6d\"/>\r\n       <use x=\"3174.898438\" xlink:href=\"#DejaVuSans-6f\"/>\r\n       <use x=\"3236.080078\" xlink:href=\"#DejaVuSans-72\"/>\r\n       <use x=\"3275.443359\" xlink:href=\"#DejaVuSans-6e\"/>\r\n       <use x=\"3338.822266\" xlink:href=\"#DejaVuSans-69\"/>\r\n       <use x=\"3366.605469\" xlink:href=\"#DejaVuSans-6e\"/>\r\n       <use x=\"3429.984375\" xlink:href=\"#DejaVuSans-67\"/>\r\n      </g>\r\n     </g>\r\n    </g>\r\n    <g id=\"ytick_10\">\r\n     <g id=\"line2d_19\">\r\n      <g>\r\n       <use style=\"stroke:#000000;stroke-width:0.8;\" x=\"418.914063\" xlink:href=\"#m8630bec162\" y=\"378.66\"/>\r\n      </g>\r\n     </g>\r\n     <g id=\"text_19\">\r\n      <!-- 19 time eyes room feelings thing object mother satisfaction mind heart -->\r\n      <g transform=\"translate(53.917188 382.459219)scale(0.1 -0.1)\">\r\n       <defs>\r\n        <path d=\"M 703 97 \r\nL 703 672 \r\nQ 941 559 1184 500 \r\nQ 1428 441 1663 441 \r\nQ 2288 441 2617 861 \r\nQ 2947 1281 2994 2138 \r\nQ 2813 1869 2534 1725 \r\nQ 2256 1581 1919 1581 \r\nQ 1219 1581 811 2004 \r\nQ 403 2428 403 3163 \r\nQ 403 3881 828 4315 \r\nQ 1253 4750 1959 4750 \r\nQ 2769 4750 3195 4129 \r\nQ 3622 3509 3622 2328 \r\nQ 3622 1225 3098 567 \r\nQ 2575 -91 1691 -91 \r\nQ 1453 -91 1209 -44 \r\nQ 966 3 703 97 \r\nz\r\nM 1959 2075 \r\nQ 2384 2075 2632 2365 \r\nQ 2881 2656 2881 3163 \r\nQ 2881 3666 2632 3958 \r\nQ 2384 4250 1959 4250 \r\nQ 1534 4250 1286 3958 \r\nQ 1038 3666 1038 3163 \r\nQ 1038 2656 1286 2365 \r\nQ 1534 2075 1959 2075 \r\nz\r\n\" id=\"DejaVuSans-39\" transform=\"scale(0.015625)\"/>\r\n       </defs>\r\n       <use xlink:href=\"#DejaVuSans-31\"/>\r\n       <use x=\"63.623047\" xlink:href=\"#DejaVuSans-39\"/>\r\n       <use x=\"127.246094\" xlink:href=\"#DejaVuSans-20\"/>\r\n       <use x=\"159.033203\" xlink:href=\"#DejaVuSans-74\"/>\r\n       <use x=\"198.242188\" xlink:href=\"#DejaVuSans-69\"/>\r\n       <use x=\"226.025391\" xlink:href=\"#DejaVuSans-6d\"/>\r\n       <use x=\"323.4375\" xlink:href=\"#DejaVuSans-65\"/>\r\n       <use x=\"384.960938\" xlink:href=\"#DejaVuSans-20\"/>\r\n       <use x=\"416.748047\" xlink:href=\"#DejaVuSans-65\"/>\r\n       <use x=\"478.271484\" xlink:href=\"#DejaVuSans-79\"/>\r\n       <use x=\"537.451172\" xlink:href=\"#DejaVuSans-65\"/>\r\n       <use x=\"598.974609\" xlink:href=\"#DejaVuSans-73\"/>\r\n       <use x=\"651.074219\" xlink:href=\"#DejaVuSans-20\"/>\r\n       <use x=\"682.861328\" xlink:href=\"#DejaVuSans-72\"/>\r\n       <use x=\"721.724609\" xlink:href=\"#DejaVuSans-6f\"/>\r\n       <use x=\"782.90625\" xlink:href=\"#DejaVuSans-6f\"/>\r\n       <use x=\"844.087891\" xlink:href=\"#DejaVuSans-6d\"/>\r\n       <use x=\"941.5\" xlink:href=\"#DejaVuSans-20\"/>\r\n       <use x=\"973.287109\" xlink:href=\"#DejaVuSans-66\"/>\r\n       <use x=\"1008.492188\" xlink:href=\"#DejaVuSans-65\"/>\r\n       <use x=\"1070.015625\" xlink:href=\"#DejaVuSans-65\"/>\r\n       <use x=\"1131.539062\" xlink:href=\"#DejaVuSans-6c\"/>\r\n       <use x=\"1159.322266\" xlink:href=\"#DejaVuSans-69\"/>\r\n       <use x=\"1187.105469\" xlink:href=\"#DejaVuSans-6e\"/>\r\n       <use x=\"1250.484375\" xlink:href=\"#DejaVuSans-67\"/>\r\n       <use x=\"1313.960938\" xlink:href=\"#DejaVuSans-73\"/>\r\n       <use x=\"1366.060547\" xlink:href=\"#DejaVuSans-20\"/>\r\n       <use x=\"1397.847656\" xlink:href=\"#DejaVuSans-74\"/>\r\n       <use x=\"1437.056641\" xlink:href=\"#DejaVuSans-68\"/>\r\n       <use x=\"1500.435547\" xlink:href=\"#DejaVuSans-69\"/>\r\n       <use x=\"1528.21875\" xlink:href=\"#DejaVuSans-6e\"/>\r\n       <use x=\"1591.597656\" xlink:href=\"#DejaVuSans-67\"/>\r\n       <use x=\"1655.074219\" xlink:href=\"#DejaVuSans-20\"/>\r\n       <use x=\"1686.861328\" xlink:href=\"#DejaVuSans-6f\"/>\r\n       <use x=\"1748.042969\" xlink:href=\"#DejaVuSans-62\"/>\r\n       <use x=\"1811.519531\" xlink:href=\"#DejaVuSans-6a\"/>\r\n       <use x=\"1839.302734\" xlink:href=\"#DejaVuSans-65\"/>\r\n       <use x=\"1900.826172\" xlink:href=\"#DejaVuSans-63\"/>\r\n       <use x=\"1955.806641\" xlink:href=\"#DejaVuSans-74\"/>\r\n       <use x=\"1995.015625\" xlink:href=\"#DejaVuSans-20\"/>\r\n       <use x=\"2026.802734\" xlink:href=\"#DejaVuSans-6d\"/>\r\n       <use x=\"2124.214844\" xlink:href=\"#DejaVuSans-6f\"/>\r\n       <use x=\"2185.396484\" xlink:href=\"#DejaVuSans-74\"/>\r\n       <use x=\"2224.605469\" xlink:href=\"#DejaVuSans-68\"/>\r\n       <use x=\"2287.984375\" xlink:href=\"#DejaVuSans-65\"/>\r\n       <use x=\"2349.507812\" xlink:href=\"#DejaVuSans-72\"/>\r\n       <use x=\"2390.621094\" xlink:href=\"#DejaVuSans-20\"/>\r\n       <use x=\"2422.408203\" xlink:href=\"#DejaVuSans-73\"/>\r\n       <use x=\"2474.507812\" xlink:href=\"#DejaVuSans-61\"/>\r\n       <use x=\"2535.787109\" xlink:href=\"#DejaVuSans-74\"/>\r\n       <use x=\"2574.996094\" xlink:href=\"#DejaVuSans-69\"/>\r\n       <use x=\"2602.779297\" xlink:href=\"#DejaVuSans-73\"/>\r\n       <use x=\"2654.878906\" xlink:href=\"#DejaVuSans-66\"/>\r\n       <use x=\"2690.083984\" xlink:href=\"#DejaVuSans-61\"/>\r\n       <use x=\"2751.363281\" xlink:href=\"#DejaVuSans-63\"/>\r\n       <use x=\"2806.34375\" xlink:href=\"#DejaVuSans-74\"/>\r\n       <use x=\"2845.552734\" xlink:href=\"#DejaVuSans-69\"/>\r\n       <use x=\"2873.335938\" xlink:href=\"#DejaVuSans-6f\"/>\r\n       <use x=\"2934.517578\" xlink:href=\"#DejaVuSans-6e\"/>\r\n       <use x=\"2997.896484\" xlink:href=\"#DejaVuSans-20\"/>\r\n       <use x=\"3029.683594\" xlink:href=\"#DejaVuSans-6d\"/>\r\n       <use x=\"3127.095703\" xlink:href=\"#DejaVuSans-69\"/>\r\n       <use x=\"3154.878906\" xlink:href=\"#DejaVuSans-6e\"/>\r\n       <use x=\"3218.257812\" xlink:href=\"#DejaVuSans-64\"/>\r\n       <use x=\"3281.734375\" xlink:href=\"#DejaVuSans-20\"/>\r\n       <use x=\"3313.521484\" xlink:href=\"#DejaVuSans-68\"/>\r\n       <use x=\"3376.900391\" xlink:href=\"#DejaVuSans-65\"/>\r\n       <use x=\"3438.423828\" xlink:href=\"#DejaVuSans-61\"/>\r\n       <use x=\"3499.703125\" xlink:href=\"#DejaVuSans-72\"/>\r\n       <use x=\"3540.816406\" xlink:href=\"#DejaVuSans-74\"/>\r\n      </g>\r\n     </g>\r\n    </g>\r\n    <g id=\"ytick_11\">\r\n     <g id=\"line2d_20\">\r\n      <g>\r\n       <use style=\"stroke:#000000;stroke-width:0.8;\" x=\"418.914063\" xlink:href=\"#m8630bec162\" y=\"360.54\"/>\r\n      </g>\r\n     </g>\r\n     <g id=\"text_20\">\r\n      <!-- 22 dear ball place evening manner room day aunt time hour -->\r\n      <g transform=\"translate(108.414063 364.339219)scale(0.1 -0.1)\">\r\n       <use xlink:href=\"#DejaVuSans-32\"/>\r\n       <use x=\"63.623047\" xlink:href=\"#DejaVuSans-32\"/>\r\n       <use x=\"127.246094\" xlink:href=\"#DejaVuSans-20\"/>\r\n       <use x=\"159.033203\" xlink:href=\"#DejaVuSans-64\"/>\r\n       <use x=\"222.509766\" xlink:href=\"#DejaVuSans-65\"/>\r\n       <use x=\"284.033203\" xlink:href=\"#DejaVuSans-61\"/>\r\n       <use x=\"345.3125\" xlink:href=\"#DejaVuSans-72\"/>\r\n       <use x=\"386.425781\" xlink:href=\"#DejaVuSans-20\"/>\r\n       <use x=\"418.212891\" xlink:href=\"#DejaVuSans-62\"/>\r\n       <use x=\"481.689453\" xlink:href=\"#DejaVuSans-61\"/>\r\n       <use x=\"542.96875\" xlink:href=\"#DejaVuSans-6c\"/>\r\n       <use x=\"570.751953\" xlink:href=\"#DejaVuSans-6c\"/>\r\n       <use x=\"598.535156\" xlink:href=\"#DejaVuSans-20\"/>\r\n       <use x=\"630.322266\" xlink:href=\"#DejaVuSans-70\"/>\r\n       <use x=\"693.798828\" xlink:href=\"#DejaVuSans-6c\"/>\r\n       <use x=\"721.582031\" xlink:href=\"#DejaVuSans-61\"/>\r\n       <use x=\"782.861328\" xlink:href=\"#DejaVuSans-63\"/>\r\n       <use x=\"837.841797\" xlink:href=\"#DejaVuSans-65\"/>\r\n       <use x=\"899.365234\" xlink:href=\"#DejaVuSans-20\"/>\r\n       <use x=\"931.152344\" xlink:href=\"#DejaVuSans-65\"/>\r\n       <use x=\"992.675781\" xlink:href=\"#DejaVuSans-76\"/>\r\n       <use x=\"1051.855469\" xlink:href=\"#DejaVuSans-65\"/>\r\n       <use x=\"1113.378906\" xlink:href=\"#DejaVuSans-6e\"/>\r\n       <use x=\"1176.757812\" xlink:href=\"#DejaVuSans-69\"/>\r\n       <use x=\"1204.541016\" xlink:href=\"#DejaVuSans-6e\"/>\r\n       <use x=\"1267.919922\" xlink:href=\"#DejaVuSans-67\"/>\r\n       <use x=\"1331.396484\" xlink:href=\"#DejaVuSans-20\"/>\r\n       <use x=\"1363.183594\" xlink:href=\"#DejaVuSans-6d\"/>\r\n       <use x=\"1460.595703\" xlink:href=\"#DejaVuSans-61\"/>\r\n       <use x=\"1521.875\" xlink:href=\"#DejaVuSans-6e\"/>\r\n       <use x=\"1585.253906\" xlink:href=\"#DejaVuSans-6e\"/>\r\n       <use x=\"1648.632812\" xlink:href=\"#DejaVuSans-65\"/>\r\n       <use x=\"1710.15625\" xlink:href=\"#DejaVuSans-72\"/>\r\n       <use x=\"1751.269531\" xlink:href=\"#DejaVuSans-20\"/>\r\n       <use x=\"1783.056641\" xlink:href=\"#DejaVuSans-72\"/>\r\n       <use x=\"1821.919922\" xlink:href=\"#DejaVuSans-6f\"/>\r\n       <use x=\"1883.101562\" xlink:href=\"#DejaVuSans-6f\"/>\r\n       <use x=\"1944.283203\" xlink:href=\"#DejaVuSans-6d\"/>\r\n       <use x=\"2041.695312\" xlink:href=\"#DejaVuSans-20\"/>\r\n       <use x=\"2073.482422\" xlink:href=\"#DejaVuSans-64\"/>\r\n       <use x=\"2136.958984\" xlink:href=\"#DejaVuSans-61\"/>\r\n       <use x=\"2198.238281\" xlink:href=\"#DejaVuSans-79\"/>\r\n       <use x=\"2257.417969\" xlink:href=\"#DejaVuSans-20\"/>\r\n       <use x=\"2289.205078\" xlink:href=\"#DejaVuSans-61\"/>\r\n       <use x=\"2350.484375\" xlink:href=\"#DejaVuSans-75\"/>\r\n       <use x=\"2413.863281\" xlink:href=\"#DejaVuSans-6e\"/>\r\n       <use x=\"2477.242188\" xlink:href=\"#DejaVuSans-74\"/>\r\n       <use x=\"2516.451172\" xlink:href=\"#DejaVuSans-20\"/>\r\n       <use x=\"2548.238281\" xlink:href=\"#DejaVuSans-74\"/>\r\n       <use x=\"2587.447266\" xlink:href=\"#DejaVuSans-69\"/>\r\n       <use x=\"2615.230469\" xlink:href=\"#DejaVuSans-6d\"/>\r\n       <use x=\"2712.642578\" xlink:href=\"#DejaVuSans-65\"/>\r\n       <use x=\"2774.166016\" xlink:href=\"#DejaVuSans-20\"/>\r\n       <use x=\"2805.953125\" xlink:href=\"#DejaVuSans-68\"/>\r\n       <use x=\"2869.332031\" xlink:href=\"#DejaVuSans-6f\"/>\r\n       <use x=\"2930.513672\" xlink:href=\"#DejaVuSans-75\"/>\r\n       <use x=\"2993.892578\" xlink:href=\"#DejaVuSans-72\"/>\r\n      </g>\r\n     </g>\r\n    </g>\r\n    <g id=\"ytick_12\">\r\n     <g id=\"line2d_21\">\r\n      <g>\r\n       <use style=\"stroke:#000000;stroke-width:0.8;\" x=\"418.914063\" xlink:href=\"#m8630bec162\" y=\"342.42\"/>\r\n      </g>\r\n     </g>\r\n     <g id=\"text_21\">\r\n      <!-- 28 time day heart surprise word letter home family subject sister -->\r\n      <g transform=\"translate(85.054688 346.219219)scale(0.1 -0.1)\">\r\n       <use xlink:href=\"#DejaVuSans-32\"/>\r\n       <use x=\"63.623047\" xlink:href=\"#DejaVuSans-38\"/>\r\n       <use x=\"127.246094\" xlink:href=\"#DejaVuSans-20\"/>\r\n       <use x=\"159.033203\" xlink:href=\"#DejaVuSans-74\"/>\r\n       <use x=\"198.242188\" xlink:href=\"#DejaVuSans-69\"/>\r\n       <use x=\"226.025391\" xlink:href=\"#DejaVuSans-6d\"/>\r\n       <use x=\"323.4375\" xlink:href=\"#DejaVuSans-65\"/>\r\n       <use x=\"384.960938\" xlink:href=\"#DejaVuSans-20\"/>\r\n       <use x=\"416.748047\" xlink:href=\"#DejaVuSans-64\"/>\r\n       <use x=\"480.224609\" xlink:href=\"#DejaVuSans-61\"/>\r\n       <use x=\"541.503906\" xlink:href=\"#DejaVuSans-79\"/>\r\n       <use x=\"600.683594\" xlink:href=\"#DejaVuSans-20\"/>\r\n       <use x=\"632.470703\" xlink:href=\"#DejaVuSans-68\"/>\r\n       <use x=\"695.849609\" xlink:href=\"#DejaVuSans-65\"/>\r\n       <use x=\"757.373047\" xlink:href=\"#DejaVuSans-61\"/>\r\n       <use x=\"818.652344\" xlink:href=\"#DejaVuSans-72\"/>\r\n       <use x=\"859.765625\" xlink:href=\"#DejaVuSans-74\"/>\r\n       <use x=\"898.974609\" xlink:href=\"#DejaVuSans-20\"/>\r\n       <use x=\"930.761719\" xlink:href=\"#DejaVuSans-73\"/>\r\n       <use x=\"982.861328\" xlink:href=\"#DejaVuSans-75\"/>\r\n       <use x=\"1046.240234\" xlink:href=\"#DejaVuSans-72\"/>\r\n       <use x=\"1087.353516\" xlink:href=\"#DejaVuSans-70\"/>\r\n       <use x=\"1150.830078\" xlink:href=\"#DejaVuSans-72\"/>\r\n       <use x=\"1191.943359\" xlink:href=\"#DejaVuSans-69\"/>\r\n       <use x=\"1219.726562\" xlink:href=\"#DejaVuSans-73\"/>\r\n       <use x=\"1271.826172\" xlink:href=\"#DejaVuSans-65\"/>\r\n       <use x=\"1333.349609\" xlink:href=\"#DejaVuSans-20\"/>\r\n       <use x=\"1365.136719\" xlink:href=\"#DejaVuSans-77\"/>\r\n       <use x=\"1446.923828\" xlink:href=\"#DejaVuSans-6f\"/>\r\n       <use x=\"1508.105469\" xlink:href=\"#DejaVuSans-72\"/>\r\n       <use x=\"1547.46875\" xlink:href=\"#DejaVuSans-64\"/>\r\n       <use x=\"1610.945312\" xlink:href=\"#DejaVuSans-20\"/>\r\n       <use x=\"1642.732422\" xlink:href=\"#DejaVuSans-6c\"/>\r\n       <use x=\"1670.515625\" xlink:href=\"#DejaVuSans-65\"/>\r\n       <use x=\"1732.039062\" xlink:href=\"#DejaVuSans-74\"/>\r\n       <use x=\"1771.248047\" xlink:href=\"#DejaVuSans-74\"/>\r\n       <use x=\"1810.457031\" xlink:href=\"#DejaVuSans-65\"/>\r\n       <use x=\"1871.980469\" xlink:href=\"#DejaVuSans-72\"/>\r\n       <use x=\"1913.09375\" xlink:href=\"#DejaVuSans-20\"/>\r\n       <use x=\"1944.880859\" xlink:href=\"#DejaVuSans-68\"/>\r\n       <use x=\"2008.259766\" xlink:href=\"#DejaVuSans-6f\"/>\r\n       <use x=\"2069.441406\" xlink:href=\"#DejaVuSans-6d\"/>\r\n       <use x=\"2166.853516\" xlink:href=\"#DejaVuSans-65\"/>\r\n       <use x=\"2228.376953\" xlink:href=\"#DejaVuSans-20\"/>\r\n       <use x=\"2260.164062\" xlink:href=\"#DejaVuSans-66\"/>\r\n       <use x=\"2295.369141\" xlink:href=\"#DejaVuSans-61\"/>\r\n       <use x=\"2356.648438\" xlink:href=\"#DejaVuSans-6d\"/>\r\n       <use x=\"2454.060547\" xlink:href=\"#DejaVuSans-69\"/>\r\n       <use x=\"2481.84375\" xlink:href=\"#DejaVuSans-6c\"/>\r\n       <use x=\"2509.626953\" xlink:href=\"#DejaVuSans-79\"/>\r\n       <use x=\"2568.806641\" xlink:href=\"#DejaVuSans-20\"/>\r\n       <use x=\"2600.59375\" xlink:href=\"#DejaVuSans-73\"/>\r\n       <use x=\"2652.693359\" xlink:href=\"#DejaVuSans-75\"/>\r\n       <use x=\"2716.072266\" xlink:href=\"#DejaVuSans-62\"/>\r\n       <use x=\"2779.548828\" xlink:href=\"#DejaVuSans-6a\"/>\r\n       <use x=\"2807.332031\" xlink:href=\"#DejaVuSans-65\"/>\r\n       <use x=\"2868.855469\" xlink:href=\"#DejaVuSans-63\"/>\r\n       <use x=\"2923.835938\" xlink:href=\"#DejaVuSans-74\"/>\r\n       <use x=\"2963.044922\" xlink:href=\"#DejaVuSans-20\"/>\r\n       <use x=\"2994.832031\" xlink:href=\"#DejaVuSans-73\"/>\r\n       <use x=\"3046.931641\" xlink:href=\"#DejaVuSans-69\"/>\r\n       <use x=\"3074.714844\" xlink:href=\"#DejaVuSans-73\"/>\r\n       <use x=\"3126.814453\" xlink:href=\"#DejaVuSans-74\"/>\r\n       <use x=\"3166.023438\" xlink:href=\"#DejaVuSans-65\"/>\r\n       <use x=\"3227.546875\" xlink:href=\"#DejaVuSans-72\"/>\r\n      </g>\r\n     </g>\r\n    </g>\r\n    <g id=\"ytick_13\">\r\n     <g id=\"line2d_22\">\r\n      <g>\r\n       <use style=\"stroke:#000000;stroke-width:0.8;\" x=\"418.914063\" xlink:href=\"#m8630bec162\" y=\"324.3\"/>\r\n      </g>\r\n     </g>\r\n     <g id=\"text_22\">\r\n      <!-- 7 distance things room people night thing miles world time kind -->\r\n      <g transform=\"translate(91.217188 328.099219)scale(0.1 -0.1)\">\r\n       <use xlink:href=\"#DejaVuSans-37\"/>\r\n       <use x=\"63.623047\" xlink:href=\"#DejaVuSans-20\"/>\r\n       <use x=\"95.410156\" xlink:href=\"#DejaVuSans-64\"/>\r\n       <use x=\"158.886719\" xlink:href=\"#DejaVuSans-69\"/>\r\n       <use x=\"186.669922\" xlink:href=\"#DejaVuSans-73\"/>\r\n       <use x=\"238.769531\" xlink:href=\"#DejaVuSans-74\"/>\r\n       <use x=\"277.978516\" xlink:href=\"#DejaVuSans-61\"/>\r\n       <use x=\"339.257812\" xlink:href=\"#DejaVuSans-6e\"/>\r\n       <use x=\"402.636719\" xlink:href=\"#DejaVuSans-63\"/>\r\n       <use x=\"457.617188\" xlink:href=\"#DejaVuSans-65\"/>\r\n       <use x=\"519.140625\" xlink:href=\"#DejaVuSans-20\"/>\r\n       <use x=\"550.927734\" xlink:href=\"#DejaVuSans-74\"/>\r\n       <use x=\"590.136719\" xlink:href=\"#DejaVuSans-68\"/>\r\n       <use x=\"653.515625\" xlink:href=\"#DejaVuSans-69\"/>\r\n       <use x=\"681.298828\" xlink:href=\"#DejaVuSans-6e\"/>\r\n       <use x=\"744.677734\" xlink:href=\"#DejaVuSans-67\"/>\r\n       <use x=\"808.154297\" xlink:href=\"#DejaVuSans-73\"/>\r\n       <use x=\"860.253906\" xlink:href=\"#DejaVuSans-20\"/>\r\n       <use x=\"892.041016\" xlink:href=\"#DejaVuSans-72\"/>\r\n       <use x=\"930.904297\" xlink:href=\"#DejaVuSans-6f\"/>\r\n       <use x=\"992.085938\" xlink:href=\"#DejaVuSans-6f\"/>\r\n       <use x=\"1053.267578\" xlink:href=\"#DejaVuSans-6d\"/>\r\n       <use x=\"1150.679688\" xlink:href=\"#DejaVuSans-20\"/>\r\n       <use x=\"1182.466797\" xlink:href=\"#DejaVuSans-70\"/>\r\n       <use x=\"1245.943359\" xlink:href=\"#DejaVuSans-65\"/>\r\n       <use x=\"1307.466797\" xlink:href=\"#DejaVuSans-6f\"/>\r\n       <use x=\"1368.648438\" xlink:href=\"#DejaVuSans-70\"/>\r\n       <use x=\"1432.125\" xlink:href=\"#DejaVuSans-6c\"/>\r\n       <use x=\"1459.908203\" xlink:href=\"#DejaVuSans-65\"/>\r\n       <use x=\"1521.431641\" xlink:href=\"#DejaVuSans-20\"/>\r\n       <use x=\"1553.21875\" xlink:href=\"#DejaVuSans-6e\"/>\r\n       <use x=\"1616.597656\" xlink:href=\"#DejaVuSans-69\"/>\r\n       <use x=\"1644.380859\" xlink:href=\"#DejaVuSans-67\"/>\r\n       <use x=\"1707.857422\" xlink:href=\"#DejaVuSans-68\"/>\r\n       <use x=\"1771.236328\" xlink:href=\"#DejaVuSans-74\"/>\r\n       <use x=\"1810.445312\" xlink:href=\"#DejaVuSans-20\"/>\r\n       <use x=\"1842.232422\" xlink:href=\"#DejaVuSans-74\"/>\r\n       <use x=\"1881.441406\" xlink:href=\"#DejaVuSans-68\"/>\r\n       <use x=\"1944.820312\" xlink:href=\"#DejaVuSans-69\"/>\r\n       <use x=\"1972.603516\" xlink:href=\"#DejaVuSans-6e\"/>\r\n       <use x=\"2035.982422\" xlink:href=\"#DejaVuSans-67\"/>\r\n       <use x=\"2099.458984\" xlink:href=\"#DejaVuSans-20\"/>\r\n       <use x=\"2131.246094\" xlink:href=\"#DejaVuSans-6d\"/>\r\n       <use x=\"2228.658203\" xlink:href=\"#DejaVuSans-69\"/>\r\n       <use x=\"2256.441406\" xlink:href=\"#DejaVuSans-6c\"/>\r\n       <use x=\"2284.224609\" xlink:href=\"#DejaVuSans-65\"/>\r\n       <use x=\"2345.748047\" xlink:href=\"#DejaVuSans-73\"/>\r\n       <use x=\"2397.847656\" xlink:href=\"#DejaVuSans-20\"/>\r\n       <use x=\"2429.634766\" xlink:href=\"#DejaVuSans-77\"/>\r\n       <use x=\"2511.421875\" xlink:href=\"#DejaVuSans-6f\"/>\r\n       <use x=\"2572.603516\" xlink:href=\"#DejaVuSans-72\"/>\r\n       <use x=\"2613.716797\" xlink:href=\"#DejaVuSans-6c\"/>\r\n       <use x=\"2641.5\" xlink:href=\"#DejaVuSans-64\"/>\r\n       <use x=\"2704.976562\" xlink:href=\"#DejaVuSans-20\"/>\r\n       <use x=\"2736.763672\" xlink:href=\"#DejaVuSans-74\"/>\r\n       <use x=\"2775.972656\" xlink:href=\"#DejaVuSans-69\"/>\r\n       <use x=\"2803.755859\" xlink:href=\"#DejaVuSans-6d\"/>\r\n       <use x=\"2901.167969\" xlink:href=\"#DejaVuSans-65\"/>\r\n       <use x=\"2962.691406\" xlink:href=\"#DejaVuSans-20\"/>\r\n       <use x=\"2994.478516\" xlink:href=\"#DejaVuSans-6b\"/>\r\n       <use x=\"3052.388672\" xlink:href=\"#DejaVuSans-69\"/>\r\n       <use x=\"3080.171875\" xlink:href=\"#DejaVuSans-6e\"/>\r\n       <use x=\"3143.550781\" xlink:href=\"#DejaVuSans-64\"/>\r\n      </g>\r\n     </g>\r\n    </g>\r\n    <g id=\"ytick_14\">\r\n     <g id=\"line2d_23\">\r\n      <g>\r\n       <use style=\"stroke:#000000;stroke-width:0.8;\" x=\"418.914063\" xlink:href=\"#m8630bec162\" y=\"306.18\"/>\r\n      </g>\r\n     </g>\r\n     <g id=\"text_23\">\r\n      <!-- 11 oh time house moment room theatre door sister man turn -->\r\n      <g transform=\"translate(105.014063 309.979219)scale(0.1 -0.1)\">\r\n       <use xlink:href=\"#DejaVuSans-31\"/>\r\n       <use x=\"63.623047\" xlink:href=\"#DejaVuSans-31\"/>\r\n       <use x=\"127.246094\" xlink:href=\"#DejaVuSans-20\"/>\r\n       <use x=\"159.033203\" xlink:href=\"#DejaVuSans-6f\"/>\r\n       <use x=\"220.214844\" xlink:href=\"#DejaVuSans-68\"/>\r\n       <use x=\"283.59375\" xlink:href=\"#DejaVuSans-20\"/>\r\n       <use x=\"315.380859\" xlink:href=\"#DejaVuSans-74\"/>\r\n       <use x=\"354.589844\" xlink:href=\"#DejaVuSans-69\"/>\r\n       <use x=\"382.373047\" xlink:href=\"#DejaVuSans-6d\"/>\r\n       <use x=\"479.785156\" xlink:href=\"#DejaVuSans-65\"/>\r\n       <use x=\"541.308594\" xlink:href=\"#DejaVuSans-20\"/>\r\n       <use x=\"573.095703\" xlink:href=\"#DejaVuSans-68\"/>\r\n       <use x=\"636.474609\" xlink:href=\"#DejaVuSans-6f\"/>\r\n       <use x=\"697.65625\" xlink:href=\"#DejaVuSans-75\"/>\r\n       <use x=\"761.035156\" xlink:href=\"#DejaVuSans-73\"/>\r\n       <use x=\"813.134766\" xlink:href=\"#DejaVuSans-65\"/>\r\n       <use x=\"874.658203\" xlink:href=\"#DejaVuSans-20\"/>\r\n       <use x=\"906.445312\" xlink:href=\"#DejaVuSans-6d\"/>\r\n       <use x=\"1003.857422\" xlink:href=\"#DejaVuSans-6f\"/>\r\n       <use x=\"1065.039062\" xlink:href=\"#DejaVuSans-6d\"/>\r\n       <use x=\"1162.451172\" xlink:href=\"#DejaVuSans-65\"/>\r\n       <use x=\"1223.974609\" xlink:href=\"#DejaVuSans-6e\"/>\r\n       <use x=\"1287.353516\" xlink:href=\"#DejaVuSans-74\"/>\r\n       <use x=\"1326.5625\" xlink:href=\"#DejaVuSans-20\"/>\r\n       <use x=\"1358.349609\" xlink:href=\"#DejaVuSans-72\"/>\r\n       <use x=\"1397.212891\" xlink:href=\"#DejaVuSans-6f\"/>\r\n       <use x=\"1458.394531\" xlink:href=\"#DejaVuSans-6f\"/>\r\n       <use x=\"1519.576172\" xlink:href=\"#DejaVuSans-6d\"/>\r\n       <use x=\"1616.988281\" xlink:href=\"#DejaVuSans-20\"/>\r\n       <use x=\"1648.775391\" xlink:href=\"#DejaVuSans-74\"/>\r\n       <use x=\"1687.984375\" xlink:href=\"#DejaVuSans-68\"/>\r\n       <use x=\"1751.363281\" xlink:href=\"#DejaVuSans-65\"/>\r\n       <use x=\"1812.886719\" xlink:href=\"#DejaVuSans-61\"/>\r\n       <use x=\"1874.166016\" xlink:href=\"#DejaVuSans-74\"/>\r\n       <use x=\"1913.375\" xlink:href=\"#DejaVuSans-72\"/>\r\n       <use x=\"1952.238281\" xlink:href=\"#DejaVuSans-65\"/>\r\n       <use x=\"2013.761719\" xlink:href=\"#DejaVuSans-20\"/>\r\n       <use x=\"2045.548828\" xlink:href=\"#DejaVuSans-64\"/>\r\n       <use x=\"2109.025391\" xlink:href=\"#DejaVuSans-6f\"/>\r\n       <use x=\"2170.207031\" xlink:href=\"#DejaVuSans-6f\"/>\r\n       <use x=\"2231.388672\" xlink:href=\"#DejaVuSans-72\"/>\r\n       <use x=\"2272.501953\" xlink:href=\"#DejaVuSans-20\"/>\r\n       <use x=\"2304.289062\" xlink:href=\"#DejaVuSans-73\"/>\r\n       <use x=\"2356.388672\" xlink:href=\"#DejaVuSans-69\"/>\r\n       <use x=\"2384.171875\" xlink:href=\"#DejaVuSans-73\"/>\r\n       <use x=\"2436.271484\" xlink:href=\"#DejaVuSans-74\"/>\r\n       <use x=\"2475.480469\" xlink:href=\"#DejaVuSans-65\"/>\r\n       <use x=\"2537.003906\" xlink:href=\"#DejaVuSans-72\"/>\r\n       <use x=\"2578.117188\" xlink:href=\"#DejaVuSans-20\"/>\r\n       <use x=\"2609.904297\" xlink:href=\"#DejaVuSans-6d\"/>\r\n       <use x=\"2707.316406\" xlink:href=\"#DejaVuSans-61\"/>\r\n       <use x=\"2768.595703\" xlink:href=\"#DejaVuSans-6e\"/>\r\n       <use x=\"2831.974609\" xlink:href=\"#DejaVuSans-20\"/>\r\n       <use x=\"2863.761719\" xlink:href=\"#DejaVuSans-74\"/>\r\n       <use x=\"2902.970703\" xlink:href=\"#DejaVuSans-75\"/>\r\n       <use x=\"2966.349609\" xlink:href=\"#DejaVuSans-72\"/>\r\n       <use x=\"3005.712891\" xlink:href=\"#DejaVuSans-6e\"/>\r\n      </g>\r\n     </g>\r\n    </g>\r\n    <g id=\"ytick_15\">\r\n     <g id=\"line2d_24\">\r\n      <g>\r\n       <use style=\"stroke:#000000;stroke-width:0.8;\" x=\"418.914063\" xlink:href=\"#m8630bec162\" y=\"288.06\"/>\r\n      </g>\r\n     </g>\r\n     <g id=\"text_24\">\r\n      <!-- 21 letter reply affection brother feelings reason head trouble oh morning -->\r\n      <g transform=\"translate(46.764063 291.859219)scale(0.1 -0.1)\">\r\n       <use xlink:href=\"#DejaVuSans-32\"/>\r\n       <use x=\"63.623047\" xlink:href=\"#DejaVuSans-31\"/>\r\n       <use x=\"127.246094\" xlink:href=\"#DejaVuSans-20\"/>\r\n       <use x=\"159.033203\" xlink:href=\"#DejaVuSans-6c\"/>\r\n       <use x=\"186.816406\" xlink:href=\"#DejaVuSans-65\"/>\r\n       <use x=\"248.339844\" xlink:href=\"#DejaVuSans-74\"/>\r\n       <use x=\"287.548828\" xlink:href=\"#DejaVuSans-74\"/>\r\n       <use x=\"326.757812\" xlink:href=\"#DejaVuSans-65\"/>\r\n       <use x=\"388.28125\" xlink:href=\"#DejaVuSans-72\"/>\r\n       <use x=\"429.394531\" xlink:href=\"#DejaVuSans-20\"/>\r\n       <use x=\"461.181641\" xlink:href=\"#DejaVuSans-72\"/>\r\n       <use x=\"500.044922\" xlink:href=\"#DejaVuSans-65\"/>\r\n       <use x=\"561.568359\" xlink:href=\"#DejaVuSans-70\"/>\r\n       <use x=\"625.044922\" xlink:href=\"#DejaVuSans-6c\"/>\r\n       <use x=\"652.828125\" xlink:href=\"#DejaVuSans-79\"/>\r\n       <use x=\"712.007812\" xlink:href=\"#DejaVuSans-20\"/>\r\n       <use x=\"743.794922\" xlink:href=\"#DejaVuSans-61\"/>\r\n       <use x=\"805.074219\" xlink:href=\"#DejaVuSans-66\"/>\r\n       <use x=\"840.279297\" xlink:href=\"#DejaVuSans-66\"/>\r\n       <use x=\"875.484375\" xlink:href=\"#DejaVuSans-65\"/>\r\n       <use x=\"937.007812\" xlink:href=\"#DejaVuSans-63\"/>\r\n       <use x=\"991.988281\" xlink:href=\"#DejaVuSans-74\"/>\r\n       <use x=\"1031.197266\" xlink:href=\"#DejaVuSans-69\"/>\r\n       <use x=\"1058.980469\" xlink:href=\"#DejaVuSans-6f\"/>\r\n       <use x=\"1120.162109\" xlink:href=\"#DejaVuSans-6e\"/>\r\n       <use x=\"1183.541016\" xlink:href=\"#DejaVuSans-20\"/>\r\n       <use x=\"1215.328125\" xlink:href=\"#DejaVuSans-62\"/>\r\n       <use x=\"1278.804688\" xlink:href=\"#DejaVuSans-72\"/>\r\n       <use x=\"1317.667969\" xlink:href=\"#DejaVuSans-6f\"/>\r\n       <use x=\"1378.849609\" xlink:href=\"#DejaVuSans-74\"/>\r\n       <use x=\"1418.058594\" xlink:href=\"#DejaVuSans-68\"/>\r\n       <use x=\"1481.4375\" xlink:href=\"#DejaVuSans-65\"/>\r\n       <use x=\"1542.960938\" xlink:href=\"#DejaVuSans-72\"/>\r\n       <use x=\"1584.074219\" xlink:href=\"#DejaVuSans-20\"/>\r\n       <use x=\"1615.861328\" xlink:href=\"#DejaVuSans-66\"/>\r\n       <use x=\"1651.066406\" xlink:href=\"#DejaVuSans-65\"/>\r\n       <use x=\"1712.589844\" xlink:href=\"#DejaVuSans-65\"/>\r\n       <use x=\"1774.113281\" xlink:href=\"#DejaVuSans-6c\"/>\r\n       <use x=\"1801.896484\" xlink:href=\"#DejaVuSans-69\"/>\r\n       <use x=\"1829.679688\" xlink:href=\"#DejaVuSans-6e\"/>\r\n       <use x=\"1893.058594\" xlink:href=\"#DejaVuSans-67\"/>\r\n       <use x=\"1956.535156\" xlink:href=\"#DejaVuSans-73\"/>\r\n       <use x=\"2008.634766\" xlink:href=\"#DejaVuSans-20\"/>\r\n       <use x=\"2040.421875\" xlink:href=\"#DejaVuSans-72\"/>\r\n       <use x=\"2079.285156\" xlink:href=\"#DejaVuSans-65\"/>\r\n       <use x=\"2140.808594\" xlink:href=\"#DejaVuSans-61\"/>\r\n       <use x=\"2202.087891\" xlink:href=\"#DejaVuSans-73\"/>\r\n       <use x=\"2254.1875\" xlink:href=\"#DejaVuSans-6f\"/>\r\n       <use x=\"2315.369141\" xlink:href=\"#DejaVuSans-6e\"/>\r\n       <use x=\"2378.748047\" xlink:href=\"#DejaVuSans-20\"/>\r\n       <use x=\"2410.535156\" xlink:href=\"#DejaVuSans-68\"/>\r\n       <use x=\"2473.914062\" xlink:href=\"#DejaVuSans-65\"/>\r\n       <use x=\"2535.4375\" xlink:href=\"#DejaVuSans-61\"/>\r\n       <use x=\"2596.716797\" xlink:href=\"#DejaVuSans-64\"/>\r\n       <use x=\"2660.193359\" xlink:href=\"#DejaVuSans-20\"/>\r\n       <use x=\"2691.980469\" xlink:href=\"#DejaVuSans-74\"/>\r\n       <use x=\"2731.189453\" xlink:href=\"#DejaVuSans-72\"/>\r\n       <use x=\"2770.052734\" xlink:href=\"#DejaVuSans-6f\"/>\r\n       <use x=\"2831.234375\" xlink:href=\"#DejaVuSans-75\"/>\r\n       <use x=\"2894.613281\" xlink:href=\"#DejaVuSans-62\"/>\r\n       <use x=\"2958.089844\" xlink:href=\"#DejaVuSans-6c\"/>\r\n       <use x=\"2985.873047\" xlink:href=\"#DejaVuSans-65\"/>\r\n       <use x=\"3047.396484\" xlink:href=\"#DejaVuSans-20\"/>\r\n       <use x=\"3079.183594\" xlink:href=\"#DejaVuSans-6f\"/>\r\n       <use x=\"3140.365234\" xlink:href=\"#DejaVuSans-68\"/>\r\n       <use x=\"3203.744141\" xlink:href=\"#DejaVuSans-20\"/>\r\n       <use x=\"3235.53125\" xlink:href=\"#DejaVuSans-6d\"/>\r\n       <use x=\"3332.943359\" xlink:href=\"#DejaVuSans-6f\"/>\r\n       <use x=\"3394.125\" xlink:href=\"#DejaVuSans-72\"/>\r\n       <use x=\"3433.488281\" xlink:href=\"#DejaVuSans-6e\"/>\r\n       <use x=\"3496.867188\" xlink:href=\"#DejaVuSans-69\"/>\r\n       <use x=\"3524.650391\" xlink:href=\"#DejaVuSans-6e\"/>\r\n       <use x=\"3588.029297\" xlink:href=\"#DejaVuSans-67\"/>\r\n      </g>\r\n     </g>\r\n    </g>\r\n    <g id=\"ytick_16\">\r\n     <g id=\"line2d_25\">\r\n      <g>\r\n       <use style=\"stroke:#000000;stroke-width:0.8;\" x=\"418.914063\" xlink:href=\"#m8630bec162\" y=\"269.94\"/>\r\n      </g>\r\n     </g>\r\n     <g id=\"text_25\">\r\n      <!-- 5 acquaintance friends friend home family pause wish kind opinion years -->\r\n      <g transform=\"translate(44.984375 273.739219)scale(0.1 -0.1)\">\r\n       <use xlink:href=\"#DejaVuSans-35\"/>\r\n       <use x=\"63.623047\" xlink:href=\"#DejaVuSans-20\"/>\r\n       <use x=\"95.410156\" xlink:href=\"#DejaVuSans-61\"/>\r\n       <use x=\"156.689453\" xlink:href=\"#DejaVuSans-63\"/>\r\n       <use x=\"211.669922\" xlink:href=\"#DejaVuSans-71\"/>\r\n       <use x=\"275.146484\" xlink:href=\"#DejaVuSans-75\"/>\r\n       <use x=\"338.525391\" xlink:href=\"#DejaVuSans-61\"/>\r\n       <use x=\"399.804688\" xlink:href=\"#DejaVuSans-69\"/>\r\n       <use x=\"427.587891\" xlink:href=\"#DejaVuSans-6e\"/>\r\n       <use x=\"490.966797\" xlink:href=\"#DejaVuSans-74\"/>\r\n       <use x=\"530.175781\" xlink:href=\"#DejaVuSans-61\"/>\r\n       <use x=\"591.455078\" xlink:href=\"#DejaVuSans-6e\"/>\r\n       <use x=\"654.833984\" xlink:href=\"#DejaVuSans-63\"/>\r\n       <use x=\"709.814453\" xlink:href=\"#DejaVuSans-65\"/>\r\n       <use x=\"771.337891\" xlink:href=\"#DejaVuSans-20\"/>\r\n       <use x=\"803.125\" xlink:href=\"#DejaVuSans-66\"/>\r\n       <use x=\"838.330078\" xlink:href=\"#DejaVuSans-72\"/>\r\n       <use x=\"879.443359\" xlink:href=\"#DejaVuSans-69\"/>\r\n       <use x=\"907.226562\" xlink:href=\"#DejaVuSans-65\"/>\r\n       <use x=\"968.75\" xlink:href=\"#DejaVuSans-6e\"/>\r\n       <use x=\"1032.128906\" xlink:href=\"#DejaVuSans-64\"/>\r\n       <use x=\"1095.605469\" xlink:href=\"#DejaVuSans-73\"/>\r\n       <use x=\"1147.705078\" xlink:href=\"#DejaVuSans-20\"/>\r\n       <use x=\"1179.492188\" xlink:href=\"#DejaVuSans-66\"/>\r\n       <use x=\"1214.697266\" xlink:href=\"#DejaVuSans-72\"/>\r\n       <use x=\"1255.810547\" xlink:href=\"#DejaVuSans-69\"/>\r\n       <use x=\"1283.59375\" xlink:href=\"#DejaVuSans-65\"/>\r\n       <use x=\"1345.117188\" xlink:href=\"#DejaVuSans-6e\"/>\r\n       <use x=\"1408.496094\" xlink:href=\"#DejaVuSans-64\"/>\r\n       <use x=\"1471.972656\" xlink:href=\"#DejaVuSans-20\"/>\r\n       <use x=\"1503.759766\" xlink:href=\"#DejaVuSans-68\"/>\r\n       <use x=\"1567.138672\" xlink:href=\"#DejaVuSans-6f\"/>\r\n       <use x=\"1628.320312\" xlink:href=\"#DejaVuSans-6d\"/>\r\n       <use x=\"1725.732422\" xlink:href=\"#DejaVuSans-65\"/>\r\n       <use x=\"1787.255859\" xlink:href=\"#DejaVuSans-20\"/>\r\n       <use x=\"1819.042969\" xlink:href=\"#DejaVuSans-66\"/>\r\n       <use x=\"1854.248047\" xlink:href=\"#DejaVuSans-61\"/>\r\n       <use x=\"1915.527344\" xlink:href=\"#DejaVuSans-6d\"/>\r\n       <use x=\"2012.939453\" xlink:href=\"#DejaVuSans-69\"/>\r\n       <use x=\"2040.722656\" xlink:href=\"#DejaVuSans-6c\"/>\r\n       <use x=\"2068.505859\" xlink:href=\"#DejaVuSans-79\"/>\r\n       <use x=\"2127.685547\" xlink:href=\"#DejaVuSans-20\"/>\r\n       <use x=\"2159.472656\" xlink:href=\"#DejaVuSans-70\"/>\r\n       <use x=\"2222.949219\" xlink:href=\"#DejaVuSans-61\"/>\r\n       <use x=\"2284.228516\" xlink:href=\"#DejaVuSans-75\"/>\r\n       <use x=\"2347.607422\" xlink:href=\"#DejaVuSans-73\"/>\r\n       <use x=\"2399.707031\" xlink:href=\"#DejaVuSans-65\"/>\r\n       <use x=\"2461.230469\" xlink:href=\"#DejaVuSans-20\"/>\r\n       <use x=\"2493.017578\" xlink:href=\"#DejaVuSans-77\"/>\r\n       <use x=\"2574.804688\" xlink:href=\"#DejaVuSans-69\"/>\r\n       <use x=\"2602.587891\" xlink:href=\"#DejaVuSans-73\"/>\r\n       <use x=\"2654.6875\" xlink:href=\"#DejaVuSans-68\"/>\r\n       <use x=\"2718.066406\" xlink:href=\"#DejaVuSans-20\"/>\r\n       <use x=\"2749.853516\" xlink:href=\"#DejaVuSans-6b\"/>\r\n       <use x=\"2807.763672\" xlink:href=\"#DejaVuSans-69\"/>\r\n       <use x=\"2835.546875\" xlink:href=\"#DejaVuSans-6e\"/>\r\n       <use x=\"2898.925781\" xlink:href=\"#DejaVuSans-64\"/>\r\n       <use x=\"2962.402344\" xlink:href=\"#DejaVuSans-20\"/>\r\n       <use x=\"2994.189453\" xlink:href=\"#DejaVuSans-6f\"/>\r\n       <use x=\"3055.371094\" xlink:href=\"#DejaVuSans-70\"/>\r\n       <use x=\"3118.847656\" xlink:href=\"#DejaVuSans-69\"/>\r\n       <use x=\"3146.630859\" xlink:href=\"#DejaVuSans-6e\"/>\r\n       <use x=\"3210.009766\" xlink:href=\"#DejaVuSans-69\"/>\r\n       <use x=\"3237.792969\" xlink:href=\"#DejaVuSans-6f\"/>\r\n       <use x=\"3298.974609\" xlink:href=\"#DejaVuSans-6e\"/>\r\n       <use x=\"3362.353516\" xlink:href=\"#DejaVuSans-20\"/>\r\n       <use x=\"3394.140625\" xlink:href=\"#DejaVuSans-79\"/>\r\n       <use x=\"3453.320312\" xlink:href=\"#DejaVuSans-65\"/>\r\n       <use x=\"3514.84375\" xlink:href=\"#DejaVuSans-61\"/>\r\n       <use x=\"3576.123047\" xlink:href=\"#DejaVuSans-72\"/>\r\n       <use x=\"3617.236328\" xlink:href=\"#DejaVuSans-73\"/>\r\n      </g>\r\n     </g>\r\n    </g>\r\n    <g id=\"ytick_17\">\r\n     <g id=\"line2d_26\">\r\n      <g>\r\n       <use style=\"stroke:#000000;stroke-width:0.8;\" x=\"418.914063\" xlink:href=\"#m8630bec162\" y=\"251.82\"/>\r\n      </g>\r\n     </g>\r\n     <g id=\"text_26\">\r\n      <!-- 25 room uncle moment mind door brother sister house time friend -->\r\n      <g transform=\"translate(78.273438 255.619219)scale(0.1 -0.1)\">\r\n       <use xlink:href=\"#DejaVuSans-32\"/>\r\n       <use x=\"63.623047\" xlink:href=\"#DejaVuSans-35\"/>\r\n       <use x=\"127.246094\" xlink:href=\"#DejaVuSans-20\"/>\r\n       <use x=\"159.033203\" xlink:href=\"#DejaVuSans-72\"/>\r\n       <use x=\"197.896484\" xlink:href=\"#DejaVuSans-6f\"/>\r\n       <use x=\"259.078125\" xlink:href=\"#DejaVuSans-6f\"/>\r\n       <use x=\"320.259766\" xlink:href=\"#DejaVuSans-6d\"/>\r\n       <use x=\"417.671875\" xlink:href=\"#DejaVuSans-20\"/>\r\n       <use x=\"449.458984\" xlink:href=\"#DejaVuSans-75\"/>\r\n       <use x=\"512.837891\" xlink:href=\"#DejaVuSans-6e\"/>\r\n       <use x=\"576.216797\" xlink:href=\"#DejaVuSans-63\"/>\r\n       <use x=\"631.197266\" xlink:href=\"#DejaVuSans-6c\"/>\r\n       <use x=\"658.980469\" xlink:href=\"#DejaVuSans-65\"/>\r\n       <use x=\"720.503906\" xlink:href=\"#DejaVuSans-20\"/>\r\n       <use x=\"752.291016\" xlink:href=\"#DejaVuSans-6d\"/>\r\n       <use x=\"849.703125\" xlink:href=\"#DejaVuSans-6f\"/>\r\n       <use x=\"910.884766\" xlink:href=\"#DejaVuSans-6d\"/>\r\n       <use x=\"1008.296875\" xlink:href=\"#DejaVuSans-65\"/>\r\n       <use x=\"1069.820312\" xlink:href=\"#DejaVuSans-6e\"/>\r\n       <use x=\"1133.199219\" xlink:href=\"#DejaVuSans-74\"/>\r\n       <use x=\"1172.408203\" xlink:href=\"#DejaVuSans-20\"/>\r\n       <use x=\"1204.195312\" xlink:href=\"#DejaVuSans-6d\"/>\r\n       <use x=\"1301.607422\" xlink:href=\"#DejaVuSans-69\"/>\r\n       <use x=\"1329.390625\" xlink:href=\"#DejaVuSans-6e\"/>\r\n       <use x=\"1392.769531\" xlink:href=\"#DejaVuSans-64\"/>\r\n       <use x=\"1456.246094\" xlink:href=\"#DejaVuSans-20\"/>\r\n       <use x=\"1488.033203\" xlink:href=\"#DejaVuSans-64\"/>\r\n       <use x=\"1551.509766\" xlink:href=\"#DejaVuSans-6f\"/>\r\n       <use x=\"1612.691406\" xlink:href=\"#DejaVuSans-6f\"/>\r\n       <use x=\"1673.873047\" xlink:href=\"#DejaVuSans-72\"/>\r\n       <use x=\"1714.986328\" xlink:href=\"#DejaVuSans-20\"/>\r\n       <use x=\"1746.773438\" xlink:href=\"#DejaVuSans-62\"/>\r\n       <use x=\"1810.25\" xlink:href=\"#DejaVuSans-72\"/>\r\n       <use x=\"1849.113281\" xlink:href=\"#DejaVuSans-6f\"/>\r\n       <use x=\"1910.294922\" xlink:href=\"#DejaVuSans-74\"/>\r\n       <use x=\"1949.503906\" xlink:href=\"#DejaVuSans-68\"/>\r\n       <use x=\"2012.882812\" xlink:href=\"#DejaVuSans-65\"/>\r\n       <use x=\"2074.40625\" xlink:href=\"#DejaVuSans-72\"/>\r\n       <use x=\"2115.519531\" xlink:href=\"#DejaVuSans-20\"/>\r\n       <use x=\"2147.306641\" xlink:href=\"#DejaVuSans-73\"/>\r\n       <use x=\"2199.40625\" xlink:href=\"#DejaVuSans-69\"/>\r\n       <use x=\"2227.189453\" xlink:href=\"#DejaVuSans-73\"/>\r\n       <use x=\"2279.289062\" xlink:href=\"#DejaVuSans-74\"/>\r\n       <use x=\"2318.498047\" xlink:href=\"#DejaVuSans-65\"/>\r\n       <use x=\"2380.021484\" xlink:href=\"#DejaVuSans-72\"/>\r\n       <use x=\"2421.134766\" xlink:href=\"#DejaVuSans-20\"/>\r\n       <use x=\"2452.921875\" xlink:href=\"#DejaVuSans-68\"/>\r\n       <use x=\"2516.300781\" xlink:href=\"#DejaVuSans-6f\"/>\r\n       <use x=\"2577.482422\" xlink:href=\"#DejaVuSans-75\"/>\r\n       <use x=\"2640.861328\" xlink:href=\"#DejaVuSans-73\"/>\r\n       <use x=\"2692.960938\" xlink:href=\"#DejaVuSans-65\"/>\r\n       <use x=\"2754.484375\" xlink:href=\"#DejaVuSans-20\"/>\r\n       <use x=\"2786.271484\" xlink:href=\"#DejaVuSans-74\"/>\r\n       <use x=\"2825.480469\" xlink:href=\"#DejaVuSans-69\"/>\r\n       <use x=\"2853.263672\" xlink:href=\"#DejaVuSans-6d\"/>\r\n       <use x=\"2950.675781\" xlink:href=\"#DejaVuSans-65\"/>\r\n       <use x=\"3012.199219\" xlink:href=\"#DejaVuSans-20\"/>\r\n       <use x=\"3043.986328\" xlink:href=\"#DejaVuSans-66\"/>\r\n       <use x=\"3079.191406\" xlink:href=\"#DejaVuSans-72\"/>\r\n       <use x=\"3120.304688\" xlink:href=\"#DejaVuSans-69\"/>\r\n       <use x=\"3148.087891\" xlink:href=\"#DejaVuSans-65\"/>\r\n       <use x=\"3209.611328\" xlink:href=\"#DejaVuSans-6e\"/>\r\n       <use x=\"3272.990234\" xlink:href=\"#DejaVuSans-64\"/>\r\n      </g>\r\n     </g>\r\n    </g>\r\n    <g id=\"ytick_18\">\r\n     <g id=\"line2d_27\">\r\n      <g>\r\n       <use style=\"stroke:#000000;stroke-width:0.8;\" x=\"418.914063\" xlink:href=\"#m8630bec162\" y=\"233.7\"/>\r\n      </g>\r\n     </g>\r\n     <g id=\"text_27\">\r\n      <!-- 10 time friend days pleasure spirits visit day reason way family -->\r\n      <g transform=\"translate(94.692188 237.499219)scale(0.1 -0.1)\">\r\n       <use xlink:href=\"#DejaVuSans-31\"/>\r\n       <use x=\"63.623047\" xlink:href=\"#DejaVuSans-30\"/>\r\n       <use x=\"127.246094\" xlink:href=\"#DejaVuSans-20\"/>\r\n       <use x=\"159.033203\" xlink:href=\"#DejaVuSans-74\"/>\r\n       <use x=\"198.242188\" xlink:href=\"#DejaVuSans-69\"/>\r\n       <use x=\"226.025391\" xlink:href=\"#DejaVuSans-6d\"/>\r\n       <use x=\"323.4375\" xlink:href=\"#DejaVuSans-65\"/>\r\n       <use x=\"384.960938\" xlink:href=\"#DejaVuSans-20\"/>\r\n       <use x=\"416.748047\" xlink:href=\"#DejaVuSans-66\"/>\r\n       <use x=\"451.953125\" xlink:href=\"#DejaVuSans-72\"/>\r\n       <use x=\"493.066406\" xlink:href=\"#DejaVuSans-69\"/>\r\n       <use x=\"520.849609\" xlink:href=\"#DejaVuSans-65\"/>\r\n       <use x=\"582.373047\" xlink:href=\"#DejaVuSans-6e\"/>\r\n       <use x=\"645.751953\" xlink:href=\"#DejaVuSans-64\"/>\r\n       <use x=\"709.228516\" xlink:href=\"#DejaVuSans-20\"/>\r\n       <use x=\"741.015625\" xlink:href=\"#DejaVuSans-64\"/>\r\n       <use x=\"804.492188\" xlink:href=\"#DejaVuSans-61\"/>\r\n       <use x=\"865.771484\" xlink:href=\"#DejaVuSans-79\"/>\r\n       <use x=\"924.951172\" xlink:href=\"#DejaVuSans-73\"/>\r\n       <use x=\"977.050781\" xlink:href=\"#DejaVuSans-20\"/>\r\n       <use x=\"1008.837891\" xlink:href=\"#DejaVuSans-70\"/>\r\n       <use x=\"1072.314453\" xlink:href=\"#DejaVuSans-6c\"/>\r\n       <use x=\"1100.097656\" xlink:href=\"#DejaVuSans-65\"/>\r\n       <use x=\"1161.621094\" xlink:href=\"#DejaVuSans-61\"/>\r\n       <use x=\"1222.900391\" xlink:href=\"#DejaVuSans-73\"/>\r\n       <use x=\"1275\" xlink:href=\"#DejaVuSans-75\"/>\r\n       <use x=\"1338.378906\" xlink:href=\"#DejaVuSans-72\"/>\r\n       <use x=\"1377.242188\" xlink:href=\"#DejaVuSans-65\"/>\r\n       <use x=\"1438.765625\" xlink:href=\"#DejaVuSans-20\"/>\r\n       <use x=\"1470.552734\" xlink:href=\"#DejaVuSans-73\"/>\r\n       <use x=\"1522.652344\" xlink:href=\"#DejaVuSans-70\"/>\r\n       <use x=\"1586.128906\" xlink:href=\"#DejaVuSans-69\"/>\r\n       <use x=\"1613.912109\" xlink:href=\"#DejaVuSans-72\"/>\r\n       <use x=\"1655.025391\" xlink:href=\"#DejaVuSans-69\"/>\r\n       <use x=\"1682.808594\" xlink:href=\"#DejaVuSans-74\"/>\r\n       <use x=\"1722.017578\" xlink:href=\"#DejaVuSans-73\"/>\r\n       <use x=\"1774.117188\" xlink:href=\"#DejaVuSans-20\"/>\r\n       <use x=\"1805.904297\" xlink:href=\"#DejaVuSans-76\"/>\r\n       <use x=\"1865.083984\" xlink:href=\"#DejaVuSans-69\"/>\r\n       <use x=\"1892.867188\" xlink:href=\"#DejaVuSans-73\"/>\r\n       <use x=\"1944.966797\" xlink:href=\"#DejaVuSans-69\"/>\r\n       <use x=\"1972.75\" xlink:href=\"#DejaVuSans-74\"/>\r\n       <use x=\"2011.958984\" xlink:href=\"#DejaVuSans-20\"/>\r\n       <use x=\"2043.746094\" xlink:href=\"#DejaVuSans-64\"/>\r\n       <use x=\"2107.222656\" xlink:href=\"#DejaVuSans-61\"/>\r\n       <use x=\"2168.501953\" xlink:href=\"#DejaVuSans-79\"/>\r\n       <use x=\"2227.681641\" xlink:href=\"#DejaVuSans-20\"/>\r\n       <use x=\"2259.46875\" xlink:href=\"#DejaVuSans-72\"/>\r\n       <use x=\"2298.332031\" xlink:href=\"#DejaVuSans-65\"/>\r\n       <use x=\"2359.855469\" xlink:href=\"#DejaVuSans-61\"/>\r\n       <use x=\"2421.134766\" xlink:href=\"#DejaVuSans-73\"/>\r\n       <use x=\"2473.234375\" xlink:href=\"#DejaVuSans-6f\"/>\r\n       <use x=\"2534.416016\" xlink:href=\"#DejaVuSans-6e\"/>\r\n       <use x=\"2597.794922\" xlink:href=\"#DejaVuSans-20\"/>\r\n       <use x=\"2629.582031\" xlink:href=\"#DejaVuSans-77\"/>\r\n       <use x=\"2711.369141\" xlink:href=\"#DejaVuSans-61\"/>\r\n       <use x=\"2772.648438\" xlink:href=\"#DejaVuSans-79\"/>\r\n       <use x=\"2831.828125\" xlink:href=\"#DejaVuSans-20\"/>\r\n       <use x=\"2863.615234\" xlink:href=\"#DejaVuSans-66\"/>\r\n       <use x=\"2898.820312\" xlink:href=\"#DejaVuSans-61\"/>\r\n       <use x=\"2960.099609\" xlink:href=\"#DejaVuSans-6d\"/>\r\n       <use x=\"3057.511719\" xlink:href=\"#DejaVuSans-69\"/>\r\n       <use x=\"3085.294922\" xlink:href=\"#DejaVuSans-6c\"/>\r\n       <use x=\"3113.078125\" xlink:href=\"#DejaVuSans-79\"/>\r\n      </g>\r\n     </g>\r\n    </g>\r\n    <g id=\"ytick_19\">\r\n     <g id=\"line2d_28\">\r\n      <g>\r\n       <use style=\"stroke:#000000;stroke-width:0.8;\" x=\"418.914063\" xlink:href=\"#m8630bec162\" y=\"215.58\"/>\r\n      </g>\r\n     </g>\r\n     <g id=\"text_28\">\r\n      <!-- 0 opinion feelings time nature subject pleasure state mind heart cousins -->\r\n      <g transform=\"translate(48.40625 219.379219)scale(0.1 -0.1)\">\r\n       <use xlink:href=\"#DejaVuSans-30\"/>\r\n       <use x=\"63.623047\" xlink:href=\"#DejaVuSans-20\"/>\r\n       <use x=\"95.410156\" xlink:href=\"#DejaVuSans-6f\"/>\r\n       <use x=\"156.591797\" xlink:href=\"#DejaVuSans-70\"/>\r\n       <use x=\"220.068359\" xlink:href=\"#DejaVuSans-69\"/>\r\n       <use x=\"247.851562\" xlink:href=\"#DejaVuSans-6e\"/>\r\n       <use x=\"311.230469\" xlink:href=\"#DejaVuSans-69\"/>\r\n       <use x=\"339.013672\" xlink:href=\"#DejaVuSans-6f\"/>\r\n       <use x=\"400.195312\" xlink:href=\"#DejaVuSans-6e\"/>\r\n       <use x=\"463.574219\" xlink:href=\"#DejaVuSans-20\"/>\r\n       <use x=\"495.361328\" xlink:href=\"#DejaVuSans-66\"/>\r\n       <use x=\"530.566406\" xlink:href=\"#DejaVuSans-65\"/>\r\n       <use x=\"592.089844\" xlink:href=\"#DejaVuSans-65\"/>\r\n       <use x=\"653.613281\" xlink:href=\"#DejaVuSans-6c\"/>\r\n       <use x=\"681.396484\" xlink:href=\"#DejaVuSans-69\"/>\r\n       <use x=\"709.179688\" xlink:href=\"#DejaVuSans-6e\"/>\r\n       <use x=\"772.558594\" xlink:href=\"#DejaVuSans-67\"/>\r\n       <use x=\"836.035156\" xlink:href=\"#DejaVuSans-73\"/>\r\n       <use x=\"888.134766\" xlink:href=\"#DejaVuSans-20\"/>\r\n       <use x=\"919.921875\" xlink:href=\"#DejaVuSans-74\"/>\r\n       <use x=\"959.130859\" xlink:href=\"#DejaVuSans-69\"/>\r\n       <use x=\"986.914062\" xlink:href=\"#DejaVuSans-6d\"/>\r\n       <use x=\"1084.326172\" xlink:href=\"#DejaVuSans-65\"/>\r\n       <use x=\"1145.849609\" xlink:href=\"#DejaVuSans-20\"/>\r\n       <use x=\"1177.636719\" xlink:href=\"#DejaVuSans-6e\"/>\r\n       <use x=\"1241.015625\" xlink:href=\"#DejaVuSans-61\"/>\r\n       <use x=\"1302.294922\" xlink:href=\"#DejaVuSans-74\"/>\r\n       <use x=\"1341.503906\" xlink:href=\"#DejaVuSans-75\"/>\r\n       <use x=\"1404.882812\" xlink:href=\"#DejaVuSans-72\"/>\r\n       <use x=\"1443.746094\" xlink:href=\"#DejaVuSans-65\"/>\r\n       <use x=\"1505.269531\" xlink:href=\"#DejaVuSans-20\"/>\r\n       <use x=\"1537.056641\" xlink:href=\"#DejaVuSans-73\"/>\r\n       <use x=\"1589.15625\" xlink:href=\"#DejaVuSans-75\"/>\r\n       <use x=\"1652.535156\" xlink:href=\"#DejaVuSans-62\"/>\r\n       <use x=\"1716.011719\" xlink:href=\"#DejaVuSans-6a\"/>\r\n       <use x=\"1743.794922\" xlink:href=\"#DejaVuSans-65\"/>\r\n       <use x=\"1805.318359\" xlink:href=\"#DejaVuSans-63\"/>\r\n       <use x=\"1860.298828\" xlink:href=\"#DejaVuSans-74\"/>\r\n       <use x=\"1899.507812\" xlink:href=\"#DejaVuSans-20\"/>\r\n       <use x=\"1931.294922\" xlink:href=\"#DejaVuSans-70\"/>\r\n       <use x=\"1994.771484\" xlink:href=\"#DejaVuSans-6c\"/>\r\n       <use x=\"2022.554688\" xlink:href=\"#DejaVuSans-65\"/>\r\n       <use x=\"2084.078125\" xlink:href=\"#DejaVuSans-61\"/>\r\n       <use x=\"2145.357422\" xlink:href=\"#DejaVuSans-73\"/>\r\n       <use x=\"2197.457031\" xlink:href=\"#DejaVuSans-75\"/>\r\n       <use x=\"2260.835938\" xlink:href=\"#DejaVuSans-72\"/>\r\n       <use x=\"2299.699219\" xlink:href=\"#DejaVuSans-65\"/>\r\n       <use x=\"2361.222656\" xlink:href=\"#DejaVuSans-20\"/>\r\n       <use x=\"2393.009766\" xlink:href=\"#DejaVuSans-73\"/>\r\n       <use x=\"2445.109375\" xlink:href=\"#DejaVuSans-74\"/>\r\n       <use x=\"2484.318359\" xlink:href=\"#DejaVuSans-61\"/>\r\n       <use x=\"2545.597656\" xlink:href=\"#DejaVuSans-74\"/>\r\n       <use x=\"2584.806641\" xlink:href=\"#DejaVuSans-65\"/>\r\n       <use x=\"2646.330078\" xlink:href=\"#DejaVuSans-20\"/>\r\n       <use x=\"2678.117188\" xlink:href=\"#DejaVuSans-6d\"/>\r\n       <use x=\"2775.529297\" xlink:href=\"#DejaVuSans-69\"/>\r\n       <use x=\"2803.3125\" xlink:href=\"#DejaVuSans-6e\"/>\r\n       <use x=\"2866.691406\" xlink:href=\"#DejaVuSans-64\"/>\r\n       <use x=\"2930.167969\" xlink:href=\"#DejaVuSans-20\"/>\r\n       <use x=\"2961.955078\" xlink:href=\"#DejaVuSans-68\"/>\r\n       <use x=\"3025.333984\" xlink:href=\"#DejaVuSans-65\"/>\r\n       <use x=\"3086.857422\" xlink:href=\"#DejaVuSans-61\"/>\r\n       <use x=\"3148.136719\" xlink:href=\"#DejaVuSans-72\"/>\r\n       <use x=\"3189.25\" xlink:href=\"#DejaVuSans-74\"/>\r\n       <use x=\"3228.458984\" xlink:href=\"#DejaVuSans-20\"/>\r\n       <use x=\"3260.246094\" xlink:href=\"#DejaVuSans-63\"/>\r\n       <use x=\"3315.226562\" xlink:href=\"#DejaVuSans-6f\"/>\r\n       <use x=\"3376.408203\" xlink:href=\"#DejaVuSans-75\"/>\r\n       <use x=\"3439.787109\" xlink:href=\"#DejaVuSans-73\"/>\r\n       <use x=\"3491.886719\" xlink:href=\"#DejaVuSans-69\"/>\r\n       <use x=\"3519.669922\" xlink:href=\"#DejaVuSans-6e\"/>\r\n       <use x=\"3583.048828\" xlink:href=\"#DejaVuSans-73\"/>\r\n      </g>\r\n     </g>\r\n    </g>\r\n    <g id=\"ytick_20\">\r\n     <g id=\"line2d_29\">\r\n      <g>\r\n       <use style=\"stroke:#000000;stroke-width:0.8;\" x=\"418.914063\" xlink:href=\"#m8630bec162\" y=\"197.46\"/>\r\n      </g>\r\n     </g>\r\n     <g id=\"text_29\">\r\n      <!-- 2 family country character mind world idea fortune house marriage sister -->\r\n      <g transform=\"translate(43.271875 201.259219)scale(0.1 -0.1)\">\r\n       <use xlink:href=\"#DejaVuSans-32\"/>\r\n       <use x=\"63.623047\" xlink:href=\"#DejaVuSans-20\"/>\r\n       <use x=\"95.410156\" xlink:href=\"#DejaVuSans-66\"/>\r\n       <use x=\"130.615234\" xlink:href=\"#DejaVuSans-61\"/>\r\n       <use x=\"191.894531\" xlink:href=\"#DejaVuSans-6d\"/>\r\n       <use x=\"289.306641\" xlink:href=\"#DejaVuSans-69\"/>\r\n       <use x=\"317.089844\" xlink:href=\"#DejaVuSans-6c\"/>\r\n       <use x=\"344.873047\" xlink:href=\"#DejaVuSans-79\"/>\r\n       <use x=\"404.052734\" xlink:href=\"#DejaVuSans-20\"/>\r\n       <use x=\"435.839844\" xlink:href=\"#DejaVuSans-63\"/>\r\n       <use x=\"490.820312\" xlink:href=\"#DejaVuSans-6f\"/>\r\n       <use x=\"552.001953\" xlink:href=\"#DejaVuSans-75\"/>\r\n       <use x=\"615.380859\" xlink:href=\"#DejaVuSans-6e\"/>\r\n       <use x=\"678.759766\" xlink:href=\"#DejaVuSans-74\"/>\r\n       <use x=\"717.96875\" xlink:href=\"#DejaVuSans-72\"/>\r\n       <use x=\"759.082031\" xlink:href=\"#DejaVuSans-79\"/>\r\n       <use x=\"818.261719\" xlink:href=\"#DejaVuSans-20\"/>\r\n       <use x=\"850.048828\" xlink:href=\"#DejaVuSans-63\"/>\r\n       <use x=\"905.029297\" xlink:href=\"#DejaVuSans-68\"/>\r\n       <use x=\"968.408203\" xlink:href=\"#DejaVuSans-61\"/>\r\n       <use x=\"1029.6875\" xlink:href=\"#DejaVuSans-72\"/>\r\n       <use x=\"1070.800781\" xlink:href=\"#DejaVuSans-61\"/>\r\n       <use x=\"1132.080078\" xlink:href=\"#DejaVuSans-63\"/>\r\n       <use x=\"1187.060547\" xlink:href=\"#DejaVuSans-74\"/>\r\n       <use x=\"1226.269531\" xlink:href=\"#DejaVuSans-65\"/>\r\n       <use x=\"1287.792969\" xlink:href=\"#DejaVuSans-72\"/>\r\n       <use x=\"1328.90625\" xlink:href=\"#DejaVuSans-20\"/>\r\n       <use x=\"1360.693359\" xlink:href=\"#DejaVuSans-6d\"/>\r\n       <use x=\"1458.105469\" xlink:href=\"#DejaVuSans-69\"/>\r\n       <use x=\"1485.888672\" xlink:href=\"#DejaVuSans-6e\"/>\r\n       <use x=\"1549.267578\" xlink:href=\"#DejaVuSans-64\"/>\r\n       <use x=\"1612.744141\" xlink:href=\"#DejaVuSans-20\"/>\r\n       <use x=\"1644.53125\" xlink:href=\"#DejaVuSans-77\"/>\r\n       <use x=\"1726.318359\" xlink:href=\"#DejaVuSans-6f\"/>\r\n       <use x=\"1787.5\" xlink:href=\"#DejaVuSans-72\"/>\r\n       <use x=\"1828.613281\" xlink:href=\"#DejaVuSans-6c\"/>\r\n       <use x=\"1856.396484\" xlink:href=\"#DejaVuSans-64\"/>\r\n       <use x=\"1919.873047\" xlink:href=\"#DejaVuSans-20\"/>\r\n       <use x=\"1951.660156\" xlink:href=\"#DejaVuSans-69\"/>\r\n       <use x=\"1979.443359\" xlink:href=\"#DejaVuSans-64\"/>\r\n       <use x=\"2042.919922\" xlink:href=\"#DejaVuSans-65\"/>\r\n       <use x=\"2104.443359\" xlink:href=\"#DejaVuSans-61\"/>\r\n       <use x=\"2165.722656\" xlink:href=\"#DejaVuSans-20\"/>\r\n       <use x=\"2197.509766\" xlink:href=\"#DejaVuSans-66\"/>\r\n       <use x=\"2232.714844\" xlink:href=\"#DejaVuSans-6f\"/>\r\n       <use x=\"2293.896484\" xlink:href=\"#DejaVuSans-72\"/>\r\n       <use x=\"2335.009766\" xlink:href=\"#DejaVuSans-74\"/>\r\n       <use x=\"2374.21875\" xlink:href=\"#DejaVuSans-75\"/>\r\n       <use x=\"2437.597656\" xlink:href=\"#DejaVuSans-6e\"/>\r\n       <use x=\"2500.976562\" xlink:href=\"#DejaVuSans-65\"/>\r\n       <use x=\"2562.5\" xlink:href=\"#DejaVuSans-20\"/>\r\n       <use x=\"2594.287109\" xlink:href=\"#DejaVuSans-68\"/>\r\n       <use x=\"2657.666016\" xlink:href=\"#DejaVuSans-6f\"/>\r\n       <use x=\"2718.847656\" xlink:href=\"#DejaVuSans-75\"/>\r\n       <use x=\"2782.226562\" xlink:href=\"#DejaVuSans-73\"/>\r\n       <use x=\"2834.326172\" xlink:href=\"#DejaVuSans-65\"/>\r\n       <use x=\"2895.849609\" xlink:href=\"#DejaVuSans-20\"/>\r\n       <use x=\"2927.636719\" xlink:href=\"#DejaVuSans-6d\"/>\r\n       <use x=\"3025.048828\" xlink:href=\"#DejaVuSans-61\"/>\r\n       <use x=\"3086.328125\" xlink:href=\"#DejaVuSans-72\"/>\r\n       <use x=\"3125.691406\" xlink:href=\"#DejaVuSans-72\"/>\r\n       <use x=\"3166.804688\" xlink:href=\"#DejaVuSans-69\"/>\r\n       <use x=\"3194.587891\" xlink:href=\"#DejaVuSans-61\"/>\r\n       <use x=\"3255.867188\" xlink:href=\"#DejaVuSans-67\"/>\r\n       <use x=\"3319.34375\" xlink:href=\"#DejaVuSans-65\"/>\r\n       <use x=\"3380.867188\" xlink:href=\"#DejaVuSans-20\"/>\r\n       <use x=\"3412.654297\" xlink:href=\"#DejaVuSans-73\"/>\r\n       <use x=\"3464.753906\" xlink:href=\"#DejaVuSans-69\"/>\r\n       <use x=\"3492.537109\" xlink:href=\"#DejaVuSans-73\"/>\r\n       <use x=\"3544.636719\" xlink:href=\"#DejaVuSans-74\"/>\r\n       <use x=\"3583.845703\" xlink:href=\"#DejaVuSans-65\"/>\r\n       <use x=\"3645.369141\" xlink:href=\"#DejaVuSans-72\"/>\r\n      </g>\r\n     </g>\r\n    </g>\r\n    <g id=\"ytick_21\">\r\n     <g id=\"line2d_30\">\r\n      <g>\r\n       <use style=\"stroke:#000000;stroke-width:0.8;\" x=\"418.914063\" xlink:href=\"#m8630bec162\" y=\"179.34\"/>\r\n      </g>\r\n     </g>\r\n     <g id=\"text_30\">\r\n      <!-- 23 aunt uncle sister pleasure better time way moment room did -->\r\n      <g transform=\"translate(90.43125 183.139219)scale(0.1 -0.1)\">\r\n       <use xlink:href=\"#DejaVuSans-32\"/>\r\n       <use x=\"63.623047\" xlink:href=\"#DejaVuSans-33\"/>\r\n       <use x=\"127.246094\" xlink:href=\"#DejaVuSans-20\"/>\r\n       <use x=\"159.033203\" xlink:href=\"#DejaVuSans-61\"/>\r\n       <use x=\"220.3125\" xlink:href=\"#DejaVuSans-75\"/>\r\n       <use x=\"283.691406\" xlink:href=\"#DejaVuSans-6e\"/>\r\n       <use x=\"347.070312\" xlink:href=\"#DejaVuSans-74\"/>\r\n       <use x=\"386.279297\" xlink:href=\"#DejaVuSans-20\"/>\r\n       <use x=\"418.066406\" xlink:href=\"#DejaVuSans-75\"/>\r\n       <use x=\"481.445312\" xlink:href=\"#DejaVuSans-6e\"/>\r\n       <use x=\"544.824219\" xlink:href=\"#DejaVuSans-63\"/>\r\n       <use x=\"599.804688\" xlink:href=\"#DejaVuSans-6c\"/>\r\n       <use x=\"627.587891\" xlink:href=\"#DejaVuSans-65\"/>\r\n       <use x=\"689.111328\" xlink:href=\"#DejaVuSans-20\"/>\r\n       <use x=\"720.898438\" xlink:href=\"#DejaVuSans-73\"/>\r\n       <use x=\"772.998047\" xlink:href=\"#DejaVuSans-69\"/>\r\n       <use x=\"800.78125\" xlink:href=\"#DejaVuSans-73\"/>\r\n       <use x=\"852.880859\" xlink:href=\"#DejaVuSans-74\"/>\r\n       <use x=\"892.089844\" xlink:href=\"#DejaVuSans-65\"/>\r\n       <use x=\"953.613281\" xlink:href=\"#DejaVuSans-72\"/>\r\n       <use x=\"994.726562\" xlink:href=\"#DejaVuSans-20\"/>\r\n       <use x=\"1026.513672\" xlink:href=\"#DejaVuSans-70\"/>\r\n       <use x=\"1089.990234\" xlink:href=\"#DejaVuSans-6c\"/>\r\n       <use x=\"1117.773438\" xlink:href=\"#DejaVuSans-65\"/>\r\n       <use x=\"1179.296875\" xlink:href=\"#DejaVuSans-61\"/>\r\n       <use x=\"1240.576172\" xlink:href=\"#DejaVuSans-73\"/>\r\n       <use x=\"1292.675781\" xlink:href=\"#DejaVuSans-75\"/>\r\n       <use x=\"1356.054688\" xlink:href=\"#DejaVuSans-72\"/>\r\n       <use x=\"1394.917969\" xlink:href=\"#DejaVuSans-65\"/>\r\n       <use x=\"1456.441406\" xlink:href=\"#DejaVuSans-20\"/>\r\n       <use x=\"1488.228516\" xlink:href=\"#DejaVuSans-62\"/>\r\n       <use x=\"1551.705078\" xlink:href=\"#DejaVuSans-65\"/>\r\n       <use x=\"1613.228516\" xlink:href=\"#DejaVuSans-74\"/>\r\n       <use x=\"1652.4375\" xlink:href=\"#DejaVuSans-74\"/>\r\n       <use x=\"1691.646484\" xlink:href=\"#DejaVuSans-65\"/>\r\n       <use x=\"1753.169922\" xlink:href=\"#DejaVuSans-72\"/>\r\n       <use x=\"1794.283203\" xlink:href=\"#DejaVuSans-20\"/>\r\n       <use x=\"1826.070312\" xlink:href=\"#DejaVuSans-74\"/>\r\n       <use x=\"1865.279297\" xlink:href=\"#DejaVuSans-69\"/>\r\n       <use x=\"1893.0625\" xlink:href=\"#DejaVuSans-6d\"/>\r\n       <use x=\"1990.474609\" xlink:href=\"#DejaVuSans-65\"/>\r\n       <use x=\"2051.998047\" xlink:href=\"#DejaVuSans-20\"/>\r\n       <use x=\"2083.785156\" xlink:href=\"#DejaVuSans-77\"/>\r\n       <use x=\"2165.572266\" xlink:href=\"#DejaVuSans-61\"/>\r\n       <use x=\"2226.851562\" xlink:href=\"#DejaVuSans-79\"/>\r\n       <use x=\"2286.03125\" xlink:href=\"#DejaVuSans-20\"/>\r\n       <use x=\"2317.818359\" xlink:href=\"#DejaVuSans-6d\"/>\r\n       <use x=\"2415.230469\" xlink:href=\"#DejaVuSans-6f\"/>\r\n       <use x=\"2476.412109\" xlink:href=\"#DejaVuSans-6d\"/>\r\n       <use x=\"2573.824219\" xlink:href=\"#DejaVuSans-65\"/>\r\n       <use x=\"2635.347656\" xlink:href=\"#DejaVuSans-6e\"/>\r\n       <use x=\"2698.726562\" xlink:href=\"#DejaVuSans-74\"/>\r\n       <use x=\"2737.935547\" xlink:href=\"#DejaVuSans-20\"/>\r\n       <use x=\"2769.722656\" xlink:href=\"#DejaVuSans-72\"/>\r\n       <use x=\"2808.585938\" xlink:href=\"#DejaVuSans-6f\"/>\r\n       <use x=\"2869.767578\" xlink:href=\"#DejaVuSans-6f\"/>\r\n       <use x=\"2930.949219\" xlink:href=\"#DejaVuSans-6d\"/>\r\n       <use x=\"3028.361328\" xlink:href=\"#DejaVuSans-20\"/>\r\n       <use x=\"3060.148438\" xlink:href=\"#DejaVuSans-64\"/>\r\n       <use x=\"3123.625\" xlink:href=\"#DejaVuSans-69\"/>\r\n       <use x=\"3151.408203\" xlink:href=\"#DejaVuSans-64\"/>\r\n      </g>\r\n     </g>\r\n    </g>\r\n    <g id=\"ytick_22\">\r\n     <g id=\"line2d_31\">\r\n      <g>\r\n       <use style=\"stroke:#000000;stroke-width:0.8;\" x=\"418.914063\" xlink:href=\"#m8630bec162\" y=\"161.22\"/>\r\n      </g>\r\n     </g>\r\n     <g id=\"text_31\">\r\n      <!-- 20 walk smile half time end house attention place behaviour eyes -->\r\n      <g transform=\"translate(81.335938 165.019219)scale(0.1 -0.1)\">\r\n       <use xlink:href=\"#DejaVuSans-32\"/>\r\n       <use x=\"63.623047\" xlink:href=\"#DejaVuSans-30\"/>\r\n       <use x=\"127.246094\" xlink:href=\"#DejaVuSans-20\"/>\r\n       <use x=\"159.033203\" xlink:href=\"#DejaVuSans-77\"/>\r\n       <use x=\"240.820312\" xlink:href=\"#DejaVuSans-61\"/>\r\n       <use x=\"302.099609\" xlink:href=\"#DejaVuSans-6c\"/>\r\n       <use x=\"329.882812\" xlink:href=\"#DejaVuSans-6b\"/>\r\n       <use x=\"387.792969\" xlink:href=\"#DejaVuSans-20\"/>\r\n       <use x=\"419.580078\" xlink:href=\"#DejaVuSans-73\"/>\r\n       <use x=\"471.679688\" xlink:href=\"#DejaVuSans-6d\"/>\r\n       <use x=\"569.091797\" xlink:href=\"#DejaVuSans-69\"/>\r\n       <use x=\"596.875\" xlink:href=\"#DejaVuSans-6c\"/>\r\n       <use x=\"624.658203\" xlink:href=\"#DejaVuSans-65\"/>\r\n       <use x=\"686.181641\" xlink:href=\"#DejaVuSans-20\"/>\r\n       <use x=\"717.96875\" xlink:href=\"#DejaVuSans-68\"/>\r\n       <use x=\"781.347656\" xlink:href=\"#DejaVuSans-61\"/>\r\n       <use x=\"842.626953\" xlink:href=\"#DejaVuSans-6c\"/>\r\n       <use x=\"870.410156\" xlink:href=\"#DejaVuSans-66\"/>\r\n       <use x=\"905.615234\" xlink:href=\"#DejaVuSans-20\"/>\r\n       <use x=\"937.402344\" xlink:href=\"#DejaVuSans-74\"/>\r\n       <use x=\"976.611328\" xlink:href=\"#DejaVuSans-69\"/>\r\n       <use x=\"1004.394531\" xlink:href=\"#DejaVuSans-6d\"/>\r\n       <use x=\"1101.806641\" xlink:href=\"#DejaVuSans-65\"/>\r\n       <use x=\"1163.330078\" xlink:href=\"#DejaVuSans-20\"/>\r\n       <use x=\"1195.117188\" xlink:href=\"#DejaVuSans-65\"/>\r\n       <use x=\"1256.640625\" xlink:href=\"#DejaVuSans-6e\"/>\r\n       <use x=\"1320.019531\" xlink:href=\"#DejaVuSans-64\"/>\r\n       <use x=\"1383.496094\" xlink:href=\"#DejaVuSans-20\"/>\r\n       <use x=\"1415.283203\" xlink:href=\"#DejaVuSans-68\"/>\r\n       <use x=\"1478.662109\" xlink:href=\"#DejaVuSans-6f\"/>\r\n       <use x=\"1539.84375\" xlink:href=\"#DejaVuSans-75\"/>\r\n       <use x=\"1603.222656\" xlink:href=\"#DejaVuSans-73\"/>\r\n       <use x=\"1655.322266\" xlink:href=\"#DejaVuSans-65\"/>\r\n       <use x=\"1716.845703\" xlink:href=\"#DejaVuSans-20\"/>\r\n       <use x=\"1748.632812\" xlink:href=\"#DejaVuSans-61\"/>\r\n       <use x=\"1809.912109\" xlink:href=\"#DejaVuSans-74\"/>\r\n       <use x=\"1849.121094\" xlink:href=\"#DejaVuSans-74\"/>\r\n       <use x=\"1888.330078\" xlink:href=\"#DejaVuSans-65\"/>\r\n       <use x=\"1949.853516\" xlink:href=\"#DejaVuSans-6e\"/>\r\n       <use x=\"2013.232422\" xlink:href=\"#DejaVuSans-74\"/>\r\n       <use x=\"2052.441406\" xlink:href=\"#DejaVuSans-69\"/>\r\n       <use x=\"2080.224609\" xlink:href=\"#DejaVuSans-6f\"/>\r\n       <use x=\"2141.40625\" xlink:href=\"#DejaVuSans-6e\"/>\r\n       <use x=\"2204.785156\" xlink:href=\"#DejaVuSans-20\"/>\r\n       <use x=\"2236.572266\" xlink:href=\"#DejaVuSans-70\"/>\r\n       <use x=\"2300.048828\" xlink:href=\"#DejaVuSans-6c\"/>\r\n       <use x=\"2327.832031\" xlink:href=\"#DejaVuSans-61\"/>\r\n       <use x=\"2389.111328\" xlink:href=\"#DejaVuSans-63\"/>\r\n       <use x=\"2444.091797\" xlink:href=\"#DejaVuSans-65\"/>\r\n       <use x=\"2505.615234\" xlink:href=\"#DejaVuSans-20\"/>\r\n       <use x=\"2537.402344\" xlink:href=\"#DejaVuSans-62\"/>\r\n       <use x=\"2600.878906\" xlink:href=\"#DejaVuSans-65\"/>\r\n       <use x=\"2662.402344\" xlink:href=\"#DejaVuSans-68\"/>\r\n       <use x=\"2725.78125\" xlink:href=\"#DejaVuSans-61\"/>\r\n       <use x=\"2787.060547\" xlink:href=\"#DejaVuSans-76\"/>\r\n       <use x=\"2846.240234\" xlink:href=\"#DejaVuSans-69\"/>\r\n       <use x=\"2874.023438\" xlink:href=\"#DejaVuSans-6f\"/>\r\n       <use x=\"2935.205078\" xlink:href=\"#DejaVuSans-75\"/>\r\n       <use x=\"2998.583984\" xlink:href=\"#DejaVuSans-72\"/>\r\n       <use x=\"3039.697266\" xlink:href=\"#DejaVuSans-20\"/>\r\n       <use x=\"3071.484375\" xlink:href=\"#DejaVuSans-65\"/>\r\n       <use x=\"3133.007812\" xlink:href=\"#DejaVuSans-79\"/>\r\n       <use x=\"3192.1875\" xlink:href=\"#DejaVuSans-65\"/>\r\n       <use x=\"3253.710938\" xlink:href=\"#DejaVuSans-73\"/>\r\n      </g>\r\n     </g>\r\n    </g>\r\n    <g id=\"ytick_23\">\r\n     <g id=\"line2d_32\">\r\n      <g>\r\n       <use style=\"stroke:#000000;stroke-width:0.8;\" x=\"418.914063\" xlink:href=\"#m8630bec162\" y=\"143.1\"/>\r\n      </g>\r\n     </g>\r\n     <g id=\"text_32\">\r\n      <!-- 29 father family mind house attention fathers gentlemen mother time subject -->\r\n      <g transform=\"translate(20.878125 146.899219)scale(0.1 -0.1)\">\r\n       <use xlink:href=\"#DejaVuSans-32\"/>\r\n       <use x=\"63.623047\" xlink:href=\"#DejaVuSans-39\"/>\r\n       <use x=\"127.246094\" xlink:href=\"#DejaVuSans-20\"/>\r\n       <use x=\"159.033203\" xlink:href=\"#DejaVuSans-66\"/>\r\n       <use x=\"194.238281\" xlink:href=\"#DejaVuSans-61\"/>\r\n       <use x=\"255.517578\" xlink:href=\"#DejaVuSans-74\"/>\r\n       <use x=\"294.726562\" xlink:href=\"#DejaVuSans-68\"/>\r\n       <use x=\"358.105469\" xlink:href=\"#DejaVuSans-65\"/>\r\n       <use x=\"419.628906\" xlink:href=\"#DejaVuSans-72\"/>\r\n       <use x=\"460.742188\" xlink:href=\"#DejaVuSans-20\"/>\r\n       <use x=\"492.529297\" xlink:href=\"#DejaVuSans-66\"/>\r\n       <use x=\"527.734375\" xlink:href=\"#DejaVuSans-61\"/>\r\n       <use x=\"589.013672\" xlink:href=\"#DejaVuSans-6d\"/>\r\n       <use x=\"686.425781\" xlink:href=\"#DejaVuSans-69\"/>\r\n       <use x=\"714.208984\" xlink:href=\"#DejaVuSans-6c\"/>\r\n       <use x=\"741.992188\" xlink:href=\"#DejaVuSans-79\"/>\r\n       <use x=\"801.171875\" xlink:href=\"#DejaVuSans-20\"/>\r\n       <use x=\"832.958984\" xlink:href=\"#DejaVuSans-6d\"/>\r\n       <use x=\"930.371094\" xlink:href=\"#DejaVuSans-69\"/>\r\n       <use x=\"958.154297\" xlink:href=\"#DejaVuSans-6e\"/>\r\n       <use x=\"1021.533203\" xlink:href=\"#DejaVuSans-64\"/>\r\n       <use x=\"1085.009766\" xlink:href=\"#DejaVuSans-20\"/>\r\n       <use x=\"1116.796875\" xlink:href=\"#DejaVuSans-68\"/>\r\n       <use x=\"1180.175781\" xlink:href=\"#DejaVuSans-6f\"/>\r\n       <use x=\"1241.357422\" xlink:href=\"#DejaVuSans-75\"/>\r\n       <use x=\"1304.736328\" xlink:href=\"#DejaVuSans-73\"/>\r\n       <use x=\"1356.835938\" xlink:href=\"#DejaVuSans-65\"/>\r\n       <use x=\"1418.359375\" xlink:href=\"#DejaVuSans-20\"/>\r\n       <use x=\"1450.146484\" xlink:href=\"#DejaVuSans-61\"/>\r\n       <use x=\"1511.425781\" xlink:href=\"#DejaVuSans-74\"/>\r\n       <use x=\"1550.634766\" xlink:href=\"#DejaVuSans-74\"/>\r\n       <use x=\"1589.84375\" xlink:href=\"#DejaVuSans-65\"/>\r\n       <use x=\"1651.367188\" xlink:href=\"#DejaVuSans-6e\"/>\r\n       <use x=\"1714.746094\" xlink:href=\"#DejaVuSans-74\"/>\r\n       <use x=\"1753.955078\" xlink:href=\"#DejaVuSans-69\"/>\r\n       <use x=\"1781.738281\" xlink:href=\"#DejaVuSans-6f\"/>\r\n       <use x=\"1842.919922\" xlink:href=\"#DejaVuSans-6e\"/>\r\n       <use x=\"1906.298828\" xlink:href=\"#DejaVuSans-20\"/>\r\n       <use x=\"1938.085938\" xlink:href=\"#DejaVuSans-66\"/>\r\n       <use x=\"1973.291016\" xlink:href=\"#DejaVuSans-61\"/>\r\n       <use x=\"2034.570312\" xlink:href=\"#DejaVuSans-74\"/>\r\n       <use x=\"2073.779297\" xlink:href=\"#DejaVuSans-68\"/>\r\n       <use x=\"2137.158203\" xlink:href=\"#DejaVuSans-65\"/>\r\n       <use x=\"2198.681641\" xlink:href=\"#DejaVuSans-72\"/>\r\n       <use x=\"2239.794922\" xlink:href=\"#DejaVuSans-73\"/>\r\n       <use x=\"2291.894531\" xlink:href=\"#DejaVuSans-20\"/>\r\n       <use x=\"2323.681641\" xlink:href=\"#DejaVuSans-67\"/>\r\n       <use x=\"2387.158203\" xlink:href=\"#DejaVuSans-65\"/>\r\n       <use x=\"2448.681641\" xlink:href=\"#DejaVuSans-6e\"/>\r\n       <use x=\"2512.060547\" xlink:href=\"#DejaVuSans-74\"/>\r\n       <use x=\"2551.269531\" xlink:href=\"#DejaVuSans-6c\"/>\r\n       <use x=\"2579.052734\" xlink:href=\"#DejaVuSans-65\"/>\r\n       <use x=\"2640.576172\" xlink:href=\"#DejaVuSans-6d\"/>\r\n       <use x=\"2737.988281\" xlink:href=\"#DejaVuSans-65\"/>\r\n       <use x=\"2799.511719\" xlink:href=\"#DejaVuSans-6e\"/>\r\n       <use x=\"2862.890625\" xlink:href=\"#DejaVuSans-20\"/>\r\n       <use x=\"2894.677734\" xlink:href=\"#DejaVuSans-6d\"/>\r\n       <use x=\"2992.089844\" xlink:href=\"#DejaVuSans-6f\"/>\r\n       <use x=\"3053.271484\" xlink:href=\"#DejaVuSans-74\"/>\r\n       <use x=\"3092.480469\" xlink:href=\"#DejaVuSans-68\"/>\r\n       <use x=\"3155.859375\" xlink:href=\"#DejaVuSans-65\"/>\r\n       <use x=\"3217.382812\" xlink:href=\"#DejaVuSans-72\"/>\r\n       <use x=\"3258.496094\" xlink:href=\"#DejaVuSans-20\"/>\r\n       <use x=\"3290.283203\" xlink:href=\"#DejaVuSans-74\"/>\r\n       <use x=\"3329.492188\" xlink:href=\"#DejaVuSans-69\"/>\r\n       <use x=\"3357.275391\" xlink:href=\"#DejaVuSans-6d\"/>\r\n       <use x=\"3454.6875\" xlink:href=\"#DejaVuSans-65\"/>\r\n       <use x=\"3516.210938\" xlink:href=\"#DejaVuSans-20\"/>\r\n       <use x=\"3547.998047\" xlink:href=\"#DejaVuSans-73\"/>\r\n       <use x=\"3600.097656\" xlink:href=\"#DejaVuSans-75\"/>\r\n       <use x=\"3663.476562\" xlink:href=\"#DejaVuSans-62\"/>\r\n       <use x=\"3726.953125\" xlink:href=\"#DejaVuSans-6a\"/>\r\n       <use x=\"3754.736328\" xlink:href=\"#DejaVuSans-65\"/>\r\n       <use x=\"3816.259766\" xlink:href=\"#DejaVuSans-63\"/>\r\n       <use x=\"3871.240234\" xlink:href=\"#DejaVuSans-74\"/>\r\n      </g>\r\n     </g>\r\n    </g>\r\n    <g id=\"ytick_24\">\r\n     <g id=\"line2d_33\">\r\n      <g>\r\n       <use style=\"stroke:#000000;stroke-width:0.8;\" x=\"418.914063\" xlink:href=\"#m8630bec162\" y=\"124.98\"/>\r\n      </g>\r\n     </g>\r\n     <g id=\"text_33\">\r\n      <!-- 9 place time family sisters plan year house wife people ladies -->\r\n      <g transform=\"translate(102.832813 128.779219)scale(0.1 -0.1)\">\r\n       <use xlink:href=\"#DejaVuSans-39\"/>\r\n       <use x=\"63.623047\" xlink:href=\"#DejaVuSans-20\"/>\r\n       <use x=\"95.410156\" xlink:href=\"#DejaVuSans-70\"/>\r\n       <use x=\"158.886719\" xlink:href=\"#DejaVuSans-6c\"/>\r\n       <use x=\"186.669922\" xlink:href=\"#DejaVuSans-61\"/>\r\n       <use x=\"247.949219\" xlink:href=\"#DejaVuSans-63\"/>\r\n       <use x=\"302.929688\" xlink:href=\"#DejaVuSans-65\"/>\r\n       <use x=\"364.453125\" xlink:href=\"#DejaVuSans-20\"/>\r\n       <use x=\"396.240234\" xlink:href=\"#DejaVuSans-74\"/>\r\n       <use x=\"435.449219\" xlink:href=\"#DejaVuSans-69\"/>\r\n       <use x=\"463.232422\" xlink:href=\"#DejaVuSans-6d\"/>\r\n       <use x=\"560.644531\" xlink:href=\"#DejaVuSans-65\"/>\r\n       <use x=\"622.167969\" xlink:href=\"#DejaVuSans-20\"/>\r\n       <use x=\"653.955078\" xlink:href=\"#DejaVuSans-66\"/>\r\n       <use x=\"689.160156\" xlink:href=\"#DejaVuSans-61\"/>\r\n       <use x=\"750.439453\" xlink:href=\"#DejaVuSans-6d\"/>\r\n       <use x=\"847.851562\" xlink:href=\"#DejaVuSans-69\"/>\r\n       <use x=\"875.634766\" xlink:href=\"#DejaVuSans-6c\"/>\r\n       <use x=\"903.417969\" xlink:href=\"#DejaVuSans-79\"/>\r\n       <use x=\"962.597656\" xlink:href=\"#DejaVuSans-20\"/>\r\n       <use x=\"994.384766\" xlink:href=\"#DejaVuSans-73\"/>\r\n       <use x=\"1046.484375\" xlink:href=\"#DejaVuSans-69\"/>\r\n       <use x=\"1074.267578\" xlink:href=\"#DejaVuSans-73\"/>\r\n       <use x=\"1126.367188\" xlink:href=\"#DejaVuSans-74\"/>\r\n       <use x=\"1165.576172\" xlink:href=\"#DejaVuSans-65\"/>\r\n       <use x=\"1227.099609\" xlink:href=\"#DejaVuSans-72\"/>\r\n       <use x=\"1268.212891\" xlink:href=\"#DejaVuSans-73\"/>\r\n       <use x=\"1320.3125\" xlink:href=\"#DejaVuSans-20\"/>\r\n       <use x=\"1352.099609\" xlink:href=\"#DejaVuSans-70\"/>\r\n       <use x=\"1415.576172\" xlink:href=\"#DejaVuSans-6c\"/>\r\n       <use x=\"1443.359375\" xlink:href=\"#DejaVuSans-61\"/>\r\n       <use x=\"1504.638672\" xlink:href=\"#DejaVuSans-6e\"/>\r\n       <use x=\"1568.017578\" xlink:href=\"#DejaVuSans-20\"/>\r\n       <use x=\"1599.804688\" xlink:href=\"#DejaVuSans-79\"/>\r\n       <use x=\"1658.984375\" xlink:href=\"#DejaVuSans-65\"/>\r\n       <use x=\"1720.507812\" xlink:href=\"#DejaVuSans-61\"/>\r\n       <use x=\"1781.787109\" xlink:href=\"#DejaVuSans-72\"/>\r\n       <use x=\"1822.900391\" xlink:href=\"#DejaVuSans-20\"/>\r\n       <use x=\"1854.6875\" xlink:href=\"#DejaVuSans-68\"/>\r\n       <use x=\"1918.066406\" xlink:href=\"#DejaVuSans-6f\"/>\r\n       <use x=\"1979.248047\" xlink:href=\"#DejaVuSans-75\"/>\r\n       <use x=\"2042.626953\" xlink:href=\"#DejaVuSans-73\"/>\r\n       <use x=\"2094.726562\" xlink:href=\"#DejaVuSans-65\"/>\r\n       <use x=\"2156.25\" xlink:href=\"#DejaVuSans-20\"/>\r\n       <use x=\"2188.037109\" xlink:href=\"#DejaVuSans-77\"/>\r\n       <use x=\"2269.824219\" xlink:href=\"#DejaVuSans-69\"/>\r\n       <use x=\"2297.607422\" xlink:href=\"#DejaVuSans-66\"/>\r\n       <use x=\"2332.8125\" xlink:href=\"#DejaVuSans-65\"/>\r\n       <use x=\"2394.335938\" xlink:href=\"#DejaVuSans-20\"/>\r\n       <use x=\"2426.123047\" xlink:href=\"#DejaVuSans-70\"/>\r\n       <use x=\"2489.599609\" xlink:href=\"#DejaVuSans-65\"/>\r\n       <use x=\"2551.123047\" xlink:href=\"#DejaVuSans-6f\"/>\r\n       <use x=\"2612.304688\" xlink:href=\"#DejaVuSans-70\"/>\r\n       <use x=\"2675.78125\" xlink:href=\"#DejaVuSans-6c\"/>\r\n       <use x=\"2703.564453\" xlink:href=\"#DejaVuSans-65\"/>\r\n       <use x=\"2765.087891\" xlink:href=\"#DejaVuSans-20\"/>\r\n       <use x=\"2796.875\" xlink:href=\"#DejaVuSans-6c\"/>\r\n       <use x=\"2824.658203\" xlink:href=\"#DejaVuSans-61\"/>\r\n       <use x=\"2885.9375\" xlink:href=\"#DejaVuSans-64\"/>\r\n       <use x=\"2949.414062\" xlink:href=\"#DejaVuSans-69\"/>\r\n       <use x=\"2977.197266\" xlink:href=\"#DejaVuSans-65\"/>\r\n       <use x=\"3038.720703\" xlink:href=\"#DejaVuSans-73\"/>\r\n      </g>\r\n     </g>\r\n    </g>\r\n    <g id=\"ytick_25\">\r\n     <g id=\"line2d_34\">\r\n      <g>\r\n       <use style=\"stroke:#000000;stroke-width:0.8;\" x=\"418.914063\" xlink:href=\"#m8630bec162\" y=\"106.86\"/>\r\n      </g>\r\n     </g>\r\n     <g id=\"text_34\">\r\n      <!-- 4 man time family sister feelings happiness home opinion day life -->\r\n      <g transform=\"translate(81.80625 110.659219)scale(0.1 -0.1)\">\r\n       <use xlink:href=\"#DejaVuSans-34\"/>\r\n       <use x=\"63.623047\" xlink:href=\"#DejaVuSans-20\"/>\r\n       <use x=\"95.410156\" xlink:href=\"#DejaVuSans-6d\"/>\r\n       <use x=\"192.822266\" xlink:href=\"#DejaVuSans-61\"/>\r\n       <use x=\"254.101562\" xlink:href=\"#DejaVuSans-6e\"/>\r\n       <use x=\"317.480469\" xlink:href=\"#DejaVuSans-20\"/>\r\n       <use x=\"349.267578\" xlink:href=\"#DejaVuSans-74\"/>\r\n       <use x=\"388.476562\" xlink:href=\"#DejaVuSans-69\"/>\r\n       <use x=\"416.259766\" xlink:href=\"#DejaVuSans-6d\"/>\r\n       <use x=\"513.671875\" xlink:href=\"#DejaVuSans-65\"/>\r\n       <use x=\"575.195312\" xlink:href=\"#DejaVuSans-20\"/>\r\n       <use x=\"606.982422\" xlink:href=\"#DejaVuSans-66\"/>\r\n       <use x=\"642.1875\" xlink:href=\"#DejaVuSans-61\"/>\r\n       <use x=\"703.466797\" xlink:href=\"#DejaVuSans-6d\"/>\r\n       <use x=\"800.878906\" xlink:href=\"#DejaVuSans-69\"/>\r\n       <use x=\"828.662109\" xlink:href=\"#DejaVuSans-6c\"/>\r\n       <use x=\"856.445312\" xlink:href=\"#DejaVuSans-79\"/>\r\n       <use x=\"915.625\" xlink:href=\"#DejaVuSans-20\"/>\r\n       <use x=\"947.412109\" xlink:href=\"#DejaVuSans-73\"/>\r\n       <use x=\"999.511719\" xlink:href=\"#DejaVuSans-69\"/>\r\n       <use x=\"1027.294922\" xlink:href=\"#DejaVuSans-73\"/>\r\n       <use x=\"1079.394531\" xlink:href=\"#DejaVuSans-74\"/>\r\n       <use x=\"1118.603516\" xlink:href=\"#DejaVuSans-65\"/>\r\n       <use x=\"1180.126953\" xlink:href=\"#DejaVuSans-72\"/>\r\n       <use x=\"1221.240234\" xlink:href=\"#DejaVuSans-20\"/>\r\n       <use x=\"1253.027344\" xlink:href=\"#DejaVuSans-66\"/>\r\n       <use x=\"1288.232422\" xlink:href=\"#DejaVuSans-65\"/>\r\n       <use x=\"1349.755859\" xlink:href=\"#DejaVuSans-65\"/>\r\n       <use x=\"1411.279297\" xlink:href=\"#DejaVuSans-6c\"/>\r\n       <use x=\"1439.0625\" xlink:href=\"#DejaVuSans-69\"/>\r\n       <use x=\"1466.845703\" xlink:href=\"#DejaVuSans-6e\"/>\r\n       <use x=\"1530.224609\" xlink:href=\"#DejaVuSans-67\"/>\r\n       <use x=\"1593.701172\" xlink:href=\"#DejaVuSans-73\"/>\r\n       <use x=\"1645.800781\" xlink:href=\"#DejaVuSans-20\"/>\r\n       <use x=\"1677.587891\" xlink:href=\"#DejaVuSans-68\"/>\r\n       <use x=\"1740.966797\" xlink:href=\"#DejaVuSans-61\"/>\r\n       <use x=\"1802.246094\" xlink:href=\"#DejaVuSans-70\"/>\r\n       <use x=\"1865.722656\" xlink:href=\"#DejaVuSans-70\"/>\r\n       <use x=\"1929.199219\" xlink:href=\"#DejaVuSans-69\"/>\r\n       <use x=\"1956.982422\" xlink:href=\"#DejaVuSans-6e\"/>\r\n       <use x=\"2020.361328\" xlink:href=\"#DejaVuSans-65\"/>\r\n       <use x=\"2081.884766\" xlink:href=\"#DejaVuSans-73\"/>\r\n       <use x=\"2133.984375\" xlink:href=\"#DejaVuSans-73\"/>\r\n       <use x=\"2186.083984\" xlink:href=\"#DejaVuSans-20\"/>\r\n       <use x=\"2217.871094\" xlink:href=\"#DejaVuSans-68\"/>\r\n       <use x=\"2281.25\" xlink:href=\"#DejaVuSans-6f\"/>\r\n       <use x=\"2342.431641\" xlink:href=\"#DejaVuSans-6d\"/>\r\n       <use x=\"2439.84375\" xlink:href=\"#DejaVuSans-65\"/>\r\n       <use x=\"2501.367188\" xlink:href=\"#DejaVuSans-20\"/>\r\n       <use x=\"2533.154297\" xlink:href=\"#DejaVuSans-6f\"/>\r\n       <use x=\"2594.335938\" xlink:href=\"#DejaVuSans-70\"/>\r\n       <use x=\"2657.8125\" xlink:href=\"#DejaVuSans-69\"/>\r\n       <use x=\"2685.595703\" xlink:href=\"#DejaVuSans-6e\"/>\r\n       <use x=\"2748.974609\" xlink:href=\"#DejaVuSans-69\"/>\r\n       <use x=\"2776.757812\" xlink:href=\"#DejaVuSans-6f\"/>\r\n       <use x=\"2837.939453\" xlink:href=\"#DejaVuSans-6e\"/>\r\n       <use x=\"2901.318359\" xlink:href=\"#DejaVuSans-20\"/>\r\n       <use x=\"2933.105469\" xlink:href=\"#DejaVuSans-64\"/>\r\n       <use x=\"2996.582031\" xlink:href=\"#DejaVuSans-61\"/>\r\n       <use x=\"3057.861328\" xlink:href=\"#DejaVuSans-79\"/>\r\n       <use x=\"3117.041016\" xlink:href=\"#DejaVuSans-20\"/>\r\n       <use x=\"3148.828125\" xlink:href=\"#DejaVuSans-6c\"/>\r\n       <use x=\"3176.611328\" xlink:href=\"#DejaVuSans-69\"/>\r\n       <use x=\"3204.394531\" xlink:href=\"#DejaVuSans-66\"/>\r\n       <use x=\"3239.599609\" xlink:href=\"#DejaVuSans-65\"/>\r\n      </g>\r\n     </g>\r\n    </g>\r\n    <g id=\"ytick_26\">\r\n     <g id=\"line2d_35\">\r\n      <g>\r\n       <use style=\"stroke:#000000;stroke-width:0.8;\" x=\"418.914063\" xlink:href=\"#m8630bec162\" y=\"88.74\"/>\r\n      </g>\r\n     </g>\r\n     <g id=\"text_35\">\r\n      <!-- 6 room time countenance moment man mother letter day beauty way -->\r\n      <g transform=\"translate(59.432813 92.539219)scale(0.1 -0.1)\">\r\n       <defs>\r\n        <path d=\"M 2113 2584 \r\nQ 1688 2584 1439 2293 \r\nQ 1191 2003 1191 1497 \r\nQ 1191 994 1439 701 \r\nQ 1688 409 2113 409 \r\nQ 2538 409 2786 701 \r\nQ 3034 994 3034 1497 \r\nQ 3034 2003 2786 2293 \r\nQ 2538 2584 2113 2584 \r\nz\r\nM 3366 4563 \r\nL 3366 3988 \r\nQ 3128 4100 2886 4159 \r\nQ 2644 4219 2406 4219 \r\nQ 1781 4219 1451 3797 \r\nQ 1122 3375 1075 2522 \r\nQ 1259 2794 1537 2939 \r\nQ 1816 3084 2150 3084 \r\nQ 2853 3084 3261 2657 \r\nQ 3669 2231 3669 1497 \r\nQ 3669 778 3244 343 \r\nQ 2819 -91 2113 -91 \r\nQ 1303 -91 875 529 \r\nQ 447 1150 447 2328 \r\nQ 447 3434 972 4092 \r\nQ 1497 4750 2381 4750 \r\nQ 2619 4750 2861 4703 \r\nQ 3103 4656 3366 4563 \r\nz\r\n\" id=\"DejaVuSans-36\" transform=\"scale(0.015625)\"/>\r\n       </defs>\r\n       <use xlink:href=\"#DejaVuSans-36\"/>\r\n       <use x=\"63.623047\" xlink:href=\"#DejaVuSans-20\"/>\r\n       <use x=\"95.410156\" xlink:href=\"#DejaVuSans-72\"/>\r\n       <use x=\"134.273438\" xlink:href=\"#DejaVuSans-6f\"/>\r\n       <use x=\"195.455078\" xlink:href=\"#DejaVuSans-6f\"/>\r\n       <use x=\"256.636719\" xlink:href=\"#DejaVuSans-6d\"/>\r\n       <use x=\"354.048828\" xlink:href=\"#DejaVuSans-20\"/>\r\n       <use x=\"385.835938\" xlink:href=\"#DejaVuSans-74\"/>\r\n       <use x=\"425.044922\" xlink:href=\"#DejaVuSans-69\"/>\r\n       <use x=\"452.828125\" xlink:href=\"#DejaVuSans-6d\"/>\r\n       <use x=\"550.240234\" xlink:href=\"#DejaVuSans-65\"/>\r\n       <use x=\"611.763672\" xlink:href=\"#DejaVuSans-20\"/>\r\n       <use x=\"643.550781\" xlink:href=\"#DejaVuSans-63\"/>\r\n       <use x=\"698.53125\" xlink:href=\"#DejaVuSans-6f\"/>\r\n       <use x=\"759.712891\" xlink:href=\"#DejaVuSans-75\"/>\r\n       <use x=\"823.091797\" xlink:href=\"#DejaVuSans-6e\"/>\r\n       <use x=\"886.470703\" xlink:href=\"#DejaVuSans-74\"/>\r\n       <use x=\"925.679688\" xlink:href=\"#DejaVuSans-65\"/>\r\n       <use x=\"987.203125\" xlink:href=\"#DejaVuSans-6e\"/>\r\n       <use x=\"1050.582031\" xlink:href=\"#DejaVuSans-61\"/>\r\n       <use x=\"1111.861328\" xlink:href=\"#DejaVuSans-6e\"/>\r\n       <use x=\"1175.240234\" xlink:href=\"#DejaVuSans-63\"/>\r\n       <use x=\"1230.220703\" xlink:href=\"#DejaVuSans-65\"/>\r\n       <use x=\"1291.744141\" xlink:href=\"#DejaVuSans-20\"/>\r\n       <use x=\"1323.53125\" xlink:href=\"#DejaVuSans-6d\"/>\r\n       <use x=\"1420.943359\" xlink:href=\"#DejaVuSans-6f\"/>\r\n       <use x=\"1482.125\" xlink:href=\"#DejaVuSans-6d\"/>\r\n       <use x=\"1579.537109\" xlink:href=\"#DejaVuSans-65\"/>\r\n       <use x=\"1641.060547\" xlink:href=\"#DejaVuSans-6e\"/>\r\n       <use x=\"1704.439453\" xlink:href=\"#DejaVuSans-74\"/>\r\n       <use x=\"1743.648438\" xlink:href=\"#DejaVuSans-20\"/>\r\n       <use x=\"1775.435547\" xlink:href=\"#DejaVuSans-6d\"/>\r\n       <use x=\"1872.847656\" xlink:href=\"#DejaVuSans-61\"/>\r\n       <use x=\"1934.126953\" xlink:href=\"#DejaVuSans-6e\"/>\r\n       <use x=\"1997.505859\" xlink:href=\"#DejaVuSans-20\"/>\r\n       <use x=\"2029.292969\" xlink:href=\"#DejaVuSans-6d\"/>\r\n       <use x=\"2126.705078\" xlink:href=\"#DejaVuSans-6f\"/>\r\n       <use x=\"2187.886719\" xlink:href=\"#DejaVuSans-74\"/>\r\n       <use x=\"2227.095703\" xlink:href=\"#DejaVuSans-68\"/>\r\n       <use x=\"2290.474609\" xlink:href=\"#DejaVuSans-65\"/>\r\n       <use x=\"2351.998047\" xlink:href=\"#DejaVuSans-72\"/>\r\n       <use x=\"2393.111328\" xlink:href=\"#DejaVuSans-20\"/>\r\n       <use x=\"2424.898438\" xlink:href=\"#DejaVuSans-6c\"/>\r\n       <use x=\"2452.681641\" xlink:href=\"#DejaVuSans-65\"/>\r\n       <use x=\"2514.205078\" xlink:href=\"#DejaVuSans-74\"/>\r\n       <use x=\"2553.414062\" xlink:href=\"#DejaVuSans-74\"/>\r\n       <use x=\"2592.623047\" xlink:href=\"#DejaVuSans-65\"/>\r\n       <use x=\"2654.146484\" xlink:href=\"#DejaVuSans-72\"/>\r\n       <use x=\"2695.259766\" xlink:href=\"#DejaVuSans-20\"/>\r\n       <use x=\"2727.046875\" xlink:href=\"#DejaVuSans-64\"/>\r\n       <use x=\"2790.523438\" xlink:href=\"#DejaVuSans-61\"/>\r\n       <use x=\"2851.802734\" xlink:href=\"#DejaVuSans-79\"/>\r\n       <use x=\"2910.982422\" xlink:href=\"#DejaVuSans-20\"/>\r\n       <use x=\"2942.769531\" xlink:href=\"#DejaVuSans-62\"/>\r\n       <use x=\"3006.246094\" xlink:href=\"#DejaVuSans-65\"/>\r\n       <use x=\"3067.769531\" xlink:href=\"#DejaVuSans-61\"/>\r\n       <use x=\"3129.048828\" xlink:href=\"#DejaVuSans-75\"/>\r\n       <use x=\"3192.427734\" xlink:href=\"#DejaVuSans-74\"/>\r\n       <use x=\"3231.636719\" xlink:href=\"#DejaVuSans-79\"/>\r\n       <use x=\"3290.816406\" xlink:href=\"#DejaVuSans-20\"/>\r\n       <use x=\"3322.603516\" xlink:href=\"#DejaVuSans-77\"/>\r\n       <use x=\"3404.390625\" xlink:href=\"#DejaVuSans-61\"/>\r\n       <use x=\"3465.669922\" xlink:href=\"#DejaVuSans-79\"/>\r\n      </g>\r\n     </g>\r\n    </g>\r\n    <g id=\"ytick_27\">\r\n     <g id=\"line2d_36\">\r\n      <g>\r\n       <use style=\"stroke:#000000;stroke-width:0.8;\" x=\"418.914063\" xlink:href=\"#m8630bec162\" y=\"70.62\"/>\r\n      </g>\r\n     </g>\r\n     <g id=\"text_36\">\r\n      <!-- 16 sir sisters care oh sister town power men wonder cousin -->\r\n      <g transform=\"translate(113.99375 74.419219)scale(0.1 -0.1)\">\r\n       <use xlink:href=\"#DejaVuSans-31\"/>\r\n       <use x=\"63.623047\" xlink:href=\"#DejaVuSans-36\"/>\r\n       <use x=\"127.246094\" xlink:href=\"#DejaVuSans-20\"/>\r\n       <use x=\"159.033203\" xlink:href=\"#DejaVuSans-73\"/>\r\n       <use x=\"211.132812\" xlink:href=\"#DejaVuSans-69\"/>\r\n       <use x=\"238.916016\" xlink:href=\"#DejaVuSans-72\"/>\r\n       <use x=\"280.029297\" xlink:href=\"#DejaVuSans-20\"/>\r\n       <use x=\"311.816406\" xlink:href=\"#DejaVuSans-73\"/>\r\n       <use x=\"363.916016\" xlink:href=\"#DejaVuSans-69\"/>\r\n       <use x=\"391.699219\" xlink:href=\"#DejaVuSans-73\"/>\r\n       <use x=\"443.798828\" xlink:href=\"#DejaVuSans-74\"/>\r\n       <use x=\"483.007812\" xlink:href=\"#DejaVuSans-65\"/>\r\n       <use x=\"544.53125\" xlink:href=\"#DejaVuSans-72\"/>\r\n       <use x=\"585.644531\" xlink:href=\"#DejaVuSans-73\"/>\r\n       <use x=\"637.744141\" xlink:href=\"#DejaVuSans-20\"/>\r\n       <use x=\"669.53125\" xlink:href=\"#DejaVuSans-63\"/>\r\n       <use x=\"724.511719\" xlink:href=\"#DejaVuSans-61\"/>\r\n       <use x=\"785.791016\" xlink:href=\"#DejaVuSans-72\"/>\r\n       <use x=\"824.654297\" xlink:href=\"#DejaVuSans-65\"/>\r\n       <use x=\"886.177734\" xlink:href=\"#DejaVuSans-20\"/>\r\n       <use x=\"917.964844\" xlink:href=\"#DejaVuSans-6f\"/>\r\n       <use x=\"979.146484\" xlink:href=\"#DejaVuSans-68\"/>\r\n       <use x=\"1042.525391\" xlink:href=\"#DejaVuSans-20\"/>\r\n       <use x=\"1074.3125\" xlink:href=\"#DejaVuSans-73\"/>\r\n       <use x=\"1126.412109\" xlink:href=\"#DejaVuSans-69\"/>\r\n       <use x=\"1154.195312\" xlink:href=\"#DejaVuSans-73\"/>\r\n       <use x=\"1206.294922\" xlink:href=\"#DejaVuSans-74\"/>\r\n       <use x=\"1245.503906\" xlink:href=\"#DejaVuSans-65\"/>\r\n       <use x=\"1307.027344\" xlink:href=\"#DejaVuSans-72\"/>\r\n       <use x=\"1348.140625\" xlink:href=\"#DejaVuSans-20\"/>\r\n       <use x=\"1379.927734\" xlink:href=\"#DejaVuSans-74\"/>\r\n       <use x=\"1419.136719\" xlink:href=\"#DejaVuSans-6f\"/>\r\n       <use x=\"1480.318359\" xlink:href=\"#DejaVuSans-77\"/>\r\n       <use x=\"1562.105469\" xlink:href=\"#DejaVuSans-6e\"/>\r\n       <use x=\"1625.484375\" xlink:href=\"#DejaVuSans-20\"/>\r\n       <use x=\"1657.271484\" xlink:href=\"#DejaVuSans-70\"/>\r\n       <use x=\"1720.748047\" xlink:href=\"#DejaVuSans-6f\"/>\r\n       <use x=\"1781.929688\" xlink:href=\"#DejaVuSans-77\"/>\r\n       <use x=\"1863.716797\" xlink:href=\"#DejaVuSans-65\"/>\r\n       <use x=\"1925.240234\" xlink:href=\"#DejaVuSans-72\"/>\r\n       <use x=\"1966.353516\" xlink:href=\"#DejaVuSans-20\"/>\r\n       <use x=\"1998.140625\" xlink:href=\"#DejaVuSans-6d\"/>\r\n       <use x=\"2095.552734\" xlink:href=\"#DejaVuSans-65\"/>\r\n       <use x=\"2157.076172\" xlink:href=\"#DejaVuSans-6e\"/>\r\n       <use x=\"2220.455078\" xlink:href=\"#DejaVuSans-20\"/>\r\n       <use x=\"2252.242188\" xlink:href=\"#DejaVuSans-77\"/>\r\n       <use x=\"2334.029297\" xlink:href=\"#DejaVuSans-6f\"/>\r\n       <use x=\"2395.210938\" xlink:href=\"#DejaVuSans-6e\"/>\r\n       <use x=\"2458.589844\" xlink:href=\"#DejaVuSans-64\"/>\r\n       <use x=\"2522.066406\" xlink:href=\"#DejaVuSans-65\"/>\r\n       <use x=\"2583.589844\" xlink:href=\"#DejaVuSans-72\"/>\r\n       <use x=\"2624.703125\" xlink:href=\"#DejaVuSans-20\"/>\r\n       <use x=\"2656.490234\" xlink:href=\"#DejaVuSans-63\"/>\r\n       <use x=\"2711.470703\" xlink:href=\"#DejaVuSans-6f\"/>\r\n       <use x=\"2772.652344\" xlink:href=\"#DejaVuSans-75\"/>\r\n       <use x=\"2836.03125\" xlink:href=\"#DejaVuSans-73\"/>\r\n       <use x=\"2888.130859\" xlink:href=\"#DejaVuSans-69\"/>\r\n       <use x=\"2915.914062\" xlink:href=\"#DejaVuSans-6e\"/>\r\n      </g>\r\n     </g>\r\n    </g>\r\n    <g id=\"ytick_28\">\r\n     <g id=\"line2d_37\">\r\n      <g>\r\n       <use style=\"stroke:#000000;stroke-width:0.8;\" x=\"418.914063\" xlink:href=\"#m8630bec162\" y=\"52.5\"/>\r\n      </g>\r\n     </g>\r\n     <g id=\"text_37\">\r\n      <!-- 15 answer time day pleasure feelings way mother oh mind word -->\r\n      <g transform=\"translate(89.182813 56.299219)scale(0.1 -0.1)\">\r\n       <use xlink:href=\"#DejaVuSans-31\"/>\r\n       <use x=\"63.623047\" xlink:href=\"#DejaVuSans-35\"/>\r\n       <use x=\"127.246094\" xlink:href=\"#DejaVuSans-20\"/>\r\n       <use x=\"159.033203\" xlink:href=\"#DejaVuSans-61\"/>\r\n       <use x=\"220.3125\" xlink:href=\"#DejaVuSans-6e\"/>\r\n       <use x=\"283.691406\" xlink:href=\"#DejaVuSans-73\"/>\r\n       <use x=\"335.791016\" xlink:href=\"#DejaVuSans-77\"/>\r\n       <use x=\"417.578125\" xlink:href=\"#DejaVuSans-65\"/>\r\n       <use x=\"479.101562\" xlink:href=\"#DejaVuSans-72\"/>\r\n       <use x=\"520.214844\" xlink:href=\"#DejaVuSans-20\"/>\r\n       <use x=\"552.001953\" xlink:href=\"#DejaVuSans-74\"/>\r\n       <use x=\"591.210938\" xlink:href=\"#DejaVuSans-69\"/>\r\n       <use x=\"618.994141\" xlink:href=\"#DejaVuSans-6d\"/>\r\n       <use x=\"716.40625\" xlink:href=\"#DejaVuSans-65\"/>\r\n       <use x=\"777.929688\" xlink:href=\"#DejaVuSans-20\"/>\r\n       <use x=\"809.716797\" xlink:href=\"#DejaVuSans-64\"/>\r\n       <use x=\"873.193359\" xlink:href=\"#DejaVuSans-61\"/>\r\n       <use x=\"934.472656\" xlink:href=\"#DejaVuSans-79\"/>\r\n       <use x=\"993.652344\" xlink:href=\"#DejaVuSans-20\"/>\r\n       <use x=\"1025.439453\" xlink:href=\"#DejaVuSans-70\"/>\r\n       <use x=\"1088.916016\" xlink:href=\"#DejaVuSans-6c\"/>\r\n       <use x=\"1116.699219\" xlink:href=\"#DejaVuSans-65\"/>\r\n       <use x=\"1178.222656\" xlink:href=\"#DejaVuSans-61\"/>\r\n       <use x=\"1239.501953\" xlink:href=\"#DejaVuSans-73\"/>\r\n       <use x=\"1291.601562\" xlink:href=\"#DejaVuSans-75\"/>\r\n       <use x=\"1354.980469\" xlink:href=\"#DejaVuSans-72\"/>\r\n       <use x=\"1393.84375\" xlink:href=\"#DejaVuSans-65\"/>\r\n       <use x=\"1455.367188\" xlink:href=\"#DejaVuSans-20\"/>\r\n       <use x=\"1487.154297\" xlink:href=\"#DejaVuSans-66\"/>\r\n       <use x=\"1522.359375\" xlink:href=\"#DejaVuSans-65\"/>\r\n       <use x=\"1583.882812\" xlink:href=\"#DejaVuSans-65\"/>\r\n       <use x=\"1645.40625\" xlink:href=\"#DejaVuSans-6c\"/>\r\n       <use x=\"1673.189453\" xlink:href=\"#DejaVuSans-69\"/>\r\n       <use x=\"1700.972656\" xlink:href=\"#DejaVuSans-6e\"/>\r\n       <use x=\"1764.351562\" xlink:href=\"#DejaVuSans-67\"/>\r\n       <use x=\"1827.828125\" xlink:href=\"#DejaVuSans-73\"/>\r\n       <use x=\"1879.927734\" xlink:href=\"#DejaVuSans-20\"/>\r\n       <use x=\"1911.714844\" xlink:href=\"#DejaVuSans-77\"/>\r\n       <use x=\"1993.501953\" xlink:href=\"#DejaVuSans-61\"/>\r\n       <use x=\"2054.78125\" xlink:href=\"#DejaVuSans-79\"/>\r\n       <use x=\"2113.960938\" xlink:href=\"#DejaVuSans-20\"/>\r\n       <use x=\"2145.748047\" xlink:href=\"#DejaVuSans-6d\"/>\r\n       <use x=\"2243.160156\" xlink:href=\"#DejaVuSans-6f\"/>\r\n       <use x=\"2304.341797\" xlink:href=\"#DejaVuSans-74\"/>\r\n       <use x=\"2343.550781\" xlink:href=\"#DejaVuSans-68\"/>\r\n       <use x=\"2406.929688\" xlink:href=\"#DejaVuSans-65\"/>\r\n       <use x=\"2468.453125\" xlink:href=\"#DejaVuSans-72\"/>\r\n       <use x=\"2509.566406\" xlink:href=\"#DejaVuSans-20\"/>\r\n       <use x=\"2541.353516\" xlink:href=\"#DejaVuSans-6f\"/>\r\n       <use x=\"2602.535156\" xlink:href=\"#DejaVuSans-68\"/>\r\n       <use x=\"2665.914062\" xlink:href=\"#DejaVuSans-20\"/>\r\n       <use x=\"2697.701172\" xlink:href=\"#DejaVuSans-6d\"/>\r\n       <use x=\"2795.113281\" xlink:href=\"#DejaVuSans-69\"/>\r\n       <use x=\"2822.896484\" xlink:href=\"#DejaVuSans-6e\"/>\r\n       <use x=\"2886.275391\" xlink:href=\"#DejaVuSans-64\"/>\r\n       <use x=\"2949.751953\" xlink:href=\"#DejaVuSans-20\"/>\r\n       <use x=\"2981.539062\" xlink:href=\"#DejaVuSans-77\"/>\r\n       <use x=\"3063.326172\" xlink:href=\"#DejaVuSans-6f\"/>\r\n       <use x=\"3124.507812\" xlink:href=\"#DejaVuSans-72\"/>\r\n       <use x=\"3163.871094\" xlink:href=\"#DejaVuSans-64\"/>\r\n      </g>\r\n     </g>\r\n    </g>\r\n    <g id=\"ytick_29\">\r\n     <g id=\"line2d_38\">\r\n      <g>\r\n       <use style=\"stroke:#000000;stroke-width:0.8;\" x=\"418.914063\" xlink:href=\"#m8630bec162\" y=\"34.38\"/>\r\n      </g>\r\n     </g>\r\n     <g id=\"text_38\">\r\n      <!-- 26 time friend day letter sister uncle father brother morning character -->\r\n      <g transform=\"translate(59.121875 38.179219)scale(0.1 -0.1)\">\r\n       <use xlink:href=\"#DejaVuSans-32\"/>\r\n       <use x=\"63.623047\" xlink:href=\"#DejaVuSans-36\"/>\r\n       <use x=\"127.246094\" xlink:href=\"#DejaVuSans-20\"/>\r\n       <use x=\"159.033203\" xlink:href=\"#DejaVuSans-74\"/>\r\n       <use x=\"198.242188\" xlink:href=\"#DejaVuSans-69\"/>\r\n       <use x=\"226.025391\" xlink:href=\"#DejaVuSans-6d\"/>\r\n       <use x=\"323.4375\" xlink:href=\"#DejaVuSans-65\"/>\r\n       <use x=\"384.960938\" xlink:href=\"#DejaVuSans-20\"/>\r\n       <use x=\"416.748047\" xlink:href=\"#DejaVuSans-66\"/>\r\n       <use x=\"451.953125\" xlink:href=\"#DejaVuSans-72\"/>\r\n       <use x=\"493.066406\" xlink:href=\"#DejaVuSans-69\"/>\r\n       <use x=\"520.849609\" xlink:href=\"#DejaVuSans-65\"/>\r\n       <use x=\"582.373047\" xlink:href=\"#DejaVuSans-6e\"/>\r\n       <use x=\"645.751953\" xlink:href=\"#DejaVuSans-64\"/>\r\n       <use x=\"709.228516\" xlink:href=\"#DejaVuSans-20\"/>\r\n       <use x=\"741.015625\" xlink:href=\"#DejaVuSans-64\"/>\r\n       <use x=\"804.492188\" xlink:href=\"#DejaVuSans-61\"/>\r\n       <use x=\"865.771484\" xlink:href=\"#DejaVuSans-79\"/>\r\n       <use x=\"924.951172\" xlink:href=\"#DejaVuSans-20\"/>\r\n       <use x=\"956.738281\" xlink:href=\"#DejaVuSans-6c\"/>\r\n       <use x=\"984.521484\" xlink:href=\"#DejaVuSans-65\"/>\r\n       <use x=\"1046.044922\" xlink:href=\"#DejaVuSans-74\"/>\r\n       <use x=\"1085.253906\" xlink:href=\"#DejaVuSans-74\"/>\r\n       <use x=\"1124.462891\" xlink:href=\"#DejaVuSans-65\"/>\r\n       <use x=\"1185.986328\" xlink:href=\"#DejaVuSans-72\"/>\r\n       <use x=\"1227.099609\" xlink:href=\"#DejaVuSans-20\"/>\r\n       <use x=\"1258.886719\" xlink:href=\"#DejaVuSans-73\"/>\r\n       <use x=\"1310.986328\" xlink:href=\"#DejaVuSans-69\"/>\r\n       <use x=\"1338.769531\" xlink:href=\"#DejaVuSans-73\"/>\r\n       <use x=\"1390.869141\" xlink:href=\"#DejaVuSans-74\"/>\r\n       <use x=\"1430.078125\" xlink:href=\"#DejaVuSans-65\"/>\r\n       <use x=\"1491.601562\" xlink:href=\"#DejaVuSans-72\"/>\r\n       <use x=\"1532.714844\" xlink:href=\"#DejaVuSans-20\"/>\r\n       <use x=\"1564.501953\" xlink:href=\"#DejaVuSans-75\"/>\r\n       <use x=\"1627.880859\" xlink:href=\"#DejaVuSans-6e\"/>\r\n       <use x=\"1691.259766\" xlink:href=\"#DejaVuSans-63\"/>\r\n       <use x=\"1746.240234\" xlink:href=\"#DejaVuSans-6c\"/>\r\n       <use x=\"1774.023438\" xlink:href=\"#DejaVuSans-65\"/>\r\n       <use x=\"1835.546875\" xlink:href=\"#DejaVuSans-20\"/>\r\n       <use x=\"1867.333984\" xlink:href=\"#DejaVuSans-66\"/>\r\n       <use x=\"1902.539062\" xlink:href=\"#DejaVuSans-61\"/>\r\n       <use x=\"1963.818359\" xlink:href=\"#DejaVuSans-74\"/>\r\n       <use x=\"2003.027344\" xlink:href=\"#DejaVuSans-68\"/>\r\n       <use x=\"2066.40625\" xlink:href=\"#DejaVuSans-65\"/>\r\n       <use x=\"2127.929688\" xlink:href=\"#DejaVuSans-72\"/>\r\n       <use x=\"2169.042969\" xlink:href=\"#DejaVuSans-20\"/>\r\n       <use x=\"2200.830078\" xlink:href=\"#DejaVuSans-62\"/>\r\n       <use x=\"2264.306641\" xlink:href=\"#DejaVuSans-72\"/>\r\n       <use x=\"2303.169922\" xlink:href=\"#DejaVuSans-6f\"/>\r\n       <use x=\"2364.351562\" xlink:href=\"#DejaVuSans-74\"/>\r\n       <use x=\"2403.560547\" xlink:href=\"#DejaVuSans-68\"/>\r\n       <use x=\"2466.939453\" xlink:href=\"#DejaVuSans-65\"/>\r\n       <use x=\"2528.462891\" xlink:href=\"#DejaVuSans-72\"/>\r\n       <use x=\"2569.576172\" xlink:href=\"#DejaVuSans-20\"/>\r\n       <use x=\"2601.363281\" xlink:href=\"#DejaVuSans-6d\"/>\r\n       <use x=\"2698.775391\" xlink:href=\"#DejaVuSans-6f\"/>\r\n       <use x=\"2759.957031\" xlink:href=\"#DejaVuSans-72\"/>\r\n       <use x=\"2799.320312\" xlink:href=\"#DejaVuSans-6e\"/>\r\n       <use x=\"2862.699219\" xlink:href=\"#DejaVuSans-69\"/>\r\n       <use x=\"2890.482422\" xlink:href=\"#DejaVuSans-6e\"/>\r\n       <use x=\"2953.861328\" xlink:href=\"#DejaVuSans-67\"/>\r\n       <use x=\"3017.337891\" xlink:href=\"#DejaVuSans-20\"/>\r\n       <use x=\"3049.125\" xlink:href=\"#DejaVuSans-63\"/>\r\n       <use x=\"3104.105469\" xlink:href=\"#DejaVuSans-68\"/>\r\n       <use x=\"3167.484375\" xlink:href=\"#DejaVuSans-61\"/>\r\n       <use x=\"3228.763672\" xlink:href=\"#DejaVuSans-72\"/>\r\n       <use x=\"3269.876953\" xlink:href=\"#DejaVuSans-61\"/>\r\n       <use x=\"3331.15625\" xlink:href=\"#DejaVuSans-63\"/>\r\n       <use x=\"3386.136719\" xlink:href=\"#DejaVuSans-74\"/>\r\n       <use x=\"3425.345703\" xlink:href=\"#DejaVuSans-65\"/>\r\n       <use x=\"3486.869141\" xlink:href=\"#DejaVuSans-72\"/>\r\n      </g>\r\n     </g>\r\n    </g>\r\n    <g id=\"ytick_30\">\r\n     <g id=\"line2d_39\">\r\n      <g>\r\n       <use style=\"stroke:#000000;stroke-width:0.8;\" x=\"418.914063\" xlink:href=\"#m8630bec162\" y=\"16.26\"/>\r\n      </g>\r\n     </g>\r\n     <g id=\"text_39\">\r\n      <!-- 12 yes thing sister good time months oh moments pleasure away -->\r\n      <g transform=\"translate(82.809375 20.059219)scale(0.1 -0.1)\">\r\n       <use xlink:href=\"#DejaVuSans-31\"/>\r\n       <use x=\"63.623047\" xlink:href=\"#DejaVuSans-32\"/>\r\n       <use x=\"127.246094\" xlink:href=\"#DejaVuSans-20\"/>\r\n       <use x=\"159.033203\" xlink:href=\"#DejaVuSans-79\"/>\r\n       <use x=\"218.212891\" xlink:href=\"#DejaVuSans-65\"/>\r\n       <use x=\"279.736328\" xlink:href=\"#DejaVuSans-73\"/>\r\n       <use x=\"331.835938\" xlink:href=\"#DejaVuSans-20\"/>\r\n       <use x=\"363.623047\" xlink:href=\"#DejaVuSans-74\"/>\r\n       <use x=\"402.832031\" xlink:href=\"#DejaVuSans-68\"/>\r\n       <use x=\"466.210938\" xlink:href=\"#DejaVuSans-69\"/>\r\n       <use x=\"493.994141\" xlink:href=\"#DejaVuSans-6e\"/>\r\n       <use x=\"557.373047\" xlink:href=\"#DejaVuSans-67\"/>\r\n       <use x=\"620.849609\" xlink:href=\"#DejaVuSans-20\"/>\r\n       <use x=\"652.636719\" xlink:href=\"#DejaVuSans-73\"/>\r\n       <use x=\"704.736328\" xlink:href=\"#DejaVuSans-69\"/>\r\n       <use x=\"732.519531\" xlink:href=\"#DejaVuSans-73\"/>\r\n       <use x=\"784.619141\" xlink:href=\"#DejaVuSans-74\"/>\r\n       <use x=\"823.828125\" xlink:href=\"#DejaVuSans-65\"/>\r\n       <use x=\"885.351562\" xlink:href=\"#DejaVuSans-72\"/>\r\n       <use x=\"926.464844\" xlink:href=\"#DejaVuSans-20\"/>\r\n       <use x=\"958.251953\" xlink:href=\"#DejaVuSans-67\"/>\r\n       <use x=\"1021.728516\" xlink:href=\"#DejaVuSans-6f\"/>\r\n       <use x=\"1082.910156\" xlink:href=\"#DejaVuSans-6f\"/>\r\n       <use x=\"1144.091797\" xlink:href=\"#DejaVuSans-64\"/>\r\n       <use x=\"1207.568359\" xlink:href=\"#DejaVuSans-20\"/>\r\n       <use x=\"1239.355469\" xlink:href=\"#DejaVuSans-74\"/>\r\n       <use x=\"1278.564453\" xlink:href=\"#DejaVuSans-69\"/>\r\n       <use x=\"1306.347656\" xlink:href=\"#DejaVuSans-6d\"/>\r\n       <use x=\"1403.759766\" xlink:href=\"#DejaVuSans-65\"/>\r\n       <use x=\"1465.283203\" xlink:href=\"#DejaVuSans-20\"/>\r\n       <use x=\"1497.070312\" xlink:href=\"#DejaVuSans-6d\"/>\r\n       <use x=\"1594.482422\" xlink:href=\"#DejaVuSans-6f\"/>\r\n       <use x=\"1655.664062\" xlink:href=\"#DejaVuSans-6e\"/>\r\n       <use x=\"1719.042969\" xlink:href=\"#DejaVuSans-74\"/>\r\n       <use x=\"1758.251953\" xlink:href=\"#DejaVuSans-68\"/>\r\n       <use x=\"1821.630859\" xlink:href=\"#DejaVuSans-73\"/>\r\n       <use x=\"1873.730469\" xlink:href=\"#DejaVuSans-20\"/>\r\n       <use x=\"1905.517578\" xlink:href=\"#DejaVuSans-6f\"/>\r\n       <use x=\"1966.699219\" xlink:href=\"#DejaVuSans-68\"/>\r\n       <use x=\"2030.078125\" xlink:href=\"#DejaVuSans-20\"/>\r\n       <use x=\"2061.865234\" xlink:href=\"#DejaVuSans-6d\"/>\r\n       <use x=\"2159.277344\" xlink:href=\"#DejaVuSans-6f\"/>\r\n       <use x=\"2220.458984\" xlink:href=\"#DejaVuSans-6d\"/>\r\n       <use x=\"2317.871094\" xlink:href=\"#DejaVuSans-65\"/>\r\n       <use x=\"2379.394531\" xlink:href=\"#DejaVuSans-6e\"/>\r\n       <use x=\"2442.773438\" xlink:href=\"#DejaVuSans-74\"/>\r\n       <use x=\"2481.982422\" xlink:href=\"#DejaVuSans-73\"/>\r\n       <use x=\"2534.082031\" xlink:href=\"#DejaVuSans-20\"/>\r\n       <use x=\"2565.869141\" xlink:href=\"#DejaVuSans-70\"/>\r\n       <use x=\"2629.345703\" xlink:href=\"#DejaVuSans-6c\"/>\r\n       <use x=\"2657.128906\" xlink:href=\"#DejaVuSans-65\"/>\r\n       <use x=\"2718.652344\" xlink:href=\"#DejaVuSans-61\"/>\r\n       <use x=\"2779.931641\" xlink:href=\"#DejaVuSans-73\"/>\r\n       <use x=\"2832.03125\" xlink:href=\"#DejaVuSans-75\"/>\r\n       <use x=\"2895.410156\" xlink:href=\"#DejaVuSans-72\"/>\r\n       <use x=\"2934.273438\" xlink:href=\"#DejaVuSans-65\"/>\r\n       <use x=\"2995.796875\" xlink:href=\"#DejaVuSans-20\"/>\r\n       <use x=\"3027.583984\" xlink:href=\"#DejaVuSans-61\"/>\r\n       <use x=\"3088.863281\" xlink:href=\"#DejaVuSans-77\"/>\r\n       <use x=\"3170.650391\" xlink:href=\"#DejaVuSans-61\"/>\r\n       <use x=\"3231.929688\" xlink:href=\"#DejaVuSans-79\"/>\r\n      </g>\r\n     </g>\r\n    </g>\r\n    <g id=\"text_40\">\r\n     <!-- label -->\r\n     <g transform=\"translate(14.798438 291.092969)rotate(-90)scale(0.1 -0.1)\">\r\n      <use xlink:href=\"#DejaVuSans-6c\"/>\r\n      <use x=\"27.783203\" xlink:href=\"#DejaVuSans-61\"/>\r\n      <use x=\"89.0625\" xlink:href=\"#DejaVuSans-62\"/>\r\n      <use x=\"152.539062\" xlink:href=\"#DejaVuSans-65\"/>\r\n      <use x=\"214.0625\" xlink:href=\"#DejaVuSans-6c\"/>\r\n     </g>\r\n    </g>\r\n   </g>\r\n   <g id=\"patch_33\">\r\n    <path d=\"M 418.914063 550.8 \r\nL 418.914063 7.2 \r\n\" style=\"fill:none;stroke:#000000;stroke-linecap:square;stroke-linejoin:miter;stroke-width:0.8;\"/>\r\n   </g>\r\n   <g id=\"patch_34\">\r\n    <path d=\"M 697.914062 550.8 \r\nL 697.914062 7.2 \r\n\" style=\"fill:none;stroke:#000000;stroke-linecap:square;stroke-linejoin:miter;stroke-width:0.8;\"/>\r\n   </g>\r\n   <g id=\"patch_35\">\r\n    <path d=\"M 418.914063 550.8 \r\nL 697.914062 550.8 \r\n\" style=\"fill:none;stroke:#000000;stroke-linecap:square;stroke-linejoin:miter;stroke-width:0.8;\"/>\r\n   </g>\r\n   <g id=\"patch_36\">\r\n    <path d=\"M 418.914063 7.2 \r\nL 697.914062 7.2 \r\n\" style=\"fill:none;stroke:#000000;stroke-linecap:square;stroke-linejoin:miter;stroke-width:0.8;\"/>\r\n   </g>\r\n   <g id=\"legend_1\">\r\n    <g id=\"patch_37\">\r\n     <path d=\"M 575.945312 30.15625 \r\nL 690.914062 30.15625 \r\nQ 692.914062 30.15625 692.914062 28.15625 \r\nL 692.914062 14.2 \r\nQ 692.914062 12.2 690.914062 12.2 \r\nL 575.945312 12.2 \r\nQ 573.945312 12.2 573.945312 14.2 \r\nL 573.945312 28.15625 \r\nQ 573.945312 30.15625 575.945312 30.15625 \r\nz\r\n\" style=\"fill:#ffffff;opacity:0.8;stroke:#cccccc;stroke-linejoin:miter;\"/>\r\n    </g>\r\n    <g id=\"patch_38\">\r\n     <path d=\"M 577.945312 23.798437 \r\nL 597.945312 23.798437 \r\nL 597.945312 16.798437 \r\nL 577.945312 16.798437 \r\nz\r\n\" style=\"fill:#1f77b4;\"/>\r\n    </g>\r\n    <g id=\"text_41\">\r\n     <!-- doc_weight_sum -->\r\n     <g transform=\"translate(605.945312 23.798437)scale(0.1 -0.1)\">\r\n      <defs>\r\n       <path d=\"M 3263 -1063 \r\nL 3263 -1509 \r\nL -63 -1509 \r\nL -63 -1063 \r\nL 3263 -1063 \r\nz\r\n\" id=\"DejaVuSans-5f\" transform=\"scale(0.015625)\"/>\r\n      </defs>\r\n      <use xlink:href=\"#DejaVuSans-64\"/>\r\n      <use x=\"63.476562\" xlink:href=\"#DejaVuSans-6f\"/>\r\n      <use x=\"124.658203\" xlink:href=\"#DejaVuSans-63\"/>\r\n      <use x=\"179.638672\" xlink:href=\"#DejaVuSans-5f\"/>\r\n      <use x=\"229.638672\" xlink:href=\"#DejaVuSans-77\"/>\r\n      <use x=\"311.425781\" xlink:href=\"#DejaVuSans-65\"/>\r\n      <use x=\"372.949219\" xlink:href=\"#DejaVuSans-69\"/>\r\n      <use x=\"400.732422\" xlink:href=\"#DejaVuSans-67\"/>\r\n      <use x=\"464.208984\" xlink:href=\"#DejaVuSans-68\"/>\r\n      <use x=\"527.587891\" xlink:href=\"#DejaVuSans-74\"/>\r\n      <use x=\"566.796875\" xlink:href=\"#DejaVuSans-5f\"/>\r\n      <use x=\"616.796875\" xlink:href=\"#DejaVuSans-73\"/>\r\n      <use x=\"668.896484\" xlink:href=\"#DejaVuSans-75\"/>\r\n      <use x=\"732.275391\" xlink:href=\"#DejaVuSans-6d\"/>\r\n     </g>\r\n    </g>\r\n   </g>\r\n  </g>\r\n </g>\r\n <defs>\r\n  <clipPath id=\"p8cf4f69bcc\">\r\n   <rect height=\"543.6\" width=\"279\" x=\"418.914063\" y=\"7.2\"/>\r\n  </clipPath>\r\n </defs>\r\n</svg>\r\n",
      "image/png": "[encoded data removed]"
     },
     "metadata": {
      "needs_background": "light"
     }
    }
   ],
   "metadata": {}
  },
  {
   "cell_type": "markdown",
   "source": [
    "## Explore Topics by Author"
   ],
   "metadata": {}
  },
  {
   "cell_type": "code",
   "execution_count": 28,
   "source": [
    "topic_cols = [t for t in range(n_topics)]\r\n",
    "GENRES = THETA.groupby('book_id')[topic_cols].mean().T                                            \r\n",
    "GENRES.index.name = 'topic_id'"
   ],
   "outputs": [],
   "metadata": {}
  },
  {
   "cell_type": "code",
   "execution_count": 29,
   "source": [
    "GENRES.T"
   ],
   "outputs": [
    {
     "output_type": "execute_result",
     "data": {
      "text/plain": [
       "topic_id        0         1         2         3         4         5   \\\n",
       "book_id                                                                \n",
       "121       0.029482  0.031735  0.027437  0.036432  0.037855  0.034940   \n",
       "141       0.036531  0.029674  0.036215  0.023831  0.043588  0.033593   \n",
       "42671     0.033967  0.032200  0.036638  0.033682  0.030249  0.032681   \n",
       "\n",
       "topic_id        6         7         8         9   ...        20        21  \\\n",
       "book_id                                           ...                       \n",
       "121       0.042745  0.029177  0.023935  0.032359  ...  0.037331  0.037809   \n",
       "141       0.037756  0.035222  0.034135  0.034364  ...  0.033845  0.026363   \n",
       "42671     0.033597  0.032511  0.025709  0.037789  ...  0.034878  0.036634   \n",
       "\n",
       "topic_id        22        23        24        25        26        27  \\\n",
       "book_id                                                                \n",
       "121       0.034019  0.035198  0.029901  0.033367  0.034052  0.030226   \n",
       "141       0.029242  0.034580  0.027975  0.038189  0.039120  0.033419   \n",
       "42671     0.032093  0.035015  0.032783  0.029585  0.042321  0.027693   \n",
       "\n",
       "topic_id        28        29  \n",
       "book_id                       \n",
       "121       0.033462  0.033061  \n",
       "141       0.035146  0.036637  \n",
       "42671     0.027306  0.034854  \n",
       "\n",
       "[3 rows x 30 columns]"
      ],
      "text/html": [
       "<div>\n",
       "<style scoped>\n",
       "    .dataframe tbody tr th:only-of-type {\n",
       "        vertical-align: middle;\n",
       "    }\n",
       "\n",
       "    .dataframe tbody tr th {\n",
       "        vertical-align: top;\n",
       "    }\n",
       "\n",
       "    .dataframe thead th {\n",
       "        text-align: right;\n",
       "    }\n",
       "</style>\n",
       "<table border=\"1\" class=\"dataframe\">\n",
       "  <thead>\n",
       "    <tr style=\"text-align: right;\">\n",
       "      <th>topic_id</th>\n",
       "      <th>0</th>\n",
       "      <th>1</th>\n",
       "      <th>2</th>\n",
       "      <th>3</th>\n",
       "      <th>4</th>\n",
       "      <th>5</th>\n",
       "      <th>6</th>\n",
       "      <th>7</th>\n",
       "      <th>8</th>\n",
       "      <th>9</th>\n",
       "      <th>...</th>\n",
       "      <th>20</th>\n",
       "      <th>21</th>\n",
       "      <th>22</th>\n",
       "      <th>23</th>\n",
       "      <th>24</th>\n",
       "      <th>25</th>\n",
       "      <th>26</th>\n",
       "      <th>27</th>\n",
       "      <th>28</th>\n",
       "      <th>29</th>\n",
       "    </tr>\n",
       "    <tr>\n",
       "      <th>book_id</th>\n",
       "      <th></th>\n",
       "      <th></th>\n",
       "      <th></th>\n",
       "      <th></th>\n",
       "      <th></th>\n",
       "      <th></th>\n",
       "      <th></th>\n",
       "      <th></th>\n",
       "      <th></th>\n",
       "      <th></th>\n",
       "      <th></th>\n",
       "      <th></th>\n",
       "      <th></th>\n",
       "      <th></th>\n",
       "      <th></th>\n",
       "      <th></th>\n",
       "      <th></th>\n",
       "      <th></th>\n",
       "      <th></th>\n",
       "      <th></th>\n",
       "      <th></th>\n",
       "    </tr>\n",
       "  </thead>\n",
       "  <tbody>\n",
       "    <tr>\n",
       "      <th>121</th>\n",
       "      <td>0.029482</td>\n",
       "      <td>0.031735</td>\n",
       "      <td>0.027437</td>\n",
       "      <td>0.036432</td>\n",
       "      <td>0.037855</td>\n",
       "      <td>0.034940</td>\n",
       "      <td>0.042745</td>\n",
       "      <td>0.029177</td>\n",
       "      <td>0.023935</td>\n",
       "      <td>0.032359</td>\n",
       "      <td>...</td>\n",
       "      <td>0.037331</td>\n",
       "      <td>0.037809</td>\n",
       "      <td>0.034019</td>\n",
       "      <td>0.035198</td>\n",
       "      <td>0.029901</td>\n",
       "      <td>0.033367</td>\n",
       "      <td>0.034052</td>\n",
       "      <td>0.030226</td>\n",
       "      <td>0.033462</td>\n",
       "      <td>0.033061</td>\n",
       "    </tr>\n",
       "    <tr>\n",
       "      <th>141</th>\n",
       "      <td>0.036531</td>\n",
       "      <td>0.029674</td>\n",
       "      <td>0.036215</td>\n",
       "      <td>0.023831</td>\n",
       "      <td>0.043588</td>\n",
       "      <td>0.033593</td>\n",
       "      <td>0.037756</td>\n",
       "      <td>0.035222</td>\n",
       "      <td>0.034135</td>\n",
       "      <td>0.034364</td>\n",
       "      <td>...</td>\n",
       "      <td>0.033845</td>\n",
       "      <td>0.026363</td>\n",
       "      <td>0.029242</td>\n",
       "      <td>0.034580</td>\n",
       "      <td>0.027975</td>\n",
       "      <td>0.038189</td>\n",
       "      <td>0.039120</td>\n",
       "      <td>0.033419</td>\n",
       "      <td>0.035146</td>\n",
       "      <td>0.036637</td>\n",
       "    </tr>\n",
       "    <tr>\n",
       "      <th>42671</th>\n",
       "      <td>0.033967</td>\n",
       "      <td>0.032200</td>\n",
       "      <td>0.036638</td>\n",
       "      <td>0.033682</td>\n",
       "      <td>0.030249</td>\n",
       "      <td>0.032681</td>\n",
       "      <td>0.033597</td>\n",
       "      <td>0.032511</td>\n",
       "      <td>0.025709</td>\n",
       "      <td>0.037789</td>\n",
       "      <td>...</td>\n",
       "      <td>0.034878</td>\n",
       "      <td>0.036634</td>\n",
       "      <td>0.032093</td>\n",
       "      <td>0.035015</td>\n",
       "      <td>0.032783</td>\n",
       "      <td>0.029585</td>\n",
       "      <td>0.042321</td>\n",
       "      <td>0.027693</td>\n",
       "      <td>0.027306</td>\n",
       "      <td>0.034854</td>\n",
       "    </tr>\n",
       "  </tbody>\n",
       "</table>\n",
       "<p>3 rows × 30 columns</p>\n",
       "</div>"
      ]
     },
     "metadata": {},
     "execution_count": 29
    }
   ],
   "metadata": {}
  },
  {
   "cell_type": "code",
   "execution_count": 30,
   "source": [
    "GENRES['topterms'] = TOPICS[[i for i in range(10)]].apply(lambda x: ' '.join(x), 1)"
   ],
   "outputs": [],
   "metadata": {}
  },
  {
   "cell_type": "code",
   "execution_count": 35,
   "source": [
    "GENRES.sort_values([121, 141, 42671], ascending=False).style.background_gradient()"
   ],
   "outputs": [
    {
     "output_type": "execute_result",
     "data": {
      "text/plain": [
       "<pandas.io.formats.style.Styler at 0x21fae430970>"
      ],
      "text/html": [
       "<style  type=\"text/css\" >\n",
       "#T_10e15_row0_col0,#T_10e15_row2_col1,#T_10e15_row11_col2{\n",
       "            background-color:  #023858;\n",
       "            color:  #f1f1f1;\n",
       "        }#T_10e15_row0_col1{\n",
       "            background-color:  #05659f;\n",
       "            color:  #f1f1f1;\n",
       "        }#T_10e15_row0_col2{\n",
       "            background-color:  #0569a4;\n",
       "            color:  #f1f1f1;\n",
       "        }#T_10e15_row1_col0{\n",
       "            background-color:  #045b8e;\n",
       "            color:  #f1f1f1;\n",
       "        }#T_10e15_row1_col1{\n",
       "            background-color:  #167bb6;\n",
       "            color:  #000000;\n",
       "        }#T_10e15_row1_col2{\n",
       "            background-color:  #7eadd1;\n",
       "            color:  #000000;\n",
       "        }#T_10e15_row2_col0,#T_10e15_row25_col1{\n",
       "            background-color:  #2f8bbe;\n",
       "            color:  #000000;\n",
       "        }#T_10e15_row2_col2{\n",
       "            background-color:  #c9cee4;\n",
       "            color:  #000000;\n",
       "        }#T_10e15_row3_col0,#T_10e15_row6_col1{\n",
       "            background-color:  #308cbe;\n",
       "            color:  #000000;\n",
       "        }#T_10e15_row3_col1{\n",
       "            background-color:  #ece7f2;\n",
       "            color:  #000000;\n",
       "        }#T_10e15_row3_col2,#T_10e15_row27_col2{\n",
       "            background-color:  #2987bc;\n",
       "            color:  #000000;\n",
       "        }#T_10e15_row4_col0{\n",
       "            background-color:  #3991c1;\n",
       "            color:  #000000;\n",
       "        }#T_10e15_row4_col1,#T_10e15_row10_col0{\n",
       "            background-color:  #71a8ce;\n",
       "            color:  #000000;\n",
       "        }#T_10e15_row4_col2{\n",
       "            background-color:  #5a9ec9;\n",
       "            color:  #000000;\n",
       "        }#T_10e15_row5_col0,#T_10e15_row26_col1{\n",
       "            background-color:  #4e9ac6;\n",
       "            color:  #000000;\n",
       "        }#T_10e15_row5_col1,#T_10e15_row29_col0,#T_10e15_row29_col2{\n",
       "            background-color:  #fff7fb;\n",
       "            color:  #000000;\n",
       "        }#T_10e15_row5_col2{\n",
       "            background-color:  #7dacd1;\n",
       "            color:  #000000;\n",
       "        }#T_10e15_row6_col0,#T_10e15_row15_col2{\n",
       "            background-color:  #5c9fc9;\n",
       "            color:  #000000;\n",
       "        }#T_10e15_row6_col2{\n",
       "            background-color:  #04649d;\n",
       "            color:  #f1f1f1;\n",
       "        }#T_10e15_row7_col0{\n",
       "            background-color:  #62a2cb;\n",
       "            color:  #000000;\n",
       "        }#T_10e15_row7_col1{\n",
       "            background-color:  #4295c3;\n",
       "            color:  #000000;\n",
       "        }#T_10e15_row7_col2{\n",
       "            background-color:  #023e62;\n",
       "            color:  #f1f1f1;\n",
       "        }#T_10e15_row8_col0{\n",
       "            background-color:  #67a4cc;\n",
       "            color:  #000000;\n",
       "        }#T_10e15_row8_col1{\n",
       "            background-color:  #adc1dd;\n",
       "            color:  #000000;\n",
       "        }#T_10e15_row8_col2{\n",
       "            background-color:  #f2ecf5;\n",
       "            color:  #000000;\n",
       "        }#T_10e15_row9_col0{\n",
       "            background-color:  #6ba5cd;\n",
       "            color:  #000000;\n",
       "        }#T_10e15_row9_col1{\n",
       "            background-color:  #5ea0ca;\n",
       "            color:  #000000;\n",
       "        }#T_10e15_row9_col2{\n",
       "            background-color:  #569dc8;\n",
       "            color:  #000000;\n",
       "        }#T_10e15_row10_col1,#T_10e15_row21_col1{\n",
       "            background-color:  #76aad0;\n",
       "            color:  #000000;\n",
       "        }#T_10e15_row10_col2,#T_10e15_row15_col0{\n",
       "            background-color:  #94b6d7;\n",
       "            color:  #000000;\n",
       "        }#T_10e15_row11_col0,#T_10e15_row12_col0{\n",
       "            background-color:  #81aed2;\n",
       "            color:  #000000;\n",
       "        }#T_10e15_row11_col1{\n",
       "            background-color:  #056ba9;\n",
       "            color:  #f1f1f1;\n",
       "        }#T_10e15_row12_col1,#T_10e15_row16_col1,#T_10e15_row24_col0{\n",
       "            background-color:  #c8cde4;\n",
       "            color:  #000000;\n",
       "        }#T_10e15_row12_col2{\n",
       "            background-color:  #a2bcda;\n",
       "            color:  #000000;\n",
       "        }#T_10e15_row13_col0{\n",
       "            background-color:  #8cb3d5;\n",
       "            color:  #000000;\n",
       "        }#T_10e15_row13_col1{\n",
       "            background-color:  #509ac6;\n",
       "            color:  #000000;\n",
       "        }#T_10e15_row13_col2{\n",
       "            background-color:  #f1ebf4;\n",
       "            color:  #000000;\n",
       "        }#T_10e15_row14_col0{\n",
       "            background-color:  #8eb3d5;\n",
       "            color:  #000000;\n",
       "        }#T_10e15_row14_col1,#T_10e15_row17_col2{\n",
       "            background-color:  #0d75b3;\n",
       "            color:  #f1f1f1;\n",
       "        }#T_10e15_row14_col2{\n",
       "            background-color:  #d4d4e8;\n",
       "            color:  #000000;\n",
       "        }#T_10e15_row15_col1{\n",
       "            background-color:  #2d8abd;\n",
       "            color:  #000000;\n",
       "        }#T_10e15_row16_col0{\n",
       "            background-color:  #9ab8d8;\n",
       "            color:  #000000;\n",
       "        }#T_10e15_row16_col2{\n",
       "            background-color:  #a7bddb;\n",
       "            color:  #000000;\n",
       "        }#T_10e15_row17_col0{\n",
       "            background-color:  #a1bbda;\n",
       "            color:  #000000;\n",
       "        }#T_10e15_row17_col1{\n",
       "            background-color:  #63a2cb;\n",
       "            color:  #000000;\n",
       "        }#T_10e15_row18_col0{\n",
       "            background-color:  #abbfdc;\n",
       "            color:  #000000;\n",
       "        }#T_10e15_row18_col1{\n",
       "            background-color:  #c1cae2;\n",
       "            color:  #000000;\n",
       "        }#T_10e15_row18_col2{\n",
       "            background-color:  #9fbad9;\n",
       "            color:  #000000;\n",
       "        }#T_10e15_row19_col0{\n",
       "            background-color:  #afc1dd;\n",
       "            color:  #000000;\n",
       "        }#T_10e15_row19_col1{\n",
       "            background-color:  #60a1ca;\n",
       "            color:  #000000;\n",
       "        }#T_10e15_row19_col2,#T_10e15_row26_col2{\n",
       "            background-color:  #99b8d8;\n",
       "            color:  #000000;\n",
       "        }#T_10e15_row20_col0{\n",
       "            background-color:  #b0c2de;\n",
       "            color:  #000000;\n",
       "        }#T_10e15_row20_col1{\n",
       "            background-color:  #d1d2e6;\n",
       "            color:  #000000;\n",
       "        }#T_10e15_row20_col2{\n",
       "            background-color:  #046299;\n",
       "            color:  #f1f1f1;\n",
       "        }#T_10e15_row21_col0{\n",
       "            background-color:  #b4c4df;\n",
       "            color:  #000000;\n",
       "        }#T_10e15_row21_col2{\n",
       "            background-color:  #d7d6e9;\n",
       "            color:  #000000;\n",
       "        }#T_10e15_row22_col0{\n",
       "            background-color:  #b5c4df;\n",
       "            color:  #000000;\n",
       "        }#T_10e15_row22_col1{\n",
       "            background-color:  #f5eff6;\n",
       "            color:  #000000;\n",
       "        }#T_10e15_row22_col2{\n",
       "            background-color:  #c4cbe3;\n",
       "            color:  #000000;\n",
       "        }#T_10e15_row23_col0{\n",
       "            background-color:  #c2cbe2;\n",
       "            color:  #000000;\n",
       "        }#T_10e15_row23_col1{\n",
       "            background-color:  #79abd0;\n",
       "            color:  #000000;\n",
       "        }#T_10e15_row23_col2{\n",
       "            background-color:  #ede8f3;\n",
       "            color:  #000000;\n",
       "        }#T_10e15_row24_col1{\n",
       "            background-color:  #d9d8ea;\n",
       "            color:  #000000;\n",
       "        }#T_10e15_row24_col2{\n",
       "            background-color:  #91b5d6;\n",
       "            color:  #000000;\n",
       "        }#T_10e15_row25_col0{\n",
       "            background-color:  #ced0e6;\n",
       "            color:  #000000;\n",
       "        }#T_10e15_row25_col2{\n",
       "            background-color:  #75a9cf;\n",
       "            color:  #000000;\n",
       "        }#T_10e15_row26_col0{\n",
       "            background-color:  #d2d3e7;\n",
       "            color:  #000000;\n",
       "        }#T_10e15_row27_col0{\n",
       "            background-color:  #e4e1ef;\n",
       "            color:  #000000;\n",
       "        }#T_10e15_row27_col1{\n",
       "            background-color:  #358fc0;\n",
       "            color:  #000000;\n",
       "        }#T_10e15_row28_col0{\n",
       "            background-color:  #f7f0f7;\n",
       "            color:  #000000;\n",
       "        }#T_10e15_row28_col1{\n",
       "            background-color:  #e9e5f1;\n",
       "            color:  #000000;\n",
       "        }#T_10e15_row28_col2{\n",
       "            background-color:  #f5eef6;\n",
       "            color:  #000000;\n",
       "        }#T_10e15_row29_col1{\n",
       "            background-color:  #69a5cc;\n",
       "            color:  #000000;\n",
       "        }</style><table id=\"T_10e15_\" ><thead>    <tr>        <th class=\"index_name level0\" >book_id</th>        <th class=\"col_heading level0 col0\" >121</th>        <th class=\"col_heading level0 col1\" >141</th>        <th class=\"col_heading level0 col2\" >42671</th>        <th class=\"col_heading level0 col3\" >topterms</th>    </tr>    <tr>        <th class=\"index_name level0\" >topic_id</th>        <th class=\"blank\" ></th>        <th class=\"blank\" ></th>        <th class=\"blank\" ></th>        <th class=\"blank\" ></th>    </tr></thead><tbody>\n",
       "                <tr>\n",
       "                        <th id=\"T_10e15_level0_row0\" class=\"row_heading level0 row0\" >12</th>\n",
       "                        <td id=\"T_10e15_row0_col0\" class=\"data row0 col0\" >0.045615</td>\n",
       "                        <td id=\"T_10e15_row0_col1\" class=\"data row0 col1\" >0.039860</td>\n",
       "                        <td id=\"T_10e15_row0_col2\" class=\"data row0 col2\" >0.038881</td>\n",
       "                        <td id=\"T_10e15_row0_col3\" class=\"data row0 col3\" >yes thing sister good time months oh moments pleasure away</td>\n",
       "            </tr>\n",
       "            <tr>\n",
       "                        <th id=\"T_10e15_level0_row1\" class=\"row_heading level0 row1\" >6</th>\n",
       "                        <td id=\"T_10e15_row1_col0\" class=\"data row1 col0\" >0.042745</td>\n",
       "                        <td id=\"T_10e15_row1_col1\" class=\"data row1 col1\" >0.037756</td>\n",
       "                        <td id=\"T_10e15_row1_col2\" class=\"data row1 col2\" >0.033597</td>\n",
       "                        <td id=\"T_10e15_row1_col3\" class=\"data row1 col3\" >room time countenance moment man mother letter day beauty way</td>\n",
       "            </tr>\n",
       "            <tr>\n",
       "                        <th id=\"T_10e15_level0_row2\" class=\"row_heading level0 row2\" >4</th>\n",
       "                        <td id=\"T_10e15_row2_col0\" class=\"data row2 col0\" >0.037855</td>\n",
       "                        <td id=\"T_10e15_row2_col1\" class=\"data row2 col1\" >0.043588</td>\n",
       "                        <td id=\"T_10e15_row2_col2\" class=\"data row2 col2\" >0.030249</td>\n",
       "                        <td id=\"T_10e15_row2_col3\" class=\"data row2 col3\" >man time family sister feelings happiness home opinion day life</td>\n",
       "            </tr>\n",
       "            <tr>\n",
       "                        <th id=\"T_10e15_level0_row3\" class=\"row_heading level0 row3\" >21</th>\n",
       "                        <td id=\"T_10e15_row3_col0\" class=\"data row3 col0\" >0.037809</td>\n",
       "                        <td id=\"T_10e15_row3_col1\" class=\"data row3 col1\" >0.026363</td>\n",
       "                        <td id=\"T_10e15_row3_col2\" class=\"data row3 col2\" >0.036634</td>\n",
       "                        <td id=\"T_10e15_row3_col3\" class=\"data row3 col3\" >letter reply affection brother feelings reason head trouble oh morning</td>\n",
       "            </tr>\n",
       "            <tr>\n",
       "                        <th id=\"T_10e15_level0_row4\" class=\"row_heading level0 row4\" >20</th>\n",
       "                        <td id=\"T_10e15_row4_col0\" class=\"data row4 col0\" >0.037331</td>\n",
       "                        <td id=\"T_10e15_row4_col1\" class=\"data row4 col1\" >0.033845</td>\n",
       "                        <td id=\"T_10e15_row4_col2\" class=\"data row4 col2\" >0.034878</td>\n",
       "                        <td id=\"T_10e15_row4_col3\" class=\"data row4 col3\" >walk smile half time end house attention place behaviour eyes</td>\n",
       "            </tr>\n",
       "            <tr>\n",
       "                        <th id=\"T_10e15_level0_row5\" class=\"row_heading level0 row5\" >3</th>\n",
       "                        <td id=\"T_10e15_row5_col0\" class=\"data row5 col0\" >0.036432</td>\n",
       "                        <td id=\"T_10e15_row5_col1\" class=\"data row5 col1\" >0.023831</td>\n",
       "                        <td id=\"T_10e15_row5_col2\" class=\"data row5 col2\" >0.033682</td>\n",
       "                        <td id=\"T_10e15_row5_col3\" class=\"data row5 col3\" >man choice comfort husband thing time daughter father gentleman life</td>\n",
       "            </tr>\n",
       "            <tr>\n",
       "                        <th id=\"T_10e15_level0_row6\" class=\"row_heading level0 row6\" >16</th>\n",
       "                        <td id=\"T_10e15_row6_col0\" class=\"data row6 col0\" >0.035856</td>\n",
       "                        <td id=\"T_10e15_row6_col1\" class=\"data row6 col1\" >0.036437</td>\n",
       "                        <td id=\"T_10e15_row6_col2\" class=\"data row6 col2\" >0.039307</td>\n",
       "                        <td id=\"T_10e15_row6_col3\" class=\"data row6 col3\" >sir sisters care oh sister town power men wonder cousin</td>\n",
       "            </tr>\n",
       "            <tr>\n",
       "                        <th id=\"T_10e15_level0_row7\" class=\"row_heading level0 row7\" >15</th>\n",
       "                        <td id=\"T_10e15_row7_col0\" class=\"data row7 col0\" >0.035582</td>\n",
       "                        <td id=\"T_10e15_row7_col1\" class=\"data row7 col1\" >0.035681</td>\n",
       "                        <td id=\"T_10e15_row7_col2\" class=\"data row7 col2\" >0.041902</td>\n",
       "                        <td id=\"T_10e15_row7_col3\" class=\"data row7 col3\" >answer time day pleasure feelings way mother oh mind word</td>\n",
       "            </tr>\n",
       "            <tr>\n",
       "                        <th id=\"T_10e15_level0_row8\" class=\"row_heading level0 row8\" >13</th>\n",
       "                        <td id=\"T_10e15_row8_col0\" class=\"data row8 col0\" >0.035332</td>\n",
       "                        <td id=\"T_10e15_row8_col1\" class=\"data row8 col1\" >0.030823</td>\n",
       "                        <td id=\"T_10e15_row8_col2\" class=\"data row8 col2\" >0.027121</td>\n",
       "                        <td id=\"T_10e15_row8_col3\" class=\"data row8 col3\" >look man woman ladies word character oh sister kind family</td>\n",
       "            </tr>\n",
       "            <tr>\n",
       "                        <th id=\"T_10e15_level0_row9\" class=\"row_heading level0 row9\" >23</th>\n",
       "                        <td id=\"T_10e15_row9_col0\" class=\"data row9 col0\" >0.035198</td>\n",
       "                        <td id=\"T_10e15_row9_col1\" class=\"data row9 col1\" >0.034580</td>\n",
       "                        <td id=\"T_10e15_row9_col2\" class=\"data row9 col2\" >0.035015</td>\n",
       "                        <td id=\"T_10e15_row9_col3\" class=\"data row9 col3\" >aunt uncle sister pleasure better time way moment room did</td>\n",
       "            </tr>\n",
       "            <tr>\n",
       "                        <th id=\"T_10e15_level0_row10\" class=\"row_heading level0 row10\" >5</th>\n",
       "                        <td id=\"T_10e15_row10_col0\" class=\"data row10 col0\" >0.034940</td>\n",
       "                        <td id=\"T_10e15_row10_col1\" class=\"data row10 col1\" >0.033593</td>\n",
       "                        <td id=\"T_10e15_row10_col2\" class=\"data row10 col2\" >0.032681</td>\n",
       "                        <td id=\"T_10e15_row10_col3\" class=\"data row10 col3\" >acquaintance friends friend home family pause wish kind opinion years</td>\n",
       "            </tr>\n",
       "            <tr>\n",
       "                        <th id=\"T_10e15_level0_row11\" class=\"row_heading level0 row11\" >26</th>\n",
       "                        <td id=\"T_10e15_row11_col0\" class=\"data row11 col0\" >0.034052</td>\n",
       "                        <td id=\"T_10e15_row11_col1\" class=\"data row11 col1\" >0.039120</td>\n",
       "                        <td id=\"T_10e15_row11_col2\" class=\"data row11 col2\" >0.042321</td>\n",
       "                        <td id=\"T_10e15_row11_col3\" class=\"data row11 col3\" >time friend day letter sister uncle father brother morning character</td>\n",
       "            </tr>\n",
       "            <tr>\n",
       "                        <th id=\"T_10e15_level0_row12\" class=\"row_heading level0 row12\" >22</th>\n",
       "                        <td id=\"T_10e15_row12_col0\" class=\"data row12 col0\" >0.034019</td>\n",
       "                        <td id=\"T_10e15_row12_col1\" class=\"data row12 col1\" >0.029242</td>\n",
       "                        <td id=\"T_10e15_row12_col2\" class=\"data row12 col2\" >0.032093</td>\n",
       "                        <td id=\"T_10e15_row12_col3\" class=\"data row12 col3\" >dear ball place evening manner room day aunt time hour</td>\n",
       "            </tr>\n",
       "            <tr>\n",
       "                        <th id=\"T_10e15_level0_row13\" class=\"row_heading level0 row13\" >28</th>\n",
       "                        <td id=\"T_10e15_row13_col0\" class=\"data row13 col0\" >0.033462</td>\n",
       "                        <td id=\"T_10e15_row13_col1\" class=\"data row13 col1\" >0.035146</td>\n",
       "                        <td id=\"T_10e15_row13_col2\" class=\"data row13 col2\" >0.027306</td>\n",
       "                        <td id=\"T_10e15_row13_col3\" class=\"data row13 col3\" >time day heart surprise word letter home family subject sister</td>\n",
       "            </tr>\n",
       "            <tr>\n",
       "                        <th id=\"T_10e15_level0_row14\" class=\"row_heading level0 row14\" >25</th>\n",
       "                        <td id=\"T_10e15_row14_col0\" class=\"data row14 col0\" >0.033367</td>\n",
       "                        <td id=\"T_10e15_row14_col1\" class=\"data row14 col1\" >0.038189</td>\n",
       "                        <td id=\"T_10e15_row14_col2\" class=\"data row14 col2\" >0.029585</td>\n",
       "                        <td id=\"T_10e15_row14_col3\" class=\"data row14 col3\" >room uncle moment mind door brother sister house time friend</td>\n",
       "            </tr>\n",
       "            <tr>\n",
       "                        <th id=\"T_10e15_level0_row15\" class=\"row_heading level0 row15\" >29</th>\n",
       "                        <td id=\"T_10e15_row15_col0\" class=\"data row15 col0\" >0.033061</td>\n",
       "                        <td id=\"T_10e15_row15_col1\" class=\"data row15 col1\" >0.036637</td>\n",
       "                        <td id=\"T_10e15_row15_col2\" class=\"data row15 col2\" >0.034854</td>\n",
       "                        <td id=\"T_10e15_row15_col3\" class=\"data row15 col3\" >father family mind house attention fathers gentlemen mother time subject</td>\n",
       "            </tr>\n",
       "            <tr>\n",
       "                        <th id=\"T_10e15_level0_row16\" class=\"row_heading level0 row16\" >18</th>\n",
       "                        <td id=\"T_10e15_row16_col0\" class=\"data row16 col0\" >0.032740</td>\n",
       "                        <td id=\"T_10e15_row16_col1\" class=\"data row16 col1\" >0.029237</td>\n",
       "                        <td id=\"T_10e15_row16_col2\" class=\"data row16 col2\" >0.031927</td>\n",
       "                        <td id=\"T_10e15_row16_col3\" class=\"data row16 col3\" >man thing horse companion play friend elizabeth conversation day world</td>\n",
       "            </tr>\n",
       "            <tr>\n",
       "                        <th id=\"T_10e15_level0_row17\" class=\"row_heading level0 row17\" >9</th>\n",
       "                        <td id=\"T_10e15_row17_col0\" class=\"data row17 col0\" >0.032359</td>\n",
       "                        <td id=\"T_10e15_row17_col1\" class=\"data row17 col1\" >0.034364</td>\n",
       "                        <td id=\"T_10e15_row17_col2\" class=\"data row17 col2\" >0.037789</td>\n",
       "                        <td id=\"T_10e15_row17_col3\" class=\"data row17 col3\" >place time family sisters plan year house wife people ladies</td>\n",
       "            </tr>\n",
       "            <tr>\n",
       "                        <th id=\"T_10e15_level0_row18\" class=\"row_heading level0 row18\" >1</th>\n",
       "                        <td id=\"T_10e15_row18_col0\" class=\"data row18 col0\" >0.031735</td>\n",
       "                        <td id=\"T_10e15_row18_col1\" class=\"data row18 col1\" >0.029674</td>\n",
       "                        <td id=\"T_10e15_row18_col2\" class=\"data row18 col2\" >0.032200</td>\n",
       "                        <td id=\"T_10e15_row18_col3\" class=\"data row18 col3\" >time day party pleasure house question family hour dinner morning</td>\n",
       "            </tr>\n",
       "            <tr>\n",
       "                        <th id=\"T_10e15_level0_row19\" class=\"row_heading level0 row19\" >11</th>\n",
       "                        <td id=\"T_10e15_row19_col0\" class=\"data row19 col0\" >0.031522</td>\n",
       "                        <td id=\"T_10e15_row19_col1\" class=\"data row19 col1\" >0.034539</td>\n",
       "                        <td id=\"T_10e15_row19_col2\" class=\"data row19 col2\" >0.032497</td>\n",
       "                        <td id=\"T_10e15_row19_col3\" class=\"data row19 col3\" >oh time house moment room theatre door sister man turn</td>\n",
       "            </tr>\n",
       "            <tr>\n",
       "                        <th id=\"T_10e15_level0_row20\" class=\"row_heading level0 row20\" >10</th>\n",
       "                        <td id=\"T_10e15_row20_col0\" class=\"data row20 col0\" >0.031398</td>\n",
       "                        <td id=\"T_10e15_row20_col1\" class=\"data row20 col1\" >0.028727</td>\n",
       "                        <td id=\"T_10e15_row20_col2\" class=\"data row20 col2\" >0.039514</td>\n",
       "                        <td id=\"T_10e15_row20_col3\" class=\"data row20 col3\" >time friend days pleasure spirits visit day reason way family</td>\n",
       "            </tr>\n",
       "            <tr>\n",
       "                        <th id=\"T_10e15_level0_row21\" class=\"row_heading level0 row21\" >19</th>\n",
       "                        <td id=\"T_10e15_row21_col0\" class=\"data row21 col0\" >0.031146</td>\n",
       "                        <td id=\"T_10e15_row21_col1\" class=\"data row21 col1\" >0.033602</td>\n",
       "                        <td id=\"T_10e15_row21_col2\" class=\"data row21 col2\" >0.029357</td>\n",
       "                        <td id=\"T_10e15_row21_col3\" class=\"data row21 col3\" >time eyes room feelings thing object mother satisfaction mind heart</td>\n",
       "            </tr>\n",
       "            <tr>\n",
       "                        <th id=\"T_10e15_level0_row22\" class=\"row_heading level0 row22\" >14</th>\n",
       "                        <td id=\"T_10e15_row22_col0\" class=\"data row22 col0\" >0.031132</td>\n",
       "                        <td id=\"T_10e15_row22_col1\" class=\"data row22 col1\" >0.025088</td>\n",
       "                        <td id=\"T_10e15_row22_col2\" class=\"data row22 col2\" >0.030466</td>\n",
       "                        <td id=\"T_10e15_row22_col3\" class=\"data row22 col3\" >madam table morning house servants said time change hour subject</td>\n",
       "            </tr>\n",
       "            <tr>\n",
       "                        <th id=\"T_10e15_level0_row23\" class=\"row_heading level0 row23\" >27</th>\n",
       "                        <td id=\"T_10e15_row23_col0\" class=\"data row23 col0\" >0.030226</td>\n",
       "                        <td id=\"T_10e15_row23_col1\" class=\"data row23 col1\" >0.033419</td>\n",
       "                        <td id=\"T_10e15_row23_col2\" class=\"data row23 col2\" >0.027693</td>\n",
       "                        <td id=\"T_10e15_row23_col3\" class=\"data row23 col3\" >way house time evening sister news days minutes pleasure till</td>\n",
       "            </tr>\n",
       "            <tr>\n",
       "                        <th id=\"T_10e15_level0_row24\" class=\"row_heading level0 row24\" >24</th>\n",
       "                        <td id=\"T_10e15_row24_col0\" class=\"data row24 col0\" >0.029901</td>\n",
       "                        <td id=\"T_10e15_row24_col1\" class=\"data row24 col1\" >0.027975</td>\n",
       "                        <td id=\"T_10e15_row24_col2\" class=\"data row24 col2\" >0.032783</td>\n",
       "                        <td id=\"T_10e15_row24_col3\" class=\"data row24 col3\" >friend time hope father day home morning subject sister heart</td>\n",
       "            </tr>\n",
       "            <tr>\n",
       "                        <th id=\"T_10e15_level0_row25\" class=\"row_heading level0 row25\" >0</th>\n",
       "                        <td id=\"T_10e15_row25_col0\" class=\"data row25 col0\" >0.029482</td>\n",
       "                        <td id=\"T_10e15_row25_col1\" class=\"data row25 col1\" >0.036531</td>\n",
       "                        <td id=\"T_10e15_row25_col2\" class=\"data row25 col2\" >0.033967</td>\n",
       "                        <td id=\"T_10e15_row25_col3\" class=\"data row25 col3\" >opinion feelings time nature subject pleasure state mind heart cousins</td>\n",
       "            </tr>\n",
       "            <tr>\n",
       "                        <th id=\"T_10e15_level0_row26\" class=\"row_heading level0 row26\" >7</th>\n",
       "                        <td id=\"T_10e15_row26_col0\" class=\"data row26 col0\" >0.029177</td>\n",
       "                        <td id=\"T_10e15_row26_col1\" class=\"data row26 col1\" >0.035222</td>\n",
       "                        <td id=\"T_10e15_row26_col2\" class=\"data row26 col2\" >0.032511</td>\n",
       "                        <td id=\"T_10e15_row26_col3\" class=\"data row26 col3\" >distance things room people night thing miles world time kind</td>\n",
       "            </tr>\n",
       "            <tr>\n",
       "                        <th id=\"T_10e15_level0_row27\" class=\"row_heading level0 row27\" >2</th>\n",
       "                        <td id=\"T_10e15_row27_col0\" class=\"data row27 col0\" >0.027437</td>\n",
       "                        <td id=\"T_10e15_row27_col1\" class=\"data row27 col1\" >0.036215</td>\n",
       "                        <td id=\"T_10e15_row27_col2\" class=\"data row27 col2\" >0.036638</td>\n",
       "                        <td id=\"T_10e15_row27_col3\" class=\"data row27 col3\" >family country character mind world idea fortune house marriage sister</td>\n",
       "            </tr>\n",
       "            <tr>\n",
       "                        <th id=\"T_10e15_level0_row28\" class=\"row_heading level0 row28\" >17</th>\n",
       "                        <td id=\"T_10e15_row28_col0\" class=\"data row28 col0\" >0.025151</td>\n",
       "                        <td id=\"T_10e15_row28_col1\" class=\"data row28 col1\" >0.026582</td>\n",
       "                        <td id=\"T_10e15_row28_col2\" class=\"data row28 col2\" >0.026840</td>\n",
       "                        <td id=\"T_10e15_row28_col3\" class=\"data row28 col3\" >love girl sort moment dear world deal thing time eyes</td>\n",
       "            </tr>\n",
       "            <tr>\n",
       "                        <th id=\"T_10e15_level0_row29\" class=\"row_heading level0 row29\" >8</th>\n",
       "                        <td id=\"T_10e15_row29_col0\" class=\"data row29 col0\" >0.023935</td>\n",
       "                        <td id=\"T_10e15_row29_col1\" class=\"data row29 col1\" >0.034135</td>\n",
       "                        <td id=\"T_10e15_row29_col2\" class=\"data row29 col2\" >0.025709</td>\n",
       "                        <td id=\"T_10e15_row29_col3\" class=\"data row29 col3\" >time home rest sister heart truth necklace room people sorry</td>\n",
       "            </tr>\n",
       "    </tbody></table>"
      ]
     },
     "metadata": {},
     "execution_count": 35
    }
   ],
   "metadata": {}
  },
  {
   "cell_type": "code",
   "execution_count": 36,
   "source": [
    "import plotly_express as px"
   ],
   "outputs": [],
   "metadata": {}
  },
  {
   "cell_type": "code",
   "execution_count": 41,
   "source": [
    "px.scatter(GENRES.reset_index(), 121, 42671, hover_name='topterms', text='topic_id')\\\r\n",
    "    .update_traces(mode='text')"
   ],
   "outputs": [
    {
     "output_type": "display_data",
     "data": {
      "application/vnd.plotly.v1+json": {
       "config": {
        "plotlyServerURL": "https://plot.ly"
       },
       "data": [
        {
         "hovertemplate": "<b>%{hovertext}</b><br><br>121=%{x}<br>42671=%{y}<br>topic_id=%{text}<extra></extra>",
         "hovertext": [
          "opinion feelings time nature subject pleasure state mind heart cousins",
          "time day party pleasure house question family hour dinner morning",
          "family country character mind world idea fortune house marriage sister",
          "man choice comfort husband thing time daughter father gentleman life",
          "man time family sister feelings happiness home opinion day life",
          "acquaintance friends friend home family pause wish kind opinion years",
          "room time countenance moment man mother letter day beauty way",
          "distance things room people night thing miles world time kind",
          "time home rest sister heart truth necklace room people sorry",
          "place time family sisters plan year house wife people ladies",
          "time friend days pleasure spirits visit day reason way family",
          "oh time house moment room theatre door sister man turn",
          "yes thing sister good time months oh moments pleasure away",
          "look man woman ladies word character oh sister kind family",
          "madam table morning house servants said time change hour subject",
          "answer time day pleasure feelings way mother oh mind word",
          "sir sisters care oh sister town power men wonder cousin",
          "love girl sort moment dear world deal thing time eyes",
          "man thing horse companion play friend elizabeth conversation day world",
          "time eyes room feelings thing object mother satisfaction mind heart",
          "walk smile half time end house attention place behaviour eyes",
          "letter reply affection brother feelings reason head trouble oh morning",
          "dear ball place evening manner room day aunt time hour",
          "aunt uncle sister pleasure better time way moment room did",
          "friend time hope father day home morning subject sister heart",
          "room uncle moment mind door brother sister house time friend",
          "time friend day letter sister uncle father brother morning character",
          "way house time evening sister news days minutes pleasure till",
          "time day heart surprise word letter home family subject sister",
          "father family mind house attention fathers gentlemen mother time subject"
         ],
         "legendgroup": "",
         "marker": {
          "color": "#636efa",
          "symbol": "circle"
         },
         "mode": "text",
         "name": "",
         "orientation": "v",
         "showlegend": false,
         "text": [
          "0",
          "1",
          "2",
          "3",
          "4",
          "5",
          "6",
          "7",
          "8",
          "9",
          "10",
          "11",
          "12",
          "13",
          "14",
          "15",
          "16",
          "17",
          "18",
          "19",
          "20",
          "21",
          "22",
          "23",
          "24",
          "25",
          "26",
          "27",
          "28",
          "29"
         ],
         "type": "scatter",
         "x": [
          0.029481988830547326,
          0.031735049287291095,
          0.02743738477378717,
          0.03643229822022713,
          0.03785461230191456,
          0.034940020535224395,
          0.042745035702862075,
          0.029177444019151403,
          0.023935002798327165,
          0.03235868973163547,
          0.031398101619050676,
          0.03152187017964098,
          0.0456153460078229,
          0.03533218885674533,
          0.031132002639713736,
          0.035581880951104344,
          0.03585640078196671,
          0.02515118027494918,
          0.032740023886136234,
          0.03114614627774129,
          0.03733081904215418,
          0.037808958661438595,
          0.034019325508816735,
          0.03519818569344917,
          0.029901060635125452,
          0.033367495333600436,
          0.034051895295120385,
          0.030225875049060397,
          0.033462327371105244,
          0.033061389734291353
         ],
         "xaxis": "x",
         "y": [
          0.03396728473652637,
          0.03219950319298555,
          0.03663826696219597,
          0.033682148849959646,
          0.03024944287811662,
          0.03268148326083477,
          0.03359688977940678,
          0.03251087096422068,
          0.02570926937722877,
          0.03778878925061201,
          0.039514219137469796,
          0.03249743747178723,
          0.03888136066956699,
          0.02712121905000509,
          0.03046555528706936,
          0.04190156206748386,
          0.03930748607649883,
          0.026840351485318097,
          0.031926985132577815,
          0.02935719933470886,
          0.03487813897693656,
          0.03663419091362505,
          0.032092983995826954,
          0.035015473167580885,
          0.03278267333767448,
          0.02958492919269086,
          0.04232098269679783,
          0.027693291570933656,
          0.027306061931184455,
          0.03485394925217466
         ],
         "yaxis": "y"
        }
       ],
       "layout": {
        "legend": {
         "tracegroupgap": 0
        },
        "margin": {
         "t": 60
        },
        "template": {
         "data": {
          "bar": [
           {
            "error_x": {
             "color": "#2a3f5f"
            },
            "error_y": {
             "color": "#2a3f5f"
            },
            "marker": {
             "line": {
              "color": "#E5ECF6",
              "width": 0.5
             },
             "pattern": {
              "fillmode": "overlay",
              "size": 10,
              "solidity": 0.2
             }
            },
            "type": "bar"
           }
          ],
          "barpolar": [
           {
            "marker": {
             "line": {
              "color": "#E5ECF6",
              "width": 0.5
             },
             "pattern": {
              "fillmode": "overlay",
              "size": 10,
              "solidity": 0.2
             }
            },
            "type": "barpolar"
           }
          ],
          "carpet": [
           {
            "aaxis": {
             "endlinecolor": "#2a3f5f",
             "gridcolor": "white",
             "linecolor": "white",
             "minorgridcolor": "white",
             "startlinecolor": "#2a3f5f"
            },
            "baxis": {
             "endlinecolor": "#2a3f5f",
             "gridcolor": "white",
             "linecolor": "white",
             "minorgridcolor": "white",
             "startlinecolor": "#2a3f5f"
            },
            "type": "carpet"
           }
          ],
          "choropleth": [
           {
            "colorbar": {
             "outlinewidth": 0,
             "ticks": ""
            },
            "type": "choropleth"
           }
          ],
          "contour": [
           {
            "colorbar": {
             "outlinewidth": 0,
             "ticks": ""
            },
            "colorscale": [
             [
              0,
              "#0d0887"
             ],
             [
              0.1111111111111111,
              "#46039f"
             ],
             [
              0.2222222222222222,
              "#7201a8"
             ],
             [
              0.3333333333333333,
              "#9c179e"
             ],
             [
              0.4444444444444444,
              "#bd3786"
             ],
             [
              0.5555555555555556,
              "#d8576b"
             ],
             [
              0.6666666666666666,
              "#ed7953"
             ],
             [
              0.7777777777777778,
              "#fb9f3a"
             ],
             [
              0.8888888888888888,
              "#fdca26"
             ],
             [
              1,
              "#f0f921"
             ]
            ],
            "type": "contour"
           }
          ],
          "contourcarpet": [
           {
            "colorbar": {
             "outlinewidth": 0,
             "ticks": ""
            },
            "type": "contourcarpet"
           }
          ],
          "heatmap": [
           {
            "colorbar": {
             "outlinewidth": 0,
             "ticks": ""
            },
            "colorscale": [
             [
              0,
              "#0d0887"
             ],
             [
              0.1111111111111111,
              "#46039f"
             ],
             [
              0.2222222222222222,
              "#7201a8"
             ],
             [
              0.3333333333333333,
              "#9c179e"
             ],
             [
              0.4444444444444444,
              "#bd3786"
             ],
             [
              0.5555555555555556,
              "#d8576b"
             ],
             [
              0.6666666666666666,
              "#ed7953"
             ],
             [
              0.7777777777777778,
              "#fb9f3a"
             ],
             [
              0.8888888888888888,
              "#fdca26"
             ],
             [
              1,
              "#f0f921"
             ]
            ],
            "type": "heatmap"
           }
          ],
          "heatmapgl": [
           {
            "colorbar": {
             "outlinewidth": 0,
             "ticks": ""
            },
            "colorscale": [
             [
              0,
              "#0d0887"
             ],
             [
              0.1111111111111111,
              "#46039f"
             ],
             [
              0.2222222222222222,
              "#7201a8"
             ],
             [
              0.3333333333333333,
              "#9c179e"
             ],
             [
              0.4444444444444444,
              "#bd3786"
             ],
             [
              0.5555555555555556,
              "#d8576b"
             ],
             [
              0.6666666666666666,
              "#ed7953"
             ],
             [
              0.7777777777777778,
              "#fb9f3a"
             ],
             [
              0.8888888888888888,
              "#fdca26"
             ],
             [
              1,
              "#f0f921"
             ]
            ],
            "type": "heatmapgl"
           }
          ],
          "histogram": [
           {
            "marker": {
             "pattern": {
              "fillmode": "overlay",
              "size": 10,
              "solidity": 0.2
             }
            },
            "type": "histogram"
           }
          ],
          "histogram2d": [
           {
            "colorbar": {
             "outlinewidth": 0,
             "ticks": ""
            },
            "colorscale": [
             [
              0,
              "#0d0887"
             ],
             [
              0.1111111111111111,
              "#46039f"
             ],
             [
              0.2222222222222222,
              "#7201a8"
             ],
             [
              0.3333333333333333,
              "#9c179e"
             ],
             [
              0.4444444444444444,
              "#bd3786"
             ],
             [
              0.5555555555555556,
              "#d8576b"
             ],
             [
              0.6666666666666666,
              "#ed7953"
             ],
             [
              0.7777777777777778,
              "#fb9f3a"
             ],
             [
              0.8888888888888888,
              "#fdca26"
             ],
             [
              1,
              "#f0f921"
             ]
            ],
            "type": "histogram2d"
           }
          ],
          "histogram2dcontour": [
           {
            "colorbar": {
             "outlinewidth": 0,
             "ticks": ""
            },
            "colorscale": [
             [
              0,
              "#0d0887"
             ],
             [
              0.1111111111111111,
              "#46039f"
             ],
             [
              0.2222222222222222,
              "#7201a8"
             ],
             [
              0.3333333333333333,
              "#9c179e"
             ],
             [
              0.4444444444444444,
              "#bd3786"
             ],
             [
              0.5555555555555556,
              "#d8576b"
             ],
             [
              0.6666666666666666,
              "#ed7953"
             ],
             [
              0.7777777777777778,
              "#fb9f3a"
             ],
             [
              0.8888888888888888,
              "#fdca26"
             ],
             [
              1,
              "#f0f921"
             ]
            ],
            "type": "histogram2dcontour"
           }
          ],
          "mesh3d": [
           {
            "colorbar": {
             "outlinewidth": 0,
             "ticks": ""
            },
            "type": "mesh3d"
           }
          ],
          "parcoords": [
           {
            "line": {
             "colorbar": {
              "outlinewidth": 0,
              "ticks": ""
             }
            },
            "type": "parcoords"
           }
          ],
          "pie": [
           {
            "automargin": true,
            "type": "pie"
           }
          ],
          "scatter": [
           {
            "marker": {
             "colorbar": {
              "outlinewidth": 0,
              "ticks": ""
             }
            },
            "type": "scatter"
           }
          ],
          "scatter3d": [
           {
            "line": {
             "colorbar": {
              "outlinewidth": 0,
              "ticks": ""
             }
            },
            "marker": {
             "colorbar": {
              "outlinewidth": 0,
              "ticks": ""
             }
            },
            "type": "scatter3d"
           }
          ],
          "scattercarpet": [
           {
            "marker": {
             "colorbar": {
              "outlinewidth": 0,
              "ticks": ""
             }
            },
            "type": "scattercarpet"
           }
          ],
          "scattergeo": [
           {
            "marker": {
             "colorbar": {
              "outlinewidth": 0,
              "ticks": ""
             }
            },
            "type": "scattergeo"
           }
          ],
          "scattergl": [
           {
            "marker": {
             "colorbar": {
              "outlinewidth": 0,
              "ticks": ""
             }
            },
            "type": "scattergl"
           }
          ],
          "scattermapbox": [
           {
            "marker": {
             "colorbar": {
              "outlinewidth": 0,
              "ticks": ""
             }
            },
            "type": "scattermapbox"
           }
          ],
          "scatterpolar": [
           {
            "marker": {
             "colorbar": {
              "outlinewidth": 0,
              "ticks": ""
             }
            },
            "type": "scatterpolar"
           }
          ],
          "scatterpolargl": [
           {
            "marker": {
             "colorbar": {
              "outlinewidth": 0,
              "ticks": ""
             }
            },
            "type": "scatterpolargl"
           }
          ],
          "scatterternary": [
           {
            "marker": {
             "colorbar": {
              "outlinewidth": 0,
              "ticks": ""
             }
            },
            "type": "scatterternary"
           }
          ],
          "surface": [
           {
            "colorbar": {
             "outlinewidth": 0,
             "ticks": ""
            },
            "colorscale": [
             [
              0,
              "#0d0887"
             ],
             [
              0.1111111111111111,
              "#46039f"
             ],
             [
              0.2222222222222222,
              "#7201a8"
             ],
             [
              0.3333333333333333,
              "#9c179e"
             ],
             [
              0.4444444444444444,
              "#bd3786"
             ],
             [
              0.5555555555555556,
              "#d8576b"
             ],
             [
              0.6666666666666666,
              "#ed7953"
             ],
             [
              0.7777777777777778,
              "#fb9f3a"
             ],
             [
              0.8888888888888888,
              "#fdca26"
             ],
             [
              1,
              "#f0f921"
             ]
            ],
            "type": "surface"
           }
          ],
          "table": [
           {
            "cells": {
             "fill": {
              "color": "#EBF0F8"
             },
             "line": {
              "color": "white"
             }
            },
            "header": {
             "fill": {
              "color": "#C8D4E3"
             },
             "line": {
              "color": "white"
             }
            },
            "type": "table"
           }
          ]
         },
         "layout": {
          "annotationdefaults": {
           "arrowcolor": "#2a3f5f",
           "arrowhead": 0,
           "arrowwidth": 1
          },
          "autotypenumbers": "strict",
          "coloraxis": {
           "colorbar": {
            "outlinewidth": 0,
            "ticks": ""
           }
          },
          "colorscale": {
           "diverging": [
            [
             0,
             "#8e0152"
            ],
            [
             0.1,
             "#c51b7d"
            ],
            [
             0.2,
             "#de77ae"
            ],
            [
             0.3,
             "#f1b6da"
            ],
            [
             0.4,
             "#fde0ef"
            ],
            [
             0.5,
             "#f7f7f7"
            ],
            [
             0.6,
             "#e6f5d0"
            ],
            [
             0.7,
             "#b8e186"
            ],
            [
             0.8,
             "#7fbc41"
            ],
            [
             0.9,
             "#4d9221"
            ],
            [
             1,
             "#276419"
            ]
           ],
           "sequential": [
            [
             0,
             "#0d0887"
            ],
            [
             0.1111111111111111,
             "#46039f"
            ],
            [
             0.2222222222222222,
             "#7201a8"
            ],
            [
             0.3333333333333333,
             "#9c179e"
            ],
            [
             0.4444444444444444,
             "#bd3786"
            ],
            [
             0.5555555555555556,
             "#d8576b"
            ],
            [
             0.6666666666666666,
             "#ed7953"
            ],
            [
             0.7777777777777778,
             "#fb9f3a"
            ],
            [
             0.8888888888888888,
             "#fdca26"
            ],
            [
             1,
             "#f0f921"
            ]
           ],
           "sequentialminus": [
            [
             0,
             "#0d0887"
            ],
            [
             0.1111111111111111,
             "#46039f"
            ],
            [
             0.2222222222222222,
             "#7201a8"
            ],
            [
             0.3333333333333333,
             "#9c179e"
            ],
            [
             0.4444444444444444,
             "#bd3786"
            ],
            [
             0.5555555555555556,
             "#d8576b"
            ],
            [
             0.6666666666666666,
             "#ed7953"
            ],
            [
             0.7777777777777778,
             "#fb9f3a"
            ],
            [
             0.8888888888888888,
             "#fdca26"
            ],
            [
             1,
             "#f0f921"
            ]
           ]
          },
          "colorway": [
           "#636efa",
           "#EF553B",
           "#00cc96",
           "#ab63fa",
           "#FFA15A",
           "#19d3f3",
           "#FF6692",
           "#B6E880",
           "#FF97FF",
           "#FECB52"
          ],
          "font": {
           "color": "#2a3f5f"
          },
          "geo": {
           "bgcolor": "white",
           "lakecolor": "white",
           "landcolor": "#E5ECF6",
           "showlakes": true,
           "showland": true,
           "subunitcolor": "white"
          },
          "hoverlabel": {
           "align": "left"
          },
          "hovermode": "closest",
          "mapbox": {
           "style": "light"
          },
          "paper_bgcolor": "white",
          "plot_bgcolor": "#E5ECF6",
          "polar": {
           "angularaxis": {
            "gridcolor": "white",
            "linecolor": "white",
            "ticks": ""
           },
           "bgcolor": "#E5ECF6",
           "radialaxis": {
            "gridcolor": "white",
            "linecolor": "white",
            "ticks": ""
           }
          },
          "scene": {
           "xaxis": {
            "backgroundcolor": "#E5ECF6",
            "gridcolor": "white",
            "gridwidth": 2,
            "linecolor": "white",
            "showbackground": true,
            "ticks": "",
            "zerolinecolor": "white"
           },
           "yaxis": {
            "backgroundcolor": "#E5ECF6",
            "gridcolor": "white",
            "gridwidth": 2,
            "linecolor": "white",
            "showbackground": true,
            "ticks": "",
            "zerolinecolor": "white"
           },
           "zaxis": {
            "backgroundcolor": "#E5ECF6",
            "gridcolor": "white",
            "gridwidth": 2,
            "linecolor": "white",
            "showbackground": true,
            "ticks": "",
            "zerolinecolor": "white"
           }
          },
          "shapedefaults": {
           "line": {
            "color": "#2a3f5f"
           }
          },
          "ternary": {
           "aaxis": {
            "gridcolor": "white",
            "linecolor": "white",
            "ticks": ""
           },
           "baxis": {
            "gridcolor": "white",
            "linecolor": "white",
            "ticks": ""
           },
           "bgcolor": "#E5ECF6",
           "caxis": {
            "gridcolor": "white",
            "linecolor": "white",
            "ticks": ""
           }
          },
          "title": {
           "x": 0.05
          },
          "xaxis": {
           "automargin": true,
           "gridcolor": "white",
           "linecolor": "white",
           "ticks": "",
           "title": {
            "standoff": 15
           },
           "zerolinecolor": "white",
           "zerolinewidth": 2
          },
          "yaxis": {
           "automargin": true,
           "gridcolor": "white",
           "linecolor": "white",
           "ticks": "",
           "title": {
            "standoff": 15
           },
           "zerolinecolor": "white",
           "zerolinewidth": 2
          }
         }
        },
        "xaxis": {
         "anchor": "y",
         "domain": [
          0,
          1
         ],
         "title": {
          "text": "121"
         }
        },
        "yaxis": {
         "anchor": "x",
         "domain": [
          0,
          1
         ],
         "title": {
          "text": "42671"
         }
        }
       }
      }
     },
     "metadata": {}
    }
   ],
   "metadata": {}
  },
  {
   "cell_type": "markdown",
   "source": [
    "# Clutser Topics"
   ],
   "metadata": {}
  },
  {
   "cell_type": "code",
   "execution_count": 42,
   "source": [
    "import scipy.cluster.hierarchy as sch\r\n",
    "from scipy.spatial.distance import pdist\r\n",
    "from sklearn.cluster import AgglomerativeClustering\r\n",
    "from sklearn.preprocessing import normalize\r\n",
    "import matplotlib.pyplot as plt"
   ],
   "outputs": [],
   "metadata": {}
  },
  {
   "cell_type": "code",
   "execution_count": 43,
   "source": [
    "def plot_tree(tree, labels):\r\n",
    "    plt.figure()\r\n",
    "    fig, axes = plt.subplots(figsize=(5, 10))\r\n",
    "    dendrogram = sch.dendrogram(tree, labels=labels, orientation=\"left\")\r\n",
    "    plt.tick_params(axis='both', which='major', labelsize=14)"
   ],
   "outputs": [],
   "metadata": {}
  },
  {
   "cell_type": "code",
   "execution_count": 44,
   "source": [
    "SIMS = pdist(normalize(PHI), metric='euclidean')\r\n",
    "TREE = sch.linkage(SIMS, method='ward')"
   ],
   "outputs": [],
   "metadata": {}
  }
 ],
 "metadata": {
  "kernelspec": {
   "name": "python3",
   "display_name": "Python 3.9.5 64-bit"
  },
  "language_info": {
   "codemirror_mode": {
    "name": "ipython",
    "version": 3
   },
   "file_extension": ".py",
   "mimetype": "text/x-python",
   "name": "python",
   "nbconvert_exporter": "python",
   "pygments_lexer": "ipython3",
   "version": "3.9.5"
  },
  "interpreter": {
   "hash": "40934032bcb06a90ac7a339334f7ca2dfa0afc406221c35b239b940070357232"
  }
 },
 "nbformat": 4,
 "nbformat_minor": 4
}