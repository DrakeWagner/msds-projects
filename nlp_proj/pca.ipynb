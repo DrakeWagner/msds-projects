{
 "cells": [
  {
   "cell_type": "markdown",
   "source": [
    "pca"
   ],
   "metadata": {}
  },
  {
   "cell_type": "code",
   "execution_count": 50,
   "source": [
    "OHCO = ['genre','author','book_id','chap_num','para_num','sent_num','token_num']\r\n",
    "\r\n",
    "SENTS = OHCO[:6]\r\n",
    "PARAS = OHCO[:5]\r\n",
    "CHAPS = OHCO[:4]\r\n",
    "BOOKS = OHCO[:3]\r\n",
    "AUTHOR = OHCO[:2]\r\n",
    "GENRE = OHCO[:1]"
   ],
   "outputs": [],
   "metadata": {}
  },
  {
   "cell_type": "code",
   "execution_count": 51,
   "source": [
    "count_method = 'n' # 'c' or 'n' # n = n tokens, c = distinct token (term) count\r\n",
    "tf_method = 'sum' # sum, max, log, double_norm, raw, binary\r\n",
    "tf_norm_k = .5 # only used for double_norm\r\n",
    "idf_method = 'standard' # standard, max, smooth\r\n",
    "gradient_cmap = 'YlGnBu' # YlGn, GnBu, YlGnBu; For tables; see https://matplotlib.org/3.1.0/tutorials/colors/colormaps.html \r\n",
    "\r\n",
    "import os\r\n",
    "os.chdir('C:\\\\Users\\\\dwagn\\\\git\\\\DS5001\\\\Project')"
   ],
   "outputs": [],
   "metadata": {}
  },
  {
   "cell_type": "code",
   "execution_count": 52,
   "source": [
    "import pandas as pd\r\n",
    "import numpy as np\r\n",
    "from sklearn.decomposition import PCA\r\n",
    "from scipy.linalg import norm\r\n",
    "\r\n",
    "import seaborn as sns\r\n",
    "\r\n",
    "sns.set(style='ticks')\r\n",
    "%matplotlib inline"
   ],
   "outputs": [],
   "metadata": {}
  },
  {
   "cell_type": "code",
   "execution_count": 53,
   "source": [
    "LIB = pd.read_csv('LIB.csv')\r\n",
    "VOCAB = pd.read_csv('VOCAB2.csv').set_index('term_id')\r\n",
    "TOKENS = pd.read_csv('TOKEN2.csv')"
   ],
   "outputs": [],
   "metadata": {}
  },
  {
   "cell_type": "code",
   "execution_count": 54,
   "source": [
    "TOKENS = pd.merge(TOKENS,LIB, how = 'inner', on = 'book_id')"
   ],
   "outputs": [],
   "metadata": {}
  },
  {
   "cell_type": "code",
   "execution_count": 55,
   "source": [
    "genre = [(141,'n'),(121,'n'), (42671,'n')]\r\n",
    "genre_df = pd.DataFrame(genre,columns=('book_id','genre')).set_index('book_id')"
   ],
   "outputs": [],
   "metadata": {}
  },
  {
   "cell_type": "code",
   "execution_count": 56,
   "source": [
    "LIB = pd.merge(LIB,genre_df, how = 'inner', on = 'book_id')"
   ],
   "outputs": [],
   "metadata": {}
  },
  {
   "cell_type": "code",
   "execution_count": 57,
   "source": [
    "TOKENS = pd.merge(TOKENS,genre_df, how = 'inner', on = 'book_id')"
   ],
   "outputs": [],
   "metadata": {}
  },
  {
   "cell_type": "code",
   "execution_count": 58,
   "source": [
    "TOKENS.set_index(OHCO)"
   ],
   "outputs": [
    {
     "output_type": "execute_result",
     "data": {
      "text/plain": [
       "                                                                         pos_tuple  \\\n",
       "genre author book_id chap_num para_num sent_num token_num                            \n",
       "n     austen 141     49       1        0        0                  ('About', 'IN')   \n",
       "                                                1                 ('thirty', 'CD')   \n",
       "                                                2                 ('years', 'NNS')   \n",
       "                                                3                    ('ago', 'RB')   \n",
       "                                                4                  ('Miss', 'NNP')   \n",
       "...                                                                            ...   \n",
       "             42671   61       19       0        4             ('GUTENBERG', 'NNP')   \n",
       "                                                5                 ('EBOOK', 'NNP')   \n",
       "                                                6                 ('PRIDE', 'NNP')   \n",
       "                                                7                   ('AND', 'NNP')   \n",
       "                                                8          ('PREJUDICE***', 'NNP')   \n",
       "\n",
       "                                                           pos     token_str  \\\n",
       "genre author book_id chap_num para_num sent_num token_num                      \n",
       "n     austen 141     49       1        0        0           IN         About   \n",
       "                                                1           CD        thirty   \n",
       "                                                2          NNS         years   \n",
       "                                                3           RB           ago   \n",
       "                                                4          NNP          Miss   \n",
       "...                                                        ...           ...   \n",
       "             42671   61       19       0        4          NNP     GUTENBERG   \n",
       "                                                5          NNP         EBOOK   \n",
       "                                                6          NNP         PRIDE   \n",
       "                                                7          NNP           AND   \n",
       "                                                8          NNP  PREJUDICE***   \n",
       "\n",
       "                                                            term_str  term_id  \\\n",
       "genre author book_id chap_num para_num sent_num token_num                       \n",
       "n     austen 141     49       1        0        0              about       44   \n",
       "                                                1             thirty    10554   \n",
       "                                                2              years    11832   \n",
       "                                                3                ago      312   \n",
       "                                                4               miss     6704   \n",
       "...                                                              ...      ...   \n",
       "             42671   61       19       0        4          gutenberg     4775   \n",
       "                                                5              ebook     3362   \n",
       "                                                6              pride     8018   \n",
       "                                                7                and      467   \n",
       "                                                8          prejudice     7939   \n",
       "\n",
       "                                                                                            book_title  \\\n",
       "genre author book_id chap_num para_num sent_num token_num                                                \n",
       "n     austen 141     49       1        0        0                       Mansfield Park, by Jane Austen   \n",
       "                                                1                       Mansfield Park, by Jane Austen   \n",
       "                                                2                       Mansfield Park, by Jane Austen   \n",
       "                                                3                       Mansfield Park, by Jane Austen   \n",
       "                                                4                       Mansfield Park, by Jane Austen   \n",
       "...                                                                                                ...   \n",
       "             42671   61       19       0        4          Pride and Prejudice, by Jane Austen, Edited   \n",
       "                                                5          Pride and Prejudice, by Jane Austen, Edited   \n",
       "                                                6          Pride and Prejudice, by Jane Austen, Edited   \n",
       "                                                7          Pride and Prejudice, by Jane Austen, Edited   \n",
       "                                                8          Pride and Prejudice, by Jane Austen, Edited   \n",
       "\n",
       "                                                                                                   book_file  \\\n",
       "genre author book_id chap_num para_num sent_num token_num                                                      \n",
       "n     austen 141     49       1        0        0                 epubs/AUSTEN_JANE_MANSFIELD_PARK-pg141.txt   \n",
       "                                                1                 epubs/AUSTEN_JANE_MANSFIELD_PARK-pg141.txt   \n",
       "                                                2                 epubs/AUSTEN_JANE_MANSFIELD_PARK-pg141.txt   \n",
       "                                                3                 epubs/AUSTEN_JANE_MANSFIELD_PARK-pg141.txt   \n",
       "                                                4                 epubs/AUSTEN_JANE_MANSFIELD_PARK-pg141.txt   \n",
       "...                                                                                                      ...   \n",
       "             42671   61       19       0        4          epubs/AUSTEN_JANE_PRIDE_AND_PREJUDICE-pg42671.txt   \n",
       "                                                5          epubs/AUSTEN_JANE_PRIDE_AND_PREJUDICE-pg42671.txt   \n",
       "                                                6          epubs/AUSTEN_JANE_PRIDE_AND_PREJUDICE-pg42671.txt   \n",
       "                                                7          epubs/AUSTEN_JANE_PRIDE_AND_PREJUDICE-pg42671.txt   \n",
       "                                                8          epubs/AUSTEN_JANE_PRIDE_AND_PREJUDICE-pg42671.txt   \n",
       "\n",
       "                                                                         title  \\\n",
       "genre author book_id chap_num para_num sent_num token_num                        \n",
       "n     austen 141     49       1        0        0               Mansfield Park   \n",
       "                                                1               Mansfield Park   \n",
       "                                                2               Mansfield Park   \n",
       "                                                3               Mansfield Park   \n",
       "                                                4               Mansfield Park   \n",
       "...                                                                        ...   \n",
       "             42671   61       19       0        4          Pride and Prejudice   \n",
       "                                                5          Pride and Prejudice   \n",
       "                                                6          Pride and Prejudice   \n",
       "                                                7          Pride and Prejudice   \n",
       "                                                8          Pride and Prejudice   \n",
       "\n",
       "                                                           year  \n",
       "genre author book_id chap_num para_num sent_num token_num        \n",
       "n     austen 141     49       1        0        0          1814  \n",
       "                                                1          1814  \n",
       "                                                2          1814  \n",
       "                                                3          1814  \n",
       "                                                4          1814  \n",
       "...                                                         ...  \n",
       "             42671   61       19       0        4          1813  \n",
       "                                                5          1813  \n",
       "                                                6          1813  \n",
       "                                                7          1813  \n",
       "                                                8          1813  \n",
       "\n",
       "[358981 rows x 9 columns]"
      ],
      "text/html": [
       "<div>\n",
       "<style scoped>\n",
       "    .dataframe tbody tr th:only-of-type {\n",
       "        vertical-align: middle;\n",
       "    }\n",
       "\n",
       "    .dataframe tbody tr th {\n",
       "        vertical-align: top;\n",
       "    }\n",
       "\n",
       "    .dataframe thead th {\n",
       "        text-align: right;\n",
       "    }\n",
       "</style>\n",
       "<table border=\"1\" class=\"dataframe\">\n",
       "  <thead>\n",
       "    <tr style=\"text-align: right;\">\n",
       "      <th></th>\n",
       "      <th></th>\n",
       "      <th></th>\n",
       "      <th></th>\n",
       "      <th></th>\n",
       "      <th></th>\n",
       "      <th></th>\n",
       "      <th>pos_tuple</th>\n",
       "      <th>pos</th>\n",
       "      <th>token_str</th>\n",
       "      <th>term_str</th>\n",
       "      <th>term_id</th>\n",
       "      <th>book_title</th>\n",
       "      <th>book_file</th>\n",
       "      <th>title</th>\n",
       "      <th>year</th>\n",
       "    </tr>\n",
       "    <tr>\n",
       "      <th>genre</th>\n",
       "      <th>author</th>\n",
       "      <th>book_id</th>\n",
       "      <th>chap_num</th>\n",
       "      <th>para_num</th>\n",
       "      <th>sent_num</th>\n",
       "      <th>token_num</th>\n",
       "      <th></th>\n",
       "      <th></th>\n",
       "      <th></th>\n",
       "      <th></th>\n",
       "      <th></th>\n",
       "      <th></th>\n",
       "      <th></th>\n",
       "      <th></th>\n",
       "      <th></th>\n",
       "    </tr>\n",
       "  </thead>\n",
       "  <tbody>\n",
       "    <tr>\n",
       "      <th rowspan=\"11\" valign=\"top\">n</th>\n",
       "      <th rowspan=\"11\" valign=\"top\">austen</th>\n",
       "      <th rowspan=\"5\" valign=\"top\">141</th>\n",
       "      <th rowspan=\"5\" valign=\"top\">49</th>\n",
       "      <th rowspan=\"5\" valign=\"top\">1</th>\n",
       "      <th rowspan=\"5\" valign=\"top\">0</th>\n",
       "      <th>0</th>\n",
       "      <td>('About', 'IN')</td>\n",
       "      <td>IN</td>\n",
       "      <td>About</td>\n",
       "      <td>about</td>\n",
       "      <td>44</td>\n",
       "      <td>Mansfield Park, by Jane Austen</td>\n",
       "      <td>epubs/AUSTEN_JANE_MANSFIELD_PARK-pg141.txt</td>\n",
       "      <td>Mansfield Park</td>\n",
       "      <td>1814</td>\n",
       "    </tr>\n",
       "    <tr>\n",
       "      <th>1</th>\n",
       "      <td>('thirty', 'CD')</td>\n",
       "      <td>CD</td>\n",
       "      <td>thirty</td>\n",
       "      <td>thirty</td>\n",
       "      <td>10554</td>\n",
       "      <td>Mansfield Park, by Jane Austen</td>\n",
       "      <td>epubs/AUSTEN_JANE_MANSFIELD_PARK-pg141.txt</td>\n",
       "      <td>Mansfield Park</td>\n",
       "      <td>1814</td>\n",
       "    </tr>\n",
       "    <tr>\n",
       "      <th>2</th>\n",
       "      <td>('years', 'NNS')</td>\n",
       "      <td>NNS</td>\n",
       "      <td>years</td>\n",
       "      <td>years</td>\n",
       "      <td>11832</td>\n",
       "      <td>Mansfield Park, by Jane Austen</td>\n",
       "      <td>epubs/AUSTEN_JANE_MANSFIELD_PARK-pg141.txt</td>\n",
       "      <td>Mansfield Park</td>\n",
       "      <td>1814</td>\n",
       "    </tr>\n",
       "    <tr>\n",
       "      <th>3</th>\n",
       "      <td>('ago', 'RB')</td>\n",
       "      <td>RB</td>\n",
       "      <td>ago</td>\n",
       "      <td>ago</td>\n",
       "      <td>312</td>\n",
       "      <td>Mansfield Park, by Jane Austen</td>\n",
       "      <td>epubs/AUSTEN_JANE_MANSFIELD_PARK-pg141.txt</td>\n",
       "      <td>Mansfield Park</td>\n",
       "      <td>1814</td>\n",
       "    </tr>\n",
       "    <tr>\n",
       "      <th>4</th>\n",
       "      <td>('Miss', 'NNP')</td>\n",
       "      <td>NNP</td>\n",
       "      <td>Miss</td>\n",
       "      <td>miss</td>\n",
       "      <td>6704</td>\n",
       "      <td>Mansfield Park, by Jane Austen</td>\n",
       "      <td>epubs/AUSTEN_JANE_MANSFIELD_PARK-pg141.txt</td>\n",
       "      <td>Mansfield Park</td>\n",
       "      <td>1814</td>\n",
       "    </tr>\n",
       "    <tr>\n",
       "      <th>...</th>\n",
       "      <th>...</th>\n",
       "      <th>...</th>\n",
       "      <th>...</th>\n",
       "      <th>...</th>\n",
       "      <td>...</td>\n",
       "      <td>...</td>\n",
       "      <td>...</td>\n",
       "      <td>...</td>\n",
       "      <td>...</td>\n",
       "      <td>...</td>\n",
       "      <td>...</td>\n",
       "      <td>...</td>\n",
       "      <td>...</td>\n",
       "    </tr>\n",
       "    <tr>\n",
       "      <th rowspan=\"5\" valign=\"top\">42671</th>\n",
       "      <th rowspan=\"5\" valign=\"top\">61</th>\n",
       "      <th rowspan=\"5\" valign=\"top\">19</th>\n",
       "      <th rowspan=\"5\" valign=\"top\">0</th>\n",
       "      <th>4</th>\n",
       "      <td>('GUTENBERG', 'NNP')</td>\n",
       "      <td>NNP</td>\n",
       "      <td>GUTENBERG</td>\n",
       "      <td>gutenberg</td>\n",
       "      <td>4775</td>\n",
       "      <td>Pride and Prejudice, by Jane Austen, Edited</td>\n",
       "      <td>epubs/AUSTEN_JANE_PRIDE_AND_PREJUDICE-pg42671.txt</td>\n",
       "      <td>Pride and Prejudice</td>\n",
       "      <td>1813</td>\n",
       "    </tr>\n",
       "    <tr>\n",
       "      <th>5</th>\n",
       "      <td>('EBOOK', 'NNP')</td>\n",
       "      <td>NNP</td>\n",
       "      <td>EBOOK</td>\n",
       "      <td>ebook</td>\n",
       "      <td>3362</td>\n",
       "      <td>Pride and Prejudice, by Jane Austen, Edited</td>\n",
       "      <td>epubs/AUSTEN_JANE_PRIDE_AND_PREJUDICE-pg42671.txt</td>\n",
       "      <td>Pride and Prejudice</td>\n",
       "      <td>1813</td>\n",
       "    </tr>\n",
       "    <tr>\n",
       "      <th>6</th>\n",
       "      <td>('PRIDE', 'NNP')</td>\n",
       "      <td>NNP</td>\n",
       "      <td>PRIDE</td>\n",
       "      <td>pride</td>\n",
       "      <td>8018</td>\n",
       "      <td>Pride and Prejudice, by Jane Austen, Edited</td>\n",
       "      <td>epubs/AUSTEN_JANE_PRIDE_AND_PREJUDICE-pg42671.txt</td>\n",
       "      <td>Pride and Prejudice</td>\n",
       "      <td>1813</td>\n",
       "    </tr>\n",
       "    <tr>\n",
       "      <th>7</th>\n",
       "      <td>('AND', 'NNP')</td>\n",
       "      <td>NNP</td>\n",
       "      <td>AND</td>\n",
       "      <td>and</td>\n",
       "      <td>467</td>\n",
       "      <td>Pride and Prejudice, by Jane Austen, Edited</td>\n",
       "      <td>epubs/AUSTEN_JANE_PRIDE_AND_PREJUDICE-pg42671.txt</td>\n",
       "      <td>Pride and Prejudice</td>\n",
       "      <td>1813</td>\n",
       "    </tr>\n",
       "    <tr>\n",
       "      <th>8</th>\n",
       "      <td>('PREJUDICE***', 'NNP')</td>\n",
       "      <td>NNP</td>\n",
       "      <td>PREJUDICE***</td>\n",
       "      <td>prejudice</td>\n",
       "      <td>7939</td>\n",
       "      <td>Pride and Prejudice, by Jane Austen, Edited</td>\n",
       "      <td>epubs/AUSTEN_JANE_PRIDE_AND_PREJUDICE-pg42671.txt</td>\n",
       "      <td>Pride and Prejudice</td>\n",
       "      <td>1813</td>\n",
       "    </tr>\n",
       "  </tbody>\n",
       "</table>\n",
       "<p>358981 rows × 9 columns</p>\n",
       "</div>"
      ]
     },
     "metadata": {},
     "execution_count": 58
    }
   ],
   "metadata": {}
  },
  {
   "cell_type": "code",
   "execution_count": 59,
   "source": [
    "TOKENS = TOKENS[~TOKENS.term_str.isna()]"
   ],
   "outputs": [],
   "metadata": {}
  },
  {
   "cell_type": "code",
   "execution_count": 60,
   "source": [
    "VOCAB['pos_max'] = TOKENS.groupby(['term_id', 'pos']).pos.count().unstack().idxmax(1)\r\n",
    "\r\n",
    "if 'term_rank' not in VOCAB.columns:\r\n",
    "    VOCAB = VOCAB.sort_values('n', ascending=False).reset_index()\r\n",
    "    VOCAB.index.name = 'term_rank'\r\n",
    "    VOCAB = VOCAB.reset_index()\r\n",
    "    VOCAB = VOCAB.set_index('term_id')\r\n",
    "    VOCAB['term_rank'] = VOCAB['term_rank'] + 1\r\n",
    "\r\n",
    "new_rank = VOCAB.n.value_counts()\\\r\n",
    "    .sort_index(ascending=False).reset_index().reset_index()\\\r\n",
    "    .rename(columns={'level_0':'term_rank2', 'index':'n', 'n':'nn'})\\\r\n",
    "    .set_index('n')\r\n",
    "\r\n",
    "VOCAB['term_rank2'] = VOCAB.n.map(new_rank.term_rank2) + 1\r\n",
    "\r\n",
    "VOCAB['p'] = VOCAB.n / VOCAB.shape[0]\r\n",
    "\r\n",
    "VOCAB['zipf_k'] = VOCAB.n * VOCAB.term_rank\r\n",
    "VOCAB['zipf_k2'] = VOCAB.n * VOCAB.term_rank2\r\n",
    "VOCAB['zipf_k3'] = VOCAB.p * VOCAB.term_rank2"
   ],
   "outputs": [],
   "metadata": {}
  },
  {
   "cell_type": "code",
   "execution_count": 61,
   "source": [
    "def TFIDF_Matrix(df,bag,count_type,tf_type,idf_type):\r\n",
    "\r\n",
    "    BOW = TOKENS.groupby(bag+['term_id']).term_id.count()\\\r\n",
    "    .to_frame().rename(columns={'term_id':'n'})\r\n",
    "\r\n",
    "    BOW['c'] = BOW.n.astype('bool').astype('int')\r\n",
    "    \r\n",
    "    DTCM = BOW[count_method].unstack().fillna(0).astype('int')\r\n",
    "\r\n",
    "    if tf_method == 'sum':\r\n",
    "        TF = DTCM.T / DTCM.T.sum()\r\n",
    "\r\n",
    "    elif tf_method == 'max':\r\n",
    "        TF = DTCM.T / DTCM.T.max()\r\n",
    "\r\n",
    "    elif tf_method == 'log':\r\n",
    "        TF = np.log10(1 + DTCM.T)\r\n",
    "    \r\n",
    "    elif tf_method == 'raw':\r\n",
    "        TF = DTCM.T\r\n",
    "\r\n",
    "    elif tf_method == 'double_norm':\r\n",
    "        TF = DTCM.T / DTCM.T.max()\r\n",
    "        TF = tf_norm_k + (1 - tf_norm_k) * TF[TF > 0] # EXPLAIN; may defeat purpose of norming\r\n",
    "\r\n",
    "    elif tf_method == 'binary':\r\n",
    "        TF = DTCM.T.astype('bool').astype('int')\r\n",
    "    \r\n",
    "    TF = TF.T\r\n",
    "\r\n",
    "    DF = DTCM[DTCM > 0].count()\r\n",
    "\r\n",
    "    N = DTCM.shape[0]\r\n",
    "\r\n",
    "    if idf_method == 'standard':\r\n",
    "        IDF = np.log10(N / DF)\r\n",
    "\r\n",
    "    elif idf_method == 'max':\r\n",
    "        IDF = np.log10(DF.max() / DF) \r\n",
    "\r\n",
    "    elif idf_method == 'smooth':\r\n",
    "        IDF = np.log10((1 + N) / (1 + DF)) + 1\r\n",
    "\r\n",
    "    TFIDF = TF * IDF\r\n",
    "\r\n",
    "    VOCAB['df'] = DF\r\n",
    "    VOCAB['idf'] = IDF\r\n",
    "\r\n",
    "    BOW['tf'] = TF.stack()\r\n",
    "    BOW['tfidf'] = TFIDF.stack()\r\n",
    "\r\n",
    "    VOCAB['tfidf_sum'] = TFIDF.sum()\r\n",
    "\r\n",
    "    VOCAB.sort_values('tfidf_sum', ascending=False).head(20).style.background_gradient\\\r\n",
    "        (cmap=gradient_cmap, high=1)\r\n",
    "\r\n",
    "    VOCAB[['term_rank','term_str','pos_max','tfidf_sum']]\\\r\n",
    "        .sort_values('tfidf_sum', ascending=False).head(50)\\\r\n",
    "        .style.background_gradient(cmap=gradient_cmap, high=1)\r\n",
    "\r\n",
    "    VOCAB.loc[VOCAB.pos_max != 'NNP', ['term_rank','term_str','pos_max','tfidf_sum']]\\\r\n",
    "        .sort_values('tfidf_sum', ascending=False)\\\r\n",
    "        .head(50).style.background_gradient(cmap=gradient_cmap, high=1)\r\n",
    "    \r\n",
    "    BOW = BOW.join(VOCAB[['term_str','pos_max']], on='term_id')\r\n",
    "\r\n",
    "    BOW.sort_values('tfidf', ascending=False).head(20)\\\r\n",
    "        .style.background_gradient(cmap=gradient_cmap, high=1)\r\n",
    "\r\n",
    "    return TFIDF"
   ],
   "outputs": [],
   "metadata": {}
  },
  {
   "cell_type": "code",
   "execution_count": 62,
   "source": [
    "def BOW_Matrix(df,bag,count_type,tf_type,idf_type):\r\n",
    "\r\n",
    "    BOW = TOKENS.groupby(bag+['term_id']).term_id.count()\\\r\n",
    "    .to_frame().rename(columns={'term_id':'n'})\r\n",
    "\r\n",
    "    BOW['c'] = BOW.n.astype('bool').astype('int')\r\n",
    "    \r\n",
    "    DTCM = BOW[count_method].unstack().fillna(0).astype('int')\r\n",
    "\r\n",
    "    if tf_method == 'sum':\r\n",
    "        TF = DTCM.T / DTCM.T.sum()\r\n",
    "\r\n",
    "    elif tf_method == 'max':\r\n",
    "        TF = DTCM.T / DTCM.T.max()\r\n",
    "\r\n",
    "    elif tf_method == 'log':\r\n",
    "        TF = np.log10(1 + DTCM.T)\r\n",
    "    \r\n",
    "    elif tf_method == 'raw':\r\n",
    "        TF = DTCM.T\r\n",
    "\r\n",
    "    elif tf_method == 'double_norm':\r\n",
    "        TF = DTCM.T / DTCM.T.max()\r\n",
    "        TF = tf_norm_k + (1 - tf_norm_k) * TF[TF > 0] # EXPLAIN; may defeat purpose of norming\r\n",
    "\r\n",
    "    elif tf_method == 'binary':\r\n",
    "        TF = DTCM.T.astype('bool').astype('int')\r\n",
    "    \r\n",
    "    TF = TF.T\r\n",
    "\r\n",
    "    DF = DTCM[DTCM > 0].count()\r\n",
    "\r\n",
    "    N = DTCM.shape[0]\r\n",
    "\r\n",
    "    if idf_method == 'standard':\r\n",
    "        IDF = np.log10(N / DF)\r\n",
    "\r\n",
    "    elif idf_method == 'max':\r\n",
    "        IDF = np.log10(DF.max() / DF) \r\n",
    "\r\n",
    "    elif idf_method == 'smooth':\r\n",
    "        IDF = np.log10((1 + N) / (1 + DF)) + 1\r\n",
    "\r\n",
    "    TFIDF = TF * IDF\r\n",
    "\r\n",
    "    VOCAB['df'] = DF\r\n",
    "    VOCAB['idf'] = IDF\r\n",
    "\r\n",
    "    BOW['tf'] = TF.stack()\r\n",
    "    BOW['tfidf'] = TFIDF.stack()\r\n",
    "\r\n",
    "    VOCAB['tfidf_sum'] = TFIDF.sum()\r\n",
    "\r\n",
    "    VOCAB.sort_values('tfidf_sum', ascending=False).head(20).style.background_gradient\\\r\n",
    "        (cmap=gradient_cmap, high=1)\r\n",
    "\r\n",
    "    VOCAB[['term_rank','term_str','pos_max','tfidf_sum']]\\\r\n",
    "        .sort_values('tfidf_sum', ascending=False).head(50)\\\r\n",
    "        .style.background_gradient(cmap=gradient_cmap, high=1)\r\n",
    "\r\n",
    "    VOCAB.loc[VOCAB.pos_max != 'NNP', ['term_rank','term_str','pos_max','tfidf_sum']]\\\r\n",
    "        .sort_values('tfidf_sum', ascending=False)\\\r\n",
    "        .head(50).style.background_gradient(cmap=gradient_cmap, high=1)\r\n",
    "    \r\n",
    "    BOW = BOW.join(VOCAB[['term_str','pos_max']], on='term_id')\r\n",
    "\r\n",
    "    BOW.sort_values('tfidf', ascending=False).head(20)\\\r\n",
    "        .style.background_gradient(cmap=gradient_cmap, high=1)\r\n",
    "\r\n",
    "    return BOW\r\n",
    "    "
   ],
   "outputs": [],
   "metadata": {}
  },
  {
   "cell_type": "code",
   "execution_count": 63,
   "source": [
    "TFIDF = TFIDF_Matrix(TOKENS,BOOKS,count_method,tf_method,idf_method)"
   ],
   "outputs": [],
   "metadata": {}
  },
  {
   "cell_type": "code",
   "execution_count": 64,
   "source": [
    "BOW = BOW_Matrix(TOKENS,BOOKS,count_method,tf_method,idf_method)"
   ],
   "outputs": [],
   "metadata": {}
  },
  {
   "cell_type": "code",
   "execution_count": 65,
   "source": [
    "TFIDF"
   ],
   "outputs": [
    {
     "output_type": "execute_result",
     "data": {
      "text/plain": [
       "term_id                  1         2         3         4         5      \\\n",
       "genre author book_id                                                     \n",
       "n     austen 121      0.000006  0.000000  0.000000  0.000000  0.000006   \n",
       "             141      0.000000  0.000009  0.000006  0.000000  0.000000   \n",
       "             42671    0.000000  0.000000  0.000000  0.000004  0.000000   \n",
       "\n",
       "term_id                  6         7         8         9         10     ...  \\\n",
       "genre author book_id                                                    ...   \n",
       "n     austen 121      0.000012  0.000000  0.000006  0.000006  0.000000  ...   \n",
       "             141      0.000000  0.000000  0.000000  0.000000  0.000000  ...   \n",
       "             42671    0.000000  0.000008  0.000000  0.000000  0.000004  ...   \n",
       "\n",
       "term_id               11873     11874  11875  11876     11877     11878  \\\n",
       "genre author book_id                                                      \n",
       "n     austen 121        0.0  0.000000    0.0    0.0  0.000012  0.000000   \n",
       "             141        0.0  0.000000    0.0    0.0  0.000000  0.000000   \n",
       "             42671      0.0  0.000004    0.0    0.0  0.000000  0.000004   \n",
       "\n",
       "term_id                  11879     11880     11881     11882  \n",
       "genre author book_id                                          \n",
       "n     austen 121      0.000000  0.000000  0.000000  0.000000  \n",
       "             141      0.000000  0.000015  0.000003  0.000003  \n",
       "             42671    0.000004  0.000000  0.000000  0.000000  \n",
       "\n",
       "[3 rows x 11882 columns]"
      ],
      "text/html": [
       "<div>\n",
       "<style scoped>\n",
       "    .dataframe tbody tr th:only-of-type {\n",
       "        vertical-align: middle;\n",
       "    }\n",
       "\n",
       "    .dataframe tbody tr th {\n",
       "        vertical-align: top;\n",
       "    }\n",
       "\n",
       "    .dataframe thead th {\n",
       "        text-align: right;\n",
       "    }\n",
       "</style>\n",
       "<table border=\"1\" class=\"dataframe\">\n",
       "  <thead>\n",
       "    <tr style=\"text-align: right;\">\n",
       "      <th></th>\n",
       "      <th></th>\n",
       "      <th>term_id</th>\n",
       "      <th>1</th>\n",
       "      <th>2</th>\n",
       "      <th>3</th>\n",
       "      <th>4</th>\n",
       "      <th>5</th>\n",
       "      <th>6</th>\n",
       "      <th>7</th>\n",
       "      <th>8</th>\n",
       "      <th>9</th>\n",
       "      <th>10</th>\n",
       "      <th>...</th>\n",
       "      <th>11873</th>\n",
       "      <th>11874</th>\n",
       "      <th>11875</th>\n",
       "      <th>11876</th>\n",
       "      <th>11877</th>\n",
       "      <th>11878</th>\n",
       "      <th>11879</th>\n",
       "      <th>11880</th>\n",
       "      <th>11881</th>\n",
       "      <th>11882</th>\n",
       "    </tr>\n",
       "    <tr>\n",
       "      <th>genre</th>\n",
       "      <th>author</th>\n",
       "      <th>book_id</th>\n",
       "      <th></th>\n",
       "      <th></th>\n",
       "      <th></th>\n",
       "      <th></th>\n",
       "      <th></th>\n",
       "      <th></th>\n",
       "      <th></th>\n",
       "      <th></th>\n",
       "      <th></th>\n",
       "      <th></th>\n",
       "      <th></th>\n",
       "      <th></th>\n",
       "      <th></th>\n",
       "      <th></th>\n",
       "      <th></th>\n",
       "      <th></th>\n",
       "      <th></th>\n",
       "      <th></th>\n",
       "      <th></th>\n",
       "      <th></th>\n",
       "      <th></th>\n",
       "    </tr>\n",
       "  </thead>\n",
       "  <tbody>\n",
       "    <tr>\n",
       "      <th rowspan=\"3\" valign=\"top\">n</th>\n",
       "      <th rowspan=\"3\" valign=\"top\">austen</th>\n",
       "      <th>121</th>\n",
       "      <td>0.000006</td>\n",
       "      <td>0.000000</td>\n",
       "      <td>0.000000</td>\n",
       "      <td>0.000000</td>\n",
       "      <td>0.000006</td>\n",
       "      <td>0.000012</td>\n",
       "      <td>0.000000</td>\n",
       "      <td>0.000006</td>\n",
       "      <td>0.000006</td>\n",
       "      <td>0.000000</td>\n",
       "      <td>...</td>\n",
       "      <td>0.0</td>\n",
       "      <td>0.000000</td>\n",
       "      <td>0.0</td>\n",
       "      <td>0.0</td>\n",
       "      <td>0.000012</td>\n",
       "      <td>0.000000</td>\n",
       "      <td>0.000000</td>\n",
       "      <td>0.000000</td>\n",
       "      <td>0.000000</td>\n",
       "      <td>0.000000</td>\n",
       "    </tr>\n",
       "    <tr>\n",
       "      <th>141</th>\n",
       "      <td>0.000000</td>\n",
       "      <td>0.000009</td>\n",
       "      <td>0.000006</td>\n",
       "      <td>0.000000</td>\n",
       "      <td>0.000000</td>\n",
       "      <td>0.000000</td>\n",
       "      <td>0.000000</td>\n",
       "      <td>0.000000</td>\n",
       "      <td>0.000000</td>\n",
       "      <td>0.000000</td>\n",
       "      <td>...</td>\n",
       "      <td>0.0</td>\n",
       "      <td>0.000000</td>\n",
       "      <td>0.0</td>\n",
       "      <td>0.0</td>\n",
       "      <td>0.000000</td>\n",
       "      <td>0.000000</td>\n",
       "      <td>0.000000</td>\n",
       "      <td>0.000015</td>\n",
       "      <td>0.000003</td>\n",
       "      <td>0.000003</td>\n",
       "    </tr>\n",
       "    <tr>\n",
       "      <th>42671</th>\n",
       "      <td>0.000000</td>\n",
       "      <td>0.000000</td>\n",
       "      <td>0.000000</td>\n",
       "      <td>0.000004</td>\n",
       "      <td>0.000000</td>\n",
       "      <td>0.000000</td>\n",
       "      <td>0.000008</td>\n",
       "      <td>0.000000</td>\n",
       "      <td>0.000000</td>\n",
       "      <td>0.000004</td>\n",
       "      <td>...</td>\n",
       "      <td>0.0</td>\n",
       "      <td>0.000004</td>\n",
       "      <td>0.0</td>\n",
       "      <td>0.0</td>\n",
       "      <td>0.000000</td>\n",
       "      <td>0.000004</td>\n",
       "      <td>0.000004</td>\n",
       "      <td>0.000000</td>\n",
       "      <td>0.000000</td>\n",
       "      <td>0.000000</td>\n",
       "    </tr>\n",
       "  </tbody>\n",
       "</table>\n",
       "<p>3 rows × 11882 columns</p>\n",
       "</div>"
      ]
     },
     "metadata": {},
     "execution_count": 65
    }
   ],
   "metadata": {}
  },
  {
   "cell_type": "code",
   "execution_count": 66,
   "source": [
    "BOW"
   ],
   "outputs": [
    {
     "output_type": "execute_result",
     "data": {
      "text/plain": [
       "                              n  c        tf     tfidf     term_str pos_max\n",
       "genre author book_id term_id                                               \n",
       "n     austen 121     1        1  1  0.000013  0.000006            1      JJ\n",
       "                     5        1  1  0.000013  0.000006       179798      JJ\n",
       "                     6        2  1  0.000026  0.000012         1803      CD\n",
       "                     8        1  1  0.000013  0.000006         1816      CD\n",
       "                     9        1  1  0.000013  0.000006         1818      CD\n",
       "...                          .. ..       ...       ...          ...     ...\n",
       "             42671   11874    1  1  0.000008  0.000004  yourselfand      NN\n",
       "                     11875    2  1  0.000016  0.000000   yourselves      NN\n",
       "                     11876    9  1  0.000074  0.000000        youth      NN\n",
       "                     11878    1  1  0.000008  0.000004       youths     NNS\n",
       "                     11879    1  1  0.000008  0.000004      youwill      VB\n",
       "\n",
       "[21107 rows x 6 columns]"
      ],
      "text/html": [
       "<div>\n",
       "<style scoped>\n",
       "    .dataframe tbody tr th:only-of-type {\n",
       "        vertical-align: middle;\n",
       "    }\n",
       "\n",
       "    .dataframe tbody tr th {\n",
       "        vertical-align: top;\n",
       "    }\n",
       "\n",
       "    .dataframe thead th {\n",
       "        text-align: right;\n",
       "    }\n",
       "</style>\n",
       "<table border=\"1\" class=\"dataframe\">\n",
       "  <thead>\n",
       "    <tr style=\"text-align: right;\">\n",
       "      <th></th>\n",
       "      <th></th>\n",
       "      <th></th>\n",
       "      <th></th>\n",
       "      <th>n</th>\n",
       "      <th>c</th>\n",
       "      <th>tf</th>\n",
       "      <th>tfidf</th>\n",
       "      <th>term_str</th>\n",
       "      <th>pos_max</th>\n",
       "    </tr>\n",
       "    <tr>\n",
       "      <th>genre</th>\n",
       "      <th>author</th>\n",
       "      <th>book_id</th>\n",
       "      <th>term_id</th>\n",
       "      <th></th>\n",
       "      <th></th>\n",
       "      <th></th>\n",
       "      <th></th>\n",
       "      <th></th>\n",
       "      <th></th>\n",
       "    </tr>\n",
       "  </thead>\n",
       "  <tbody>\n",
       "    <tr>\n",
       "      <th rowspan=\"11\" valign=\"top\">n</th>\n",
       "      <th rowspan=\"11\" valign=\"top\">austen</th>\n",
       "      <th rowspan=\"5\" valign=\"top\">121</th>\n",
       "      <th>1</th>\n",
       "      <td>1</td>\n",
       "      <td>1</td>\n",
       "      <td>0.000013</td>\n",
       "      <td>0.000006</td>\n",
       "      <td>1</td>\n",
       "      <td>JJ</td>\n",
       "    </tr>\n",
       "    <tr>\n",
       "      <th>5</th>\n",
       "      <td>1</td>\n",
       "      <td>1</td>\n",
       "      <td>0.000013</td>\n",
       "      <td>0.000006</td>\n",
       "      <td>179798</td>\n",
       "      <td>JJ</td>\n",
       "    </tr>\n",
       "    <tr>\n",
       "      <th>6</th>\n",
       "      <td>2</td>\n",
       "      <td>1</td>\n",
       "      <td>0.000026</td>\n",
       "      <td>0.000012</td>\n",
       "      <td>1803</td>\n",
       "      <td>CD</td>\n",
       "    </tr>\n",
       "    <tr>\n",
       "      <th>8</th>\n",
       "      <td>1</td>\n",
       "      <td>1</td>\n",
       "      <td>0.000013</td>\n",
       "      <td>0.000006</td>\n",
       "      <td>1816</td>\n",
       "      <td>CD</td>\n",
       "    </tr>\n",
       "    <tr>\n",
       "      <th>9</th>\n",
       "      <td>1</td>\n",
       "      <td>1</td>\n",
       "      <td>0.000013</td>\n",
       "      <td>0.000006</td>\n",
       "      <td>1818</td>\n",
       "      <td>CD</td>\n",
       "    </tr>\n",
       "    <tr>\n",
       "      <th>...</th>\n",
       "      <th>...</th>\n",
       "      <td>...</td>\n",
       "      <td>...</td>\n",
       "      <td>...</td>\n",
       "      <td>...</td>\n",
       "      <td>...</td>\n",
       "      <td>...</td>\n",
       "    </tr>\n",
       "    <tr>\n",
       "      <th rowspan=\"5\" valign=\"top\">42671</th>\n",
       "      <th>11874</th>\n",
       "      <td>1</td>\n",
       "      <td>1</td>\n",
       "      <td>0.000008</td>\n",
       "      <td>0.000004</td>\n",
       "      <td>yourselfand</td>\n",
       "      <td>NN</td>\n",
       "    </tr>\n",
       "    <tr>\n",
       "      <th>11875</th>\n",
       "      <td>2</td>\n",
       "      <td>1</td>\n",
       "      <td>0.000016</td>\n",
       "      <td>0.000000</td>\n",
       "      <td>yourselves</td>\n",
       "      <td>NN</td>\n",
       "    </tr>\n",
       "    <tr>\n",
       "      <th>11876</th>\n",
       "      <td>9</td>\n",
       "      <td>1</td>\n",
       "      <td>0.000074</td>\n",
       "      <td>0.000000</td>\n",
       "      <td>youth</td>\n",
       "      <td>NN</td>\n",
       "    </tr>\n",
       "    <tr>\n",
       "      <th>11878</th>\n",
       "      <td>1</td>\n",
       "      <td>1</td>\n",
       "      <td>0.000008</td>\n",
       "      <td>0.000004</td>\n",
       "      <td>youths</td>\n",
       "      <td>NNS</td>\n",
       "    </tr>\n",
       "    <tr>\n",
       "      <th>11879</th>\n",
       "      <td>1</td>\n",
       "      <td>1</td>\n",
       "      <td>0.000008</td>\n",
       "      <td>0.000004</td>\n",
       "      <td>youwill</td>\n",
       "      <td>VB</td>\n",
       "    </tr>\n",
       "  </tbody>\n",
       "</table>\n",
       "<p>21107 rows × 6 columns</p>\n",
       "</div>"
      ]
     },
     "metadata": {},
     "execution_count": 66
    }
   ],
   "metadata": {}
  },
  {
   "cell_type": "code",
   "execution_count": 67,
   "source": [
    "DTCM = BOW[count_method].unstack().fillna(0).astype('int')"
   ],
   "outputs": [],
   "metadata": {}
  },
  {
   "cell_type": "code",
   "execution_count": 68,
   "source": [
    "DTCM.head(10)"
   ],
   "outputs": [
    {
     "output_type": "execute_result",
     "data": {
      "text/plain": [
       "term_id               1      2      3      4      5      6      7      8      \\\n",
       "genre author book_id                                                           \n",
       "n     austen 121          1      0      0      0      1      2      0      1   \n",
       "             141          0      3      2      0      0      0      0      0   \n",
       "             42671        0      0      0      1      0      0      2      0   \n",
       "\n",
       "term_id               9      10     ...  11873  11874  11875  11876  11877  \\\n",
       "genre author book_id                ...                                      \n",
       "n     austen 121          1      0  ...     22      0      1      4      2   \n",
       "             141          0      0  ...     58      0      3      6      0   \n",
       "             42671        0      1  ...     49      1      2      9      0   \n",
       "\n",
       "term_id               11878  11879  11880  11881  11882  \n",
       "genre author book_id                                     \n",
       "n     austen 121          0      0      0      0      0  \n",
       "             141          0      0      5      1      1  \n",
       "             42671        1      1      0      0      0  \n",
       "\n",
       "[3 rows x 11882 columns]"
      ],
      "text/html": [
       "<div>\n",
       "<style scoped>\n",
       "    .dataframe tbody tr th:only-of-type {\n",
       "        vertical-align: middle;\n",
       "    }\n",
       "\n",
       "    .dataframe tbody tr th {\n",
       "        vertical-align: top;\n",
       "    }\n",
       "\n",
       "    .dataframe thead th {\n",
       "        text-align: right;\n",
       "    }\n",
       "</style>\n",
       "<table border=\"1\" class=\"dataframe\">\n",
       "  <thead>\n",
       "    <tr style=\"text-align: right;\">\n",
       "      <th></th>\n",
       "      <th></th>\n",
       "      <th>term_id</th>\n",
       "      <th>1</th>\n",
       "      <th>2</th>\n",
       "      <th>3</th>\n",
       "      <th>4</th>\n",
       "      <th>5</th>\n",
       "      <th>6</th>\n",
       "      <th>7</th>\n",
       "      <th>8</th>\n",
       "      <th>9</th>\n",
       "      <th>10</th>\n",
       "      <th>...</th>\n",
       "      <th>11873</th>\n",
       "      <th>11874</th>\n",
       "      <th>11875</th>\n",
       "      <th>11876</th>\n",
       "      <th>11877</th>\n",
       "      <th>11878</th>\n",
       "      <th>11879</th>\n",
       "      <th>11880</th>\n",
       "      <th>11881</th>\n",
       "      <th>11882</th>\n",
       "    </tr>\n",
       "    <tr>\n",
       "      <th>genre</th>\n",
       "      <th>author</th>\n",
       "      <th>book_id</th>\n",
       "      <th></th>\n",
       "      <th></th>\n",
       "      <th></th>\n",
       "      <th></th>\n",
       "      <th></th>\n",
       "      <th></th>\n",
       "      <th></th>\n",
       "      <th></th>\n",
       "      <th></th>\n",
       "      <th></th>\n",
       "      <th></th>\n",
       "      <th></th>\n",
       "      <th></th>\n",
       "      <th></th>\n",
       "      <th></th>\n",
       "      <th></th>\n",
       "      <th></th>\n",
       "      <th></th>\n",
       "      <th></th>\n",
       "      <th></th>\n",
       "      <th></th>\n",
       "    </tr>\n",
       "  </thead>\n",
       "  <tbody>\n",
       "    <tr>\n",
       "      <th rowspan=\"3\" valign=\"top\">n</th>\n",
       "      <th rowspan=\"3\" valign=\"top\">austen</th>\n",
       "      <th>121</th>\n",
       "      <td>1</td>\n",
       "      <td>0</td>\n",
       "      <td>0</td>\n",
       "      <td>0</td>\n",
       "      <td>1</td>\n",
       "      <td>2</td>\n",
       "      <td>0</td>\n",
       "      <td>1</td>\n",
       "      <td>1</td>\n",
       "      <td>0</td>\n",
       "      <td>...</td>\n",
       "      <td>22</td>\n",
       "      <td>0</td>\n",
       "      <td>1</td>\n",
       "      <td>4</td>\n",
       "      <td>2</td>\n",
       "      <td>0</td>\n",
       "      <td>0</td>\n",
       "      <td>0</td>\n",
       "      <td>0</td>\n",
       "      <td>0</td>\n",
       "    </tr>\n",
       "    <tr>\n",
       "      <th>141</th>\n",
       "      <td>0</td>\n",
       "      <td>3</td>\n",
       "      <td>2</td>\n",
       "      <td>0</td>\n",
       "      <td>0</td>\n",
       "      <td>0</td>\n",
       "      <td>0</td>\n",
       "      <td>0</td>\n",
       "      <td>0</td>\n",
       "      <td>0</td>\n",
       "      <td>...</td>\n",
       "      <td>58</td>\n",
       "      <td>0</td>\n",
       "      <td>3</td>\n",
       "      <td>6</td>\n",
       "      <td>0</td>\n",
       "      <td>0</td>\n",
       "      <td>0</td>\n",
       "      <td>5</td>\n",
       "      <td>1</td>\n",
       "      <td>1</td>\n",
       "    </tr>\n",
       "    <tr>\n",
       "      <th>42671</th>\n",
       "      <td>0</td>\n",
       "      <td>0</td>\n",
       "      <td>0</td>\n",
       "      <td>1</td>\n",
       "      <td>0</td>\n",
       "      <td>0</td>\n",
       "      <td>2</td>\n",
       "      <td>0</td>\n",
       "      <td>0</td>\n",
       "      <td>1</td>\n",
       "      <td>...</td>\n",
       "      <td>49</td>\n",
       "      <td>1</td>\n",
       "      <td>2</td>\n",
       "      <td>9</td>\n",
       "      <td>0</td>\n",
       "      <td>1</td>\n",
       "      <td>1</td>\n",
       "      <td>0</td>\n",
       "      <td>0</td>\n",
       "      <td>0</td>\n",
       "    </tr>\n",
       "  </tbody>\n",
       "</table>\n",
       "<p>3 rows × 11882 columns</p>\n",
       "</div>"
      ]
     },
     "metadata": {},
     "execution_count": 68
    }
   ],
   "metadata": {}
  },
  {
   "cell_type": "code",
   "execution_count": 69,
   "source": [
    "reduced_vocab = VOCAB[VOCAB['tfidf_sum']>0]"
   ],
   "outputs": [],
   "metadata": {}
  },
  {
   "cell_type": "code",
   "execution_count": 70,
   "source": [
    "reduced_vocab"
   ],
   "outputs": [
    {
     "output_type": "execute_result",
     "data": {
      "text/plain": [
       "         term_rank      term_str    n  num  stop     p_stem pos_max  \\\n",
       "term_id                                                               \n",
       "3976            67         fanny  816    0     0      fanni     NNP   \n",
       "3440            90     elizabeth  585    0     0  elizabeth     NNP   \n",
       "1524            95     catherine  538    0     0   catherin     NNP   \n",
       "2402           102      crawford  493    0     0   crawford     NNP   \n",
       "2521           126         darcy  365    0     0      darci     NNP   \n",
       "...            ...           ...  ...  ...   ...        ...     ...   \n",
       "5723         11878    interfered    1    0     0     interf     VBD   \n",
       "5716         11879  intercepting    1    0     0  intercept     VBG   \n",
       "5715         11880     intercept    1    0     0  intercept      VB   \n",
       "5711         11881   intentional    1    0     0     intent      JJ   \n",
       "11882        11882             à    1    0     0          à     NNP   \n",
       "\n",
       "         term_rank2         p  zipf_k  zipf_k2   zipf_k3  df       idf  \\\n",
       "term_id                                                                  \n",
       "3976             67  0.068675   54672    54672  4.601246   1  0.477121   \n",
       "3440             89  0.049234   52650    52065  4.381838   1  0.477121   \n",
       "1524             94  0.045279   51110    50572  4.256186   2  0.176091   \n",
       "2402            101  0.041491   50286    49793  4.190624   1  0.477121   \n",
       "2521            123  0.030719   45990    44895  3.778404   1  0.477121   \n",
       "...             ...       ...     ...      ...       ...  ..       ...   \n",
       "5723            374  0.000084   11878      374  0.031476   1  0.477121   \n",
       "5716            374  0.000084   11879      374  0.031476   1  0.477121   \n",
       "5715            374  0.000084   11880      374  0.031476   1  0.477121   \n",
       "5711            374  0.000084   11881      374  0.031476   1  0.477121   \n",
       "11882           374  0.000084   11882      374  0.031476   1  0.477121   \n",
       "\n",
       "         tfidf_sum  \n",
       "term_id             \n",
       "3976      0.002436  \n",
       "3440      0.002294  \n",
       "1524      0.001132  \n",
       "2402      0.001472  \n",
       "2521      0.001431  \n",
       "...            ...  \n",
       "5723      0.000003  \n",
       "5716      0.000006  \n",
       "5715      0.000003  \n",
       "5711      0.000006  \n",
       "11882     0.000003  \n",
       "\n",
       "[8462 rows x 15 columns]"
      ],
      "text/html": [
       "<div>\n",
       "<style scoped>\n",
       "    .dataframe tbody tr th:only-of-type {\n",
       "        vertical-align: middle;\n",
       "    }\n",
       "\n",
       "    .dataframe tbody tr th {\n",
       "        vertical-align: top;\n",
       "    }\n",
       "\n",
       "    .dataframe thead th {\n",
       "        text-align: right;\n",
       "    }\n",
       "</style>\n",
       "<table border=\"1\" class=\"dataframe\">\n",
       "  <thead>\n",
       "    <tr style=\"text-align: right;\">\n",
       "      <th></th>\n",
       "      <th>term_rank</th>\n",
       "      <th>term_str</th>\n",
       "      <th>n</th>\n",
       "      <th>num</th>\n",
       "      <th>stop</th>\n",
       "      <th>p_stem</th>\n",
       "      <th>pos_max</th>\n",
       "      <th>term_rank2</th>\n",
       "      <th>p</th>\n",
       "      <th>zipf_k</th>\n",
       "      <th>zipf_k2</th>\n",
       "      <th>zipf_k3</th>\n",
       "      <th>df</th>\n",
       "      <th>idf</th>\n",
       "      <th>tfidf_sum</th>\n",
       "    </tr>\n",
       "    <tr>\n",
       "      <th>term_id</th>\n",
       "      <th></th>\n",
       "      <th></th>\n",
       "      <th></th>\n",
       "      <th></th>\n",
       "      <th></th>\n",
       "      <th></th>\n",
       "      <th></th>\n",
       "      <th></th>\n",
       "      <th></th>\n",
       "      <th></th>\n",
       "      <th></th>\n",
       "      <th></th>\n",
       "      <th></th>\n",
       "      <th></th>\n",
       "      <th></th>\n",
       "    </tr>\n",
       "  </thead>\n",
       "  <tbody>\n",
       "    <tr>\n",
       "      <th>3976</th>\n",
       "      <td>67</td>\n",
       "      <td>fanny</td>\n",
       "      <td>816</td>\n",
       "      <td>0</td>\n",
       "      <td>0</td>\n",
       "      <td>fanni</td>\n",
       "      <td>NNP</td>\n",
       "      <td>67</td>\n",
       "      <td>0.068675</td>\n",
       "      <td>54672</td>\n",
       "      <td>54672</td>\n",
       "      <td>4.601246</td>\n",
       "      <td>1</td>\n",
       "      <td>0.477121</td>\n",
       "      <td>0.002436</td>\n",
       "    </tr>\n",
       "    <tr>\n",
       "      <th>3440</th>\n",
       "      <td>90</td>\n",
       "      <td>elizabeth</td>\n",
       "      <td>585</td>\n",
       "      <td>0</td>\n",
       "      <td>0</td>\n",
       "      <td>elizabeth</td>\n",
       "      <td>NNP</td>\n",
       "      <td>89</td>\n",
       "      <td>0.049234</td>\n",
       "      <td>52650</td>\n",
       "      <td>52065</td>\n",
       "      <td>4.381838</td>\n",
       "      <td>1</td>\n",
       "      <td>0.477121</td>\n",
       "      <td>0.002294</td>\n",
       "    </tr>\n",
       "    <tr>\n",
       "      <th>1524</th>\n",
       "      <td>95</td>\n",
       "      <td>catherine</td>\n",
       "      <td>538</td>\n",
       "      <td>0</td>\n",
       "      <td>0</td>\n",
       "      <td>catherin</td>\n",
       "      <td>NNP</td>\n",
       "      <td>94</td>\n",
       "      <td>0.045279</td>\n",
       "      <td>51110</td>\n",
       "      <td>50572</td>\n",
       "      <td>4.256186</td>\n",
       "      <td>2</td>\n",
       "      <td>0.176091</td>\n",
       "      <td>0.001132</td>\n",
       "    </tr>\n",
       "    <tr>\n",
       "      <th>2402</th>\n",
       "      <td>102</td>\n",
       "      <td>crawford</td>\n",
       "      <td>493</td>\n",
       "      <td>0</td>\n",
       "      <td>0</td>\n",
       "      <td>crawford</td>\n",
       "      <td>NNP</td>\n",
       "      <td>101</td>\n",
       "      <td>0.041491</td>\n",
       "      <td>50286</td>\n",
       "      <td>49793</td>\n",
       "      <td>4.190624</td>\n",
       "      <td>1</td>\n",
       "      <td>0.477121</td>\n",
       "      <td>0.001472</td>\n",
       "    </tr>\n",
       "    <tr>\n",
       "      <th>2521</th>\n",
       "      <td>126</td>\n",
       "      <td>darcy</td>\n",
       "      <td>365</td>\n",
       "      <td>0</td>\n",
       "      <td>0</td>\n",
       "      <td>darci</td>\n",
       "      <td>NNP</td>\n",
       "      <td>123</td>\n",
       "      <td>0.030719</td>\n",
       "      <td>45990</td>\n",
       "      <td>44895</td>\n",
       "      <td>3.778404</td>\n",
       "      <td>1</td>\n",
       "      <td>0.477121</td>\n",
       "      <td>0.001431</td>\n",
       "    </tr>\n",
       "    <tr>\n",
       "      <th>...</th>\n",
       "      <td>...</td>\n",
       "      <td>...</td>\n",
       "      <td>...</td>\n",
       "      <td>...</td>\n",
       "      <td>...</td>\n",
       "      <td>...</td>\n",
       "      <td>...</td>\n",
       "      <td>...</td>\n",
       "      <td>...</td>\n",
       "      <td>...</td>\n",
       "      <td>...</td>\n",
       "      <td>...</td>\n",
       "      <td>...</td>\n",
       "      <td>...</td>\n",
       "      <td>...</td>\n",
       "    </tr>\n",
       "    <tr>\n",
       "      <th>5723</th>\n",
       "      <td>11878</td>\n",
       "      <td>interfered</td>\n",
       "      <td>1</td>\n",
       "      <td>0</td>\n",
       "      <td>0</td>\n",
       "      <td>interf</td>\n",
       "      <td>VBD</td>\n",
       "      <td>374</td>\n",
       "      <td>0.000084</td>\n",
       "      <td>11878</td>\n",
       "      <td>374</td>\n",
       "      <td>0.031476</td>\n",
       "      <td>1</td>\n",
       "      <td>0.477121</td>\n",
       "      <td>0.000003</td>\n",
       "    </tr>\n",
       "    <tr>\n",
       "      <th>5716</th>\n",
       "      <td>11879</td>\n",
       "      <td>intercepting</td>\n",
       "      <td>1</td>\n",
       "      <td>0</td>\n",
       "      <td>0</td>\n",
       "      <td>intercept</td>\n",
       "      <td>VBG</td>\n",
       "      <td>374</td>\n",
       "      <td>0.000084</td>\n",
       "      <td>11879</td>\n",
       "      <td>374</td>\n",
       "      <td>0.031476</td>\n",
       "      <td>1</td>\n",
       "      <td>0.477121</td>\n",
       "      <td>0.000006</td>\n",
       "    </tr>\n",
       "    <tr>\n",
       "      <th>5715</th>\n",
       "      <td>11880</td>\n",
       "      <td>intercept</td>\n",
       "      <td>1</td>\n",
       "      <td>0</td>\n",
       "      <td>0</td>\n",
       "      <td>intercept</td>\n",
       "      <td>VB</td>\n",
       "      <td>374</td>\n",
       "      <td>0.000084</td>\n",
       "      <td>11880</td>\n",
       "      <td>374</td>\n",
       "      <td>0.031476</td>\n",
       "      <td>1</td>\n",
       "      <td>0.477121</td>\n",
       "      <td>0.000003</td>\n",
       "    </tr>\n",
       "    <tr>\n",
       "      <th>5711</th>\n",
       "      <td>11881</td>\n",
       "      <td>intentional</td>\n",
       "      <td>1</td>\n",
       "      <td>0</td>\n",
       "      <td>0</td>\n",
       "      <td>intent</td>\n",
       "      <td>JJ</td>\n",
       "      <td>374</td>\n",
       "      <td>0.000084</td>\n",
       "      <td>11881</td>\n",
       "      <td>374</td>\n",
       "      <td>0.031476</td>\n",
       "      <td>1</td>\n",
       "      <td>0.477121</td>\n",
       "      <td>0.000006</td>\n",
       "    </tr>\n",
       "    <tr>\n",
       "      <th>11882</th>\n",
       "      <td>11882</td>\n",
       "      <td>à</td>\n",
       "      <td>1</td>\n",
       "      <td>0</td>\n",
       "      <td>0</td>\n",
       "      <td>à</td>\n",
       "      <td>NNP</td>\n",
       "      <td>374</td>\n",
       "      <td>0.000084</td>\n",
       "      <td>11882</td>\n",
       "      <td>374</td>\n",
       "      <td>0.031476</td>\n",
       "      <td>1</td>\n",
       "      <td>0.477121</td>\n",
       "      <td>0.000003</td>\n",
       "    </tr>\n",
       "  </tbody>\n",
       "</table>\n",
       "<p>8462 rows × 15 columns</p>\n",
       "</div>"
      ]
     },
     "metadata": {},
     "execution_count": 70
    }
   ],
   "metadata": {}
  },
  {
   "cell_type": "code",
   "execution_count": 71,
   "source": [
    "reduced_vocab = reduced_vocab.sort_values('tfidf_sum',ascending=False).head(4000)"
   ],
   "outputs": [],
   "metadata": {}
  },
  {
   "cell_type": "code",
   "execution_count": 72,
   "source": [
    "reduced_vocab"
   ],
   "outputs": [
    {
     "output_type": "execute_result",
     "data": {
      "text/plain": [
       "         term_rank    term_str    n  num  stop     p_stem pos_max  term_rank2  \\\n",
       "term_id                                                                         \n",
       "3976            67       fanny  816    0     0      fanni     NNP          67   \n",
       "3440            90   elizabeth  585    0     0  elizabeth     NNP          89   \n",
       "2402           102    crawford  493    0     0   crawford     NNP         101   \n",
       "2521           126       darcy  365    0     0      darci     NNP         123   \n",
       "10621          228      tilney  196    0     0     tilney     NNP         195   \n",
       "...            ...         ...  ...  ...   ...        ...     ...         ...   \n",
       "9075          4871       sakes    3    0     0       sake      NN         372   \n",
       "479           5517     anguish    3    0     0    anguish      JJ         372   \n",
       "6941          4772  neglecting    3    0     0    neglect     VBG         372   \n",
       "6567          4768       meets    3    0     0       meet     NNS         372   \n",
       "2126          5479     conquer    3    0     0    conquer      VB         372   \n",
       "\n",
       "                p  zipf_k  zipf_k2   zipf_k3  df       idf  tfidf_sum  \n",
       "term_id                                                                \n",
       "3976     0.068675   54672    54672  4.601246   1  0.477121   0.002436  \n",
       "3440     0.049234   52650    52065  4.381838   1  0.477121   0.002294  \n",
       "2402     0.041491   50286    49793  4.190624   1  0.477121   0.001472  \n",
       "2521     0.030719   45990    44895  3.778404   1  0.477121   0.001431  \n",
       "10621    0.016496   44688    38220  3.216630   1  0.477121   0.001207  \n",
       "...           ...     ...      ...       ...  ..       ...        ...  \n",
       "9075     0.000252   14613     1116  0.093924   2  0.176091   0.000004  \n",
       "479      0.000252   16551     1116  0.093924   2  0.176091   0.000004  \n",
       "6941     0.000252   14316     1116  0.093924   2  0.176091   0.000004  \n",
       "6567     0.000252   14304     1116  0.093924   2  0.176091   0.000004  \n",
       "2126     0.000252   16437     1116  0.093924   2  0.176091   0.000004  \n",
       "\n",
       "[4000 rows x 15 columns]"
      ],
      "text/html": [
       "<div>\n",
       "<style scoped>\n",
       "    .dataframe tbody tr th:only-of-type {\n",
       "        vertical-align: middle;\n",
       "    }\n",
       "\n",
       "    .dataframe tbody tr th {\n",
       "        vertical-align: top;\n",
       "    }\n",
       "\n",
       "    .dataframe thead th {\n",
       "        text-align: right;\n",
       "    }\n",
       "</style>\n",
       "<table border=\"1\" class=\"dataframe\">\n",
       "  <thead>\n",
       "    <tr style=\"text-align: right;\">\n",
       "      <th></th>\n",
       "      <th>term_rank</th>\n",
       "      <th>term_str</th>\n",
       "      <th>n</th>\n",
       "      <th>num</th>\n",
       "      <th>stop</th>\n",
       "      <th>p_stem</th>\n",
       "      <th>pos_max</th>\n",
       "      <th>term_rank2</th>\n",
       "      <th>p</th>\n",
       "      <th>zipf_k</th>\n",
       "      <th>zipf_k2</th>\n",
       "      <th>zipf_k3</th>\n",
       "      <th>df</th>\n",
       "      <th>idf</th>\n",
       "      <th>tfidf_sum</th>\n",
       "    </tr>\n",
       "    <tr>\n",
       "      <th>term_id</th>\n",
       "      <th></th>\n",
       "      <th></th>\n",
       "      <th></th>\n",
       "      <th></th>\n",
       "      <th></th>\n",
       "      <th></th>\n",
       "      <th></th>\n",
       "      <th></th>\n",
       "      <th></th>\n",
       "      <th></th>\n",
       "      <th></th>\n",
       "      <th></th>\n",
       "      <th></th>\n",
       "      <th></th>\n",
       "      <th></th>\n",
       "    </tr>\n",
       "  </thead>\n",
       "  <tbody>\n",
       "    <tr>\n",
       "      <th>3976</th>\n",
       "      <td>67</td>\n",
       "      <td>fanny</td>\n",
       "      <td>816</td>\n",
       "      <td>0</td>\n",
       "      <td>0</td>\n",
       "      <td>fanni</td>\n",
       "      <td>NNP</td>\n",
       "      <td>67</td>\n",
       "      <td>0.068675</td>\n",
       "      <td>54672</td>\n",
       "      <td>54672</td>\n",
       "      <td>4.601246</td>\n",
       "      <td>1</td>\n",
       "      <td>0.477121</td>\n",
       "      <td>0.002436</td>\n",
       "    </tr>\n",
       "    <tr>\n",
       "      <th>3440</th>\n",
       "      <td>90</td>\n",
       "      <td>elizabeth</td>\n",
       "      <td>585</td>\n",
       "      <td>0</td>\n",
       "      <td>0</td>\n",
       "      <td>elizabeth</td>\n",
       "      <td>NNP</td>\n",
       "      <td>89</td>\n",
       "      <td>0.049234</td>\n",
       "      <td>52650</td>\n",
       "      <td>52065</td>\n",
       "      <td>4.381838</td>\n",
       "      <td>1</td>\n",
       "      <td>0.477121</td>\n",
       "      <td>0.002294</td>\n",
       "    </tr>\n",
       "    <tr>\n",
       "      <th>2402</th>\n",
       "      <td>102</td>\n",
       "      <td>crawford</td>\n",
       "      <td>493</td>\n",
       "      <td>0</td>\n",
       "      <td>0</td>\n",
       "      <td>crawford</td>\n",
       "      <td>NNP</td>\n",
       "      <td>101</td>\n",
       "      <td>0.041491</td>\n",
       "      <td>50286</td>\n",
       "      <td>49793</td>\n",
       "      <td>4.190624</td>\n",
       "      <td>1</td>\n",
       "      <td>0.477121</td>\n",
       "      <td>0.001472</td>\n",
       "    </tr>\n",
       "    <tr>\n",
       "      <th>2521</th>\n",
       "      <td>126</td>\n",
       "      <td>darcy</td>\n",
       "      <td>365</td>\n",
       "      <td>0</td>\n",
       "      <td>0</td>\n",
       "      <td>darci</td>\n",
       "      <td>NNP</td>\n",
       "      <td>123</td>\n",
       "      <td>0.030719</td>\n",
       "      <td>45990</td>\n",
       "      <td>44895</td>\n",
       "      <td>3.778404</td>\n",
       "      <td>1</td>\n",
       "      <td>0.477121</td>\n",
       "      <td>0.001431</td>\n",
       "    </tr>\n",
       "    <tr>\n",
       "      <th>10621</th>\n",
       "      <td>228</td>\n",
       "      <td>tilney</td>\n",
       "      <td>196</td>\n",
       "      <td>0</td>\n",
       "      <td>0</td>\n",
       "      <td>tilney</td>\n",
       "      <td>NNP</td>\n",
       "      <td>195</td>\n",
       "      <td>0.016496</td>\n",
       "      <td>44688</td>\n",
       "      <td>38220</td>\n",
       "      <td>3.216630</td>\n",
       "      <td>1</td>\n",
       "      <td>0.477121</td>\n",
       "      <td>0.001207</td>\n",
       "    </tr>\n",
       "    <tr>\n",
       "      <th>...</th>\n",
       "      <td>...</td>\n",
       "      <td>...</td>\n",
       "      <td>...</td>\n",
       "      <td>...</td>\n",
       "      <td>...</td>\n",
       "      <td>...</td>\n",
       "      <td>...</td>\n",
       "      <td>...</td>\n",
       "      <td>...</td>\n",
       "      <td>...</td>\n",
       "      <td>...</td>\n",
       "      <td>...</td>\n",
       "      <td>...</td>\n",
       "      <td>...</td>\n",
       "      <td>...</td>\n",
       "    </tr>\n",
       "    <tr>\n",
       "      <th>9075</th>\n",
       "      <td>4871</td>\n",
       "      <td>sakes</td>\n",
       "      <td>3</td>\n",
       "      <td>0</td>\n",
       "      <td>0</td>\n",
       "      <td>sake</td>\n",
       "      <td>NN</td>\n",
       "      <td>372</td>\n",
       "      <td>0.000252</td>\n",
       "      <td>14613</td>\n",
       "      <td>1116</td>\n",
       "      <td>0.093924</td>\n",
       "      <td>2</td>\n",
       "      <td>0.176091</td>\n",
       "      <td>0.000004</td>\n",
       "    </tr>\n",
       "    <tr>\n",
       "      <th>479</th>\n",
       "      <td>5517</td>\n",
       "      <td>anguish</td>\n",
       "      <td>3</td>\n",
       "      <td>0</td>\n",
       "      <td>0</td>\n",
       "      <td>anguish</td>\n",
       "      <td>JJ</td>\n",
       "      <td>372</td>\n",
       "      <td>0.000252</td>\n",
       "      <td>16551</td>\n",
       "      <td>1116</td>\n",
       "      <td>0.093924</td>\n",
       "      <td>2</td>\n",
       "      <td>0.176091</td>\n",
       "      <td>0.000004</td>\n",
       "    </tr>\n",
       "    <tr>\n",
       "      <th>6941</th>\n",
       "      <td>4772</td>\n",
       "      <td>neglecting</td>\n",
       "      <td>3</td>\n",
       "      <td>0</td>\n",
       "      <td>0</td>\n",
       "      <td>neglect</td>\n",
       "      <td>VBG</td>\n",
       "      <td>372</td>\n",
       "      <td>0.000252</td>\n",
       "      <td>14316</td>\n",
       "      <td>1116</td>\n",
       "      <td>0.093924</td>\n",
       "      <td>2</td>\n",
       "      <td>0.176091</td>\n",
       "      <td>0.000004</td>\n",
       "    </tr>\n",
       "    <tr>\n",
       "      <th>6567</th>\n",
       "      <td>4768</td>\n",
       "      <td>meets</td>\n",
       "      <td>3</td>\n",
       "      <td>0</td>\n",
       "      <td>0</td>\n",
       "      <td>meet</td>\n",
       "      <td>NNS</td>\n",
       "      <td>372</td>\n",
       "      <td>0.000252</td>\n",
       "      <td>14304</td>\n",
       "      <td>1116</td>\n",
       "      <td>0.093924</td>\n",
       "      <td>2</td>\n",
       "      <td>0.176091</td>\n",
       "      <td>0.000004</td>\n",
       "    </tr>\n",
       "    <tr>\n",
       "      <th>2126</th>\n",
       "      <td>5479</td>\n",
       "      <td>conquer</td>\n",
       "      <td>3</td>\n",
       "      <td>0</td>\n",
       "      <td>0</td>\n",
       "      <td>conquer</td>\n",
       "      <td>VB</td>\n",
       "      <td>372</td>\n",
       "      <td>0.000252</td>\n",
       "      <td>16437</td>\n",
       "      <td>1116</td>\n",
       "      <td>0.093924</td>\n",
       "      <td>2</td>\n",
       "      <td>0.176091</td>\n",
       "      <td>0.000004</td>\n",
       "    </tr>\n",
       "  </tbody>\n",
       "</table>\n",
       "<p>4000 rows × 15 columns</p>\n",
       "</div>"
      ]
     },
     "metadata": {},
     "execution_count": 72
    }
   ],
   "metadata": {}
  },
  {
   "cell_type": "code",
   "execution_count": 73,
   "source": [
    "terms = list(reduced_vocab.index)"
   ],
   "outputs": [],
   "metadata": {}
  },
  {
   "cell_type": "code",
   "execution_count": 74,
   "source": [
    "TFIDF = TFIDF.filter(terms)"
   ],
   "outputs": [],
   "metadata": {}
  },
  {
   "cell_type": "code",
   "execution_count": 75,
   "source": [
    "TFIDF"
   ],
   "outputs": [
    {
     "output_type": "execute_result",
     "data": {
      "text/plain": [
       "term_id                  3976      3440      2402      2521      10621  \\\n",
       "genre author book_id                                                     \n",
       "n     austen 121      0.000000  0.000000  0.000000  0.000000  0.001207   \n",
       "             141      0.002436  0.000000  0.001472  0.000000  0.000000   \n",
       "             42671    0.000000  0.002294  0.000000  0.001431  0.000000   \n",
       "\n",
       "term_id                  1043      1524     3385      5865      1104   ...  \\\n",
       "genre author book_id                                                   ...   \n",
       "n     austen 121      0.000000  0.000973  0.00000  0.000000  0.000000  ...   \n",
       "             141      0.000000  0.000000  0.00109  0.000000  0.000000  ...   \n",
       "             42671    0.001149  0.000159  0.00000  0.001012  0.000992  ...   \n",
       "\n",
       "term_id                  9195      7885      8350      8648      9632   \\\n",
       "genre author book_id                                                     \n",
       "n     austen 121      0.000000  0.000000  0.000000  0.000000  0.000000   \n",
       "             141      0.000001  0.000001  0.000001  0.000001  0.000001   \n",
       "             42671    0.000003  0.000003  0.000003  0.000003  0.000003   \n",
       "\n",
       "term_id                  9075      479       6941      6567      2126   \n",
       "genre author book_id                                                    \n",
       "n     austen 121      0.000000  0.000000  0.000000  0.000000  0.000000  \n",
       "             141      0.000001  0.000001  0.000001  0.000001  0.000001  \n",
       "             42671    0.000003  0.000003  0.000003  0.000003  0.000003  \n",
       "\n",
       "[3 rows x 4000 columns]"
      ],
      "text/html": [
       "<div>\n",
       "<style scoped>\n",
       "    .dataframe tbody tr th:only-of-type {\n",
       "        vertical-align: middle;\n",
       "    }\n",
       "\n",
       "    .dataframe tbody tr th {\n",
       "        vertical-align: top;\n",
       "    }\n",
       "\n",
       "    .dataframe thead th {\n",
       "        text-align: right;\n",
       "    }\n",
       "</style>\n",
       "<table border=\"1\" class=\"dataframe\">\n",
       "  <thead>\n",
       "    <tr style=\"text-align: right;\">\n",
       "      <th></th>\n",
       "      <th></th>\n",
       "      <th>term_id</th>\n",
       "      <th>3976</th>\n",
       "      <th>3440</th>\n",
       "      <th>2402</th>\n",
       "      <th>2521</th>\n",
       "      <th>10621</th>\n",
       "      <th>1043</th>\n",
       "      <th>1524</th>\n",
       "      <th>3385</th>\n",
       "      <th>5865</th>\n",
       "      <th>1104</th>\n",
       "      <th>...</th>\n",
       "      <th>9195</th>\n",
       "      <th>7885</th>\n",
       "      <th>8350</th>\n",
       "      <th>8648</th>\n",
       "      <th>9632</th>\n",
       "      <th>9075</th>\n",
       "      <th>479</th>\n",
       "      <th>6941</th>\n",
       "      <th>6567</th>\n",
       "      <th>2126</th>\n",
       "    </tr>\n",
       "    <tr>\n",
       "      <th>genre</th>\n",
       "      <th>author</th>\n",
       "      <th>book_id</th>\n",
       "      <th></th>\n",
       "      <th></th>\n",
       "      <th></th>\n",
       "      <th></th>\n",
       "      <th></th>\n",
       "      <th></th>\n",
       "      <th></th>\n",
       "      <th></th>\n",
       "      <th></th>\n",
       "      <th></th>\n",
       "      <th></th>\n",
       "      <th></th>\n",
       "      <th></th>\n",
       "      <th></th>\n",
       "      <th></th>\n",
       "      <th></th>\n",
       "      <th></th>\n",
       "      <th></th>\n",
       "      <th></th>\n",
       "      <th></th>\n",
       "      <th></th>\n",
       "    </tr>\n",
       "  </thead>\n",
       "  <tbody>\n",
       "    <tr>\n",
       "      <th rowspan=\"3\" valign=\"top\">n</th>\n",
       "      <th rowspan=\"3\" valign=\"top\">austen</th>\n",
       "      <th>121</th>\n",
       "      <td>0.000000</td>\n",
       "      <td>0.000000</td>\n",
       "      <td>0.000000</td>\n",
       "      <td>0.000000</td>\n",
       "      <td>0.001207</td>\n",
       "      <td>0.000000</td>\n",
       "      <td>0.000973</td>\n",
       "      <td>0.00000</td>\n",
       "      <td>0.000000</td>\n",
       "      <td>0.000000</td>\n",
       "      <td>...</td>\n",
       "      <td>0.000000</td>\n",
       "      <td>0.000000</td>\n",
       "      <td>0.000000</td>\n",
       "      <td>0.000000</td>\n",
       "      <td>0.000000</td>\n",
       "      <td>0.000000</td>\n",
       "      <td>0.000000</td>\n",
       "      <td>0.000000</td>\n",
       "      <td>0.000000</td>\n",
       "      <td>0.000000</td>\n",
       "    </tr>\n",
       "    <tr>\n",
       "      <th>141</th>\n",
       "      <td>0.002436</td>\n",
       "      <td>0.000000</td>\n",
       "      <td>0.001472</td>\n",
       "      <td>0.000000</td>\n",
       "      <td>0.000000</td>\n",
       "      <td>0.000000</td>\n",
       "      <td>0.000000</td>\n",
       "      <td>0.00109</td>\n",
       "      <td>0.000000</td>\n",
       "      <td>0.000000</td>\n",
       "      <td>...</td>\n",
       "      <td>0.000001</td>\n",
       "      <td>0.000001</td>\n",
       "      <td>0.000001</td>\n",
       "      <td>0.000001</td>\n",
       "      <td>0.000001</td>\n",
       "      <td>0.000001</td>\n",
       "      <td>0.000001</td>\n",
       "      <td>0.000001</td>\n",
       "      <td>0.000001</td>\n",
       "      <td>0.000001</td>\n",
       "    </tr>\n",
       "    <tr>\n",
       "      <th>42671</th>\n",
       "      <td>0.000000</td>\n",
       "      <td>0.002294</td>\n",
       "      <td>0.000000</td>\n",
       "      <td>0.001431</td>\n",
       "      <td>0.000000</td>\n",
       "      <td>0.001149</td>\n",
       "      <td>0.000159</td>\n",
       "      <td>0.00000</td>\n",
       "      <td>0.001012</td>\n",
       "      <td>0.000992</td>\n",
       "      <td>...</td>\n",
       "      <td>0.000003</td>\n",
       "      <td>0.000003</td>\n",
       "      <td>0.000003</td>\n",
       "      <td>0.000003</td>\n",
       "      <td>0.000003</td>\n",
       "      <td>0.000003</td>\n",
       "      <td>0.000003</td>\n",
       "      <td>0.000003</td>\n",
       "      <td>0.000003</td>\n",
       "      <td>0.000003</td>\n",
       "    </tr>\n",
       "  </tbody>\n",
       "</table>\n",
       "<p>3 rows × 4000 columns</p>\n",
       "</div>"
      ]
     },
     "metadata": {},
     "execution_count": 75
    }
   ],
   "metadata": {}
  },
  {
   "cell_type": "code",
   "execution_count": 76,
   "source": [
    "%time COV = TFIDF.T.dot(TFIDF) / (TFIDF.shape[0] - 1)"
   ],
   "outputs": [
    {
     "output_type": "stream",
     "name": "stdout",
     "text": [
      "Wall time: 237 ms\n"
     ]
    }
   ],
   "metadata": {}
  },
  {
   "cell_type": "code",
   "execution_count": 77,
   "source": [
    "from scipy.linalg import eigh"
   ],
   "outputs": [],
   "metadata": {}
  },
  {
   "cell_type": "code",
   "execution_count": 78,
   "source": [
    "%time eig_vals, eig_vecs = eigh(COV)"
   ],
   "outputs": [
    {
     "output_type": "stream",
     "name": "stdout",
     "text": [
      "Wall time: 12.6 s\n"
     ]
    }
   ],
   "metadata": {}
  },
  {
   "cell_type": "code",
   "execution_count": 79,
   "source": [
    "TERM_IDX = COV.index"
   ],
   "outputs": [],
   "metadata": {}
  },
  {
   "cell_type": "code",
   "execution_count": 80,
   "source": [
    "EIG_VEC = pd.DataFrame(eig_vecs, index=TERM_IDX, columns=TERM_IDX)"
   ],
   "outputs": [],
   "metadata": {}
  },
  {
   "cell_type": "code",
   "execution_count": 81,
   "source": [
    "EIG_VAL = pd.DataFrame(eig_vals, index=TERM_IDX, columns=['eig_val'])\r\n",
    "EIG_VAL.index.name = 'term_id'"
   ],
   "outputs": [],
   "metadata": {}
  },
  {
   "cell_type": "code",
   "execution_count": 82,
   "source": [
    "EIG_VEC.iloc[:5, :10].style.background_gradient()"
   ],
   "outputs": [
    {
     "output_type": "execute_result",
     "data": {
      "text/plain": [
       "<pandas.io.formats.style.Styler at 0x22000ddef40>"
      ],
      "text/html": [
       "<style  type=\"text/css\" >\n",
       "#T_c9eda_row0_col0,#T_c9eda_row4_col9{\n",
       "            background-color:  #69a5cc;\n",
       "            color:  #000000;\n",
       "        }#T_c9eda_row0_col1{\n",
       "            background-color:  #167bb6;\n",
       "            color:  #000000;\n",
       "        }#T_c9eda_row0_col2{\n",
       "            background-color:  #94b6d7;\n",
       "            color:  #000000;\n",
       "        }#T_c9eda_row0_col3{\n",
       "            background-color:  #308cbe;\n",
       "            color:  #000000;\n",
       "        }#T_c9eda_row0_col4{\n",
       "            background-color:  #acc0dd;\n",
       "            color:  #000000;\n",
       "        }#T_c9eda_row0_col5{\n",
       "            background-color:  #60a1ca;\n",
       "            color:  #000000;\n",
       "        }#T_c9eda_row0_col6{\n",
       "            background-color:  #0567a1;\n",
       "            color:  #f1f1f1;\n",
       "        }#T_c9eda_row0_col7,#T_c9eda_row0_col9,#T_c9eda_row1_col0,#T_c9eda_row2_col1,#T_c9eda_row2_col3,#T_c9eda_row3_col2,#T_c9eda_row3_col5,#T_c9eda_row3_col6,#T_c9eda_row3_col8,#T_c9eda_row4_col4{\n",
       "            background-color:  #023858;\n",
       "            color:  #f1f1f1;\n",
       "        }#T_c9eda_row0_col8{\n",
       "            background-color:  #e3e0ee;\n",
       "            color:  #000000;\n",
       "        }#T_c9eda_row1_col1{\n",
       "            background-color:  #056faf;\n",
       "            color:  #f1f1f1;\n",
       "        }#T_c9eda_row1_col2{\n",
       "            background-color:  #91b5d6;\n",
       "            color:  #000000;\n",
       "        }#T_c9eda_row1_col3{\n",
       "            background-color:  #62a2cb;\n",
       "            color:  #000000;\n",
       "        }#T_c9eda_row1_col4{\n",
       "            background-color:  #8cb3d5;\n",
       "            color:  #000000;\n",
       "        }#T_c9eda_row1_col5{\n",
       "            background-color:  #05659f;\n",
       "            color:  #f1f1f1;\n",
       "        }#T_c9eda_row1_col6{\n",
       "            background-color:  #93b5d6;\n",
       "            color:  #000000;\n",
       "        }#T_c9eda_row1_col7{\n",
       "            background-color:  #046097;\n",
       "            color:  #f1f1f1;\n",
       "        }#T_c9eda_row1_col8{\n",
       "            background-color:  #ced0e6;\n",
       "            color:  #000000;\n",
       "        }#T_c9eda_row1_col9{\n",
       "            background-color:  #056caa;\n",
       "            color:  #f1f1f1;\n",
       "        }#T_c9eda_row2_col0{\n",
       "            background-color:  #eee9f3;\n",
       "            color:  #000000;\n",
       "        }#T_c9eda_row2_col2,#T_c9eda_row2_col4,#T_c9eda_row2_col9,#T_c9eda_row3_col0,#T_c9eda_row3_col1,#T_c9eda_row3_col7,#T_c9eda_row4_col3,#T_c9eda_row4_col5,#T_c9eda_row4_col6,#T_c9eda_row4_col8{\n",
       "            background-color:  #fff7fb;\n",
       "            color:  #000000;\n",
       "        }#T_c9eda_row2_col5{\n",
       "            background-color:  #045b8f;\n",
       "            color:  #f1f1f1;\n",
       "        }#T_c9eda_row2_col6{\n",
       "            background-color:  #056aa6;\n",
       "            color:  #f1f1f1;\n",
       "        }#T_c9eda_row2_col7{\n",
       "            background-color:  #045687;\n",
       "            color:  #f1f1f1;\n",
       "        }#T_c9eda_row2_col8{\n",
       "            background-color:  #97b7d7;\n",
       "            color:  #000000;\n",
       "        }#T_c9eda_row3_col3{\n",
       "            background-color:  #71a8ce;\n",
       "            color:  #000000;\n",
       "        }#T_c9eda_row3_col4{\n",
       "            background-color:  #c9cee4;\n",
       "            color:  #000000;\n",
       "        }#T_c9eda_row3_col9{\n",
       "            background-color:  #d7d6e9;\n",
       "            color:  #000000;\n",
       "        }#T_c9eda_row4_col0{\n",
       "            background-color:  #e2dfee;\n",
       "            color:  #000000;\n",
       "        }#T_c9eda_row4_col1{\n",
       "            background-color:  #023a5b;\n",
       "            color:  #f1f1f1;\n",
       "        }#T_c9eda_row4_col2{\n",
       "            background-color:  #e6e2ef;\n",
       "            color:  #000000;\n",
       "        }#T_c9eda_row4_col7{\n",
       "            background-color:  #0570b0;\n",
       "            color:  #f1f1f1;\n",
       "        }</style><table id=\"T_c9eda_\" ><thead>    <tr>        <th class=\"index_name level0\" >term_id</th>        <th class=\"col_heading level0 col0\" >3976</th>        <th class=\"col_heading level0 col1\" >3440</th>        <th class=\"col_heading level0 col2\" >2402</th>        <th class=\"col_heading level0 col3\" >2521</th>        <th class=\"col_heading level0 col4\" >10621</th>        <th class=\"col_heading level0 col5\" >1043</th>        <th class=\"col_heading level0 col6\" >1524</th>        <th class=\"col_heading level0 col7\" >3385</th>        <th class=\"col_heading level0 col8\" >5865</th>        <th class=\"col_heading level0 col9\" >1104</th>    </tr>    <tr>        <th class=\"index_name level0\" >term_id</th>        <th class=\"blank\" ></th>        <th class=\"blank\" ></th>        <th class=\"blank\" ></th>        <th class=\"blank\" ></th>        <th class=\"blank\" ></th>        <th class=\"blank\" ></th>        <th class=\"blank\" ></th>        <th class=\"blank\" ></th>        <th class=\"blank\" ></th>        <th class=\"blank\" ></th>    </tr></thead><tbody>\n",
       "                <tr>\n",
       "                        <th id=\"T_c9eda_level0_row0\" class=\"row_heading level0 row0\" >3976</th>\n",
       "                        <td id=\"T_c9eda_row0_col0\" class=\"data row0 col0\" >0.132556</td>\n",
       "                        <td id=\"T_c9eda_row0_col1\" class=\"data row0 col1\" >0.001339</td>\n",
       "                        <td id=\"T_c9eda_row0_col2\" class=\"data row0 col2\" >-0.007856</td>\n",
       "                        <td id=\"T_c9eda_row0_col3\" class=\"data row0 col3\" >-0.073996</td>\n",
       "                        <td id=\"T_c9eda_row0_col4\" class=\"data row0 col4\" >0.064095</td>\n",
       "                        <td id=\"T_c9eda_row0_col5\" class=\"data row0 col5\" >0.000000</td>\n",
       "                        <td id=\"T_c9eda_row0_col6\" class=\"data row0 col6\" >-0.062267</td>\n",
       "                        <td id=\"T_c9eda_row0_col7\" class=\"data row0 col7\" >0.000000</td>\n",
       "                        <td id=\"T_c9eda_row0_col8\" class=\"data row0 col8\" >0.000000</td>\n",
       "                        <td id=\"T_c9eda_row0_col9\" class=\"data row0 col9\" >0.000000</td>\n",
       "            </tr>\n",
       "            <tr>\n",
       "                        <th id=\"T_c9eda_level0_row1\" class=\"row_heading level0 row1\" >3440</th>\n",
       "                        <td id=\"T_c9eda_row1_col0\" class=\"data row1 col0\" >0.656079</td>\n",
       "                        <td id=\"T_c9eda_row1_col1\" class=\"data row1 col1\" >0.046403</td>\n",
       "                        <td id=\"T_c9eda_row1_col2\" class=\"data row1 col2\" >-0.004158</td>\n",
       "                        <td id=\"T_c9eda_row1_col3\" class=\"data row1 col3\" >-0.145473</td>\n",
       "                        <td id=\"T_c9eda_row1_col4\" class=\"data row1 col4\" >0.097693</td>\n",
       "                        <td id=\"T_c9eda_row1_col5\" class=\"data row1 col5\" >0.016783</td>\n",
       "                        <td id=\"T_c9eda_row1_col6\" class=\"data row1 col6\" >-0.174089</td>\n",
       "                        <td id=\"T_c9eda_row1_col7\" class=\"data row1 col7\" >-0.011770</td>\n",
       "                        <td id=\"T_c9eda_row1_col8\" class=\"data row1 col8\" >0.003858</td>\n",
       "                        <td id=\"T_c9eda_row1_col9\" class=\"data row1 col9\" >-0.006503</td>\n",
       "            </tr>\n",
       "            <tr>\n",
       "                        <th id=\"T_c9eda_level0_row2\" class=\"row_heading level0 row2\" >2402</th>\n",
       "                        <td id=\"T_c9eda_row2_col0\" class=\"data row2 col0\" >-0.318744</td>\n",
       "                        <td id=\"T_c9eda_row2_col1\" class=\"data row2 col1\" >0.278533</td>\n",
       "                        <td id=\"T_c9eda_row2_col2\" class=\"data row2 col2\" >-0.149168</td>\n",
       "                        <td id=\"T_c9eda_row2_col3\" class=\"data row2 col3\" >0.178420</td>\n",
       "                        <td id=\"T_c9eda_row2_col4\" class=\"data row2 col4\" >-0.088323</td>\n",
       "                        <td id=\"T_c9eda_row2_col5\" class=\"data row2 col5\" >0.020042</td>\n",
       "                        <td id=\"T_c9eda_row2_col6\" class=\"data row2 col6\" >-0.068123</td>\n",
       "                        <td id=\"T_c9eda_row2_col7\" class=\"data row2 col7\" >-0.008151</td>\n",
       "                        <td id=\"T_c9eda_row2_col8\" class=\"data row2 col8\" >0.010626</td>\n",
       "                        <td id=\"T_c9eda_row2_col9\" class=\"data row2 col9\" >-0.028447</td>\n",
       "            </tr>\n",
       "            <tr>\n",
       "                        <th id=\"T_c9eda_level0_row3\" class=\"row_heading level0 row3\" >2521</th>\n",
       "                        <td id=\"T_c9eda_row3_col0\" class=\"data row3 col0\" >-0.442145</td>\n",
       "                        <td id=\"T_c9eda_row3_col1\" class=\"data row3 col1\" >-0.656951</td>\n",
       "                        <td id=\"T_c9eda_row3_col2\" class=\"data row3 col2\" >0.188670</td>\n",
       "                        <td id=\"T_c9eda_row3_col3\" class=\"data row3 col3\" >-0.166639</td>\n",
       "                        <td id=\"T_c9eda_row3_col4\" class=\"data row3 col4\" >0.027490</td>\n",
       "                        <td id=\"T_c9eda_row3_col5\" class=\"data row3 col5\" >0.028434</td>\n",
       "                        <td id=\"T_c9eda_row3_col6\" class=\"data row3 col6\" >-0.004673</td>\n",
       "                        <td id=\"T_c9eda_row3_col7\" class=\"data row3 col7\" >-0.072723</td>\n",
       "                        <td id=\"T_c9eda_row3_col8\" class=\"data row3 col8\" >0.036080</td>\n",
       "                        <td id=\"T_c9eda_row3_col9\" class=\"data row3 col9\" >-0.022170</td>\n",
       "            </tr>\n",
       "            <tr>\n",
       "                        <th id=\"T_c9eda_level0_row4\" class=\"row_heading level0 row4\" >10621</th>\n",
       "                        <td id=\"T_c9eda_row4_col0\" class=\"data row4 col0\" >-0.255480</td>\n",
       "                        <td id=\"T_c9eda_row4_col1\" class=\"data row4 col1\" >0.271112</td>\n",
       "                        <td id=\"T_c9eda_row4_col2\" class=\"data row4 col2\" >-0.097549</td>\n",
       "                        <td id=\"T_c9eda_row4_col3\" class=\"data row4 col3\" >-0.518490</td>\n",
       "                        <td id=\"T_c9eda_row4_col4\" class=\"data row4 col4\" >0.336116</td>\n",
       "                        <td id=\"T_c9eda_row4_col5\" class=\"data row4 col5\" >-0.033607</td>\n",
       "                        <td id=\"T_c9eda_row4_col6\" class=\"data row4 col6\" >-0.298082</td>\n",
       "                        <td id=\"T_c9eda_row4_col7\" class=\"data row4 col7\" >-0.018418</td>\n",
       "                        <td id=\"T_c9eda_row4_col8\" class=\"data row4 col8\" >-0.007268</td>\n",
       "                        <td id=\"T_c9eda_row4_col9\" class=\"data row4 col9\" >-0.013608</td>\n",
       "            </tr>\n",
       "    </tbody></table>"
      ]
     },
     "metadata": {},
     "execution_count": 82
    }
   ],
   "metadata": {}
  },
  {
   "cell_type": "code",
   "execution_count": 83,
   "source": [
    "EIG_VAL.iloc[:10]"
   ],
   "outputs": [
    {
     "output_type": "execute_result",
     "data": {
      "text/plain": [
       "              eig_val\n",
       "term_id              \n",
       "3976    -2.442885e-20\n",
       "3440    -1.315321e-20\n",
       "2402    -9.626446e-21\n",
       "2521    -5.354483e-21\n",
       "10621   -4.125127e-21\n",
       "1043    -3.493067e-21\n",
       "1524    -2.963861e-21\n",
       "3385    -1.245045e-21\n",
       "5865    -3.954508e-22\n",
       "1104    -3.420762e-22"
      ],
      "text/html": [
       "<div>\n",
       "<style scoped>\n",
       "    .dataframe tbody tr th:only-of-type {\n",
       "        vertical-align: middle;\n",
       "    }\n",
       "\n",
       "    .dataframe tbody tr th {\n",
       "        vertical-align: top;\n",
       "    }\n",
       "\n",
       "    .dataframe thead th {\n",
       "        text-align: right;\n",
       "    }\n",
       "</style>\n",
       "<table border=\"1\" class=\"dataframe\">\n",
       "  <thead>\n",
       "    <tr style=\"text-align: right;\">\n",
       "      <th></th>\n",
       "      <th>eig_val</th>\n",
       "    </tr>\n",
       "    <tr>\n",
       "      <th>term_id</th>\n",
       "      <th></th>\n",
       "    </tr>\n",
       "  </thead>\n",
       "  <tbody>\n",
       "    <tr>\n",
       "      <th>3976</th>\n",
       "      <td>-2.442885e-20</td>\n",
       "    </tr>\n",
       "    <tr>\n",
       "      <th>3440</th>\n",
       "      <td>-1.315321e-20</td>\n",
       "    </tr>\n",
       "    <tr>\n",
       "      <th>2402</th>\n",
       "      <td>-9.626446e-21</td>\n",
       "    </tr>\n",
       "    <tr>\n",
       "      <th>2521</th>\n",
       "      <td>-5.354483e-21</td>\n",
       "    </tr>\n",
       "    <tr>\n",
       "      <th>10621</th>\n",
       "      <td>-4.125127e-21</td>\n",
       "    </tr>\n",
       "    <tr>\n",
       "      <th>1043</th>\n",
       "      <td>-3.493067e-21</td>\n",
       "    </tr>\n",
       "    <tr>\n",
       "      <th>1524</th>\n",
       "      <td>-2.963861e-21</td>\n",
       "    </tr>\n",
       "    <tr>\n",
       "      <th>3385</th>\n",
       "      <td>-1.245045e-21</td>\n",
       "    </tr>\n",
       "    <tr>\n",
       "      <th>5865</th>\n",
       "      <td>-3.954508e-22</td>\n",
       "    </tr>\n",
       "    <tr>\n",
       "      <th>1104</th>\n",
       "      <td>-3.420762e-22</td>\n",
       "    </tr>\n",
       "  </tbody>\n",
       "</table>\n",
       "</div>"
      ]
     },
     "metadata": {},
     "execution_count": 83
    }
   ],
   "metadata": {}
  },
  {
   "cell_type": "code",
   "execution_count": 84,
   "source": [
    "EIG_PAIRS = EIG_VAL.join(EIG_VEC.T)\r\n",
    "\r\n",
    "EIG_PAIRS['exp_var'] = np.round((EIG_PAIRS.eig_val / EIG_PAIRS.eig_val.sum()) * 100, 2)"
   ],
   "outputs": [],
   "metadata": {}
  },
  {
   "cell_type": "code",
   "execution_count": 85,
   "source": [
    "EIG_PAIRS.exp_var.sort_values(ascending=False).head().plot.bar(rot=45)"
   ],
   "outputs": [
    {
     "output_type": "execute_result",
     "data": {
      "text/plain": [
       "<AxesSubplot:xlabel='term_id'>"
      ]
     },
     "metadata": {},
     "execution_count": 85
    },
    {
     "output_type": "display_data",
     "data": {
      "text/plain": [
       "<Figure size 432x288 with 1 Axes>"
      ],
      "image/svg+xml": "<?xml version=\"1.0\" encoding=\"utf-8\" standalone=\"no\"?>\r\n<!DOCTYPE svg PUBLIC \"-//W3C//DTD SVG 1.1//EN\"\r\n  \"http://www.w3.org/Graphics/SVG/1.1/DTD/svg11.dtd\">\r\n<svg height=\"280.729336pt\" version=\"1.1\" viewBox=\"0 0 370.934062 280.729336\" width=\"370.934062pt\" xmlns=\"http://www.w3.org/2000/svg\" xmlns:xlink=\"http://www.w3.org/1999/xlink\">\r\n <metadata>\r\n  <rdf:RDF xmlns:cc=\"http://creativecommons.org/ns#\" xmlns:dc=\"http://purl.org/dc/elements/1.1/\" xmlns:rdf=\"http://www.w3.org/1999/02/22-rdf-syntax-ns#\">\r\n   <cc:Work>\r\n    <dc:type rdf:resource=\"http://purl.org/dc/dcmitype/StillImage\"/>\r\n    <dc:date>2021-08-14T13:12:21.785728</dc:date>\r\n    <dc:format>image/svg+xml</dc:format>\r\n    <dc:creator>\r\n     <cc:Agent>\r\n      <dc:title>Matplotlib v3.4.2, https://matplotlib.org/</dc:title>\r\n     </cc:Agent>\r\n    </dc:creator>\r\n   </cc:Work>\r\n  </rdf:RDF>\r\n </metadata>\r\n <defs>\r\n  <style type=\"text/css\">*{stroke-linecap:butt;stroke-linejoin:round;}</style>\r\n </defs>\r\n <g id=\"figure_1\">\r\n  <g id=\"patch_1\">\r\n   <path d=\"M 0 280.729336 \r\nL 370.934062 280.729336 \r\nL 370.934062 0 \r\nL 0 0 \r\nz\r\n\" style=\"fill:none;\"/>\r\n  </g>\r\n  <g id=\"axes_1\">\r\n   <g id=\"patch_2\">\r\n    <path d=\"M 28.934062 224.64 \r\nL 363.734062 224.64 \r\nL 363.734062 7.2 \r\nL 28.934062 7.2 \r\nz\r\n\" style=\"fill:#ffffff;\"/>\r\n   </g>\r\n   <g id=\"matplotlib.axis_1\">\r\n    <g id=\"xtick_1\">\r\n     <g id=\"line2d_1\">\r\n      <defs>\r\n       <path d=\"M 0 0 \r\nL 0 6 \r\n\" id=\"mb7f17ea33e\" style=\"stroke:#262626;stroke-width:1.25;\"/>\r\n      </defs>\r\n      <g>\r\n       <use style=\"fill:#262626;stroke:#262626;stroke-width:1.25;\" x=\"62.414062\" xlink:href=\"#mb7f17ea33e\" y=\"224.64\"/>\r\n      </g>\r\n     </g>\r\n     <g id=\"text_1\">\r\n      <!-- 2126 -->\r\n      <g style=\"fill:#262626;\" transform=\"translate(55.774054 257.009049)rotate(-45)scale(0.11 -0.11)\">\r\n       <defs>\r\n        <path d=\"M 3222 541 \r\nL 3222 0 \r\nL 194 0 \r\nQ 188 203 259 391 \r\nQ 375 700 629 1000 \r\nQ 884 1300 1366 1694 \r\nQ 2113 2306 2375 2664 \r\nQ 2638 3022 2638 3341 \r\nQ 2638 3675 2398 3904 \r\nQ 2159 4134 1775 4134 \r\nQ 1369 4134 1125 3890 \r\nQ 881 3647 878 3216 \r\nL 300 3275 \r\nQ 359 3922 746 4261 \r\nQ 1134 4600 1788 4600 \r\nQ 2447 4600 2831 4234 \r\nQ 3216 3869 3216 3328 \r\nQ 3216 3053 3103 2787 \r\nQ 2991 2522 2730 2228 \r\nQ 2469 1934 1863 1422 \r\nQ 1356 997 1212 845 \r\nQ 1069 694 975 541 \r\nL 3222 541 \r\nz\r\n\" id=\"ArialMT-32\" transform=\"scale(0.015625)\"/>\r\n        <path d=\"M 2384 0 \r\nL 1822 0 \r\nL 1822 3584 \r\nQ 1619 3391 1289 3197 \r\nQ 959 3003 697 2906 \r\nL 697 3450 \r\nQ 1169 3672 1522 3987 \r\nQ 1875 4303 2022 4600 \r\nL 2384 4600 \r\nL 2384 0 \r\nz\r\n\" id=\"ArialMT-31\" transform=\"scale(0.015625)\"/>\r\n        <path d=\"M 3184 3459 \r\nL 2625 3416 \r\nQ 2550 3747 2413 3897 \r\nQ 2184 4138 1850 4138 \r\nQ 1581 4138 1378 3988 \r\nQ 1113 3794 959 3422 \r\nQ 806 3050 800 2363 \r\nQ 1003 2672 1297 2822 \r\nQ 1591 2972 1913 2972 \r\nQ 2475 2972 2870 2558 \r\nQ 3266 2144 3266 1488 \r\nQ 3266 1056 3080 686 \r\nQ 2894 316 2569 119 \r\nQ 2244 -78 1831 -78 \r\nQ 1128 -78 684 439 \r\nQ 241 956 241 2144 \r\nQ 241 3472 731 4075 \r\nQ 1159 4600 1884 4600 \r\nQ 2425 4600 2770 4297 \r\nQ 3116 3994 3184 3459 \r\nz\r\nM 888 1484 \r\nQ 888 1194 1011 928 \r\nQ 1134 663 1356 523 \r\nQ 1578 384 1822 384 \r\nQ 2178 384 2434 671 \r\nQ 2691 959 2691 1453 \r\nQ 2691 1928 2437 2201 \r\nQ 2184 2475 1800 2475 \r\nQ 1419 2475 1153 2201 \r\nQ 888 1928 888 1484 \r\nz\r\n\" id=\"ArialMT-36\" transform=\"scale(0.015625)\"/>\r\n       </defs>\r\n       <use xlink:href=\"#ArialMT-32\"/>\r\n       <use x=\"55.615234\" xlink:href=\"#ArialMT-31\"/>\r\n       <use x=\"111.230469\" xlink:href=\"#ArialMT-32\"/>\r\n       <use x=\"166.845703\" xlink:href=\"#ArialMT-36\"/>\r\n      </g>\r\n     </g>\r\n    </g>\r\n    <g id=\"xtick_2\">\r\n     <g id=\"line2d_2\">\r\n      <g>\r\n       <use style=\"fill:#262626;stroke:#262626;stroke-width:1.25;\" x=\"129.374063\" xlink:href=\"#mb7f17ea33e\" y=\"224.64\"/>\r\n      </g>\r\n     </g>\r\n     <g id=\"text_2\">\r\n      <!-- 6567 -->\r\n      <g style=\"fill:#262626;\" transform=\"translate(122.734054 257.009049)rotate(-45)scale(0.11 -0.11)\">\r\n       <defs>\r\n        <path d=\"M 266 1200 \r\nL 856 1250 \r\nQ 922 819 1161 601 \r\nQ 1400 384 1738 384 \r\nQ 2144 384 2425 690 \r\nQ 2706 997 2706 1503 \r\nQ 2706 1984 2436 2262 \r\nQ 2166 2541 1728 2541 \r\nQ 1456 2541 1237 2417 \r\nQ 1019 2294 894 2097 \r\nL 366 2166 \r\nL 809 4519 \r\nL 3088 4519 \r\nL 3088 3981 \r\nL 1259 3981 \r\nL 1013 2750 \r\nQ 1425 3038 1878 3038 \r\nQ 2478 3038 2890 2622 \r\nQ 3303 2206 3303 1553 \r\nQ 3303 931 2941 478 \r\nQ 2500 -78 1738 -78 \r\nQ 1113 -78 717 272 \r\nQ 322 622 266 1200 \r\nz\r\n\" id=\"ArialMT-35\" transform=\"scale(0.015625)\"/>\r\n        <path d=\"M 303 3981 \r\nL 303 4522 \r\nL 3269 4522 \r\nL 3269 4084 \r\nQ 2831 3619 2401 2847 \r\nQ 1972 2075 1738 1259 \r\nQ 1569 684 1522 0 \r\nL 944 0 \r\nQ 953 541 1156 1306 \r\nQ 1359 2072 1739 2783 \r\nQ 2119 3494 2547 3981 \r\nL 303 3981 \r\nz\r\n\" id=\"ArialMT-37\" transform=\"scale(0.015625)\"/>\r\n       </defs>\r\n       <use xlink:href=\"#ArialMT-36\"/>\r\n       <use x=\"55.615234\" xlink:href=\"#ArialMT-35\"/>\r\n       <use x=\"111.230469\" xlink:href=\"#ArialMT-36\"/>\r\n       <use x=\"166.845703\" xlink:href=\"#ArialMT-37\"/>\r\n      </g>\r\n     </g>\r\n    </g>\r\n    <g id=\"xtick_3\">\r\n     <g id=\"line2d_3\">\r\n      <g>\r\n       <use style=\"fill:#262626;stroke:#262626;stroke-width:1.25;\" x=\"196.334063\" xlink:href=\"#mb7f17ea33e\" y=\"224.64\"/>\r\n      </g>\r\n     </g>\r\n     <g id=\"text_3\">\r\n      <!-- 6941 -->\r\n      <g style=\"fill:#262626;\" transform=\"translate(189.694054 257.009049)rotate(-45)scale(0.11 -0.11)\">\r\n       <defs>\r\n        <path d=\"M 350 1059 \r\nL 891 1109 \r\nQ 959 728 1153 556 \r\nQ 1347 384 1650 384 \r\nQ 1909 384 2104 503 \r\nQ 2300 622 2425 820 \r\nQ 2550 1019 2634 1356 \r\nQ 2719 1694 2719 2044 \r\nQ 2719 2081 2716 2156 \r\nQ 2547 1888 2255 1720 \r\nQ 1963 1553 1622 1553 \r\nQ 1053 1553 659 1965 \r\nQ 266 2378 266 3053 \r\nQ 266 3750 677 4175 \r\nQ 1088 4600 1706 4600 \r\nQ 2153 4600 2523 4359 \r\nQ 2894 4119 3086 3673 \r\nQ 3278 3228 3278 2384 \r\nQ 3278 1506 3087 986 \r\nQ 2897 466 2520 194 \r\nQ 2144 -78 1638 -78 \r\nQ 1100 -78 759 220 \r\nQ 419 519 350 1059 \r\nz\r\nM 2653 3081 \r\nQ 2653 3566 2395 3850 \r\nQ 2138 4134 1775 4134 \r\nQ 1400 4134 1122 3828 \r\nQ 844 3522 844 3034 \r\nQ 844 2597 1108 2323 \r\nQ 1372 2050 1759 2050 \r\nQ 2150 2050 2401 2323 \r\nQ 2653 2597 2653 3081 \r\nz\r\n\" id=\"ArialMT-39\" transform=\"scale(0.015625)\"/>\r\n        <path d=\"M 2069 0 \r\nL 2069 1097 \r\nL 81 1097 \r\nL 81 1613 \r\nL 2172 4581 \r\nL 2631 4581 \r\nL 2631 1613 \r\nL 3250 1613 \r\nL 3250 1097 \r\nL 2631 1097 \r\nL 2631 0 \r\nL 2069 0 \r\nz\r\nM 2069 1613 \r\nL 2069 3678 \r\nL 634 1613 \r\nL 2069 1613 \r\nz\r\n\" id=\"ArialMT-34\" transform=\"scale(0.015625)\"/>\r\n       </defs>\r\n       <use xlink:href=\"#ArialMT-36\"/>\r\n       <use x=\"55.615234\" xlink:href=\"#ArialMT-39\"/>\r\n       <use x=\"111.230469\" xlink:href=\"#ArialMT-34\"/>\r\n       <use x=\"166.845703\" xlink:href=\"#ArialMT-31\"/>\r\n      </g>\r\n     </g>\r\n    </g>\r\n    <g id=\"xtick_4\">\r\n     <g id=\"line2d_4\">\r\n      <g>\r\n       <use style=\"fill:#262626;stroke:#262626;stroke-width:1.25;\" x=\"263.294062\" xlink:href=\"#mb7f17ea33e\" y=\"224.64\"/>\r\n      </g>\r\n     </g>\r\n     <g id=\"text_4\">\r\n      <!-- 4143 -->\r\n      <g style=\"fill:#262626;\" transform=\"translate(256.654054 257.009049)rotate(-45)scale(0.11 -0.11)\">\r\n       <defs>\r\n        <path d=\"M 269 1209 \r\nL 831 1284 \r\nQ 928 806 1161 595 \r\nQ 1394 384 1728 384 \r\nQ 2125 384 2398 659 \r\nQ 2672 934 2672 1341 \r\nQ 2672 1728 2419 1979 \r\nQ 2166 2231 1775 2231 \r\nQ 1616 2231 1378 2169 \r\nL 1441 2663 \r\nQ 1497 2656 1531 2656 \r\nQ 1891 2656 2178 2843 \r\nQ 2466 3031 2466 3422 \r\nQ 2466 3731 2256 3934 \r\nQ 2047 4138 1716 4138 \r\nQ 1388 4138 1169 3931 \r\nQ 950 3725 888 3313 \r\nL 325 3413 \r\nQ 428 3978 793 4289 \r\nQ 1159 4600 1703 4600 \r\nQ 2078 4600 2393 4439 \r\nQ 2709 4278 2876 4000 \r\nQ 3044 3722 3044 3409 \r\nQ 3044 3113 2884 2869 \r\nQ 2725 2625 2413 2481 \r\nQ 2819 2388 3044 2092 \r\nQ 3269 1797 3269 1353 \r\nQ 3269 753 2831 336 \r\nQ 2394 -81 1725 -81 \r\nQ 1122 -81 723 278 \r\nQ 325 638 269 1209 \r\nz\r\n\" id=\"ArialMT-33\" transform=\"scale(0.015625)\"/>\r\n       </defs>\r\n       <use xlink:href=\"#ArialMT-34\"/>\r\n       <use x=\"55.615234\" xlink:href=\"#ArialMT-31\"/>\r\n       <use x=\"111.230469\" xlink:href=\"#ArialMT-34\"/>\r\n       <use x=\"166.845703\" xlink:href=\"#ArialMT-33\"/>\r\n      </g>\r\n     </g>\r\n    </g>\r\n    <g id=\"xtick_5\">\r\n     <g id=\"line2d_5\">\r\n      <g>\r\n       <use style=\"fill:#262626;stroke:#262626;stroke-width:1.25;\" x=\"330.254063\" xlink:href=\"#mb7f17ea33e\" y=\"224.64\"/>\r\n      </g>\r\n     </g>\r\n     <g id=\"text_5\">\r\n      <!-- 4155 -->\r\n      <g style=\"fill:#262626;\" transform=\"translate(323.614054 257.009049)rotate(-45)scale(0.11 -0.11)\">\r\n       <use xlink:href=\"#ArialMT-34\"/>\r\n       <use x=\"55.615234\" xlink:href=\"#ArialMT-31\"/>\r\n       <use x=\"111.230469\" xlink:href=\"#ArialMT-35\"/>\r\n       <use x=\"166.845703\" xlink:href=\"#ArialMT-35\"/>\r\n      </g>\r\n     </g>\r\n    </g>\r\n    <g id=\"text_6\">\r\n     <!-- term_id -->\r\n     <g style=\"fill:#262626;\" transform=\"translate(176.32875 271.144336)scale(0.12 -0.12)\">\r\n      <defs>\r\n       <path d=\"M 1650 503 \r\nL 1731 6 \r\nQ 1494 -44 1306 -44 \r\nQ 1000 -44 831 53 \r\nQ 663 150 594 308 \r\nQ 525 466 525 972 \r\nL 525 2881 \r\nL 113 2881 \r\nL 113 3319 \r\nL 525 3319 \r\nL 525 4141 \r\nL 1084 4478 \r\nL 1084 3319 \r\nL 1650 3319 \r\nL 1650 2881 \r\nL 1084 2881 \r\nL 1084 941 \r\nQ 1084 700 1114 631 \r\nQ 1144 563 1211 522 \r\nQ 1278 481 1403 481 \r\nQ 1497 481 1650 503 \r\nz\r\n\" id=\"ArialMT-74\" transform=\"scale(0.015625)\"/>\r\n       <path d=\"M 2694 1069 \r\nL 3275 997 \r\nQ 3138 488 2766 206 \r\nQ 2394 -75 1816 -75 \r\nQ 1088 -75 661 373 \r\nQ 234 822 234 1631 \r\nQ 234 2469 665 2931 \r\nQ 1097 3394 1784 3394 \r\nQ 2450 3394 2872 2941 \r\nQ 3294 2488 3294 1666 \r\nQ 3294 1616 3291 1516 \r\nL 816 1516 \r\nQ 847 969 1125 678 \r\nQ 1403 388 1819 388 \r\nQ 2128 388 2347 550 \r\nQ 2566 713 2694 1069 \r\nz\r\nM 847 1978 \r\nL 2700 1978 \r\nQ 2663 2397 2488 2606 \r\nQ 2219 2931 1791 2931 \r\nQ 1403 2931 1139 2672 \r\nQ 875 2413 847 1978 \r\nz\r\n\" id=\"ArialMT-65\" transform=\"scale(0.015625)\"/>\r\n       <path d=\"M 416 0 \r\nL 416 3319 \r\nL 922 3319 \r\nL 922 2816 \r\nQ 1116 3169 1280 3281 \r\nQ 1444 3394 1641 3394 \r\nQ 1925 3394 2219 3213 \r\nL 2025 2691 \r\nQ 1819 2813 1613 2813 \r\nQ 1428 2813 1281 2702 \r\nQ 1134 2591 1072 2394 \r\nQ 978 2094 978 1738 \r\nL 978 0 \r\nL 416 0 \r\nz\r\n\" id=\"ArialMT-72\" transform=\"scale(0.015625)\"/>\r\n       <path d=\"M 422 0 \r\nL 422 3319 \r\nL 925 3319 \r\nL 925 2853 \r\nQ 1081 3097 1340 3245 \r\nQ 1600 3394 1931 3394 \r\nQ 2300 3394 2536 3241 \r\nQ 2772 3088 2869 2813 \r\nQ 3263 3394 3894 3394 \r\nQ 4388 3394 4653 3120 \r\nQ 4919 2847 4919 2278 \r\nL 4919 0 \r\nL 4359 0 \r\nL 4359 2091 \r\nQ 4359 2428 4304 2576 \r\nQ 4250 2725 4106 2815 \r\nQ 3963 2906 3769 2906 \r\nQ 3419 2906 3187 2673 \r\nQ 2956 2441 2956 1928 \r\nL 2956 0 \r\nL 2394 0 \r\nL 2394 2156 \r\nQ 2394 2531 2256 2718 \r\nQ 2119 2906 1806 2906 \r\nQ 1569 2906 1367 2781 \r\nQ 1166 2656 1075 2415 \r\nQ 984 2175 984 1722 \r\nL 984 0 \r\nL 422 0 \r\nz\r\n\" id=\"ArialMT-6d\" transform=\"scale(0.015625)\"/>\r\n       <path d=\"M -97 -1272 \r\nL -97 -866 \r\nL 3631 -866 \r\nL 3631 -1272 \r\nL -97 -1272 \r\nz\r\n\" id=\"ArialMT-5f\" transform=\"scale(0.015625)\"/>\r\n       <path d=\"M 425 3934 \r\nL 425 4581 \r\nL 988 4581 \r\nL 988 3934 \r\nL 425 3934 \r\nz\r\nM 425 0 \r\nL 425 3319 \r\nL 988 3319 \r\nL 988 0 \r\nL 425 0 \r\nz\r\n\" id=\"ArialMT-69\" transform=\"scale(0.015625)\"/>\r\n       <path d=\"M 2575 0 \r\nL 2575 419 \r\nQ 2259 -75 1647 -75 \r\nQ 1250 -75 917 144 \r\nQ 584 363 401 755 \r\nQ 219 1147 219 1656 \r\nQ 219 2153 384 2558 \r\nQ 550 2963 881 3178 \r\nQ 1213 3394 1622 3394 \r\nQ 1922 3394 2156 3267 \r\nQ 2391 3141 2538 2938 \r\nL 2538 4581 \r\nL 3097 4581 \r\nL 3097 0 \r\nL 2575 0 \r\nz\r\nM 797 1656 \r\nQ 797 1019 1065 703 \r\nQ 1334 388 1700 388 \r\nQ 2069 388 2326 689 \r\nQ 2584 991 2584 1609 \r\nQ 2584 2291 2321 2609 \r\nQ 2059 2928 1675 2928 \r\nQ 1300 2928 1048 2622 \r\nQ 797 2316 797 1656 \r\nz\r\n\" id=\"ArialMT-64\" transform=\"scale(0.015625)\"/>\r\n      </defs>\r\n      <use xlink:href=\"#ArialMT-74\"/>\r\n      <use x=\"27.783203\" xlink:href=\"#ArialMT-65\"/>\r\n      <use x=\"83.398438\" xlink:href=\"#ArialMT-72\"/>\r\n      <use x=\"116.699219\" xlink:href=\"#ArialMT-6d\"/>\r\n      <use x=\"200\" xlink:href=\"#ArialMT-5f\"/>\r\n      <use x=\"255.615234\" xlink:href=\"#ArialMT-69\"/>\r\n      <use x=\"277.832031\" xlink:href=\"#ArialMT-64\"/>\r\n     </g>\r\n    </g>\r\n   </g>\r\n   <g id=\"matplotlib.axis_2\">\r\n    <g id=\"ytick_1\">\r\n     <g id=\"line2d_6\">\r\n      <defs>\r\n       <path d=\"M 0 0 \r\nL -6 0 \r\n\" id=\"m68a5834ed6\" style=\"stroke:#262626;stroke-width:1.25;\"/>\r\n      </defs>\r\n      <g>\r\n       <use style=\"fill:#262626;stroke:#262626;stroke-width:1.25;\" x=\"28.934062\" xlink:href=\"#m68a5834ed6\" y=\"224.64\"/>\r\n      </g>\r\n     </g>\r\n     <g id=\"text_7\">\r\n      <!-- 0 -->\r\n      <g style=\"fill:#262626;\" transform=\"translate(13.317031 228.576797)scale(0.11 -0.11)\">\r\n       <defs>\r\n        <path d=\"M 266 2259 \r\nQ 266 3072 433 3567 \r\nQ 600 4063 929 4331 \r\nQ 1259 4600 1759 4600 \r\nQ 2128 4600 2406 4451 \r\nQ 2684 4303 2865 4023 \r\nQ 3047 3744 3150 3342 \r\nQ 3253 2941 3253 2259 \r\nQ 3253 1453 3087 958 \r\nQ 2922 463 2592 192 \r\nQ 2263 -78 1759 -78 \r\nQ 1097 -78 719 397 \r\nQ 266 969 266 2259 \r\nz\r\nM 844 2259 \r\nQ 844 1131 1108 757 \r\nQ 1372 384 1759 384 \r\nQ 2147 384 2411 759 \r\nQ 2675 1134 2675 2259 \r\nQ 2675 3391 2411 3762 \r\nQ 2147 4134 1753 4134 \r\nQ 1366 4134 1134 3806 \r\nQ 844 3388 844 2259 \r\nz\r\n\" id=\"ArialMT-30\" transform=\"scale(0.015625)\"/>\r\n       </defs>\r\n       <use xlink:href=\"#ArialMT-30\"/>\r\n      </g>\r\n     </g>\r\n    </g>\r\n    <g id=\"ytick_2\">\r\n     <g id=\"line2d_7\">\r\n      <g>\r\n       <use style=\"fill:#262626;stroke:#262626;stroke-width:1.25;\" x=\"28.934062\" xlink:href=\"#m68a5834ed6\" y=\"199.737918\"/>\r\n      </g>\r\n     </g>\r\n     <g id=\"text_8\">\r\n      <!-- 5 -->\r\n      <g style=\"fill:#262626;\" transform=\"translate(13.317031 203.674715)scale(0.11 -0.11)\">\r\n       <use xlink:href=\"#ArialMT-35\"/>\r\n      </g>\r\n     </g>\r\n    </g>\r\n    <g id=\"ytick_3\">\r\n     <g id=\"line2d_8\">\r\n      <g>\r\n       <use style=\"fill:#262626;stroke:#262626;stroke-width:1.25;\" x=\"28.934062\" xlink:href=\"#m68a5834ed6\" y=\"174.835836\"/>\r\n      </g>\r\n     </g>\r\n     <g id=\"text_9\">\r\n      <!-- 10 -->\r\n      <g style=\"fill:#262626;\" transform=\"translate(7.2 178.772633)scale(0.11 -0.11)\">\r\n       <use xlink:href=\"#ArialMT-31\"/>\r\n       <use x=\"55.615234\" xlink:href=\"#ArialMT-30\"/>\r\n      </g>\r\n     </g>\r\n    </g>\r\n    <g id=\"ytick_4\">\r\n     <g id=\"line2d_9\">\r\n      <g>\r\n       <use style=\"fill:#262626;stroke:#262626;stroke-width:1.25;\" x=\"28.934062\" xlink:href=\"#m68a5834ed6\" y=\"149.933754\"/>\r\n      </g>\r\n     </g>\r\n     <g id=\"text_10\">\r\n      <!-- 15 -->\r\n      <g style=\"fill:#262626;\" transform=\"translate(7.2 153.870551)scale(0.11 -0.11)\">\r\n       <use xlink:href=\"#ArialMT-31\"/>\r\n       <use x=\"55.615234\" xlink:href=\"#ArialMT-35\"/>\r\n      </g>\r\n     </g>\r\n    </g>\r\n    <g id=\"ytick_5\">\r\n     <g id=\"line2d_10\">\r\n      <g>\r\n       <use style=\"fill:#262626;stroke:#262626;stroke-width:1.25;\" x=\"28.934062\" xlink:href=\"#m68a5834ed6\" y=\"125.031672\"/>\r\n      </g>\r\n     </g>\r\n     <g id=\"text_11\">\r\n      <!-- 20 -->\r\n      <g style=\"fill:#262626;\" transform=\"translate(7.2 128.968469)scale(0.11 -0.11)\">\r\n       <use xlink:href=\"#ArialMT-32\"/>\r\n       <use x=\"55.615234\" xlink:href=\"#ArialMT-30\"/>\r\n      </g>\r\n     </g>\r\n    </g>\r\n    <g id=\"ytick_6\">\r\n     <g id=\"line2d_11\">\r\n      <g>\r\n       <use style=\"fill:#262626;stroke:#262626;stroke-width:1.25;\" x=\"28.934062\" xlink:href=\"#m68a5834ed6\" y=\"100.12959\"/>\r\n      </g>\r\n     </g>\r\n     <g id=\"text_12\">\r\n      <!-- 25 -->\r\n      <g style=\"fill:#262626;\" transform=\"translate(7.2 104.066387)scale(0.11 -0.11)\">\r\n       <use xlink:href=\"#ArialMT-32\"/>\r\n       <use x=\"55.615234\" xlink:href=\"#ArialMT-35\"/>\r\n      </g>\r\n     </g>\r\n    </g>\r\n    <g id=\"ytick_7\">\r\n     <g id=\"line2d_12\">\r\n      <g>\r\n       <use style=\"fill:#262626;stroke:#262626;stroke-width:1.25;\" x=\"28.934062\" xlink:href=\"#m68a5834ed6\" y=\"75.227508\"/>\r\n      </g>\r\n     </g>\r\n     <g id=\"text_13\">\r\n      <!-- 30 -->\r\n      <g style=\"fill:#262626;\" transform=\"translate(7.2 79.164305)scale(0.11 -0.11)\">\r\n       <use xlink:href=\"#ArialMT-33\"/>\r\n       <use x=\"55.615234\" xlink:href=\"#ArialMT-30\"/>\r\n      </g>\r\n     </g>\r\n    </g>\r\n    <g id=\"ytick_8\">\r\n     <g id=\"line2d_13\">\r\n      <g>\r\n       <use style=\"fill:#262626;stroke:#262626;stroke-width:1.25;\" x=\"28.934062\" xlink:href=\"#m68a5834ed6\" y=\"50.325426\"/>\r\n      </g>\r\n     </g>\r\n     <g id=\"text_14\">\r\n      <!-- 35 -->\r\n      <g style=\"fill:#262626;\" transform=\"translate(7.2 54.262223)scale(0.11 -0.11)\">\r\n       <use xlink:href=\"#ArialMT-33\"/>\r\n       <use x=\"55.615234\" xlink:href=\"#ArialMT-35\"/>\r\n      </g>\r\n     </g>\r\n    </g>\r\n    <g id=\"ytick_9\">\r\n     <g id=\"line2d_14\">\r\n      <g>\r\n       <use style=\"fill:#262626;stroke:#262626;stroke-width:1.25;\" x=\"28.934062\" xlink:href=\"#m68a5834ed6\" y=\"25.423344\"/>\r\n      </g>\r\n     </g>\r\n     <g id=\"text_15\">\r\n      <!-- 40 -->\r\n      <g style=\"fill:#262626;\" transform=\"translate(7.2 29.360141)scale(0.11 -0.11)\">\r\n       <use xlink:href=\"#ArialMT-34\"/>\r\n       <use x=\"55.615234\" xlink:href=\"#ArialMT-30\"/>\r\n      </g>\r\n     </g>\r\n    </g>\r\n   </g>\r\n   <g id=\"patch_3\">\r\n    <path clip-path=\"url(#p1f841efd63)\" d=\"M 45.674062 224.64 \r\nL 79.154063 224.64 \r\nL 79.154063 17.554286 \r\nL 45.674062 17.554286 \r\nz\r\n\" style=\"fill:#4c72b0;stroke:#ffffff;stroke-linejoin:miter;\"/>\r\n   </g>\r\n   <g id=\"patch_4\">\r\n    <path clip-path=\"url(#p1f841efd63)\" d=\"M 112.634062 224.64 \r\nL 146.114062 224.64 \r\nL 146.114062 24.277848 \r\nL 112.634062 24.277848 \r\nz\r\n\" style=\"fill:#4c72b0;stroke:#ffffff;stroke-linejoin:miter;\"/>\r\n   </g>\r\n   <g id=\"patch_5\">\r\n    <path clip-path=\"url(#p1f841efd63)\" d=\"M 179.594063 224.64 \r\nL 213.074063 224.64 \r\nL 213.074063 134.046226 \r\nL 179.594063 134.046226 \r\nz\r\n\" style=\"fill:#4c72b0;stroke:#ffffff;stroke-linejoin:miter;\"/>\r\n   </g>\r\n   <g id=\"patch_6\">\r\n    <path clip-path=\"url(#p1f841efd63)\" d=\"M 246.554063 224.64 \r\nL 280.034063 224.64 \r\nL 280.034063 224.64 \r\nL 246.554063 224.64 \r\nz\r\n\" style=\"fill:#4c72b0;stroke:#ffffff;stroke-linejoin:miter;\"/>\r\n   </g>\r\n   <g id=\"patch_7\">\r\n    <path clip-path=\"url(#p1f841efd63)\" d=\"M 313.514063 224.64 \r\nL 346.994063 224.64 \r\nL 346.994063 224.64 \r\nL 313.514063 224.64 \r\nz\r\n\" style=\"fill:#4c72b0;stroke:#ffffff;stroke-linejoin:miter;\"/>\r\n   </g>\r\n   <g id=\"patch_8\">\r\n    <path d=\"M 28.934062 224.64 \r\nL 28.934062 7.2 \r\n\" style=\"fill:none;stroke:#262626;stroke-linecap:square;stroke-linejoin:miter;stroke-width:1.25;\"/>\r\n   </g>\r\n   <g id=\"patch_9\">\r\n    <path d=\"M 363.734062 224.64 \r\nL 363.734062 7.2 \r\n\" style=\"fill:none;stroke:#262626;stroke-linecap:square;stroke-linejoin:miter;stroke-width:1.25;\"/>\r\n   </g>\r\n   <g id=\"patch_10\">\r\n    <path d=\"M 28.934062 224.64 \r\nL 363.734063 224.64 \r\n\" style=\"fill:none;stroke:#262626;stroke-linecap:square;stroke-linejoin:miter;stroke-width:1.25;\"/>\r\n   </g>\r\n   <g id=\"patch_11\">\r\n    <path d=\"M 28.934062 7.2 \r\nL 363.734063 7.2 \r\n\" style=\"fill:none;stroke:#262626;stroke-linecap:square;stroke-linejoin:miter;stroke-width:1.25;\"/>\r\n   </g>\r\n  </g>\r\n </g>\r\n <defs>\r\n  <clipPath id=\"p1f841efd63\">\r\n   <rect height=\"217.44\" width=\"334.8\" x=\"28.934062\" y=\"7.2\"/>\r\n  </clipPath>\r\n </defs>\r\n</svg>\r\n",
      "image/png": "[encoded data removed]"
     },
     "metadata": {
      "needs_background": "light"
     }
    }
   ],
   "metadata": {}
  },
  {
   "cell_type": "code",
   "execution_count": 86,
   "source": [
    "COMPS = EIG_PAIRS.sort_values('exp_var', ascending=False).head(10).reset_index(drop=True)\r\n",
    "COMPS.index.name = 'comp_id'\r\n",
    "COMPS.index = [\"PC{}\".format(i) for i in COMPS.index.tolist()]"
   ],
   "outputs": [],
   "metadata": {}
  },
  {
   "cell_type": "code",
   "execution_count": 87,
   "source": [
    "COMPS"
   ],
   "outputs": [
    {
     "output_type": "execute_result",
     "data": {
      "text/plain": [
       "          eig_val      3976          3440          2402          2521  \\\n",
       "PC0  6.415178e-06  0.047617  6.385737e-01  2.876854e-02  3.984263e-01   \n",
       "PC1  6.207775e-06 -0.689692  4.564380e-02 -4.166890e-01  2.847861e-02   \n",
       "PC2  2.806171e-06 -0.005808 -2.185102e-02 -3.509252e-03 -1.363354e-02   \n",
       "PC3  1.996649e-42  0.000000 -5.214386e-17  1.667226e-17 -3.632116e-17   \n",
       "PC4  2.023939e-42  0.000000  4.234071e-17 -3.087960e-17  3.416539e-17   \n",
       "PC5  2.012984e-42  0.000000 -8.705247e-17  5.300421e-17 -6.917493e-17   \n",
       "PC6  2.012400e-42  0.000000 -2.081771e-17  1.904530e-17 -1.116100e-17   \n",
       "PC7  2.004872e-42  0.000000  2.763291e-17 -2.034777e-17  2.069266e-17   \n",
       "PC8  2.001303e-42  0.000000 -6.003783e-17  4.526494e-17 -4.641753e-17   \n",
       "PC9  1.991244e-42  0.000000  5.226410e-18 -6.264802e-18  2.326190e-18   \n",
       "\n",
       "            10621          1043          1524          3385          5865  \\\n",
       "PC0  7.720324e-03  3.198326e-01  5.053765e-02  2.129923e-02  2.816274e-01   \n",
       "PC1 -1.388337e-03  2.286091e-02  2.048679e-03 -3.085020e-01  2.013008e-02   \n",
       "PC2  5.093703e-01 -1.094419e-02  4.089998e-01 -2.598128e-03 -9.636861e-03   \n",
       "PC3 -2.646698e-16  2.364925e-16  9.820880e-17 -1.711009e-16 -1.483609e-16   \n",
       "PC4  1.648853e-16 -9.174713e-17 -3.523799e-17  1.276018e-16  8.206753e-17   \n",
       "PC5 -3.642236e-16  2.491935e-16  9.360664e-17 -2.659735e-16 -1.829268e-16   \n",
       "PC6 -1.185903e-16  8.400003e-17  2.327662e-17 -9.068121e-17 -6.200143e-17   \n",
       "PC7  1.207255e-16 -8.109694e-17 -3.337449e-17  9.165627e-17  6.052636e-17   \n",
       "PC8 -2.619518e-16  1.592306e-16  6.020085e-17 -1.960079e-16 -1.305904e-16   \n",
       "PC9  4.520831e-17 -2.875152e-17 -1.472494e-17  3.152660e-17  2.112401e-17   \n",
       "\n",
       "     ...      7885      8350      8648      9632      9075           479  \\\n",
       "PC0  ...  0.000827  0.000827  0.000827  0.000827  0.000827  8.272753e-04   \n",
       "PC1  ... -0.000254 -0.000254 -0.000254 -0.000254 -0.000254 -2.543499e-04   \n",
       "PC2  ... -0.000030 -0.000030 -0.000030 -0.000030 -0.000030 -3.019825e-05   \n",
       "PC3  ... -0.006184  0.024608 -0.016172  0.010228  0.025696 -2.337771e-13   \n",
       "PC4  ... -0.041251 -0.018389  0.018781 -0.018515  0.045651  1.110930e-13   \n",
       "PC5  ... -0.019830  0.003061 -0.019998  0.012500 -0.033081 -2.222446e-13   \n",
       "PC6  ...  0.008756 -0.001747 -0.001908 -0.002241 -0.000656 -1.533037e-13   \n",
       "PC7  ...  0.007171 -0.036115  0.010578 -0.015687  0.044366  1.223491e-13   \n",
       "PC8  ... -0.022630  0.007481  0.002604  0.048700  0.008069 -1.835728e-13   \n",
       "PC9  ... -0.012552 -0.011401  0.003491  0.009930 -0.027084 -6.210266e-14   \n",
       "\n",
       "             6941          6567          2126  exp_var  \n",
       "PC0  8.272753e-04  8.272753e-04  8.272753e-04    41.58  \n",
       "PC1 -2.543499e-04 -2.543499e-04 -2.543499e-04    40.23  \n",
       "PC2 -3.019825e-05 -3.019825e-05 -3.019825e-05    18.19  \n",
       "PC3 -2.324701e-13 -1.510275e-13  1.234523e-13     0.00  \n",
       "PC4  1.149436e-13  7.803793e-14 -8.009374e-14     0.00  \n",
       "PC5 -2.693366e-13 -1.839306e-13  1.840310e-13     0.00  \n",
       "PC6 -9.058179e-14 -7.107363e-14  6.046828e-14     0.00  \n",
       "PC7  9.054919e-14  6.196925e-14 -5.616827e-14     0.00  \n",
       "PC8 -1.890560e-13 -1.271475e-13  1.236227e-13     0.00  \n",
       "PC9  3.429019e-14  2.974922e-14 -1.744096e-14     0.00  \n",
       "\n",
       "[10 rows x 4002 columns]"
      ],
      "text/html": [
       "<div>\n",
       "<style scoped>\n",
       "    .dataframe tbody tr th:only-of-type {\n",
       "        vertical-align: middle;\n",
       "    }\n",
       "\n",
       "    .dataframe tbody tr th {\n",
       "        vertical-align: top;\n",
       "    }\n",
       "\n",
       "    .dataframe thead th {\n",
       "        text-align: right;\n",
       "    }\n",
       "</style>\n",
       "<table border=\"1\" class=\"dataframe\">\n",
       "  <thead>\n",
       "    <tr style=\"text-align: right;\">\n",
       "      <th></th>\n",
       "      <th>eig_val</th>\n",
       "      <th>3976</th>\n",
       "      <th>3440</th>\n",
       "      <th>2402</th>\n",
       "      <th>2521</th>\n",
       "      <th>10621</th>\n",
       "      <th>1043</th>\n",
       "      <th>1524</th>\n",
       "      <th>3385</th>\n",
       "      <th>5865</th>\n",
       "      <th>...</th>\n",
       "      <th>7885</th>\n",
       "      <th>8350</th>\n",
       "      <th>8648</th>\n",
       "      <th>9632</th>\n",
       "      <th>9075</th>\n",
       "      <th>479</th>\n",
       "      <th>6941</th>\n",
       "      <th>6567</th>\n",
       "      <th>2126</th>\n",
       "      <th>exp_var</th>\n",
       "    </tr>\n",
       "  </thead>\n",
       "  <tbody>\n",
       "    <tr>\n",
       "      <th>PC0</th>\n",
       "      <td>6.415178e-06</td>\n",
       "      <td>0.047617</td>\n",
       "      <td>6.385737e-01</td>\n",
       "      <td>2.876854e-02</td>\n",
       "      <td>3.984263e-01</td>\n",
       "      <td>7.720324e-03</td>\n",
       "      <td>3.198326e-01</td>\n",
       "      <td>5.053765e-02</td>\n",
       "      <td>2.129923e-02</td>\n",
       "      <td>2.816274e-01</td>\n",
       "      <td>...</td>\n",
       "      <td>0.000827</td>\n",
       "      <td>0.000827</td>\n",
       "      <td>0.000827</td>\n",
       "      <td>0.000827</td>\n",
       "      <td>0.000827</td>\n",
       "      <td>8.272753e-04</td>\n",
       "      <td>8.272753e-04</td>\n",
       "      <td>8.272753e-04</td>\n",
       "      <td>8.272753e-04</td>\n",
       "      <td>41.58</td>\n",
       "    </tr>\n",
       "    <tr>\n",
       "      <th>PC1</th>\n",
       "      <td>6.207775e-06</td>\n",
       "      <td>-0.689692</td>\n",
       "      <td>4.564380e-02</td>\n",
       "      <td>-4.166890e-01</td>\n",
       "      <td>2.847861e-02</td>\n",
       "      <td>-1.388337e-03</td>\n",
       "      <td>2.286091e-02</td>\n",
       "      <td>2.048679e-03</td>\n",
       "      <td>-3.085020e-01</td>\n",
       "      <td>2.013008e-02</td>\n",
       "      <td>...</td>\n",
       "      <td>-0.000254</td>\n",
       "      <td>-0.000254</td>\n",
       "      <td>-0.000254</td>\n",
       "      <td>-0.000254</td>\n",
       "      <td>-0.000254</td>\n",
       "      <td>-2.543499e-04</td>\n",
       "      <td>-2.543499e-04</td>\n",
       "      <td>-2.543499e-04</td>\n",
       "      <td>-2.543499e-04</td>\n",
       "      <td>40.23</td>\n",
       "    </tr>\n",
       "    <tr>\n",
       "      <th>PC2</th>\n",
       "      <td>2.806171e-06</td>\n",
       "      <td>-0.005808</td>\n",
       "      <td>-2.185102e-02</td>\n",
       "      <td>-3.509252e-03</td>\n",
       "      <td>-1.363354e-02</td>\n",
       "      <td>5.093703e-01</td>\n",
       "      <td>-1.094419e-02</td>\n",
       "      <td>4.089998e-01</td>\n",
       "      <td>-2.598128e-03</td>\n",
       "      <td>-9.636861e-03</td>\n",
       "      <td>...</td>\n",
       "      <td>-0.000030</td>\n",
       "      <td>-0.000030</td>\n",
       "      <td>-0.000030</td>\n",
       "      <td>-0.000030</td>\n",
       "      <td>-0.000030</td>\n",
       "      <td>-3.019825e-05</td>\n",
       "      <td>-3.019825e-05</td>\n",
       "      <td>-3.019825e-05</td>\n",
       "      <td>-3.019825e-05</td>\n",
       "      <td>18.19</td>\n",
       "    </tr>\n",
       "    <tr>\n",
       "      <th>PC3</th>\n",
       "      <td>1.996649e-42</td>\n",
       "      <td>0.000000</td>\n",
       "      <td>-5.214386e-17</td>\n",
       "      <td>1.667226e-17</td>\n",
       "      <td>-3.632116e-17</td>\n",
       "      <td>-2.646698e-16</td>\n",
       "      <td>2.364925e-16</td>\n",
       "      <td>9.820880e-17</td>\n",
       "      <td>-1.711009e-16</td>\n",
       "      <td>-1.483609e-16</td>\n",
       "      <td>...</td>\n",
       "      <td>-0.006184</td>\n",
       "      <td>0.024608</td>\n",
       "      <td>-0.016172</td>\n",
       "      <td>0.010228</td>\n",
       "      <td>0.025696</td>\n",
       "      <td>-2.337771e-13</td>\n",
       "      <td>-2.324701e-13</td>\n",
       "      <td>-1.510275e-13</td>\n",
       "      <td>1.234523e-13</td>\n",
       "      <td>0.00</td>\n",
       "    </tr>\n",
       "    <tr>\n",
       "      <th>PC4</th>\n",
       "      <td>2.023939e-42</td>\n",
       "      <td>0.000000</td>\n",
       "      <td>4.234071e-17</td>\n",
       "      <td>-3.087960e-17</td>\n",
       "      <td>3.416539e-17</td>\n",
       "      <td>1.648853e-16</td>\n",
       "      <td>-9.174713e-17</td>\n",
       "      <td>-3.523799e-17</td>\n",
       "      <td>1.276018e-16</td>\n",
       "      <td>8.206753e-17</td>\n",
       "      <td>...</td>\n",
       "      <td>-0.041251</td>\n",
       "      <td>-0.018389</td>\n",
       "      <td>0.018781</td>\n",
       "      <td>-0.018515</td>\n",
       "      <td>0.045651</td>\n",
       "      <td>1.110930e-13</td>\n",
       "      <td>1.149436e-13</td>\n",
       "      <td>7.803793e-14</td>\n",
       "      <td>-8.009374e-14</td>\n",
       "      <td>0.00</td>\n",
       "    </tr>\n",
       "    <tr>\n",
       "      <th>PC5</th>\n",
       "      <td>2.012984e-42</td>\n",
       "      <td>0.000000</td>\n",
       "      <td>-8.705247e-17</td>\n",
       "      <td>5.300421e-17</td>\n",
       "      <td>-6.917493e-17</td>\n",
       "      <td>-3.642236e-16</td>\n",
       "      <td>2.491935e-16</td>\n",
       "      <td>9.360664e-17</td>\n",
       "      <td>-2.659735e-16</td>\n",
       "      <td>-1.829268e-16</td>\n",
       "      <td>...</td>\n",
       "      <td>-0.019830</td>\n",
       "      <td>0.003061</td>\n",
       "      <td>-0.019998</td>\n",
       "      <td>0.012500</td>\n",
       "      <td>-0.033081</td>\n",
       "      <td>-2.222446e-13</td>\n",
       "      <td>-2.693366e-13</td>\n",
       "      <td>-1.839306e-13</td>\n",
       "      <td>1.840310e-13</td>\n",
       "      <td>0.00</td>\n",
       "    </tr>\n",
       "    <tr>\n",
       "      <th>PC6</th>\n",
       "      <td>2.012400e-42</td>\n",
       "      <td>0.000000</td>\n",
       "      <td>-2.081771e-17</td>\n",
       "      <td>1.904530e-17</td>\n",
       "      <td>-1.116100e-17</td>\n",
       "      <td>-1.185903e-16</td>\n",
       "      <td>8.400003e-17</td>\n",
       "      <td>2.327662e-17</td>\n",
       "      <td>-9.068121e-17</td>\n",
       "      <td>-6.200143e-17</td>\n",
       "      <td>...</td>\n",
       "      <td>0.008756</td>\n",
       "      <td>-0.001747</td>\n",
       "      <td>-0.001908</td>\n",
       "      <td>-0.002241</td>\n",
       "      <td>-0.000656</td>\n",
       "      <td>-1.533037e-13</td>\n",
       "      <td>-9.058179e-14</td>\n",
       "      <td>-7.107363e-14</td>\n",
       "      <td>6.046828e-14</td>\n",
       "      <td>0.00</td>\n",
       "    </tr>\n",
       "    <tr>\n",
       "      <th>PC7</th>\n",
       "      <td>2.004872e-42</td>\n",
       "      <td>0.000000</td>\n",
       "      <td>2.763291e-17</td>\n",
       "      <td>-2.034777e-17</td>\n",
       "      <td>2.069266e-17</td>\n",
       "      <td>1.207255e-16</td>\n",
       "      <td>-8.109694e-17</td>\n",
       "      <td>-3.337449e-17</td>\n",
       "      <td>9.165627e-17</td>\n",
       "      <td>6.052636e-17</td>\n",
       "      <td>...</td>\n",
       "      <td>0.007171</td>\n",
       "      <td>-0.036115</td>\n",
       "      <td>0.010578</td>\n",
       "      <td>-0.015687</td>\n",
       "      <td>0.044366</td>\n",
       "      <td>1.223491e-13</td>\n",
       "      <td>9.054919e-14</td>\n",
       "      <td>6.196925e-14</td>\n",
       "      <td>-5.616827e-14</td>\n",
       "      <td>0.00</td>\n",
       "    </tr>\n",
       "    <tr>\n",
       "      <th>PC8</th>\n",
       "      <td>2.001303e-42</td>\n",
       "      <td>0.000000</td>\n",
       "      <td>-6.003783e-17</td>\n",
       "      <td>4.526494e-17</td>\n",
       "      <td>-4.641753e-17</td>\n",
       "      <td>-2.619518e-16</td>\n",
       "      <td>1.592306e-16</td>\n",
       "      <td>6.020085e-17</td>\n",
       "      <td>-1.960079e-16</td>\n",
       "      <td>-1.305904e-16</td>\n",
       "      <td>...</td>\n",
       "      <td>-0.022630</td>\n",
       "      <td>0.007481</td>\n",
       "      <td>0.002604</td>\n",
       "      <td>0.048700</td>\n",
       "      <td>0.008069</td>\n",
       "      <td>-1.835728e-13</td>\n",
       "      <td>-1.890560e-13</td>\n",
       "      <td>-1.271475e-13</td>\n",
       "      <td>1.236227e-13</td>\n",
       "      <td>0.00</td>\n",
       "    </tr>\n",
       "    <tr>\n",
       "      <th>PC9</th>\n",
       "      <td>1.991244e-42</td>\n",
       "      <td>0.000000</td>\n",
       "      <td>5.226410e-18</td>\n",
       "      <td>-6.264802e-18</td>\n",
       "      <td>2.326190e-18</td>\n",
       "      <td>4.520831e-17</td>\n",
       "      <td>-2.875152e-17</td>\n",
       "      <td>-1.472494e-17</td>\n",
       "      <td>3.152660e-17</td>\n",
       "      <td>2.112401e-17</td>\n",
       "      <td>...</td>\n",
       "      <td>-0.012552</td>\n",
       "      <td>-0.011401</td>\n",
       "      <td>0.003491</td>\n",
       "      <td>0.009930</td>\n",
       "      <td>-0.027084</td>\n",
       "      <td>-6.210266e-14</td>\n",
       "      <td>3.429019e-14</td>\n",
       "      <td>2.974922e-14</td>\n",
       "      <td>-1.744096e-14</td>\n",
       "      <td>0.00</td>\n",
       "    </tr>\n",
       "  </tbody>\n",
       "</table>\n",
       "<p>10 rows × 4002 columns</p>\n",
       "</div>"
      ]
     },
     "metadata": {},
     "execution_count": 87
    }
   ],
   "metadata": {}
  },
  {
   "cell_type": "code",
   "execution_count": 88,
   "source": [
    "LOADINGS = COMPS[TERM_IDX].T\r\n",
    "LOADINGS.index.name = 'term_id'\r\n",
    "\r\n",
    "LOADINGS['term_str'] = LOADINGS.apply(lambda x: VOCAB.loc[int(x.name)].term_str, 1)"
   ],
   "outputs": [],
   "metadata": {}
  },
  {
   "cell_type": "code",
   "execution_count": 89,
   "source": [
    "l0_pos = LOADINGS.sort_values('PC0', ascending=True).head(10).term_str.str.cat(sep=' ')\r\n",
    "l0_neg = LOADINGS.sort_values('PC0', ascending=False).head(10).term_str.str.cat(sep=' ')\r\n",
    "l1_pos = LOADINGS.sort_values('PC1', ascending=True).head(10).term_str.str.cat(sep=' ')\r\n",
    "l1_neg = LOADINGS.sort_values('PC1', ascending=False).head(10).term_str.str.cat(sep=' ')"
   ],
   "outputs": [],
   "metadata": {}
  },
  {
   "cell_type": "code",
   "execution_count": 90,
   "source": [
    "print('Books PC0+', l0_pos)\r\n",
    "print('Books PC0-', l0_neg)\r\n",
    "print('Books PC1+', l1_pos)\r\n",
    "print('Books PC1-', l1_neg)"
   ],
   "outputs": [
    {
     "output_type": "stream",
     "name": "stdout",
     "text": [
      "Books PC0+ string sexes universe undisputed surmounting surer weddingday trifler smacked tip\n",
      "Books PC0- elizabeth darcy bennet jane bingley collins wickham lydia lizzy longbourn\n",
      "Books PC1+ fanny crawford edmund thomas bertram rushworth norris mansfield grant crawfords\n",
      "Books PC1- elizabeth darcy bennet jane bingley collins wickham lydia lizzy longbourn\n"
     ]
    }
   ],
   "metadata": {}
  },
  {
   "cell_type": "code",
   "execution_count": 91,
   "source": [
    "VOCAB.loc[[int(x) for x in EIG_PAIRS.sort_values('exp_var', ascending=False).head(10).index], 'term_str']"
   ],
   "outputs": [
    {
     "output_type": "execute_result",
     "data": {
      "text/plain": [
       "term_id\n",
       "2126        conquer\n",
       "6567          meets\n",
       "6941     neglecting\n",
       "4143           firs\n",
       "4155      fittingup\n",
       "4168       flatness\n",
       "4174      flavoured\n",
       "4181    flirtations\n",
       "4191         florid\n",
       "4095          fiend\n",
       "Name: term_str, dtype: object"
      ]
     },
     "metadata": {},
     "execution_count": 91
    }
   ],
   "metadata": {}
  },
  {
   "cell_type": "code",
   "execution_count": 92,
   "source": [
    "DCM = TFIDF.dot(COMPS[TERM_IDX].T)"
   ],
   "outputs": [],
   "metadata": {}
  },
  {
   "cell_type": "code",
   "execution_count": 93,
   "source": [
    "DCM"
   ],
   "outputs": [
    {
     "output_type": "execute_result",
     "data": {
      "text/plain": [
       "                           PC0       PC1       PC2           PC3  \\\n",
       "genre author book_id                                               \n",
       "n     austen 121      0.000082 -0.000014  0.002368 -5.293956e-23   \n",
       "             141      0.000251 -0.003515 -0.000013  4.764560e-22   \n",
       "             42671    0.003572  0.000247 -0.000053 -6.617445e-23   \n",
       "\n",
       "                               PC4           PC5           PC6           PC7  \\\n",
       "genre author book_id                                                           \n",
       "n     austen 121      1.017432e-21  3.705769e-22  2.329341e-21 -6.617445e-22   \n",
       "             141      6.948317e-23  6.352747e-22  5.293956e-23  5.029258e-22   \n",
       "             42671    9.562208e-22  1.012469e-21 -2.729696e-22  9.926167e-22   \n",
       "\n",
       "                               PC8           PC9  \n",
       "genre author book_id                              \n",
       "n     austen 121      1.058791e-22  2.572532e-21  \n",
       "             141     -7.940934e-23 -1.526975e-21  \n",
       "             42671    1.350694e-23  4.566287e-23  "
      ],
      "text/html": [
       "<div>\n",
       "<style scoped>\n",
       "    .dataframe tbody tr th:only-of-type {\n",
       "        vertical-align: middle;\n",
       "    }\n",
       "\n",
       "    .dataframe tbody tr th {\n",
       "        vertical-align: top;\n",
       "    }\n",
       "\n",
       "    .dataframe thead th {\n",
       "        text-align: right;\n",
       "    }\n",
       "</style>\n",
       "<table border=\"1\" class=\"dataframe\">\n",
       "  <thead>\n",
       "    <tr style=\"text-align: right;\">\n",
       "      <th></th>\n",
       "      <th></th>\n",
       "      <th></th>\n",
       "      <th>PC0</th>\n",
       "      <th>PC1</th>\n",
       "      <th>PC2</th>\n",
       "      <th>PC3</th>\n",
       "      <th>PC4</th>\n",
       "      <th>PC5</th>\n",
       "      <th>PC6</th>\n",
       "      <th>PC7</th>\n",
       "      <th>PC8</th>\n",
       "      <th>PC9</th>\n",
       "    </tr>\n",
       "    <tr>\n",
       "      <th>genre</th>\n",
       "      <th>author</th>\n",
       "      <th>book_id</th>\n",
       "      <th></th>\n",
       "      <th></th>\n",
       "      <th></th>\n",
       "      <th></th>\n",
       "      <th></th>\n",
       "      <th></th>\n",
       "      <th></th>\n",
       "      <th></th>\n",
       "      <th></th>\n",
       "      <th></th>\n",
       "    </tr>\n",
       "  </thead>\n",
       "  <tbody>\n",
       "    <tr>\n",
       "      <th rowspan=\"3\" valign=\"top\">n</th>\n",
       "      <th rowspan=\"3\" valign=\"top\">austen</th>\n",
       "      <th>121</th>\n",
       "      <td>0.000082</td>\n",
       "      <td>-0.000014</td>\n",
       "      <td>0.002368</td>\n",
       "      <td>-5.293956e-23</td>\n",
       "      <td>1.017432e-21</td>\n",
       "      <td>3.705769e-22</td>\n",
       "      <td>2.329341e-21</td>\n",
       "      <td>-6.617445e-22</td>\n",
       "      <td>1.058791e-22</td>\n",
       "      <td>2.572532e-21</td>\n",
       "    </tr>\n",
       "    <tr>\n",
       "      <th>141</th>\n",
       "      <td>0.000251</td>\n",
       "      <td>-0.003515</td>\n",
       "      <td>-0.000013</td>\n",
       "      <td>4.764560e-22</td>\n",
       "      <td>6.948317e-23</td>\n",
       "      <td>6.352747e-22</td>\n",
       "      <td>5.293956e-23</td>\n",
       "      <td>5.029258e-22</td>\n",
       "      <td>-7.940934e-23</td>\n",
       "      <td>-1.526975e-21</td>\n",
       "    </tr>\n",
       "    <tr>\n",
       "      <th>42671</th>\n",
       "      <td>0.003572</td>\n",
       "      <td>0.000247</td>\n",
       "      <td>-0.000053</td>\n",
       "      <td>-6.617445e-23</td>\n",
       "      <td>9.562208e-22</td>\n",
       "      <td>1.012469e-21</td>\n",
       "      <td>-2.729696e-22</td>\n",
       "      <td>9.926167e-22</td>\n",
       "      <td>1.350694e-23</td>\n",
       "      <td>4.566287e-23</td>\n",
       "    </tr>\n",
       "  </tbody>\n",
       "</table>\n",
       "</div>"
      ]
     },
     "metadata": {},
     "execution_count": 93
    }
   ],
   "metadata": {}
  },
  {
   "cell_type": "code",
   "execution_count": 94,
   "source": [
    "LIB"
   ],
   "outputs": [
    {
     "output_type": "execute_result",
     "data": {
      "text/plain": [
       "   book_id                                   book_title  \\\n",
       "0      141               Mansfield Park, by Jane Austen   \n",
       "1      121             Northanger Abbey, by Jane Austen   \n",
       "2    42671  Pride and Prejudice, by Jane Austen, Edited   \n",
       "\n",
       "                                           book_file  author  \\\n",
       "0         epubs/AUSTEN_JANE_MANSFIELD_PARK-pg141.txt  austen   \n",
       "1       epubs/AUSTEN_JANE_NORTHANGER_ABBEY-pg121.txt  austen   \n",
       "2  epubs/AUSTEN_JANE_PRIDE_AND_PREJUDICE-pg42671.txt  austen   \n",
       "\n",
       "                 title  year genre  \n",
       "0       Mansfield Park  1814     n  \n",
       "1     Northanger Abbey  1803     n  \n",
       "2  Pride and Prejudice  1813     n  "
      ],
      "text/html": [
       "<div>\n",
       "<style scoped>\n",
       "    .dataframe tbody tr th:only-of-type {\n",
       "        vertical-align: middle;\n",
       "    }\n",
       "\n",
       "    .dataframe tbody tr th {\n",
       "        vertical-align: top;\n",
       "    }\n",
       "\n",
       "    .dataframe thead th {\n",
       "        text-align: right;\n",
       "    }\n",
       "</style>\n",
       "<table border=\"1\" class=\"dataframe\">\n",
       "  <thead>\n",
       "    <tr style=\"text-align: right;\">\n",
       "      <th></th>\n",
       "      <th>book_id</th>\n",
       "      <th>book_title</th>\n",
       "      <th>book_file</th>\n",
       "      <th>author</th>\n",
       "      <th>title</th>\n",
       "      <th>year</th>\n",
       "      <th>genre</th>\n",
       "    </tr>\n",
       "  </thead>\n",
       "  <tbody>\n",
       "    <tr>\n",
       "      <th>0</th>\n",
       "      <td>141</td>\n",
       "      <td>Mansfield Park, by Jane Austen</td>\n",
       "      <td>epubs/AUSTEN_JANE_MANSFIELD_PARK-pg141.txt</td>\n",
       "      <td>austen</td>\n",
       "      <td>Mansfield Park</td>\n",
       "      <td>1814</td>\n",
       "      <td>n</td>\n",
       "    </tr>\n",
       "    <tr>\n",
       "      <th>1</th>\n",
       "      <td>121</td>\n",
       "      <td>Northanger Abbey, by Jane Austen</td>\n",
       "      <td>epubs/AUSTEN_JANE_NORTHANGER_ABBEY-pg121.txt</td>\n",
       "      <td>austen</td>\n",
       "      <td>Northanger Abbey</td>\n",
       "      <td>1803</td>\n",
       "      <td>n</td>\n",
       "    </tr>\n",
       "    <tr>\n",
       "      <th>2</th>\n",
       "      <td>42671</td>\n",
       "      <td>Pride and Prejudice, by Jane Austen, Edited</td>\n",
       "      <td>epubs/AUSTEN_JANE_PRIDE_AND_PREJUDICE-pg42671.txt</td>\n",
       "      <td>austen</td>\n",
       "      <td>Pride and Prejudice</td>\n",
       "      <td>1813</td>\n",
       "      <td>n</td>\n",
       "    </tr>\n",
       "  </tbody>\n",
       "</table>\n",
       "</div>"
      ]
     },
     "metadata": {},
     "execution_count": 94
    }
   ],
   "metadata": {}
  },
  {
   "cell_type": "code",
   "execution_count": 95,
   "source": [
    "DCM = LIB.merge(DCM, on='book_id')"
   ],
   "outputs": [],
   "metadata": {}
  },
  {
   "cell_type": "code",
   "execution_count": 96,
   "source": [
    "DCM"
   ],
   "outputs": [
    {
     "output_type": "execute_result",
     "data": {
      "text/plain": [
       "   book_id                                   book_title  \\\n",
       "0      141               Mansfield Park, by Jane Austen   \n",
       "1      121             Northanger Abbey, by Jane Austen   \n",
       "2    42671  Pride and Prejudice, by Jane Austen, Edited   \n",
       "\n",
       "                                           book_file  author  \\\n",
       "0         epubs/AUSTEN_JANE_MANSFIELD_PARK-pg141.txt  austen   \n",
       "1       epubs/AUSTEN_JANE_NORTHANGER_ABBEY-pg121.txt  austen   \n",
       "2  epubs/AUSTEN_JANE_PRIDE_AND_PREJUDICE-pg42671.txt  austen   \n",
       "\n",
       "                 title  year genre       PC0       PC1       PC2  \\\n",
       "0       Mansfield Park  1814     n  0.000251 -0.003515 -0.000013   \n",
       "1     Northanger Abbey  1803     n  0.000082 -0.000014  0.002368   \n",
       "2  Pride and Prejudice  1813     n  0.003572  0.000247 -0.000053   \n",
       "\n",
       "            PC3           PC4           PC5           PC6           PC7  \\\n",
       "0  4.764560e-22  6.948317e-23  6.352747e-22  5.293956e-23  5.029258e-22   \n",
       "1 -5.293956e-23  1.017432e-21  3.705769e-22  2.329341e-21 -6.617445e-22   \n",
       "2 -6.617445e-23  9.562208e-22  1.012469e-21 -2.729696e-22  9.926167e-22   \n",
       "\n",
       "            PC8           PC9  \n",
       "0 -7.940934e-23 -1.526975e-21  \n",
       "1  1.058791e-22  2.572532e-21  \n",
       "2  1.350694e-23  4.566287e-23  "
      ],
      "text/html": [
       "<div>\n",
       "<style scoped>\n",
       "    .dataframe tbody tr th:only-of-type {\n",
       "        vertical-align: middle;\n",
       "    }\n",
       "\n",
       "    .dataframe tbody tr th {\n",
       "        vertical-align: top;\n",
       "    }\n",
       "\n",
       "    .dataframe thead th {\n",
       "        text-align: right;\n",
       "    }\n",
       "</style>\n",
       "<table border=\"1\" class=\"dataframe\">\n",
       "  <thead>\n",
       "    <tr style=\"text-align: right;\">\n",
       "      <th></th>\n",
       "      <th>book_id</th>\n",
       "      <th>book_title</th>\n",
       "      <th>book_file</th>\n",
       "      <th>author</th>\n",
       "      <th>title</th>\n",
       "      <th>year</th>\n",
       "      <th>genre</th>\n",
       "      <th>PC0</th>\n",
       "      <th>PC1</th>\n",
       "      <th>PC2</th>\n",
       "      <th>PC3</th>\n",
       "      <th>PC4</th>\n",
       "      <th>PC5</th>\n",
       "      <th>PC6</th>\n",
       "      <th>PC7</th>\n",
       "      <th>PC8</th>\n",
       "      <th>PC9</th>\n",
       "    </tr>\n",
       "  </thead>\n",
       "  <tbody>\n",
       "    <tr>\n",
       "      <th>0</th>\n",
       "      <td>141</td>\n",
       "      <td>Mansfield Park, by Jane Austen</td>\n",
       "      <td>epubs/AUSTEN_JANE_MANSFIELD_PARK-pg141.txt</td>\n",
       "      <td>austen</td>\n",
       "      <td>Mansfield Park</td>\n",
       "      <td>1814</td>\n",
       "      <td>n</td>\n",
       "      <td>0.000251</td>\n",
       "      <td>-0.003515</td>\n",
       "      <td>-0.000013</td>\n",
       "      <td>4.764560e-22</td>\n",
       "      <td>6.948317e-23</td>\n",
       "      <td>6.352747e-22</td>\n",
       "      <td>5.293956e-23</td>\n",
       "      <td>5.029258e-22</td>\n",
       "      <td>-7.940934e-23</td>\n",
       "      <td>-1.526975e-21</td>\n",
       "    </tr>\n",
       "    <tr>\n",
       "      <th>1</th>\n",
       "      <td>121</td>\n",
       "      <td>Northanger Abbey, by Jane Austen</td>\n",
       "      <td>epubs/AUSTEN_JANE_NORTHANGER_ABBEY-pg121.txt</td>\n",
       "      <td>austen</td>\n",
       "      <td>Northanger Abbey</td>\n",
       "      <td>1803</td>\n",
       "      <td>n</td>\n",
       "      <td>0.000082</td>\n",
       "      <td>-0.000014</td>\n",
       "      <td>0.002368</td>\n",
       "      <td>-5.293956e-23</td>\n",
       "      <td>1.017432e-21</td>\n",
       "      <td>3.705769e-22</td>\n",
       "      <td>2.329341e-21</td>\n",
       "      <td>-6.617445e-22</td>\n",
       "      <td>1.058791e-22</td>\n",
       "      <td>2.572532e-21</td>\n",
       "    </tr>\n",
       "    <tr>\n",
       "      <th>2</th>\n",
       "      <td>42671</td>\n",
       "      <td>Pride and Prejudice, by Jane Austen, Edited</td>\n",
       "      <td>epubs/AUSTEN_JANE_PRIDE_AND_PREJUDICE-pg42671.txt</td>\n",
       "      <td>austen</td>\n",
       "      <td>Pride and Prejudice</td>\n",
       "      <td>1813</td>\n",
       "      <td>n</td>\n",
       "      <td>0.003572</td>\n",
       "      <td>0.000247</td>\n",
       "      <td>-0.000053</td>\n",
       "      <td>-6.617445e-23</td>\n",
       "      <td>9.562208e-22</td>\n",
       "      <td>1.012469e-21</td>\n",
       "      <td>-2.729696e-22</td>\n",
       "      <td>9.926167e-22</td>\n",
       "      <td>1.350694e-23</td>\n",
       "      <td>4.566287e-23</td>\n",
       "    </tr>\n",
       "  </tbody>\n",
       "</table>\n",
       "</div>"
      ]
     },
     "metadata": {},
     "execution_count": 96
    }
   ],
   "metadata": {}
  },
  {
   "cell_type": "code",
   "execution_count": 98,
   "source": [
    "DCM['doc'] = DCM.apply(lambda x: \"{}-{}-{}\".format(x.genre, x.author_x, x.title_y[1]), 1)"
   ],
   "outputs": [
    {
     "output_type": "error",
     "ename": "AttributeError",
     "evalue": "'Series' object has no attribute 'author_x'",
     "traceback": [
      "\u001b[1;31m---------------------------------------------------------------------------\u001b[0m",
      "\u001b[1;31mAttributeError\u001b[0m                            Traceback (most recent call last)",
      "\u001b[1;32m<ipython-input-98-fee3ef64ca34>\u001b[0m in \u001b[0;36m<module>\u001b[1;34m\u001b[0m\n\u001b[1;32m----> 1\u001b[1;33m \u001b[0mDCM\u001b[0m\u001b[1;33m[\u001b[0m\u001b[1;34m'doc'\u001b[0m\u001b[1;33m]\u001b[0m \u001b[1;33m=\u001b[0m \u001b[0mDCM\u001b[0m\u001b[1;33m.\u001b[0m\u001b[0mapply\u001b[0m\u001b[1;33m(\u001b[0m\u001b[1;32mlambda\u001b[0m \u001b[0mx\u001b[0m\u001b[1;33m:\u001b[0m \u001b[1;34m\"{}-{}-{}\"\u001b[0m\u001b[1;33m.\u001b[0m\u001b[0mformat\u001b[0m\u001b[1;33m(\u001b[0m\u001b[0mx\u001b[0m\u001b[1;33m.\u001b[0m\u001b[0mgenre\u001b[0m\u001b[1;33m,\u001b[0m \u001b[0mx\u001b[0m\u001b[1;33m.\u001b[0m\u001b[0mauthor_x\u001b[0m\u001b[1;33m,\u001b[0m \u001b[0mx\u001b[0m\u001b[1;33m.\u001b[0m\u001b[0mtitle_y\u001b[0m\u001b[1;33m[\u001b[0m\u001b[1;36m1\u001b[0m\u001b[1;33m]\u001b[0m\u001b[1;33m)\u001b[0m\u001b[1;33m,\u001b[0m \u001b[1;36m1\u001b[0m\u001b[1;33m)\u001b[0m\u001b[1;33m\u001b[0m\u001b[1;33m\u001b[0m\u001b[0m\n\u001b[0m",
      "\u001b[1;32m~\\AppData\\Local\\Programs\\Python\\Python39\\lib\\site-packages\\pandas\\core\\frame.py\u001b[0m in \u001b[0;36mapply\u001b[1;34m(self, func, axis, raw, result_type, args, **kwds)\u001b[0m\n\u001b[0;32m   7766\u001b[0m             \u001b[0mkwds\u001b[0m\u001b[1;33m=\u001b[0m\u001b[0mkwds\u001b[0m\u001b[1;33m,\u001b[0m\u001b[1;33m\u001b[0m\u001b[1;33m\u001b[0m\u001b[0m\n\u001b[0;32m   7767\u001b[0m         )\n\u001b[1;32m-> 7768\u001b[1;33m         \u001b[1;32mreturn\u001b[0m \u001b[0mop\u001b[0m\u001b[1;33m.\u001b[0m\u001b[0mget_result\u001b[0m\u001b[1;33m(\u001b[0m\u001b[1;33m)\u001b[0m\u001b[1;33m\u001b[0m\u001b[1;33m\u001b[0m\u001b[0m\n\u001b[0m\u001b[0;32m   7769\u001b[0m \u001b[1;33m\u001b[0m\u001b[0m\n\u001b[0;32m   7770\u001b[0m     \u001b[1;32mdef\u001b[0m \u001b[0mapplymap\u001b[0m\u001b[1;33m(\u001b[0m\u001b[0mself\u001b[0m\u001b[1;33m,\u001b[0m \u001b[0mfunc\u001b[0m\u001b[1;33m,\u001b[0m \u001b[0mna_action\u001b[0m\u001b[1;33m:\u001b[0m \u001b[0mOptional\u001b[0m\u001b[1;33m[\u001b[0m\u001b[0mstr\u001b[0m\u001b[1;33m]\u001b[0m \u001b[1;33m=\u001b[0m \u001b[1;32mNone\u001b[0m\u001b[1;33m)\u001b[0m \u001b[1;33m->\u001b[0m \u001b[0mDataFrame\u001b[0m\u001b[1;33m:\u001b[0m\u001b[1;33m\u001b[0m\u001b[1;33m\u001b[0m\u001b[0m\n",
      "\u001b[1;32m~\\AppData\\Local\\Programs\\Python\\Python39\\lib\\site-packages\\pandas\\core\\apply.py\u001b[0m in \u001b[0;36mget_result\u001b[1;34m(self)\u001b[0m\n\u001b[0;32m    183\u001b[0m             \u001b[1;32mreturn\u001b[0m \u001b[0mself\u001b[0m\u001b[1;33m.\u001b[0m\u001b[0mapply_raw\u001b[0m\u001b[1;33m(\u001b[0m\u001b[1;33m)\u001b[0m\u001b[1;33m\u001b[0m\u001b[1;33m\u001b[0m\u001b[0m\n\u001b[0;32m    184\u001b[0m \u001b[1;33m\u001b[0m\u001b[0m\n\u001b[1;32m--> 185\u001b[1;33m         \u001b[1;32mreturn\u001b[0m \u001b[0mself\u001b[0m\u001b[1;33m.\u001b[0m\u001b[0mapply_standard\u001b[0m\u001b[1;33m(\u001b[0m\u001b[1;33m)\u001b[0m\u001b[1;33m\u001b[0m\u001b[1;33m\u001b[0m\u001b[0m\n\u001b[0m\u001b[0;32m    186\u001b[0m \u001b[1;33m\u001b[0m\u001b[0m\n\u001b[0;32m    187\u001b[0m     \u001b[1;32mdef\u001b[0m \u001b[0mapply_empty_result\u001b[0m\u001b[1;33m(\u001b[0m\u001b[0mself\u001b[0m\u001b[1;33m)\u001b[0m\u001b[1;33m:\u001b[0m\u001b[1;33m\u001b[0m\u001b[1;33m\u001b[0m\u001b[0m\n",
      "\u001b[1;32m~\\AppData\\Local\\Programs\\Python\\Python39\\lib\\site-packages\\pandas\\core\\apply.py\u001b[0m in \u001b[0;36mapply_standard\u001b[1;34m(self)\u001b[0m\n\u001b[0;32m    274\u001b[0m \u001b[1;33m\u001b[0m\u001b[0m\n\u001b[0;32m    275\u001b[0m     \u001b[1;32mdef\u001b[0m \u001b[0mapply_standard\u001b[0m\u001b[1;33m(\u001b[0m\u001b[0mself\u001b[0m\u001b[1;33m)\u001b[0m\u001b[1;33m:\u001b[0m\u001b[1;33m\u001b[0m\u001b[1;33m\u001b[0m\u001b[0m\n\u001b[1;32m--> 276\u001b[1;33m         \u001b[0mresults\u001b[0m\u001b[1;33m,\u001b[0m \u001b[0mres_index\u001b[0m \u001b[1;33m=\u001b[0m \u001b[0mself\u001b[0m\u001b[1;33m.\u001b[0m\u001b[0mapply_series_generator\u001b[0m\u001b[1;33m(\u001b[0m\u001b[1;33m)\u001b[0m\u001b[1;33m\u001b[0m\u001b[1;33m\u001b[0m\u001b[0m\n\u001b[0m\u001b[0;32m    277\u001b[0m \u001b[1;33m\u001b[0m\u001b[0m\n\u001b[0;32m    278\u001b[0m         \u001b[1;31m# wrap results\u001b[0m\u001b[1;33m\u001b[0m\u001b[1;33m\u001b[0m\u001b[1;33m\u001b[0m\u001b[0m\n",
      "\u001b[1;32m~\\AppData\\Local\\Programs\\Python\\Python39\\lib\\site-packages\\pandas\\core\\apply.py\u001b[0m in \u001b[0;36mapply_series_generator\u001b[1;34m(self)\u001b[0m\n\u001b[0;32m    288\u001b[0m             \u001b[1;32mfor\u001b[0m \u001b[0mi\u001b[0m\u001b[1;33m,\u001b[0m \u001b[0mv\u001b[0m \u001b[1;32min\u001b[0m \u001b[0menumerate\u001b[0m\u001b[1;33m(\u001b[0m\u001b[0mseries_gen\u001b[0m\u001b[1;33m)\u001b[0m\u001b[1;33m:\u001b[0m\u001b[1;33m\u001b[0m\u001b[1;33m\u001b[0m\u001b[0m\n\u001b[0;32m    289\u001b[0m                 \u001b[1;31m# ignore SettingWithCopy here in case the user mutates\u001b[0m\u001b[1;33m\u001b[0m\u001b[1;33m\u001b[0m\u001b[1;33m\u001b[0m\u001b[0m\n\u001b[1;32m--> 290\u001b[1;33m                 \u001b[0mresults\u001b[0m\u001b[1;33m[\u001b[0m\u001b[0mi\u001b[0m\u001b[1;33m]\u001b[0m \u001b[1;33m=\u001b[0m \u001b[0mself\u001b[0m\u001b[1;33m.\u001b[0m\u001b[0mf\u001b[0m\u001b[1;33m(\u001b[0m\u001b[0mv\u001b[0m\u001b[1;33m)\u001b[0m\u001b[1;33m\u001b[0m\u001b[1;33m\u001b[0m\u001b[0m\n\u001b[0m\u001b[0;32m    291\u001b[0m                 \u001b[1;32mif\u001b[0m \u001b[0misinstance\u001b[0m\u001b[1;33m(\u001b[0m\u001b[0mresults\u001b[0m\u001b[1;33m[\u001b[0m\u001b[0mi\u001b[0m\u001b[1;33m]\u001b[0m\u001b[1;33m,\u001b[0m \u001b[0mABCSeries\u001b[0m\u001b[1;33m)\u001b[0m\u001b[1;33m:\u001b[0m\u001b[1;33m\u001b[0m\u001b[1;33m\u001b[0m\u001b[0m\n\u001b[0;32m    292\u001b[0m                     \u001b[1;31m# If we have a view on v, we need to make a copy because\u001b[0m\u001b[1;33m\u001b[0m\u001b[1;33m\u001b[0m\u001b[1;33m\u001b[0m\u001b[0m\n",
      "\u001b[1;32m<ipython-input-98-fee3ef64ca34>\u001b[0m in \u001b[0;36m<lambda>\u001b[1;34m(x)\u001b[0m\n\u001b[1;32m----> 1\u001b[1;33m \u001b[0mDCM\u001b[0m\u001b[1;33m[\u001b[0m\u001b[1;34m'doc'\u001b[0m\u001b[1;33m]\u001b[0m \u001b[1;33m=\u001b[0m \u001b[0mDCM\u001b[0m\u001b[1;33m.\u001b[0m\u001b[0mapply\u001b[0m\u001b[1;33m(\u001b[0m\u001b[1;32mlambda\u001b[0m \u001b[0mx\u001b[0m\u001b[1;33m:\u001b[0m \u001b[1;34m\"{}-{}-{}\"\u001b[0m\u001b[1;33m.\u001b[0m\u001b[0mformat\u001b[0m\u001b[1;33m(\u001b[0m\u001b[0mx\u001b[0m\u001b[1;33m.\u001b[0m\u001b[0mgenre\u001b[0m\u001b[1;33m,\u001b[0m \u001b[0mx\u001b[0m\u001b[1;33m.\u001b[0m\u001b[0mauthor_x\u001b[0m\u001b[1;33m,\u001b[0m \u001b[0mx\u001b[0m\u001b[1;33m.\u001b[0m\u001b[0mtitle_y\u001b[0m\u001b[1;33m[\u001b[0m\u001b[1;36m1\u001b[0m\u001b[1;33m]\u001b[0m\u001b[1;33m)\u001b[0m\u001b[1;33m,\u001b[0m \u001b[1;36m1\u001b[0m\u001b[1;33m)\u001b[0m\u001b[1;33m\u001b[0m\u001b[1;33m\u001b[0m\u001b[0m\n\u001b[0m",
      "\u001b[1;32m~\\AppData\\Local\\Programs\\Python\\Python39\\lib\\site-packages\\pandas\\core\\generic.py\u001b[0m in \u001b[0;36m__getattr__\u001b[1;34m(self, name)\u001b[0m\n\u001b[0;32m   5463\u001b[0m             \u001b[1;32mif\u001b[0m \u001b[0mself\u001b[0m\u001b[1;33m.\u001b[0m\u001b[0m_info_axis\u001b[0m\u001b[1;33m.\u001b[0m\u001b[0m_can_hold_identifiers_and_holds_name\u001b[0m\u001b[1;33m(\u001b[0m\u001b[0mname\u001b[0m\u001b[1;33m)\u001b[0m\u001b[1;33m:\u001b[0m\u001b[1;33m\u001b[0m\u001b[1;33m\u001b[0m\u001b[0m\n\u001b[0;32m   5464\u001b[0m                 \u001b[1;32mreturn\u001b[0m \u001b[0mself\u001b[0m\u001b[1;33m[\u001b[0m\u001b[0mname\u001b[0m\u001b[1;33m]\u001b[0m\u001b[1;33m\u001b[0m\u001b[1;33m\u001b[0m\u001b[0m\n\u001b[1;32m-> 5465\u001b[1;33m             \u001b[1;32mreturn\u001b[0m \u001b[0mobject\u001b[0m\u001b[1;33m.\u001b[0m\u001b[0m__getattribute__\u001b[0m\u001b[1;33m(\u001b[0m\u001b[0mself\u001b[0m\u001b[1;33m,\u001b[0m \u001b[0mname\u001b[0m\u001b[1;33m)\u001b[0m\u001b[1;33m\u001b[0m\u001b[1;33m\u001b[0m\u001b[0m\n\u001b[0m\u001b[0;32m   5466\u001b[0m \u001b[1;33m\u001b[0m\u001b[0m\n\u001b[0;32m   5467\u001b[0m     \u001b[1;32mdef\u001b[0m \u001b[0m__setattr__\u001b[0m\u001b[1;33m(\u001b[0m\u001b[0mself\u001b[0m\u001b[1;33m,\u001b[0m \u001b[0mname\u001b[0m\u001b[1;33m:\u001b[0m \u001b[0mstr\u001b[0m\u001b[1;33m,\u001b[0m \u001b[0mvalue\u001b[0m\u001b[1;33m)\u001b[0m \u001b[1;33m->\u001b[0m \u001b[1;32mNone\u001b[0m\u001b[1;33m:\u001b[0m\u001b[1;33m\u001b[0m\u001b[1;33m\u001b[0m\u001b[0m\n",
      "\u001b[1;31mAttributeError\u001b[0m: 'Series' object has no attribute 'author_x'"
     ]
    }
   ],
   "metadata": {}
  },
  {
   "cell_type": "code",
   "execution_count": null,
   "source": [
    "DCM"
   ],
   "outputs": [
    {
     "output_type": "execute_result",
     "data": {
      "text/plain": [
       "   book_id                                 book_title_x  \\\n",
       "0      141               Mansfield Park, by Jane Austen   \n",
       "1      121             Northanger Abbey, by Jane Austen   \n",
       "2    42671  Pride and Prejudice, by Jane Austen, Edited   \n",
       "\n",
       "                                         book_file_x author_x  \\\n",
       "0         epubs/AUSTEN_JANE_MANSFIELD_PARK-pg141.txt   austen   \n",
       "1       epubs/AUSTEN_JANE_NORTHANGER_ABBEY-pg121.txt   austen   \n",
       "2  epubs/AUSTEN_JANE_PRIDE_AND_PREJUDICE-pg42671.txt   austen   \n",
       "\n",
       "               title_x  year_x genre  \\\n",
       "0       Mansfield Park    1814     n   \n",
       "1     Northanger Abbey    1803     n   \n",
       "2  Pride and Prejudice    1813     n   \n",
       "\n",
       "                                  book_title_y  \\\n",
       "0               Mansfield Park, by Jane Austen   \n",
       "1             Northanger Abbey, by Jane Austen   \n",
       "2  Pride and Prejudice, by Jane Austen, Edited   \n",
       "\n",
       "                                         book_file_y author_y  ...  \\\n",
       "0         epubs/AUSTEN_JANE_MANSFIELD_PARK-pg141.txt   austen  ...   \n",
       "1       epubs/AUSTEN_JANE_NORTHANGER_ABBEY-pg121.txt   austen  ...   \n",
       "2  epubs/AUSTEN_JANE_PRIDE_AND_PREJUDICE-pg42671.txt   austen  ...   \n",
       "\n",
       "               title_y  year_y genre_x  \\\n",
       "0       Mansfield Park    1814       n   \n",
       "1     Northanger Abbey    1803       n   \n",
       "2  Pride and Prejudice    1813       n   \n",
       "\n",
       "                                  book_title_y  \\\n",
       "0               Mansfield Park, by Jane Austen   \n",
       "1             Northanger Abbey, by Jane Austen   \n",
       "2  Pride and Prejudice, by Jane Austen, Edited   \n",
       "\n",
       "                                         book_file_y author_y  \\\n",
       "0         epubs/AUSTEN_JANE_MANSFIELD_PARK-pg141.txt   austen   \n",
       "1       epubs/AUSTEN_JANE_NORTHANGER_ABBEY-pg121.txt   austen   \n",
       "2  epubs/AUSTEN_JANE_PRIDE_AND_PREJUDICE-pg42671.txt   austen   \n",
       "\n",
       "               title_y  year_y genre_y  \\\n",
       "0       Mansfield Park    1814       n   \n",
       "1     Northanger Abbey    1803       n   \n",
       "2  Pride and Prejudice    1813       n   \n",
       "\n",
       "                                                 doc  \n",
       "0  n-author_x    austen\\nauthor_x    austen\\nauth...  \n",
       "1  n-author_x    austen\\nauthor_x    austen\\nauth...  \n",
       "2  n-author_x    austen\\nauthor_x    austen\\nauth...  \n",
       "\n",
       "[3 rows x 71 columns]"
      ],
      "text/html": [
       "<div>\n",
       "<style scoped>\n",
       "    .dataframe tbody tr th:only-of-type {\n",
       "        vertical-align: middle;\n",
       "    }\n",
       "\n",
       "    .dataframe tbody tr th {\n",
       "        vertical-align: top;\n",
       "    }\n",
       "\n",
       "    .dataframe thead th {\n",
       "        text-align: right;\n",
       "    }\n",
       "</style>\n",
       "<table border=\"1\" class=\"dataframe\">\n",
       "  <thead>\n",
       "    <tr style=\"text-align: right;\">\n",
       "      <th></th>\n",
       "      <th>book_id</th>\n",
       "      <th>book_title_x</th>\n",
       "      <th>book_file_x</th>\n",
       "      <th>author_x</th>\n",
       "      <th>title_x</th>\n",
       "      <th>year_x</th>\n",
       "      <th>genre</th>\n",
       "      <th>book_title_y</th>\n",
       "      <th>book_file_y</th>\n",
       "      <th>author_y</th>\n",
       "      <th>...</th>\n",
       "      <th>title_y</th>\n",
       "      <th>year_y</th>\n",
       "      <th>genre_x</th>\n",
       "      <th>book_title_y</th>\n",
       "      <th>book_file_y</th>\n",
       "      <th>author_y</th>\n",
       "      <th>title_y</th>\n",
       "      <th>year_y</th>\n",
       "      <th>genre_y</th>\n",
       "      <th>doc</th>\n",
       "    </tr>\n",
       "  </thead>\n",
       "  <tbody>\n",
       "    <tr>\n",
       "      <th>0</th>\n",
       "      <td>141</td>\n",
       "      <td>Mansfield Park, by Jane Austen</td>\n",
       "      <td>epubs/AUSTEN_JANE_MANSFIELD_PARK-pg141.txt</td>\n",
       "      <td>austen</td>\n",
       "      <td>Mansfield Park</td>\n",
       "      <td>1814</td>\n",
       "      <td>n</td>\n",
       "      <td>Mansfield Park, by Jane Austen</td>\n",
       "      <td>epubs/AUSTEN_JANE_MANSFIELD_PARK-pg141.txt</td>\n",
       "      <td>austen</td>\n",
       "      <td>...</td>\n",
       "      <td>Mansfield Park</td>\n",
       "      <td>1814</td>\n",
       "      <td>n</td>\n",
       "      <td>Mansfield Park, by Jane Austen</td>\n",
       "      <td>epubs/AUSTEN_JANE_MANSFIELD_PARK-pg141.txt</td>\n",
       "      <td>austen</td>\n",
       "      <td>Mansfield Park</td>\n",
       "      <td>1814</td>\n",
       "      <td>n</td>\n",
       "      <td>n-author_x    austen\\nauthor_x    austen\\nauth...</td>\n",
       "    </tr>\n",
       "    <tr>\n",
       "      <th>1</th>\n",
       "      <td>121</td>\n",
       "      <td>Northanger Abbey, by Jane Austen</td>\n",
       "      <td>epubs/AUSTEN_JANE_NORTHANGER_ABBEY-pg121.txt</td>\n",
       "      <td>austen</td>\n",
       "      <td>Northanger Abbey</td>\n",
       "      <td>1803</td>\n",
       "      <td>n</td>\n",
       "      <td>Northanger Abbey, by Jane Austen</td>\n",
       "      <td>epubs/AUSTEN_JANE_NORTHANGER_ABBEY-pg121.txt</td>\n",
       "      <td>austen</td>\n",
       "      <td>...</td>\n",
       "      <td>Northanger Abbey</td>\n",
       "      <td>1803</td>\n",
       "      <td>n</td>\n",
       "      <td>Northanger Abbey, by Jane Austen</td>\n",
       "      <td>epubs/AUSTEN_JANE_NORTHANGER_ABBEY-pg121.txt</td>\n",
       "      <td>austen</td>\n",
       "      <td>Northanger Abbey</td>\n",
       "      <td>1803</td>\n",
       "      <td>n</td>\n",
       "      <td>n-author_x    austen\\nauthor_x    austen\\nauth...</td>\n",
       "    </tr>\n",
       "    <tr>\n",
       "      <th>2</th>\n",
       "      <td>42671</td>\n",
       "      <td>Pride and Prejudice, by Jane Austen, Edited</td>\n",
       "      <td>epubs/AUSTEN_JANE_PRIDE_AND_PREJUDICE-pg42671.txt</td>\n",
       "      <td>austen</td>\n",
       "      <td>Pride and Prejudice</td>\n",
       "      <td>1813</td>\n",
       "      <td>n</td>\n",
       "      <td>Pride and Prejudice, by Jane Austen, Edited</td>\n",
       "      <td>epubs/AUSTEN_JANE_PRIDE_AND_PREJUDICE-pg42671.txt</td>\n",
       "      <td>austen</td>\n",
       "      <td>...</td>\n",
       "      <td>Pride and Prejudice</td>\n",
       "      <td>1813</td>\n",
       "      <td>n</td>\n",
       "      <td>Pride and Prejudice, by Jane Austen, Edited</td>\n",
       "      <td>epubs/AUSTEN_JANE_PRIDE_AND_PREJUDICE-pg42671.txt</td>\n",
       "      <td>austen</td>\n",
       "      <td>Pride and Prejudice</td>\n",
       "      <td>1813</td>\n",
       "      <td>n</td>\n",
       "      <td>n-author_x    austen\\nauthor_x    austen\\nauth...</td>\n",
       "    </tr>\n",
       "  </tbody>\n",
       "</table>\n",
       "<p>3 rows × 71 columns</p>\n",
       "</div>"
      ]
     },
     "metadata": {},
     "execution_count": 74
    }
   ],
   "metadata": {}
  },
  {
   "cell_type": "code",
   "execution_count": null,
   "source": [
    "import plotly.express as px"
   ],
   "outputs": [],
   "metadata": {}
  },
  {
   "cell_type": "code",
   "execution_count": null,
   "source": [
    "def vis_pcs(M, a, b, label='book', prefix='PC'):\r\n",
    "    fig = px.scatter(M, prefix + str(a), prefix + str(b), \r\n",
    "                        color=label, \r\n",
    "                        hover_name='book_id', marginal_x='box')\r\n",
    "    fig.show()"
   ],
   "outputs": [],
   "metadata": {}
  },
  {
   "cell_type": "code",
   "execution_count": null,
   "source": [
    "vis_pcs(DCM, 0, 1, label = 'genre')"
   ],
   "outputs": [
    {
     "output_type": "display_data",
     "data": {
      "application/vnd.plotly.v1+json": {
       "config": {
        "plotlyServerURL": "https://plot.ly"
       },
       "data": [
        {
         "hovertemplate": "<b>%{hovertext}</b><br><br>genre=n<br>PC0=%{x}<br>PC1=%{y}<extra></extra>",
         "hovertext": [
          "141",
          "121",
          "42671"
         ],
         "legendgroup": "n",
         "marker": {
          "color": "#636efa",
          "symbol": "circle"
         },
         "mode": "markers",
         "name": "n",
         "orientation": "v",
         "showlegend": true,
         "type": "scatter",
         "x": [
          0.00025077691814494844,
          0.00008206367306665518,
          0.0035722166523385205
         ],
         "xaxis": "x",
         "y": [
          -0.003514868186485344,
          -0.000014280311203010426,
          0.00024707899665172466
         ],
         "yaxis": "y"
        },
        {
         "alignmentgroup": "True",
         "hovertemplate": "<b>%{hovertext}</b><br><br>genre=n<br>PC0=%{x}<extra></extra>",
         "hovertext": [
          "141",
          "121",
          "42671"
         ],
         "legendgroup": "n",
         "marker": {
          "color": "#636efa",
          "symbol": "circle"
         },
         "name": "n",
         "notched": true,
         "offsetgroup": "n",
         "showlegend": false,
         "type": "box",
         "x": [
          0.00025077691814494844,
          0.00008206367306665518,
          0.0035722166523385205
         ],
         "xaxis": "x2",
         "yaxis": "y2"
        }
       ],
       "layout": {
        "legend": {
         "title": {
          "text": "genre"
         },
         "tracegroupgap": 0
        },
        "margin": {
         "t": 60
        },
        "template": {
         "data": {
          "bar": [
           {
            "error_x": {
             "color": "#2a3f5f"
            },
            "error_y": {
             "color": "#2a3f5f"
            },
            "marker": {
             "line": {
              "color": "#E5ECF6",
              "width": 0.5
             },
             "pattern": {
              "fillmode": "overlay",
              "size": 10,
              "solidity": 0.2
             }
            },
            "type": "bar"
           }
          ],
          "barpolar": [
           {
            "marker": {
             "line": {
              "color": "#E5ECF6",
              "width": 0.5
             },
             "pattern": {
              "fillmode": "overlay",
              "size": 10,
              "solidity": 0.2
             }
            },
            "type": "barpolar"
           }
          ],
          "carpet": [
           {
            "aaxis": {
             "endlinecolor": "#2a3f5f",
             "gridcolor": "white",
             "linecolor": "white",
             "minorgridcolor": "white",
             "startlinecolor": "#2a3f5f"
            },
            "baxis": {
             "endlinecolor": "#2a3f5f",
             "gridcolor": "white",
             "linecolor": "white",
             "minorgridcolor": "white",
             "startlinecolor": "#2a3f5f"
            },
            "type": "carpet"
           }
          ],
          "choropleth": [
           {
            "colorbar": {
             "outlinewidth": 0,
             "ticks": ""
            },
            "type": "choropleth"
           }
          ],
          "contour": [
           {
            "colorbar": {
             "outlinewidth": 0,
             "ticks": ""
            },
            "colorscale": [
             [
              0,
              "#0d0887"
             ],
             [
              0.1111111111111111,
              "#46039f"
             ],
             [
              0.2222222222222222,
              "#7201a8"
             ],
             [
              0.3333333333333333,
              "#9c179e"
             ],
             [
              0.4444444444444444,
              "#bd3786"
             ],
             [
              0.5555555555555556,
              "#d8576b"
             ],
             [
              0.6666666666666666,
              "#ed7953"
             ],
             [
              0.7777777777777778,
              "#fb9f3a"
             ],
             [
              0.8888888888888888,
              "#fdca26"
             ],
             [
              1,
              "#f0f921"
             ]
            ],
            "type": "contour"
           }
          ],
          "contourcarpet": [
           {
            "colorbar": {
             "outlinewidth": 0,
             "ticks": ""
            },
            "type": "contourcarpet"
           }
          ],
          "heatmap": [
           {
            "colorbar": {
             "outlinewidth": 0,
             "ticks": ""
            },
            "colorscale": [
             [
              0,
              "#0d0887"
             ],
             [
              0.1111111111111111,
              "#46039f"
             ],
             [
              0.2222222222222222,
              "#7201a8"
             ],
             [
              0.3333333333333333,
              "#9c179e"
             ],
             [
              0.4444444444444444,
              "#bd3786"
             ],
             [
              0.5555555555555556,
              "#d8576b"
             ],
             [
              0.6666666666666666,
              "#ed7953"
             ],
             [
              0.7777777777777778,
              "#fb9f3a"
             ],
             [
              0.8888888888888888,
              "#fdca26"
             ],
             [
              1,
              "#f0f921"
             ]
            ],
            "type": "heatmap"
           }
          ],
          "heatmapgl": [
           {
            "colorbar": {
             "outlinewidth": 0,
             "ticks": ""
            },
            "colorscale": [
             [
              0,
              "#0d0887"
             ],
             [
              0.1111111111111111,
              "#46039f"
             ],
             [
              0.2222222222222222,
              "#7201a8"
             ],
             [
              0.3333333333333333,
              "#9c179e"
             ],
             [
              0.4444444444444444,
              "#bd3786"
             ],
             [
              0.5555555555555556,
              "#d8576b"
             ],
             [
              0.6666666666666666,
              "#ed7953"
             ],
             [
              0.7777777777777778,
              "#fb9f3a"
             ],
             [
              0.8888888888888888,
              "#fdca26"
             ],
             [
              1,
              "#f0f921"
             ]
            ],
            "type": "heatmapgl"
           }
          ],
          "histogram": [
           {
            "marker": {
             "pattern": {
              "fillmode": "overlay",
              "size": 10,
              "solidity": 0.2
             }
            },
            "type": "histogram"
           }
          ],
          "histogram2d": [
           {
            "colorbar": {
             "outlinewidth": 0,
             "ticks": ""
            },
            "colorscale": [
             [
              0,
              "#0d0887"
             ],
             [
              0.1111111111111111,
              "#46039f"
             ],
             [
              0.2222222222222222,
              "#7201a8"
             ],
             [
              0.3333333333333333,
              "#9c179e"
             ],
             [
              0.4444444444444444,
              "#bd3786"
             ],
             [
              0.5555555555555556,
              "#d8576b"
             ],
             [
              0.6666666666666666,
              "#ed7953"
             ],
             [
              0.7777777777777778,
              "#fb9f3a"
             ],
             [
              0.8888888888888888,
              "#fdca26"
             ],
             [
              1,
              "#f0f921"
             ]
            ],
            "type": "histogram2d"
           }
          ],
          "histogram2dcontour": [
           {
            "colorbar": {
             "outlinewidth": 0,
             "ticks": ""
            },
            "colorscale": [
             [
              0,
              "#0d0887"
             ],
             [
              0.1111111111111111,
              "#46039f"
             ],
             [
              0.2222222222222222,
              "#7201a8"
             ],
             [
              0.3333333333333333,
              "#9c179e"
             ],
             [
              0.4444444444444444,
              "#bd3786"
             ],
             [
              0.5555555555555556,
              "#d8576b"
             ],
             [
              0.6666666666666666,
              "#ed7953"
             ],
             [
              0.7777777777777778,
              "#fb9f3a"
             ],
             [
              0.8888888888888888,
              "#fdca26"
             ],
             [
              1,
              "#f0f921"
             ]
            ],
            "type": "histogram2dcontour"
           }
          ],
          "mesh3d": [
           {
            "colorbar": {
             "outlinewidth": 0,
             "ticks": ""
            },
            "type": "mesh3d"
           }
          ],
          "parcoords": [
           {
            "line": {
             "colorbar": {
              "outlinewidth": 0,
              "ticks": ""
             }
            },
            "type": "parcoords"
           }
          ],
          "pie": [
           {
            "automargin": true,
            "type": "pie"
           }
          ],
          "scatter": [
           {
            "marker": {
             "colorbar": {
              "outlinewidth": 0,
              "ticks": ""
             }
            },
            "type": "scatter"
           }
          ],
          "scatter3d": [
           {
            "line": {
             "colorbar": {
              "outlinewidth": 0,
              "ticks": ""
             }
            },
            "marker": {
             "colorbar": {
              "outlinewidth": 0,
              "ticks": ""
             }
            },
            "type": "scatter3d"
           }
          ],
          "scattercarpet": [
           {
            "marker": {
             "colorbar": {
              "outlinewidth": 0,
              "ticks": ""
             }
            },
            "type": "scattercarpet"
           }
          ],
          "scattergeo": [
           {
            "marker": {
             "colorbar": {
              "outlinewidth": 0,
              "ticks": ""
             }
            },
            "type": "scattergeo"
           }
          ],
          "scattergl": [
           {
            "marker": {
             "colorbar": {
              "outlinewidth": 0,
              "ticks": ""
             }
            },
            "type": "scattergl"
           }
          ],
          "scattermapbox": [
           {
            "marker": {
             "colorbar": {
              "outlinewidth": 0,
              "ticks": ""
             }
            },
            "type": "scattermapbox"
           }
          ],
          "scatterpolar": [
           {
            "marker": {
             "colorbar": {
              "outlinewidth": 0,
              "ticks": ""
             }
            },
            "type": "scatterpolar"
           }
          ],
          "scatterpolargl": [
           {
            "marker": {
             "colorbar": {
              "outlinewidth": 0,
              "ticks": ""
             }
            },
            "type": "scatterpolargl"
           }
          ],
          "scatterternary": [
           {
            "marker": {
             "colorbar": {
              "outlinewidth": 0,
              "ticks": ""
             }
            },
            "type": "scatterternary"
           }
          ],
          "surface": [
           {
            "colorbar": {
             "outlinewidth": 0,
             "ticks": ""
            },
            "colorscale": [
             [
              0,
              "#0d0887"
             ],
             [
              0.1111111111111111,
              "#46039f"
             ],
             [
              0.2222222222222222,
              "#7201a8"
             ],
             [
              0.3333333333333333,
              "#9c179e"
             ],
             [
              0.4444444444444444,
              "#bd3786"
             ],
             [
              0.5555555555555556,
              "#d8576b"
             ],
             [
              0.6666666666666666,
              "#ed7953"
             ],
             [
              0.7777777777777778,
              "#fb9f3a"
             ],
             [
              0.8888888888888888,
              "#fdca26"
             ],
             [
              1,
              "#f0f921"
             ]
            ],
            "type": "surface"
           }
          ],
          "table": [
           {
            "cells": {
             "fill": {
              "color": "#EBF0F8"
             },
             "line": {
              "color": "white"
             }
            },
            "header": {
             "fill": {
              "color": "#C8D4E3"
             },
             "line": {
              "color": "white"
             }
            },
            "type": "table"
           }
          ]
         },
         "layout": {
          "annotationdefaults": {
           "arrowcolor": "#2a3f5f",
           "arrowhead": 0,
           "arrowwidth": 1
          },
          "autotypenumbers": "strict",
          "coloraxis": {
           "colorbar": {
            "outlinewidth": 0,
            "ticks": ""
           }
          },
          "colorscale": {
           "diverging": [
            [
             0,
             "#8e0152"
            ],
            [
             0.1,
             "#c51b7d"
            ],
            [
             0.2,
             "#de77ae"
            ],
            [
             0.3,
             "#f1b6da"
            ],
            [
             0.4,
             "#fde0ef"
            ],
            [
             0.5,
             "#f7f7f7"
            ],
            [
             0.6,
             "#e6f5d0"
            ],
            [
             0.7,
             "#b8e186"
            ],
            [
             0.8,
             "#7fbc41"
            ],
            [
             0.9,
             "#4d9221"
            ],
            [
             1,
             "#276419"
            ]
           ],
           "sequential": [
            [
             0,
             "#0d0887"
            ],
            [
             0.1111111111111111,
             "#46039f"
            ],
            [
             0.2222222222222222,
             "#7201a8"
            ],
            [
             0.3333333333333333,
             "#9c179e"
            ],
            [
             0.4444444444444444,
             "#bd3786"
            ],
            [
             0.5555555555555556,
             "#d8576b"
            ],
            [
             0.6666666666666666,
             "#ed7953"
            ],
            [
             0.7777777777777778,
             "#fb9f3a"
            ],
            [
             0.8888888888888888,
             "#fdca26"
            ],
            [
             1,
             "#f0f921"
            ]
           ],
           "sequentialminus": [
            [
             0,
             "#0d0887"
            ],
            [
             0.1111111111111111,
             "#46039f"
            ],
            [
             0.2222222222222222,
             "#7201a8"
            ],
            [
             0.3333333333333333,
             "#9c179e"
            ],
            [
             0.4444444444444444,
             "#bd3786"
            ],
            [
             0.5555555555555556,
             "#d8576b"
            ],
            [
             0.6666666666666666,
             "#ed7953"
            ],
            [
             0.7777777777777778,
             "#fb9f3a"
            ],
            [
             0.8888888888888888,
             "#fdca26"
            ],
            [
             1,
             "#f0f921"
            ]
           ]
          },
          "colorway": [
           "#636efa",
           "#EF553B",
           "#00cc96",
           "#ab63fa",
           "#FFA15A",
           "#19d3f3",
           "#FF6692",
           "#B6E880",
           "#FF97FF",
           "#FECB52"
          ],
          "font": {
           "color": "#2a3f5f"
          },
          "geo": {
           "bgcolor": "white",
           "lakecolor": "white",
           "landcolor": "#E5ECF6",
           "showlakes": true,
           "showland": true,
           "subunitcolor": "white"
          },
          "hoverlabel": {
           "align": "left"
          },
          "hovermode": "closest",
          "mapbox": {
           "style": "light"
          },
          "paper_bgcolor": "white",
          "plot_bgcolor": "#E5ECF6",
          "polar": {
           "angularaxis": {
            "gridcolor": "white",
            "linecolor": "white",
            "ticks": ""
           },
           "bgcolor": "#E5ECF6",
           "radialaxis": {
            "gridcolor": "white",
            "linecolor": "white",
            "ticks": ""
           }
          },
          "scene": {
           "xaxis": {
            "backgroundcolor": "#E5ECF6",
            "gridcolor": "white",
            "gridwidth": 2,
            "linecolor": "white",
            "showbackground": true,
            "ticks": "",
            "zerolinecolor": "white"
           },
           "yaxis": {
            "backgroundcolor": "#E5ECF6",
            "gridcolor": "white",
            "gridwidth": 2,
            "linecolor": "white",
            "showbackground": true,
            "ticks": "",
            "zerolinecolor": "white"
           },
           "zaxis": {
            "backgroundcolor": "#E5ECF6",
            "gridcolor": "white",
            "gridwidth": 2,
            "linecolor": "white",
            "showbackground": true,
            "ticks": "",
            "zerolinecolor": "white"
           }
          },
          "shapedefaults": {
           "line": {
            "color": "#2a3f5f"
           }
          },
          "ternary": {
           "aaxis": {
            "gridcolor": "white",
            "linecolor": "white",
            "ticks": ""
           },
           "baxis": {
            "gridcolor": "white",
            "linecolor": "white",
            "ticks": ""
           },
           "bgcolor": "#E5ECF6",
           "caxis": {
            "gridcolor": "white",
            "linecolor": "white",
            "ticks": ""
           }
          },
          "title": {
           "x": 0.05
          },
          "xaxis": {
           "automargin": true,
           "gridcolor": "white",
           "linecolor": "white",
           "ticks": "",
           "title": {
            "standoff": 15
           },
           "zerolinecolor": "white",
           "zerolinewidth": 2
          },
          "yaxis": {
           "automargin": true,
           "gridcolor": "white",
           "linecolor": "white",
           "ticks": "",
           "title": {
            "standoff": 15
           },
           "zerolinecolor": "white",
           "zerolinewidth": 2
          }
         }
        },
        "xaxis": {
         "anchor": "y",
         "domain": [
          0,
          1
         ],
         "title": {
          "text": "PC0"
         }
        },
        "xaxis2": {
         "anchor": "y2",
         "domain": [
          0,
          1
         ],
         "matches": "x",
         "showgrid": true,
         "showticklabels": false
        },
        "yaxis": {
         "anchor": "x",
         "domain": [
          0,
          0.7326
         ],
         "title": {
          "text": "PC1"
         }
        },
        "yaxis2": {
         "anchor": "x2",
         "domain": [
          0.7426,
          1
         ],
         "matches": "y2",
         "showgrid": false,
         "showline": false,
         "showticklabels": false,
         "ticks": ""
        }
       }
      }
     },
     "metadata": {}
    }
   ],
   "metadata": {}
  },
  {
   "cell_type": "code",
   "execution_count": null,
   "source": [
    "vis_pcs(DCM, 1, 2, label = 'genre')"
   ],
   "outputs": [
    {
     "output_type": "display_data",
     "data": {
      "application/vnd.plotly.v1+json": {
       "config": {
        "plotlyServerURL": "https://plot.ly"
       },
       "data": [
        {
         "hovertemplate": "<b>%{hovertext}</b><br><br>genre=n<br>PC1=%{x}<br>PC2=%{y}<extra></extra>",
         "hovertext": [
          "141",
          "121",
          "42671"
         ],
         "legendgroup": "n",
         "marker": {
          "color": "#636efa",
          "symbol": "circle"
         },
         "mode": "markers",
         "name": "n",
         "orientation": "v",
         "showlegend": true,
         "type": "scatter",
         "x": [
          -0.003514868186485344,
          -0.000014280311203010426,
          0.00024707899665172466
         ],
         "xaxis": "x",
         "y": [
          -0.00001338103321541943,
          0.0023683968010917156,
          -0.00005346923355852271
         ],
         "yaxis": "y"
        },
        {
         "alignmentgroup": "True",
         "hovertemplate": "<b>%{hovertext}</b><br><br>genre=n<br>PC1=%{x}<extra></extra>",
         "hovertext": [
          "141",
          "121",
          "42671"
         ],
         "legendgroup": "n",
         "marker": {
          "color": "#636efa",
          "symbol": "circle"
         },
         "name": "n",
         "notched": true,
         "offsetgroup": "n",
         "showlegend": false,
         "type": "box",
         "x": [
          -0.003514868186485344,
          -0.000014280311203010426,
          0.00024707899665172466
         ],
         "xaxis": "x2",
         "yaxis": "y2"
        }
       ],
       "layout": {
        "legend": {
         "title": {
          "text": "genre"
         },
         "tracegroupgap": 0
        },
        "margin": {
         "t": 60
        },
        "template": {
         "data": {
          "bar": [
           {
            "error_x": {
             "color": "#2a3f5f"
            },
            "error_y": {
             "color": "#2a3f5f"
            },
            "marker": {
             "line": {
              "color": "#E5ECF6",
              "width": 0.5
             },
             "pattern": {
              "fillmode": "overlay",
              "size": 10,
              "solidity": 0.2
             }
            },
            "type": "bar"
           }
          ],
          "barpolar": [
           {
            "marker": {
             "line": {
              "color": "#E5ECF6",
              "width": 0.5
             },
             "pattern": {
              "fillmode": "overlay",
              "size": 10,
              "solidity": 0.2
             }
            },
            "type": "barpolar"
           }
          ],
          "carpet": [
           {
            "aaxis": {
             "endlinecolor": "#2a3f5f",
             "gridcolor": "white",
             "linecolor": "white",
             "minorgridcolor": "white",
             "startlinecolor": "#2a3f5f"
            },
            "baxis": {
             "endlinecolor": "#2a3f5f",
             "gridcolor": "white",
             "linecolor": "white",
             "minorgridcolor": "white",
             "startlinecolor": "#2a3f5f"
            },
            "type": "carpet"
           }
          ],
          "choropleth": [
           {
            "colorbar": {
             "outlinewidth": 0,
             "ticks": ""
            },
            "type": "choropleth"
           }
          ],
          "contour": [
           {
            "colorbar": {
             "outlinewidth": 0,
             "ticks": ""
            },
            "colorscale": [
             [
              0,
              "#0d0887"
             ],
             [
              0.1111111111111111,
              "#46039f"
             ],
             [
              0.2222222222222222,
              "#7201a8"
             ],
             [
              0.3333333333333333,
              "#9c179e"
             ],
             [
              0.4444444444444444,
              "#bd3786"
             ],
             [
              0.5555555555555556,
              "#d8576b"
             ],
             [
              0.6666666666666666,
              "#ed7953"
             ],
             [
              0.7777777777777778,
              "#fb9f3a"
             ],
             [
              0.8888888888888888,
              "#fdca26"
             ],
             [
              1,
              "#f0f921"
             ]
            ],
            "type": "contour"
           }
          ],
          "contourcarpet": [
           {
            "colorbar": {
             "outlinewidth": 0,
             "ticks": ""
            },
            "type": "contourcarpet"
           }
          ],
          "heatmap": [
           {
            "colorbar": {
             "outlinewidth": 0,
             "ticks": ""
            },
            "colorscale": [
             [
              0,
              "#0d0887"
             ],
             [
              0.1111111111111111,
              "#46039f"
             ],
             [
              0.2222222222222222,
              "#7201a8"
             ],
             [
              0.3333333333333333,
              "#9c179e"
             ],
             [
              0.4444444444444444,
              "#bd3786"
             ],
             [
              0.5555555555555556,
              "#d8576b"
             ],
             [
              0.6666666666666666,
              "#ed7953"
             ],
             [
              0.7777777777777778,
              "#fb9f3a"
             ],
             [
              0.8888888888888888,
              "#fdca26"
             ],
             [
              1,
              "#f0f921"
             ]
            ],
            "type": "heatmap"
           }
          ],
          "heatmapgl": [
           {
            "colorbar": {
             "outlinewidth": 0,
             "ticks": ""
            },
            "colorscale": [
             [
              0,
              "#0d0887"
             ],
             [
              0.1111111111111111,
              "#46039f"
             ],
             [
              0.2222222222222222,
              "#7201a8"
             ],
             [
              0.3333333333333333,
              "#9c179e"
             ],
             [
              0.4444444444444444,
              "#bd3786"
             ],
             [
              0.5555555555555556,
              "#d8576b"
             ],
             [
              0.6666666666666666,
              "#ed7953"
             ],
             [
              0.7777777777777778,
              "#fb9f3a"
             ],
             [
              0.8888888888888888,
              "#fdca26"
             ],
             [
              1,
              "#f0f921"
             ]
            ],
            "type": "heatmapgl"
           }
          ],
          "histogram": [
           {
            "marker": {
             "pattern": {
              "fillmode": "overlay",
              "size": 10,
              "solidity": 0.2
             }
            },
            "type": "histogram"
           }
          ],
          "histogram2d": [
           {
            "colorbar": {
             "outlinewidth": 0,
             "ticks": ""
            },
            "colorscale": [
             [
              0,
              "#0d0887"
             ],
             [
              0.1111111111111111,
              "#46039f"
             ],
             [
              0.2222222222222222,
              "#7201a8"
             ],
             [
              0.3333333333333333,
              "#9c179e"
             ],
             [
              0.4444444444444444,
              "#bd3786"
             ],
             [
              0.5555555555555556,
              "#d8576b"
             ],
             [
              0.6666666666666666,
              "#ed7953"
             ],
             [
              0.7777777777777778,
              "#fb9f3a"
             ],
             [
              0.8888888888888888,
              "#fdca26"
             ],
             [
              1,
              "#f0f921"
             ]
            ],
            "type": "histogram2d"
           }
          ],
          "histogram2dcontour": [
           {
            "colorbar": {
             "outlinewidth": 0,
             "ticks": ""
            },
            "colorscale": [
             [
              0,
              "#0d0887"
             ],
             [
              0.1111111111111111,
              "#46039f"
             ],
             [
              0.2222222222222222,
              "#7201a8"
             ],
             [
              0.3333333333333333,
              "#9c179e"
             ],
             [
              0.4444444444444444,
              "#bd3786"
             ],
             [
              0.5555555555555556,
              "#d8576b"
             ],
             [
              0.6666666666666666,
              "#ed7953"
             ],
             [
              0.7777777777777778,
              "#fb9f3a"
             ],
             [
              0.8888888888888888,
              "#fdca26"
             ],
             [
              1,
              "#f0f921"
             ]
            ],
            "type": "histogram2dcontour"
           }
          ],
          "mesh3d": [
           {
            "colorbar": {
             "outlinewidth": 0,
             "ticks": ""
            },
            "type": "mesh3d"
           }
          ],
          "parcoords": [
           {
            "line": {
             "colorbar": {
              "outlinewidth": 0,
              "ticks": ""
             }
            },
            "type": "parcoords"
           }
          ],
          "pie": [
           {
            "automargin": true,
            "type": "pie"
           }
          ],
          "scatter": [
           {
            "marker": {
             "colorbar": {
              "outlinewidth": 0,
              "ticks": ""
             }
            },
            "type": "scatter"
           }
          ],
          "scatter3d": [
           {
            "line": {
             "colorbar": {
              "outlinewidth": 0,
              "ticks": ""
             }
            },
            "marker": {
             "colorbar": {
              "outlinewidth": 0,
              "ticks": ""
             }
            },
            "type": "scatter3d"
           }
          ],
          "scattercarpet": [
           {
            "marker": {
             "colorbar": {
              "outlinewidth": 0,
              "ticks": ""
             }
            },
            "type": "scattercarpet"
           }
          ],
          "scattergeo": [
           {
            "marker": {
             "colorbar": {
              "outlinewidth": 0,
              "ticks": ""
             }
            },
            "type": "scattergeo"
           }
          ],
          "scattergl": [
           {
            "marker": {
             "colorbar": {
              "outlinewidth": 0,
              "ticks": ""
             }
            },
            "type": "scattergl"
           }
          ],
          "scattermapbox": [
           {
            "marker": {
             "colorbar": {
              "outlinewidth": 0,
              "ticks": ""
             }
            },
            "type": "scattermapbox"
           }
          ],
          "scatterpolar": [
           {
            "marker": {
             "colorbar": {
              "outlinewidth": 0,
              "ticks": ""
             }
            },
            "type": "scatterpolar"
           }
          ],
          "scatterpolargl": [
           {
            "marker": {
             "colorbar": {
              "outlinewidth": 0,
              "ticks": ""
             }
            },
            "type": "scatterpolargl"
           }
          ],
          "scatterternary": [
           {
            "marker": {
             "colorbar": {
              "outlinewidth": 0,
              "ticks": ""
             }
            },
            "type": "scatterternary"
           }
          ],
          "surface": [
           {
            "colorbar": {
             "outlinewidth": 0,
             "ticks": ""
            },
            "colorscale": [
             [
              0,
              "#0d0887"
             ],
             [
              0.1111111111111111,
              "#46039f"
             ],
             [
              0.2222222222222222,
              "#7201a8"
             ],
             [
              0.3333333333333333,
              "#9c179e"
             ],
             [
              0.4444444444444444,
              "#bd3786"
             ],
             [
              0.5555555555555556,
              "#d8576b"
             ],
             [
              0.6666666666666666,
              "#ed7953"
             ],
             [
              0.7777777777777778,
              "#fb9f3a"
             ],
             [
              0.8888888888888888,
              "#fdca26"
             ],
             [
              1,
              "#f0f921"
             ]
            ],
            "type": "surface"
           }
          ],
          "table": [
           {
            "cells": {
             "fill": {
              "color": "#EBF0F8"
             },
             "line": {
              "color": "white"
             }
            },
            "header": {
             "fill": {
              "color": "#C8D4E3"
             },
             "line": {
              "color": "white"
             }
            },
            "type": "table"
           }
          ]
         },
         "layout": {
          "annotationdefaults": {
           "arrowcolor": "#2a3f5f",
           "arrowhead": 0,
           "arrowwidth": 1
          },
          "autotypenumbers": "strict",
          "coloraxis": {
           "colorbar": {
            "outlinewidth": 0,
            "ticks": ""
           }
          },
          "colorscale": {
           "diverging": [
            [
             0,
             "#8e0152"
            ],
            [
             0.1,
             "#c51b7d"
            ],
            [
             0.2,
             "#de77ae"
            ],
            [
             0.3,
             "#f1b6da"
            ],
            [
             0.4,
             "#fde0ef"
            ],
            [
             0.5,
             "#f7f7f7"
            ],
            [
             0.6,
             "#e6f5d0"
            ],
            [
             0.7,
             "#b8e186"
            ],
            [
             0.8,
             "#7fbc41"
            ],
            [
             0.9,
             "#4d9221"
            ],
            [
             1,
             "#276419"
            ]
           ],
           "sequential": [
            [
             0,
             "#0d0887"
            ],
            [
             0.1111111111111111,
             "#46039f"
            ],
            [
             0.2222222222222222,
             "#7201a8"
            ],
            [
             0.3333333333333333,
             "#9c179e"
            ],
            [
             0.4444444444444444,
             "#bd3786"
            ],
            [
             0.5555555555555556,
             "#d8576b"
            ],
            [
             0.6666666666666666,
             "#ed7953"
            ],
            [
             0.7777777777777778,
             "#fb9f3a"
            ],
            [
             0.8888888888888888,
             "#fdca26"
            ],
            [
             1,
             "#f0f921"
            ]
           ],
           "sequentialminus": [
            [
             0,
             "#0d0887"
            ],
            [
             0.1111111111111111,
             "#46039f"
            ],
            [
             0.2222222222222222,
             "#7201a8"
            ],
            [
             0.3333333333333333,
             "#9c179e"
            ],
            [
             0.4444444444444444,
             "#bd3786"
            ],
            [
             0.5555555555555556,
             "#d8576b"
            ],
            [
             0.6666666666666666,
             "#ed7953"
            ],
            [
             0.7777777777777778,
             "#fb9f3a"
            ],
            [
             0.8888888888888888,
             "#fdca26"
            ],
            [
             1,
             "#f0f921"
            ]
           ]
          },
          "colorway": [
           "#636efa",
           "#EF553B",
           "#00cc96",
           "#ab63fa",
           "#FFA15A",
           "#19d3f3",
           "#FF6692",
           "#B6E880",
           "#FF97FF",
           "#FECB52"
          ],
          "font": {
           "color": "#2a3f5f"
          },
          "geo": {
           "bgcolor": "white",
           "lakecolor": "white",
           "landcolor": "#E5ECF6",
           "showlakes": true,
           "showland": true,
           "subunitcolor": "white"
          },
          "hoverlabel": {
           "align": "left"
          },
          "hovermode": "closest",
          "mapbox": {
           "style": "light"
          },
          "paper_bgcolor": "white",
          "plot_bgcolor": "#E5ECF6",
          "polar": {
           "angularaxis": {
            "gridcolor": "white",
            "linecolor": "white",
            "ticks": ""
           },
           "bgcolor": "#E5ECF6",
           "radialaxis": {
            "gridcolor": "white",
            "linecolor": "white",
            "ticks": ""
           }
          },
          "scene": {
           "xaxis": {
            "backgroundcolor": "#E5ECF6",
            "gridcolor": "white",
            "gridwidth": 2,
            "linecolor": "white",
            "showbackground": true,
            "ticks": "",
            "zerolinecolor": "white"
           },
           "yaxis": {
            "backgroundcolor": "#E5ECF6",
            "gridcolor": "white",
            "gridwidth": 2,
            "linecolor": "white",
            "showbackground": true,
            "ticks": "",
            "zerolinecolor": "white"
           },
           "zaxis": {
            "backgroundcolor": "#E5ECF6",
            "gridcolor": "white",
            "gridwidth": 2,
            "linecolor": "white",
            "showbackground": true,
            "ticks": "",
            "zerolinecolor": "white"
           }
          },
          "shapedefaults": {
           "line": {
            "color": "#2a3f5f"
           }
          },
          "ternary": {
           "aaxis": {
            "gridcolor": "white",
            "linecolor": "white",
            "ticks": ""
           },
           "baxis": {
            "gridcolor": "white",
            "linecolor": "white",
            "ticks": ""
           },
           "bgcolor": "#E5ECF6",
           "caxis": {
            "gridcolor": "white",
            "linecolor": "white",
            "ticks": ""
           }
          },
          "title": {
           "x": 0.05
          },
          "xaxis": {
           "automargin": true,
           "gridcolor": "white",
           "linecolor": "white",
           "ticks": "",
           "title": {
            "standoff": 15
           },
           "zerolinecolor": "white",
           "zerolinewidth": 2
          },
          "yaxis": {
           "automargin": true,
           "gridcolor": "white",
           "linecolor": "white",
           "ticks": "",
           "title": {
            "standoff": 15
           },
           "zerolinecolor": "white",
           "zerolinewidth": 2
          }
         }
        },
        "xaxis": {
         "anchor": "y",
         "domain": [
          0,
          1
         ],
         "title": {
          "text": "PC1"
         }
        },
        "xaxis2": {
         "anchor": "y2",
         "domain": [
          0,
          1
         ],
         "matches": "x",
         "showgrid": true,
         "showticklabels": false
        },
        "yaxis": {
         "anchor": "x",
         "domain": [
          0,
          0.7326
         ],
         "title": {
          "text": "PC2"
         }
        },
        "yaxis2": {
         "anchor": "x2",
         "domain": [
          0.7426,
          1
         ],
         "matches": "y2",
         "showgrid": false,
         "showline": false,
         "showticklabels": false,
         "ticks": ""
        }
       }
      }
     },
     "metadata": {}
    }
   ],
   "metadata": {}
  },
  {
   "cell_type": "code",
   "execution_count": null,
   "source": [],
   "outputs": [],
   "metadata": {}
  }
 ],
 "metadata": {
  "orig_nbformat": 4,
  "language_info": {
   "name": "python",
   "version": "3.9.5",
   "mimetype": "text/x-python",
   "codemirror_mode": {
    "name": "ipython",
    "version": 3
   },
   "pygments_lexer": "ipython3",
   "nbconvert_exporter": "python",
   "file_extension": ".py"
  },
  "kernelspec": {
   "name": "python3",
   "display_name": "Python 3.9.5 64-bit"
  },
  "interpreter": {
   "hash": "40934032bcb06a90ac7a339334f7ca2dfa0afc406221c35b239b940070357232"
  }
 },
 "nbformat": 4,
 "nbformat_minor": 2
}